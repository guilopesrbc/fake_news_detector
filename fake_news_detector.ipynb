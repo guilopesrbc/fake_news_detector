{
 "cells": [
  {
   "cell_type": "markdown",
   "id": "f4f00f97-64ad-4475-a9cb-b9e0ffb2561a",
   "metadata": {
    "id": "f4f00f97-64ad-4475-a9cb-b9e0ffb2561a"
   },
   "source": [
    "# Pré processamento"
   ]
  },
  {
   "cell_type": "code",
   "execution_count": 121,
   "id": "9352d8e8-1510-45b5-88c1-14c4b4dd7216",
   "metadata": {
    "jupyter": {
     "is_executing": true
    },
    "scrolled": true
   },
   "outputs": [],
   "source": [
    "# Importando as bibliotecas e construindo o dataframe\n",
    "import pandas as pd\n",
    "import matplotlib.pyplot as plt\n",
    "import re\n",
    "import numpy as np\n",
    "import faiss\n",
    "import random\n",
    "from sklearn.impute import KNNImputer\n",
    "from sentence_transformers import SentenceTransformer\n",
    "from statistics import mean"
   ]
  },
  {
   "cell_type": "code",
   "execution_count": null,
   "id": "51c04766-683a-4f4e-8617-c2384dc5fd12",
   "metadata": {},
   "outputs": [],
   "source": [
    "# concatenando dois dataframes (um com fake news e outro com noticias verdadeiras)\n",
    "fake_df = pd.read_csv('https://raw.githubusercontent.com/guilopesrbc/fake_news_detector/main/Fake.csv')\n",
    "true_df = pd.read_csv('https://raw.githubusercontent.com/guilopesrbc/fake_news_detector/main/True.csv')\n",
    "# adicionando coluna label, correspondente a veracidade da noticias (1 para verdadeiro e 0 para falsa)\n",
    "fake_df['label'] = 0\n",
    "true_df['label'] = 1\n",
    "\n",
    "combined_df = pd.concat([fake_df, true_df], ignore_index=True)\n",
    "\n",
    "combined_df.to_csv('Combined.csv', index=False)\n",
    "combined_df.reset_index(drop=True,inplace=True)\n",
    "combined_df.head()"
   ]
  },
  {
   "cell_type": "markdown",
   "id": "576566b5-dcd1-4407-852e-089269d7fd58",
   "metadata": {},
   "source": [
    "# Criando coluna num_of_words correspondente ao número de palavras presentes no texto da noticia"
   ]
  },
  {
   "cell_type": "code",
   "execution_count": null,
   "id": "f929a7a3-8328-4843-b963-c7f68b0c7884",
   "metadata": {},
   "outputs": [],
   "source": [
    "# criando coluna num_of_words correspondente ao número de palavras presentes no texto da noticia\n",
    "import re\n",
    "# regex para substituir caracteres que não forem letras e números\n",
    "regex = r'[^a-zA-Z0-9\\s]'\n",
    "combined_df['text'] = combined_df['text'].map(lambda x: re.sub(regex, '', x))\n",
    "combined_df['num_of_words'] = combined_df['text'].map(lambda x: len(x.split()))"
   ]
  },
  {
   "cell_type": "markdown",
   "id": "7d37d1709a239daf",
   "metadata": {},
   "source": [
    "# Criando nova coluna com texto vetorizado "
   ]
  },
  {
   "cell_type": "code",
   "execution_count": null,
   "id": "eeb294044ed1277c",
   "metadata": {
    "ExecuteTime": {
     "start_time": "2024-06-04T21:16:53.772504Z"
    },
    "jupyter": {
     "is_executing": true
    }
   },
   "outputs": [],
   "source": [
    "# Initialize the Sentence Transformer model\n",
    "model = SentenceTransformer('paraphrase-MiniLM-L6-v2')\n",
    "\n",
    "# Function to vectorize the text\n",
    "def vectorize_text(text):\n",
    "    return model.encode(text)\n",
    "\n",
    "# Apply the function to create a new column with vectorized text\n",
    "combined_df['text_vector'] = combined_df['text'].map(vectorize_text)\n",
    "combined_df.to_csv('vectorized_texts.csv', index=False)"
   ]
  },
  {
   "cell_type": "markdown",
   "id": "18c714be",
   "metadata": {},
   "source": [
    "# Reading from csv file "
   ]
  },
  {
   "cell_type": "code",
   "execution_count": 68,
   "id": "53a47c31",
   "metadata": {},
   "outputs": [],
   "source": [
    "# Função para converter strings de vetores em numpy arrays de forma segura\n",
    "def str_to_array(vector_str):\n",
    "    try:\n",
    "        # Remover caracteres desnecessários e converter a string para um numpy array\n",
    "        cleaned_str = vector_str.replace('\\n', '').replace('[', '').replace(']', '').replace('  ', ' ')\n",
    "        return np.fromstring(cleaned_str, sep=' ')\n",
    "    except Exception as e:\n",
    "        print(f\"Error converting string to array: {e}\")\n",
    "        return np.nan\n",
    "\n",
    "def convert_text_vectors_from_str_to_np_arr():\n",
    "    # Certifique-se de que os vetores de texto sejam numpy arrays, não strings\n",
    "    df['text_vector'] = df['text_vector'].map(str_to_array) if isinstance(df['text_vector'][0], str) else df['text_vector']\n",
    "\n",
    "    # Verifique se todos os vetores têm o mesmo tamanho\n",
    "    vector_length = len(df['text_vector'][0])\n",
    "    df['text_vector'] = df['text_vector'].map(lambda x: x if len(x) == vector_length else np.nan).dropna()"
   ]
  },
  {
   "cell_type": "code",
   "execution_count": 69,
   "id": "5d6f7505d4f9e3a5",
   "metadata": {
    "scrolled": true
   },
   "outputs": [
    {
     "data": {
      "text/html": [
       "<div>\n",
       "<style scoped>\n",
       "    .dataframe tbody tr th:only-of-type {\n",
       "        vertical-align: middle;\n",
       "    }\n",
       "\n",
       "    .dataframe tbody tr th {\n",
       "        vertical-align: top;\n",
       "    }\n",
       "\n",
       "    .dataframe thead th {\n",
       "        text-align: right;\n",
       "    }\n",
       "</style>\n",
       "<table border=\"1\" class=\"dataframe\">\n",
       "  <thead>\n",
       "    <tr style=\"text-align: right;\">\n",
       "      <th></th>\n",
       "      <th>title</th>\n",
       "      <th>text</th>\n",
       "      <th>subject</th>\n",
       "      <th>date</th>\n",
       "      <th>label</th>\n",
       "      <th>num_of_words</th>\n",
       "      <th>text_vector</th>\n",
       "    </tr>\n",
       "  </thead>\n",
       "  <tbody>\n",
       "    <tr>\n",
       "      <th>0</th>\n",
       "      <td>Donald Trump Sends Out Embarrassing New Year’...</td>\n",
       "      <td>Donald Trump just couldn t wish all Americans ...</td>\n",
       "      <td>News</td>\n",
       "      <td>December 31, 2017</td>\n",
       "      <td>0</td>\n",
       "      <td>492</td>\n",
       "      <td>[-0.08635634, 0.16764247, 0.40040964, -0.36150...</td>\n",
       "    </tr>\n",
       "    <tr>\n",
       "      <th>1</th>\n",
       "      <td>Drunk Bragging Trump Staffer Started Russian ...</td>\n",
       "      <td>House Intelligence Committee Chairman Devin Nu...</td>\n",
       "      <td>News</td>\n",
       "      <td>December 31, 2017</td>\n",
       "      <td>0</td>\n",
       "      <td>305</td>\n",
       "      <td>[0.00671101, 0.0081033, -0.20852128, -0.087897...</td>\n",
       "    </tr>\n",
       "    <tr>\n",
       "      <th>2</th>\n",
       "      <td>Sheriff David Clarke Becomes An Internet Joke...</td>\n",
       "      <td>On Friday it was revealed that former Milwauke...</td>\n",
       "      <td>News</td>\n",
       "      <td>December 30, 2017</td>\n",
       "      <td>0</td>\n",
       "      <td>579</td>\n",
       "      <td>[-0.362045884, -0.123025492, -0.551379442, -0....</td>\n",
       "    </tr>\n",
       "    <tr>\n",
       "      <th>3</th>\n",
       "      <td>Trump Is So Obsessed He Even Has Obama’s Name...</td>\n",
       "      <td>On Christmas day Donald Trump announced that h...</td>\n",
       "      <td>News</td>\n",
       "      <td>December 29, 2017</td>\n",
       "      <td>0</td>\n",
       "      <td>441</td>\n",
       "      <td>[0.0173586905, 0.00204306096, 0.0736115128, 0....</td>\n",
       "    </tr>\n",
       "    <tr>\n",
       "      <th>4</th>\n",
       "      <td>Pope Francis Just Called Out Donald Trump Dur...</td>\n",
       "      <td>Pope Francis used his annual Christmas Day mes...</td>\n",
       "      <td>News</td>\n",
       "      <td>December 25, 2017</td>\n",
       "      <td>0</td>\n",
       "      <td>420</td>\n",
       "      <td>[-0.079019241, 0.473764718, 0.155274183, -0.05...</td>\n",
       "    </tr>\n",
       "  </tbody>\n",
       "</table>\n",
       "</div>"
      ],
      "text/plain": [
       "                                               title  \\\n",
       "0   Donald Trump Sends Out Embarrassing New Year’...   \n",
       "1   Drunk Bragging Trump Staffer Started Russian ...   \n",
       "2   Sheriff David Clarke Becomes An Internet Joke...   \n",
       "3   Trump Is So Obsessed He Even Has Obama’s Name...   \n",
       "4   Pope Francis Just Called Out Donald Trump Dur...   \n",
       "\n",
       "                                                text subject  \\\n",
       "0  Donald Trump just couldn t wish all Americans ...    News   \n",
       "1  House Intelligence Committee Chairman Devin Nu...    News   \n",
       "2  On Friday it was revealed that former Milwauke...    News   \n",
       "3  On Christmas day Donald Trump announced that h...    News   \n",
       "4  Pope Francis used his annual Christmas Day mes...    News   \n",
       "\n",
       "                date  label  num_of_words  \\\n",
       "0  December 31, 2017      0           492   \n",
       "1  December 31, 2017      0           305   \n",
       "2  December 30, 2017      0           579   \n",
       "3  December 29, 2017      0           441   \n",
       "4  December 25, 2017      0           420   \n",
       "\n",
       "                                         text_vector  \n",
       "0  [-0.08635634, 0.16764247, 0.40040964, -0.36150...  \n",
       "1  [0.00671101, 0.0081033, -0.20852128, -0.087897...  \n",
       "2  [-0.362045884, -0.123025492, -0.551379442, -0....  \n",
       "3  [0.0173586905, 0.00204306096, 0.0736115128, 0....  \n",
       "4  [-0.079019241, 0.473764718, 0.155274183, -0.05...  "
      ]
     },
     "execution_count": 69,
     "metadata": {},
     "output_type": "execute_result"
    }
   ],
   "source": [
    "combined_df = pd.read_csv('vectorized.csv')\n",
    "df = combined_df\n",
    "convert_text_vectors_from_str_to_np_arr()\n",
    "combined_df.head()"
   ]
  },
  {
   "cell_type": "markdown",
   "id": "RAGOlajxjeVa",
   "metadata": {
    "id": "RAGOlajxjeVa"
   },
   "source": [
    "# Setando campos como categóricos"
   ]
  },
  {
   "cell_type": "code",
   "execution_count": 70,
   "id": "iQjPIxrDjsVf",
   "metadata": {
    "colab": {
     "base_uri": "https://localhost:8080/"
    },
    "id": "iQjPIxrDjsVf",
    "outputId": "85494ed3-eb18-4fb7-a3a6-a23195653f72",
    "scrolled": true
   },
   "outputs": [
    {
     "data": {
      "text/plain": [
       "title           object\n",
       "text            object\n",
       "subject         object\n",
       "date            object\n",
       "label            int64\n",
       "num_of_words     int64\n",
       "text_vector     object\n",
       "dtype: object"
      ]
     },
     "execution_count": 70,
     "metadata": {},
     "output_type": "execute_result"
    }
   ],
   "source": [
    "combined_df.dtypes"
   ]
  },
  {
   "cell_type": "code",
   "execution_count": 71,
   "id": "_mqkbvISlhIT",
   "metadata": {
    "id": "_mqkbvISlhIT"
   },
   "outputs": [],
   "source": [
    "combined_df['subject'] = combined_df['subject'].astype('category')"
   ]
  },
  {
   "cell_type": "code",
   "execution_count": 72,
   "id": "Swg9YjI1lvNm",
   "metadata": {
    "colab": {
     "base_uri": "https://localhost:8080/"
    },
    "id": "Swg9YjI1lvNm",
    "outputId": "35b62efb-a4e9-4817-ef25-8ddc8b453f27"
   },
   "outputs": [
    {
     "data": {
      "text/plain": [
       "title             object\n",
       "text              object\n",
       "subject         category\n",
       "date              object\n",
       "label              int64\n",
       "num_of_words       int64\n",
       "text_vector       object\n",
       "dtype: object"
      ]
     },
     "execution_count": 72,
     "metadata": {},
     "output_type": "execute_result"
    }
   ],
   "source": [
    "combined_df.dtypes"
   ]
  },
  {
   "cell_type": "code",
   "execution_count": 73,
   "id": "67f1Tx1Sl0uK",
   "metadata": {
    "id": "67f1Tx1Sl0uK"
   },
   "outputs": [],
   "source": [
    "combined_df['num_subjects'] = combined_df['subject'].cat.codes"
   ]
  },
  {
   "cell_type": "code",
   "execution_count": 74,
   "id": "xbulBfpsmoxN",
   "metadata": {
    "colab": {
     "base_uri": "https://localhost:8080/"
    },
    "id": "xbulBfpsmoxN",
    "outputId": "41cba873-4ad6-4524-e660-e10047e40180"
   },
   "outputs": [
    {
     "data": {
      "text/plain": [
       "title             object\n",
       "text              object\n",
       "subject         category\n",
       "date              object\n",
       "label              int64\n",
       "num_of_words       int64\n",
       "text_vector       object\n",
       "num_subjects        int8\n",
       "dtype: object"
      ]
     },
     "execution_count": 74,
     "metadata": {},
     "output_type": "execute_result"
    }
   ],
   "source": [
    "combined_df.dtypes"
   ]
  },
  {
   "cell_type": "markdown",
   "id": "e32cf869-2e8d-4713-a981-94b3403b06a2",
   "metadata": {
    "id": "e32cf869-2e8d-4713-a981-94b3403b06a2"
   },
   "source": [
    "# Verificando valores nulos e vazios"
   ]
  },
  {
   "cell_type": "code",
   "execution_count": 75,
   "id": "c6486bd3e3c44c4",
   "metadata": {
    "colab": {
     "base_uri": "https://localhost:8080/"
    },
    "id": "c6486bd3e3c44c4",
    "outputId": "897853a4-d580-4452-cfcd-635f91a1399b"
   },
   "outputs": [
    {
     "data": {
      "text/plain": [
       "title           0\n",
       "text            0\n",
       "subject         0\n",
       "date            0\n",
       "label           0\n",
       "num_of_words    0\n",
       "text_vector     0\n",
       "num_subjects    0\n",
       "dtype: int64"
      ]
     },
     "execution_count": 75,
     "metadata": {},
     "output_type": "execute_result"
    }
   ],
   "source": [
    "# verificando valores nulo\n",
    "combined_df.isnull().sum()"
   ]
  },
  {
   "cell_type": "code",
   "execution_count": 76,
   "id": "f2568eca-2d20-4e75-8cd5-474ad652237d",
   "metadata": {
    "colab": {
     "base_uri": "https://localhost:8080/"
    },
    "id": "f2568eca-2d20-4e75-8cd5-474ad652237d",
    "outputId": "ca0e2d36-5a03-43b3-8acc-ef2e7e44c7b5"
   },
   "outputs": [
    {
     "data": {
      "text/plain": [
       "0"
      ]
     },
     "execution_count": 76,
     "metadata": {},
     "output_type": "execute_result"
    }
   ],
   "source": [
    "# verificando valores vazios de titulo\n",
    "remove_spaces = lambda x: ''.join(x.split()) if type(x) == str else x\n",
    "empty_values = combined_df.map(remove_spaces)\n",
    "empty_values['title'] = empty_values['title'] == ''\n",
    "len(empty_values[empty_values['title'] == True])"
   ]
  },
  {
   "cell_type": "code",
   "execution_count": 77,
   "id": "2f793eb2-1eb3-4f86-a58f-03a3f7ae7469",
   "metadata": {
    "colab": {
     "base_uri": "https://localhost:8080/"
    },
    "id": "2f793eb2-1eb3-4f86-a58f-03a3f7ae7469",
    "outputId": "a35bcefc-8621-4220-f869-b24db713b26f"
   },
   "outputs": [
    {
     "data": {
      "text/plain": [
       "631"
      ]
     },
     "execution_count": 77,
     "metadata": {},
     "output_type": "execute_result"
    }
   ],
   "source": [
    "# verificando valores vazios de texto\n",
    "remove_spaces = lambda x: ''.join(x.split()) if type(x) == str else x\n",
    "empty_values = combined_df.map(remove_spaces)\n",
    "empty_values['text'] = empty_values['text'] == ''\n",
    "len(empty_values[empty_values['text'] == True])"
   ]
  },
  {
   "cell_type": "code",
   "execution_count": 78,
   "id": "nsq1FoSBimsI",
   "metadata": {
    "colab": {
     "base_uri": "https://localhost:8080/"
    },
    "id": "nsq1FoSBimsI",
    "outputId": "ff0f5917-c4fa-4f6a-d193-bf2f13340929"
   },
   "outputs": [
    {
     "data": {
      "text/plain": [
       "0"
      ]
     },
     "execution_count": 78,
     "metadata": {},
     "output_type": "execute_result"
    }
   ],
   "source": [
    "# verificando valores vazios de tipo de conteúdo\n",
    "remove_spaces = lambda x: ''.join(x.split()) if type(x) == str else x\n",
    "empty_values = combined_df.map(remove_spaces)\n",
    "empty_values['subject'] = empty_values['subject'] == ''\n",
    "len(empty_values[empty_values['subject'] == True])"
   ]
  },
  {
   "cell_type": "code",
   "execution_count": 79,
   "id": "usVlyjUTmNZN",
   "metadata": {
    "colab": {
     "base_uri": "https://localhost:8080/"
    },
    "id": "usVlyjUTmNZN",
    "outputId": "fa8b20cd-e869-40d2-d2af-1ce46290e78d"
   },
   "outputs": [
    {
     "data": {
      "text/plain": [
       "631"
      ]
     },
     "execution_count": 79,
     "metadata": {},
     "output_type": "execute_result"
    }
   ],
   "source": [
    "# setando valores num_of_words iguais a 0 para nulo\n",
    "df = combined_df\n",
    "df['num_of_words'] = df['num_of_words'].map(lambda x: np.nan if x == 0 else x)\n",
    "df['num_of_words'].isnull().sum()"
   ]
  },
  {
   "cell_type": "markdown",
   "id": "bbddb4f4-7b74-47c2-97e7-0dd07989b07a",
   "metadata": {},
   "source": [
    "# Dividindo o dataset em batches para otimizar o uso do algoritmo KNN  "
   ]
  },
  {
   "cell_type": "code",
   "execution_count": 80,
   "id": "CSZp00bwgcrD",
   "metadata": {
    "colab": {
     "base_uri": "https://localhost:8080/",
     "height": 180
    },
    "id": "CSZp00bwgcrD",
    "outputId": "ebd21a6b-5769-42cf-f0a5-aa92dc200821"
   },
   "outputs": [
    {
     "name": "stdout",
     "output_type": "stream",
     "text": [
      "title            0\n",
      "text             0\n",
      "subject          0\n",
      "date             0\n",
      "label            0\n",
      "num_of_words    55\n",
      "text_vector      0\n",
      "num_subjects     0\n",
      "dtype: int64\n",
      "title            0\n",
      "text             0\n",
      "subject          0\n",
      "date             0\n",
      "label            0\n",
      "num_of_words    62\n",
      "text_vector      0\n",
      "num_subjects     0\n",
      "dtype: int64\n",
      "title            0\n",
      "text             0\n",
      "subject          0\n",
      "date             0\n",
      "label            0\n",
      "num_of_words    68\n",
      "text_vector      0\n",
      "num_subjects     0\n",
      "dtype: int64\n",
      "title            0\n",
      "text             0\n",
      "subject          0\n",
      "date             0\n",
      "label            0\n",
      "num_of_words    74\n",
      "text_vector      0\n",
      "num_subjects     0\n",
      "dtype: int64\n",
      "title            0\n",
      "text             0\n",
      "subject          0\n",
      "date             0\n",
      "label            0\n",
      "num_of_words    78\n",
      "text_vector      0\n",
      "num_subjects     0\n",
      "dtype: int64\n",
      "title            0\n",
      "text             0\n",
      "subject          0\n",
      "date             0\n",
      "label            0\n",
      "num_of_words    66\n",
      "text_vector      0\n",
      "num_subjects     0\n",
      "dtype: int64\n",
      "title            0\n",
      "text             0\n",
      "subject          0\n",
      "date             0\n",
      "label            0\n",
      "num_of_words    69\n",
      "text_vector      0\n",
      "num_subjects     0\n",
      "dtype: int64\n",
      "title            0\n",
      "text             0\n",
      "subject          0\n",
      "date             0\n",
      "label            0\n",
      "num_of_words    88\n",
      "text_vector      0\n",
      "num_subjects     0\n",
      "dtype: int64\n",
      "title            0\n",
      "text             0\n",
      "subject          0\n",
      "date             0\n",
      "label            0\n",
      "num_of_words    71\n",
      "text_vector      0\n",
      "num_subjects     0\n",
      "dtype: int64\n"
     ]
    }
   ],
   "source": [
    "batch_size = 5000\n",
    "df_numpy = df.to_numpy()\n",
    "\n",
    "# Embaralhar os dados,\n",
    "np.random.shuffle(df_numpy)\n",
    "# Dividir o dataset em batches,\n",
    "n_batches = int(np.ceil(df_numpy.shape[0] / batch_size))  # Número de batches\n",
    "batches = np.array_split(df_numpy, n_batches)\n",
    "batches_df = [pd.DataFrame(batch, columns=df.columns) for batch in batches]\n",
    "df = pd.DataFrame(df_numpy, columns=df.columns)\n",
    "\n",
    "for batch in batches_df:\n",
    "    print(batch.isnull().sum())"
   ]
  },
  {
   "cell_type": "code",
   "execution_count": 81,
   "id": "eZk4ITbHhdl8",
   "metadata": {
    "id": "eZk4ITbHhdl8"
   },
   "outputs": [],
   "source": [
    "imputer = KNNImputer(n_neighbors=3)\n",
    "df_num_of_words_knn = [pd.DataFrame(imputer.fit_transform(batch[['num_subjects', 'num_of_words', 'label']]), columns=df[['num_subjects', 'num_of_words', 'label']].columns) for batch in batches_df]\n"
   ]
  },
  {
   "cell_type": "code",
   "execution_count": 82,
   "id": "48a67031-e013-4628-921a-0451b1a2a970",
   "metadata": {},
   "outputs": [
    {
     "name": "stdout",
     "output_type": "stream",
     "text": [
      "num_subjects    0\n",
      "num_of_words    0\n",
      "label           0\n",
      "dtype: int64\n",
      "num_subjects    0\n",
      "num_of_words    0\n",
      "label           0\n",
      "dtype: int64\n",
      "num_subjects    0\n",
      "num_of_words    0\n",
      "label           0\n",
      "dtype: int64\n",
      "num_subjects    0\n",
      "num_of_words    0\n",
      "label           0\n",
      "dtype: int64\n",
      "num_subjects    0\n",
      "num_of_words    0\n",
      "label           0\n",
      "dtype: int64\n",
      "num_subjects    0\n",
      "num_of_words    0\n",
      "label           0\n",
      "dtype: int64\n",
      "num_subjects    0\n",
      "num_of_words    0\n",
      "label           0\n",
      "dtype: int64\n",
      "num_subjects    0\n",
      "num_of_words    0\n",
      "label           0\n",
      "dtype: int64\n",
      "num_subjects    0\n",
      "num_of_words    0\n",
      "label           0\n",
      "dtype: int64\n"
     ]
    }
   ],
   "source": [
    "df_concatened = pd.DataFrame()\n",
    "for batch in df_num_of_words_knn:\n",
    "    df_concatened = pd.concat([df_concatened, batch], ignore_index=True)\n",
    "    print(batch.isnull().sum())"
   ]
  },
  {
   "cell_type": "code",
   "execution_count": 83,
   "id": "53079576-f596-4b2f-9a34-82c85fe469c6",
   "metadata": {},
   "outputs": [
    {
     "data": {
      "text/plain": [
       "title           0\n",
       "text            0\n",
       "subject         0\n",
       "date            0\n",
       "label           0\n",
       "num_of_words    0\n",
       "text_vector     0\n",
       "num_subjects    0\n",
       "dtype: int64"
      ]
     },
     "execution_count": 83,
     "metadata": {},
     "output_type": "execute_result"
    }
   ],
   "source": [
    "df['num_of_words'] = df_concatened['num_of_words']\n",
    "df.isnull().sum()"
   ]
  },
  {
   "cell_type": "markdown",
   "id": "f7efff11-ef48-4dff-9c89-3f271a903b22",
   "metadata": {
    "id": "f7efff11-ef48-4dff-9c89-3f271a903b22"
   },
   "source": [
    "# Normalização"
   ]
  },
  {
   "cell_type": "code",
   "execution_count": 84,
   "id": "2687ba42-7b89-42a3-9863-c5d04e4d88f7",
   "metadata": {
    "colab": {
     "base_uri": "https://localhost:8080/",
     "height": 162
    },
    "id": "2687ba42-7b89-42a3-9863-c5d04e4d88f7",
    "outputId": "e39ab2be-6a71-49aa-b48d-799ef80f5538"
   },
   "outputs": [
    {
     "data": {
      "text/html": [
       "<div>\n",
       "<style scoped>\n",
       "    .dataframe tbody tr th:only-of-type {\n",
       "        vertical-align: middle;\n",
       "    }\n",
       "\n",
       "    .dataframe tbody tr th {\n",
       "        vertical-align: top;\n",
       "    }\n",
       "\n",
       "    .dataframe thead th {\n",
       "        text-align: right;\n",
       "    }\n",
       "</style>\n",
       "<table border=\"1\" class=\"dataframe\">\n",
       "  <thead>\n",
       "    <tr style=\"text-align: right;\">\n",
       "      <th></th>\n",
       "      <th>title</th>\n",
       "      <th>text</th>\n",
       "      <th>subject</th>\n",
       "      <th>date</th>\n",
       "      <th>label</th>\n",
       "      <th>num_of_words</th>\n",
       "      <th>text_vector</th>\n",
       "      <th>num_subjects</th>\n",
       "    </tr>\n",
       "  </thead>\n",
       "  <tbody>\n",
       "    <tr>\n",
       "      <th>0</th>\n",
       "      <td>BOOM! DONALD TRUMP HAMMERS BERNIE SANDERS WITH...</td>\n",
       "      <td>Bernie Sanders can t effectively handle two lo...</td>\n",
       "      <td>left-news</td>\n",
       "      <td>Aug 24, 2015</td>\n",
       "      <td>0</td>\n",
       "      <td>65.0</td>\n",
       "      <td>[-0.05766127, -0.08229423, -0.47802344, -0.115...</td>\n",
       "      <td>4</td>\n",
       "    </tr>\n",
       "    <tr>\n",
       "      <th>1</th>\n",
       "      <td>Austria will stay pro-European, election victo...</td>\n",
       "      <td>BRUSSELS Reuters  Austria s likely next chance...</td>\n",
       "      <td>worldnews</td>\n",
       "      <td>October 19, 2017</td>\n",
       "      <td>1</td>\n",
       "      <td>294.0</td>\n",
       "      <td>[-0.03438837, 0.29156557, -0.17497562, -0.0949...</td>\n",
       "      <td>7</td>\n",
       "    </tr>\n",
       "    <tr>\n",
       "      <th>2</th>\n",
       "      <td>Zimbabwe's top general ready \"to step in\" to e...</td>\n",
       "      <td>HARARE Reuters  Zimbabwe s top general warned ...</td>\n",
       "      <td>worldnews</td>\n",
       "      <td>November 13, 2017</td>\n",
       "      <td>1</td>\n",
       "      <td>523.0</td>\n",
       "      <td>[-0.255922377, 0.441673011, 0.128997251, -0.17...</td>\n",
       "      <td>7</td>\n",
       "    </tr>\n",
       "    <tr>\n",
       "      <th>3</th>\n",
       "      <td>Red Cross Federation chief vows corruption cra...</td>\n",
       "      <td>GENEVA Reuters  The new president of the world...</td>\n",
       "      <td>worldnews</td>\n",
       "      <td>November 7, 2017</td>\n",
       "      <td>1</td>\n",
       "      <td>316.0</td>\n",
       "      <td>[-0.05711896, 0.35245728, -0.37331748, -0.2392...</td>\n",
       "      <td>7</td>\n",
       "    </tr>\n",
       "    <tr>\n",
       "      <th>4</th>\n",
       "      <td>WATCH: Giuliani Says A Woman Can’t Be Preside...</td>\n",
       "      <td>Rudy Giuliani not only insulted the intelligen...</td>\n",
       "      <td>News</td>\n",
       "      <td>October 2, 2016</td>\n",
       "      <td>0</td>\n",
       "      <td>724.0</td>\n",
       "      <td>[-0.157160923, 0.253624171, 0.105078742, 0.316...</td>\n",
       "      <td>2</td>\n",
       "    </tr>\n",
       "    <tr>\n",
       "      <th>...</th>\n",
       "      <td>...</td>\n",
       "      <td>...</td>\n",
       "      <td>...</td>\n",
       "      <td>...</td>\n",
       "      <td>...</td>\n",
       "      <td>...</td>\n",
       "      <td>...</td>\n",
       "      <td>...</td>\n",
       "    </tr>\n",
       "    <tr>\n",
       "      <th>44893</th>\n",
       "      <td>Venezuelans face growing queues to buy gasoline</td>\n",
       "      <td>PUERTO ORDAZ Venezuela Reuters  Venezuelan dri...</td>\n",
       "      <td>worldnews</td>\n",
       "      <td>September 21, 2017</td>\n",
       "      <td>1</td>\n",
       "      <td>465.0</td>\n",
       "      <td>[-0.20967855, -0.10863805, -0.06991965, 0.2554...</td>\n",
       "      <td>7</td>\n",
       "    </tr>\n",
       "    <tr>\n",
       "      <th>44894</th>\n",
       "      <td>SHOCKING ACT OF “TOLERANCE”: TRANSGENDER THUG ...</td>\n",
       "      <td>Transgender activist and bully Hanna Zoey Tur ...</td>\n",
       "      <td>left-news</td>\n",
       "      <td>Jul 17, 2015</td>\n",
       "      <td>0</td>\n",
       "      <td>45.0</td>\n",
       "      <td>[0.16544178, -0.07164668, -0.40392208, 0.24336...</td>\n",
       "      <td>4</td>\n",
       "    </tr>\n",
       "    <tr>\n",
       "      <th>44895</th>\n",
       "      <td>U.N. special envoy on Syria says had 'useful' ...</td>\n",
       "      <td>MOSCOW Reuters  United Nations special envoy o...</td>\n",
       "      <td>worldnews</td>\n",
       "      <td>November 24, 2017</td>\n",
       "      <td>1</td>\n",
       "      <td>63.0</td>\n",
       "      <td>[0.27024585, 0.420697957, -0.117045283, 0.1418...</td>\n",
       "      <td>7</td>\n",
       "    </tr>\n",
       "    <tr>\n",
       "      <th>44896</th>\n",
       "      <td>BRAINWASHED CHILDREN MOCK President Trump in D...</td>\n",
       "      <td>A disturbing video published by The Washington...</td>\n",
       "      <td>politics</td>\n",
       "      <td>Jul 3, 2017</td>\n",
       "      <td>0</td>\n",
       "      <td>259.0</td>\n",
       "      <td>[-0.0039392, -0.19550677, -0.30443633, -0.3015...</td>\n",
       "      <td>5</td>\n",
       "    </tr>\n",
       "    <tr>\n",
       "      <th>44897</th>\n",
       "      <td>ALL HELL IS ABOUT TO BREAK LOOSE Between Europ...</td>\n",
       "      <td>European nations have naively opened their bor...</td>\n",
       "      <td>Government News</td>\n",
       "      <td>Feb 25, 2016</td>\n",
       "      <td>0</td>\n",
       "      <td>622.0</td>\n",
       "      <td>[0.161406234, 0.29418841, -0.605549991, -0.282...</td>\n",
       "      <td>0</td>\n",
       "    </tr>\n",
       "  </tbody>\n",
       "</table>\n",
       "<p>44898 rows × 8 columns</p>\n",
       "</div>"
      ],
      "text/plain": [
       "                                                   title  \\\n",
       "0      BOOM! DONALD TRUMP HAMMERS BERNIE SANDERS WITH...   \n",
       "1      Austria will stay pro-European, election victo...   \n",
       "2      Zimbabwe's top general ready \"to step in\" to e...   \n",
       "3      Red Cross Federation chief vows corruption cra...   \n",
       "4       WATCH: Giuliani Says A Woman Can’t Be Preside...   \n",
       "...                                                  ...   \n",
       "44893    Venezuelans face growing queues to buy gasoline   \n",
       "44894  SHOCKING ACT OF “TOLERANCE”: TRANSGENDER THUG ...   \n",
       "44895  U.N. special envoy on Syria says had 'useful' ...   \n",
       "44896  BRAINWASHED CHILDREN MOCK President Trump in D...   \n",
       "44897  ALL HELL IS ABOUT TO BREAK LOOSE Between Europ...   \n",
       "\n",
       "                                                    text          subject  \\\n",
       "0      Bernie Sanders can t effectively handle two lo...        left-news   \n",
       "1      BRUSSELS Reuters  Austria s likely next chance...        worldnews   \n",
       "2      HARARE Reuters  Zimbabwe s top general warned ...        worldnews   \n",
       "3      GENEVA Reuters  The new president of the world...        worldnews   \n",
       "4      Rudy Giuliani not only insulted the intelligen...             News   \n",
       "...                                                  ...              ...   \n",
       "44893  PUERTO ORDAZ Venezuela Reuters  Venezuelan dri...        worldnews   \n",
       "44894  Transgender activist and bully Hanna Zoey Tur ...        left-news   \n",
       "44895  MOSCOW Reuters  United Nations special envoy o...        worldnews   \n",
       "44896  A disturbing video published by The Washington...         politics   \n",
       "44897  European nations have naively opened their bor...  Government News   \n",
       "\n",
       "                      date label  num_of_words  \\\n",
       "0             Aug 24, 2015     0          65.0   \n",
       "1        October 19, 2017      1         294.0   \n",
       "2       November 13, 2017      1         523.0   \n",
       "3        November 7, 2017      1         316.0   \n",
       "4          October 2, 2016     0         724.0   \n",
       "...                    ...   ...           ...   \n",
       "44893  September 21, 2017      1         465.0   \n",
       "44894         Jul 17, 2015     0          45.0   \n",
       "44895   November 24, 2017      1          63.0   \n",
       "44896          Jul 3, 2017     0         259.0   \n",
       "44897         Feb 25, 2016     0         622.0   \n",
       "\n",
       "                                             text_vector num_subjects  \n",
       "0      [-0.05766127, -0.08229423, -0.47802344, -0.115...            4  \n",
       "1      [-0.03438837, 0.29156557, -0.17497562, -0.0949...            7  \n",
       "2      [-0.255922377, 0.441673011, 0.128997251, -0.17...            7  \n",
       "3      [-0.05711896, 0.35245728, -0.37331748, -0.2392...            7  \n",
       "4      [-0.157160923, 0.253624171, 0.105078742, 0.316...            2  \n",
       "...                                                  ...          ...  \n",
       "44893  [-0.20967855, -0.10863805, -0.06991965, 0.2554...            7  \n",
       "44894  [0.16544178, -0.07164668, -0.40392208, 0.24336...            4  \n",
       "44895  [0.27024585, 0.420697957, -0.117045283, 0.1418...            7  \n",
       "44896  [-0.0039392, -0.19550677, -0.30443633, -0.3015...            5  \n",
       "44897  [0.161406234, 0.29418841, -0.605549991, -0.282...            0  \n",
       "\n",
       "[44898 rows x 8 columns]"
      ]
     },
     "execution_count": 84,
     "metadata": {},
     "output_type": "execute_result"
    }
   ],
   "source": [
    "df"
   ]
  },
  {
   "cell_type": "code",
   "execution_count": 85,
   "id": "497986cc-bd8b-4209-944d-e0e09ca17394",
   "metadata": {
    "colab": {
     "base_uri": "https://localhost:8080/",
     "height": 206
    },
    "id": "497986cc-bd8b-4209-944d-e0e09ca17394",
    "outputId": "183a1104-d366-4c6c-b7df-235e81e9e846"
   },
   "outputs": [
    {
     "data": {
      "text/html": [
       "<div>\n",
       "<style scoped>\n",
       "    .dataframe tbody tr th:only-of-type {\n",
       "        vertical-align: middle;\n",
       "    }\n",
       "\n",
       "    .dataframe tbody tr th {\n",
       "        vertical-align: top;\n",
       "    }\n",
       "\n",
       "    .dataframe thead th {\n",
       "        text-align: right;\n",
       "    }\n",
       "</style>\n",
       "<table border=\"1\" class=\"dataframe\">\n",
       "  <thead>\n",
       "    <tr style=\"text-align: right;\">\n",
       "      <th></th>\n",
       "      <th>title</th>\n",
       "      <th>text</th>\n",
       "      <th>subject</th>\n",
       "      <th>date</th>\n",
       "      <th>label</th>\n",
       "      <th>num_of_words</th>\n",
       "      <th>text_vector</th>\n",
       "      <th>num_subjects</th>\n",
       "      <th>subject_norm</th>\n",
       "      <th>num_of_words_norm</th>\n",
       "    </tr>\n",
       "  </thead>\n",
       "  <tbody>\n",
       "    <tr>\n",
       "      <th>0</th>\n",
       "      <td>BOOM! DONALD TRUMP HAMMERS BERNIE SANDERS WITH...</td>\n",
       "      <td>Bernie Sanders can t effectively handle two lo...</td>\n",
       "      <td>left-news</td>\n",
       "      <td>Aug 24, 2015</td>\n",
       "      <td>0</td>\n",
       "      <td>65.0</td>\n",
       "      <td>[-0.05766127, -0.08229423, -0.47802344, -0.115...</td>\n",
       "      <td>4</td>\n",
       "      <td>0.571429</td>\n",
       "      <td>0.007881</td>\n",
       "    </tr>\n",
       "    <tr>\n",
       "      <th>1</th>\n",
       "      <td>Austria will stay pro-European, election victo...</td>\n",
       "      <td>BRUSSELS Reuters  Austria s likely next chance...</td>\n",
       "      <td>worldnews</td>\n",
       "      <td>October 19, 2017</td>\n",
       "      <td>1</td>\n",
       "      <td>294.0</td>\n",
       "      <td>[-0.03438837, 0.29156557, -0.17497562, -0.0949...</td>\n",
       "      <td>7</td>\n",
       "      <td>1.000000</td>\n",
       "      <td>0.036079</td>\n",
       "    </tr>\n",
       "    <tr>\n",
       "      <th>2</th>\n",
       "      <td>Zimbabwe's top general ready \"to step in\" to e...</td>\n",
       "      <td>HARARE Reuters  Zimbabwe s top general warned ...</td>\n",
       "      <td>worldnews</td>\n",
       "      <td>November 13, 2017</td>\n",
       "      <td>1</td>\n",
       "      <td>523.0</td>\n",
       "      <td>[-0.255922377, 0.441673011, 0.128997251, -0.17...</td>\n",
       "      <td>7</td>\n",
       "      <td>1.000000</td>\n",
       "      <td>0.064278</td>\n",
       "    </tr>\n",
       "    <tr>\n",
       "      <th>3</th>\n",
       "      <td>Red Cross Federation chief vows corruption cra...</td>\n",
       "      <td>GENEVA Reuters  The new president of the world...</td>\n",
       "      <td>worldnews</td>\n",
       "      <td>November 7, 2017</td>\n",
       "      <td>1</td>\n",
       "      <td>316.0</td>\n",
       "      <td>[-0.05711896, 0.35245728, -0.37331748, -0.2392...</td>\n",
       "      <td>7</td>\n",
       "      <td>1.000000</td>\n",
       "      <td>0.038788</td>\n",
       "    </tr>\n",
       "    <tr>\n",
       "      <th>4</th>\n",
       "      <td>WATCH: Giuliani Says A Woman Can’t Be Preside...</td>\n",
       "      <td>Rudy Giuliani not only insulted the intelligen...</td>\n",
       "      <td>News</td>\n",
       "      <td>October 2, 2016</td>\n",
       "      <td>0</td>\n",
       "      <td>724.0</td>\n",
       "      <td>[-0.157160923, 0.253624171, 0.105078742, 0.316...</td>\n",
       "      <td>2</td>\n",
       "      <td>0.285714</td>\n",
       "      <td>0.089028</td>\n",
       "    </tr>\n",
       "  </tbody>\n",
       "</table>\n",
       "</div>"
      ],
      "text/plain": [
       "                                               title  \\\n",
       "0  BOOM! DONALD TRUMP HAMMERS BERNIE SANDERS WITH...   \n",
       "1  Austria will stay pro-European, election victo...   \n",
       "2  Zimbabwe's top general ready \"to step in\" to e...   \n",
       "3  Red Cross Federation chief vows corruption cra...   \n",
       "4   WATCH: Giuliani Says A Woman Can’t Be Preside...   \n",
       "\n",
       "                                                text    subject  \\\n",
       "0  Bernie Sanders can t effectively handle two lo...  left-news   \n",
       "1  BRUSSELS Reuters  Austria s likely next chance...  worldnews   \n",
       "2  HARARE Reuters  Zimbabwe s top general warned ...  worldnews   \n",
       "3  GENEVA Reuters  The new president of the world...  worldnews   \n",
       "4  Rudy Giuliani not only insulted the intelligen...       News   \n",
       "\n",
       "                 date label  num_of_words  \\\n",
       "0        Aug 24, 2015     0          65.0   \n",
       "1   October 19, 2017      1         294.0   \n",
       "2  November 13, 2017      1         523.0   \n",
       "3   November 7, 2017      1         316.0   \n",
       "4     October 2, 2016     0         724.0   \n",
       "\n",
       "                                         text_vector num_subjects  \\\n",
       "0  [-0.05766127, -0.08229423, -0.47802344, -0.115...            4   \n",
       "1  [-0.03438837, 0.29156557, -0.17497562, -0.0949...            7   \n",
       "2  [-0.255922377, 0.441673011, 0.128997251, -0.17...            7   \n",
       "3  [-0.05711896, 0.35245728, -0.37331748, -0.2392...            7   \n",
       "4  [-0.157160923, 0.253624171, 0.105078742, 0.316...            2   \n",
       "\n",
       "   subject_norm  num_of_words_norm  \n",
       "0      0.571429           0.007881  \n",
       "1      1.000000           0.036079  \n",
       "2      1.000000           0.064278  \n",
       "3      1.000000           0.038788  \n",
       "4      0.285714           0.089028  "
      ]
     },
     "execution_count": 85,
     "metadata": {},
     "output_type": "execute_result"
    }
   ],
   "source": [
    "# nomarlizando entre 0 e 1 min-max usando scikit\n",
    "from sklearn.preprocessing import StandardScaler, MinMaxScaler\n",
    "scaler = MinMaxScaler()\n",
    "df['subject_norm'] = scaler.fit_transform(df[['num_subjects']])\n",
    "df['num_of_words_norm'] = scaler.fit_transform(df[['num_of_words']])\n",
    "df.head()"
   ]
  },
  {
   "cell_type": "code",
   "execution_count": 86,
   "id": "602cd591-0bb5-4dd9-859e-10a580df4e8b",
   "metadata": {
    "colab": {
     "base_uri": "https://localhost:8080/"
    },
    "id": "602cd591-0bb5-4dd9-859e-10a580df4e8b",
    "outputId": "05a70325-bd44-4a30-8929-ecc31e49d4ce"
   },
   "outputs": [
    {
     "data": {
      "text/plain": [
       "count    44898.000000\n",
       "mean         0.674274\n",
       "std          0.293159\n",
       "min          0.000000\n",
       "25%          0.285714\n",
       "50%          0.714286\n",
       "75%          0.857143\n",
       "max          1.000000\n",
       "Name: subject_norm, dtype: float64"
      ]
     },
     "execution_count": 86,
     "metadata": {},
     "output_type": "execute_result"
    }
   ],
   "source": [
    "df['subject_norm'].describe()"
   ]
  },
  {
   "cell_type": "code",
   "execution_count": 87,
   "id": "adaed56c-08df-4407-8434-8fffa7836253",
   "metadata": {
    "colab": {
     "base_uri": "https://localhost:8080/"
    },
    "id": "adaed56c-08df-4407-8434-8fffa7836253",
    "outputId": "e6abf696-5747-43c0-b7c9-441a351c646d"
   },
   "outputs": [
    {
     "data": {
      "text/plain": [
       "count    44898.000000\n",
       "mean         0.050478\n",
       "std          0.042893\n",
       "min          0.000000\n",
       "25%          0.026228\n",
       "50%          0.044822\n",
       "75%          0.063416\n",
       "max          1.000000\n",
       "Name: num_of_words_norm, dtype: float64"
      ]
     },
     "execution_count": 87,
     "metadata": {},
     "output_type": "execute_result"
    }
   ],
   "source": [
    "df['num_of_words_norm'].describe()"
   ]
  },
  {
   "cell_type": "markdown",
   "id": "e20ec25f-8622-4bba-a972-9b1334dc0cdc",
   "metadata": {
    "id": "e20ec25f-8622-4bba-a972-9b1334dc0cdc"
   },
   "source": [
    "# Discretização"
   ]
  },
  {
   "cell_type": "code",
   "execution_count": 88,
   "id": "08aebc09-5ca0-48db-9f23-cbb011753c6e",
   "metadata": {
    "id": "08aebc09-5ca0-48db-9f23-cbb011753c6e"
   },
   "outputs": [],
   "source": [
    "# discretizando com 10 bins com mesmo intervalo\n",
    "df['num_of_words_dist'] = pd.cut(df['num_of_words'], 10)"
   ]
  },
  {
   "cell_type": "code",
   "execution_count": 89,
   "id": "Wtz6u64K-CUY",
   "metadata": {
    "colab": {
     "base_uri": "https://localhost:8080/"
    },
    "id": "Wtz6u64K-CUY",
    "outputId": "e5aecf80-baea-48f6-fbae-bca70bf0dc0b"
   },
   "outputs": [
    {
     "data": {
      "text/plain": [
       "num_of_words_dist\n",
       "(-7.121, 813.1]     41508\n",
       "(813.1, 1625.2]      3028\n",
       "(1625.2, 2437.3]      201\n",
       "(2437.3, 3249.4]       76\n",
       "(3249.4, 4061.5]       44\n",
       "(4061.5, 4873.6]       13\n",
       "(4873.6, 5685.7]       12\n",
       "(5685.7, 6497.8]        6\n",
       "(6497.8, 7309.9]        6\n",
       "(7309.9, 8122.0]        4\n",
       "Name: count, dtype: int64"
      ]
     },
     "execution_count": 89,
     "metadata": {},
     "output_type": "execute_result"
    }
   ],
   "source": [
    "df['num_of_words_dist'].value_counts()"
   ]
  },
  {
   "cell_type": "code",
   "execution_count": 90,
   "id": "msjQA5XX-MqA",
   "metadata": {
    "colab": {
     "base_uri": "https://localhost:8080/",
     "height": 552
    },
    "id": "msjQA5XX-MqA",
    "outputId": "e8d8fa14-c642-4aac-c4b2-be877e98ac6b"
   },
   "outputs": [
    {
     "data": {
      "image/png": "[encoded data removed]",
      "text/plain": [
       "<Figure size 640x480 with 1 Axes>"
      ]
     },
     "metadata": {},
     "output_type": "display_data"
    }
   ],
   "source": [
    "df['num_of_words_dist'].value_counts().plot(kind=\"bar\")\n",
    "plt.yscale(\"log\")"
   ]
  },
  {
   "cell_type": "markdown",
   "id": "bff1f92e-8394-41bb-af5b-6e722925f8ac",
   "metadata": {
    "id": "18ad8fdf-7952-419b-a958-1ea6dc9a595c"
   },
   "source": [
    "# Detecção de outliers"
   ]
  },
  {
   "cell_type": "code",
   "execution_count": 91,
   "id": "f8276b54-8650-435a-8159-c43d37d7ea20",
   "metadata": {},
   "outputs": [
    {
     "data": {
      "text/html": [
       "<div>\n",
       "<style scoped>\n",
       "    .dataframe tbody tr th:only-of-type {\n",
       "        vertical-align: middle;\n",
       "    }\n",
       "\n",
       "    .dataframe tbody tr th {\n",
       "        vertical-align: top;\n",
       "    }\n",
       "\n",
       "    .dataframe thead th {\n",
       "        text-align: right;\n",
       "    }\n",
       "</style>\n",
       "<table border=\"1\" class=\"dataframe\">\n",
       "  <thead>\n",
       "    <tr style=\"text-align: right;\">\n",
       "      <th></th>\n",
       "      <th>title</th>\n",
       "      <th>text</th>\n",
       "      <th>subject</th>\n",
       "      <th>date</th>\n",
       "      <th>label</th>\n",
       "      <th>num_of_words</th>\n",
       "      <th>text_vector</th>\n",
       "      <th>num_subjects</th>\n",
       "      <th>subject_norm</th>\n",
       "      <th>num_of_words_norm</th>\n",
       "      <th>num_of_words_dist</th>\n",
       "    </tr>\n",
       "  </thead>\n",
       "  <tbody>\n",
       "    <tr>\n",
       "      <th>3508</th>\n",
       "      <td>Britain preparing to transfer 400 million poun...</td>\n",
       "      <td>LONDON Reuters  Britain is preparing to transf...</td>\n",
       "      <td>worldnews</td>\n",
       "      <td>November 16, 2017</td>\n",
       "      <td>1</td>\n",
       "      <td>147.0</td>\n",
       "      <td>[0.06184462, -0.09861609, -0.20703124, -0.1311...</td>\n",
       "      <td>7</td>\n",
       "      <td>1.0</td>\n",
       "      <td>0.017978</td>\n",
       "      <td>(-7.121, 813.1]</td>\n",
       "    </tr>\n",
       "    <tr>\n",
       "      <th>4459</th>\n",
       "      <td>Libya considering UK extradition request for M...</td>\n",
       "      <td>TRIPOLI Reuters  Libyan authorities are proces...</td>\n",
       "      <td>worldnews</td>\n",
       "      <td>November 2, 2017</td>\n",
       "      <td>1</td>\n",
       "      <td>465.0</td>\n",
       "      <td>[-0.0966399908, 0.192807794, 0.0508902334, -0....</td>\n",
       "      <td>7</td>\n",
       "      <td>1.0</td>\n",
       "      <td>0.057136</td>\n",
       "      <td>(-7.121, 813.1]</td>\n",
       "    </tr>\n",
       "    <tr>\n",
       "      <th>4825</th>\n",
       "      <td>Philippine police chief defends deadly drug wa...</td>\n",
       "      <td>MANILA Reuters  The police chief of the Philip...</td>\n",
       "      <td>worldnews</td>\n",
       "      <td>December 20, 2017</td>\n",
       "      <td>1</td>\n",
       "      <td>607.0</td>\n",
       "      <td>[0.0119605586, 0.210904554, 0.0373840332, 0.13...</td>\n",
       "      <td>7</td>\n",
       "      <td>1.0</td>\n",
       "      <td>0.074621</td>\n",
       "      <td>(-7.121, 813.1]</td>\n",
       "    </tr>\n",
       "    <tr>\n",
       "      <th>5468</th>\n",
       "      <td>Islamic State claims air base attack in Egypt'...</td>\n",
       "      <td>CAIRO Reuters  Islamic State has claimed an at...</td>\n",
       "      <td>worldnews</td>\n",
       "      <td>December 20, 2017</td>\n",
       "      <td>1</td>\n",
       "      <td>187.0</td>\n",
       "      <td>[-0.0794286355, 0.383361816, -0.289002925, -0....</td>\n",
       "      <td>7</td>\n",
       "      <td>1.0</td>\n",
       "      <td>0.022904</td>\n",
       "      <td>(-7.121, 813.1]</td>\n",
       "    </tr>\n",
       "    <tr>\n",
       "      <th>5741</th>\n",
       "      <td>U.S. creating 'sensational hype' over China's ...</td>\n",
       "      <td>BEIJING Reuters  The United States has created...</td>\n",
       "      <td>worldnews</td>\n",
       "      <td>December 21, 2017</td>\n",
       "      <td>1</td>\n",
       "      <td>360.0</td>\n",
       "      <td>[-0.21992368, -0.17033483, -0.15842369, -0.240...</td>\n",
       "      <td>7</td>\n",
       "      <td>1.0</td>\n",
       "      <td>0.044206</td>\n",
       "      <td>(-7.121, 813.1]</td>\n",
       "    </tr>\n",
       "  </tbody>\n",
       "</table>\n",
       "</div>"
      ],
      "text/plain": [
       "                                                  title  \\\n",
       "3508  Britain preparing to transfer 400 million poun...   \n",
       "4459  Libya considering UK extradition request for M...   \n",
       "4825  Philippine police chief defends deadly drug wa...   \n",
       "5468  Islamic State claims air base attack in Egypt'...   \n",
       "5741  U.S. creating 'sensational hype' over China's ...   \n",
       "\n",
       "                                                   text    subject  \\\n",
       "3508  LONDON Reuters  Britain is preparing to transf...  worldnews   \n",
       "4459  TRIPOLI Reuters  Libyan authorities are proces...  worldnews   \n",
       "4825  MANILA Reuters  The police chief of the Philip...  worldnews   \n",
       "5468  CAIRO Reuters  Islamic State has claimed an at...  worldnews   \n",
       "5741  BEIJING Reuters  The United States has created...  worldnews   \n",
       "\n",
       "                    date label  num_of_words  \\\n",
       "3508  November 16, 2017      1         147.0   \n",
       "4459   November 2, 2017      1         465.0   \n",
       "4825  December 20, 2017      1         607.0   \n",
       "5468  December 20, 2017      1         187.0   \n",
       "5741  December 21, 2017      1         360.0   \n",
       "\n",
       "                                            text_vector num_subjects  \\\n",
       "3508  [0.06184462, -0.09861609, -0.20703124, -0.1311...            7   \n",
       "4459  [-0.0966399908, 0.192807794, 0.0508902334, -0....            7   \n",
       "4825  [0.0119605586, 0.210904554, 0.0373840332, 0.13...            7   \n",
       "5468  [-0.0794286355, 0.383361816, -0.289002925, -0....            7   \n",
       "5741  [-0.21992368, -0.17033483, -0.15842369, -0.240...            7   \n",
       "\n",
       "      subject_norm  num_of_words_norm num_of_words_dist  \n",
       "3508           1.0           0.017978   (-7.121, 813.1]  \n",
       "4459           1.0           0.057136   (-7.121, 813.1]  \n",
       "4825           1.0           0.074621   (-7.121, 813.1]  \n",
       "5468           1.0           0.022904   (-7.121, 813.1]  \n",
       "5741           1.0           0.044206   (-7.121, 813.1]  "
      ]
     },
     "execution_count": 91,
     "metadata": {},
     "output_type": "execute_result"
    }
   ],
   "source": [
    "df_without_text_vectors = df.drop(columns=['text_vector'])\n",
    "duplicates = df[df_without_text_vectors.duplicated()]\n",
    "duplicates.head()"
   ]
  },
  {
   "cell_type": "code",
   "execution_count": 92,
   "id": "ac78c2dd-3e0a-42f6-a7f4-8e1d817fffe6",
   "metadata": {},
   "outputs": [],
   "source": [
    "duplicates_mask = df_without_text_vectors.duplicated(keep=False)\n",
    "\n",
    "# Drop duplicates from the original DataFrame\n",
    "df = df[~duplicates_mask]"
   ]
  },
  {
   "cell_type": "code",
   "execution_count": 93,
   "id": "30f040ab-e15a-415b-9c51-fbf9e163030e",
   "metadata": {},
   "outputs": [
    {
     "name": "stderr",
     "output_type": "stream",
     "text": [
      "/var/folders/wz/qw2ddg4n5xxgzdh4w5yt3ztr0000gn/T/ipykernel_85577/4099902805.py:1: UserWarning: Boolean Series key will be reindexed to match DataFrame index.\n",
      "  duplicates = df[df_without_text_vectors.duplicated()]\n"
     ]
    },
    {
     "data": {
      "text/html": [
       "<div>\n",
       "<style scoped>\n",
       "    .dataframe tbody tr th:only-of-type {\n",
       "        vertical-align: middle;\n",
       "    }\n",
       "\n",
       "    .dataframe tbody tr th {\n",
       "        vertical-align: top;\n",
       "    }\n",
       "\n",
       "    .dataframe thead th {\n",
       "        text-align: right;\n",
       "    }\n",
       "</style>\n",
       "<table border=\"1\" class=\"dataframe\">\n",
       "  <thead>\n",
       "    <tr style=\"text-align: right;\">\n",
       "      <th></th>\n",
       "      <th>title</th>\n",
       "      <th>text</th>\n",
       "      <th>subject</th>\n",
       "      <th>date</th>\n",
       "      <th>label</th>\n",
       "      <th>num_of_words</th>\n",
       "      <th>text_vector</th>\n",
       "      <th>num_subjects</th>\n",
       "      <th>subject_norm</th>\n",
       "      <th>num_of_words_norm</th>\n",
       "      <th>num_of_words_dist</th>\n",
       "    </tr>\n",
       "  </thead>\n",
       "  <tbody>\n",
       "  </tbody>\n",
       "</table>\n",
       "</div>"
      ],
      "text/plain": [
       "Empty DataFrame\n",
       "Columns: [title, text, subject, date, label, num_of_words, text_vector, num_subjects, subject_norm, num_of_words_norm, num_of_words_dist]\n",
       "Index: []"
      ]
     },
     "execution_count": 93,
     "metadata": {},
     "output_type": "execute_result"
    }
   ],
   "source": [
    "duplicates = df[df_without_text_vectors.duplicated()]\n",
    "duplicates.head()"
   ]
  },
  {
   "cell_type": "code",
   "execution_count": 94,
   "id": "9cbc332c-b3eb-43d0-b7fa-683827e536b3",
   "metadata": {},
   "outputs": [
    {
     "data": {
      "text/plain": [
       "<Axes: >"
      ]
     },
     "execution_count": 94,
     "metadata": {},
     "output_type": "execute_result"
    },
    {
     "data": {
      "image/png": "[encoded data removed]",
      "text/plain": [
       "<Figure size 640x480 with 1 Axes>"
      ]
     },
     "metadata": {},
     "output_type": "display_data"
    }
   ],
   "source": [
    "df['num_of_words'].plot.box()"
   ]
  },
  {
   "cell_type": "code",
   "execution_count": 95,
   "id": "4be39d06-9bcf-46a9-bb9f-a9a07d76cffd",
   "metadata": {},
   "outputs": [
    {
     "data": {
      "text/plain": [
       "<Axes: ylabel='Frequency'>"
      ]
     },
     "execution_count": 95,
     "metadata": {},
     "output_type": "execute_result"
    },
    {
     "data": {
      "image/png": "[encoded data removed]",
      "text/plain": [
       "<Figure size 640x480 with 1 Axes>"
      ]
     },
     "metadata": {},
     "output_type": "display_data"
    }
   ],
   "source": [
    "df['num_of_words'].plot.hist()"
   ]
  },
  {
   "cell_type": "code",
   "execution_count": 96,
   "id": "88c9a4b6-99ef-488f-b1ab-8d9f32c0dc13",
   "metadata": {},
   "outputs": [
    {
     "name": "stderr",
     "output_type": "stream",
     "text": [
      "/var/folders/wz/qw2ddg4n5xxgzdh4w5yt3ztr0000gn/T/ipykernel_85577/1135887764.py:1: SettingWithCopyWarning: \n",
      "A value is trying to be set on a copy of a slice from a DataFrame.\n",
      "Try using .loc[row_indexer,col_indexer] = value instead\n",
      "\n",
      "See the caveats in the documentation: https://pandas.pydata.org/pandas-docs/stable/user_guide/indexing.html#returning-a-view-versus-a-copy\n",
      "  df['log_num_of_words'] = np.log10(df['num_of_words'])\n"
     ]
    },
    {
     "data": {
      "text/plain": [
       "<Axes: ylabel='Frequency'>"
      ]
     },
     "execution_count": 96,
     "metadata": {},
     "output_type": "execute_result"
    },
    {
     "data": {
      "image/png": "[encoded data removed]",
      "text/plain": [
       "<Figure size 640x480 with 1 Axes>"
      ]
     },
     "metadata": {},
     "output_type": "display_data"
    }
   ],
   "source": [
    "df['log_num_of_words'] = np.log10(df['num_of_words'])\n",
    "df['log_num_of_words'].plot.hist()"
   ]
  },
  {
   "cell_type": "code",
   "execution_count": 97,
   "id": "5e741735-80eb-4427-b1fa-38cb5c5e140c",
   "metadata": {},
   "outputs": [
    {
     "name": "stdout",
     "output_type": "stream",
     "text": [
      "0.26460711412311866\n"
     ]
    }
   ],
   "source": [
    "mad = np.abs(df['log_num_of_words'] - df['log_num_of_words'].median()).median()*(1/0.6745)\n",
    "print(mad)"
   ]
  },
  {
   "cell_type": "code",
   "execution_count": 98,
   "id": "f28f92a6-4644-4676-b64e-348ccc9924ec",
   "metadata": {},
   "outputs": [
    {
     "data": {
      "text/plain": [
       "<Axes: >"
      ]
     },
     "execution_count": 98,
     "metadata": {},
     "output_type": "execute_result"
    },
    {
     "data": {
      "image/png": "[encoded data removed]",
      "text/plain": [
       "<Figure size 640x480 with 1 Axes>"
      ]
     },
     "metadata": {},
     "output_type": "display_data"
    }
   ],
   "source": [
    "(np.abs(df['log_num_of_words']-df['log_num_of_words'].median())/mad).hist()"
   ]
  },
  {
   "cell_type": "code",
   "execution_count": 99,
   "id": "6d6d7049-cf40-4464-a2b0-35c49d324ac5",
   "metadata": {},
   "outputs": [
    {
     "data": {
      "text/html": [
       "<div>\n",
       "<style scoped>\n",
       "    .dataframe tbody tr th:only-of-type {\n",
       "        vertical-align: middle;\n",
       "    }\n",
       "\n",
       "    .dataframe tbody tr th {\n",
       "        vertical-align: top;\n",
       "    }\n",
       "\n",
       "    .dataframe thead th {\n",
       "        text-align: right;\n",
       "    }\n",
       "</style>\n",
       "<table border=\"1\" class=\"dataframe\">\n",
       "  <thead>\n",
       "    <tr style=\"text-align: right;\">\n",
       "      <th></th>\n",
       "      <th>title</th>\n",
       "      <th>text</th>\n",
       "      <th>subject</th>\n",
       "      <th>date</th>\n",
       "      <th>label</th>\n",
       "      <th>num_of_words</th>\n",
       "      <th>text_vector</th>\n",
       "      <th>num_subjects</th>\n",
       "      <th>subject_norm</th>\n",
       "      <th>num_of_words_norm</th>\n",
       "      <th>num_of_words_dist</th>\n",
       "      <th>log_num_of_words</th>\n",
       "    </tr>\n",
       "  </thead>\n",
       "  <tbody>\n",
       "    <tr>\n",
       "      <th>38</th>\n",
       "      <td>AUDIENCE MEMBER GETS The Last Word When Michae...</td>\n",
       "      <td>Michael Moore Trump is a  malignant narcissist...</td>\n",
       "      <td>politics</td>\n",
       "      <td>Dec 7, 2016</td>\n",
       "      <td>0</td>\n",
       "      <td>20.0</td>\n",
       "      <td>[0.148010686, -0.61836952, -0.102962993, -0.20...</td>\n",
       "      <td>5</td>\n",
       "      <td>0.714286</td>\n",
       "      <td>0.002340</td>\n",
       "      <td>(-7.121, 813.1]</td>\n",
       "      <td>1.301030</td>\n",
       "    </tr>\n",
       "    <tr>\n",
       "      <th>56</th>\n",
       "      <td>OH BOY! Obamacare Architect Ripped To Shreds B...</td>\n",
       "      <td>HERE S A REMINDER OF JONATHAN GRUBER INSULTING...</td>\n",
       "      <td>Government News</td>\n",
       "      <td>Nov 16, 2016</td>\n",
       "      <td>0</td>\n",
       "      <td>14.0</td>\n",
       "      <td>[-0.333420336, 0.217102319, -0.185746655, -0.3...</td>\n",
       "      <td>0</td>\n",
       "      <td>0.000000</td>\n",
       "      <td>0.001601</td>\n",
       "      <td>(-7.121, 813.1]</td>\n",
       "      <td>1.146128</td>\n",
       "    </tr>\n",
       "    <tr>\n",
       "      <th>64</th>\n",
       "      <td>Lockheed Martin wins $1.45 billion contract fo...</td>\n",
       "      <td>WASHINGTON Reuters  Lockheed Martin Corp has b...</td>\n",
       "      <td>politicsNews</td>\n",
       "      <td>December 22, 2016</td>\n",
       "      <td>1</td>\n",
       "      <td>43.0</td>\n",
       "      <td>[-0.2877301, 0.1986276, -0.2192152, -0.1745365...</td>\n",
       "      <td>6</td>\n",
       "      <td>0.857143</td>\n",
       "      <td>0.005172</td>\n",
       "      <td>(-7.121, 813.1]</td>\n",
       "      <td>1.633468</td>\n",
       "    </tr>\n",
       "    <tr>\n",
       "      <th>186</th>\n",
       "      <td>WHOA! ANDERSON COOPER GOT MORE Than He Bargain...</td>\n",
       "      <td>Melania Trump is pure class She refuses to all...</td>\n",
       "      <td>politics</td>\n",
       "      <td>Oct 20, 2016</td>\n",
       "      <td>0</td>\n",
       "      <td>28.0</td>\n",
       "      <td>[0.29589358, -0.109288268, -0.0126214325, 0.11...</td>\n",
       "      <td>5</td>\n",
       "      <td>0.714286</td>\n",
       "      <td>0.003325</td>\n",
       "      <td>(-7.121, 813.1]</td>\n",
       "      <td>1.447158</td>\n",
       "    </tr>\n",
       "    <tr>\n",
       "      <th>203</th>\n",
       "      <td>WATCH Obama Mention Himself 119 Times During H...</td>\n",
       "      <td>Narcissist isn t a strong enough word to descr...</td>\n",
       "      <td>left-news</td>\n",
       "      <td>Jul 28, 2016</td>\n",
       "      <td>0</td>\n",
       "      <td>13.0</td>\n",
       "      <td>[-0.160895452, -0.0544331931, -0.272669584, -0...</td>\n",
       "      <td>4</td>\n",
       "      <td>0.571429</td>\n",
       "      <td>0.001478</td>\n",
       "      <td>(-7.121, 813.1]</td>\n",
       "      <td>1.113943</td>\n",
       "    </tr>\n",
       "    <tr>\n",
       "      <th>...</th>\n",
       "      <td>...</td>\n",
       "      <td>...</td>\n",
       "      <td>...</td>\n",
       "      <td>...</td>\n",
       "      <td>...</td>\n",
       "      <td>...</td>\n",
       "      <td>...</td>\n",
       "      <td>...</td>\n",
       "      <td>...</td>\n",
       "      <td>...</td>\n",
       "      <td>...</td>\n",
       "      <td>...</td>\n",
       "    </tr>\n",
       "    <tr>\n",
       "      <th>44728</th>\n",
       "      <td>WATCH: Black Pastors Come On Stage And Endorse...</td>\n",
       "      <td>A Virginia rally for Donald Trump turned into ...</td>\n",
       "      <td>politics</td>\n",
       "      <td>Dec 3, 2015</td>\n",
       "      <td>0</td>\n",
       "      <td>16.0</td>\n",
       "      <td>[-0.176784828, 0.313457549, -0.227736637, 0.50...</td>\n",
       "      <td>5</td>\n",
       "      <td>0.714286</td>\n",
       "      <td>0.001847</td>\n",
       "      <td>(-7.121, 813.1]</td>\n",
       "      <td>1.204120</td>\n",
       "    </tr>\n",
       "    <tr>\n",
       "      <th>44762</th>\n",
       "      <td>KELLYANNE CONWAY Hits Back On Claims Russia Ha...</td>\n",
       "      <td>Not fake news just fake  Team Trump hits back...</td>\n",
       "      <td>politics</td>\n",
       "      <td>Jan 11, 2017</td>\n",
       "      <td>0</td>\n",
       "      <td>24.0</td>\n",
       "      <td>[-0.400914431, -0.105775014, -0.667877853, -0....</td>\n",
       "      <td>5</td>\n",
       "      <td>0.714286</td>\n",
       "      <td>0.002832</td>\n",
       "      <td>(-7.121, 813.1]</td>\n",
       "      <td>1.380211</td>\n",
       "    </tr>\n",
       "    <tr>\n",
       "      <th>44791</th>\n",
       "      <td>WOW! PASTOR MARK BURNS Delivers Three Great Wo...</td>\n",
       "      <td>Pastor Mark Burns is such a fantastic speaker ...</td>\n",
       "      <td>politics</td>\n",
       "      <td>Jul 21, 2016</td>\n",
       "      <td>0</td>\n",
       "      <td>24.0</td>\n",
       "      <td>[-0.122208416, 0.0949808657, -0.240803346, -0....</td>\n",
       "      <td>5</td>\n",
       "      <td>0.714286</td>\n",
       "      <td>0.002832</td>\n",
       "      <td>(-7.121, 813.1]</td>\n",
       "      <td>1.380211</td>\n",
       "    </tr>\n",
       "    <tr>\n",
       "      <th>44809</th>\n",
       "      <td>Kremlin says to defend rights of Kerimov, busi...</td>\n",
       "      <td>MOSCOW Reuters  Kremlin spokesman Dmitry Pesko...</td>\n",
       "      <td>worldnews</td>\n",
       "      <td>December 15, 2017</td>\n",
       "      <td>1</td>\n",
       "      <td>34.0</td>\n",
       "      <td>[-0.372339159, 0.616591454, -0.616333008, -0.2...</td>\n",
       "      <td>7</td>\n",
       "      <td>1.000000</td>\n",
       "      <td>0.004064</td>\n",
       "      <td>(-7.121, 813.1]</td>\n",
       "      <td>1.531479</td>\n",
       "    </tr>\n",
       "    <tr>\n",
       "      <th>44854</th>\n",
       "      <td>OBAMA STARES DOWN AMERICAN SNIPER Widow Taya K...</td>\n",
       "      <td>Taya Kyle speaks to Obama regarding the illogi...</td>\n",
       "      <td>politics</td>\n",
       "      <td>Jan 8, 2016</td>\n",
       "      <td>0</td>\n",
       "      <td>15.0</td>\n",
       "      <td>[-0.1220924, 0.07823625, 0.02618441, -0.087787...</td>\n",
       "      <td>5</td>\n",
       "      <td>0.714286</td>\n",
       "      <td>0.001724</td>\n",
       "      <td>(-7.121, 813.1]</td>\n",
       "      <td>1.176091</td>\n",
       "    </tr>\n",
       "  </tbody>\n",
       "</table>\n",
       "<p>1481 rows × 12 columns</p>\n",
       "</div>"
      ],
      "text/plain": [
       "                                                   title  \\\n",
       "38     AUDIENCE MEMBER GETS The Last Word When Michae...   \n",
       "56     OH BOY! Obamacare Architect Ripped To Shreds B...   \n",
       "64     Lockheed Martin wins $1.45 billion contract fo...   \n",
       "186    WHOA! ANDERSON COOPER GOT MORE Than He Bargain...   \n",
       "203    WATCH Obama Mention Himself 119 Times During H...   \n",
       "...                                                  ...   \n",
       "44728  WATCH: Black Pastors Come On Stage And Endorse...   \n",
       "44762  KELLYANNE CONWAY Hits Back On Claims Russia Ha...   \n",
       "44791  WOW! PASTOR MARK BURNS Delivers Three Great Wo...   \n",
       "44809  Kremlin says to defend rights of Kerimov, busi...   \n",
       "44854  OBAMA STARES DOWN AMERICAN SNIPER Widow Taya K...   \n",
       "\n",
       "                                                    text          subject  \\\n",
       "38     Michael Moore Trump is a  malignant narcissist...         politics   \n",
       "56     HERE S A REMINDER OF JONATHAN GRUBER INSULTING...  Government News   \n",
       "64     WASHINGTON Reuters  Lockheed Martin Corp has b...     politicsNews   \n",
       "186    Melania Trump is pure class She refuses to all...         politics   \n",
       "203    Narcissist isn t a strong enough word to descr...        left-news   \n",
       "...                                                  ...              ...   \n",
       "44728  A Virginia rally for Donald Trump turned into ...         politics   \n",
       "44762   Not fake news just fake  Team Trump hits back...         politics   \n",
       "44791  Pastor Mark Burns is such a fantastic speaker ...         politics   \n",
       "44809  MOSCOW Reuters  Kremlin spokesman Dmitry Pesko...        worldnews   \n",
       "44854  Taya Kyle speaks to Obama regarding the illogi...         politics   \n",
       "\n",
       "                     date label  num_of_words  \\\n",
       "38            Dec 7, 2016     0          20.0   \n",
       "56           Nov 16, 2016     0          14.0   \n",
       "64     December 22, 2016      1          43.0   \n",
       "186          Oct 20, 2016     0          28.0   \n",
       "203          Jul 28, 2016     0          13.0   \n",
       "...                   ...   ...           ...   \n",
       "44728         Dec 3, 2015     0          16.0   \n",
       "44762        Jan 11, 2017     0          24.0   \n",
       "44791        Jul 21, 2016     0          24.0   \n",
       "44809  December 15, 2017      1          34.0   \n",
       "44854         Jan 8, 2016     0          15.0   \n",
       "\n",
       "                                             text_vector num_subjects  \\\n",
       "38     [0.148010686, -0.61836952, -0.102962993, -0.20...            5   \n",
       "56     [-0.333420336, 0.217102319, -0.185746655, -0.3...            0   \n",
       "64     [-0.2877301, 0.1986276, -0.2192152, -0.1745365...            6   \n",
       "186    [0.29589358, -0.109288268, -0.0126214325, 0.11...            5   \n",
       "203    [-0.160895452, -0.0544331931, -0.272669584, -0...            4   \n",
       "...                                                  ...          ...   \n",
       "44728  [-0.176784828, 0.313457549, -0.227736637, 0.50...            5   \n",
       "44762  [-0.400914431, -0.105775014, -0.667877853, -0....            5   \n",
       "44791  [-0.122208416, 0.0949808657, -0.240803346, -0....            5   \n",
       "44809  [-0.372339159, 0.616591454, -0.616333008, -0.2...            7   \n",
       "44854  [-0.1220924, 0.07823625, 0.02618441, -0.087787...            5   \n",
       "\n",
       "       subject_norm  num_of_words_norm num_of_words_dist  log_num_of_words  \n",
       "38         0.714286           0.002340   (-7.121, 813.1]          1.301030  \n",
       "56         0.000000           0.001601   (-7.121, 813.1]          1.146128  \n",
       "64         0.857143           0.005172   (-7.121, 813.1]          1.633468  \n",
       "186        0.714286           0.003325   (-7.121, 813.1]          1.447158  \n",
       "203        0.571429           0.001478   (-7.121, 813.1]          1.113943  \n",
       "...             ...                ...               ...               ...  \n",
       "44728      0.714286           0.001847   (-7.121, 813.1]          1.204120  \n",
       "44762      0.714286           0.002832   (-7.121, 813.1]          1.380211  \n",
       "44791      0.714286           0.002832   (-7.121, 813.1]          1.380211  \n",
       "44809      1.000000           0.004064   (-7.121, 813.1]          1.531479  \n",
       "44854      0.714286           0.001724   (-7.121, 813.1]          1.176091  \n",
       "\n",
       "[1481 rows x 12 columns]"
      ]
     },
     "execution_count": 99,
     "metadata": {},
     "output_type": "execute_result"
    }
   ],
   "source": [
    "df[np.abs(df['log_num_of_words']-df['log_num_of_words'].median())/mad > 3.5]"
   ]
  },
  {
   "cell_type": "code",
   "execution_count": 100,
   "id": "aafbadcd-372e-4663-ad74-a48396e9f875",
   "metadata": {},
   "outputs": [
    {
     "data": {
      "text/plain": [
       "44493"
      ]
     },
     "execution_count": 100,
     "metadata": {},
     "output_type": "execute_result"
    }
   ],
   "source": [
    "len(df)"
   ]
  },
  {
   "cell_type": "code",
   "execution_count": 101,
   "id": "b98bf5c9-c76f-4455-b1ef-e241019449d4",
   "metadata": {},
   "outputs": [],
   "source": [
    "df = df[abs(df['log_num_of_words']-df['log_num_of_words'].median())/mad < 3.5]"
   ]
  },
  {
   "cell_type": "code",
   "execution_count": 102,
   "id": "b68b86c9-c01a-4673-9b83-01d86651a9f4",
   "metadata": {},
   "outputs": [
    {
     "data": {
      "text/plain": [
       "43012"
      ]
     },
     "execution_count": 102,
     "metadata": {},
     "output_type": "execute_result"
    }
   ],
   "source": [
    "len(df)"
   ]
  },
  {
   "cell_type": "markdown",
   "id": "c68affc2",
   "metadata": {},
   "source": [
    "# Gerando análises de similaridade"
   ]
  },
  {
   "cell_type": "code",
   "execution_count": 103,
   "id": "2ace0d4c",
   "metadata": {},
   "outputs": [],
   "source": [
    "from scipy.stats import ttest_ind\n",
    "\n",
    "# Convert the list of vectors to a numpy array\n",
    "vectors = np.vstack(df['text_vector'].to_numpy())\n",
    "\n",
    "# Build the FAISS index\n",
    "dimension = vectors.shape[1]\n",
    "index = faiss.IndexFlatL2(dimension)\n",
    "index.add(vectors)"
   ]
  },
  {
   "cell_type": "code",
   "execution_count": 117,
   "id": "a2292452",
   "metadata": {},
   "outputs": [],
   "source": [
    "# Modificando a coluna 'subject'\n",
    "subject_modified_df = df.copy()\n",
    "subject_modified_df.loc[subject_modified_df['subject'].isin(['politics', 'Government News', 'left-news']), 'subject'] = 'politics'\n",
    "subject_modified_df.loc[subject_modified_df['subject'].isin(['US_News', 'News', 'Middle-east']), 'subject'] = 'worldnews'\n",
    "subject_modified_df.loc[subject_modified_df['subject'] == 'politicsNews', 'subject'] = 'politics'\n",
    "\n",
    "# Selecionando 1000 notícias falsas e 1000 verdadeiras para cada assunto\n",
    "fake_data = subject_modified_df[subject_modified_df['label'] == 0].groupby('subject').sample(1000)\n",
    "true_data = subject_modified_df[subject_modified_df['label'] == 1].groupby('subject').sample(1000)\n",
    "\n",
    "# Concatenando os dados selecionados\n",
    "selected_data = pd.concat([fake_data, true_data])\n",
    "\n",
    "# Listas para armazenar as similaridades\n",
    "fake_vs_fake_similarities = []\n",
    "true_vs_true_similarities = []\n",
    "true_vs_fake_similarities = []\n",
    "\n",
    "for subject in ['politics', 'worldnews']:\n",
    "    fake_indices = fake_data[fake_data['subject'] == subject].index\n",
    "    true_indices = true_data[true_data['subject'] == subject].index\n",
    "    \n",
    "    for fake_index in fake_indices:\n",
    "        query_vector = selected_data[selected_data.index == fake_index]['text_vector'].iloc[0]\n",
    "        distances, indices = index.search(np.array([query_vector]), len(selected_data))\n",
    "        \n",
    "        # Encontrar similaridades falsas vs falsas\n",
    "        fake_vs_fake_similarities.extend([distances[0][i] for i in range(len(indices[0])) if indices[0][i] in fake_indices])\n",
    "        \n",
    "        # Encontrar similaridades falsas vs verdadeiras\n",
    "        true_indices_in_results = [i for i in indices[0] if i in true_indices]\n",
    "        if true_indices_in_results:\n",
    "            true_vs_fake_similarities.append(distances[0][indices[0].tolist().index(true_indices_in_results[0])])\n",
    "    \n",
    "    for true_index in true_indices:\n",
    "        query_vector = selected_data[selected_data.index == true_index]['text_vector'].iloc[0]\n",
    "        distances, indices = index.search(np.array([query_vector]), len(selected_data))\n",
    "        \n",
    "        # Encontrar similaridades verdadeiras vs verdadeiras\n",
    "        true_vs_true_similarities.extend([distances[0][i] for i in range(len(indices[0])) if indices[0][i] in true_indices])\n",
    "        \n",
    "        # Encontrar similaridades verdadeiras vs falsas\n",
    "        fake_indices_in_results = [i for i in indices[0] if i in fake_indices]\n",
    "        if fake_indices_in_results:\n",
    "            true_vs_fake_similarities.append(distances[0][indices[0].tolist().index(fake_indices_in_results[0])])"
   ]
  },
  {
   "cell_type": "markdown",
   "id": "6bb5d26f9924eb90",
   "metadata": {},
   "source": [
    "# Estatísticas descritivas"
   ]
  },
  {
   "cell_type": "markdown",
   "id": "c909fd7c9e228566",
   "metadata": {},
   "source": [
    "## Histograma de distribuição do número de palavras\n",
    "\n",
    "O histograma ilustra a distribuição do número de palavras após uma transformação logarítmica. A maioria dos textos concentra-se em torno de cerca de 6 palavras, com uma diminuição gradual na frequência à medida que o número de palavras aumenta. Textos muito curtos (menos de 4 palavras) ou muito longos (mais de 7 palavras) são menos comuns. Em suma, a análise revela que a maioria dos textos possui um número moderado de palavras, com uma concentração significativa em torno de 6 palavras, destacando a predominância de textos de comprimento médio."
   ]
  },
  {
   "cell_type": "code",
   "execution_count": 53,
   "id": "a1d4f54295a06a04",
   "metadata": {},
   "outputs": [
    {
     "data": {
      "image/png": "[encoded data removed]",
      "text/plain": [
       "<Figure size 1000x600 with 1 Axes>"
      ]
     },
     "metadata": {},
     "output_type": "display_data"
    }
   ],
   "source": [
    "plt.figure(figsize=(10, 6))\n",
    "plt.hist(np.log(df['num_of_words']), bins=10, edgecolor='black', alpha=0.7)\n",
    "plt.title('Distribuição do Número de Palavras')\n",
    "plt.xlabel('Número de Palavras')\n",
    "plt.ylabel('Frequência')\n",
    "plt.grid(axis='y')\n",
    "plt.show()"
   ]
  },
  {
   "cell_type": "markdown",
   "id": "2a9ce6bbcdbbb17f",
   "metadata": {},
   "source": [
    "## Boxplot representando o número de palavras\n",
    "\n",
    "O boxplot mostra a distribuição do número de palavras em textos após uma transformação logarítmica. A mediana é cerca de 6, sugerindo que a maioria dos textos tem em torno de 6 palavras. A caixa do boxplot, entre o primeiro e terceiro quartil, indica que 50% dos textos possuem entre aproximadamente 5 e 6,5 palavras. Os \"whiskers\" indicam a variação esperada dos dados até 1,5 vezes o intervalo interquartil (IQR). Além disso, há outliers representando textos muito curtos (menos de 4 palavras) ou muito longos (mais de 7 palavras). Em síntese, a análise revela que a maioria dos textos tem um número moderado de palavras, com a predominância de textos de comprimento médio, sendo textos extremamente curtos ou longos menos frequentes."
   ]
  },
  {
   "cell_type": "code",
   "execution_count": 54,
   "id": "df19451b320cbc5f",
   "metadata": {
    "scrolled": false
   },
   "outputs": [
    {
     "data": {
      "image/png": "[encoded data removed]",
      "text/plain": [
       "<Figure size 1000x600 with 1 Axes>"
      ]
     },
     "metadata": {},
     "output_type": "display_data"
    }
   ],
   "source": [
    "# Boxplot\n",
    "plt.figure(figsize=(10, 6))\n",
    "plt.boxplot(np.log(df['num_of_words']), vert=False)\n",
    "plt.title('Boxplot do Número de Palavras')\n",
    "plt.xlabel('Número de Palavras')\n",
    "plt.grid(axis='x')\n",
    "plt.show()"
   ]
  },
  {
   "cell_type": "markdown",
   "id": "83316df1",
   "metadata": {},
   "source": [
    "## Gráfico de barras comparando o número de notícias falsas vs verdadeiras por ano\n",
    "\n",
    "O gráfico abaixo compara o número de notícias falsas e verdadeiras publicadas anualmente de 2015 a 2018. \n",
    "As conclusões são:\n",
    "\n",
    "2015: Poucas notícias, com ligeira predominância das falsas.\n",
    "2016: Aumento significativo de notícias, com mais falsas do que verdadeiras.\n",
    "2017: Pico de notícias, com um aumento expressivo em ambas as categorias, sendo as verdadeiras consideravelmente mais numerosas.\n",
    "2018: Poucas notícias, tanto falsas quanto verdadeiras, indicando baixa coleta de dados ou atividade mínima.\n",
    "\n",
    "Em resumo, o período de 2016 a 2017 registrou um aumento acentuado na produção ou coleta de notícias, com destaque para 2017, especialmente para as notícias verdadeiras."
   ]
  },
  {
   "cell_type": "code",
   "execution_count": 55,
   "id": "9d7dc8d9",
   "metadata": {},
   "outputs": [],
   "source": [
    "date_formats = ['%B%d,%Y', '%d-%b-%y', '%B%d,%Y', '%b%d,%Y', '%d-%b-%Y', '%d%B%Y', '%d%b%Y', '%Y-%m-%d', '%m-%d-%Y', '%Y/%m/%d', '%B%d,%Y', '%B%d,%Y', '%B%d,%Y', '%B%d,%Y']\n",
    "\n",
    "def is_valid_date(date_str):\n",
    "    for format_str in date_formats:\n",
    "        try:\n",
    "            return pd.to_datetime(re.sub(r'\\s+', '', str(date_str)), format=format_str)\n",
    "        except ValueError:\n",
    "            pass\n",
    "\n",
    "    return pd.NaT\n",
    "\n",
    "valid_dates = df.copy()\n",
    "valid_dates['date'] = valid_dates['date'].map(is_valid_date)\n",
    "valid_dates['year'] = valid_dates['date'].dt.year"
   ]
  },
  {
   "cell_type": "code",
   "execution_count": 56,
   "id": "7656c2ce",
   "metadata": {},
   "outputs": [
    {
     "data": {
      "text/plain": [
       "<Figure size 1200x600 with 0 Axes>"
      ]
     },
     "metadata": {},
     "output_type": "display_data"
    },
    {
     "data": {
      "image/png": "[encoded data removed]",
      "text/plain": [
       "<Figure size 640x480 with 1 Axes>"
      ]
     },
     "metadata": {},
     "output_type": "display_data"
    }
   ],
   "source": [
    "# Contar o número de notícias falsas e verdadeiras por ano\n",
    "fake_news_per_year = valid_dates[valid_dates['label'] == 0].groupby('year').size()\n",
    "true_news_per_year = valid_dates[valid_dates['label'] == 1].groupby('year').size()\n",
    "\n",
    "# Criar um DataFrame com esses dados\n",
    "news_counts_per_year = pd.DataFrame({\n",
    "    'Fake News': fake_news_per_year,\n",
    "    'True News': true_news_per_year\n",
    "}).fillna(0)  # Preencher valores ausentes com 0\n",
    "\n",
    "# Plotar o gráfico\n",
    "plt.figure(figsize=(12, 6))\n",
    "news_counts_per_year.plot(kind='bar', stacked=False, alpha=0.75)\n",
    "plt.title('Número de Notícias Falsas vs Verdadeiras por Ano')\n",
    "plt.xlabel('Ano')\n",
    "plt.ylabel('Número de Notícias')\n",
    "plt.xticks(rotation=45)\n",
    "plt.legend(title='Tipo de Notícia')\n",
    "plt.tight_layout()\n",
    "plt.grid(axis='y')\n",
    "plt.show()"
   ]
  },
  {
   "cell_type": "markdown",
   "id": "d8804e84",
   "metadata": {},
   "source": [
    "## Gráfico de Similaridade em Notícias Verdadeiras, Falsas e Mistas\n",
    "\n",
    "### Descrição dos Gráficos de Similaridade em Notícias Verdadeiras, Falsas e Mistas\n",
    "\n",
    "O gráfico compara a similaridade das notícias falsas, verdadeiras e mistas em relação aos subjects \"worldnews\" e \"politics\". A similaridade é representada pela distância média (quanto menor a distância, maior a similaridade).\n",
    "\n",
    "### Análise\n",
    "\n",
    "- Fake vs Fake: Notícias falsas têm uma similaridade moderada, com uma distância média em torno de 20.\n",
    "- True vs True: Notícias verdadeiras têm a menor similaridade, com a maior distância média, ligeiramente acima de 20.\n",
    "- True vs Fake: Notícias mistas têm a maior similaridade, com a menor distância média, aproximadamente 15.\n",
    "\n",
    "### Conclusão\n",
    "\n",
    "As notícias mistas (verdadeiras vs falsas) mostram maior similaridade entre si, indicando que as notícias verdadeiras e falsas compartilham características comuns. As notícias verdadeiras mantêm menor similaridade quando comparadas entre si, enquanto as notícias falsas também têm uma similaridade moderada dentro do seu grupo."
   ]
  },
  {
   "cell_type": "code",
   "execution_count": 116,
   "id": "6efe8598",
   "metadata": {
    "scrolled": false
   },
   "outputs": [
    {
     "data": {
      "image/png": "[encoded data removed]",
      "text/plain": [
       "<Figure size 640x480 with 1 Axes>"
      ]
     },
     "metadata": {},
     "output_type": "display_data"
    }
   ],
   "source": [
    "# Calculando as médias das similaridades\n",
    "labels = ['Fake vs Fake', 'True vs True', 'True vs Fake']\n",
    "similarities = [np.mean(fake_vs_fake_similarities), np.mean(true_vs_true_similarities), np.mean(true_vs_fake_similarities)]\n",
    "\n",
    "# Plotando as similaridades\n",
    "plt.bar(labels, similarities)\n",
    "plt.ylabel('Distância média de Similaridade')\n",
    "plt.title('Comparação de similaridade (quanto menor a distância, mais similar)')\n",
    "plt.show()"
   ]
  },
  {
   "cell_type": "markdown",
   "id": "1d8769d4b2d4b161",
   "metadata": {},
   "source": [
    "# Teste de hipótese"
   ]
  },
  {
   "cell_type": "markdown",
   "id": "b44aae9a",
   "metadata": {},
   "source": [
    "## Teste de Hipótese: Similaridade entre Notícias Verdadeiras, Falsas e Mistas\n",
    "\n",
    "Neste notebook, realizaremos um teste de hipótese para comparar a similaridade entre notícias verdadeiras, falsas e mistas. A similaridade é medida pela distância média (quanto menor a distância, maior a similaridade). O objetivo é determinar se há uma diferença significativa na similaridade entre as diferentes categorias de notícias.\n",
    "\n",
    "### Passos do Teste de Hipótese\n",
    "\n",
    "#### Definir Hipóteses:\n",
    "\n",
    "- \\(H_0\\) (Hipótese Nula): Não há diferença significativa na similaridade entre as diferentes categorias de notícias.\n",
    "- \\(H_a\\) (Hipótese Alternativa): Há uma diferença significativa na similaridade entre as diferentes categorias de notícias.\n",
    "\n",
    "#### Calcular as Distâncias Médias:\n",
    "\n",
    "- Obter as distâncias médias para cada categoria: Fake vs Fake, True vs True, e True vs Fake.\n",
    "\n",
    "#### Realizar Teste de Hipótese:\n",
    "\n",
    "- Usar o teste t de Student para comparar as distâncias médias entre as categorias.\n",
    "\n",
    "#### Analisar os Resultados:\n",
    "\n",
    "- Interpretar os valores p para determinar se rejeitamos ou não a hipótese nula.\n",
    "\n",
    "## Resultados dos Testes de Hipótese\n",
    "\n",
    "Os resultados dos testes para comparar as similaridades entre as diferentes categorias de notícias são os seguintes:\n",
    "\n",
    "### Teste entre Fake vs Fake e True vs True:\n",
    "\n",
    "- T-statistic: -16.37274849962382\n",
    "- P-value: 1.6354346712162612e-56\n",
    "- Conclusão: Rejeitamos a hipótese nula. Há uma diferença significativa na similaridade entre Fake vs Fake e True vs True.\n",
    "- Observação: O resultado é altamente significativo (p < 0.01).\n",
    "\n",
    "### Teste entre Fake vs Fake e True vs Fake:\n",
    "\n",
    "- T-statistic: 25.650055569958536\n",
    "- P-value: 1.199788220568109e-125\n",
    "- Conclusão: Rejeitamos a hipótese nula. Há uma diferença significativa na similaridade entre Fake vs Fake e True vs Fake.\n",
    "- Observação: O resultado é altamente significativo (p < 0.01).\n",
    "\n",
    "### Teste entre True vs True e True vs Fake:\n",
    "\n",
    "- T-statistic: 44.84103110401803\n",
    "- P-value: 2.239345677091325e-302\n",
    "- Conclusão: Rejeitamos a hipótese nula. Há uma diferença significativa na similaridade entre True vs True e True vs Fake.\n",
    "- Observação: O resultado é altamente significativo (p < 0.01).\n"
   ]
  },
  {
   "cell_type": "code",
   "execution_count": 140,
   "id": "9b5ff59c",
   "metadata": {},
   "outputs": [
    {
     "name": "stdout",
     "output_type": "stream",
     "text": [
      "Teste t de Student entre Fake vs Fake e True vs True:\n",
      "T-statistic: -16.37274849962382\n",
      "P-value: 1.6354346712162612e-56\n",
      "\n",
      "Resultado: Rejeitamos a hipótese nula. Há uma diferença significativa na similaridade entre Fake vs Fake e True vs True.\n",
      "Observação: O resultado é altamente significativo (p < 0.01).\n",
      "\n",
      "--------------------------------------------------\n",
      "\n",
      "Teste t de Student entre Fake vs Fake e True vs Fake:\n",
      "T-statistic: 25.650055569958536\n",
      "P-value: 1.199788220568109e-125\n",
      "\n",
      "Resultado: Rejeitamos a hipótese nula. Há uma diferença significativa na similaridade entre Fake vs Fake e True vs Fake.\n",
      "Observação: O resultado é altamente significativo (p < 0.01).\n",
      "\n",
      "--------------------------------------------------\n",
      "\n",
      "Teste t de Student entre True vs True e True vs Fake:\n",
      "T-statistic: 44.84103110401803\n",
      "P-value: 2.239345677091325e-302\n",
      "\n",
      "Resultado: Rejeitamos a hipótese nula. Há uma diferença significativa na similaridade entre True vs True e True vs Fake.\n",
      "Observação: O resultado é altamente significativo (p < 0.01).\n",
      "\n",
      "--------------------------------------------------\n",
      "\n"
     ]
    }
   ],
   "source": [
    "def perform_t_test(sample1, sample2, label1, label2):\n",
    "    t_stat, p_value = ttest_ind(sample1, sample2, equal_var=False)\n",
    "    print(f\"Teste t de Student entre {label1} e {label2}:\")\n",
    "    print(f\"T-statistic: {t_stat}\")\n",
    "    print(f\"P-value: {p_value}\\n\")\n",
    "    \n",
    "    # Interpretação dos resultados\n",
    "    alpha = 0.05  # Nível de significância de 5%\n",
    "    if p_value < alpha:\n",
    "        print(f\"Resultado: Rejeitamos a hipótese nula. Há uma diferença significativa na similaridade entre {label1} e {label2}.\")\n",
    "    else:\n",
    "        print(f\"Resultado: Não rejeitamos a hipótese nula. Não há diferença significativa na similaridade entre {label1} e {label2}.\")\n",
    "\n",
    "    # Detalhes adicionais para interpretação\n",
    "    if p_value < 0.01:\n",
    "        print(\"Observação: O resultado é altamente significativo (p < 0.01).\")\n",
    "    elif p_value < 0.05:\n",
    "        print(\"Observação: O resultado é estatisticamente significativo (p < 0.05).\")\n",
    "    else:\n",
    "        print(\"Observação: O resultado não é estatisticamente significativo (p >= 0.05).\")\n",
    "\n",
    "    print(\"\\n\" + \"-\"*50 + \"\\n\")\n",
    "\n",
    "# Realizando os testes de hipótese\n",
    "cropped_sample_fake_vs_fake = random.sample(fake_vs_fake_similarities, 1000)\n",
    "cropped_sample_true_vs_true = random.sample(true_vs_true_similarities, 1000)\n",
    "cropped_sample_true_vs_fake = random.sample(true_vs_fake_similarities, 1000)\n",
    "\n",
    "perform_t_test(cropped_sample_fake_vs_fake, cropped_sample_true_vs_true, 'Fake vs Fake', 'True vs True')\n",
    "perform_t_test(cropped_sample_fake_vs_fake, cropped_sample_true_vs_fake, 'Fake vs Fake', 'True vs Fake')\n",
    "perform_t_test(cropped_sample_true_vs_true, cropped_sample_true_vs_fake, 'True vs True', 'True vs Fake')"
   ]
  },
  {
   "cell_type": "markdown",
   "id": "5ad609cd",
   "metadata": {},
   "source": [
    "## Teste Qui-Quadrado para Proporção de Notícias Falsas em Textos Curtos e Longos\n",
    "\n",
    "O código abaixo realiza um teste qui-quadrado de contingência para avaliar a proporção de notícias falsas em textos curtos (com menos de 150 palavras) e longos (com 150 palavras ou mais). Após dividir as notícias em categorias com base no comprimento, são calculadas as proporções de notícias falsas e verdadeiras em cada categoria. O teste estatístico é realizado e o resultado é exibido, mostrando a estatística Qui-Quadrado (Chi2) e o valor P associado. No caso específico deste teste, em que o resultado foi: Chi2 statistic: 2153.80, P-value: 0.00000, conclui-se que há uma diferença estatisticamente significativa na proporção de notícias falsas entre textos curtos e longos. Isso sugere que a probabilidade de uma notícia ser falsa está associada ao comprimento do texto. As proporções de notícias falsas e verdadeiras são exibidas para ambas as categorias, e é destacado que é mais provável que um texto longo seja uma notícia falsa em comparação a um texto curto, enquanto é mais provável que um texto curto seja uma notícia verdadeira em comparação a um texto longo."
   ]
  },
  {
   "cell_type": "code",
   "execution_count": 179,
   "id": "e1808710",
   "metadata": {},
   "outputs": [
    {
     "name": "stdout",
     "output_type": "stream",
     "text": [
      "Chi2 statistic: 2153.80, P-value: 0.00000\n",
      "Há uma diferença estatisticamente significativa na proporção de notícias falsas entre textos curtos e longos. Isso sugere que a probabilidade de uma notícia ser falsa está associada ao comprimento do texto.\n",
      "Proporção de notícias falsas entre textos curtos: 26.27%\n",
      "Proporção de notícias verdadeiras entre textos curtos: 73.73%\n",
      "Proporção de notícias falsas entre textos longos: 56.57%\n",
      "Proporção de notícias verdadeiras entre textos longos: 43.43%\n",
      "É mais provável que um texto longo seja uma notícia falsa comparado a um texto curto.\n",
      "É mais provável que um texto curto seja uma notícia verdadeira comparado a um texto longo.\n"
     ]
    }
   ],
   "source": [
    "from scipy.stats import chi2_contingency\n",
    "\n",
    "# Dividir as notícias em curtas e longas\n",
    "short_texts = new_df[new_df['num_of_words'] < 150]\n",
    "long_texts = new_df[new_df['num_of_words'] >= 150]\n",
    "\n",
    "# Calcular a proporção de notícias falsas e verdadeiras em cada categoria\n",
    "short_fake_count = short_texts[short_texts['label'] == 0].shape[0]\n",
    "short_true_count = short_texts[short_texts['label'] == 1].shape[0]\n",
    "long_fake_count = long_texts[long_texts['label'] == 0].shape[0]\n",
    "long_true_count = long_texts[long_texts['label'] == 1].shape[0]\n",
    "\n",
    "short_fake_proportion = short_fake_count / short_texts.shape[0]\n",
    "short_true_proportion = short_true_count / short_texts.shape[0]\n",
    "long_fake_proportion = long_fake_count / long_texts.shape[0]\n",
    "long_true_proportion = long_true_count / long_texts.shape[0]\n",
    "\n",
    "# Preparar os dados para o teste qui-quadrado de contingência\n",
    "contingency_table = pd.DataFrame({\n",
    "    'Short Texts': [short_fake_count, short_true_count],\n",
    "    'Long Texts': [long_fake_count, long_true_count]\n",
    "}, index=['Fake', 'True'])\n",
    "\n",
    "# Realizar o teste qui-quadrado de contingência\n",
    "chi2, p, dof, expected = chi2_contingency(contingency_table)\n",
    "print(f\"Chi2 statistic: {chi2:.2f}, P-value: {p:.5f}\")\n",
    "\n",
    "if p < 0.05:\n",
    "    print(\"Há uma diferença estatisticamente significativa na proporção de notícias falsas entre textos curtos e longos. \"\n",
    "          \"Isso sugere que a probabilidade de uma notícia ser falsa está associada ao comprimento do texto.\")\n",
    "\n",
    "    print(f\"Proporção de notícias falsas entre textos curtos: {short_fake_proportion:.2%}\")\n",
    "    print(f\"Proporção de notícias verdadeiras entre textos curtos: {short_true_proportion:.2%}\")\n",
    "    print(f\"Proporção de notícias falsas entre textos longos: {long_fake_proportion:.2%}\")\n",
    "    print(f\"Proporção de notícias verdadeiras entre textos longos: {long_true_proportion:.2%}\")\n",
    "\n",
    "    if short_fake_proportion > long_fake_proportion:\n",
    "        print(\"É mais provável que um texto curto seja uma notícia falsa comparado a um texto longo.\")\n",
    "    else:\n",
    "        print(\"É mais provável que um texto longo seja uma notícia falsa comparado a um texto curto.\")\n",
    "\n",
    "    if short_true_proportion > long_true_proportion:\n",
    "        print(\"É mais provável que um texto curto seja uma notícia verdadeira comparado a um texto longo.\")\n",
    "    else:\n",
    "        print(\"É mais provável que um texto longo seja uma notícia verdadeira comparado a um texto curto.\")\n",
    "else:\n",
    "    print(\"Não há uma diferença estatisticamente significativa na proporção de notícias falsas entre textos curtos e longos. \"\n",
    "          \"Isso sugere que a probabilidade de uma notícia ser falsa não está associada ao comprimento do texto.\")"
   ]
  }
 ],
 "metadata": {
  "colab": {
   "provenance": []
  },
  "kernelspec": {
   "display_name": "Python 3 (ipykernel)",
   "language": "python",
   "name": "python3"
  },
  "language_info": {
   "codemirror_mode": {
    "name": "ipython",
    "version": 3
   },
   "file_extension": ".py",
   "mimetype": "text/x-python",
   "name": "python",
   "nbconvert_exporter": "python",
   "pygments_lexer": "ipython3",
   "version": "3.10.4"
  }
 },
 "nbformat": 4,
 "nbformat_minor": 5
}
