{
  "cells": [
    {
      "cell_type": "markdown",
      "id": "f4f00f97-64ad-4475-a9cb-b9e0ffb2561a",
      "metadata": {
        "id": "f4f00f97-64ad-4475-a9cb-b9e0ffb2561a"
      },
      "source": [
        "# Pré processamento"
      ]
    },
    {
      "cell_type": "code",
      "execution_count": 2,
      "id": "efa12dfa6a5e2ac2",
      "metadata": {
        "id": "efa12dfa6a5e2ac2"
      },
      "outputs": [],
      "source": [
        "# Importando as bibliotecas e construindo o dataframe\n",
        "import pandas as pd\n",
        "import matplotlib.pyplot as plt\n",
        "from fancyimpute import KNN\n",
        "import numpy as np"
      ]
    },
    {
      "cell_type": "code",
      "execution_count": 3,
      "id": "190355b6c13c5ab6",
      "metadata": {
        "ExecuteTime": {
          "end_time": "2024-05-21T19:35:57.603240Z",
          "start_time": "2024-05-21T19:35:55.007387Z"
        },
        "id": "190355b6c13c5ab6"
      },
      "outputs": [],
      "source": [
        "# concatenando dois dataframes (um com fake news e outro com noticias verdadeiras)\n",
        "fake_df = pd.read_csv('https://raw.githubusercontent.com/guilopesrbc/fake_news_detector/main/Fake.csv')\n",
        "true_df = pd.read_csv('https://raw.githubusercontent.com/guilopesrbc/fake_news_detector/main/True.csv')\n",
        "# adicionando coluna label, correspondente a veracidade da noticias (1 para verdadeiro e 0 para falsa)\n",
        "fake_df['label'] = 0\n",
        "true_df['label'] = 1\n",
        "\n",
        "combined_df = pd.concat([fake_df, true_df], ignore_index=True)\n",
        "\n",
        "combined_df.to_csv('Combined.csv', index=False)\n",
        "combined_df.reset_index(drop=True,inplace=True)"
      ]
    },
    {
      "cell_type": "code",
      "execution_count": 4,
      "id": "e8cb7b79-02db-4777-9a63-3bf2aec7e423",
      "metadata": {
        "ExecuteTime": {
          "end_time": "2024-05-21T19:45:11.651311Z",
          "start_time": "2024-05-21T19:45:11.246788Z"
        },
        "colab": {
          "base_uri": "https://localhost:8080/",
          "height": 206
        },
        "id": "e8cb7b79-02db-4777-9a63-3bf2aec7e423",
        "outputId": "48fe703c-2df9-4a49-978f-ff8dd4df010c"
      },
      "outputs": [
        {
          "output_type": "execute_result",
          "data": {
            "text/plain": [
              "                                               title  \\\n",
              "0   Donald Trump Sends Out Embarrassing New Year’...   \n",
              "1   Drunk Bragging Trump Staffer Started Russian ...   \n",
              "2   Sheriff David Clarke Becomes An Internet Joke...   \n",
              "3   Trump Is So Obsessed He Even Has Obama’s Name...   \n",
              "4   Pope Francis Just Called Out Donald Trump Dur...   \n",
              "\n",
              "                                                text subject  \\\n",
              "0  Donald Trump just couldn t wish all Americans ...    News   \n",
              "1  House Intelligence Committee Chairman Devin Nu...    News   \n",
              "2  On Friday, it was revealed that former Milwauk...    News   \n",
              "3  On Christmas day, Donald Trump announced that ...    News   \n",
              "4  Pope Francis used his annual Christmas Day mes...    News   \n",
              "\n",
              "                date  label  \n",
              "0  December 31, 2017      0  \n",
              "1  December 31, 2017      0  \n",
              "2  December 30, 2017      0  \n",
              "3  December 29, 2017      0  \n",
              "4  December 25, 2017      0  "
            ],
            "text/html": [
              "\n",
              "  <div id=\"df-9eca6c10-e371-42b5-8e3a-acac68ce7a57\" class=\"colab-df-container\">\n",
              "    <div>\n",
              "<style scoped>\n",
              "    .dataframe tbody tr th:only-of-type {\n",
              "        vertical-align: middle;\n",
              "    }\n",
              "\n",
              "    .dataframe tbody tr th {\n",
              "        vertical-align: top;\n",
              "    }\n",
              "\n",
              "    .dataframe thead th {\n",
              "        text-align: right;\n",
              "    }\n",
              "</style>\n",
              "<table border=\"1\" class=\"dataframe\">\n",
              "  <thead>\n",
              "    <tr style=\"text-align: right;\">\n",
              "      <th></th>\n",
              "      <th>title</th>\n",
              "      <th>text</th>\n",
              "      <th>subject</th>\n",
              "      <th>date</th>\n",
              "      <th>label</th>\n",
              "    </tr>\n",
              "  </thead>\n",
              "  <tbody>\n",
              "    <tr>\n",
              "      <th>0</th>\n",
              "      <td>Donald Trump Sends Out Embarrassing New Year’...</td>\n",
              "      <td>Donald Trump just couldn t wish all Americans ...</td>\n",
              "      <td>News</td>\n",
              "      <td>December 31, 2017</td>\n",
              "      <td>0</td>\n",
              "    </tr>\n",
              "    <tr>\n",
              "      <th>1</th>\n",
              "      <td>Drunk Bragging Trump Staffer Started Russian ...</td>\n",
              "      <td>House Intelligence Committee Chairman Devin Nu...</td>\n",
              "      <td>News</td>\n",
              "      <td>December 31, 2017</td>\n",
              "      <td>0</td>\n",
              "    </tr>\n",
              "    <tr>\n",
              "      <th>2</th>\n",
              "      <td>Sheriff David Clarke Becomes An Internet Joke...</td>\n",
              "      <td>On Friday, it was revealed that former Milwauk...</td>\n",
              "      <td>News</td>\n",
              "      <td>December 30, 2017</td>\n",
              "      <td>0</td>\n",
              "    </tr>\n",
              "    <tr>\n",
              "      <th>3</th>\n",
              "      <td>Trump Is So Obsessed He Even Has Obama’s Name...</td>\n",
              "      <td>On Christmas day, Donald Trump announced that ...</td>\n",
              "      <td>News</td>\n",
              "      <td>December 29, 2017</td>\n",
              "      <td>0</td>\n",
              "    </tr>\n",
              "    <tr>\n",
              "      <th>4</th>\n",
              "      <td>Pope Francis Just Called Out Donald Trump Dur...</td>\n",
              "      <td>Pope Francis used his annual Christmas Day mes...</td>\n",
              "      <td>News</td>\n",
              "      <td>December 25, 2017</td>\n",
              "      <td>0</td>\n",
              "    </tr>\n",
              "  </tbody>\n",
              "</table>\n",
              "</div>\n",
              "    <div class=\"colab-df-buttons\">\n",
              "\n",
              "  <div class=\"colab-df-container\">\n",
              "    <button class=\"colab-df-convert\" onclick=\"convertToInteractive('df-9eca6c10-e371-42b5-8e3a-acac68ce7a57')\"\n",
              "            title=\"Convert this dataframe to an interactive table.\"\n",
              "            style=\"display:none;\">\n",
              "\n",
              "  <svg xmlns=\"http://www.w3.org/2000/svg\" height=\"24px\" viewBox=\"0 -960 960 960\">\n",
              "    <path d=\"M120-120v-720h720v720H120Zm60-500h600v-160H180v160Zm220 220h160v-160H400v160Zm0 220h160v-160H400v160ZM180-400h160v-160H180v160Zm440 0h160v-160H620v160ZM180-180h160v-160H180v160Zm440 0h160v-160H620v160Z\"/>\n",
              "  </svg>\n",
              "    </button>\n",
              "\n",
              "  <style>\n",
              "    .colab-df-container {\n",
              "      display:flex;\n",
              "      gap: 12px;\n",
              "    }\n",
              "\n",
              "    .colab-df-convert {\n",
              "      background-color: #E8F0FE;\n",
              "      border: none;\n",
              "      border-radius: 50%;\n",
              "      cursor: pointer;\n",
              "      display: none;\n",
              "      fill: #1967D2;\n",
              "      height: 32px;\n",
              "      padding: 0 0 0 0;\n",
              "      width: 32px;\n",
              "    }\n",
              "\n",
              "    .colab-df-convert:hover {\n",
              "      background-color: #E2EBFA;\n",
              "      box-shadow: 0px 1px 2px rgba(60, 64, 67, 0.3), 0px 1px 3px 1px rgba(60, 64, 67, 0.15);\n",
              "      fill: #174EA6;\n",
              "    }\n",
              "\n",
              "    .colab-df-buttons div {\n",
              "      margin-bottom: 4px;\n",
              "    }\n",
              "\n",
              "    [theme=dark] .colab-df-convert {\n",
              "      background-color: #3B4455;\n",
              "      fill: #D2E3FC;\n",
              "    }\n",
              "\n",
              "    [theme=dark] .colab-df-convert:hover {\n",
              "      background-color: #434B5C;\n",
              "      box-shadow: 0px 1px 3px 1px rgba(0, 0, 0, 0.15);\n",
              "      filter: drop-shadow(0px 1px 2px rgba(0, 0, 0, 0.3));\n",
              "      fill: #FFFFFF;\n",
              "    }\n",
              "  </style>\n",
              "\n",
              "    <script>\n",
              "      const buttonEl =\n",
              "        document.querySelector('#df-9eca6c10-e371-42b5-8e3a-acac68ce7a57 button.colab-df-convert');\n",
              "      buttonEl.style.display =\n",
              "        google.colab.kernel.accessAllowed ? 'block' : 'none';\n",
              "\n",
              "      async function convertToInteractive(key) {\n",
              "        const element = document.querySelector('#df-9eca6c10-e371-42b5-8e3a-acac68ce7a57');\n",
              "        const dataTable =\n",
              "          await google.colab.kernel.invokeFunction('convertToInteractive',\n",
              "                                                    [key], {});\n",
              "        if (!dataTable) return;\n",
              "\n",
              "        const docLinkHtml = 'Like what you see? Visit the ' +\n",
              "          '<a target=\"_blank\" href=https://colab.research.google.com/notebooks/data_table.ipynb>data table notebook</a>'\n",
              "          + ' to learn more about interactive tables.';\n",
              "        element.innerHTML = '';\n",
              "        dataTable['output_type'] = 'display_data';\n",
              "        await google.colab.output.renderOutput(dataTable, element);\n",
              "        const docLink = document.createElement('div');\n",
              "        docLink.innerHTML = docLinkHtml;\n",
              "        element.appendChild(docLink);\n",
              "      }\n",
              "    </script>\n",
              "  </div>\n",
              "\n",
              "\n",
              "<div id=\"df-e7fffd53-bed6-4374-abcd-1782d95e0c34\">\n",
              "  <button class=\"colab-df-quickchart\" onclick=\"quickchart('df-e7fffd53-bed6-4374-abcd-1782d95e0c34')\"\n",
              "            title=\"Suggest charts\"\n",
              "            style=\"display:none;\">\n",
              "\n",
              "<svg xmlns=\"http://www.w3.org/2000/svg\" height=\"24px\"viewBox=\"0 0 24 24\"\n",
              "     width=\"24px\">\n",
              "    <g>\n",
              "        <path d=\"M19 3H5c-1.1 0-2 .9-2 2v14c0 1.1.9 2 2 2h14c1.1 0 2-.9 2-2V5c0-1.1-.9-2-2-2zM9 17H7v-7h2v7zm4 0h-2V7h2v10zm4 0h-2v-4h2v4z\"/>\n",
              "    </g>\n",
              "</svg>\n",
              "  </button>\n",
              "\n",
              "<style>\n",
              "  .colab-df-quickchart {\n",
              "      --bg-color: #E8F0FE;\n",
              "      --fill-color: #1967D2;\n",
              "      --hover-bg-color: #E2EBFA;\n",
              "      --hover-fill-color: #174EA6;\n",
              "      --disabled-fill-color: #AAA;\n",
              "      --disabled-bg-color: #DDD;\n",
              "  }\n",
              "\n",
              "  [theme=dark] .colab-df-quickchart {\n",
              "      --bg-color: #3B4455;\n",
              "      --fill-color: #D2E3FC;\n",
              "      --hover-bg-color: #434B5C;\n",
              "      --hover-fill-color: #FFFFFF;\n",
              "      --disabled-bg-color: #3B4455;\n",
              "      --disabled-fill-color: #666;\n",
              "  }\n",
              "\n",
              "  .colab-df-quickchart {\n",
              "    background-color: var(--bg-color);\n",
              "    border: none;\n",
              "    border-radius: 50%;\n",
              "    cursor: pointer;\n",
              "    display: none;\n",
              "    fill: var(--fill-color);\n",
              "    height: 32px;\n",
              "    padding: 0;\n",
              "    width: 32px;\n",
              "  }\n",
              "\n",
              "  .colab-df-quickchart:hover {\n",
              "    background-color: var(--hover-bg-color);\n",
              "    box-shadow: 0 1px 2px rgba(60, 64, 67, 0.3), 0 1px 3px 1px rgba(60, 64, 67, 0.15);\n",
              "    fill: var(--button-hover-fill-color);\n",
              "  }\n",
              "\n",
              "  .colab-df-quickchart-complete:disabled,\n",
              "  .colab-df-quickchart-complete:disabled:hover {\n",
              "    background-color: var(--disabled-bg-color);\n",
              "    fill: var(--disabled-fill-color);\n",
              "    box-shadow: none;\n",
              "  }\n",
              "\n",
              "  .colab-df-spinner {\n",
              "    border: 2px solid var(--fill-color);\n",
              "    border-color: transparent;\n",
              "    border-bottom-color: var(--fill-color);\n",
              "    animation:\n",
              "      spin 1s steps(1) infinite;\n",
              "  }\n",
              "\n",
              "  @keyframes spin {\n",
              "    0% {\n",
              "      border-color: transparent;\n",
              "      border-bottom-color: var(--fill-color);\n",
              "      border-left-color: var(--fill-color);\n",
              "    }\n",
              "    20% {\n",
              "      border-color: transparent;\n",
              "      border-left-color: var(--fill-color);\n",
              "      border-top-color: var(--fill-color);\n",
              "    }\n",
              "    30% {\n",
              "      border-color: transparent;\n",
              "      border-left-color: var(--fill-color);\n",
              "      border-top-color: var(--fill-color);\n",
              "      border-right-color: var(--fill-color);\n",
              "    }\n",
              "    40% {\n",
              "      border-color: transparent;\n",
              "      border-right-color: var(--fill-color);\n",
              "      border-top-color: var(--fill-color);\n",
              "    }\n",
              "    60% {\n",
              "      border-color: transparent;\n",
              "      border-right-color: var(--fill-color);\n",
              "    }\n",
              "    80% {\n",
              "      border-color: transparent;\n",
              "      border-right-color: var(--fill-color);\n",
              "      border-bottom-color: var(--fill-color);\n",
              "    }\n",
              "    90% {\n",
              "      border-color: transparent;\n",
              "      border-bottom-color: var(--fill-color);\n",
              "    }\n",
              "  }\n",
              "</style>\n",
              "\n",
              "  <script>\n",
              "    async function quickchart(key) {\n",
              "      const quickchartButtonEl =\n",
              "        document.querySelector('#' + key + ' button');\n",
              "      quickchartButtonEl.disabled = true;  // To prevent multiple clicks.\n",
              "      quickchartButtonEl.classList.add('colab-df-spinner');\n",
              "      try {\n",
              "        const charts = await google.colab.kernel.invokeFunction(\n",
              "            'suggestCharts', [key], {});\n",
              "      } catch (error) {\n",
              "        console.error('Error during call to suggestCharts:', error);\n",
              "      }\n",
              "      quickchartButtonEl.classList.remove('colab-df-spinner');\n",
              "      quickchartButtonEl.classList.add('colab-df-quickchart-complete');\n",
              "    }\n",
              "    (() => {\n",
              "      let quickchartButtonEl =\n",
              "        document.querySelector('#df-e7fffd53-bed6-4374-abcd-1782d95e0c34 button');\n",
              "      quickchartButtonEl.style.display =\n",
              "        google.colab.kernel.accessAllowed ? 'block' : 'none';\n",
              "    })();\n",
              "  </script>\n",
              "</div>\n",
              "    </div>\n",
              "  </div>\n"
            ],
            "application/vnd.google.colaboratory.intrinsic+json": {
              "type": "dataframe",
              "variable_name": "combined_df",
              "summary": "{\n  \"name\": \"combined_df\",\n  \"rows\": 44898,\n  \"fields\": [\n    {\n      \"column\": \"title\",\n      \"properties\": {\n        \"dtype\": \"string\",\n        \"num_unique_values\": 38729,\n        \"samples\": [\n          \"Supreme Court Justice Ginsburg 'regrets' Trump criticisms\",\n          \" DOZENS Of GOP Foreign Policy Experts Pledge To Stop Trump From Winning Nomination\",\n          \" REPORT: Trump Laughed After Woman Was Grabbed \\u2018By The P*ssy\\u2019 On Apprentice Set\"\n        ],\n        \"semantic_type\": \"\",\n        \"description\": \"\"\n      }\n    },\n    {\n      \"column\": \"text\",\n      \"properties\": {\n        \"dtype\": \"string\",\n        \"num_unique_values\": 38646,\n        \"samples\": [\n          \" (This September 29 has been corrected to fix date of election in paragraph 3) NAIROBI (Reuters) - A Kenyan government watchdog said on Friday it was investigating whether police had assaulted students during protests this week at the University of Nairobi over the detention of an opposition lawmaker.   Police fired tear gas on Thursday at the protesting students. Video footage posted on social media later in the day showed uniformed officers outside dormitories and inside classrooms using batons to hit people who did not appear to be involved in the campus protests.  It was the latest crackdown by police on protests since an Aug. 8 presidential election that was later annulled by the Supreme Court. A re-run of the vote has been set for Oct. 26. The Independent Police Oversight Authority (IPOA)  this morning noted from social media reports of an incident in which members of the National Police Service allegedly stormed the University of Nairobi and assaulted students at the institution,  the authority said on its Twitter feed.  It requested that any member of the public come forward to provide information to aid the investigation.  The students had been protesting against the re-arrest of a lawmaker, Paul Ongili Owino, on Wednesday, shortly after he was released on bail on charges of subversion for calling President Uhuru Kenyatta a  son of a dog  at a campaign rally. Kenya is a key Western ally in a region often roiled by violence. Preparations for the re-run of the election are being closely monitored for signs of instability, after at least 28 people were killed in unrest following the Aug. 8 vote. The IPOA watchdog was created in 2011, after police came under severe criticism for the number of protesters killed during demonstrations against disputed elections in 2007. The violence then killed around 1,2000 people. But local and international rights groups say the institution is struggling to fulfill its mandate to investigate allegations of police brutality in a country rife with reports from civilians of extrajudicial killings by security forces.  The IPOA has secured two convictions of police officers in the four years it has been operational. The watchdog pledged last month to fast-track investigations into high-profile deaths such as that of a baby allegedly killed by police in the violence after the election. [L4N1L34FC] But people familiar with the status of these investigations say the police are not cooperating with them, and that senior officials in the police force and the interior ministry insist officers killed only thieves and thugs. \",\n          \"WASHINGTON/CAIRO (Reuters) - Five Iraqi passengers and one Yemeni were barred from boarding an EgyptAir flight from Cairo to New York on Saturday after President Donald Trump halted the entry of citizens from seven Muslim-majority countries, sources at Cairo airport said. The passengers, arriving in transit to Cairo airport, were stopped and re-directed to flights headed for their home countries despite holding valid visas, the sources said.  Trump on Friday put a four-month hold on allowing refugees into the United States and temporarily barred travelers from Syria and six other Muslim-majority countries, saying the moves would help protect Americans from terrorist attacks. He said his most sweeping use of his presidential powers since taking office a week ago, barring travelers from the seven nations for at least 90 days, would give his administration time to develop more stringent screening procedures for refugees, immigrants and visitors. \\u201cI\\u2019m establishing new vetting measures to keep radical Islamic terrorists out of the United States of America. Don\\u2019t want them here,\\u201d Trump said earlier on Friday at the Pentagon. \\u201cWe only want to admit those into our country who will support our country and love deeply our people,\\u201d he said. The bans, though temporary, took effect immediately, causing havoc and confusion for would-be travelers with passports from Iran, Iraq, Libya, Somalia, Sudan, Syria and Yemen. Besides Cairo it was not immediately clear whether other  airports of countries listed by Trump had swiftly implemented the ban. Arab officials of the listed countries would not comment on the matter. The order seeks to prioritize refugees fleeing religious persecution, a move Trump separately said was aimed at helping Christians in Syria. That led some legal experts to question whether the order was constitutional. One group said it would announce a court challenge on Monday. The Council on American-Islamic Relations said the order targets Muslims because of their faith, contravening the U.S. Constitutional right to freedom of religion. \\u201cPresident Trump has cloaked what is a discriminatory ban against nationals of Muslim countries under the banner of national security,\\u201d said Greg Chen of the American Immigration Lawyers Association.  Trump has long pledged to take this kind of action, making it a prominent feature of his campaign for the Nov. 8 election. But people who work with Muslim immigrants and refugees were scrambling to determine the scope of the order. Even legal permanent residents - people with \\u201cgreen cards\\u201d allowing them to live and work in the United States - were being advised to consult immigration lawyers before traveling outside the country, or trying to return, according to Muslim Advocates, a civil rights group in Washington.  On Friday evening, Abed Ayoub of the American-Arab Anti-Discrimination Committee said he had fielded about 100 queries from people anxious about the order, which he said he believed could affect traveling green card holders, students, people coming to the United States for medical care and others. \\u201cIt\\u2019s chaos,\\u201d Ayoub said. During his campaign, Trump tapped into American fears about Islamic State militants and the flood of migrants into Europe from Syria\\u2019s civil war, saying refugees could be a \\u201cTrojan horse\\u201d that allowed attackers to enter the United States. In December 2015, he called for a ban on all Muslims entering the United States, drawing fire for suggesting a religious test for immigrants that critics said would violate the U.S. Constitution. His idea later evolved into a proposal for \\u201cextreme vetting.\\u201d  Trump\\u2019s order also suspends the Syrian refugee program until further notice, and will eventually give priority to minority religious groups fleeing persecution.  Trump said in an interview with the Christian Broadcasting Network that the exception would help Syrian Christians fleeing the civil war there. Legal experts were divided on whether this order would be constitutional. \\u201cIf they are thinking about an exception for Christians, in almost any other legal context discriminating in favor of one religion and against another religion could violate the constitution,\\u201d said Stephen Legomsky, a former chief counsel at U.S. Citizenship and Immigration Services in the Obama administration. But Peter Spiro, a professor at Temple University Beasley School of Law, said Trump\\u2019s action would likely be constitutional because the president and Congress are allowed considerable deference when it comes to asylum decisions. \\u201cIt\\u2019s a completely plausible prioritization, to the extent this group is actually being persecuted,\\u201d Spiro said. The order may also affect special refugee programs for Iraqis who worked for the U.S. government as translators after the 2003 invasion of Iraq. It is already affecting refugees and their families, said Jen Smyers of the Church World Service, a Protestant faith-based group that works with migrants. Smyers said she spoke to an Iraqi mother whose twin daughters remain in Iraq due to processing delays. \\u201cThose two 18-year-old daughters won\\u2019t be able to join their mother in the U.S.,\\u201d she said. Democrats on Friday were quick to condemn Trump\\u2019s order as un-American, saying it would tarnish the reputation of the United States as a land that welcomes immigrants. \\u201cToday\\u2019s executive order from President Trump is more about extreme xenophobia than extreme vetting,\\u201d said Democratic Senator Edward Markey in a statement. Some Republicans praised the move. Representative Bob Goodlatte, chairman of the House of Representatives Judiciary Committee, said Islamic State has threatened to use the U.S. immigration system, making it important to do more screening. \\u201cI am pleased that President Trump is using the tools granted to him by Congress and the power granted by the Constitution to help keep America safe and ensure we know who is entering the United States,\\u201d Goodlatte said in a statement. Without naming Trump, Iranian President Hassan Rouhani said on Saturday it was no time to build walls between nations and criticized steps towards cancelling world trade agreements. Trump on Wednesday ordered the construction of a U.S.-Mexican border wall, a major promise during his election campaign, as part of a package of measures to curb illegal immigration. \\u201cToday is not the time to erect walls between nations. They have forgotten that the Berlin wall fell years ago,\\u201d Rouhani said in a speech carried live on Iranian state television. He made no direct reference to Trump\\u2019s order regarding refugees and travelers from the seven mainly Muslim states. Rouhani, a pragmatist elected in 2013, thawed Iran\\u2019s relations with world powers after years of confrontation and engineered its 2015 deal with them under which it curbed its nuclear program in exchange for relief from sanctions. Rouhani said earlier this month that Trump could not unilaterally cancel the nuclear deal and that talk of renegotiating it was \\u201cmeaningless\\u201d. France and Germany voiced disquiet on Saturday over Trump\\u2019s new restrictions on immigration. \\u201cWelcoming refugees who flee war and oppression is part of our duty,\\u201d French Foreign Minister Jean-Marc Ayrault said at a joint news conference with German counterpart Sigmar Gabriel. \\u201cThe United States is a country where Christian traditions have an important meaning. Loving your neighbor is a major Christian value, and that includes helping people,\\u201d said  Gabriel. \\u201cI think that is what unites us in the West, and I think that is what we want to make clear to the Americans.\\u201d \",\n          \"PRISTINA (Reuters) - Kosovo s center-right coalition led by the Democratic Party of Kosovo signed a deal on Monday with the small New Alliance for Kosovo party to form a government, ending nearly three months of political deadlock after an election on June 11.      Finally Kosovo has started to move ... we had some big delays and our institutions now will be formed,  said Ramush Haradinaj, from the center-right coalition of parties made up of former guerrillas who fought the 1998-99 war against Serb forces. Under the deal, the parties along with ethnic minorities will secure 63 seats in the 120-seat parliament.  President Hashim Thaci is expected to give Haradinaj a mandate to form the government within days. A source who asked not to be named told Reuters the parliament session to elect the parliament speaker would be held this week. Haradinaj, who twice stood trial before the United Nations war crimes court for war crimes and was acquitted, briefly held the post of prime minister in 2005.  The smaller New Alliance for Kosovo party is led by Behgjet Pacolli, who is dubbed by media the richest Kosovar.  Pacolli, who also holds a Swiss passport, won many contracts from the Russian government to rebuild state buildings in Moscow in the  90s but a decade ago he moved his business from Moscow to Kazakhstan.  It is unclear what post Pacolli will hold in the new government.  The new government will have to tackle unemployment running at 30 percent and improve relations with Kosovo s neighbors, especially Serbia, a precondition for both countries to move forward in the European Union accession process. It must also reform health and education and the tax administration system as well as include representatives of some 120,000 Kosovo Serbs who do not recognize independence. Kosovo declared independence from Serbia in 2008, almost a decade after NATO air strikes drove out Serbian forces accused of expelling and killing ethnic Albanian civilians in a two-year counter-insurgency.  \"\n        ],\n        \"semantic_type\": \"\",\n        \"description\": \"\"\n      }\n    },\n    {\n      \"column\": \"subject\",\n      \"properties\": {\n        \"dtype\": \"category\",\n        \"num_unique_values\": 8,\n        \"samples\": [\n          \"politics\",\n          \"Middle-east\",\n          \"News\"\n        ],\n        \"semantic_type\": \"\",\n        \"description\": \"\"\n      }\n    },\n    {\n      \"column\": \"date\",\n      \"properties\": {\n        \"dtype\": \"category\",\n        \"num_unique_values\": 2397,\n        \"samples\": [\n          \"October 6, 2016\",\n          \"June 10, 2017\",\n          \"Sep 13, 2015\"\n        ],\n        \"semantic_type\": \"\",\n        \"description\": \"\"\n      }\n    },\n    {\n      \"column\": \"label\",\n      \"properties\": {\n        \"dtype\": \"number\",\n        \"std\": 0,\n        \"min\": 0,\n        \"max\": 1,\n        \"num_unique_values\": 2,\n        \"samples\": [\n          1,\n          0\n        ],\n        \"semantic_type\": \"\",\n        \"description\": \"\"\n      }\n    }\n  ]\n}"
            }
          },
          "metadata": {},
          "execution_count": 4
        }
      ],
      "source": [
        "combined_df.head()"
      ]
    },
    {
      "cell_type": "code",
      "execution_count": 5,
      "id": "296a0457-3e31-413e-b519-2a9815fad204",
      "metadata": {
        "colab": {
          "base_uri": "https://localhost:8080/",
          "height": 206
        },
        "id": "296a0457-3e31-413e-b519-2a9815fad204",
        "outputId": "2065aa44-eb0c-419e-aaf2-2693e3c58712"
      },
      "outputs": [
        {
          "output_type": "execute_result",
          "data": {
            "text/plain": [
              "                                               title  \\\n",
              "0   Donald Trump Sends Out Embarrassing New Year’...   \n",
              "1   Drunk Bragging Trump Staffer Started Russian ...   \n",
              "2   Sheriff David Clarke Becomes An Internet Joke...   \n",
              "3   Trump Is So Obsessed He Even Has Obama’s Name...   \n",
              "4   Pope Francis Just Called Out Donald Trump Dur...   \n",
              "\n",
              "                                                text subject  \\\n",
              "0  Donald Trump just couldn t wish all Americans ...    News   \n",
              "1  House Intelligence Committee Chairman Devin Nu...    News   \n",
              "2  On Friday it was revealed that former Milwauke...    News   \n",
              "3  On Christmas day Donald Trump announced that h...    News   \n",
              "4  Pope Francis used his annual Christmas Day mes...    News   \n",
              "\n",
              "                date  label  num_of_words  \n",
              "0  December 31, 2017      0           492  \n",
              "1  December 31, 2017      0           305  \n",
              "2  December 30, 2017      0           579  \n",
              "3  December 29, 2017      0           441  \n",
              "4  December 25, 2017      0           420  "
            ],
            "text/html": [
              "\n",
              "  <div id=\"df-f0a82b3a-eb58-4da9-be71-475eee182379\" class=\"colab-df-container\">\n",
              "    <div>\n",
              "<style scoped>\n",
              "    .dataframe tbody tr th:only-of-type {\n",
              "        vertical-align: middle;\n",
              "    }\n",
              "\n",
              "    .dataframe tbody tr th {\n",
              "        vertical-align: top;\n",
              "    }\n",
              "\n",
              "    .dataframe thead th {\n",
              "        text-align: right;\n",
              "    }\n",
              "</style>\n",
              "<table border=\"1\" class=\"dataframe\">\n",
              "  <thead>\n",
              "    <tr style=\"text-align: right;\">\n",
              "      <th></th>\n",
              "      <th>title</th>\n",
              "      <th>text</th>\n",
              "      <th>subject</th>\n",
              "      <th>date</th>\n",
              "      <th>label</th>\n",
              "      <th>num_of_words</th>\n",
              "    </tr>\n",
              "  </thead>\n",
              "  <tbody>\n",
              "    <tr>\n",
              "      <th>0</th>\n",
              "      <td>Donald Trump Sends Out Embarrassing New Year’...</td>\n",
              "      <td>Donald Trump just couldn t wish all Americans ...</td>\n",
              "      <td>News</td>\n",
              "      <td>December 31, 2017</td>\n",
              "      <td>0</td>\n",
              "      <td>492</td>\n",
              "    </tr>\n",
              "    <tr>\n",
              "      <th>1</th>\n",
              "      <td>Drunk Bragging Trump Staffer Started Russian ...</td>\n",
              "      <td>House Intelligence Committee Chairman Devin Nu...</td>\n",
              "      <td>News</td>\n",
              "      <td>December 31, 2017</td>\n",
              "      <td>0</td>\n",
              "      <td>305</td>\n",
              "    </tr>\n",
              "    <tr>\n",
              "      <th>2</th>\n",
              "      <td>Sheriff David Clarke Becomes An Internet Joke...</td>\n",
              "      <td>On Friday it was revealed that former Milwauke...</td>\n",
              "      <td>News</td>\n",
              "      <td>December 30, 2017</td>\n",
              "      <td>0</td>\n",
              "      <td>579</td>\n",
              "    </tr>\n",
              "    <tr>\n",
              "      <th>3</th>\n",
              "      <td>Trump Is So Obsessed He Even Has Obama’s Name...</td>\n",
              "      <td>On Christmas day Donald Trump announced that h...</td>\n",
              "      <td>News</td>\n",
              "      <td>December 29, 2017</td>\n",
              "      <td>0</td>\n",
              "      <td>441</td>\n",
              "    </tr>\n",
              "    <tr>\n",
              "      <th>4</th>\n",
              "      <td>Pope Francis Just Called Out Donald Trump Dur...</td>\n",
              "      <td>Pope Francis used his annual Christmas Day mes...</td>\n",
              "      <td>News</td>\n",
              "      <td>December 25, 2017</td>\n",
              "      <td>0</td>\n",
              "      <td>420</td>\n",
              "    </tr>\n",
              "  </tbody>\n",
              "</table>\n",
              "</div>\n",
              "    <div class=\"colab-df-buttons\">\n",
              "\n",
              "  <div class=\"colab-df-container\">\n",
              "    <button class=\"colab-df-convert\" onclick=\"convertToInteractive('df-f0a82b3a-eb58-4da9-be71-475eee182379')\"\n",
              "            title=\"Convert this dataframe to an interactive table.\"\n",
              "            style=\"display:none;\">\n",
              "\n",
              "  <svg xmlns=\"http://www.w3.org/2000/svg\" height=\"24px\" viewBox=\"0 -960 960 960\">\n",
              "    <path d=\"M120-120v-720h720v720H120Zm60-500h600v-160H180v160Zm220 220h160v-160H400v160Zm0 220h160v-160H400v160ZM180-400h160v-160H180v160Zm440 0h160v-160H620v160ZM180-180h160v-160H180v160Zm440 0h160v-160H620v160Z\"/>\n",
              "  </svg>\n",
              "    </button>\n",
              "\n",
              "  <style>\n",
              "    .colab-df-container {\n",
              "      display:flex;\n",
              "      gap: 12px;\n",
              "    }\n",
              "\n",
              "    .colab-df-convert {\n",
              "      background-color: #E8F0FE;\n",
              "      border: none;\n",
              "      border-radius: 50%;\n",
              "      cursor: pointer;\n",
              "      display: none;\n",
              "      fill: #1967D2;\n",
              "      height: 32px;\n",
              "      padding: 0 0 0 0;\n",
              "      width: 32px;\n",
              "    }\n",
              "\n",
              "    .colab-df-convert:hover {\n",
              "      background-color: #E2EBFA;\n",
              "      box-shadow: 0px 1px 2px rgba(60, 64, 67, 0.3), 0px 1px 3px 1px rgba(60, 64, 67, 0.15);\n",
              "      fill: #174EA6;\n",
              "    }\n",
              "\n",
              "    .colab-df-buttons div {\n",
              "      margin-bottom: 4px;\n",
              "    }\n",
              "\n",
              "    [theme=dark] .colab-df-convert {\n",
              "      background-color: #3B4455;\n",
              "      fill: #D2E3FC;\n",
              "    }\n",
              "\n",
              "    [theme=dark] .colab-df-convert:hover {\n",
              "      background-color: #434B5C;\n",
              "      box-shadow: 0px 1px 3px 1px rgba(0, 0, 0, 0.15);\n",
              "      filter: drop-shadow(0px 1px 2px rgba(0, 0, 0, 0.3));\n",
              "      fill: #FFFFFF;\n",
              "    }\n",
              "  </style>\n",
              "\n",
              "    <script>\n",
              "      const buttonEl =\n",
              "        document.querySelector('#df-f0a82b3a-eb58-4da9-be71-475eee182379 button.colab-df-convert');\n",
              "      buttonEl.style.display =\n",
              "        google.colab.kernel.accessAllowed ? 'block' : 'none';\n",
              "\n",
              "      async function convertToInteractive(key) {\n",
              "        const element = document.querySelector('#df-f0a82b3a-eb58-4da9-be71-475eee182379');\n",
              "        const dataTable =\n",
              "          await google.colab.kernel.invokeFunction('convertToInteractive',\n",
              "                                                    [key], {});\n",
              "        if (!dataTable) return;\n",
              "\n",
              "        const docLinkHtml = 'Like what you see? Visit the ' +\n",
              "          '<a target=\"_blank\" href=https://colab.research.google.com/notebooks/data_table.ipynb>data table notebook</a>'\n",
              "          + ' to learn more about interactive tables.';\n",
              "        element.innerHTML = '';\n",
              "        dataTable['output_type'] = 'display_data';\n",
              "        await google.colab.output.renderOutput(dataTable, element);\n",
              "        const docLink = document.createElement('div');\n",
              "        docLink.innerHTML = docLinkHtml;\n",
              "        element.appendChild(docLink);\n",
              "      }\n",
              "    </script>\n",
              "  </div>\n",
              "\n",
              "\n",
              "<div id=\"df-070dcc06-067c-40ad-afbd-93230f03be9f\">\n",
              "  <button class=\"colab-df-quickchart\" onclick=\"quickchart('df-070dcc06-067c-40ad-afbd-93230f03be9f')\"\n",
              "            title=\"Suggest charts\"\n",
              "            style=\"display:none;\">\n",
              "\n",
              "<svg xmlns=\"http://www.w3.org/2000/svg\" height=\"24px\"viewBox=\"0 0 24 24\"\n",
              "     width=\"24px\">\n",
              "    <g>\n",
              "        <path d=\"M19 3H5c-1.1 0-2 .9-2 2v14c0 1.1.9 2 2 2h14c1.1 0 2-.9 2-2V5c0-1.1-.9-2-2-2zM9 17H7v-7h2v7zm4 0h-2V7h2v10zm4 0h-2v-4h2v4z\"/>\n",
              "    </g>\n",
              "</svg>\n",
              "  </button>\n",
              "\n",
              "<style>\n",
              "  .colab-df-quickchart {\n",
              "      --bg-color: #E8F0FE;\n",
              "      --fill-color: #1967D2;\n",
              "      --hover-bg-color: #E2EBFA;\n",
              "      --hover-fill-color: #174EA6;\n",
              "      --disabled-fill-color: #AAA;\n",
              "      --disabled-bg-color: #DDD;\n",
              "  }\n",
              "\n",
              "  [theme=dark] .colab-df-quickchart {\n",
              "      --bg-color: #3B4455;\n",
              "      --fill-color: #D2E3FC;\n",
              "      --hover-bg-color: #434B5C;\n",
              "      --hover-fill-color: #FFFFFF;\n",
              "      --disabled-bg-color: #3B4455;\n",
              "      --disabled-fill-color: #666;\n",
              "  }\n",
              "\n",
              "  .colab-df-quickchart {\n",
              "    background-color: var(--bg-color);\n",
              "    border: none;\n",
              "    border-radius: 50%;\n",
              "    cursor: pointer;\n",
              "    display: none;\n",
              "    fill: var(--fill-color);\n",
              "    height: 32px;\n",
              "    padding: 0;\n",
              "    width: 32px;\n",
              "  }\n",
              "\n",
              "  .colab-df-quickchart:hover {\n",
              "    background-color: var(--hover-bg-color);\n",
              "    box-shadow: 0 1px 2px rgba(60, 64, 67, 0.3), 0 1px 3px 1px rgba(60, 64, 67, 0.15);\n",
              "    fill: var(--button-hover-fill-color);\n",
              "  }\n",
              "\n",
              "  .colab-df-quickchart-complete:disabled,\n",
              "  .colab-df-quickchart-complete:disabled:hover {\n",
              "    background-color: var(--disabled-bg-color);\n",
              "    fill: var(--disabled-fill-color);\n",
              "    box-shadow: none;\n",
              "  }\n",
              "\n",
              "  .colab-df-spinner {\n",
              "    border: 2px solid var(--fill-color);\n",
              "    border-color: transparent;\n",
              "    border-bottom-color: var(--fill-color);\n",
              "    animation:\n",
              "      spin 1s steps(1) infinite;\n",
              "  }\n",
              "\n",
              "  @keyframes spin {\n",
              "    0% {\n",
              "      border-color: transparent;\n",
              "      border-bottom-color: var(--fill-color);\n",
              "      border-left-color: var(--fill-color);\n",
              "    }\n",
              "    20% {\n",
              "      border-color: transparent;\n",
              "      border-left-color: var(--fill-color);\n",
              "      border-top-color: var(--fill-color);\n",
              "    }\n",
              "    30% {\n",
              "      border-color: transparent;\n",
              "      border-left-color: var(--fill-color);\n",
              "      border-top-color: var(--fill-color);\n",
              "      border-right-color: var(--fill-color);\n",
              "    }\n",
              "    40% {\n",
              "      border-color: transparent;\n",
              "      border-right-color: var(--fill-color);\n",
              "      border-top-color: var(--fill-color);\n",
              "    }\n",
              "    60% {\n",
              "      border-color: transparent;\n",
              "      border-right-color: var(--fill-color);\n",
              "    }\n",
              "    80% {\n",
              "      border-color: transparent;\n",
              "      border-right-color: var(--fill-color);\n",
              "      border-bottom-color: var(--fill-color);\n",
              "    }\n",
              "    90% {\n",
              "      border-color: transparent;\n",
              "      border-bottom-color: var(--fill-color);\n",
              "    }\n",
              "  }\n",
              "</style>\n",
              "\n",
              "  <script>\n",
              "    async function quickchart(key) {\n",
              "      const quickchartButtonEl =\n",
              "        document.querySelector('#' + key + ' button');\n",
              "      quickchartButtonEl.disabled = true;  // To prevent multiple clicks.\n",
              "      quickchartButtonEl.classList.add('colab-df-spinner');\n",
              "      try {\n",
              "        const charts = await google.colab.kernel.invokeFunction(\n",
              "            'suggestCharts', [key], {});\n",
              "      } catch (error) {\n",
              "        console.error('Error during call to suggestCharts:', error);\n",
              "      }\n",
              "      quickchartButtonEl.classList.remove('colab-df-spinner');\n",
              "      quickchartButtonEl.classList.add('colab-df-quickchart-complete');\n",
              "    }\n",
              "    (() => {\n",
              "      let quickchartButtonEl =\n",
              "        document.querySelector('#df-070dcc06-067c-40ad-afbd-93230f03be9f button');\n",
              "      quickchartButtonEl.style.display =\n",
              "        google.colab.kernel.accessAllowed ? 'block' : 'none';\n",
              "    })();\n",
              "  </script>\n",
              "</div>\n",
              "    </div>\n",
              "  </div>\n"
            ],
            "application/vnd.google.colaboratory.intrinsic+json": {
              "type": "dataframe",
              "variable_name": "combined_df",
              "summary": "{\n  \"name\": \"combined_df\",\n  \"rows\": 44898,\n  \"fields\": [\n    {\n      \"column\": \"title\",\n      \"properties\": {\n        \"dtype\": \"string\",\n        \"num_unique_values\": 38729,\n        \"samples\": [\n          \"Supreme Court Justice Ginsburg 'regrets' Trump criticisms\",\n          \" DOZENS Of GOP Foreign Policy Experts Pledge To Stop Trump From Winning Nomination\",\n          \" REPORT: Trump Laughed After Woman Was Grabbed \\u2018By The P*ssy\\u2019 On Apprentice Set\"\n        ],\n        \"semantic_type\": \"\",\n        \"description\": \"\"\n      }\n    },\n    {\n      \"column\": \"text\",\n      \"properties\": {\n        \"dtype\": \"string\",\n        \"num_unique_values\": 38646,\n        \"samples\": [\n          \" This September 29 has been corrected to fix date of election in paragraph 3 NAIROBI Reuters  A Kenyan government watchdog said on Friday it was investigating whether police had assaulted students during protests this week at the University of Nairobi over the detention of an opposition lawmaker   Police fired tear gas on Thursday at the protesting students Video footage posted on social media later in the day showed uniformed officers outside dormitories and inside classrooms using batons to hit people who did not appear to be involved in the campus protests  It was the latest crackdown by police on protests since an Aug 8 presidential election that was later annulled by the Supreme Court A rerun of the vote has been set for Oct 26 The Independent Police Oversight Authority IPOA  this morning noted from social media reports of an incident in which members of the National Police Service allegedly stormed the University of Nairobi and assaulted students at the institution  the authority said on its Twitter feed  It requested that any member of the public come forward to provide information to aid the investigation  The students had been protesting against the rearrest of a lawmaker Paul Ongili Owino on Wednesday shortly after he was released on bail on charges of subversion for calling President Uhuru Kenyatta a  son of a dog  at a campaign rally Kenya is a key Western ally in a region often roiled by violence Preparations for the rerun of the election are being closely monitored for signs of instability after at least 28 people were killed in unrest following the Aug 8 vote The IPOA watchdog was created in 2011 after police came under severe criticism for the number of protesters killed during demonstrations against disputed elections in 2007 The violence then killed around 12000 people But local and international rights groups say the institution is struggling to fulfill its mandate to investigate allegations of police brutality in a country rife with reports from civilians of extrajudicial killings by security forces  The IPOA has secured two convictions of police officers in the four years it has been operational The watchdog pledged last month to fasttrack investigations into highprofile deaths such as that of a baby allegedly killed by police in the violence after the election L4N1L34FC But people familiar with the status of these investigations say the police are not cooperating with them and that senior officials in the police force and the interior ministry insist officers killed only thieves and thugs \",\n          \"WASHINGTONCAIRO Reuters  Five Iraqi passengers and one Yemeni were barred from boarding an EgyptAir flight from Cairo to New York on Saturday after President Donald Trump halted the entry of citizens from seven Muslimmajority countries sources at Cairo airport said The passengers arriving in transit to Cairo airport were stopped and redirected to flights headed for their home countries despite holding valid visas the sources said  Trump on Friday put a fourmonth hold on allowing refugees into the United States and temporarily barred travelers from Syria and six other Muslimmajority countries saying the moves would help protect Americans from terrorist attacks He said his most sweeping use of his presidential powers since taking office a week ago barring travelers from the seven nations for at least 90 days would give his administration time to develop more stringent screening procedures for refugees immigrants and visitors Im establishing new vetting measures to keep radical Islamic terrorists out of the United States of America Dont want them here Trump said earlier on Friday at the Pentagon We only want to admit those into our country who will support our country and love deeply our people he said The bans though temporary took effect immediately causing havoc and confusion for wouldbe travelers with passports from Iran Iraq Libya Somalia Sudan Syria and Yemen Besides Cairo it was not immediately clear whether other  airports of countries listed by Trump had swiftly implemented the ban Arab officials of the listed countries would not comment on the matter The order seeks to prioritize refugees fleeing religious persecution a move Trump separately said was aimed at helping Christians in Syria That led some legal experts to question whether the order was constitutional One group said it would announce a court challenge on Monday The Council on AmericanIslamic Relations said the order targets Muslims because of their faith contravening the US Constitutional right to freedom of religion President Trump has cloaked what is a discriminatory ban against nationals of Muslim countries under the banner of national security said Greg Chen of the American Immigration Lawyers Association  Trump has long pledged to take this kind of action making it a prominent feature of his campaign for the Nov 8 election But people who work with Muslim immigrants and refugees were scrambling to determine the scope of the order Even legal permanent residents  people with green cards allowing them to live and work in the United States  were being advised to consult immigration lawyers before traveling outside the country or trying to return according to Muslim Advocates a civil rights group in Washington  On Friday evening Abed Ayoub of the AmericanArab AntiDiscrimination Committee said he had fielded about 100 queries from people anxious about the order which he said he believed could affect traveling green card holders students people coming to the United States for medical care and others Its chaos Ayoub said During his campaign Trump tapped into American fears about Islamic State militants and the flood of migrants into Europe from Syrias civil war saying refugees could be a Trojan horse that allowed attackers to enter the United States In December 2015 he called for a ban on all Muslims entering the United States drawing fire for suggesting a religious test for immigrants that critics said would violate the US Constitution His idea later evolved into a proposal for extreme vetting  Trumps order also suspends the Syrian refugee program until further notice and will eventually give priority to minority religious groups fleeing persecution  Trump said in an interview with the Christian Broadcasting Network that the exception would help Syrian Christians fleeing the civil war there Legal experts were divided on whether this order would be constitutional If they are thinking about an exception for Christians in almost any other legal context discriminating in favor of one religion and against another religion could violate the constitution said Stephen Legomsky a former chief counsel at US Citizenship and Immigration Services in the Obama administration But Peter Spiro a professor at Temple University Beasley School of Law said Trumps action would likely be constitutional because the president and Congress are allowed considerable deference when it comes to asylum decisions Its a completely plausible prioritization to the extent this group is actually being persecuted Spiro said The order may also affect special refugee programs for Iraqis who worked for the US government as translators after the 2003 invasion of Iraq It is already affecting refugees and their families said Jen Smyers of the Church World Service a Protestant faithbased group that works with migrants Smyers said she spoke to an Iraqi mother whose twin daughters remain in Iraq due to processing delays Those two 18yearold daughters wont be able to join their mother in the US she said Democrats on Friday were quick to condemn Trumps order as unAmerican saying it would tarnish the reputation of the United States as a land that welcomes immigrants Todays executive order from President Trump is more about extreme xenophobia than extreme vetting said Democratic Senator Edward Markey in a statement Some Republicans praised the move Representative Bob Goodlatte chairman of the House of Representatives Judiciary Committee said Islamic State has threatened to use the US immigration system making it important to do more screening I am pleased that President Trump is using the tools granted to him by Congress and the power granted by the Constitution to help keep America safe and ensure we know who is entering the United States Goodlatte said in a statement Without naming Trump Iranian President Hassan Rouhani said on Saturday it was no time to build walls between nations and criticized steps towards cancelling world trade agreements Trump on Wednesday ordered the construction of a USMexican border wall a major promise during his election campaign as part of a package of measures to curb illegal immigration Today is not the time to erect walls between nations They have forgotten that the Berlin wall fell years ago Rouhani said in a speech carried live on Iranian state television He made no direct reference to Trumps order regarding refugees and travelers from the seven mainly Muslim states Rouhani a pragmatist elected in 2013 thawed Irans relations with world powers after years of confrontation and engineered its 2015 deal with them under which it curbed its nuclear program in exchange for relief from sanctions Rouhani said earlier this month that Trump could not unilaterally cancel the nuclear deal and that talk of renegotiating it was meaningless France and Germany voiced disquiet on Saturday over Trumps new restrictions on immigration Welcoming refugees who flee war and oppression is part of our duty French Foreign Minister JeanMarc Ayrault said at a joint news conference with German counterpart Sigmar Gabriel The United States is a country where Christian traditions have an important meaning Loving your neighbor is a major Christian value and that includes helping people said  Gabriel I think that is what unites us in the West and I think that is what we want to make clear to the Americans \",\n          \"PRISTINA Reuters  Kosovo s centerright coalition led by the Democratic Party of Kosovo signed a deal on Monday with the small New Alliance for Kosovo party to form a government ending nearly three months of political deadlock after an election on June 11      Finally Kosovo has started to move  we had some big delays and our institutions now will be formed  said Ramush Haradinaj from the centerright coalition of parties made up of former guerrillas who fought the 199899 war against Serb forces Under the deal the parties along with ethnic minorities will secure 63 seats in the 120seat parliament  President Hashim Thaci is expected to give Haradinaj a mandate to form the government within days A source who asked not to be named told Reuters the parliament session to elect the parliament speaker would be held this week Haradinaj who twice stood trial before the United Nations war crimes court for war crimes and was acquitted briefly held the post of prime minister in 2005  The smaller New Alliance for Kosovo party is led by Behgjet Pacolli who is dubbed by media the richest Kosovar  Pacolli who also holds a Swiss passport won many contracts from the Russian government to rebuild state buildings in Moscow in the  90s but a decade ago he moved his business from Moscow to Kazakhstan  It is unclear what post Pacolli will hold in the new government  The new government will have to tackle unemployment running at 30 percent and improve relations with Kosovo s neighbors especially Serbia a precondition for both countries to move forward in the European Union accession process It must also reform health and education and the tax administration system as well as include representatives of some 120000 Kosovo Serbs who do not recognize independence Kosovo declared independence from Serbia in 2008 almost a decade after NATO air strikes drove out Serbian forces accused of expelling and killing ethnic Albanian civilians in a twoyear counterinsurgency  \"\n        ],\n        \"semantic_type\": \"\",\n        \"description\": \"\"\n      }\n    },\n    {\n      \"column\": \"subject\",\n      \"properties\": {\n        \"dtype\": \"category\",\n        \"num_unique_values\": 8,\n        \"samples\": [\n          \"politics\",\n          \"Middle-east\",\n          \"News\"\n        ],\n        \"semantic_type\": \"\",\n        \"description\": \"\"\n      }\n    },\n    {\n      \"column\": \"date\",\n      \"properties\": {\n        \"dtype\": \"category\",\n        \"num_unique_values\": 2397,\n        \"samples\": [\n          \"October 6, 2016\",\n          \"June 10, 2017\",\n          \"Sep 13, 2015\"\n        ],\n        \"semantic_type\": \"\",\n        \"description\": \"\"\n      }\n    },\n    {\n      \"column\": \"label\",\n      \"properties\": {\n        \"dtype\": \"number\",\n        \"std\": 0,\n        \"min\": 0,\n        \"max\": 1,\n        \"num_unique_values\": 2,\n        \"samples\": [\n          1,\n          0\n        ],\n        \"semantic_type\": \"\",\n        \"description\": \"\"\n      }\n    },\n    {\n      \"column\": \"num_of_words\",\n      \"properties\": {\n        \"dtype\": \"number\",\n        \"std\": 350,\n        \"min\": 0,\n        \"max\": 8122,\n        \"num_unique_values\": 1594,\n        \"samples\": [\n          140,\n          1279\n        ],\n        \"semantic_type\": \"\",\n        \"description\": \"\"\n      }\n    }\n  ]\n}"
            }
          },
          "metadata": {},
          "execution_count": 5
        }
      ],
      "source": [
        "# criando coluna num_of_words correspondente ao número de palavras presentes no texto da noticia\n",
        "# combined_df['vector'] = pd.Series(dtype=\"object\")\n",
        "import re\n",
        "# regex para substituir caracteres que não forem letras e números\n",
        "regex = r'[^a-zA-Z0-9\\s]'\n",
        "combined_df['text'] = combined_df['text'].map(lambda x: re.sub(regex, '', x))\n",
        "combined_df['num_of_words'] = combined_df['text'].map(lambda x: len(x.split()))\n",
        "combined_df.head()"
      ]
    },
    {
      "cell_type": "markdown",
      "id": "RAGOlajxjeVa",
      "metadata": {
        "id": "RAGOlajxjeVa"
      },
      "source": [
        "# Setando campos como categóricos"
      ]
    },
    {
      "cell_type": "code",
      "execution_count": 6,
      "id": "iQjPIxrDjsVf",
      "metadata": {
        "colab": {
          "base_uri": "https://localhost:8080/"
        },
        "id": "iQjPIxrDjsVf",
        "outputId": "85494ed3-eb18-4fb7-a3a6-a23195653f72"
      },
      "outputs": [
        {
          "output_type": "execute_result",
          "data": {
            "text/plain": [
              "title           object\n",
              "text            object\n",
              "subject         object\n",
              "date            object\n",
              "label            int64\n",
              "num_of_words     int64\n",
              "dtype: object"
            ]
          },
          "metadata": {},
          "execution_count": 6
        }
      ],
      "source": [
        "combined_df.dtypes"
      ]
    },
    {
      "cell_type": "code",
      "execution_count": 7,
      "id": "_mqkbvISlhIT",
      "metadata": {
        "id": "_mqkbvISlhIT"
      },
      "outputs": [],
      "source": [
        "combined_df['subject'] = combined_df['subject'].astype('category')"
      ]
    },
    {
      "cell_type": "code",
      "execution_count": 8,
      "id": "Swg9YjI1lvNm",
      "metadata": {
        "colab": {
          "base_uri": "https://localhost:8080/"
        },
        "id": "Swg9YjI1lvNm",
        "outputId": "35b62efb-a4e9-4817-ef25-8ddc8b453f27"
      },
      "outputs": [
        {
          "output_type": "execute_result",
          "data": {
            "text/plain": [
              "title             object\n",
              "text              object\n",
              "subject         category\n",
              "date              object\n",
              "label              int64\n",
              "num_of_words       int64\n",
              "dtype: object"
            ]
          },
          "metadata": {},
          "execution_count": 8
        }
      ],
      "source": [
        "combined_df.dtypes"
      ]
    },
    {
      "cell_type": "code",
      "execution_count": 9,
      "id": "67f1Tx1Sl0uK",
      "metadata": {
        "id": "67f1Tx1Sl0uK"
      },
      "outputs": [],
      "source": [
        "combined_df['subject'] = combined_df['subject'].cat.codes"
      ]
    },
    {
      "cell_type": "code",
      "execution_count": 10,
      "id": "zYtOuLH8mhiU",
      "metadata": {
        "colab": {
          "base_uri": "https://localhost:8080/"
        },
        "id": "zYtOuLH8mhiU",
        "outputId": "f1a13b29-2a0b-44fb-e363-8f06dc5c7e34"
      },
      "outputs": [
        {
          "output_type": "execute_result",
          "data": {
            "text/plain": [
              "array([2, 5, 0, 4, 3, 1, 6, 7], dtype=int8)"
            ]
          },
          "metadata": {},
          "execution_count": 10
        }
      ],
      "source": [
        "combined_df['subject'].unique()"
      ]
    },
    {
      "cell_type": "code",
      "execution_count": 11,
      "id": "xbulBfpsmoxN",
      "metadata": {
        "colab": {
          "base_uri": "https://localhost:8080/"
        },
        "id": "xbulBfpsmoxN",
        "outputId": "41cba873-4ad6-4524-e660-e10047e40180"
      },
      "outputs": [
        {
          "output_type": "execute_result",
          "data": {
            "text/plain": [
              "title           object\n",
              "text            object\n",
              "subject           int8\n",
              "date            object\n",
              "label            int64\n",
              "num_of_words     int64\n",
              "dtype: object"
            ]
          },
          "metadata": {},
          "execution_count": 11
        }
      ],
      "source": [
        "combined_df.dtypes"
      ]
    },
    {
      "cell_type": "markdown",
      "id": "e32cf869-2e8d-4713-a981-94b3403b06a2",
      "metadata": {
        "id": "e32cf869-2e8d-4713-a981-94b3403b06a2"
      },
      "source": [
        "# Verificando valores nulos e vazios"
      ]
    },
    {
      "cell_type": "code",
      "execution_count": 12,
      "id": "c6486bd3e3c44c4",
      "metadata": {
        "colab": {
          "base_uri": "https://localhost:8080/"
        },
        "id": "c6486bd3e3c44c4",
        "outputId": "897853a4-d580-4452-cfcd-635f91a1399b"
      },
      "outputs": [
        {
          "output_type": "execute_result",
          "data": {
            "text/plain": [
              "title           0\n",
              "text            0\n",
              "subject         0\n",
              "date            0\n",
              "label           0\n",
              "num_of_words    0\n",
              "dtype: int64"
            ]
          },
          "metadata": {},
          "execution_count": 12
        }
      ],
      "source": [
        "# verificando valores nulo\n",
        "combined_df.isnull().sum()"
      ]
    },
    {
      "cell_type": "code",
      "execution_count": 13,
      "id": "f2568eca-2d20-4e75-8cd5-474ad652237d",
      "metadata": {
        "colab": {
          "base_uri": "https://localhost:8080/"
        },
        "id": "f2568eca-2d20-4e75-8cd5-474ad652237d",
        "outputId": "ca0e2d36-5a03-43b3-8acc-ef2e7e44c7b5"
      },
      "outputs": [
        {
          "output_type": "execute_result",
          "data": {
            "text/plain": [
              "0"
            ]
          },
          "metadata": {},
          "execution_count": 13
        }
      ],
      "source": [
        "# verificando valores vazios de titulo\n",
        "remove_spaces = lambda x: ''.join(x.split()) if type(x) == str else x\n",
        "empty_values = combined_df.applymap(remove_spaces)\n",
        "empty_values['title'] = empty_values['title'] == ''\n",
        "len(empty_values[empty_values['title'] == True])"
      ]
    },
    {
      "cell_type": "code",
      "execution_count": 14,
      "id": "2f793eb2-1eb3-4f86-a58f-03a3f7ae7469",
      "metadata": {
        "colab": {
          "base_uri": "https://localhost:8080/"
        },
        "id": "2f793eb2-1eb3-4f86-a58f-03a3f7ae7469",
        "outputId": "a35bcefc-8621-4220-f869-b24db713b26f"
      },
      "outputs": [
        {
          "output_type": "execute_result",
          "data": {
            "text/plain": [
              "631"
            ]
          },
          "metadata": {},
          "execution_count": 14
        }
      ],
      "source": [
        "# verificando valores vazios de texto\n",
        "remove_spaces = lambda x: ''.join(x.split()) if type(x) == str else x\n",
        "empty_values = combined_df.applymap(remove_spaces)\n",
        "empty_values['text'] = empty_values['text'] == ''\n",
        "len(empty_values[empty_values['text'] == True])"
      ]
    },
    {
      "cell_type": "code",
      "execution_count": 15,
      "id": "nsq1FoSBimsI",
      "metadata": {
        "colab": {
          "base_uri": "https://localhost:8080/"
        },
        "id": "nsq1FoSBimsI",
        "outputId": "ff0f5917-c4fa-4f6a-d193-bf2f13340929"
      },
      "outputs": [
        {
          "output_type": "execute_result",
          "data": {
            "text/plain": [
              "0"
            ]
          },
          "metadata": {},
          "execution_count": 15
        }
      ],
      "source": [
        "# verificando valores vazios de tipo de conteúdo\n",
        "remove_spaces = lambda x: ''.join(x.split()) if type(x) == str else x\n",
        "empty_values = combined_df.applymap(remove_spaces)\n",
        "empty_values['subject'] = empty_values['subject'] == ''\n",
        "len(empty_values[empty_values['subject'] == True])"
      ]
    },
    {
      "cell_type": "code",
      "source": [
        "# setando valores num_of_words iguais a 0 para nulo\n",
        "df = combined_df\n",
        "df['num_of_words'] = df['num_of_words'].map(lambda x: np.nan if x == 0 else x)\n",
        "df['num_of_words'].isnull().sum()"
      ],
      "metadata": {
        "colab": {
          "base_uri": "https://localhost:8080/"
        },
        "id": "usVlyjUTmNZN",
        "outputId": "fa8b20cd-e869-40d2-d2af-1ce46290e78d"
      },
      "id": "usVlyjUTmNZN",
      "execution_count": 16,
      "outputs": [
        {
          "output_type": "execute_result",
          "data": {
            "text/plain": [
              "631"
            ]
          },
          "metadata": {},
          "execution_count": 16
        }
      ]
    },
    {
      "cell_type": "code",
      "source": [
        "df_num_of_words = df[['num_of_words', 'subject', 'label']]\n",
        "df_num_of_words_knn = KNN(k=3).fit_transform(df_num_of_words)\n",
        "df_num_of_words.isnull().sum()"
      ],
      "metadata": {
        "colab": {
          "base_uri": "https://localhost:8080/",
          "height": 180
        },
        "id": "CSZp00bwgcrD",
        "outputId": "ebd21a6b-5769-42cf-f0a5-aa92dc200821"
      },
      "id": "CSZp00bwgcrD",
      "execution_count": 1,
      "outputs": [
        {
          "output_type": "error",
          "ename": "NameError",
          "evalue": "name 'df' is not defined",
          "traceback": [
            "\u001b[0;31m---------------------------------------------------------------------------\u001b[0m",
            "\u001b[0;31mNameError\u001b[0m                                 Traceback (most recent call last)",
            "\u001b[0;32m<ipython-input-1-c9fd2ec7767e>\u001b[0m in \u001b[0;36m<cell line: 1>\u001b[0;34m()\u001b[0m\n\u001b[0;32m----> 1\u001b[0;31m \u001b[0mdf_num_of_words\u001b[0m \u001b[0;34m=\u001b[0m \u001b[0mdf\u001b[0m\u001b[0;34m[\u001b[0m\u001b[0;34m[\u001b[0m\u001b[0;34m'num_of_words'\u001b[0m\u001b[0;34m,\u001b[0m \u001b[0;34m'subject'\u001b[0m\u001b[0;34m,\u001b[0m \u001b[0;34m'label'\u001b[0m\u001b[0;34m]\u001b[0m\u001b[0;34m]\u001b[0m\u001b[0;34m\u001b[0m\u001b[0;34m\u001b[0m\u001b[0m\n\u001b[0m\u001b[1;32m      2\u001b[0m \u001b[0mdf_num_of_words_knn\u001b[0m \u001b[0;34m=\u001b[0m \u001b[0mKNN\u001b[0m\u001b[0;34m(\u001b[0m\u001b[0mk\u001b[0m\u001b[0;34m=\u001b[0m\u001b[0;36m3\u001b[0m\u001b[0;34m)\u001b[0m\u001b[0;34m.\u001b[0m\u001b[0mfit_transform\u001b[0m\u001b[0;34m(\u001b[0m\u001b[0mdf_num_of_words\u001b[0m\u001b[0;34m)\u001b[0m\u001b[0;34m\u001b[0m\u001b[0;34m\u001b[0m\u001b[0m\n\u001b[1;32m      3\u001b[0m \u001b[0mdf_num_of_words\u001b[0m\u001b[0;34m.\u001b[0m\u001b[0misnull\u001b[0m\u001b[0;34m(\u001b[0m\u001b[0;34m)\u001b[0m\u001b[0;34m.\u001b[0m\u001b[0msum\u001b[0m\u001b[0;34m(\u001b[0m\u001b[0;34m)\u001b[0m\u001b[0;34m\u001b[0m\u001b[0;34m\u001b[0m\u001b[0m\n",
            "\u001b[0;31mNameError\u001b[0m: name 'df' is not defined"
          ]
        }
      ]
    },
    {
      "cell_type": "code",
      "source": [
        "# verificando valores vazios de texto\n",
        "remove_spaces = lambda x: ''.join(x.split()) if type(x) == str else x\n",
        "empty_values = df_knn.applymap(remove_spaces)\n",
        "empty_values['text'] = empty_values['text'] == ''\n",
        "len(empty_values[empty_values['text'] == True])"
      ],
      "metadata": {
        "id": "eZk4ITbHhdl8"
      },
      "id": "eZk4ITbHhdl8",
      "execution_count": null,
      "outputs": []
    },
    {
      "cell_type": "markdown",
      "id": "f7efff11-ef48-4dff-9c89-3f271a903b22",
      "metadata": {
        "id": "f7efff11-ef48-4dff-9c89-3f271a903b22"
      },
      "source": [
        "# Normalização"
      ]
    },
    {
      "cell_type": "code",
      "execution_count": 1,
      "id": "2687ba42-7b89-42a3-9863-c5d04e4d88f7",
      "metadata": {
        "colab": {
          "base_uri": "https://localhost:8080/",
          "height": 162
        },
        "id": "2687ba42-7b89-42a3-9863-c5d04e4d88f7",
        "outputId": "e39ab2be-6a71-49aa-b48d-799ef80f5538"
      },
      "outputs": [
        {
          "output_type": "error",
          "ename": "NameError",
          "evalue": "name 'combined_df' is not defined",
          "traceback": [
            "\u001b[0;31m---------------------------------------------------------------------------\u001b[0m",
            "\u001b[0;31mNameError\u001b[0m                                 Traceback (most recent call last)",
            "\u001b[0;32m<ipython-input-1-4946a3fa1477>\u001b[0m in \u001b[0;36m<cell line: 1>\u001b[0;34m()\u001b[0m\n\u001b[0;32m----> 1\u001b[0;31m \u001b[0mdf\u001b[0m \u001b[0;34m=\u001b[0m \u001b[0mcombined_df\u001b[0m\u001b[0;34m\u001b[0m\u001b[0;34m\u001b[0m\u001b[0m\n\u001b[0m\u001b[1;32m      2\u001b[0m \u001b[0mdf\u001b[0m\u001b[0;34m.\u001b[0m\u001b[0mhead\u001b[0m\u001b[0;34m(\u001b[0m\u001b[0;34m)\u001b[0m\u001b[0;34m\u001b[0m\u001b[0;34m\u001b[0m\u001b[0m\n",
            "\u001b[0;31mNameError\u001b[0m: name 'combined_df' is not defined"
          ]
        }
      ],
      "source": [
        "\n",
        "df.head()"
      ]
    },
    {
      "cell_type": "code",
      "execution_count": null,
      "id": "497986cc-bd8b-4209-944d-e0e09ca17394",
      "metadata": {
        "colab": {
          "base_uri": "https://localhost:8080/",
          "height": 206
        },
        "id": "497986cc-bd8b-4209-944d-e0e09ca17394",
        "outputId": "183a1104-d366-4c6c-b7df-235e81e9e846"
      },
      "outputs": [
        {
          "output_type": "execute_result",
          "data": {
            "text/plain": [
              "                                               title  \\\n",
              "0   Donald Trump Sends Out Embarrassing New Year’...   \n",
              "1   Drunk Bragging Trump Staffer Started Russian ...   \n",
              "2   Sheriff David Clarke Becomes An Internet Joke...   \n",
              "3   Trump Is So Obsessed He Even Has Obama’s Name...   \n",
              "4   Pope Francis Just Called Out Donald Trump Dur...   \n",
              "\n",
              "                                                text  subject  \\\n",
              "0  Donald Trump just couldn t wish all Americans ...        2   \n",
              "1  House Intelligence Committee Chairman Devin Nu...        2   \n",
              "2  On Friday it was revealed that former Milwauke...        2   \n",
              "3  On Christmas day Donald Trump announced that h...        2   \n",
              "4  Pope Francis used his annual Christmas Day mes...        2   \n",
              "\n",
              "                date  label  num_of_words  subject_norm  num_of_words_norm  \n",
              "0  December 31, 2017      0           492      0.285714           0.060576  \n",
              "1  December 31, 2017      0           305      0.285714           0.037552  \n",
              "2  December 30, 2017      0           579      0.285714           0.071288  \n",
              "3  December 29, 2017      0           441      0.285714           0.054297  \n",
              "4  December 25, 2017      0           420      0.285714           0.051711  "
            ],
            "text/html": [
              "\n",
              "  <div id=\"df-ce1c1a9a-34e3-484f-929d-6e10a12e44ef\" class=\"colab-df-container\">\n",
              "    <div>\n",
              "<style scoped>\n",
              "    .dataframe tbody tr th:only-of-type {\n",
              "        vertical-align: middle;\n",
              "    }\n",
              "\n",
              "    .dataframe tbody tr th {\n",
              "        vertical-align: top;\n",
              "    }\n",
              "\n",
              "    .dataframe thead th {\n",
              "        text-align: right;\n",
              "    }\n",
              "</style>\n",
              "<table border=\"1\" class=\"dataframe\">\n",
              "  <thead>\n",
              "    <tr style=\"text-align: right;\">\n",
              "      <th></th>\n",
              "      <th>title</th>\n",
              "      <th>text</th>\n",
              "      <th>subject</th>\n",
              "      <th>date</th>\n",
              "      <th>label</th>\n",
              "      <th>num_of_words</th>\n",
              "      <th>subject_norm</th>\n",
              "      <th>num_of_words_norm</th>\n",
              "    </tr>\n",
              "  </thead>\n",
              "  <tbody>\n",
              "    <tr>\n",
              "      <th>0</th>\n",
              "      <td>Donald Trump Sends Out Embarrassing New Year’...</td>\n",
              "      <td>Donald Trump just couldn t wish all Americans ...</td>\n",
              "      <td>2</td>\n",
              "      <td>December 31, 2017</td>\n",
              "      <td>0</td>\n",
              "      <td>492</td>\n",
              "      <td>0.285714</td>\n",
              "      <td>0.060576</td>\n",
              "    </tr>\n",
              "    <tr>\n",
              "      <th>1</th>\n",
              "      <td>Drunk Bragging Trump Staffer Started Russian ...</td>\n",
              "      <td>House Intelligence Committee Chairman Devin Nu...</td>\n",
              "      <td>2</td>\n",
              "      <td>December 31, 2017</td>\n",
              "      <td>0</td>\n",
              "      <td>305</td>\n",
              "      <td>0.285714</td>\n",
              "      <td>0.037552</td>\n",
              "    </tr>\n",
              "    <tr>\n",
              "      <th>2</th>\n",
              "      <td>Sheriff David Clarke Becomes An Internet Joke...</td>\n",
              "      <td>On Friday it was revealed that former Milwauke...</td>\n",
              "      <td>2</td>\n",
              "      <td>December 30, 2017</td>\n",
              "      <td>0</td>\n",
              "      <td>579</td>\n",
              "      <td>0.285714</td>\n",
              "      <td>0.071288</td>\n",
              "    </tr>\n",
              "    <tr>\n",
              "      <th>3</th>\n",
              "      <td>Trump Is So Obsessed He Even Has Obama’s Name...</td>\n",
              "      <td>On Christmas day Donald Trump announced that h...</td>\n",
              "      <td>2</td>\n",
              "      <td>December 29, 2017</td>\n",
              "      <td>0</td>\n",
              "      <td>441</td>\n",
              "      <td>0.285714</td>\n",
              "      <td>0.054297</td>\n",
              "    </tr>\n",
              "    <tr>\n",
              "      <th>4</th>\n",
              "      <td>Pope Francis Just Called Out Donald Trump Dur...</td>\n",
              "      <td>Pope Francis used his annual Christmas Day mes...</td>\n",
              "      <td>2</td>\n",
              "      <td>December 25, 2017</td>\n",
              "      <td>0</td>\n",
              "      <td>420</td>\n",
              "      <td>0.285714</td>\n",
              "      <td>0.051711</td>\n",
              "    </tr>\n",
              "  </tbody>\n",
              "</table>\n",
              "</div>\n",
              "    <div class=\"colab-df-buttons\">\n",
              "\n",
              "  <div class=\"colab-df-container\">\n",
              "    <button class=\"colab-df-convert\" onclick=\"convertToInteractive('df-ce1c1a9a-34e3-484f-929d-6e10a12e44ef')\"\n",
              "            title=\"Convert this dataframe to an interactive table.\"\n",
              "            style=\"display:none;\">\n",
              "\n",
              "  <svg xmlns=\"http://www.w3.org/2000/svg\" height=\"24px\" viewBox=\"0 -960 960 960\">\n",
              "    <path d=\"M120-120v-720h720v720H120Zm60-500h600v-160H180v160Zm220 220h160v-160H400v160Zm0 220h160v-160H400v160ZM180-400h160v-160H180v160Zm440 0h160v-160H620v160ZM180-180h160v-160H180v160Zm440 0h160v-160H620v160Z\"/>\n",
              "  </svg>\n",
              "    </button>\n",
              "\n",
              "  <style>\n",
              "    .colab-df-container {\n",
              "      display:flex;\n",
              "      gap: 12px;\n",
              "    }\n",
              "\n",
              "    .colab-df-convert {\n",
              "      background-color: #E8F0FE;\n",
              "      border: none;\n",
              "      border-radius: 50%;\n",
              "      cursor: pointer;\n",
              "      display: none;\n",
              "      fill: #1967D2;\n",
              "      height: 32px;\n",
              "      padding: 0 0 0 0;\n",
              "      width: 32px;\n",
              "    }\n",
              "\n",
              "    .colab-df-convert:hover {\n",
              "      background-color: #E2EBFA;\n",
              "      box-shadow: 0px 1px 2px rgba(60, 64, 67, 0.3), 0px 1px 3px 1px rgba(60, 64, 67, 0.15);\n",
              "      fill: #174EA6;\n",
              "    }\n",
              "\n",
              "    .colab-df-buttons div {\n",
              "      margin-bottom: 4px;\n",
              "    }\n",
              "\n",
              "    [theme=dark] .colab-df-convert {\n",
              "      background-color: #3B4455;\n",
              "      fill: #D2E3FC;\n",
              "    }\n",
              "\n",
              "    [theme=dark] .colab-df-convert:hover {\n",
              "      background-color: #434B5C;\n",
              "      box-shadow: 0px 1px 3px 1px rgba(0, 0, 0, 0.15);\n",
              "      filter: drop-shadow(0px 1px 2px rgba(0, 0, 0, 0.3));\n",
              "      fill: #FFFFFF;\n",
              "    }\n",
              "  </style>\n",
              "\n",
              "    <script>\n",
              "      const buttonEl =\n",
              "        document.querySelector('#df-ce1c1a9a-34e3-484f-929d-6e10a12e44ef button.colab-df-convert');\n",
              "      buttonEl.style.display =\n",
              "        google.colab.kernel.accessAllowed ? 'block' : 'none';\n",
              "\n",
              "      async function convertToInteractive(key) {\n",
              "        const element = document.querySelector('#df-ce1c1a9a-34e3-484f-929d-6e10a12e44ef');\n",
              "        const dataTable =\n",
              "          await google.colab.kernel.invokeFunction('convertToInteractive',\n",
              "                                                    [key], {});\n",
              "        if (!dataTable) return;\n",
              "\n",
              "        const docLinkHtml = 'Like what you see? Visit the ' +\n",
              "          '<a target=\"_blank\" href=https://colab.research.google.com/notebooks/data_table.ipynb>data table notebook</a>'\n",
              "          + ' to learn more about interactive tables.';\n",
              "        element.innerHTML = '';\n",
              "        dataTable['output_type'] = 'display_data';\n",
              "        await google.colab.output.renderOutput(dataTable, element);\n",
              "        const docLink = document.createElement('div');\n",
              "        docLink.innerHTML = docLinkHtml;\n",
              "        element.appendChild(docLink);\n",
              "      }\n",
              "    </script>\n",
              "  </div>\n",
              "\n",
              "\n",
              "<div id=\"df-79c58598-8f6b-481a-94de-73a13b111d50\">\n",
              "  <button class=\"colab-df-quickchart\" onclick=\"quickchart('df-79c58598-8f6b-481a-94de-73a13b111d50')\"\n",
              "            title=\"Suggest charts\"\n",
              "            style=\"display:none;\">\n",
              "\n",
              "<svg xmlns=\"http://www.w3.org/2000/svg\" height=\"24px\"viewBox=\"0 0 24 24\"\n",
              "     width=\"24px\">\n",
              "    <g>\n",
              "        <path d=\"M19 3H5c-1.1 0-2 .9-2 2v14c0 1.1.9 2 2 2h14c1.1 0 2-.9 2-2V5c0-1.1-.9-2-2-2zM9 17H7v-7h2v7zm4 0h-2V7h2v10zm4 0h-2v-4h2v4z\"/>\n",
              "    </g>\n",
              "</svg>\n",
              "  </button>\n",
              "\n",
              "<style>\n",
              "  .colab-df-quickchart {\n",
              "      --bg-color: #E8F0FE;\n",
              "      --fill-color: #1967D2;\n",
              "      --hover-bg-color: #E2EBFA;\n",
              "      --hover-fill-color: #174EA6;\n",
              "      --disabled-fill-color: #AAA;\n",
              "      --disabled-bg-color: #DDD;\n",
              "  }\n",
              "\n",
              "  [theme=dark] .colab-df-quickchart {\n",
              "      --bg-color: #3B4455;\n",
              "      --fill-color: #D2E3FC;\n",
              "      --hover-bg-color: #434B5C;\n",
              "      --hover-fill-color: #FFFFFF;\n",
              "      --disabled-bg-color: #3B4455;\n",
              "      --disabled-fill-color: #666;\n",
              "  }\n",
              "\n",
              "  .colab-df-quickchart {\n",
              "    background-color: var(--bg-color);\n",
              "    border: none;\n",
              "    border-radius: 50%;\n",
              "    cursor: pointer;\n",
              "    display: none;\n",
              "    fill: var(--fill-color);\n",
              "    height: 32px;\n",
              "    padding: 0;\n",
              "    width: 32px;\n",
              "  }\n",
              "\n",
              "  .colab-df-quickchart:hover {\n",
              "    background-color: var(--hover-bg-color);\n",
              "    box-shadow: 0 1px 2px rgba(60, 64, 67, 0.3), 0 1px 3px 1px rgba(60, 64, 67, 0.15);\n",
              "    fill: var(--button-hover-fill-color);\n",
              "  }\n",
              "\n",
              "  .colab-df-quickchart-complete:disabled,\n",
              "  .colab-df-quickchart-complete:disabled:hover {\n",
              "    background-color: var(--disabled-bg-color);\n",
              "    fill: var(--disabled-fill-color);\n",
              "    box-shadow: none;\n",
              "  }\n",
              "\n",
              "  .colab-df-spinner {\n",
              "    border: 2px solid var(--fill-color);\n",
              "    border-color: transparent;\n",
              "    border-bottom-color: var(--fill-color);\n",
              "    animation:\n",
              "      spin 1s steps(1) infinite;\n",
              "  }\n",
              "\n",
              "  @keyframes spin {\n",
              "    0% {\n",
              "      border-color: transparent;\n",
              "      border-bottom-color: var(--fill-color);\n",
              "      border-left-color: var(--fill-color);\n",
              "    }\n",
              "    20% {\n",
              "      border-color: transparent;\n",
              "      border-left-color: var(--fill-color);\n",
              "      border-top-color: var(--fill-color);\n",
              "    }\n",
              "    30% {\n",
              "      border-color: transparent;\n",
              "      border-left-color: var(--fill-color);\n",
              "      border-top-color: var(--fill-color);\n",
              "      border-right-color: var(--fill-color);\n",
              "    }\n",
              "    40% {\n",
              "      border-color: transparent;\n",
              "      border-right-color: var(--fill-color);\n",
              "      border-top-color: var(--fill-color);\n",
              "    }\n",
              "    60% {\n",
              "      border-color: transparent;\n",
              "      border-right-color: var(--fill-color);\n",
              "    }\n",
              "    80% {\n",
              "      border-color: transparent;\n",
              "      border-right-color: var(--fill-color);\n",
              "      border-bottom-color: var(--fill-color);\n",
              "    }\n",
              "    90% {\n",
              "      border-color: transparent;\n",
              "      border-bottom-color: var(--fill-color);\n",
              "    }\n",
              "  }\n",
              "</style>\n",
              "\n",
              "  <script>\n",
              "    async function quickchart(key) {\n",
              "      const quickchartButtonEl =\n",
              "        document.querySelector('#' + key + ' button');\n",
              "      quickchartButtonEl.disabled = true;  // To prevent multiple clicks.\n",
              "      quickchartButtonEl.classList.add('colab-df-spinner');\n",
              "      try {\n",
              "        const charts = await google.colab.kernel.invokeFunction(\n",
              "            'suggestCharts', [key], {});\n",
              "      } catch (error) {\n",
              "        console.error('Error during call to suggestCharts:', error);\n",
              "      }\n",
              "      quickchartButtonEl.classList.remove('colab-df-spinner');\n",
              "      quickchartButtonEl.classList.add('colab-df-quickchart-complete');\n",
              "    }\n",
              "    (() => {\n",
              "      let quickchartButtonEl =\n",
              "        document.querySelector('#df-79c58598-8f6b-481a-94de-73a13b111d50 button');\n",
              "      quickchartButtonEl.style.display =\n",
              "        google.colab.kernel.accessAllowed ? 'block' : 'none';\n",
              "    })();\n",
              "  </script>\n",
              "</div>\n",
              "    </div>\n",
              "  </div>\n"
            ],
            "application/vnd.google.colaboratory.intrinsic+json": {
              "type": "dataframe",
              "variable_name": "df",
              "summary": "{\n  \"name\": \"df\",\n  \"rows\": 44898,\n  \"fields\": [\n    {\n      \"column\": \"title\",\n      \"properties\": {\n        \"dtype\": \"string\",\n        \"num_unique_values\": 38729,\n        \"samples\": [\n          \"Supreme Court Justice Ginsburg 'regrets' Trump criticisms\",\n          \" DOZENS Of GOP Foreign Policy Experts Pledge To Stop Trump From Winning Nomination\",\n          \" REPORT: Trump Laughed After Woman Was Grabbed \\u2018By The P*ssy\\u2019 On Apprentice Set\"\n        ],\n        \"semantic_type\": \"\",\n        \"description\": \"\"\n      }\n    },\n    {\n      \"column\": \"text\",\n      \"properties\": {\n        \"dtype\": \"string\",\n        \"num_unique_values\": 38646,\n        \"samples\": [\n          \" This September 29 has been corrected to fix date of election in paragraph 3 NAIROBI Reuters  A Kenyan government watchdog said on Friday it was investigating whether police had assaulted students during protests this week at the University of Nairobi over the detention of an opposition lawmaker   Police fired tear gas on Thursday at the protesting students Video footage posted on social media later in the day showed uniformed officers outside dormitories and inside classrooms using batons to hit people who did not appear to be involved in the campus protests  It was the latest crackdown by police on protests since an Aug 8 presidential election that was later annulled by the Supreme Court A rerun of the vote has been set for Oct 26 The Independent Police Oversight Authority IPOA  this morning noted from social media reports of an incident in which members of the National Police Service allegedly stormed the University of Nairobi and assaulted students at the institution  the authority said on its Twitter feed  It requested that any member of the public come forward to provide information to aid the investigation  The students had been protesting against the rearrest of a lawmaker Paul Ongili Owino on Wednesday shortly after he was released on bail on charges of subversion for calling President Uhuru Kenyatta a  son of a dog  at a campaign rally Kenya is a key Western ally in a region often roiled by violence Preparations for the rerun of the election are being closely monitored for signs of instability after at least 28 people were killed in unrest following the Aug 8 vote The IPOA watchdog was created in 2011 after police came under severe criticism for the number of protesters killed during demonstrations against disputed elections in 2007 The violence then killed around 12000 people But local and international rights groups say the institution is struggling to fulfill its mandate to investigate allegations of police brutality in a country rife with reports from civilians of extrajudicial killings by security forces  The IPOA has secured two convictions of police officers in the four years it has been operational The watchdog pledged last month to fasttrack investigations into highprofile deaths such as that of a baby allegedly killed by police in the violence after the election L4N1L34FC But people familiar with the status of these investigations say the police are not cooperating with them and that senior officials in the police force and the interior ministry insist officers killed only thieves and thugs \",\n          \"WASHINGTONCAIRO Reuters  Five Iraqi passengers and one Yemeni were barred from boarding an EgyptAir flight from Cairo to New York on Saturday after President Donald Trump halted the entry of citizens from seven Muslimmajority countries sources at Cairo airport said The passengers arriving in transit to Cairo airport were stopped and redirected to flights headed for their home countries despite holding valid visas the sources said  Trump on Friday put a fourmonth hold on allowing refugees into the United States and temporarily barred travelers from Syria and six other Muslimmajority countries saying the moves would help protect Americans from terrorist attacks He said his most sweeping use of his presidential powers since taking office a week ago barring travelers from the seven nations for at least 90 days would give his administration time to develop more stringent screening procedures for refugees immigrants and visitors Im establishing new vetting measures to keep radical Islamic terrorists out of the United States of America Dont want them here Trump said earlier on Friday at the Pentagon We only want to admit those into our country who will support our country and love deeply our people he said The bans though temporary took effect immediately causing havoc and confusion for wouldbe travelers with passports from Iran Iraq Libya Somalia Sudan Syria and Yemen Besides Cairo it was not immediately clear whether other  airports of countries listed by Trump had swiftly implemented the ban Arab officials of the listed countries would not comment on the matter The order seeks to prioritize refugees fleeing religious persecution a move Trump separately said was aimed at helping Christians in Syria That led some legal experts to question whether the order was constitutional One group said it would announce a court challenge on Monday The Council on AmericanIslamic Relations said the order targets Muslims because of their faith contravening the US Constitutional right to freedom of religion President Trump has cloaked what is a discriminatory ban against nationals of Muslim countries under the banner of national security said Greg Chen of the American Immigration Lawyers Association  Trump has long pledged to take this kind of action making it a prominent feature of his campaign for the Nov 8 election But people who work with Muslim immigrants and refugees were scrambling to determine the scope of the order Even legal permanent residents  people with green cards allowing them to live and work in the United States  were being advised to consult immigration lawyers before traveling outside the country or trying to return according to Muslim Advocates a civil rights group in Washington  On Friday evening Abed Ayoub of the AmericanArab AntiDiscrimination Committee said he had fielded about 100 queries from people anxious about the order which he said he believed could affect traveling green card holders students people coming to the United States for medical care and others Its chaos Ayoub said During his campaign Trump tapped into American fears about Islamic State militants and the flood of migrants into Europe from Syrias civil war saying refugees could be a Trojan horse that allowed attackers to enter the United States In December 2015 he called for a ban on all Muslims entering the United States drawing fire for suggesting a religious test for immigrants that critics said would violate the US Constitution His idea later evolved into a proposal for extreme vetting  Trumps order also suspends the Syrian refugee program until further notice and will eventually give priority to minority religious groups fleeing persecution  Trump said in an interview with the Christian Broadcasting Network that the exception would help Syrian Christians fleeing the civil war there Legal experts were divided on whether this order would be constitutional If they are thinking about an exception for Christians in almost any other legal context discriminating in favor of one religion and against another religion could violate the constitution said Stephen Legomsky a former chief counsel at US Citizenship and Immigration Services in the Obama administration But Peter Spiro a professor at Temple University Beasley School of Law said Trumps action would likely be constitutional because the president and Congress are allowed considerable deference when it comes to asylum decisions Its a completely plausible prioritization to the extent this group is actually being persecuted Spiro said The order may also affect special refugee programs for Iraqis who worked for the US government as translators after the 2003 invasion of Iraq It is already affecting refugees and their families said Jen Smyers of the Church World Service a Protestant faithbased group that works with migrants Smyers said she spoke to an Iraqi mother whose twin daughters remain in Iraq due to processing delays Those two 18yearold daughters wont be able to join their mother in the US she said Democrats on Friday were quick to condemn Trumps order as unAmerican saying it would tarnish the reputation of the United States as a land that welcomes immigrants Todays executive order from President Trump is more about extreme xenophobia than extreme vetting said Democratic Senator Edward Markey in a statement Some Republicans praised the move Representative Bob Goodlatte chairman of the House of Representatives Judiciary Committee said Islamic State has threatened to use the US immigration system making it important to do more screening I am pleased that President Trump is using the tools granted to him by Congress and the power granted by the Constitution to help keep America safe and ensure we know who is entering the United States Goodlatte said in a statement Without naming Trump Iranian President Hassan Rouhani said on Saturday it was no time to build walls between nations and criticized steps towards cancelling world trade agreements Trump on Wednesday ordered the construction of a USMexican border wall a major promise during his election campaign as part of a package of measures to curb illegal immigration Today is not the time to erect walls between nations They have forgotten that the Berlin wall fell years ago Rouhani said in a speech carried live on Iranian state television He made no direct reference to Trumps order regarding refugees and travelers from the seven mainly Muslim states Rouhani a pragmatist elected in 2013 thawed Irans relations with world powers after years of confrontation and engineered its 2015 deal with them under which it curbed its nuclear program in exchange for relief from sanctions Rouhani said earlier this month that Trump could not unilaterally cancel the nuclear deal and that talk of renegotiating it was meaningless France and Germany voiced disquiet on Saturday over Trumps new restrictions on immigration Welcoming refugees who flee war and oppression is part of our duty French Foreign Minister JeanMarc Ayrault said at a joint news conference with German counterpart Sigmar Gabriel The United States is a country where Christian traditions have an important meaning Loving your neighbor is a major Christian value and that includes helping people said  Gabriel I think that is what unites us in the West and I think that is what we want to make clear to the Americans \",\n          \"PRISTINA Reuters  Kosovo s centerright coalition led by the Democratic Party of Kosovo signed a deal on Monday with the small New Alliance for Kosovo party to form a government ending nearly three months of political deadlock after an election on June 11      Finally Kosovo has started to move  we had some big delays and our institutions now will be formed  said Ramush Haradinaj from the centerright coalition of parties made up of former guerrillas who fought the 199899 war against Serb forces Under the deal the parties along with ethnic minorities will secure 63 seats in the 120seat parliament  President Hashim Thaci is expected to give Haradinaj a mandate to form the government within days A source who asked not to be named told Reuters the parliament session to elect the parliament speaker would be held this week Haradinaj who twice stood trial before the United Nations war crimes court for war crimes and was acquitted briefly held the post of prime minister in 2005  The smaller New Alliance for Kosovo party is led by Behgjet Pacolli who is dubbed by media the richest Kosovar  Pacolli who also holds a Swiss passport won many contracts from the Russian government to rebuild state buildings in Moscow in the  90s but a decade ago he moved his business from Moscow to Kazakhstan  It is unclear what post Pacolli will hold in the new government  The new government will have to tackle unemployment running at 30 percent and improve relations with Kosovo s neighbors especially Serbia a precondition for both countries to move forward in the European Union accession process It must also reform health and education and the tax administration system as well as include representatives of some 120000 Kosovo Serbs who do not recognize independence Kosovo declared independence from Serbia in 2008 almost a decade after NATO air strikes drove out Serbian forces accused of expelling and killing ethnic Albanian civilians in a twoyear counterinsurgency  \"\n        ],\n        \"semantic_type\": \"\",\n        \"description\": \"\"\n      }\n    },\n    {\n      \"column\": \"subject\",\n      \"properties\": {\n        \"dtype\": \"int8\",\n        \"num_unique_values\": 8,\n        \"samples\": [\n          5,\n          1,\n          2\n        ],\n        \"semantic_type\": \"\",\n        \"description\": \"\"\n      }\n    },\n    {\n      \"column\": \"date\",\n      \"properties\": {\n        \"dtype\": \"category\",\n        \"num_unique_values\": 2397,\n        \"samples\": [\n          \"October 6, 2016\",\n          \"June 10, 2017\",\n          \"Sep 13, 2015\"\n        ],\n        \"semantic_type\": \"\",\n        \"description\": \"\"\n      }\n    },\n    {\n      \"column\": \"label\",\n      \"properties\": {\n        \"dtype\": \"number\",\n        \"std\": 0,\n        \"min\": 0,\n        \"max\": 1,\n        \"num_unique_values\": 2,\n        \"samples\": [\n          1,\n          0\n        ],\n        \"semantic_type\": \"\",\n        \"description\": \"\"\n      }\n    },\n    {\n      \"column\": \"num_of_words\",\n      \"properties\": {\n        \"dtype\": \"number\",\n        \"std\": 350,\n        \"min\": 0,\n        \"max\": 8122,\n        \"num_unique_values\": 1594,\n        \"samples\": [\n          140,\n          1279\n        ],\n        \"semantic_type\": \"\",\n        \"description\": \"\"\n      }\n    },\n    {\n      \"column\": \"subject_norm\",\n      \"properties\": {\n        \"dtype\": \"number\",\n        \"std\": 0.29315915798686154,\n        \"min\": 0.0,\n        \"max\": 1.0,\n        \"num_unique_values\": 8,\n        \"samples\": [\n          0.7142857142857142,\n          0.14285714285714285\n        ],\n        \"semantic_type\": \"\",\n        \"description\": \"\"\n      }\n    },\n    {\n      \"column\": \"num_of_words_norm\",\n      \"properties\": {\n        \"dtype\": \"number\",\n        \"std\": 0.04316512967380981,\n        \"min\": 0.0,\n        \"max\": 1.0,\n        \"num_unique_values\": 1594,\n        \"samples\": [\n          0.017237133710908643,\n          0.1574735286875154\n        ],\n        \"semantic_type\": \"\",\n        \"description\": \"\"\n      }\n    }\n  ]\n}"
            }
          },
          "metadata": {},
          "execution_count": 22
        }
      ],
      "source": [
        "# nomarlizando entre 0 e 1 min-max usando scikit\n",
        "from sklearn.preprocessing import StandardScaler, MinMaxScaler\n",
        "scaler = MinMaxScaler()\n",
        "df['subject_norm'] = scaler.fit_transform(df[['subject']])\n",
        "df['num_of_words_norm'] = scaler.fit_transform(df[['num_of_words']])\n",
        "df.head()"
      ]
    },
    {
      "cell_type": "code",
      "execution_count": null,
      "id": "602cd591-0bb5-4dd9-859e-10a580df4e8b",
      "metadata": {
        "colab": {
          "base_uri": "https://localhost:8080/"
        },
        "id": "602cd591-0bb5-4dd9-859e-10a580df4e8b",
        "outputId": "05a70325-bd44-4a30-8929-ecc31e49d4ce"
      },
      "outputs": [
        {
          "output_type": "execute_result",
          "data": {
            "text/plain": [
              "count    44898.000000\n",
              "mean         0.674274\n",
              "std          0.293159\n",
              "min          0.000000\n",
              "25%          0.285714\n",
              "50%          0.714286\n",
              "75%          0.857143\n",
              "max          1.000000\n",
              "Name: subject_norm, dtype: float64"
            ]
          },
          "metadata": {},
          "execution_count": 23
        }
      ],
      "source": [
        "df['subject_norm'].describe()"
      ]
    },
    {
      "cell_type": "code",
      "execution_count": null,
      "id": "adaed56c-08df-4407-8434-8fffa7836253",
      "metadata": {
        "colab": {
          "base_uri": "https://localhost:8080/"
        },
        "id": "adaed56c-08df-4407-8434-8fffa7836253",
        "outputId": "e6abf696-5747-43c0-b7c9-441a351c646d"
      },
      "outputs": [
        {
          "output_type": "execute_result",
          "data": {
            "text/plain": [
              "count    44898.000000\n",
              "mean         0.049741\n",
              "std          0.043165\n",
              "min          0.000000\n",
              "25%          0.024871\n",
              "50%          0.044447\n",
              "75%          0.062916\n",
              "max          1.000000\n",
              "Name: num_of_words_norm, dtype: float64"
            ]
          },
          "metadata": {},
          "execution_count": 24
        }
      ],
      "source": [
        "df['num_of_words_norm'].describe()"
      ]
    },
    {
      "cell_type": "markdown",
      "id": "e20ec25f-8622-4bba-a972-9b1334dc0cdc",
      "metadata": {
        "id": "e20ec25f-8622-4bba-a972-9b1334dc0cdc"
      },
      "source": [
        "# Discretização"
      ]
    },
    {
      "cell_type": "code",
      "execution_count": null,
      "id": "08aebc09-5ca0-48db-9f23-cbb011753c6e",
      "metadata": {
        "id": "08aebc09-5ca0-48db-9f23-cbb011753c6e"
      },
      "outputs": [],
      "source": [
        "# discretizando com 10 bins com mesmo intervalo\n",
        "df['num_of_words_dist'] = pd.cut(df['num_of_words'], 10)"
      ]
    },
    {
      "cell_type": "code",
      "source": [
        "df['num_of_words_dist'].value_counts()"
      ],
      "metadata": {
        "colab": {
          "base_uri": "https://localhost:8080/"
        },
        "id": "Wtz6u64K-CUY",
        "outputId": "e5aecf80-baea-48f6-fbae-bca70bf0dc0b"
      },
      "id": "Wtz6u64K-CUY",
      "execution_count": null,
      "outputs": [
        {
          "output_type": "execute_result",
          "data": {
            "text/plain": [
              "num_of_words_dist\n",
              "(-8.122, 812.2]     41533\n",
              "(812.2, 1624.4]      3003\n",
              "(1624.4, 2436.6]      199\n",
              "(2436.6, 3248.8]       78\n",
              "(3248.8, 4061.0]       44\n",
              "(4061.0, 4873.2]       13\n",
              "(4873.2, 5685.4]       12\n",
              "(5685.4, 6497.6]        6\n",
              "(6497.6, 7309.8]        6\n",
              "(7309.8, 8122.0]        4\n",
              "Name: count, dtype: int64"
            ]
          },
          "metadata": {},
          "execution_count": 42
        }
      ]
    },
    {
      "cell_type": "code",
      "source": [
        "df['num_of_words_dist'].value_counts().plot(kind=\"bar\")\n",
        "plt.yscale(\"log\")"
      ],
      "metadata": {
        "colab": {
          "base_uri": "https://localhost:8080/",
          "height": 552
        },
        "id": "msjQA5XX-MqA",
        "outputId": "e8d8fa14-c642-4aac-c4b2-be877e98ac6b"
      },
      "id": "msjQA5XX-MqA",
      "execution_count": null,
      "outputs": [
        {
          "output_type": "display_data",
          "data": {
            "text/plain": [
              "<Figure size 640x480 with 1 Axes>"
            ],
            "image/png": "[encoded data removed]"
          },
          "metadata": {}
        }
      ]
    },
    {
      "cell_type": "markdown",
      "source": [],
      "metadata": {
        "id": "f6PFkE8_gXW9"
      },
      "id": "f6PFkE8_gXW9"
    },
    {
      "cell_type": "markdown",
      "id": "7b85dfa3-e2ec-4da3-b37c-c82c2d2dc750",
      "metadata": {
        "id": "7b85dfa3-e2ec-4da3-b37c-c82c2d2dc750"
      },
      "source": [
        "# Teste de hipotese"
      ]
    },
    {
      "cell_type": "code",
      "execution_count": null,
      "id": "e2f38ba1-d97b-434b-bcec-e182fa9626c3",
      "metadata": {
        "colab": {
          "base_uri": "https://localhost:8080/",
          "height": 447
        },
        "id": "e2f38ba1-d97b-434b-bcec-e182fa9626c3",
        "outputId": "be40cacf-e6b8-4879-c9e9-6616a6ee61ca"
      },
      "outputs": [
        {
          "output_type": "execute_result",
          "data": {
            "text/plain": [
              "<Axes: >"
            ]
          },
          "metadata": {},
          "execution_count": 56
        },
        {
          "output_type": "display_data",
          "data": {
            "text/plain": [
              "<Figure size 640x480 with 1 Axes>"
            ],
            "image/png": "[encoded data removed]"
          },
          "metadata": {}
        }
      ],
      "source": [
        "df['subject_norm'].plot(kind='box')"
      ]
    },
    {
      "cell_type": "code",
      "execution_count": null,
      "id": "7a5c896e-28c5-4782-9e4d-0d383f54aca9",
      "metadata": {
        "colab": {
          "base_uri": "https://localhost:8080/",
          "height": 447
        },
        "id": "7a5c896e-28c5-4782-9e4d-0d383f54aca9",
        "outputId": "fede928b-bd62-45bd-8600-26c9a7cbae36"
      },
      "outputs": [
        {
          "output_type": "execute_result",
          "data": {
            "text/plain": [
              "<Axes: ylabel='Frequency'>"
            ]
          },
          "metadata": {},
          "execution_count": 57
        },
        {
          "output_type": "display_data",
          "data": {
            "text/plain": [
              "<Figure size 640x480 with 1 Axes>"
            ],
            "image/png": "[encoded data removed]"
          },
          "metadata": {}
        }
      ],
      "source": [
        "df['subject_norm'].plot(kind='hist')"
      ]
    },
    {
      "cell_type": "code",
      "execution_count": null,
      "id": "0de29a9f-caa3-48a1-a61f-45d2ea81c4df",
      "metadata": {
        "colab": {
          "base_uri": "https://localhost:8080/",
          "height": 447
        },
        "id": "0de29a9f-caa3-48a1-a61f-45d2ea81c4df",
        "outputId": "66ed4398-3bfb-4c5b-e860-e6636aa3dfce"
      },
      "outputs": [
        {
          "output_type": "execute_result",
          "data": {
            "text/plain": [
              "<Axes: >"
            ]
          },
          "metadata": {},
          "execution_count": 58
        },
        {
          "output_type": "display_data",
          "data": {
            "text/plain": [
              "<Figure size 640x480 with 1 Axes>"
            ],
            "image/png": "[encoded data removed]"
          },
          "metadata": {}
        }
      ],
      "source": [
        "df['num_of_words_norm'].plot(kind='box')"
      ]
    },
    {
      "cell_type": "code",
      "execution_count": null,
      "id": "9aba4b84-b328-4c13-8bf9-0b5f23466fe3",
      "metadata": {
        "colab": {
          "base_uri": "https://localhost:8080/",
          "height": 447
        },
        "id": "9aba4b84-b328-4c13-8bf9-0b5f23466fe3",
        "outputId": "12d990f2-ec2e-4bbb-c48b-0a9fe110c2ab"
      },
      "outputs": [
        {
          "output_type": "execute_result",
          "data": {
            "text/plain": [
              "<Axes: ylabel='Frequency'>"
            ]
          },
          "metadata": {},
          "execution_count": 59
        },
        {
          "output_type": "display_data",
          "data": {
            "text/plain": [
              "<Figure size 640x480 with 1 Axes>"
            ],
            "image/png": "[encoded data removed]"
          },
          "metadata": {}
        }
      ],
      "source": [
        "df['num_of_words_norm'].plot(kind='hist')"
      ]
    },
    {
      "cell_type": "code",
      "execution_count": null,
      "id": "1325e96a-d2ad-4d9f-9932-1b274f612fe1",
      "metadata": {
        "colab": {
          "base_uri": "https://localhost:8080/",
          "height": 447
        },
        "id": "1325e96a-d2ad-4d9f-9932-1b274f612fe1",
        "outputId": "aab155e7-90e3-499b-d9bb-7a61f8b20995"
      },
      "outputs": [
        {
          "output_type": "execute_result",
          "data": {
            "text/plain": [
              "<Axes: >"
            ]
          },
          "metadata": {},
          "execution_count": 60
        },
        {
          "output_type": "display_data",
          "data": {
            "text/plain": [
              "<Figure size 640x480 with 1 Axes>"
            ],
            "image/png": "[encoded data removed]"
          },
          "metadata": {}
        }
      ],
      "source": [
        "import numpy as np\n",
        "df['num_of_words_norm'].plot(kind='box')"
      ]
    },
    {
      "cell_type": "code",
      "execution_count": null,
      "id": "1ed5526a-c30b-461e-aee2-82c12eee3f4b",
      "metadata": {
        "colab": {
          "base_uri": "https://localhost:8080/",
          "height": 447
        },
        "id": "1ed5526a-c30b-461e-aee2-82c12eee3f4b",
        "outputId": "5005393e-098d-4113-cead-32eaec420fae"
      },
      "outputs": [
        {
          "output_type": "execute_result",
          "data": {
            "text/plain": [
              "<Axes: ylabel='Frequency'>"
            ]
          },
          "metadata": {},
          "execution_count": 61
        },
        {
          "output_type": "display_data",
          "data": {
            "text/plain": [
              "<Figure size 640x480 with 1 Axes>"
            ],
            "image/png": "[encoded data removed]"
          },
          "metadata": {}
        }
      ],
      "source": [
        "df['num_of_words_norm'].plot(kind='hist')"
      ]
    },
    {
      "cell_type": "code",
      "execution_count": null,
      "id": "18ad8fdf-7952-419b-a958-1ea6dc9a595c",
      "metadata": {
        "id": "18ad8fdf-7952-419b-a958-1ea6dc9a595c"
      },
      "outputs": [],
      "source": []
    }
  ],
  "metadata": {
    "colab": {
      "provenance": []
    },
    "kernelspec": {
      "display_name": "Python 3 (ipykernel)",
      "language": "python",
      "name": "python3"
    },
    "language_info": {
      "codemirror_mode": {
        "name": "ipython",
        "version": 3
      },
      "file_extension": ".py",
      "mimetype": "text/x-python",
      "name": "python",
      "nbconvert_exporter": "python",
      "pygments_lexer": "ipython3",
      "version": "3.12.3"
    }
  },
  "nbformat": 4,
  "nbformat_minor": 5
}