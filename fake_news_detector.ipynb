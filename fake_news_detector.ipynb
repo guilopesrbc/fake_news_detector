{
 "cells": [
  {
   "cell_type": "markdown",
   "id": "f4f00f97-64ad-4475-a9cb-b9e0ffb2561a",
   "metadata": {
    "id": "f4f00f97-64ad-4475-a9cb-b9e0ffb2561a"
   },
   "source": [
    "# Pré processamento"
   ]
  },
  {
   "cell_type": "code",
   "execution_count": 211,
   "id": "9352d8e8-1510-45b5-88c1-14c4b4dd7216",
   "metadata": {},
   "outputs": [],
   "source": [
    "# Importando as bibliotecas e construindo o dataframe\n",
    "import pandas as pd\n",
    "import matplotlib.pyplot as plt\n",
    "from sklearn.impute import KNNImputer\n",
    "import numpy as np\n",
    "import faiss\n",
    "from sentence_transformers import SentenceTransformer"
   ]
  },
  {
   "cell_type": "code",
   "execution_count": 212,
   "id": "51c04766-683a-4f4e-8617-c2384dc5fd12",
   "metadata": {},
   "outputs": [],
   "source": [
    "# concatenando dois dataframes (um com fake news e outro com noticias verdadeiras)\n",
    "fake_df = pd.read_csv('https://raw.githubusercontent.com/guilopesrbc/fake_news_detector/main/Fake.csv')\n",
    "true_df = pd.read_csv('https://raw.githubusercontent.com/guilopesrbc/fake_news_detector/main/True.csv')\n",
    "# adicionando coluna label, correspondente a veracidade da noticias (1 para verdadeiro e 0 para falsa)\n",
    "fake_df['label'] = 0\n",
    "true_df['label'] = 1\n",
    "\n",
    "combined_df = pd.concat([fake_df, true_df], ignore_index=True)\n",
    "\n",
    "combined_df.to_csv('Combined.csv', index=False)\n",
    "combined_df.reset_index(drop=True,inplace=True)"
   ]
  },
  {
   "cell_type": "markdown",
   "id": "576566b5-dcd1-4407-852e-089269d7fd58",
   "metadata": {},
   "source": [
    "# Criando coluna num_of_words correspondente ao número de palavras presentes no texto da noticia"
   ]
  },
  {
   "cell_type": "code",
   "execution_count": 215,
   "id": "f929a7a3-8328-4843-b963-c7f68b0c7884",
   "metadata": {},
   "outputs": [
    {
     "data": {
      "text/html": [
       "<div>\n",
       "<style scoped>\n",
       "    .dataframe tbody tr th:only-of-type {\n",
       "        vertical-align: middle;\n",
       "    }\n",
       "\n",
       "    .dataframe tbody tr th {\n",
       "        vertical-align: top;\n",
       "    }\n",
       "\n",
       "    .dataframe thead th {\n",
       "        text-align: right;\n",
       "    }\n",
       "</style>\n",
       "<table border=\"1\" class=\"dataframe\">\n",
       "  <thead>\n",
       "    <tr style=\"text-align: right;\">\n",
       "      <th></th>\n",
       "      <th>title</th>\n",
       "      <th>text</th>\n",
       "      <th>subject</th>\n",
       "      <th>date</th>\n",
       "      <th>label</th>\n",
       "      <th>num_of_words</th>\n",
       "      <th>text_vector</th>\n",
       "    </tr>\n",
       "  </thead>\n",
       "  <tbody>\n",
       "    <tr>\n",
       "      <th>0</th>\n",
       "      <td>Donald Trump Sends Out Embarrassing New Year’...</td>\n",
       "      <td>Donald Trump just couldn t wish all Americans ...</td>\n",
       "      <td>News</td>\n",
       "      <td>December 31, 2017</td>\n",
       "      <td>0</td>\n",
       "      <td>492</td>\n",
       "      <td>[-0.08635634  0.16764247  0.40040964 -0.361500...</td>\n",
       "    </tr>\n",
       "    <tr>\n",
       "      <th>1</th>\n",
       "      <td>Drunk Bragging Trump Staffer Started Russian ...</td>\n",
       "      <td>House Intelligence Committee Chairman Devin Nu...</td>\n",
       "      <td>News</td>\n",
       "      <td>December 31, 2017</td>\n",
       "      <td>0</td>\n",
       "      <td>305</td>\n",
       "      <td>[ 0.00671101  0.0081033  -0.20852128 -0.087897...</td>\n",
       "    </tr>\n",
       "    <tr>\n",
       "      <th>2</th>\n",
       "      <td>Sheriff David Clarke Becomes An Internet Joke...</td>\n",
       "      <td>On Friday it was revealed that former Milwauke...</td>\n",
       "      <td>News</td>\n",
       "      <td>December 30, 2017</td>\n",
       "      <td>0</td>\n",
       "      <td>579</td>\n",
       "      <td>[-3.62045884e-01 -1.23025492e-01 -5.51379442e-...</td>\n",
       "    </tr>\n",
       "    <tr>\n",
       "      <th>3</th>\n",
       "      <td>Trump Is So Obsessed He Even Has Obama’s Name...</td>\n",
       "      <td>On Christmas day Donald Trump announced that h...</td>\n",
       "      <td>News</td>\n",
       "      <td>December 29, 2017</td>\n",
       "      <td>0</td>\n",
       "      <td>441</td>\n",
       "      <td>[ 1.73586905e-02  2.04306096e-03  7.36115128e-...</td>\n",
       "    </tr>\n",
       "    <tr>\n",
       "      <th>4</th>\n",
       "      <td>Pope Francis Just Called Out Donald Trump Dur...</td>\n",
       "      <td>Pope Francis used his annual Christmas Day mes...</td>\n",
       "      <td>News</td>\n",
       "      <td>December 25, 2017</td>\n",
       "      <td>0</td>\n",
       "      <td>420</td>\n",
       "      <td>[-7.90192410e-02  4.73764718e-01  1.55274183e-...</td>\n",
       "    </tr>\n",
       "  </tbody>\n",
       "</table>\n",
       "</div>"
      ],
      "text/plain": [
       "                                               title  \\\n",
       "0   Donald Trump Sends Out Embarrassing New Year’...   \n",
       "1   Drunk Bragging Trump Staffer Started Russian ...   \n",
       "2   Sheriff David Clarke Becomes An Internet Joke...   \n",
       "3   Trump Is So Obsessed He Even Has Obama’s Name...   \n",
       "4   Pope Francis Just Called Out Donald Trump Dur...   \n",
       "\n",
       "                                                text subject  \\\n",
       "0  Donald Trump just couldn t wish all Americans ...    News   \n",
       "1  House Intelligence Committee Chairman Devin Nu...    News   \n",
       "2  On Friday it was revealed that former Milwauke...    News   \n",
       "3  On Christmas day Donald Trump announced that h...    News   \n",
       "4  Pope Francis used his annual Christmas Day mes...    News   \n",
       "\n",
       "                date  label  num_of_words  \\\n",
       "0  December 31, 2017      0           492   \n",
       "1  December 31, 2017      0           305   \n",
       "2  December 30, 2017      0           579   \n",
       "3  December 29, 2017      0           441   \n",
       "4  December 25, 2017      0           420   \n",
       "\n",
       "                                         text_vector  \n",
       "0  [-0.08635634  0.16764247  0.40040964 -0.361500...  \n",
       "1  [ 0.00671101  0.0081033  -0.20852128 -0.087897...  \n",
       "2  [-3.62045884e-01 -1.23025492e-01 -5.51379442e-...  \n",
       "3  [ 1.73586905e-02  2.04306096e-03  7.36115128e-...  \n",
       "4  [-7.90192410e-02  4.73764718e-01  1.55274183e-...  "
      ]
     },
     "execution_count": 215,
     "metadata": {},
     "output_type": "execute_result"
    }
   ],
   "source": [
    "# criando coluna num_of_words correspondente ao número de palavras presentes no texto da noticia\n",
    "import re\n",
    "# regex para substituir caracteres que não forem letras e números\n",
    "regex = r'[^a-zA-Z0-9\\s]'\n",
    "combined_df['text'] = combined_df['text'].map(lambda x: re.sub(regex, '', x))\n",
    "combined_df['num_of_words'] = combined_df['text'].map(lambda x: len(x.split()))\n",
    "combined_df.head()"
   ]
  },
  {
   "cell_type": "markdown",
   "id": "7d37d1709a239daf",
   "metadata": {},
   "source": [
    "# Criando nova coluna com texto vetorizado "
   ]
  },
  {
   "cell_type": "code",
   "execution_count": 2,
   "id": "eeb294044ed1277c",
   "metadata": {
    "ExecuteTime": {
     "start_time": "2024-05-31T18:31:39.338615Z"
    },
    "jupyter": {
     "is_executing": true
    }
   },
   "outputs": [
    {
     "name": "stderr",
     "output_type": "stream",
     "text": [
      "C:\\Users\\guiL6\\AppData\\Local\\Programs\\Python\\Python312\\Lib\\site-packages\\huggingface_hub\\file_download.py:1132: FutureWarning: `resume_download` is deprecated and will be removed in version 1.0.0. Downloads always resume when possible. If you want to force a new download, use `force_download=True`.\n",
      "  warnings.warn(\n"
     ]
    },
    {
     "ename": "NameError",
     "evalue": "name 'combined_df' is not defined",
     "output_type": "error",
     "traceback": [
      "\u001b[1;31m---------------------------------------------------------------------------\u001b[0m",
      "\u001b[1;31mNameError\u001b[0m                                 Traceback (most recent call last)",
      "Cell \u001b[1;32mIn[2], line 9\u001b[0m\n\u001b[0;32m      6\u001b[0m     \u001b[38;5;28;01mreturn\u001b[39;00m model\u001b[38;5;241m.\u001b[39mencode(text)\n\u001b[0;32m      8\u001b[0m \u001b[38;5;66;03m# Apply the function to create a new column with vectorized text\u001b[39;00m\n\u001b[1;32m----> 9\u001b[0m combined_df[\u001b[38;5;124m'\u001b[39m\u001b[38;5;124mtext_vector\u001b[39m\u001b[38;5;124m'\u001b[39m] \u001b[38;5;241m=\u001b[39m \u001b[43mcombined_df\u001b[49m[\u001b[38;5;124m'\u001b[39m\u001b[38;5;124mtext\u001b[39m\u001b[38;5;124m'\u001b[39m]\u001b[38;5;241m.\u001b[39mapply(vectorize_text)\n\u001b[0;32m     11\u001b[0m \u001b[38;5;66;03m# Convert the list of vectors to a numpy array\u001b[39;00m\n\u001b[0;32m     12\u001b[0m vectors \u001b[38;5;241m=\u001b[39m np\u001b[38;5;241m.\u001b[39mvstack(combined_df[\u001b[38;5;124m'\u001b[39m\u001b[38;5;124mtext_vector\u001b[39m\u001b[38;5;124m'\u001b[39m]\u001b[38;5;241m.\u001b[39mto_numpy())\n",
      "\u001b[1;31mNameError\u001b[0m: name 'combined_df' is not defined"
     ]
    }
   ],
   "source": [
    "# Initialize the Sentence Transformer model\n",
    "model = SentenceTransformer('paraphrase-MiniLM-L6-v2')\n",
    "\n",
    "# Function to vectorize the text\n",
    "def vectorize_text(text):\n",
    "    return model.encode(text)\n",
    "\n",
    "# Apply the function to create a new column with vectorized text\n",
    "combined_df['text_vector'] = combined_df['text'].apply(vectorize_text)\n",
    "\n",
    "# Convert the list of vectors to a numpy array\n",
    "vectors = np.vstack(combined_df['text_vector'].to_numpy())\n",
    "\n",
    "# Build the FAISS index\n",
    "dimension = vectors.shape[1]\n",
    "index = faiss.IndexFlatL2(dimension)\n",
    "index.add(vectors)\n",
    "combined_df.to_csv('vectorized_texts.csv', index=False)"
   ]
  },
  {
   "cell_type": "code",
   "execution_count": 214,
   "id": "5d6f7505d4f9e3a5",
   "metadata": {},
   "outputs": [
    {
     "data": {
      "text/html": [
       "<div>\n",
       "<style scoped>\n",
       "    .dataframe tbody tr th:only-of-type {\n",
       "        vertical-align: middle;\n",
       "    }\n",
       "\n",
       "    .dataframe tbody tr th {\n",
       "        vertical-align: top;\n",
       "    }\n",
       "\n",
       "    .dataframe thead th {\n",
       "        text-align: right;\n",
       "    }\n",
       "</style>\n",
       "<table border=\"1\" class=\"dataframe\">\n",
       "  <thead>\n",
       "    <tr style=\"text-align: right;\">\n",
       "      <th></th>\n",
       "      <th>title</th>\n",
       "      <th>text</th>\n",
       "      <th>subject</th>\n",
       "      <th>date</th>\n",
       "      <th>label</th>\n",
       "      <th>num_of_words</th>\n",
       "      <th>text_vector</th>\n",
       "    </tr>\n",
       "  </thead>\n",
       "  <tbody>\n",
       "    <tr>\n",
       "      <th>0</th>\n",
       "      <td>Donald Trump Sends Out Embarrassing New Year’...</td>\n",
       "      <td>Donald Trump just couldn t wish all Americans ...</td>\n",
       "      <td>News</td>\n",
       "      <td>December 31, 2017</td>\n",
       "      <td>0</td>\n",
       "      <td>492</td>\n",
       "      <td>[-0.08635634  0.16764247  0.40040964 -0.361500...</td>\n",
       "    </tr>\n",
       "    <tr>\n",
       "      <th>1</th>\n",
       "      <td>Drunk Bragging Trump Staffer Started Russian ...</td>\n",
       "      <td>House Intelligence Committee Chairman Devin Nu...</td>\n",
       "      <td>News</td>\n",
       "      <td>December 31, 2017</td>\n",
       "      <td>0</td>\n",
       "      <td>305</td>\n",
       "      <td>[ 0.00671101  0.0081033  -0.20852128 -0.087897...</td>\n",
       "    </tr>\n",
       "    <tr>\n",
       "      <th>2</th>\n",
       "      <td>Sheriff David Clarke Becomes An Internet Joke...</td>\n",
       "      <td>On Friday it was revealed that former Milwauke...</td>\n",
       "      <td>News</td>\n",
       "      <td>December 30, 2017</td>\n",
       "      <td>0</td>\n",
       "      <td>579</td>\n",
       "      <td>[-3.62045884e-01 -1.23025492e-01 -5.51379442e-...</td>\n",
       "    </tr>\n",
       "    <tr>\n",
       "      <th>3</th>\n",
       "      <td>Trump Is So Obsessed He Even Has Obama’s Name...</td>\n",
       "      <td>On Christmas day Donald Trump announced that h...</td>\n",
       "      <td>News</td>\n",
       "      <td>December 29, 2017</td>\n",
       "      <td>0</td>\n",
       "      <td>441</td>\n",
       "      <td>[ 1.73586905e-02  2.04306096e-03  7.36115128e-...</td>\n",
       "    </tr>\n",
       "    <tr>\n",
       "      <th>4</th>\n",
       "      <td>Pope Francis Just Called Out Donald Trump Dur...</td>\n",
       "      <td>Pope Francis used his annual Christmas Day mes...</td>\n",
       "      <td>News</td>\n",
       "      <td>December 25, 2017</td>\n",
       "      <td>0</td>\n",
       "      <td>420</td>\n",
       "      <td>[-7.90192410e-02  4.73764718e-01  1.55274183e-...</td>\n",
       "    </tr>\n",
       "  </tbody>\n",
       "</table>\n",
       "</div>"
      ],
      "text/plain": [
       "                                               title  \\\n",
       "0   Donald Trump Sends Out Embarrassing New Year’...   \n",
       "1   Drunk Bragging Trump Staffer Started Russian ...   \n",
       "2   Sheriff David Clarke Becomes An Internet Joke...   \n",
       "3   Trump Is So Obsessed He Even Has Obama’s Name...   \n",
       "4   Pope Francis Just Called Out Donald Trump Dur...   \n",
       "\n",
       "                                                text subject  \\\n",
       "0  Donald Trump just couldn t wish all Americans ...    News   \n",
       "1  House Intelligence Committee Chairman Devin Nu...    News   \n",
       "2  On Friday it was revealed that former Milwauke...    News   \n",
       "3  On Christmas day Donald Trump announced that h...    News   \n",
       "4  Pope Francis used his annual Christmas Day mes...    News   \n",
       "\n",
       "                date  label  num_of_words  \\\n",
       "0  December 31, 2017      0           492   \n",
       "1  December 31, 2017      0           305   \n",
       "2  December 30, 2017      0           579   \n",
       "3  December 29, 2017      0           441   \n",
       "4  December 25, 2017      0           420   \n",
       "\n",
       "                                         text_vector  \n",
       "0  [-0.08635634  0.16764247  0.40040964 -0.361500...  \n",
       "1  [ 0.00671101  0.0081033  -0.20852128 -0.087897...  \n",
       "2  [-3.62045884e-01 -1.23025492e-01 -5.51379442e-...  \n",
       "3  [ 1.73586905e-02  2.04306096e-03  7.36115128e-...  \n",
       "4  [-7.90192410e-02  4.73764718e-01  1.55274183e-...  "
      ]
     },
     "execution_count": 214,
     "metadata": {},
     "output_type": "execute_result"
    }
   ],
   "source": [
    "combined_df = pd.read_csv('vectorized_texts.csv')\n",
    "combined_df.head()"
   ]
  },
  {
   "cell_type": "code",
   "execution_count": 4,
   "id": "7fc68f8805304c51",
   "metadata": {},
   "outputs": [
    {
     "ename": "NameError",
     "evalue": "name 'index' is not defined",
     "output_type": "error",
     "traceback": [
      "\u001b[1;31m---------------------------------------------------------------------------\u001b[0m",
      "\u001b[1;31mNameError\u001b[0m                                 Traceback (most recent call last)",
      "Cell \u001b[1;32mIn[4], line 8\u001b[0m\n\u001b[0;32m      6\u001b[0m \u001b[38;5;66;03m# Example usage: compare the first text with the rest\u001b[39;00m\n\u001b[0;32m      7\u001b[0m query_vector \u001b[38;5;241m=\u001b[39m combined_df[\u001b[38;5;124m'\u001b[39m\u001b[38;5;124mtext_vector\u001b[39m\u001b[38;5;124m'\u001b[39m][\u001b[38;5;241m0\u001b[39m]\n\u001b[1;32m----> 8\u001b[0m distances, indices \u001b[38;5;241m=\u001b[39m \u001b[43mfind_similar_texts\u001b[49m\u001b[43m(\u001b[49m\u001b[43mquery_vector\u001b[49m\u001b[43m,\u001b[49m\u001b[43m \u001b[49m\u001b[43mk\u001b[49m\u001b[38;5;241;43m=\u001b[39;49m\u001b[38;5;28;43mlen\u001b[39;49m\u001b[43m(\u001b[49m\u001b[43mcombined_df\u001b[49m\u001b[43m)\u001b[49m\u001b[43m)\u001b[49m\n\u001b[0;32m     10\u001b[0m \u001b[38;5;66;03m# Output the results\u001b[39;00m\n\u001b[0;32m     11\u001b[0m \u001b[38;5;28mprint\u001b[39m(\u001b[38;5;124m\"\u001b[39m\u001b[38;5;124mQuery text:\u001b[39m\u001b[38;5;124m\"\u001b[39m, combined_df[\u001b[38;5;124m'\u001b[39m\u001b[38;5;124mtext\u001b[39m\u001b[38;5;124m'\u001b[39m][\u001b[38;5;241m0\u001b[39m])\n",
      "Cell \u001b[1;32mIn[4], line 3\u001b[0m, in \u001b[0;36mfind_similar_texts\u001b[1;34m(query_vector, k)\u001b[0m\n\u001b[0;32m      2\u001b[0m \u001b[38;5;28;01mdef\u001b[39;00m \u001b[38;5;21mfind_similar_texts\u001b[39m(query_vector, k\u001b[38;5;241m=\u001b[39m\u001b[38;5;241m2\u001b[39m):\n\u001b[1;32m----> 3\u001b[0m     distances, indices \u001b[38;5;241m=\u001b[39m \u001b[43mindex\u001b[49m\u001b[38;5;241m.\u001b[39msearch(np\u001b[38;5;241m.\u001b[39marray([query_vector]), k)\n\u001b[0;32m      4\u001b[0m     \u001b[38;5;28;01mreturn\u001b[39;00m distances[\u001b[38;5;241m0\u001b[39m], indices[\u001b[38;5;241m0\u001b[39m]\n",
      "\u001b[1;31mNameError\u001b[0m: name 'index' is not defined"
     ]
    }
   ],
   "source": [
    "# Function to find the most similar texts\n",
    "def find_similar_texts(query_vector, k=2):\n",
    "    distances, indices = index.search(np.array([query_vector]), k)\n",
    "    return distances[0], indices[0]\n",
    "\n",
    "# Example usage: compare the first text with the rest\n",
    "query_vector = combined_df['text_vector'][0]\n",
    "distances, indices = find_similar_texts(query_vector, k=len(combined_df))\n",
    "\n",
    "# Output the results\n",
    "print(\"Query text:\", combined_df['text'][0])\n",
    "print(\"\\nMost similar texts:\")\n",
    "for i, (distance, idx) in enumerate(zip(distances, indices)):\n",
    "    print(f\"{i+1}. Text: {combined_df['text'][idx]} (Distance: {distance})\")"
   ]
  },
  {
   "cell_type": "markdown",
   "id": "RAGOlajxjeVa",
   "metadata": {
    "id": "RAGOlajxjeVa"
   },
   "source": [
    "# Setando campos como categóricos"
   ]
  },
  {
   "cell_type": "code",
   "execution_count": 216,
   "id": "iQjPIxrDjsVf",
   "metadata": {
    "colab": {
     "base_uri": "https://localhost:8080/"
    },
    "id": "iQjPIxrDjsVf",
    "outputId": "85494ed3-eb18-4fb7-a3a6-a23195653f72"
   },
   "outputs": [
    {
     "data": {
      "text/plain": [
       "title           object\n",
       "text            object\n",
       "subject         object\n",
       "date            object\n",
       "label            int64\n",
       "num_of_words     int64\n",
       "text_vector     object\n",
       "dtype: object"
      ]
     },
     "execution_count": 216,
     "metadata": {},
     "output_type": "execute_result"
    }
   ],
   "source": [
    "combined_df.dtypes"
   ]
  },
  {
   "cell_type": "code",
   "execution_count": 217,
   "id": "_mqkbvISlhIT",
   "metadata": {
    "id": "_mqkbvISlhIT"
   },
   "outputs": [],
   "source": [
    "combined_df['subject'] = combined_df['subject'].astype('category')\n",
    "combined_df['date'] = combined_df['date'].astype('category')"
   ]
  },
  {
   "cell_type": "code",
   "execution_count": 218,
   "id": "Swg9YjI1lvNm",
   "metadata": {
    "colab": {
     "base_uri": "https://localhost:8080/"
    },
    "id": "Swg9YjI1lvNm",
    "outputId": "35b62efb-a4e9-4817-ef25-8ddc8b453f27"
   },
   "outputs": [
    {
     "data": {
      "text/plain": [
       "title             object\n",
       "text              object\n",
       "subject         category\n",
       "date            category\n",
       "label              int64\n",
       "num_of_words       int64\n",
       "text_vector       object\n",
       "dtype: object"
      ]
     },
     "execution_count": 218,
     "metadata": {},
     "output_type": "execute_result"
    }
   ],
   "source": [
    "combined_df.dtypes"
   ]
  },
  {
   "cell_type": "code",
   "execution_count": 219,
   "id": "67f1Tx1Sl0uK",
   "metadata": {
    "id": "67f1Tx1Sl0uK"
   },
   "outputs": [],
   "source": [
    "combined_df['subject'] = combined_df['subject'].cat.codes\n",
    "combined_df['date'] = combined_df['date'].cat.codes"
   ]
  },
  {
   "cell_type": "code",
   "execution_count": 220,
   "id": "xbulBfpsmoxN",
   "metadata": {
    "colab": {
     "base_uri": "https://localhost:8080/"
    },
    "id": "xbulBfpsmoxN",
    "outputId": "41cba873-4ad6-4524-e660-e10047e40180"
   },
   "outputs": [
    {
     "data": {
      "text/plain": [
       "title           object\n",
       "text            object\n",
       "subject           int8\n",
       "date             int16\n",
       "label            int64\n",
       "num_of_words     int64\n",
       "text_vector     object\n",
       "dtype: object"
      ]
     },
     "execution_count": 220,
     "metadata": {},
     "output_type": "execute_result"
    }
   ],
   "source": [
    "combined_df.dtypes"
   ]
  },
  {
   "cell_type": "markdown",
   "id": "e32cf869-2e8d-4713-a981-94b3403b06a2",
   "metadata": {
    "id": "e32cf869-2e8d-4713-a981-94b3403b06a2"
   },
   "source": [
    "# Verificando valores nulos e vazios"
   ]
  },
  {
   "cell_type": "code",
   "execution_count": 221,
   "id": "c6486bd3e3c44c4",
   "metadata": {
    "colab": {
     "base_uri": "https://localhost:8080/"
    },
    "id": "c6486bd3e3c44c4",
    "outputId": "897853a4-d580-4452-cfcd-635f91a1399b"
   },
   "outputs": [
    {
     "data": {
      "text/plain": [
       "title           0\n",
       "text            0\n",
       "subject         0\n",
       "date            0\n",
       "label           0\n",
       "num_of_words    0\n",
       "text_vector     0\n",
       "dtype: int64"
      ]
     },
     "execution_count": 221,
     "metadata": {},
     "output_type": "execute_result"
    }
   ],
   "source": [
    "# verificando valores nulo\n",
    "combined_df.isnull().sum()"
   ]
  },
  {
   "cell_type": "code",
   "execution_count": 222,
   "id": "f2568eca-2d20-4e75-8cd5-474ad652237d",
   "metadata": {
    "colab": {
     "base_uri": "https://localhost:8080/"
    },
    "id": "f2568eca-2d20-4e75-8cd5-474ad652237d",
    "outputId": "ca0e2d36-5a03-43b3-8acc-ef2e7e44c7b5"
   },
   "outputs": [
    {
     "data": {
      "text/plain": [
       "0"
      ]
     },
     "execution_count": 222,
     "metadata": {},
     "output_type": "execute_result"
    }
   ],
   "source": [
    "# verificando valores vazios de titulo\n",
    "remove_spaces = lambda x: ''.join(x.split()) if type(x) == str else x\n",
    "empty_values = combined_df.map(remove_spaces)\n",
    "empty_values['title'] = empty_values['title'] == ''\n",
    "len(empty_values[empty_values['title'] == True])"
   ]
  },
  {
   "cell_type": "code",
   "execution_count": 223,
   "id": "2f793eb2-1eb3-4f86-a58f-03a3f7ae7469",
   "metadata": {
    "colab": {
     "base_uri": "https://localhost:8080/"
    },
    "id": "2f793eb2-1eb3-4f86-a58f-03a3f7ae7469",
    "outputId": "a35bcefc-8621-4220-f869-b24db713b26f"
   },
   "outputs": [
    {
     "data": {
      "text/plain": [
       "631"
      ]
     },
     "execution_count": 223,
     "metadata": {},
     "output_type": "execute_result"
    }
   ],
   "source": [
    "# verificando valores vazios de texto\n",
    "remove_spaces = lambda x: ''.join(x.split()) if type(x) == str else x\n",
    "empty_values = combined_df.map(remove_spaces)\n",
    "empty_values['text'] = empty_values['text'] == ''\n",
    "len(empty_values[empty_values['text'] == True])"
   ]
  },
  {
   "cell_type": "code",
   "execution_count": 224,
   "id": "nsq1FoSBimsI",
   "metadata": {
    "colab": {
     "base_uri": "https://localhost:8080/"
    },
    "id": "nsq1FoSBimsI",
    "outputId": "ff0f5917-c4fa-4f6a-d193-bf2f13340929"
   },
   "outputs": [
    {
     "data": {
      "text/plain": [
       "0"
      ]
     },
     "execution_count": 224,
     "metadata": {},
     "output_type": "execute_result"
    }
   ],
   "source": [
    "# verificando valores vazios de tipo de conteúdo\n",
    "remove_spaces = lambda x: ''.join(x.split()) if type(x) == str else x\n",
    "empty_values = combined_df.map(remove_spaces)\n",
    "empty_values['subject'] = empty_values['subject'] == ''\n",
    "len(empty_values[empty_values['subject'] == True])"
   ]
  },
  {
   "cell_type": "code",
   "execution_count": 225,
   "id": "usVlyjUTmNZN",
   "metadata": {
    "colab": {
     "base_uri": "https://localhost:8080/"
    },
    "id": "usVlyjUTmNZN",
    "outputId": "fa8b20cd-e869-40d2-d2af-1ce46290e78d"
   },
   "outputs": [
    {
     "data": {
      "text/plain": [
       "631"
      ]
     },
     "execution_count": 225,
     "metadata": {},
     "output_type": "execute_result"
    }
   ],
   "source": [
    "# setando valores num_of_words iguais a 0 para nulo\n",
    "df = combined_df\n",
    "df['num_of_words'] = df['num_of_words'].map(lambda x: np.nan if x == 0 else x)\n",
    "df['num_of_words'].isnull().sum()"
   ]
  },
  {
   "cell_type": "markdown",
   "id": "bbddb4f4-7b74-47c2-97e7-0dd07989b07a",
   "metadata": {},
   "source": [
    "# Dividindo o dataset em batches para otimizar o uso do algoritmo KNN  "
   ]
  },
  {
   "cell_type": "code",
   "execution_count": 226,
   "id": "CSZp00bwgcrD",
   "metadata": {
    "colab": {
     "base_uri": "https://localhost:8080/",
     "height": 180
    },
    "id": "CSZp00bwgcrD",
    "outputId": "ebd21a6b-5769-42cf-f0a5-aa92dc200821"
   },
   "outputs": [
    {
     "name": "stdout",
     "output_type": "stream",
     "text": [
      "title            0\n",
      "text             0\n",
      "subject          0\n",
      "date             0\n",
      "label            0\n",
      "num_of_words    69\n",
      "text_vector      0\n",
      "dtype: int64\n",
      "title            0\n",
      "text             0\n",
      "subject          0\n",
      "date             0\n",
      "label            0\n",
      "num_of_words    64\n",
      "text_vector      0\n",
      "dtype: int64\n",
      "title            0\n",
      "text             0\n",
      "subject          0\n",
      "date             0\n",
      "label            0\n",
      "num_of_words    83\n",
      "text_vector      0\n",
      "dtype: int64\n",
      "title            0\n",
      "text             0\n",
      "subject          0\n",
      "date             0\n",
      "label            0\n",
      "num_of_words    70\n",
      "text_vector      0\n",
      "dtype: int64\n",
      "title            0\n",
      "text             0\n",
      "subject          0\n",
      "date             0\n",
      "label            0\n",
      "num_of_words    58\n",
      "text_vector      0\n",
      "dtype: int64\n",
      "title            0\n",
      "text             0\n",
      "subject          0\n",
      "date             0\n",
      "label            0\n",
      "num_of_words    76\n",
      "text_vector      0\n",
      "dtype: int64\n",
      "title            0\n",
      "text             0\n",
      "subject          0\n",
      "date             0\n",
      "label            0\n",
      "num_of_words    71\n",
      "text_vector      0\n",
      "dtype: int64\n",
      "title            0\n",
      "text             0\n",
      "subject          0\n",
      "date             0\n",
      "label            0\n",
      "num_of_words    67\n",
      "text_vector      0\n",
      "dtype: int64\n",
      "title            0\n",
      "text             0\n",
      "subject          0\n",
      "date             0\n",
      "label            0\n",
      "num_of_words    73\n",
      "text_vector      0\n",
      "dtype: int64\n"
     ]
    }
   ],
   "source": [
    "batch_size = 5000\n",
    "df_numpy = df.to_numpy()\n",
    "\n",
    "# Embaralhar os dados,\n",
    "np.random.shuffle(df_numpy)\n",
    "# Dividir o dataset em batches,\n",
    "n_batches = int(np.ceil(df_numpy.shape[0] / batch_size))  # Número de batches\n",
    "batches = np.array_split(df_numpy, n_batches)\n",
    "batches_df = [pd.DataFrame(batch, columns=df.columns) for batch in batches]\n",
    "df = pd.DataFrame(df_numpy, columns=df.columns)\n",
    "\n",
    "for batch in batches_df:\n",
    "    print(batch.isnull().sum())"
   ]
  },
  {
   "cell_type": "code",
   "execution_count": 227,
   "id": "eZk4ITbHhdl8",
   "metadata": {
    "id": "eZk4ITbHhdl8"
   },
   "outputs": [],
   "source": [
    "imputer = KNNImputer(n_neighbors=3)\n",
    "df_num_of_words_knn = [pd.DataFrame(imputer.fit_transform(batch[['subject', 'date', 'num_of_words', 'label']]), columns=df[['subject', 'date', 'num_of_words', 'label']].columns) for batch in batches_df]\n"
   ]
  },
  {
   "cell_type": "code",
   "execution_count": 228,
   "id": "48a67031-e013-4628-921a-0451b1a2a970",
   "metadata": {},
   "outputs": [
    {
     "name": "stdout",
     "output_type": "stream",
     "text": [
      "subject         0\n",
      "date            0\n",
      "num_of_words    0\n",
      "label           0\n",
      "dtype: int64\n",
      "subject         0\n",
      "date            0\n",
      "num_of_words    0\n",
      "label           0\n",
      "dtype: int64\n",
      "subject         0\n",
      "date            0\n",
      "num_of_words    0\n",
      "label           0\n",
      "dtype: int64\n",
      "subject         0\n",
      "date            0\n",
      "num_of_words    0\n",
      "label           0\n",
      "dtype: int64\n",
      "subject         0\n",
      "date            0\n",
      "num_of_words    0\n",
      "label           0\n",
      "dtype: int64\n",
      "subject         0\n",
      "date            0\n",
      "num_of_words    0\n",
      "label           0\n",
      "dtype: int64\n",
      "subject         0\n",
      "date            0\n",
      "num_of_words    0\n",
      "label           0\n",
      "dtype: int64\n",
      "subject         0\n",
      "date            0\n",
      "num_of_words    0\n",
      "label           0\n",
      "dtype: int64\n",
      "subject         0\n",
      "date            0\n",
      "num_of_words    0\n",
      "label           0\n",
      "dtype: int64\n"
     ]
    }
   ],
   "source": [
    "df_concatened = pd.DataFrame()\n",
    "for batch in df_num_of_words_knn:\n",
    "    df_concatened = pd.concat([df_concatened, batch], ignore_index=True)\n",
    "    print(batch.isnull().sum())"
   ]
  },
  {
   "cell_type": "code",
   "execution_count": 229,
   "id": "53079576-f596-4b2f-9a34-82c85fe469c6",
   "metadata": {},
   "outputs": [
    {
     "data": {
      "text/plain": [
       "title           0\n",
       "text            0\n",
       "subject         0\n",
       "date            0\n",
       "label           0\n",
       "num_of_words    0\n",
       "text_vector     0\n",
       "dtype: int64"
      ]
     },
     "execution_count": 229,
     "metadata": {},
     "output_type": "execute_result"
    }
   ],
   "source": [
    "df['num_of_words'] = df_concatened['num_of_words']\n",
    "df.isnull().sum()"
   ]
  },
  {
   "cell_type": "markdown",
   "id": "f7efff11-ef48-4dff-9c89-3f271a903b22",
   "metadata": {
    "id": "f7efff11-ef48-4dff-9c89-3f271a903b22"
   },
   "source": [
    "# Normalização"
   ]
  },
  {
   "cell_type": "code",
   "execution_count": 230,
   "id": "2687ba42-7b89-42a3-9863-c5d04e4d88f7",
   "metadata": {
    "colab": {
     "base_uri": "https://localhost:8080/",
     "height": 162
    },
    "id": "2687ba42-7b89-42a3-9863-c5d04e4d88f7",
    "outputId": "e39ab2be-6a71-49aa-b48d-799ef80f5538"
   },
   "outputs": [
    {
     "data": {
      "text/html": [
       "<div>\n",
       "<style scoped>\n",
       "    .dataframe tbody tr th:only-of-type {\n",
       "        vertical-align: middle;\n",
       "    }\n",
       "\n",
       "    .dataframe tbody tr th {\n",
       "        vertical-align: top;\n",
       "    }\n",
       "\n",
       "    .dataframe thead th {\n",
       "        text-align: right;\n",
       "    }\n",
       "</style>\n",
       "<table border=\"1\" class=\"dataframe\">\n",
       "  <thead>\n",
       "    <tr style=\"text-align: right;\">\n",
       "      <th></th>\n",
       "      <th>title</th>\n",
       "      <th>text</th>\n",
       "      <th>subject</th>\n",
       "      <th>date</th>\n",
       "      <th>label</th>\n",
       "      <th>num_of_words</th>\n",
       "      <th>text_vector</th>\n",
       "    </tr>\n",
       "  </thead>\n",
       "  <tbody>\n",
       "    <tr>\n",
       "      <th>0</th>\n",
       "      <td>Factbox: Trump on Twitter (September 8) - Hurr...</td>\n",
       "      <td>The following statements were posted to the ve...</td>\n",
       "      <td>6</td>\n",
       "      <td>2387</td>\n",
       "      <td>1</td>\n",
       "      <td>167.0</td>\n",
       "      <td>[-2.30017886e-01  9.78440568e-02  4.11018729e-...</td>\n",
       "    </tr>\n",
       "    <tr>\n",
       "      <th>1</th>\n",
       "      <td>Senate diverges over renewal of internet spyin...</td>\n",
       "      <td>WASHINGTON Reuters  A Senate panel on Tuesday ...</td>\n",
       "      <td>6</td>\n",
       "      <td>2125</td>\n",
       "      <td>1</td>\n",
       "      <td>522.0</td>\n",
       "      <td>[-1.60385638e-01 -1.20772570e-01 -3.77683610e-...</td>\n",
       "    </tr>\n",
       "    <tr>\n",
       "      <th>2</th>\n",
       "      <td>FILMMAKER DINESH D’SOUZA: Eight Things I LOVE ...</td>\n",
       "      <td>FILMMAKER DINESH D SOUZA S Eight things I LOVE...</td>\n",
       "      <td>0</td>\n",
       "      <td>1065</td>\n",
       "      <td>0</td>\n",
       "      <td>953.0</td>\n",
       "      <td>[ 2.76459605e-01 -1.90681577e-01 -3.13233405e-...</td>\n",
       "    </tr>\n",
       "    <tr>\n",
       "      <th>3</th>\n",
       "      <td>DEMOCRAT ACCUSED Of Sexual Harassment Just Thr...</td>\n",
       "      <td>John Conyers might just drain the swamp for us...</td>\n",
       "      <td>4</td>\n",
       "      <td>1811</td>\n",
       "      <td>0</td>\n",
       "      <td>253.0</td>\n",
       "      <td>[ 0.00484835 -0.15543959  0.0336613   0.061070...</td>\n",
       "    </tr>\n",
       "    <tr>\n",
       "      <th>4</th>\n",
       "      <td>Wikileaks: NSA Spied on UN Secretary-General a...</td>\n",
       "      <td>InverseWikileaks released tonight a new cache...</td>\n",
       "      <td>1</td>\n",
       "      <td>760</td>\n",
       "      <td>0</td>\n",
       "      <td>229.0</td>\n",
       "      <td>[-4.13807601e-01 -9.08768699e-02 -2.11946428e-...</td>\n",
       "    </tr>\n",
       "    <tr>\n",
       "      <th>...</th>\n",
       "      <td>...</td>\n",
       "      <td>...</td>\n",
       "      <td>...</td>\n",
       "      <td>...</td>\n",
       "      <td>...</td>\n",
       "      <td>...</td>\n",
       "      <td>...</td>\n",
       "    </tr>\n",
       "    <tr>\n",
       "      <th>44893</th>\n",
       "      <td>Strong typhoon nears southern Japan the day be...</td>\n",
       "      <td>TOKYO Reuters  Heavy rain and powerful winds a...</td>\n",
       "      <td>7</td>\n",
       "      <td>2113</td>\n",
       "      <td>1</td>\n",
       "      <td>200.0</td>\n",
       "      <td>[-0.28669474 -0.11136016  0.17992833  0.136761...</td>\n",
       "    </tr>\n",
       "    <tr>\n",
       "      <th>44894</th>\n",
       "      <td>People Are Now Hilariously Trolling Marco Rub...</td>\n",
       "      <td>Marco Rubio sounded so robotic during the last...</td>\n",
       "      <td>2</td>\n",
       "      <td>806</td>\n",
       "      <td>0</td>\n",
       "      <td>370.0</td>\n",
       "      <td>[-1.06461741e-01 -6.87992498e-02 -2.99810380e-...</td>\n",
       "    </tr>\n",
       "    <tr>\n",
       "      <th>44895</th>\n",
       "      <td>Syrian government forces press attack in east ...</td>\n",
       "      <td>ALEPPO SyriaBEIRUT Reuters  The Syrian army pr...</td>\n",
       "      <td>6</td>\n",
       "      <td>640</td>\n",
       "      <td>1</td>\n",
       "      <td>1169.0</td>\n",
       "      <td>[-0.1370549   0.38019103 -0.03336731 -0.560238...</td>\n",
       "    </tr>\n",
       "    <tr>\n",
       "      <th>44896</th>\n",
       "      <td>Republican Collins' call for Garland hearings ...</td>\n",
       "      <td>WASHINGTON Reuters  A moderate Republican sena...</td>\n",
       "      <td>6</td>\n",
       "      <td>196</td>\n",
       "      <td>1</td>\n",
       "      <td>416.0</td>\n",
       "      <td>[-1.62604362e-01  1.08115099e-01 -1.71974190e-...</td>\n",
       "    </tr>\n",
       "    <tr>\n",
       "      <th>44897</th>\n",
       "      <td>Obama Reveals What He Carries In His Pocket E...</td>\n",
       "      <td>President Obama carried out his annual YouTube...</td>\n",
       "      <td>2</td>\n",
       "      <td>904</td>\n",
       "      <td>0</td>\n",
       "      <td>469.0</td>\n",
       "      <td>[-8.85925442e-02  2.37038344e-01 -1.77856654e-...</td>\n",
       "    </tr>\n",
       "  </tbody>\n",
       "</table>\n",
       "<p>44898 rows × 7 columns</p>\n",
       "</div>"
      ],
      "text/plain": [
       "                                                   title  \\\n",
       "0      Factbox: Trump on Twitter (September 8) - Hurr...   \n",
       "1      Senate diverges over renewal of internet spyin...   \n",
       "2      FILMMAKER DINESH D’SOUZA: Eight Things I LOVE ...   \n",
       "3      DEMOCRAT ACCUSED Of Sexual Harassment Just Thr...   \n",
       "4      Wikileaks: NSA Spied on UN Secretary-General a...   \n",
       "...                                                  ...   \n",
       "44893  Strong typhoon nears southern Japan the day be...   \n",
       "44894   People Are Now Hilariously Trolling Marco Rub...   \n",
       "44895  Syrian government forces press attack in east ...   \n",
       "44896  Republican Collins' call for Garland hearings ...   \n",
       "44897   Obama Reveals What He Carries In His Pocket E...   \n",
       "\n",
       "                                                    text subject  date label  \\\n",
       "0      The following statements were posted to the ve...       6  2387     1   \n",
       "1      WASHINGTON Reuters  A Senate panel on Tuesday ...       6  2125     1   \n",
       "2      FILMMAKER DINESH D SOUZA S Eight things I LOVE...       0  1065     0   \n",
       "3      John Conyers might just drain the swamp for us...       4  1811     0   \n",
       "4       InverseWikileaks released tonight a new cache...       1   760     0   \n",
       "...                                                  ...     ...   ...   ...   \n",
       "44893  TOKYO Reuters  Heavy rain and powerful winds a...       7  2113     1   \n",
       "44894  Marco Rubio sounded so robotic during the last...       2   806     0   \n",
       "44895  ALEPPO SyriaBEIRUT Reuters  The Syrian army pr...       6   640     1   \n",
       "44896  WASHINGTON Reuters  A moderate Republican sena...       6   196     1   \n",
       "44897  President Obama carried out his annual YouTube...       2   904     0   \n",
       "\n",
       "       num_of_words                                        text_vector  \n",
       "0             167.0  [-2.30017886e-01  9.78440568e-02  4.11018729e-...  \n",
       "1             522.0  [-1.60385638e-01 -1.20772570e-01 -3.77683610e-...  \n",
       "2             953.0  [ 2.76459605e-01 -1.90681577e-01 -3.13233405e-...  \n",
       "3             253.0  [ 0.00484835 -0.15543959  0.0336613   0.061070...  \n",
       "4             229.0  [-4.13807601e-01 -9.08768699e-02 -2.11946428e-...  \n",
       "...             ...                                                ...  \n",
       "44893         200.0  [-0.28669474 -0.11136016  0.17992833  0.136761...  \n",
       "44894         370.0  [-1.06461741e-01 -6.87992498e-02 -2.99810380e-...  \n",
       "44895        1169.0  [-0.1370549   0.38019103 -0.03336731 -0.560238...  \n",
       "44896         416.0  [-1.62604362e-01  1.08115099e-01 -1.71974190e-...  \n",
       "44897         469.0  [-8.85925442e-02  2.37038344e-01 -1.77856654e-...  \n",
       "\n",
       "[44898 rows x 7 columns]"
      ]
     },
     "execution_count": 230,
     "metadata": {},
     "output_type": "execute_result"
    }
   ],
   "source": [
    "df"
   ]
  },
  {
   "cell_type": "code",
   "execution_count": 231,
   "id": "497986cc-bd8b-4209-944d-e0e09ca17394",
   "metadata": {
    "colab": {
     "base_uri": "https://localhost:8080/",
     "height": 206
    },
    "id": "497986cc-bd8b-4209-944d-e0e09ca17394",
    "outputId": "183a1104-d366-4c6c-b7df-235e81e9e846"
   },
   "outputs": [
    {
     "data": {
      "text/html": [
       "<div>\n",
       "<style scoped>\n",
       "    .dataframe tbody tr th:only-of-type {\n",
       "        vertical-align: middle;\n",
       "    }\n",
       "\n",
       "    .dataframe tbody tr th {\n",
       "        vertical-align: top;\n",
       "    }\n",
       "\n",
       "    .dataframe thead th {\n",
       "        text-align: right;\n",
       "    }\n",
       "</style>\n",
       "<table border=\"1\" class=\"dataframe\">\n",
       "  <thead>\n",
       "    <tr style=\"text-align: right;\">\n",
       "      <th></th>\n",
       "      <th>title</th>\n",
       "      <th>text</th>\n",
       "      <th>subject</th>\n",
       "      <th>date</th>\n",
       "      <th>label</th>\n",
       "      <th>num_of_words</th>\n",
       "      <th>text_vector</th>\n",
       "      <th>subject_norm</th>\n",
       "      <th>num_of_words_norm</th>\n",
       "      <th>date_norm</th>\n",
       "    </tr>\n",
       "  </thead>\n",
       "  <tbody>\n",
       "    <tr>\n",
       "      <th>0</th>\n",
       "      <td>Factbox: Trump on Twitter (September 8) - Hurr...</td>\n",
       "      <td>The following statements were posted to the ve...</td>\n",
       "      <td>6</td>\n",
       "      <td>2387</td>\n",
       "      <td>1</td>\n",
       "      <td>167.0</td>\n",
       "      <td>[-2.30017886e-01  9.78440568e-02  4.11018729e-...</td>\n",
       "      <td>0.857143</td>\n",
       "      <td>0.020441</td>\n",
       "      <td>0.996244</td>\n",
       "    </tr>\n",
       "    <tr>\n",
       "      <th>1</th>\n",
       "      <td>Senate diverges over renewal of internet spyin...</td>\n",
       "      <td>WASHINGTON Reuters  A Senate panel on Tuesday ...</td>\n",
       "      <td>6</td>\n",
       "      <td>2125</td>\n",
       "      <td>1</td>\n",
       "      <td>522.0</td>\n",
       "      <td>[-1.60385638e-01 -1.20772570e-01 -3.77683610e-...</td>\n",
       "      <td>0.857143</td>\n",
       "      <td>0.064155</td>\n",
       "      <td>0.886895</td>\n",
       "    </tr>\n",
       "    <tr>\n",
       "      <th>2</th>\n",
       "      <td>FILMMAKER DINESH D’SOUZA: Eight Things I LOVE ...</td>\n",
       "      <td>FILMMAKER DINESH D SOUZA S Eight things I LOVE...</td>\n",
       "      <td>0</td>\n",
       "      <td>1065</td>\n",
       "      <td>0</td>\n",
       "      <td>953.0</td>\n",
       "      <td>[ 2.76459605e-01 -1.90681577e-01 -3.13233405e-...</td>\n",
       "      <td>0.000000</td>\n",
       "      <td>0.117227</td>\n",
       "      <td>0.444491</td>\n",
       "    </tr>\n",
       "    <tr>\n",
       "      <th>3</th>\n",
       "      <td>DEMOCRAT ACCUSED Of Sexual Harassment Just Thr...</td>\n",
       "      <td>John Conyers might just drain the swamp for us...</td>\n",
       "      <td>4</td>\n",
       "      <td>1811</td>\n",
       "      <td>0</td>\n",
       "      <td>253.0</td>\n",
       "      <td>[ 0.00484835 -0.15543959  0.0336613   0.061070...</td>\n",
       "      <td>0.571429</td>\n",
       "      <td>0.031031</td>\n",
       "      <td>0.755843</td>\n",
       "    </tr>\n",
       "    <tr>\n",
       "      <th>4</th>\n",
       "      <td>Wikileaks: NSA Spied on UN Secretary-General a...</td>\n",
       "      <td>InverseWikileaks released tonight a new cache...</td>\n",
       "      <td>1</td>\n",
       "      <td>760</td>\n",
       "      <td>0</td>\n",
       "      <td>229.0</td>\n",
       "      <td>[-4.13807601e-01 -9.08768699e-02 -2.11946428e-...</td>\n",
       "      <td>0.142857</td>\n",
       "      <td>0.028075</td>\n",
       "      <td>0.317195</td>\n",
       "    </tr>\n",
       "  </tbody>\n",
       "</table>\n",
       "</div>"
      ],
      "text/plain": [
       "                                               title  \\\n",
       "0  Factbox: Trump on Twitter (September 8) - Hurr...   \n",
       "1  Senate diverges over renewal of internet spyin...   \n",
       "2  FILMMAKER DINESH D’SOUZA: Eight Things I LOVE ...   \n",
       "3  DEMOCRAT ACCUSED Of Sexual Harassment Just Thr...   \n",
       "4  Wikileaks: NSA Spied on UN Secretary-General a...   \n",
       "\n",
       "                                                text subject  date label  \\\n",
       "0  The following statements were posted to the ve...       6  2387     1   \n",
       "1  WASHINGTON Reuters  A Senate panel on Tuesday ...       6  2125     1   \n",
       "2  FILMMAKER DINESH D SOUZA S Eight things I LOVE...       0  1065     0   \n",
       "3  John Conyers might just drain the swamp for us...       4  1811     0   \n",
       "4   InverseWikileaks released tonight a new cache...       1   760     0   \n",
       "\n",
       "   num_of_words                                        text_vector  \\\n",
       "0         167.0  [-2.30017886e-01  9.78440568e-02  4.11018729e-...   \n",
       "1         522.0  [-1.60385638e-01 -1.20772570e-01 -3.77683610e-...   \n",
       "2         953.0  [ 2.76459605e-01 -1.90681577e-01 -3.13233405e-...   \n",
       "3         253.0  [ 0.00484835 -0.15543959  0.0336613   0.061070...   \n",
       "4         229.0  [-4.13807601e-01 -9.08768699e-02 -2.11946428e-...   \n",
       "\n",
       "   subject_norm  num_of_words_norm  date_norm  \n",
       "0      0.857143           0.020441   0.996244  \n",
       "1      0.857143           0.064155   0.886895  \n",
       "2      0.000000           0.117227   0.444491  \n",
       "3      0.571429           0.031031   0.755843  \n",
       "4      0.142857           0.028075   0.317195  "
      ]
     },
     "execution_count": 231,
     "metadata": {},
     "output_type": "execute_result"
    }
   ],
   "source": [
    "# nomarlizando entre 0 e 1 min-max usando scikit\n",
    "from sklearn.preprocessing import StandardScaler, MinMaxScaler\n",
    "scaler = MinMaxScaler()\n",
    "df['subject_norm'] = scaler.fit_transform(df[['subject']])\n",
    "df['num_of_words_norm'] = scaler.fit_transform(df[['num_of_words']])\n",
    "df['date_norm'] = scaler.fit_transform(df[['date']])\n",
    "df.head()"
   ]
  },
  {
   "cell_type": "code",
   "execution_count": 232,
   "id": "602cd591-0bb5-4dd9-859e-10a580df4e8b",
   "metadata": {
    "colab": {
     "base_uri": "https://localhost:8080/"
    },
    "id": "602cd591-0bb5-4dd9-859e-10a580df4e8b",
    "outputId": "05a70325-bd44-4a30-8929-ecc31e49d4ce"
   },
   "outputs": [
    {
     "data": {
      "text/plain": [
       "count    44898.000000\n",
       "mean         0.674274\n",
       "std          0.293159\n",
       "min          0.000000\n",
       "25%          0.285714\n",
       "50%          0.714286\n",
       "75%          0.857143\n",
       "max          1.000000\n",
       "Name: subject_norm, dtype: float64"
      ]
     },
     "execution_count": 232,
     "metadata": {},
     "output_type": "execute_result"
    }
   ],
   "source": [
    "df['subject_norm'].describe()"
   ]
  },
  {
   "cell_type": "code",
   "execution_count": 233,
   "id": "adaed56c-08df-4407-8434-8fffa7836253",
   "metadata": {
    "colab": {
     "base_uri": "https://localhost:8080/"
    },
    "id": "adaed56c-08df-4407-8434-8fffa7836253",
    "outputId": "e6abf696-5747-43c0-b7c9-441a351c646d"
   },
   "outputs": [
    {
     "data": {
      "text/plain": [
       "count    44898.000000\n",
       "mean         0.050275\n",
       "std          0.042866\n",
       "min          0.000000\n",
       "25%          0.025982\n",
       "50%          0.044699\n",
       "75%          0.063170\n",
       "max          1.000000\n",
       "Name: num_of_words_norm, dtype: float64"
      ]
     },
     "execution_count": 233,
     "metadata": {},
     "output_type": "execute_result"
    }
   ],
   "source": [
    "df['num_of_words_norm'].describe()"
   ]
  },
  {
   "cell_type": "code",
   "execution_count": 234,
   "id": "8df31dd2-d0ad-4c3a-b796-39f8ee6f9196",
   "metadata": {},
   "outputs": [
    {
     "data": {
      "text/plain": [
       "count    44898.000000\n",
       "mean         0.556596\n",
       "std          0.294868\n",
       "min          0.000000\n",
       "25%          0.291319\n",
       "50%          0.595159\n",
       "75%          0.816361\n",
       "max          1.000000\n",
       "Name: date_norm, dtype: float64"
      ]
     },
     "execution_count": 234,
     "metadata": {},
     "output_type": "execute_result"
    }
   ],
   "source": [
    "df['date_norm'].describe()"
   ]
  },
  {
   "cell_type": "markdown",
   "id": "e20ec25f-8622-4bba-a972-9b1334dc0cdc",
   "metadata": {
    "id": "e20ec25f-8622-4bba-a972-9b1334dc0cdc"
   },
   "source": [
    "# Discretização"
   ]
  },
  {
   "cell_type": "code",
   "execution_count": 235,
   "id": "08aebc09-5ca0-48db-9f23-cbb011753c6e",
   "metadata": {
    "id": "08aebc09-5ca0-48db-9f23-cbb011753c6e"
   },
   "outputs": [],
   "source": [
    "# discretizando com 10 bins com mesmo intervalo\n",
    "df['num_of_words_dist'] = pd.cut(df['num_of_words'], 10)"
   ]
  },
  {
   "cell_type": "code",
   "execution_count": 236,
   "id": "Wtz6u64K-CUY",
   "metadata": {
    "colab": {
     "base_uri": "https://localhost:8080/"
    },
    "id": "Wtz6u64K-CUY",
    "outputId": "e5aecf80-baea-48f6-fbae-bca70bf0dc0b"
   },
   "outputs": [
    {
     "data": {
      "text/plain": [
       "num_of_words_dist\n",
       "(-7.121, 813.1]     41535\n",
       "(813.1, 1625.2]      3000\n",
       "(1625.2, 2437.3]      202\n",
       "(2437.3, 3249.4]       76\n",
       "(3249.4, 4061.5]       44\n",
       "(4061.5, 4873.6]       13\n",
       "(4873.6, 5685.7]       12\n",
       "(5685.7, 6497.8]        6\n",
       "(6497.8, 7309.9]        6\n",
       "(7309.9, 8122.0]        4\n",
       "Name: count, dtype: int64"
      ]
     },
     "execution_count": 236,
     "metadata": {},
     "output_type": "execute_result"
    }
   ],
   "source": [
    "df['num_of_words_dist'].value_counts()"
   ]
  },
  {
   "cell_type": "code",
   "execution_count": 237,
   "id": "msjQA5XX-MqA",
   "metadata": {
    "colab": {
     "base_uri": "https://localhost:8080/",
     "height": 552
    },
    "id": "msjQA5XX-MqA",
    "outputId": "e8d8fa14-c642-4aac-c4b2-be877e98ac6b"
   },
   "outputs": [
    {
     "data": {
      "image/png": "[encoded data removed]",
      "text/plain": [
       "<Figure size 640x480 with 1 Axes>"
      ]
     },
     "metadata": {},
     "output_type": "display_data"
    }
   ],
   "source": [
    "df['num_of_words_dist'].value_counts().plot(kind=\"bar\")\n",
    "plt.yscale(\"log\")"
   ]
  },
  {
   "cell_type": "markdown",
   "id": "bff1f92e-8394-41bb-af5b-6e722925f8ac",
   "metadata": {
    "id": "18ad8fdf-7952-419b-a958-1ea6dc9a595c"
   },
   "source": [
    "# Detecção de outliers"
   ]
  },
  {
   "cell_type": "code",
   "execution_count": 238,
   "id": "f8276b54-8650-435a-8159-c43d37d7ea20",
   "metadata": {},
   "outputs": [
    {
     "data": {
      "text/html": [
       "<div>\n",
       "<style scoped>\n",
       "    .dataframe tbody tr th:only-of-type {\n",
       "        vertical-align: middle;\n",
       "    }\n",
       "\n",
       "    .dataframe tbody tr th {\n",
       "        vertical-align: top;\n",
       "    }\n",
       "\n",
       "    .dataframe thead th {\n",
       "        text-align: right;\n",
       "    }\n",
       "</style>\n",
       "<table border=\"1\" class=\"dataframe\">\n",
       "  <thead>\n",
       "    <tr style=\"text-align: right;\">\n",
       "      <th></th>\n",
       "      <th>title</th>\n",
       "      <th>text</th>\n",
       "      <th>subject</th>\n",
       "      <th>date</th>\n",
       "      <th>label</th>\n",
       "      <th>num_of_words</th>\n",
       "      <th>text_vector</th>\n",
       "      <th>subject_norm</th>\n",
       "      <th>num_of_words_norm</th>\n",
       "      <th>date_norm</th>\n",
       "      <th>num_of_words_dist</th>\n",
       "    </tr>\n",
       "  </thead>\n",
       "  <tbody>\n",
       "    <tr>\n",
       "      <th>2021</th>\n",
       "      <td>EU's Tusk says important to end \"devastation\" ...</td>\n",
       "      <td>WARSAW Reuters  Poland is currently seen as a ...</td>\n",
       "      <td>7</td>\n",
       "      <td>574</td>\n",
       "      <td>1</td>\n",
       "      <td>102.0</td>\n",
       "      <td>[-0.55410135  0.5250697   0.1143855   0.149461...</td>\n",
       "      <td>1.0</td>\n",
       "      <td>0.012437</td>\n",
       "      <td>0.239566</td>\n",
       "      <td>(-7.121, 813.1]</td>\n",
       "    </tr>\n",
       "    <tr>\n",
       "      <th>3429</th>\n",
       "      <td>U.S. creating 'sensational hype' over China's ...</td>\n",
       "      <td>BEIJING Reuters  The United States has created...</td>\n",
       "      <td>7</td>\n",
       "      <td>578</td>\n",
       "      <td>1</td>\n",
       "      <td>360.0</td>\n",
       "      <td>[-0.21992368 -0.17033483 -0.15842369 -0.240870...</td>\n",
       "      <td>1.0</td>\n",
       "      <td>0.044206</td>\n",
       "      <td>0.241235</td>\n",
       "      <td>(-7.121, 813.1]</td>\n",
       "    </tr>\n",
       "    <tr>\n",
       "      <th>3621</th>\n",
       "      <td>Trump to host Norway's Solberg on Jan. 10, Whi...</td>\n",
       "      <td>WASHINGTON Reuters  US President Donald Trump ...</td>\n",
       "      <td>7</td>\n",
       "      <td>599</td>\n",
       "      <td>1</td>\n",
       "      <td>72.0</td>\n",
       "      <td>[ 0.08668138  0.13443318 -0.28766903 -0.044817...</td>\n",
       "      <td>1.0</td>\n",
       "      <td>0.008743</td>\n",
       "      <td>0.250000</td>\n",
       "      <td>(-7.121, 813.1]</td>\n",
       "    </tr>\n",
       "    <tr>\n",
       "      <th>4387</th>\n",
       "      <td>British PM May vows to stay as party plotters ...</td>\n",
       "      <td>LONDON Reuters  British Prime Minister Theresa...</td>\n",
       "      <td>7</td>\n",
       "      <td>2169</td>\n",
       "      <td>1</td>\n",
       "      <td>935.0</td>\n",
       "      <td>[ 0.31146264 -0.26915592  0.48046768 -0.068845...</td>\n",
       "      <td>1.0</td>\n",
       "      <td>0.115010</td>\n",
       "      <td>0.905259</td>\n",
       "      <td>(813.1, 1625.2]</td>\n",
       "    </tr>\n",
       "    <tr>\n",
       "      <th>4681</th>\n",
       "      <td>Lebanon detains Uber driver suspected of murde...</td>\n",
       "      <td>BEIRUT Reuters  A Lebanese taxi driver with a ...</td>\n",
       "      <td>7</td>\n",
       "      <td>562</td>\n",
       "      <td>1</td>\n",
       "      <td>651.0</td>\n",
       "      <td>[ 0.17833523  0.12321828 -0.07681531 -0.286655...</td>\n",
       "      <td>1.0</td>\n",
       "      <td>0.080039</td>\n",
       "      <td>0.234558</td>\n",
       "      <td>(-7.121, 813.1]</td>\n",
       "    </tr>\n",
       "  </tbody>\n",
       "</table>\n",
       "</div>"
      ],
      "text/plain": [
       "                                                  title  \\\n",
       "2021  EU's Tusk says important to end \"devastation\" ...   \n",
       "3429  U.S. creating 'sensational hype' over China's ...   \n",
       "3621  Trump to host Norway's Solberg on Jan. 10, Whi...   \n",
       "4387  British PM May vows to stay as party plotters ...   \n",
       "4681  Lebanon detains Uber driver suspected of murde...   \n",
       "\n",
       "                                                   text subject  date label  \\\n",
       "2021  WARSAW Reuters  Poland is currently seen as a ...       7   574     1   \n",
       "3429  BEIJING Reuters  The United States has created...       7   578     1   \n",
       "3621  WASHINGTON Reuters  US President Donald Trump ...       7   599     1   \n",
       "4387  LONDON Reuters  British Prime Minister Theresa...       7  2169     1   \n",
       "4681  BEIRUT Reuters  A Lebanese taxi driver with a ...       7   562     1   \n",
       "\n",
       "      num_of_words                                        text_vector  \\\n",
       "2021         102.0  [-0.55410135  0.5250697   0.1143855   0.149461...   \n",
       "3429         360.0  [-0.21992368 -0.17033483 -0.15842369 -0.240870...   \n",
       "3621          72.0  [ 0.08668138  0.13443318 -0.28766903 -0.044817...   \n",
       "4387         935.0  [ 0.31146264 -0.26915592  0.48046768 -0.068845...   \n",
       "4681         651.0  [ 0.17833523  0.12321828 -0.07681531 -0.286655...   \n",
       "\n",
       "      subject_norm  num_of_words_norm  date_norm num_of_words_dist  \n",
       "2021           1.0           0.012437   0.239566   (-7.121, 813.1]  \n",
       "3429           1.0           0.044206   0.241235   (-7.121, 813.1]  \n",
       "3621           1.0           0.008743   0.250000   (-7.121, 813.1]  \n",
       "4387           1.0           0.115010   0.905259   (813.1, 1625.2]  \n",
       "4681           1.0           0.080039   0.234558   (-7.121, 813.1]  "
      ]
     },
     "execution_count": 238,
     "metadata": {},
     "output_type": "execute_result"
    }
   ],
   "source": [
    "# verificando duplicatas\n",
    "df[df.duplicated()].head()"
   ]
  },
  {
   "cell_type": "code",
   "execution_count": 239,
   "id": "ac78c2dd-3e0a-42f6-a7f4-8e1d817fffe6",
   "metadata": {},
   "outputs": [],
   "source": [
    "df.drop_duplicates(keep = False, inplace = True)"
   ]
  },
  {
   "cell_type": "code",
   "execution_count": 240,
   "id": "30f040ab-e15a-415b-9c51-fbf9e163030e",
   "metadata": {},
   "outputs": [
    {
     "data": {
      "text/html": [
       "<div>\n",
       "<style scoped>\n",
       "    .dataframe tbody tr th:only-of-type {\n",
       "        vertical-align: middle;\n",
       "    }\n",
       "\n",
       "    .dataframe tbody tr th {\n",
       "        vertical-align: top;\n",
       "    }\n",
       "\n",
       "    .dataframe thead th {\n",
       "        text-align: right;\n",
       "    }\n",
       "</style>\n",
       "<table border=\"1\" class=\"dataframe\">\n",
       "  <thead>\n",
       "    <tr style=\"text-align: right;\">\n",
       "      <th></th>\n",
       "      <th>title</th>\n",
       "      <th>text</th>\n",
       "      <th>subject</th>\n",
       "      <th>date</th>\n",
       "      <th>label</th>\n",
       "      <th>num_of_words</th>\n",
       "      <th>text_vector</th>\n",
       "      <th>subject_norm</th>\n",
       "      <th>num_of_words_norm</th>\n",
       "      <th>date_norm</th>\n",
       "      <th>num_of_words_dist</th>\n",
       "    </tr>\n",
       "  </thead>\n",
       "  <tbody>\n",
       "  </tbody>\n",
       "</table>\n",
       "</div>"
      ],
      "text/plain": [
       "Empty DataFrame\n",
       "Columns: [title, text, subject, date, label, num_of_words, text_vector, subject_norm, num_of_words_norm, date_norm, num_of_words_dist]\n",
       "Index: []"
      ]
     },
     "execution_count": 240,
     "metadata": {},
     "output_type": "execute_result"
    }
   ],
   "source": [
    "df[df.duplicated()].head()"
   ]
  },
  {
   "cell_type": "code",
   "execution_count": 241,
   "id": "9cbc332c-b3eb-43d0-b7fa-683827e536b3",
   "metadata": {},
   "outputs": [
    {
     "data": {
      "text/plain": [
       "<Axes: >"
      ]
     },
     "execution_count": 241,
     "metadata": {},
     "output_type": "execute_result"
    },
    {
     "data": {
      "image/png": "[encoded data removed]",
      "text/plain": [
       "<Figure size 640x480 with 1 Axes>"
      ]
     },
     "metadata": {},
     "output_type": "display_data"
    }
   ],
   "source": [
    "df = df[['title', 'text', 'subject','date', 'label', 'num_of_words', 'text_vector', 'subject_norm', 'num_of_words_norm', 'date_norm']]\n",
    "df['num_of_words'].plot.box()"
   ]
  },
  {
   "cell_type": "code",
   "execution_count": 242,
   "id": "4be39d06-9bcf-46a9-bb9f-a9a07d76cffd",
   "metadata": {},
   "outputs": [
    {
     "data": {
      "text/plain": [
       "<Axes: ylabel='Frequency'>"
      ]
     },
     "execution_count": 242,
     "metadata": {},
     "output_type": "execute_result"
    },
    {
     "data": {
      "image/png": "[encoded data removed]",
      "text/plain": [
       "<Figure size 640x480 with 1 Axes>"
      ]
     },
     "metadata": {},
     "output_type": "display_data"
    }
   ],
   "source": [
    "df['num_of_words'].plot.hist()"
   ]
  },
  {
   "cell_type": "code",
   "execution_count": 243,
   "id": "88c9a4b6-99ef-488f-b1ab-8d9f32c0dc13",
   "metadata": {},
   "outputs": [
    {
     "data": {
      "text/plain": [
       "<Axes: ylabel='Frequency'>"
      ]
     },
     "execution_count": 243,
     "metadata": {},
     "output_type": "execute_result"
    },
    {
     "data": {
      "image/png": "[encoded data removed]",
      "text/plain": [
       "<Figure size 640x480 with 1 Axes>"
      ]
     },
     "metadata": {},
     "output_type": "display_data"
    }
   ],
   "source": [
    "df['log_num_of_words'] = np.log10(df['num_of_words'])\n",
    "df['log_num_of_words'].plot.hist()"
   ]
  },
  {
   "cell_type": "code",
   "execution_count": 244,
   "id": "5e741735-80eb-4427-b1fa-38cb5c5e140c",
   "metadata": {},
   "outputs": [
    {
     "name": "stdout",
     "output_type": "stream",
     "text": [
      "0.26641272546257455\n"
     ]
    }
   ],
   "source": [
    "mad = np.abs(df['log_num_of_words'] - df['log_num_of_words'].median()).median()*(1/0.6745)\n",
    "print(mad)"
   ]
  },
  {
   "cell_type": "code",
   "execution_count": 245,
   "id": "f28f92a6-4644-4676-b64e-348ccc9924ec",
   "metadata": {},
   "outputs": [
    {
     "data": {
      "text/plain": [
       "<Axes: >"
      ]
     },
     "execution_count": 245,
     "metadata": {},
     "output_type": "execute_result"
    },
    {
     "data": {
      "image/png": "[encoded data removed]",
      "text/plain": [
       "<Figure size 640x480 with 1 Axes>"
      ]
     },
     "metadata": {},
     "output_type": "display_data"
    }
   ],
   "source": [
    "(np.abs(df['log_num_of_words']-df['log_num_of_words'].median())/mad).hist()"
   ]
  },
  {
   "cell_type": "code",
   "execution_count": 246,
   "id": "6d6d7049-cf40-4464-a2b0-35c49d324ac5",
   "metadata": {},
   "outputs": [
    {
     "data": {
      "text/html": [
       "<div>\n",
       "<style scoped>\n",
       "    .dataframe tbody tr th:only-of-type {\n",
       "        vertical-align: middle;\n",
       "    }\n",
       "\n",
       "    .dataframe tbody tr th {\n",
       "        vertical-align: top;\n",
       "    }\n",
       "\n",
       "    .dataframe thead th {\n",
       "        text-align: right;\n",
       "    }\n",
       "</style>\n",
       "<table border=\"1\" class=\"dataframe\">\n",
       "  <thead>\n",
       "    <tr style=\"text-align: right;\">\n",
       "      <th></th>\n",
       "      <th>title</th>\n",
       "      <th>text</th>\n",
       "      <th>subject</th>\n",
       "      <th>date</th>\n",
       "      <th>label</th>\n",
       "      <th>num_of_words</th>\n",
       "      <th>text_vector</th>\n",
       "      <th>subject_norm</th>\n",
       "      <th>num_of_words_norm</th>\n",
       "      <th>date_norm</th>\n",
       "      <th>log_num_of_words</th>\n",
       "    </tr>\n",
       "  </thead>\n",
       "  <tbody>\n",
       "    <tr>\n",
       "      <th>9</th>\n",
       "      <td>BLACK CHURCH WON’T ENDORSE CLINTON: “Like bein...</td>\n",
       "      <td>CNN s Carol Costello couldn t get the right an...</td>\n",
       "      <td>5</td>\n",
       "      <td>303</td>\n",
       "      <td>0</td>\n",
       "      <td>23.0</td>\n",
       "      <td>[-5.54868893e-04 -5.59009016e-01 -1.92451343e-...</td>\n",
       "      <td>0.714286</td>\n",
       "      <td>0.002709</td>\n",
       "      <td>0.126461</td>\n",
       "      <td>1.361728</td>\n",
       "    </tr>\n",
       "    <tr>\n",
       "      <th>44</th>\n",
       "      <td>“HILL”-ARIOUS VIDEO: HILLARY TAKES BREAK From ...</td>\n",
       "      <td>This video brilliantly dispels every one of Hi...</td>\n",
       "      <td>4</td>\n",
       "      <td>270</td>\n",
       "      <td>0</td>\n",
       "      <td>21.0</td>\n",
       "      <td>[-1.64356396e-01 -5.11336088e-01 -2.35366568e-...</td>\n",
       "      <td>0.571429</td>\n",
       "      <td>0.002463</td>\n",
       "      <td>0.112688</td>\n",
       "      <td>1.322219</td>\n",
       "    </tr>\n",
       "    <tr>\n",
       "      <th>73</th>\n",
       "      <td>HYSTERICAL! TRUMP TO GERMANY’S MERKEL on Obama...</td>\n",
       "      <td>Trump to Merkel on Obama s wiretapping  at lea...</td>\n",
       "      <td>5</td>\n",
       "      <td>1432</td>\n",
       "      <td>0</td>\n",
       "      <td>21.0</td>\n",
       "      <td>[-1.63480684e-01 -5.31901196e-02 -4.06608321e-...</td>\n",
       "      <td>0.714286</td>\n",
       "      <td>0.002463</td>\n",
       "      <td>0.597663</td>\n",
       "      <td>1.322219</td>\n",
       "    </tr>\n",
       "    <tr>\n",
       "      <th>88</th>\n",
       "      <td>TRUMP CAMPAIGN MANAGER Nails Interview With Le...</td>\n",
       "      <td>Trump s new campaign manager took on Chuck Tod...</td>\n",
       "      <td>5</td>\n",
       "      <td>1263</td>\n",
       "      <td>0</td>\n",
       "      <td>27.0</td>\n",
       "      <td>[-3.23178172e-01 -1.92719139e-02  3.91115993e-...</td>\n",
       "      <td>0.714286</td>\n",
       "      <td>0.003202</td>\n",
       "      <td>0.527129</td>\n",
       "      <td>1.431364</td>\n",
       "    </tr>\n",
       "    <tr>\n",
       "      <th>115</th>\n",
       "      <td>BRAINIAC HILLARY SUPPORTER DESTROYS TRUMP’S Ho...</td>\n",
       "      <td>Via TMZ</td>\n",
       "      <td>5</td>\n",
       "      <td>2020</td>\n",
       "      <td>0</td>\n",
       "      <td>2.0</td>\n",
       "      <td>[-0.90766567  0.36254156 -0.52435106 -0.283168...</td>\n",
       "      <td>0.714286</td>\n",
       "      <td>0.000123</td>\n",
       "      <td>0.843072</td>\n",
       "      <td>0.301030</td>\n",
       "    </tr>\n",
       "    <tr>\n",
       "      <th>...</th>\n",
       "      <td>...</td>\n",
       "      <td>...</td>\n",
       "      <td>...</td>\n",
       "      <td>...</td>\n",
       "      <td>...</td>\n",
       "      <td>...</td>\n",
       "      <td>...</td>\n",
       "      <td>...</td>\n",
       "      <td>...</td>\n",
       "      <td>...</td>\n",
       "      <td>...</td>\n",
       "    </tr>\n",
       "    <tr>\n",
       "      <th>44743</th>\n",
       "      <td>Indonesia to reopen Bali airport after closure...</td>\n",
       "      <td>DENPASAR Indonesia Reuters  Bali airport will ...</td>\n",
       "      <td>7</td>\n",
       "      <td>1932</td>\n",
       "      <td>1</td>\n",
       "      <td>38.0</td>\n",
       "      <td>[ 4.24368560e-01 -1.60492569e-01  2.25952640e-...</td>\n",
       "      <td>1.000000</td>\n",
       "      <td>0.004556</td>\n",
       "      <td>0.806344</td>\n",
       "      <td>1.579784</td>\n",
       "    </tr>\n",
       "    <tr>\n",
       "      <th>44793</th>\n",
       "      <td>[VIDEO] DINESH D’SOUZA Warned Us About What Th...</td>\n",
       "      <td>Dinesh made some frightening predictions in hi...</td>\n",
       "      <td>5</td>\n",
       "      <td>870</td>\n",
       "      <td>0</td>\n",
       "      <td>19.0</td>\n",
       "      <td>[ 8.31982121e-02 -1.22502856e-01 -8.81034285e-...</td>\n",
       "      <td>0.714286</td>\n",
       "      <td>0.002216</td>\n",
       "      <td>0.363105</td>\n",
       "      <td>1.278754</td>\n",
       "    </tr>\n",
       "    <tr>\n",
       "      <th>44839</th>\n",
       "      <td>BARBRA STREISAND AND CHRIS MATTHEWS ON TRUMP E...</td>\n",
       "      <td>BARBRA MOCKS TRUMP AT A CLINTON FUNDRAISER</td>\n",
       "      <td>5</td>\n",
       "      <td>817</td>\n",
       "      <td>0</td>\n",
       "      <td>7.0</td>\n",
       "      <td>[ 0.36852065  0.43543473  0.17067562 -0.211549...</td>\n",
       "      <td>0.714286</td>\n",
       "      <td>0.000739</td>\n",
       "      <td>0.340985</td>\n",
       "      <td>0.845098</td>\n",
       "    </tr>\n",
       "    <tr>\n",
       "      <th>44849</th>\n",
       "      <td>ANTI-TRUMP Protestors Prove They Have No Basis...</td>\n",
       "      <td>If ignorance is bliss the happiest people on e...</td>\n",
       "      <td>5</td>\n",
       "      <td>61</td>\n",
       "      <td>0</td>\n",
       "      <td>21.0</td>\n",
       "      <td>[ 0.02146763  0.18231401 -0.10336043 -0.195806...</td>\n",
       "      <td>0.714286</td>\n",
       "      <td>0.002463</td>\n",
       "      <td>0.025459</td>\n",
       "      <td>1.322219</td>\n",
       "    </tr>\n",
       "    <tr>\n",
       "      <th>44850</th>\n",
       "      <td>BREAKING: MUSLIM OPENS FIRE ON JOURNALISTS [Vi...</td>\n",
       "      <td>Religion of peace ht Weasel Zippers</td>\n",
       "      <td>4</td>\n",
       "      <td>1736</td>\n",
       "      <td>0</td>\n",
       "      <td>6.0</td>\n",
       "      <td>[-0.54091793  0.46905774 -0.04512484 -0.156029...</td>\n",
       "      <td>0.571429</td>\n",
       "      <td>0.000616</td>\n",
       "      <td>0.724541</td>\n",
       "      <td>0.778151</td>\n",
       "    </tr>\n",
       "  </tbody>\n",
       "</table>\n",
       "<p>1440 rows × 11 columns</p>\n",
       "</div>"
      ],
      "text/plain": [
       "                                                   title  \\\n",
       "9      BLACK CHURCH WON’T ENDORSE CLINTON: “Like bein...   \n",
       "44     “HILL”-ARIOUS VIDEO: HILLARY TAKES BREAK From ...   \n",
       "73     HYSTERICAL! TRUMP TO GERMANY’S MERKEL on Obama...   \n",
       "88     TRUMP CAMPAIGN MANAGER Nails Interview With Le...   \n",
       "115    BRAINIAC HILLARY SUPPORTER DESTROYS TRUMP’S Ho...   \n",
       "...                                                  ...   \n",
       "44743  Indonesia to reopen Bali airport after closure...   \n",
       "44793  [VIDEO] DINESH D’SOUZA Warned Us About What Th...   \n",
       "44839  BARBRA STREISAND AND CHRIS MATTHEWS ON TRUMP E...   \n",
       "44849  ANTI-TRUMP Protestors Prove They Have No Basis...   \n",
       "44850  BREAKING: MUSLIM OPENS FIRE ON JOURNALISTS [Vi...   \n",
       "\n",
       "                                                    text subject  date label  \\\n",
       "9      CNN s Carol Costello couldn t get the right an...       5   303     0   \n",
       "44     This video brilliantly dispels every one of Hi...       4   270     0   \n",
       "73     Trump to Merkel on Obama s wiretapping  at lea...       5  1432     0   \n",
       "88     Trump s new campaign manager took on Chuck Tod...       5  1263     0   \n",
       "115                                              Via TMZ       5  2020     0   \n",
       "...                                                  ...     ...   ...   ...   \n",
       "44743  DENPASAR Indonesia Reuters  Bali airport will ...       7  1932     1   \n",
       "44793  Dinesh made some frightening predictions in hi...       5   870     0   \n",
       "44839         BARBRA MOCKS TRUMP AT A CLINTON FUNDRAISER       5   817     0   \n",
       "44849  If ignorance is bliss the happiest people on e...       5    61     0   \n",
       "44850                Religion of peace ht Weasel Zippers       4  1736     0   \n",
       "\n",
       "       num_of_words                                        text_vector  \\\n",
       "9              23.0  [-5.54868893e-04 -5.59009016e-01 -1.92451343e-...   \n",
       "44             21.0  [-1.64356396e-01 -5.11336088e-01 -2.35366568e-...   \n",
       "73             21.0  [-1.63480684e-01 -5.31901196e-02 -4.06608321e-...   \n",
       "88             27.0  [-3.23178172e-01 -1.92719139e-02  3.91115993e-...   \n",
       "115             2.0  [-0.90766567  0.36254156 -0.52435106 -0.283168...   \n",
       "...             ...                                                ...   \n",
       "44743          38.0  [ 4.24368560e-01 -1.60492569e-01  2.25952640e-...   \n",
       "44793          19.0  [ 8.31982121e-02 -1.22502856e-01 -8.81034285e-...   \n",
       "44839           7.0  [ 0.36852065  0.43543473  0.17067562 -0.211549...   \n",
       "44849          21.0  [ 0.02146763  0.18231401 -0.10336043 -0.195806...   \n",
       "44850           6.0  [-0.54091793  0.46905774 -0.04512484 -0.156029...   \n",
       "\n",
       "       subject_norm  num_of_words_norm  date_norm  log_num_of_words  \n",
       "9          0.714286           0.002709   0.126461          1.361728  \n",
       "44         0.571429           0.002463   0.112688          1.322219  \n",
       "73         0.714286           0.002463   0.597663          1.322219  \n",
       "88         0.714286           0.003202   0.527129          1.431364  \n",
       "115        0.714286           0.000123   0.843072          0.301030  \n",
       "...             ...                ...        ...               ...  \n",
       "44743      1.000000           0.004556   0.806344          1.579784  \n",
       "44793      0.714286           0.002216   0.363105          1.278754  \n",
       "44839      0.714286           0.000739   0.340985          0.845098  \n",
       "44849      0.714286           0.002463   0.025459          1.322219  \n",
       "44850      0.571429           0.000616   0.724541          0.778151  \n",
       "\n",
       "[1440 rows x 11 columns]"
      ]
     },
     "execution_count": 246,
     "metadata": {},
     "output_type": "execute_result"
    }
   ],
   "source": [
    "df[np.abs(df['log_num_of_words']-df['log_num_of_words'].median())/mad > 3.5]"
   ]
  },
  {
   "cell_type": "code",
   "execution_count": 247,
   "id": "aafbadcd-372e-4663-ad74-a48396e9f875",
   "metadata": {},
   "outputs": [
    {
     "data": {
      "text/plain": [
       "44493"
      ]
     },
     "execution_count": 247,
     "metadata": {},
     "output_type": "execute_result"
    }
   ],
   "source": [
    "len(df)"
   ]
  },
  {
   "cell_type": "code",
   "execution_count": 250,
   "id": "b98bf5c9-c76f-4455-b1ef-e241019449d4",
   "metadata": {},
   "outputs": [],
   "source": [
    "df = df[abs(df['log_num_of_words']-df['log_num_of_words'].median())/mad < 3.5]"
   ]
  },
  {
   "cell_type": "code",
   "execution_count": 251,
   "id": "b68b86c9-c01a-4673-9b83-01d86651a9f4",
   "metadata": {},
   "outputs": [
    {
     "data": {
      "text/plain": [
       "43053"
      ]
     },
     "execution_count": 251,
     "metadata": {},
     "output_type": "execute_result"
    }
   ],
   "source": [
    "len(df)"
   ]
  }
 ],
 "metadata": {
  "colab": {
   "provenance": []
  },
  "kernelspec": {
   "display_name": "Python 3 (ipykernel)",
   "language": "python",
   "name": "python3"
  },
  "language_info": {
   "codemirror_mode": {
    "name": "ipython",
    "version": 3
   },
   "file_extension": ".py",
   "mimetype": "text/x-python",
   "name": "python",
   "nbconvert_exporter": "python",
   "pygments_lexer": "ipython3",
   "version": "3.12.3"
  }
 },
 "nbformat": 4,
 "nbformat_minor": 5
}
