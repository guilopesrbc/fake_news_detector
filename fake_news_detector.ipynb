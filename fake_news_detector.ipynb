{
 "cells": [
  {
   "cell_type": "markdown",
   "id": "f4f00f97-64ad-4475-a9cb-b9e0ffb2561a",
   "metadata": {
    "id": "f4f00f97-64ad-4475-a9cb-b9e0ffb2561a"
   },
   "source": [
    "# Pré processamento"
   ]
  },
  {
   "cell_type": "code",
   "execution_count": 73,
   "id": "efa12dfa6a5e2ac2",
   "metadata": {
    "id": "efa12dfa6a5e2ac2"
   },
   "outputs": [],
   "source": [
    "# Importando as bibliotecas e construindo o dataframe\n",
    "import pandas as pd"
   ]
  },
  {
   "cell_type": "code",
   "execution_count": 106,
   "id": "190355b6c13c5ab6",
   "metadata": {
    "ExecuteTime": {
     "end_time": "2024-05-21T19:35:57.603240Z",
     "start_time": "2024-05-21T19:35:55.007387Z"
    },
    "id": "190355b6c13c5ab6"
   },
   "outputs": [],
   "source": [
    "# concatenando dois dataframes (um com fake news e outro com noticias verdadeiras)\n",
    "fake_df = pd.read_csv('https://raw.githubusercontent.com/guilopesrbc/fake_news_detector/main/Fake.csv')\n",
    "true_df = pd.read_csv('https://raw.githubusercontent.com/guilopesrbc/fake_news_detector/main/True.csv')\n",
    "\n",
    "# adicionando coluna label, correspondente a veracidade da noticias (1 para verdadeiro e 0 para falsa)\n",
    "fake_df['label'] = 0\n",
    "true_df['label'] = 1\n",
    "\n",
    "combined_df = pd.concat([fake_df, true_df], ignore_index=True)\n",
    "\n",
    "combined_df.to_csv('Combined.csv', index=False)\n",
    "combined_df.reset_index(drop=True,inplace=True)"
   ]
  },
  {
   "cell_type": "code",
   "execution_count": 107,
   "id": "e8cb7b79-02db-4777-9a63-3bf2aec7e423",
   "metadata": {
    "ExecuteTime": {
     "end_time": "2024-05-21T19:45:11.651311Z",
     "start_time": "2024-05-21T19:45:11.246788Z"
    },
    "colab": {
     "base_uri": "https://localhost:8080/",
     "height": 423
    },
    "id": "e8cb7b79-02db-4777-9a63-3bf2aec7e423",
    "outputId": "a05be6d3-14b3-4c42-b3cc-126d360b6687"
   },
   "outputs": [
    {
     "data": {
      "text/html": [
       "<div>\n",
       "<style scoped>\n",
       "    .dataframe tbody tr th:only-of-type {\n",
       "        vertical-align: middle;\n",
       "    }\n",
       "\n",
       "    .dataframe tbody tr th {\n",
       "        vertical-align: top;\n",
       "    }\n",
       "\n",
       "    .dataframe thead th {\n",
       "        text-align: right;\n",
       "    }\n",
       "</style>\n",
       "<table border=\"1\" class=\"dataframe\">\n",
       "  <thead>\n",
       "    <tr style=\"text-align: right;\">\n",
       "      <th></th>\n",
       "      <th>title</th>\n",
       "      <th>text</th>\n",
       "      <th>subject</th>\n",
       "      <th>date</th>\n",
       "      <th>label</th>\n",
       "    </tr>\n",
       "  </thead>\n",
       "  <tbody>\n",
       "    <tr>\n",
       "      <th>0</th>\n",
       "      <td>Donald Trump Sends Out Embarrassing New Year’...</td>\n",
       "      <td>Donald Trump just couldn t wish all Americans ...</td>\n",
       "      <td>News</td>\n",
       "      <td>December 31, 2017</td>\n",
       "      <td>0</td>\n",
       "    </tr>\n",
       "    <tr>\n",
       "      <th>1</th>\n",
       "      <td>Drunk Bragging Trump Staffer Started Russian ...</td>\n",
       "      <td>House Intelligence Committee Chairman Devin Nu...</td>\n",
       "      <td>News</td>\n",
       "      <td>December 31, 2017</td>\n",
       "      <td>0</td>\n",
       "    </tr>\n",
       "    <tr>\n",
       "      <th>2</th>\n",
       "      <td>Sheriff David Clarke Becomes An Internet Joke...</td>\n",
       "      <td>On Friday, it was revealed that former Milwauk...</td>\n",
       "      <td>News</td>\n",
       "      <td>December 30, 2017</td>\n",
       "      <td>0</td>\n",
       "    </tr>\n",
       "    <tr>\n",
       "      <th>3</th>\n",
       "      <td>Trump Is So Obsessed He Even Has Obama’s Name...</td>\n",
       "      <td>On Christmas day, Donald Trump announced that ...</td>\n",
       "      <td>News</td>\n",
       "      <td>December 29, 2017</td>\n",
       "      <td>0</td>\n",
       "    </tr>\n",
       "    <tr>\n",
       "      <th>4</th>\n",
       "      <td>Pope Francis Just Called Out Donald Trump Dur...</td>\n",
       "      <td>Pope Francis used his annual Christmas Day mes...</td>\n",
       "      <td>News</td>\n",
       "      <td>December 25, 2017</td>\n",
       "      <td>0</td>\n",
       "    </tr>\n",
       "  </tbody>\n",
       "</table>\n",
       "</div>"
      ],
      "text/plain": [
       "                                               title  \\\n",
       "0   Donald Trump Sends Out Embarrassing New Year’...   \n",
       "1   Drunk Bragging Trump Staffer Started Russian ...   \n",
       "2   Sheriff David Clarke Becomes An Internet Joke...   \n",
       "3   Trump Is So Obsessed He Even Has Obama’s Name...   \n",
       "4   Pope Francis Just Called Out Donald Trump Dur...   \n",
       "\n",
       "                                                text subject  \\\n",
       "0  Donald Trump just couldn t wish all Americans ...    News   \n",
       "1  House Intelligence Committee Chairman Devin Nu...    News   \n",
       "2  On Friday, it was revealed that former Milwauk...    News   \n",
       "3  On Christmas day, Donald Trump announced that ...    News   \n",
       "4  Pope Francis used his annual Christmas Day mes...    News   \n",
       "\n",
       "                date  label  \n",
       "0  December 31, 2017      0  \n",
       "1  December 31, 2017      0  \n",
       "2  December 30, 2017      0  \n",
       "3  December 29, 2017      0  \n",
       "4  December 25, 2017      0  "
      ]
     },
     "execution_count": 107,
     "metadata": {},
     "output_type": "execute_result"
    }
   ],
   "source": [
    "combined_df.head()"
   ]
  },
  {
   "cell_type": "code",
   "execution_count": 108,
   "id": "296a0457-3e31-413e-b519-2a9815fad204",
   "metadata": {},
   "outputs": [
    {
     "data": {
      "text/html": [
       "<div>\n",
       "<style scoped>\n",
       "    .dataframe tbody tr th:only-of-type {\n",
       "        vertical-align: middle;\n",
       "    }\n",
       "\n",
       "    .dataframe tbody tr th {\n",
       "        vertical-align: top;\n",
       "    }\n",
       "\n",
       "    .dataframe thead th {\n",
       "        text-align: right;\n",
       "    }\n",
       "</style>\n",
       "<table border=\"1\" class=\"dataframe\">\n",
       "  <thead>\n",
       "    <tr style=\"text-align: right;\">\n",
       "      <th></th>\n",
       "      <th>title</th>\n",
       "      <th>text</th>\n",
       "      <th>subject</th>\n",
       "      <th>date</th>\n",
       "      <th>label</th>\n",
       "      <th>num_of_words</th>\n",
       "    </tr>\n",
       "  </thead>\n",
       "  <tbody>\n",
       "    <tr>\n",
       "      <th>0</th>\n",
       "      <td>Donald Trump Sends Out Embarrassing New Year’...</td>\n",
       "      <td>Donald Trump just couldn t wish all Americans ...</td>\n",
       "      <td>News</td>\n",
       "      <td>December 31, 2017</td>\n",
       "      <td>0</td>\n",
       "      <td>492</td>\n",
       "    </tr>\n",
       "    <tr>\n",
       "      <th>1</th>\n",
       "      <td>Drunk Bragging Trump Staffer Started Russian ...</td>\n",
       "      <td>House Intelligence Committee Chairman Devin Nu...</td>\n",
       "      <td>News</td>\n",
       "      <td>December 31, 2017</td>\n",
       "      <td>0</td>\n",
       "      <td>305</td>\n",
       "    </tr>\n",
       "    <tr>\n",
       "      <th>2</th>\n",
       "      <td>Sheriff David Clarke Becomes An Internet Joke...</td>\n",
       "      <td>On Friday it was revealed that former Milwauke...</td>\n",
       "      <td>News</td>\n",
       "      <td>December 30, 2017</td>\n",
       "      <td>0</td>\n",
       "      <td>579</td>\n",
       "    </tr>\n",
       "    <tr>\n",
       "      <th>3</th>\n",
       "      <td>Trump Is So Obsessed He Even Has Obama’s Name...</td>\n",
       "      <td>On Christmas day Donald Trump announced that h...</td>\n",
       "      <td>News</td>\n",
       "      <td>December 29, 2017</td>\n",
       "      <td>0</td>\n",
       "      <td>441</td>\n",
       "    </tr>\n",
       "    <tr>\n",
       "      <th>4</th>\n",
       "      <td>Pope Francis Just Called Out Donald Trump Dur...</td>\n",
       "      <td>Pope Francis used his annual Christmas Day mes...</td>\n",
       "      <td>News</td>\n",
       "      <td>December 25, 2017</td>\n",
       "      <td>0</td>\n",
       "      <td>420</td>\n",
       "    </tr>\n",
       "  </tbody>\n",
       "</table>\n",
       "</div>"
      ],
      "text/plain": [
       "                                               title  \\\n",
       "0   Donald Trump Sends Out Embarrassing New Year’...   \n",
       "1   Drunk Bragging Trump Staffer Started Russian ...   \n",
       "2   Sheriff David Clarke Becomes An Internet Joke...   \n",
       "3   Trump Is So Obsessed He Even Has Obama’s Name...   \n",
       "4   Pope Francis Just Called Out Donald Trump Dur...   \n",
       "\n",
       "                                                text subject  \\\n",
       "0  Donald Trump just couldn t wish all Americans ...    News   \n",
       "1  House Intelligence Committee Chairman Devin Nu...    News   \n",
       "2  On Friday it was revealed that former Milwauke...    News   \n",
       "3  On Christmas day Donald Trump announced that h...    News   \n",
       "4  Pope Francis used his annual Christmas Day mes...    News   \n",
       "\n",
       "                date  label  num_of_words  \n",
       "0  December 31, 2017      0           492  \n",
       "1  December 31, 2017      0           305  \n",
       "2  December 30, 2017      0           579  \n",
       "3  December 29, 2017      0           441  \n",
       "4  December 25, 2017      0           420  "
      ]
     },
     "execution_count": 108,
     "metadata": {},
     "output_type": "execute_result"
    }
   ],
   "source": [
    "# criando coluna num_of_words correspondente ao número de palavras presentes no texto da noticia\n",
    "# combined_df['vector'] = pd.Series(dtype=\"object\")\n",
    "import re\n",
    "# regex para substituir caracteres que n forem letras e números\n",
    "regex = r'[^a-zA-Z0-9\\s]'\n",
    "combined_df['text'] = combined_df['text'].map(lambda x: re.sub(regex, '', x))\n",
    "combined_df['num_of_words'] = combined_df['text'].map(lambda x: len(x.split()))\n",
    "combined_df.head()"
   ]
  },
  {
   "cell_type": "markdown",
   "id": "RAGOlajxjeVa",
   "metadata": {
    "id": "RAGOlajxjeVa"
   },
   "source": [
    "# Setando campos como categóricos"
   ]
  },
  {
   "cell_type": "code",
   "execution_count": 109,
   "id": "iQjPIxrDjsVf",
   "metadata": {
    "colab": {
     "base_uri": "https://localhost:8080/"
    },
    "id": "iQjPIxrDjsVf",
    "outputId": "b11f6653-168b-45fc-8fe6-37962bf0e2a9"
   },
   "outputs": [
    {
     "data": {
      "text/plain": [
       "title           object\n",
       "text            object\n",
       "subject         object\n",
       "date            object\n",
       "label            int64\n",
       "num_of_words     int64\n",
       "dtype: object"
      ]
     },
     "execution_count": 109,
     "metadata": {},
     "output_type": "execute_result"
    }
   ],
   "source": [
    "combined_df.dtypes"
   ]
  },
  {
   "cell_type": "code",
   "execution_count": 110,
   "id": "_mqkbvISlhIT",
   "metadata": {
    "id": "_mqkbvISlhIT"
   },
   "outputs": [],
   "source": [
    "combined_df['subject'] = combined_df['subject'].astype('category')"
   ]
  },
  {
   "cell_type": "code",
   "execution_count": 111,
   "id": "Swg9YjI1lvNm",
   "metadata": {
    "colab": {
     "base_uri": "https://localhost:8080/"
    },
    "id": "Swg9YjI1lvNm",
    "outputId": "18ba9f08-f98e-4bd3-bc34-1baa2717a40b"
   },
   "outputs": [
    {
     "data": {
      "text/plain": [
       "title             object\n",
       "text              object\n",
       "subject         category\n",
       "date              object\n",
       "label              int64\n",
       "num_of_words       int64\n",
       "dtype: object"
      ]
     },
     "execution_count": 111,
     "metadata": {},
     "output_type": "execute_result"
    }
   ],
   "source": [
    "combined_df.dtypes"
   ]
  },
  {
   "cell_type": "code",
   "execution_count": 112,
   "id": "67f1Tx1Sl0uK",
   "metadata": {
    "id": "67f1Tx1Sl0uK"
   },
   "outputs": [],
   "source": [
    "combined_df['subject'] = combined_df['subject'].cat.codes"
   ]
  },
  {
   "cell_type": "code",
   "execution_count": 113,
   "id": "zYtOuLH8mhiU",
   "metadata": {
    "colab": {
     "base_uri": "https://localhost:8080/"
    },
    "id": "zYtOuLH8mhiU",
    "outputId": "67ba7be7-3860-463f-f4a0-324284a4eb6e"
   },
   "outputs": [
    {
     "data": {
      "text/plain": [
       "array([2, 5, 0, 4, 3, 1, 6, 7], dtype=int8)"
      ]
     },
     "execution_count": 113,
     "metadata": {},
     "output_type": "execute_result"
    }
   ],
   "source": [
    "combined_df['subject'].unique()"
   ]
  },
  {
   "cell_type": "code",
   "execution_count": 114,
   "id": "xbulBfpsmoxN",
   "metadata": {
    "colab": {
     "base_uri": "https://localhost:8080/"
    },
    "id": "xbulBfpsmoxN",
    "outputId": "575013a4-e098-4924-a9ee-def6b9ee30a7"
   },
   "outputs": [
    {
     "data": {
      "text/plain": [
       "title           object\n",
       "text            object\n",
       "subject           int8\n",
       "date            object\n",
       "label            int64\n",
       "num_of_words     int64\n",
       "dtype: object"
      ]
     },
     "execution_count": 114,
     "metadata": {},
     "output_type": "execute_result"
    }
   ],
   "source": [
    "combined_df.dtypes"
   ]
  },
  {
   "cell_type": "markdown",
   "id": "e32cf869-2e8d-4713-a981-94b3403b06a2",
   "metadata": {
    "id": "e32cf869-2e8d-4713-a981-94b3403b06a2"
   },
   "source": [
    "# Verificando valores nulos e vazios"
   ]
  },
  {
   "cell_type": "code",
   "execution_count": 115,
   "id": "c6486bd3e3c44c4",
   "metadata": {
    "colab": {
     "base_uri": "https://localhost:8080/"
    },
    "id": "c6486bd3e3c44c4",
    "outputId": "3cfab718-e595-461e-8663-af8229d2cd3e"
   },
   "outputs": [
    {
     "data": {
      "text/plain": [
       "title           0\n",
       "text            0\n",
       "subject         0\n",
       "date            0\n",
       "label           0\n",
       "num_of_words    0\n",
       "dtype: int64"
      ]
     },
     "execution_count": 115,
     "metadata": {},
     "output_type": "execute_result"
    }
   ],
   "source": [
    "# verificando valores nulo\n",
    "combined_df.isnull().sum()"
   ]
  },
  {
   "cell_type": "code",
   "execution_count": 116,
   "id": "f2568eca-2d20-4e75-8cd5-474ad652237d",
   "metadata": {
    "colab": {
     "base_uri": "https://localhost:8080/"
    },
    "id": "f2568eca-2d20-4e75-8cd5-474ad652237d",
    "outputId": "02c8ad47-7578-4eaa-b8ff-7b441bddfbef"
   },
   "outputs": [
    {
     "data": {
      "text/plain": [
       "0"
      ]
     },
     "execution_count": 116,
     "metadata": {},
     "output_type": "execute_result"
    }
   ],
   "source": [
    "# verificando valores vazios de titulo\n",
    "remove_spaces = lambda x: ''.join(x.split()) if type(x) == str else x\n",
    "empty_values = combined_df.map(remove_spaces)\n",
    "empty_values['title'] = empty_values['title'] == ''\n",
    "len(empty_values[empty_values['title'] == True])"
   ]
  },
  {
   "cell_type": "code",
   "execution_count": 117,
   "id": "2f793eb2-1eb3-4f86-a58f-03a3f7ae7469",
   "metadata": {
    "colab": {
     "base_uri": "https://localhost:8080/"
    },
    "id": "2f793eb2-1eb3-4f86-a58f-03a3f7ae7469",
    "outputId": "97c27482-99ae-4a0a-a03b-1e913cd62196"
   },
   "outputs": [
    {
     "data": {
      "text/plain": [
       "631"
      ]
     },
     "execution_count": 117,
     "metadata": {},
     "output_type": "execute_result"
    }
   ],
   "source": [
    "# verificando valores vazios de texto\n",
    "remove_spaces = lambda x: ''.join(x.split()) if type(x) == str else x\n",
    "empty_values = combined_df.map(remove_spaces)\n",
    "empty_values['text'] = empty_values['text'] == ''\n",
    "len(empty_values[empty_values['text'] == True])"
   ]
  },
  {
   "cell_type": "code",
   "execution_count": 90,
   "id": "nsq1FoSBimsI",
   "metadata": {
    "colab": {
     "base_uri": "https://localhost:8080/"
    },
    "id": "nsq1FoSBimsI",
    "outputId": "c1861251-b54a-452b-d2f4-bdc510691ef0"
   },
   "outputs": [
    {
     "data": {
      "text/plain": [
       "0"
      ]
     },
     "execution_count": 90,
     "metadata": {},
     "output_type": "execute_result"
    }
   ],
   "source": [
    "# verificando valores vazios de tipo de conteúdo\n",
    "remove_spaces = lambda x: ''.join(x.split()) if type(x) == str else x\n",
    "empty_values = combined_df.map(remove_spaces)\n",
    "empty_values['subject'] = empty_values['subject'] == ''\n",
    "len(empty_values[empty_values['subject'] == True])"
   ]
  },
  {
   "cell_type": "markdown",
   "id": "7b85dfa3-e2ec-4da3-b37c-c82c2d2dc750",
   "metadata": {
    "id": "da7106e4-2ba1-4c4b-bba6-f370abcff4dd"
   },
   "source": [
    "# Teste de hipotese"
   ]
  },
  {
   "cell_type": "code",
   "execution_count": null,
   "id": "e2f38ba1-d97b-434b-bcec-e182fa9626c3",
   "metadata": {},
   "outputs": [],
   "source": []
  }
 ],
 "metadata": {
  "colab": {
   "provenance": []
  },
  "kernelspec": {
   "display_name": "Python 3 (ipykernel)",
   "language": "python",
   "name": "python3"
  },
  "language_info": {
   "codemirror_mode": {
    "name": "ipython",
    "version": 3
   },
   "file_extension": ".py",
   "mimetype": "text/x-python",
   "name": "python",
   "nbconvert_exporter": "python",
   "pygments_lexer": "ipython3",
   "version": "3.12.3"
  }
 },
 "nbformat": 4,
 "nbformat_minor": 5
}
