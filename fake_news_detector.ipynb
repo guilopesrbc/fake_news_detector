{
 "cells": [
  {
   "cell_type": "markdown",
   "id": "f4f00f97-64ad-4475-a9cb-b9e0ffb2561a",
   "metadata": {
    "id": "f4f00f97-64ad-4475-a9cb-b9e0ffb2561a"
   },
   "source": [
    "# Pré processamento"
   ]
  },
  {
   "cell_type": "code",
   "execution_count": 1,
   "id": "9352d8e8-1510-45b5-88c1-14c4b4dd7216",
   "metadata": {
    "ExecuteTime": {
     "end_time": "2024-07-09T14:34:59.205480Z",
     "start_time": "2024-07-09T14:34:56.439569Z"
    },
    "scrolled": true
   },
   "outputs": [
    {
     "name": "stderr",
     "output_type": "stream",
     "text": [
      "/Users/joaomadruga/.pyenv/versions/3.10.4/envs/default/lib/python3.10/site-packages/sentence_transformers/cross_encoder/CrossEncoder.py:11: TqdmExperimentalWarning: Using `tqdm.autonotebook.tqdm` in notebook mode. Use `tqdm.tqdm` instead to force console mode (e.g. in jupyter console)\n",
      "  from tqdm.autonotebook import tqdm, trange\n"
     ]
    }
   ],
   "source": [
    "# Importando as bibliotecas e construindo o dataframe\n",
    "import pandas as pd\n",
    "import matplotlib.pyplot as plt\n",
    "import numpy as np\n",
    "import re\n",
    "import faiss\n",
    "import random\n",
    "from sklearn.impute import KNNImputer\n",
    "from sentence_transformers import SentenceTransformer\n",
    "import mlflow\n",
    "from sklearn.ensemble import RandomForestClassifier\n",
    "from sklearn.neighbors import KNeighborsClassifier\n",
    "from sklearn.svm import SVC\n",
    "from sklearn.linear_model import LogisticRegression\n",
    "from sklearn.metrics import roc_auc_score\n",
    "from sklearn.metrics import confusion_matrix, roc_curve\n",
    "from sklearn.model_selection import train_test_split, GridSearchCV, cross_val_score\n",
    "import seaborn as sns"
   ]
  },
  {
   "cell_type": "code",
   "execution_count": 2,
   "id": "51c04766-683a-4f4e-8617-c2384dc5fd12",
   "metadata": {},
   "outputs": [
    {
     "data": {
      "text/html": [
       "<div>\n",
       "<style scoped>\n",
       "    .dataframe tbody tr th:only-of-type {\n",
       "        vertical-align: middle;\n",
       "    }\n",
       "\n",
       "    .dataframe tbody tr th {\n",
       "        vertical-align: top;\n",
       "    }\n",
       "\n",
       "    .dataframe thead th {\n",
       "        text-align: right;\n",
       "    }\n",
       "</style>\n",
       "<table border=\"1\" class=\"dataframe\">\n",
       "  <thead>\n",
       "    <tr style=\"text-align: right;\">\n",
       "      <th></th>\n",
       "      <th>title</th>\n",
       "      <th>text</th>\n",
       "      <th>subject</th>\n",
       "      <th>date</th>\n",
       "      <th>label</th>\n",
       "    </tr>\n",
       "  </thead>\n",
       "  <tbody>\n",
       "    <tr>\n",
       "      <th>0</th>\n",
       "      <td>Donald Trump Sends Out Embarrassing New Year’...</td>\n",
       "      <td>Donald Trump just couldn t wish all Americans ...</td>\n",
       "      <td>News</td>\n",
       "      <td>December 31, 2017</td>\n",
       "      <td>0</td>\n",
       "    </tr>\n",
       "    <tr>\n",
       "      <th>1</th>\n",
       "      <td>Drunk Bragging Trump Staffer Started Russian ...</td>\n",
       "      <td>House Intelligence Committee Chairman Devin Nu...</td>\n",
       "      <td>News</td>\n",
       "      <td>December 31, 2017</td>\n",
       "      <td>0</td>\n",
       "    </tr>\n",
       "    <tr>\n",
       "      <th>2</th>\n",
       "      <td>Sheriff David Clarke Becomes An Internet Joke...</td>\n",
       "      <td>On Friday, it was revealed that former Milwauk...</td>\n",
       "      <td>News</td>\n",
       "      <td>December 30, 2017</td>\n",
       "      <td>0</td>\n",
       "    </tr>\n",
       "    <tr>\n",
       "      <th>3</th>\n",
       "      <td>Trump Is So Obsessed He Even Has Obama’s Name...</td>\n",
       "      <td>On Christmas day, Donald Trump announced that ...</td>\n",
       "      <td>News</td>\n",
       "      <td>December 29, 2017</td>\n",
       "      <td>0</td>\n",
       "    </tr>\n",
       "    <tr>\n",
       "      <th>4</th>\n",
       "      <td>Pope Francis Just Called Out Donald Trump Dur...</td>\n",
       "      <td>Pope Francis used his annual Christmas Day mes...</td>\n",
       "      <td>News</td>\n",
       "      <td>December 25, 2017</td>\n",
       "      <td>0</td>\n",
       "    </tr>\n",
       "  </tbody>\n",
       "</table>\n",
       "</div>"
      ],
      "text/plain": [
       "                                               title  \\\n",
       "0   Donald Trump Sends Out Embarrassing New Year’...   \n",
       "1   Drunk Bragging Trump Staffer Started Russian ...   \n",
       "2   Sheriff David Clarke Becomes An Internet Joke...   \n",
       "3   Trump Is So Obsessed He Even Has Obama’s Name...   \n",
       "4   Pope Francis Just Called Out Donald Trump Dur...   \n",
       "\n",
       "                                                text subject  \\\n",
       "0  Donald Trump just couldn t wish all Americans ...    News   \n",
       "1  House Intelligence Committee Chairman Devin Nu...    News   \n",
       "2  On Friday, it was revealed that former Milwauk...    News   \n",
       "3  On Christmas day, Donald Trump announced that ...    News   \n",
       "4  Pope Francis used his annual Christmas Day mes...    News   \n",
       "\n",
       "                date  label  \n",
       "0  December 31, 2017      0  \n",
       "1  December 31, 2017      0  \n",
       "2  December 30, 2017      0  \n",
       "3  December 29, 2017      0  \n",
       "4  December 25, 2017      0  "
      ]
     },
     "execution_count": 2,
     "metadata": {},
     "output_type": "execute_result"
    }
   ],
   "source": [
    "# concatenando dois dataframes (um com fake news e outro com noticias verdadeiras)\n",
    "fake_df = pd.read_csv('https://raw.githubusercontent.com/guilopesrbc/fake_news_detector/main/Fake.csv')\n",
    "true_df = pd.read_csv('https://raw.githubusercontent.com/guilopesrbc/fake_news_detector/main/True.csv')\n",
    "# adicionando coluna label, correspondente a veracidade da noticias (1 para verdadeiro e 0 para falsa)\n",
    "fake_df['label'] = 0\n",
    "true_df['label'] = 1\n",
    "\n",
    "combined_df = pd.concat([fake_df, true_df], ignore_index=True)\n",
    "\n",
    "combined_df.to_csv('Combined.csv', index=False)\n",
    "combined_df.reset_index(drop=True,inplace=True)\n",
    "combined_df.head()"
   ]
  },
  {
   "cell_type": "markdown",
   "id": "576566b5-dcd1-4407-852e-089269d7fd58",
   "metadata": {},
   "source": [
    "# Criando coluna num_of_words correspondente ao número de palavras presentes no texto da noticia"
   ]
  },
  {
   "cell_type": "code",
   "execution_count": 3,
   "id": "f929a7a3-8328-4843-b963-c7f68b0c7884",
   "metadata": {},
   "outputs": [],
   "source": [
    "# criando coluna num_of_words correspondente ao número de palavras presentes no texto da noticia\n",
    "import re\n",
    "# regex para substituir caracteres que não forem letras e números\n",
    "regex = r'[^a-zA-Z0-9\\s]'\n",
    "combined_df['text'] = combined_df['text'].map(lambda x: re.sub(regex, '', x))\n",
    "combined_df['num_of_words'] = combined_df['text'].map(lambda x: len(x.split()))"
   ]
  },
  {
   "cell_type": "markdown",
   "id": "7d37d1709a239daf",
   "metadata": {},
   "source": [
    "# Criando nova coluna com texto vetorizado "
   ]
  },
  {
   "cell_type": "code",
   "execution_count": null,
   "id": "eeb294044ed1277c",
   "metadata": {
    "ExecuteTime": {
     "start_time": "2024-06-04T21:16:53.772504Z"
    },
    "jupyter": {
     "is_executing": true
    }
   },
   "outputs": [],
   "source": [
    "# Initialize the Sentence Transformer model\n",
    "model = SentenceTransformer('paraphrase-MiniLM-L6-v2')\n",
    "\n",
    "# Function to vectorize the text\n",
    "def vectorize_text(text):\n",
    "    return model.encode(text)\n",
    "\n",
    "# Apply the function to create a new column with vectorized text\n",
    "combined_df['text_vector'] = combined_df['text'].map(vectorize_text)\n",
    "combined_df.to_csv('vectorized_texts.csv', index=False)"
   ]
  },
  {
   "cell_type": "markdown",
   "id": "18c714be",
   "metadata": {},
   "source": [
    "# Reading from csv file "
   ]
  },
  {
   "cell_type": "code",
   "execution_count": 4,
   "id": "53a47c31",
   "metadata": {
    "ExecuteTime": {
     "end_time": "2024-07-08T04:02:27.770085Z",
     "start_time": "2024-07-08T04:02:27.095471Z"
    }
   },
   "outputs": [],
   "source": [
    "# Função para converter strings de vetores em numpy arrays de forma segura\n",
    "def str_to_array(vector_str):\n",
    "    try:\n",
    "        # Remover caracteres desnecessários e converter a string para um numpy array\n",
    "        cleaned_str = vector_str.replace('\\n', '').replace('[', '').replace(']', '').replace('  ', ' ')\n",
    "        return np.fromstring(cleaned_str, sep=' ')\n",
    "    except Exception as e:\n",
    "        print(f\"Error converting string to array: {e}\")\n",
    "        return np.nan\n",
    "\n",
    "def convert_text_vectors_from_str_to_np_arr():\n",
    "    # Certifique-se de que os vetores de texto sejam numpy arrays, não strings\n",
    "    df['text_vector'] = df['text_vector'].map(str_to_array) if isinstance(df['text_vector'][0], str) else df['text_vector']\n",
    "\n",
    "    # Verifique se todos os vetores têm o mesmo tamanho\n",
    "    vector_length = len(df['text_vector'][0])\n",
    "    df['text_vector'] = df['text_vector'].map(lambda x: x if len(x) == vector_length else np.nan).dropna()"
   ]
  },
  {
   "cell_type": "code",
   "execution_count": 5,
   "id": "5d6f7505d4f9e3a5",
   "metadata": {
    "ExecuteTime": {
     "end_time": "2024-07-08T04:02:43.284715Z",
     "start_time": "2024-07-08T04:02:29.923971Z"
    },
    "scrolled": true
   },
   "outputs": [
    {
     "data": {
      "text/html": [
       "<div>\n",
       "<style scoped>\n",
       "    .dataframe tbody tr th:only-of-type {\n",
       "        vertical-align: middle;\n",
       "    }\n",
       "\n",
       "    .dataframe tbody tr th {\n",
       "        vertical-align: top;\n",
       "    }\n",
       "\n",
       "    .dataframe thead th {\n",
       "        text-align: right;\n",
       "    }\n",
       "</style>\n",
       "<table border=\"1\" class=\"dataframe\">\n",
       "  <thead>\n",
       "    <tr style=\"text-align: right;\">\n",
       "      <th></th>\n",
       "      <th>title</th>\n",
       "      <th>text</th>\n",
       "      <th>subject</th>\n",
       "      <th>date</th>\n",
       "      <th>label</th>\n",
       "      <th>num_of_words</th>\n",
       "      <th>text_vector</th>\n",
       "    </tr>\n",
       "  </thead>\n",
       "  <tbody>\n",
       "    <tr>\n",
       "      <th>0</th>\n",
       "      <td>Donald Trump Sends Out Embarrassing New Year’...</td>\n",
       "      <td>Donald Trump just couldn t wish all Americans ...</td>\n",
       "      <td>News</td>\n",
       "      <td>December 31, 2017</td>\n",
       "      <td>0</td>\n",
       "      <td>492</td>\n",
       "      <td>[-0.08635634, 0.16764247, 0.40040964, -0.36150...</td>\n",
       "    </tr>\n",
       "    <tr>\n",
       "      <th>1</th>\n",
       "      <td>Drunk Bragging Trump Staffer Started Russian ...</td>\n",
       "      <td>House Intelligence Committee Chairman Devin Nu...</td>\n",
       "      <td>News</td>\n",
       "      <td>December 31, 2017</td>\n",
       "      <td>0</td>\n",
       "      <td>305</td>\n",
       "      <td>[0.00671101, 0.0081033, -0.20852128, -0.087897...</td>\n",
       "    </tr>\n",
       "    <tr>\n",
       "      <th>2</th>\n",
       "      <td>Sheriff David Clarke Becomes An Internet Joke...</td>\n",
       "      <td>On Friday it was revealed that former Milwauke...</td>\n",
       "      <td>News</td>\n",
       "      <td>December 30, 2017</td>\n",
       "      <td>0</td>\n",
       "      <td>579</td>\n",
       "      <td>[-0.362045884, -0.123025492, -0.551379442, -0....</td>\n",
       "    </tr>\n",
       "    <tr>\n",
       "      <th>3</th>\n",
       "      <td>Trump Is So Obsessed He Even Has Obama’s Name...</td>\n",
       "      <td>On Christmas day Donald Trump announced that h...</td>\n",
       "      <td>News</td>\n",
       "      <td>December 29, 2017</td>\n",
       "      <td>0</td>\n",
       "      <td>441</td>\n",
       "      <td>[0.0173586905, 0.00204306096, 0.0736115128, 0....</td>\n",
       "    </tr>\n",
       "    <tr>\n",
       "      <th>4</th>\n",
       "      <td>Pope Francis Just Called Out Donald Trump Dur...</td>\n",
       "      <td>Pope Francis used his annual Christmas Day mes...</td>\n",
       "      <td>News</td>\n",
       "      <td>December 25, 2017</td>\n",
       "      <td>0</td>\n",
       "      <td>420</td>\n",
       "      <td>[-0.079019241, 0.473764718, 0.155274183, -0.05...</td>\n",
       "    </tr>\n",
       "  </tbody>\n",
       "</table>\n",
       "</div>"
      ],
      "text/plain": [
       "                                               title  \\\n",
       "0   Donald Trump Sends Out Embarrassing New Year’...   \n",
       "1   Drunk Bragging Trump Staffer Started Russian ...   \n",
       "2   Sheriff David Clarke Becomes An Internet Joke...   \n",
       "3   Trump Is So Obsessed He Even Has Obama’s Name...   \n",
       "4   Pope Francis Just Called Out Donald Trump Dur...   \n",
       "\n",
       "                                                text subject  \\\n",
       "0  Donald Trump just couldn t wish all Americans ...    News   \n",
       "1  House Intelligence Committee Chairman Devin Nu...    News   \n",
       "2  On Friday it was revealed that former Milwauke...    News   \n",
       "3  On Christmas day Donald Trump announced that h...    News   \n",
       "4  Pope Francis used his annual Christmas Day mes...    News   \n",
       "\n",
       "                date  label  num_of_words  \\\n",
       "0  December 31, 2017      0           492   \n",
       "1  December 31, 2017      0           305   \n",
       "2  December 30, 2017      0           579   \n",
       "3  December 29, 2017      0           441   \n",
       "4  December 25, 2017      0           420   \n",
       "\n",
       "                                         text_vector  \n",
       "0  [-0.08635634, 0.16764247, 0.40040964, -0.36150...  \n",
       "1  [0.00671101, 0.0081033, -0.20852128, -0.087897...  \n",
       "2  [-0.362045884, -0.123025492, -0.551379442, -0....  \n",
       "3  [0.0173586905, 0.00204306096, 0.0736115128, 0....  \n",
       "4  [-0.079019241, 0.473764718, 0.155274183, -0.05...  "
      ]
     },
     "execution_count": 5,
     "metadata": {},
     "output_type": "execute_result"
    }
   ],
   "source": [
    "combined_df = pd.read_csv('vectorized.csv')\n",
    "df = combined_df\n",
    "convert_text_vectors_from_str_to_np_arr()\n",
    "combined_df.head()"
   ]
  },
  {
   "cell_type": "markdown",
   "id": "RAGOlajxjeVa",
   "metadata": {
    "id": "RAGOlajxjeVa"
   },
   "source": [
    "# Setando campos como categóricos"
   ]
  },
  {
   "cell_type": "code",
   "execution_count": 6,
   "id": "iQjPIxrDjsVf",
   "metadata": {
    "ExecuteTime": {
     "end_time": "2024-07-08T04:02:45.589654Z",
     "start_time": "2024-07-08T04:02:45.335147Z"
    },
    "colab": {
     "base_uri": "https://localhost:8080/"
    },
    "id": "iQjPIxrDjsVf",
    "outputId": "85494ed3-eb18-4fb7-a3a6-a23195653f72"
   },
   "outputs": [
    {
     "data": {
      "text/plain": [
       "title           object\n",
       "text            object\n",
       "subject         object\n",
       "date            object\n",
       "label            int64\n",
       "num_of_words     int64\n",
       "text_vector     object\n",
       "dtype: object"
      ]
     },
     "execution_count": 6,
     "metadata": {},
     "output_type": "execute_result"
    }
   ],
   "source": [
    "combined_df.dtypes"
   ]
  },
  {
   "cell_type": "code",
   "execution_count": 7,
   "id": "_mqkbvISlhIT",
   "metadata": {
    "ExecuteTime": {
     "end_time": "2024-07-08T04:02:47.067383Z",
     "start_time": "2024-07-08T04:02:46.870422Z"
    },
    "id": "_mqkbvISlhIT"
   },
   "outputs": [],
   "source": [
    "# modificando a coluna subject\n",
    "combined_df.loc[combined_df['subject'].isin(['politics', 'Government News', 'left-news']), 'subject'] = 'politics'\n",
    "combined_df.loc[combined_df['subject'].isin(['US_News', 'News', 'Middle-east']), 'subject'] = 'worldnews'\n",
    "combined_df.loc[combined_df['subject'] == 'politicsNews', 'subject'] = 'politics'\n",
    "combined_df['subject'] = combined_df['subject'].astype('category')"
   ]
  },
  {
   "cell_type": "code",
   "execution_count": 8,
   "id": "Swg9YjI1lvNm",
   "metadata": {
    "ExecuteTime": {
     "end_time": "2024-07-08T04:02:48.274101Z",
     "start_time": "2024-07-08T04:02:48.058733Z"
    },
    "colab": {
     "base_uri": "https://localhost:8080/"
    },
    "id": "Swg9YjI1lvNm",
    "outputId": "35b62efb-a4e9-4817-ef25-8ddc8b453f27"
   },
   "outputs": [
    {
     "data": {
      "text/plain": [
       "title             object\n",
       "text              object\n",
       "subject         category\n",
       "date              object\n",
       "label              int64\n",
       "num_of_words       int64\n",
       "text_vector       object\n",
       "dtype: object"
      ]
     },
     "execution_count": 8,
     "metadata": {},
     "output_type": "execute_result"
    }
   ],
   "source": [
    "combined_df.dtypes"
   ]
  },
  {
   "cell_type": "code",
   "execution_count": 9,
   "id": "67f1Tx1Sl0uK",
   "metadata": {
    "ExecuteTime": {
     "end_time": "2024-07-08T04:02:49.669199Z",
     "start_time": "2024-07-08T04:02:49.565681Z"
    },
    "id": "67f1Tx1Sl0uK"
   },
   "outputs": [],
   "source": [
    "combined_df['num_subjects'] = combined_df['subject'].cat.codes"
   ]
  },
  {
   "cell_type": "code",
   "execution_count": 10,
   "id": "xbulBfpsmoxN",
   "metadata": {
    "ExecuteTime": {
     "end_time": "2024-07-08T04:02:50.701547Z",
     "start_time": "2024-07-08T04:02:50.609384Z"
    },
    "colab": {
     "base_uri": "https://localhost:8080/"
    },
    "id": "xbulBfpsmoxN",
    "outputId": "41cba873-4ad6-4524-e660-e10047e40180"
   },
   "outputs": [
    {
     "data": {
      "text/plain": [
       "title             object\n",
       "text              object\n",
       "subject         category\n",
       "date              object\n",
       "label              int64\n",
       "num_of_words       int64\n",
       "text_vector       object\n",
       "num_subjects        int8\n",
       "dtype: object"
      ]
     },
     "execution_count": 10,
     "metadata": {},
     "output_type": "execute_result"
    }
   ],
   "source": [
    "combined_df.dtypes"
   ]
  },
  {
   "cell_type": "markdown",
   "id": "e32cf869-2e8d-4713-a981-94b3403b06a2",
   "metadata": {
    "id": "e32cf869-2e8d-4713-a981-94b3403b06a2"
   },
   "source": [
    "# Verificando valores nulos e vazios"
   ]
  },
  {
   "cell_type": "code",
   "execution_count": 11,
   "id": "c6486bd3e3c44c4",
   "metadata": {
    "ExecuteTime": {
     "end_time": "2024-07-08T04:02:53.158547Z",
     "start_time": "2024-07-08T04:02:52.953427Z"
    },
    "colab": {
     "base_uri": "https://localhost:8080/"
    },
    "id": "c6486bd3e3c44c4",
    "outputId": "897853a4-d580-4452-cfcd-635f91a1399b"
   },
   "outputs": [
    {
     "data": {
      "text/plain": [
       "title           0\n",
       "text            0\n",
       "subject         0\n",
       "date            0\n",
       "label           0\n",
       "num_of_words    0\n",
       "text_vector     0\n",
       "num_subjects    0\n",
       "dtype: int64"
      ]
     },
     "execution_count": 11,
     "metadata": {},
     "output_type": "execute_result"
    }
   ],
   "source": [
    "# verificando valores nulo\n",
    "combined_df.isnull().sum()"
   ]
  },
  {
   "cell_type": "code",
   "execution_count": 12,
   "id": "f2568eca-2d20-4e75-8cd5-474ad652237d",
   "metadata": {
    "ExecuteTime": {
     "end_time": "2024-07-08T04:02:57.836770Z",
     "start_time": "2024-07-08T04:02:54.276970Z"
    },
    "colab": {
     "base_uri": "https://localhost:8080/"
    },
    "id": "f2568eca-2d20-4e75-8cd5-474ad652237d",
    "outputId": "ca0e2d36-5a03-43b3-8acc-ef2e7e44c7b5"
   },
   "outputs": [
    {
     "data": {
      "text/plain": [
       "0"
      ]
     },
     "execution_count": 12,
     "metadata": {},
     "output_type": "execute_result"
    }
   ],
   "source": [
    "# verificando valores vazios de titulo\n",
    "remove_spaces = lambda x: ''.join(x.split()) if type(x) == str else x\n",
    "empty_values = combined_df.map(remove_spaces)\n",
    "empty_values['title'] = empty_values['title'] == ''\n",
    "len(empty_values[empty_values['title'] == True])"
   ]
  },
  {
   "cell_type": "code",
   "execution_count": 13,
   "id": "2f793eb2-1eb3-4f86-a58f-03a3f7ae7469",
   "metadata": {
    "ExecuteTime": {
     "end_time": "2024-07-08T04:03:01.958144Z",
     "start_time": "2024-07-08T04:02:57.848696Z"
    },
    "colab": {
     "base_uri": "https://localhost:8080/"
    },
    "id": "2f793eb2-1eb3-4f86-a58f-03a3f7ae7469",
    "outputId": "a35bcefc-8621-4220-f869-b24db713b26f"
   },
   "outputs": [
    {
     "data": {
      "text/plain": [
       "631"
      ]
     },
     "execution_count": 13,
     "metadata": {},
     "output_type": "execute_result"
    }
   ],
   "source": [
    "# verificando valores vazios de texto\n",
    "remove_spaces = lambda x: ''.join(x.split()) if type(x) == str else x\n",
    "empty_values = combined_df.map(remove_spaces)\n",
    "empty_values['text'] = empty_values['text'] == ''\n",
    "len(empty_values[empty_values['text'] == True])"
   ]
  },
  {
   "cell_type": "code",
   "execution_count": 14,
   "id": "nsq1FoSBimsI",
   "metadata": {
    "ExecuteTime": {
     "end_time": "2024-07-08T04:03:05.515172Z",
     "start_time": "2024-07-08T04:03:01.971612Z"
    },
    "colab": {
     "base_uri": "https://localhost:8080/"
    },
    "id": "nsq1FoSBimsI",
    "outputId": "ff0f5917-c4fa-4f6a-d193-bf2f13340929"
   },
   "outputs": [
    {
     "data": {
      "text/plain": [
       "0"
      ]
     },
     "execution_count": 14,
     "metadata": {},
     "output_type": "execute_result"
    }
   ],
   "source": [
    "# verificando valores vazios de tipo de conteúdo\n",
    "remove_spaces = lambda x: ''.join(x.split()) if type(x) == str else x\n",
    "empty_values = combined_df.map(remove_spaces)\n",
    "empty_values['subject'] = empty_values['subject'] == ''\n",
    "len(empty_values[empty_values['subject'] == True])"
   ]
  },
  {
   "cell_type": "code",
   "execution_count": 62,
   "id": "usVlyjUTmNZN",
   "metadata": {
    "ExecuteTime": {
     "end_time": "2024-07-08T04:03:05.704638Z",
     "start_time": "2024-07-08T04:03:05.531997Z"
    },
    "colab": {
     "base_uri": "https://localhost:8080/"
    },
    "id": "usVlyjUTmNZN",
    "outputId": "fa8b20cd-e869-40d2-d2af-1ce46290e78d"
   },
   "outputs": [
    {
     "data": {
      "text/plain": [
       "631"
      ]
     },
     "execution_count": 62,
     "metadata": {},
     "output_type": "execute_result"
    }
   ],
   "source": [
    "# setando valores num_of_words iguais a 0 para nulo\n",
    "df = combined_df\n",
    "df['num_of_words'] = df['num_of_words'].map(lambda x: np.nan if x == 0 else x)\n",
    "df['num_of_words'].isnull().sum()"
   ]
  },
  {
   "cell_type": "markdown",
   "id": "bbddb4f4-7b74-47c2-97e7-0dd07989b07a",
   "metadata": {},
   "source": [
    "# Dividindo o dataset em batches para otimizar o uso do algoritmo KNN  "
   ]
  },
  {
   "cell_type": "code",
   "execution_count": 63,
   "id": "CSZp00bwgcrD",
   "metadata": {
    "ExecuteTime": {
     "end_time": "2024-07-08T04:03:05.971223Z",
     "start_time": "2024-07-08T04:03:05.707814Z"
    },
    "colab": {
     "base_uri": "https://localhost:8080/",
     "height": 180
    },
    "id": "CSZp00bwgcrD",
    "outputId": "ebd21a6b-5769-42cf-f0a5-aa92dc200821"
   },
   "outputs": [
    {
     "name": "stdout",
     "output_type": "stream",
     "text": [
      "title            0\n",
      "text             0\n",
      "subject          0\n",
      "date             0\n",
      "label            0\n",
      "num_of_words    63\n",
      "text_vector      0\n",
      "num_subjects     0\n",
      "dtype: int64\n",
      "title            0\n",
      "text             0\n",
      "subject          0\n",
      "date             0\n",
      "label            0\n",
      "num_of_words    67\n",
      "text_vector      0\n",
      "num_subjects     0\n",
      "dtype: int64\n",
      "title            0\n",
      "text             0\n",
      "subject          0\n",
      "date             0\n",
      "label            0\n",
      "num_of_words    67\n",
      "text_vector      0\n",
      "num_subjects     0\n",
      "dtype: int64\n",
      "title            0\n",
      "text             0\n",
      "subject          0\n",
      "date             0\n",
      "label            0\n",
      "num_of_words    75\n",
      "text_vector      0\n",
      "num_subjects     0\n",
      "dtype: int64\n",
      "title            0\n",
      "text             0\n",
      "subject          0\n",
      "date             0\n",
      "label            0\n",
      "num_of_words    79\n",
      "text_vector      0\n",
      "num_subjects     0\n",
      "dtype: int64\n",
      "title            0\n",
      "text             0\n",
      "subject          0\n",
      "date             0\n",
      "label            0\n",
      "num_of_words    68\n",
      "text_vector      0\n",
      "num_subjects     0\n",
      "dtype: int64\n",
      "title            0\n",
      "text             0\n",
      "subject          0\n",
      "date             0\n",
      "label            0\n",
      "num_of_words    65\n",
      "text_vector      0\n",
      "num_subjects     0\n",
      "dtype: int64\n",
      "title            0\n",
      "text             0\n",
      "subject          0\n",
      "date             0\n",
      "label            0\n",
      "num_of_words    68\n",
      "text_vector      0\n",
      "num_subjects     0\n",
      "dtype: int64\n",
      "title            0\n",
      "text             0\n",
      "subject          0\n",
      "date             0\n",
      "label            0\n",
      "num_of_words    79\n",
      "text_vector      0\n",
      "num_subjects     0\n",
      "dtype: int64\n"
     ]
    }
   ],
   "source": [
    "batch_size = 5000\n",
    "df_numpy = df.to_numpy()\n",
    "\n",
    "# Embaralhar os dados,\n",
    "np.random.shuffle(df_numpy)\n",
    "# Dividir o dataset em batches,\n",
    "n_batches = int(np.ceil(df_numpy.shape[0] / batch_size))  # Número de batches\n",
    "batches = np.array_split(df_numpy, n_batches)\n",
    "batches_df = [pd.DataFrame(batch, columns=df.columns) for batch in batches]\n",
    "df = pd.DataFrame(df_numpy, columns=df.columns)\n",
    "\n",
    "for batch in batches_df:\n",
    "    print(batch.isnull().sum())"
   ]
  },
  {
   "cell_type": "code",
   "execution_count": 64,
   "id": "eZk4ITbHhdl8",
   "metadata": {
    "ExecuteTime": {
     "end_time": "2024-07-08T04:03:07.721779Z",
     "start_time": "2024-07-08T04:03:05.974247Z"
    },
    "id": "eZk4ITbHhdl8"
   },
   "outputs": [],
   "source": [
    "imputer = KNNImputer(n_neighbors=3)\n",
    "df_num_of_words_knn = [pd.DataFrame(imputer.fit_transform(batch[['num_subjects', 'num_of_words', 'label']]), columns=df[['num_subjects', 'num_of_words', 'label']].columns) for batch in batches_df]\n"
   ]
  },
  {
   "cell_type": "code",
   "execution_count": 65,
   "id": "48a67031-e013-4628-921a-0451b1a2a970",
   "metadata": {
    "ExecuteTime": {
     "end_time": "2024-07-08T04:03:07.933256Z",
     "start_time": "2024-07-08T04:03:07.726797Z"
    }
   },
   "outputs": [
    {
     "name": "stdout",
     "output_type": "stream",
     "text": [
      "num_subjects    0\n",
      "num_of_words    0\n",
      "label           0\n",
      "dtype: int64\n",
      "num_subjects    0\n",
      "num_of_words    0\n",
      "label           0\n",
      "dtype: int64\n",
      "num_subjects    0\n",
      "num_of_words    0\n",
      "label           0\n",
      "dtype: int64\n",
      "num_subjects    0\n",
      "num_of_words    0\n",
      "label           0\n",
      "dtype: int64\n",
      "num_subjects    0\n",
      "num_of_words    0\n",
      "label           0\n",
      "dtype: int64\n",
      "num_subjects    0\n",
      "num_of_words    0\n",
      "label           0\n",
      "dtype: int64\n",
      "num_subjects    0\n",
      "num_of_words    0\n",
      "label           0\n",
      "dtype: int64\n",
      "num_subjects    0\n",
      "num_of_words    0\n",
      "label           0\n",
      "dtype: int64\n",
      "num_subjects    0\n",
      "num_of_words    0\n",
      "label           0\n",
      "dtype: int64\n"
     ]
    }
   ],
   "source": [
    "df_concatened = pd.DataFrame()\n",
    "for batch in df_num_of_words_knn:\n",
    "    df_concatened = pd.concat([df_concatened, batch], ignore_index=True)\n",
    "    print(batch.isnull().sum())"
   ]
  },
  {
   "cell_type": "code",
   "execution_count": 66,
   "id": "5315e653-ddc4-4599-bbc3-d927978d2e82",
   "metadata": {},
   "outputs": [
    {
     "name": "stdout",
     "output_type": "stream",
     "text": [
      "Média Antes da imputação: 409.75884970745705\n",
      "Mediana Antes da imputação: 365.0\n",
      "Desvio padrão Antes da imputação: 349.71942503433115\n",
      "Média Depois da imputação: 408.5285164892275\n",
      "Mediana Depois da imputação: 364.0\n",
      "Desvio padrão Depois da imputação: 347.9425079925011\n"
     ]
    }
   ],
   "source": [
    "mean_before = df[\"num_of_words\"].mean()\n",
    "median_before = df[\"num_of_words\"].median()\n",
    "std_before = df[\"num_of_words\"].std()\n",
    "\n",
    "mean_after = df_concatened[\"num_of_words\"].mean()\n",
    "median_after = df_concatened[\"num_of_words\"].median()\n",
    "std_after = df_concatened[\"num_of_words\"].std()\n",
    "\n",
    "print(f\"Média Antes da imputação: {mean_before}\")\n",
    "print(f\"Mediana Antes da imputação: {median_before}\")\n",
    "print(f\"Desvio padrão Antes da imputação: {std_before}\")\n",
    "\n",
    "print(f\"Média Depois da imputação: {mean_after}\")\n",
    "print(f\"Mediana Depois da imputação: {median_after}\")\n",
    "print(f\"Desvio padrão Depois da imputação: {std_after}\")"
   ]
  },
  {
   "cell_type": "code",
   "execution_count": 67,
   "id": "53079576-f596-4b2f-9a34-82c85fe469c6",
   "metadata": {
    "ExecuteTime": {
     "end_time": "2024-07-08T04:03:08.146591Z",
     "start_time": "2024-07-08T04:03:07.939060Z"
    }
   },
   "outputs": [
    {
     "data": {
      "text/plain": [
       "title           0\n",
       "text            0\n",
       "subject         0\n",
       "date            0\n",
       "label           0\n",
       "num_of_words    0\n",
       "text_vector     0\n",
       "num_subjects    0\n",
       "dtype: int64"
      ]
     },
     "execution_count": 67,
     "metadata": {},
     "output_type": "execute_result"
    }
   ],
   "source": [
    "df['num_of_words'] = df_concatened['num_of_words']\n",
    "df.isnull().sum()"
   ]
  },
  {
   "cell_type": "markdown",
   "id": "f7efff11-ef48-4dff-9c89-3f271a903b22",
   "metadata": {
    "id": "f7efff11-ef48-4dff-9c89-3f271a903b22"
   },
   "source": [
    "# Normalização"
   ]
  },
  {
   "cell_type": "code",
   "execution_count": 68,
   "id": "2687ba42-7b89-42a3-9863-c5d04e4d88f7",
   "metadata": {
    "ExecuteTime": {
     "end_time": "2024-07-08T04:03:08.224342Z",
     "start_time": "2024-07-08T04:03:08.156139Z"
    },
    "colab": {
     "base_uri": "https://localhost:8080/",
     "height": 162
    },
    "id": "2687ba42-7b89-42a3-9863-c5d04e4d88f7",
    "outputId": "e39ab2be-6a71-49aa-b48d-799ef80f5538"
   },
   "outputs": [
    {
     "data": {
      "text/html": [
       "<div>\n",
       "<style scoped>\n",
       "    .dataframe tbody tr th:only-of-type {\n",
       "        vertical-align: middle;\n",
       "    }\n",
       "\n",
       "    .dataframe tbody tr th {\n",
       "        vertical-align: top;\n",
       "    }\n",
       "\n",
       "    .dataframe thead th {\n",
       "        text-align: right;\n",
       "    }\n",
       "</style>\n",
       "<table border=\"1\" class=\"dataframe\">\n",
       "  <thead>\n",
       "    <tr style=\"text-align: right;\">\n",
       "      <th></th>\n",
       "      <th>title</th>\n",
       "      <th>text</th>\n",
       "      <th>subject</th>\n",
       "      <th>date</th>\n",
       "      <th>label</th>\n",
       "      <th>num_of_words</th>\n",
       "      <th>text_vector</th>\n",
       "      <th>num_subjects</th>\n",
       "    </tr>\n",
       "  </thead>\n",
       "  <tbody>\n",
       "    <tr>\n",
       "      <th>0</th>\n",
       "      <td>WATCH: Elizabeth Warren Skewers Donald Trump ...</td>\n",
       "      <td>Senator Elizabeth Warren continued her crusade...</td>\n",
       "      <td>worldnews</td>\n",
       "      <td>June 27, 2016</td>\n",
       "      <td>0</td>\n",
       "      <td>494.0</td>\n",
       "      <td>[0.06040979, 0.06019406, 0.04490232, 0.0301119...</td>\n",
       "      <td>1</td>\n",
       "    </tr>\n",
       "    <tr>\n",
       "      <th>1</th>\n",
       "      <td>N.J. Democrats divided on renewing 'Bridgegate...</td>\n",
       "      <td>This March 30 story was corrected to note Pri...</td>\n",
       "      <td>politics</td>\n",
       "      <td>March 30, 2017</td>\n",
       "      <td>1</td>\n",
       "      <td>666.0</td>\n",
       "      <td>[-0.114649765, 0.0962814987, -0.238213688, -0....</td>\n",
       "      <td>0</td>\n",
       "    </tr>\n",
       "    <tr>\n",
       "      <th>2</th>\n",
       "      <td>Maxine Waters Just Threw An EPIC Twitter Bomb...</td>\n",
       "      <td>Rep Maxine Waters is taking a page right out o...</td>\n",
       "      <td>worldnews</td>\n",
       "      <td>June 7, 2017</td>\n",
       "      <td>0</td>\n",
       "      <td>343.0</td>\n",
       "      <td>[-0.0309025757, -0.242757395, -0.219708785, 0....</td>\n",
       "      <td>1</td>\n",
       "    </tr>\n",
       "    <tr>\n",
       "      <th>3</th>\n",
       "      <td>U.S. lawmakers seek looser energy development ...</td>\n",
       "      <td>WASHINGTON Reuters  A bill to ease restriction...</td>\n",
       "      <td>politics</td>\n",
       "      <td>May 9, 2017</td>\n",
       "      <td>1</td>\n",
       "      <td>398.0</td>\n",
       "      <td>[0.0339794606, 0.285286129, -0.0969551504, 0.2...</td>\n",
       "      <td>0</td>\n",
       "    </tr>\n",
       "    <tr>\n",
       "      <th>4</th>\n",
       "      <td>U.S. SPY SATELLITES Detect North Korea Transfe...</td>\n",
       "      <td>While the main stream media continues to chase...</td>\n",
       "      <td>politics</td>\n",
       "      <td>Aug 8, 2017</td>\n",
       "      <td>0</td>\n",
       "      <td>398.0</td>\n",
       "      <td>[-0.31442773, 0.2098737, -0.1797846, -0.121055...</td>\n",
       "      <td>0</td>\n",
       "    </tr>\n",
       "    <tr>\n",
       "      <th>...</th>\n",
       "      <td>...</td>\n",
       "      <td>...</td>\n",
       "      <td>...</td>\n",
       "      <td>...</td>\n",
       "      <td>...</td>\n",
       "      <td>...</td>\n",
       "      <td>...</td>\n",
       "      <td>...</td>\n",
       "    </tr>\n",
       "    <tr>\n",
       "      <th>44893</th>\n",
       "      <td>CNN Panel ERUPTS, Gets UGLY After Guest Defen...</td>\n",
       "      <td>Donald Trump s disgusting travel ban is a high...</td>\n",
       "      <td>worldnews</td>\n",
       "      <td>March 16, 2017</td>\n",
       "      <td>0</td>\n",
       "      <td>385.0</td>\n",
       "      <td>[0.00566194812, -0.157936513, -0.12730363, 0.0...</td>\n",
       "      <td>1</td>\n",
       "    </tr>\n",
       "    <tr>\n",
       "      <th>44894</th>\n",
       "      <td>LIST OF 22 TIMES OBAMA Called Phony Climate Ch...</td>\n",
       "      <td>Oh the irony of a terror attack by Muslims tak...</td>\n",
       "      <td>politics</td>\n",
       "      <td>Dec 3, 2015</td>\n",
       "      <td>0</td>\n",
       "      <td>1423.0</td>\n",
       "      <td>[-0.231034383, 0.370221496, -0.245440081, -0.2...</td>\n",
       "      <td>0</td>\n",
       "    </tr>\n",
       "    <tr>\n",
       "      <th>44895</th>\n",
       "      <td>Facebook says Russian-linked accounts spent ju...</td>\n",
       "      <td>LONDON Reuters  Russianbased operatives placed...</td>\n",
       "      <td>worldnews</td>\n",
       "      <td>December 13, 2017</td>\n",
       "      <td>1</td>\n",
       "      <td>325.0</td>\n",
       "      <td>[-0.0436354317, -0.311258584, -0.446187615, -0...</td>\n",
       "      <td>1</td>\n",
       "    </tr>\n",
       "    <tr>\n",
       "      <th>44896</th>\n",
       "      <td>Democratic presidential candidates get chance ...</td>\n",
       "      <td>NEW YORK Reuters  A US news channel and a news...</td>\n",
       "      <td>politics</td>\n",
       "      <td>January 26, 2016</td>\n",
       "      <td>1</td>\n",
       "      <td>435.0</td>\n",
       "      <td>[0.0590595379, -0.16399622, -0.339284927, -0.2...</td>\n",
       "      <td>0</td>\n",
       "    </tr>\n",
       "    <tr>\n",
       "      <th>44897</th>\n",
       "      <td>London’s New Muslim Mayor Has Some VERY Choic...</td>\n",
       "      <td>While the United States has as one of its pres...</td>\n",
       "      <td>worldnews</td>\n",
       "      <td>May 13, 2016</td>\n",
       "      <td>0</td>\n",
       "      <td>401.0</td>\n",
       "      <td>[0.27685088, 0.39887485, -0.12056244, -0.16973...</td>\n",
       "      <td>1</td>\n",
       "    </tr>\n",
       "  </tbody>\n",
       "</table>\n",
       "<p>44898 rows × 8 columns</p>\n",
       "</div>"
      ],
      "text/plain": [
       "                                                   title  \\\n",
       "0       WATCH: Elizabeth Warren Skewers Donald Trump ...   \n",
       "1      N.J. Democrats divided on renewing 'Bridgegate...   \n",
       "2       Maxine Waters Just Threw An EPIC Twitter Bomb...   \n",
       "3      U.S. lawmakers seek looser energy development ...   \n",
       "4      U.S. SPY SATELLITES Detect North Korea Transfe...   \n",
       "...                                                  ...   \n",
       "44893   CNN Panel ERUPTS, Gets UGLY After Guest Defen...   \n",
       "44894  LIST OF 22 TIMES OBAMA Called Phony Climate Ch...   \n",
       "44895  Facebook says Russian-linked accounts spent ju...   \n",
       "44896  Democratic presidential candidates get chance ...   \n",
       "44897   London’s New Muslim Mayor Has Some VERY Choic...   \n",
       "\n",
       "                                                    text    subject  \\\n",
       "0      Senator Elizabeth Warren continued her crusade...  worldnews   \n",
       "1       This March 30 story was corrected to note Pri...   politics   \n",
       "2      Rep Maxine Waters is taking a page right out o...  worldnews   \n",
       "3      WASHINGTON Reuters  A bill to ease restriction...   politics   \n",
       "4      While the main stream media continues to chase...   politics   \n",
       "...                                                  ...        ...   \n",
       "44893  Donald Trump s disgusting travel ban is a high...  worldnews   \n",
       "44894  Oh the irony of a terror attack by Muslims tak...   politics   \n",
       "44895  LONDON Reuters  Russianbased operatives placed...  worldnews   \n",
       "44896  NEW YORK Reuters  A US news channel and a news...   politics   \n",
       "44897  While the United States has as one of its pres...  worldnews   \n",
       "\n",
       "                     date label  num_of_words  \\\n",
       "0           June 27, 2016     0         494.0   \n",
       "1         March 30, 2017      1         666.0   \n",
       "2            June 7, 2017     0         343.0   \n",
       "3            May 9, 2017      1         398.0   \n",
       "4             Aug 8, 2017     0         398.0   \n",
       "...                   ...   ...           ...   \n",
       "44893      March 16, 2017     0         385.0   \n",
       "44894         Dec 3, 2015     0        1423.0   \n",
       "44895  December 13, 2017      1         325.0   \n",
       "44896   January 26, 2016      1         435.0   \n",
       "44897        May 13, 2016     0         401.0   \n",
       "\n",
       "                                             text_vector num_subjects  \n",
       "0      [0.06040979, 0.06019406, 0.04490232, 0.0301119...            1  \n",
       "1      [-0.114649765, 0.0962814987, -0.238213688, -0....            0  \n",
       "2      [-0.0309025757, -0.242757395, -0.219708785, 0....            1  \n",
       "3      [0.0339794606, 0.285286129, -0.0969551504, 0.2...            0  \n",
       "4      [-0.31442773, 0.2098737, -0.1797846, -0.121055...            0  \n",
       "...                                                  ...          ...  \n",
       "44893  [0.00566194812, -0.157936513, -0.12730363, 0.0...            1  \n",
       "44894  [-0.231034383, 0.370221496, -0.245440081, -0.2...            0  \n",
       "44895  [-0.0436354317, -0.311258584, -0.446187615, -0...            1  \n",
       "44896  [0.0590595379, -0.16399622, -0.339284927, -0.2...            0  \n",
       "44897  [0.27685088, 0.39887485, -0.12056244, -0.16973...            1  \n",
       "\n",
       "[44898 rows x 8 columns]"
      ]
     },
     "execution_count": 68,
     "metadata": {},
     "output_type": "execute_result"
    }
   ],
   "source": [
    "df"
   ]
  },
  {
   "cell_type": "code",
   "execution_count": 69,
   "id": "497986cc-bd8b-4209-944d-e0e09ca17394",
   "metadata": {
    "ExecuteTime": {
     "end_time": "2024-07-08T04:03:08.314435Z",
     "start_time": "2024-07-08T04:03:08.227099Z"
    },
    "colab": {
     "base_uri": "https://localhost:8080/",
     "height": 206
    },
    "id": "497986cc-bd8b-4209-944d-e0e09ca17394",
    "outputId": "183a1104-d366-4c6c-b7df-235e81e9e846"
   },
   "outputs": [
    {
     "data": {
      "text/html": [
       "<div>\n",
       "<style scoped>\n",
       "    .dataframe tbody tr th:only-of-type {\n",
       "        vertical-align: middle;\n",
       "    }\n",
       "\n",
       "    .dataframe tbody tr th {\n",
       "        vertical-align: top;\n",
       "    }\n",
       "\n",
       "    .dataframe thead th {\n",
       "        text-align: right;\n",
       "    }\n",
       "</style>\n",
       "<table border=\"1\" class=\"dataframe\">\n",
       "  <thead>\n",
       "    <tr style=\"text-align: right;\">\n",
       "      <th></th>\n",
       "      <th>title</th>\n",
       "      <th>text</th>\n",
       "      <th>subject</th>\n",
       "      <th>date</th>\n",
       "      <th>label</th>\n",
       "      <th>num_of_words</th>\n",
       "      <th>text_vector</th>\n",
       "      <th>num_subjects</th>\n",
       "      <th>subject_norm</th>\n",
       "      <th>num_of_words_norm</th>\n",
       "    </tr>\n",
       "  </thead>\n",
       "  <tbody>\n",
       "    <tr>\n",
       "      <th>0</th>\n",
       "      <td>WATCH: Elizabeth Warren Skewers Donald Trump ...</td>\n",
       "      <td>Senator Elizabeth Warren continued her crusade...</td>\n",
       "      <td>worldnews</td>\n",
       "      <td>June 27, 2016</td>\n",
       "      <td>0</td>\n",
       "      <td>494.0</td>\n",
       "      <td>[0.06040979, 0.06019406, 0.04490232, 0.0301119...</td>\n",
       "      <td>1</td>\n",
       "      <td>1.0</td>\n",
       "      <td>0.060707</td>\n",
       "    </tr>\n",
       "    <tr>\n",
       "      <th>1</th>\n",
       "      <td>N.J. Democrats divided on renewing 'Bridgegate...</td>\n",
       "      <td>This March 30 story was corrected to note Pri...</td>\n",
       "      <td>politics</td>\n",
       "      <td>March 30, 2017</td>\n",
       "      <td>1</td>\n",
       "      <td>666.0</td>\n",
       "      <td>[-0.114649765, 0.0962814987, -0.238213688, -0....</td>\n",
       "      <td>0</td>\n",
       "      <td>0.0</td>\n",
       "      <td>0.081886</td>\n",
       "    </tr>\n",
       "    <tr>\n",
       "      <th>2</th>\n",
       "      <td>Maxine Waters Just Threw An EPIC Twitter Bomb...</td>\n",
       "      <td>Rep Maxine Waters is taking a page right out o...</td>\n",
       "      <td>worldnews</td>\n",
       "      <td>June 7, 2017</td>\n",
       "      <td>0</td>\n",
       "      <td>343.0</td>\n",
       "      <td>[-0.0309025757, -0.242757395, -0.219708785, 0....</td>\n",
       "      <td>1</td>\n",
       "      <td>1.0</td>\n",
       "      <td>0.042113</td>\n",
       "    </tr>\n",
       "    <tr>\n",
       "      <th>3</th>\n",
       "      <td>U.S. lawmakers seek looser energy development ...</td>\n",
       "      <td>WASHINGTON Reuters  A bill to ease restriction...</td>\n",
       "      <td>politics</td>\n",
       "      <td>May 9, 2017</td>\n",
       "      <td>1</td>\n",
       "      <td>398.0</td>\n",
       "      <td>[0.0339794606, 0.285286129, -0.0969551504, 0.2...</td>\n",
       "      <td>0</td>\n",
       "      <td>0.0</td>\n",
       "      <td>0.048886</td>\n",
       "    </tr>\n",
       "    <tr>\n",
       "      <th>4</th>\n",
       "      <td>U.S. SPY SATELLITES Detect North Korea Transfe...</td>\n",
       "      <td>While the main stream media continues to chase...</td>\n",
       "      <td>politics</td>\n",
       "      <td>Aug 8, 2017</td>\n",
       "      <td>0</td>\n",
       "      <td>398.0</td>\n",
       "      <td>[-0.31442773, 0.2098737, -0.1797846, -0.121055...</td>\n",
       "      <td>0</td>\n",
       "      <td>0.0</td>\n",
       "      <td>0.048886</td>\n",
       "    </tr>\n",
       "  </tbody>\n",
       "</table>\n",
       "</div>"
      ],
      "text/plain": [
       "                                               title  \\\n",
       "0   WATCH: Elizabeth Warren Skewers Donald Trump ...   \n",
       "1  N.J. Democrats divided on renewing 'Bridgegate...   \n",
       "2   Maxine Waters Just Threw An EPIC Twitter Bomb...   \n",
       "3  U.S. lawmakers seek looser energy development ...   \n",
       "4  U.S. SPY SATELLITES Detect North Korea Transfe...   \n",
       "\n",
       "                                                text    subject  \\\n",
       "0  Senator Elizabeth Warren continued her crusade...  worldnews   \n",
       "1   This March 30 story was corrected to note Pri...   politics   \n",
       "2  Rep Maxine Waters is taking a page right out o...  worldnews   \n",
       "3  WASHINGTON Reuters  A bill to ease restriction...   politics   \n",
       "4  While the main stream media continues to chase...   politics   \n",
       "\n",
       "              date label  num_of_words  \\\n",
       "0    June 27, 2016     0         494.0   \n",
       "1  March 30, 2017      1         666.0   \n",
       "2     June 7, 2017     0         343.0   \n",
       "3     May 9, 2017      1         398.0   \n",
       "4      Aug 8, 2017     0         398.0   \n",
       "\n",
       "                                         text_vector num_subjects  \\\n",
       "0  [0.06040979, 0.06019406, 0.04490232, 0.0301119...            1   \n",
       "1  [-0.114649765, 0.0962814987, -0.238213688, -0....            0   \n",
       "2  [-0.0309025757, -0.242757395, -0.219708785, 0....            1   \n",
       "3  [0.0339794606, 0.285286129, -0.0969551504, 0.2...            0   \n",
       "4  [-0.31442773, 0.2098737, -0.1797846, -0.121055...            0   \n",
       "\n",
       "   subject_norm  num_of_words_norm  \n",
       "0           1.0           0.060707  \n",
       "1           0.0           0.081886  \n",
       "2           1.0           0.042113  \n",
       "3           0.0           0.048886  \n",
       "4           0.0           0.048886  "
      ]
     },
     "execution_count": 69,
     "metadata": {},
     "output_type": "execute_result"
    }
   ],
   "source": [
    "# nomarlizando entre 0 e 1 min-max usando scikit\n",
    "from sklearn.preprocessing import StandardScaler, MinMaxScaler\n",
    "scaler = MinMaxScaler()\n",
    "df['subject_norm'] = scaler.fit_transform(df[['num_subjects']])\n",
    "df['num_of_words_norm'] = scaler.fit_transform(df[['num_of_words']])\n",
    "df.head()"
   ]
  },
  {
   "cell_type": "code",
   "execution_count": 70,
   "id": "602cd591-0bb5-4dd9-859e-10a580df4e8b",
   "metadata": {
    "ExecuteTime": {
     "end_time": "2024-07-08T04:03:08.981212Z",
     "start_time": "2024-07-08T04:03:08.811237Z"
    },
    "colab": {
     "base_uri": "https://localhost:8080/"
    },
    "id": "602cd591-0bb5-4dd9-859e-10a580df4e8b",
    "outputId": "05a70325-bd44-4a30-8929-ecc31e49d4ce"
   },
   "outputs": [
    {
     "data": {
      "text/plain": [
       "count    44898.000000\n",
       "mean         0.462292\n",
       "std          0.498582\n",
       "min          0.000000\n",
       "25%          0.000000\n",
       "50%          0.000000\n",
       "75%          1.000000\n",
       "max          1.000000\n",
       "Name: subject_norm, dtype: float64"
      ]
     },
     "execution_count": 70,
     "metadata": {},
     "output_type": "execute_result"
    }
   ],
   "source": [
    "df['subject_norm'].describe()"
   ]
  },
  {
   "cell_type": "code",
   "execution_count": 71,
   "id": "adaed56c-08df-4407-8434-8fffa7836253",
   "metadata": {
    "ExecuteTime": {
     "end_time": "2024-07-08T04:03:09.764544Z",
     "start_time": "2024-07-08T04:03:09.653337Z"
    },
    "colab": {
     "base_uri": "https://localhost:8080/"
    },
    "id": "adaed56c-08df-4407-8434-8fffa7836253",
    "outputId": "e6abf696-5747-43c0-b7c9-441a351c646d"
   },
   "outputs": [
    {
     "data": {
      "text/plain": [
       "count    44898.000000\n",
       "mean         0.050182\n",
       "std          0.042845\n",
       "min          0.000000\n",
       "25%          0.025736\n",
       "50%          0.044699\n",
       "75%          0.063046\n",
       "max          1.000000\n",
       "Name: num_of_words_norm, dtype: float64"
      ]
     },
     "execution_count": 71,
     "metadata": {},
     "output_type": "execute_result"
    }
   ],
   "source": [
    "df['num_of_words_norm'].describe()"
   ]
  },
  {
   "cell_type": "markdown",
   "id": "e20ec25f-8622-4bba-a972-9b1334dc0cdc",
   "metadata": {
    "id": "e20ec25f-8622-4bba-a972-9b1334dc0cdc"
   },
   "source": [
    "# Discretização"
   ]
  },
  {
   "cell_type": "code",
   "execution_count": 72,
   "id": "08aebc09-5ca0-48db-9f23-cbb011753c6e",
   "metadata": {
    "ExecuteTime": {
     "end_time": "2024-07-08T04:03:10.729282Z",
     "start_time": "2024-07-08T04:03:10.617945Z"
    },
    "id": "08aebc09-5ca0-48db-9f23-cbb011753c6e"
   },
   "outputs": [],
   "source": [
    "# discretizando com 10 bins com mesmo intervalo\n",
    "df['num_of_words_dist'] = pd.cut(df['num_of_words'], 10)"
   ]
  },
  {
   "cell_type": "code",
   "execution_count": 73,
   "id": "Wtz6u64K-CUY",
   "metadata": {
    "colab": {
     "base_uri": "https://localhost:8080/"
    },
    "id": "Wtz6u64K-CUY",
    "jupyter": {
     "is_executing": true
    },
    "outputId": "e5aecf80-baea-48f6-fbae-bca70bf0dc0b"
   },
   "outputs": [
    {
     "data": {
      "text/plain": [
       "num_of_words_dist\n",
       "(-7.121, 813.1]     41552\n",
       "(813.1, 1625.2]      2984\n",
       "(1625.2, 2437.3]      201\n",
       "(2437.3, 3249.4]       76\n",
       "(3249.4, 4061.5]       44\n",
       "(4061.5, 4873.6]       13\n",
       "(4873.6, 5685.7]       12\n",
       "(5685.7, 6497.8]        6\n",
       "(6497.8, 7309.9]        6\n",
       "(7309.9, 8122.0]        4\n",
       "Name: count, dtype: int64"
      ]
     },
     "execution_count": 73,
     "metadata": {},
     "output_type": "execute_result"
    }
   ],
   "source": [
    "df['num_of_words_dist'].value_counts()"
   ]
  },
  {
   "cell_type": "code",
   "execution_count": 74,
   "id": "msjQA5XX-MqA",
   "metadata": {
    "colab": {
     "base_uri": "https://localhost:8080/",
     "height": 552
    },
    "id": "msjQA5XX-MqA",
    "jupyter": {
     "is_executing": true
    },
    "outputId": "e8d8fa14-c642-4aac-c4b2-be877e98ac6b"
   },
   "outputs": [
    {
     "data": {
      "image/png": "[encoded data removed]",
      "text/plain": [
       "<Figure size 640x480 with 1 Axes>"
      ]
     },
     "metadata": {},
     "output_type": "display_data"
    }
   ],
   "source": [
    "df['num_of_words_dist'].value_counts().plot(kind=\"bar\")\n",
    "plt.yscale(\"log\")"
   ]
  },
  {
   "cell_type": "markdown",
   "id": "bff1f92e-8394-41bb-af5b-6e722925f8ac",
   "metadata": {
    "id": "18ad8fdf-7952-419b-a958-1ea6dc9a595c"
   },
   "source": [
    "# Detecção de outliers"
   ]
  },
  {
   "cell_type": "code",
   "execution_count": 75,
   "id": "f8276b54-8650-435a-8159-c43d37d7ea20",
   "metadata": {
    "jupyter": {
     "is_executing": true
    }
   },
   "outputs": [
    {
     "data": {
      "text/html": [
       "<div>\n",
       "<style scoped>\n",
       "    .dataframe tbody tr th:only-of-type {\n",
       "        vertical-align: middle;\n",
       "    }\n",
       "\n",
       "    .dataframe tbody tr th {\n",
       "        vertical-align: top;\n",
       "    }\n",
       "\n",
       "    .dataframe thead th {\n",
       "        text-align: right;\n",
       "    }\n",
       "</style>\n",
       "<table border=\"1\" class=\"dataframe\">\n",
       "  <thead>\n",
       "    <tr style=\"text-align: right;\">\n",
       "      <th></th>\n",
       "      <th>title</th>\n",
       "      <th>text</th>\n",
       "      <th>subject</th>\n",
       "      <th>date</th>\n",
       "      <th>label</th>\n",
       "      <th>num_of_words</th>\n",
       "      <th>text_vector</th>\n",
       "      <th>num_subjects</th>\n",
       "      <th>subject_norm</th>\n",
       "      <th>num_of_words_norm</th>\n",
       "      <th>num_of_words_dist</th>\n",
       "    </tr>\n",
       "  </thead>\n",
       "  <tbody>\n",
       "    <tr>\n",
       "      <th>669</th>\n",
       "      <td>Highlights: The Trump presidency on April 13 a...</td>\n",
       "      <td>Reuters  Highlights for US President Donald Tr...</td>\n",
       "      <td>politics</td>\n",
       "      <td>April 13, 2017</td>\n",
       "      <td>1</td>\n",
       "      <td>391.0</td>\n",
       "      <td>[-0.28289205, 0.06882348, 0.11385614, -0.19529...</td>\n",
       "      <td>0</td>\n",
       "      <td>0.0</td>\n",
       "      <td>0.048024</td>\n",
       "      <td>(-7.121, 813.1]</td>\n",
       "    </tr>\n",
       "    <tr>\n",
       "      <th>1194</th>\n",
       "      <td>EGYPTIAN COURT SENTENCES MUSLIM BROTHERHOOD LE...</td>\n",
       "      <td>But wait wasn t the Muslim Brotherhood s Arab ...</td>\n",
       "      <td>politics</td>\n",
       "      <td>Apr 11, 2015</td>\n",
       "      <td>0</td>\n",
       "      <td>622.0</td>\n",
       "      <td>[-0.0612965338, 0.380214423, -0.270221978, -0....</td>\n",
       "      <td>0</td>\n",
       "      <td>0.0</td>\n",
       "      <td>0.076468</td>\n",
       "      <td>(-7.121, 813.1]</td>\n",
       "    </tr>\n",
       "    <tr>\n",
       "      <th>1311</th>\n",
       "      <td>Did UPS Secretly Fly “Refugees” Into U.S. From...</td>\n",
       "      <td>So far this video has over 530000 views Does t...</td>\n",
       "      <td>politics</td>\n",
       "      <td>Feb 7, 2016</td>\n",
       "      <td>0</td>\n",
       "      <td>890.0</td>\n",
       "      <td>[-0.0293401219, -0.0632017478, -0.647458017, -...</td>\n",
       "      <td>0</td>\n",
       "      <td>0.0</td>\n",
       "      <td>0.109469</td>\n",
       "      <td>(813.1, 1625.2]</td>\n",
       "    </tr>\n",
       "    <tr>\n",
       "      <th>1441</th>\n",
       "      <td>Woman Just Rescued from #Harvey Flood Goes Off...</td>\n",
       "      <td>A clueless CNN reporter trying to interview a ...</td>\n",
       "      <td>politics</td>\n",
       "      <td>Aug 29, 2017</td>\n",
       "      <td>0</td>\n",
       "      <td>121.0</td>\n",
       "      <td>[-0.2928205, -0.22666755, -0.3233505, -0.02258...</td>\n",
       "      <td>0</td>\n",
       "      <td>0.0</td>\n",
       "      <td>0.014777</td>\n",
       "      <td>(-7.121, 813.1]</td>\n",
       "    </tr>\n",
       "    <tr>\n",
       "      <th>1785</th>\n",
       "      <td>[VIDEO] BLACK TWO-TIME OBAMA VOTER LASHES OUT:...</td>\n",
       "      <td>The tide is turning and the Democrats are losi...</td>\n",
       "      <td>politics</td>\n",
       "      <td>Jan 7, 2016</td>\n",
       "      <td>0</td>\n",
       "      <td>294.0</td>\n",
       "      <td>[-0.0381252728, 0.342000484, 0.0210646987, 0.0...</td>\n",
       "      <td>0</td>\n",
       "      <td>0.0</td>\n",
       "      <td>0.036079</td>\n",
       "      <td>(-7.121, 813.1]</td>\n",
       "    </tr>\n",
       "    <tr>\n",
       "      <th>...</th>\n",
       "      <td>...</td>\n",
       "      <td>...</td>\n",
       "      <td>...</td>\n",
       "      <td>...</td>\n",
       "      <td>...</td>\n",
       "      <td>...</td>\n",
       "      <td>...</td>\n",
       "      <td>...</td>\n",
       "      <td>...</td>\n",
       "      <td>...</td>\n",
       "      <td>...</td>\n",
       "    </tr>\n",
       "    <tr>\n",
       "      <th>44881</th>\n",
       "      <td>LORETTA LYNCH Makes Disturbing VIDEO Encouragi...</td>\n",
       "      <td>Obama s former AG Loretta Lynch released a vid...</td>\n",
       "      <td>politics</td>\n",
       "      <td>Mar 4, 2017</td>\n",
       "      <td>0</td>\n",
       "      <td>249.0</td>\n",
       "      <td>[-0.118465193, -0.167938143, -0.568957925, 0.0...</td>\n",
       "      <td>0</td>\n",
       "      <td>0.0</td>\n",
       "      <td>0.030538</td>\n",
       "      <td>(-7.121, 813.1]</td>\n",
       "    </tr>\n",
       "    <tr>\n",
       "      <th>44883</th>\n",
       "      <td>Trump’s Latest Tease Pales Next to Bush and Go...</td>\n",
       "      <td>It s teetering on the ridiculous watching the...</td>\n",
       "      <td>worldnews</td>\n",
       "      <td>October 24, 2016</td>\n",
       "      <td>0</td>\n",
       "      <td>323.0</td>\n",
       "      <td>[-0.0565587282, -0.396362901, -0.0783270448, -...</td>\n",
       "      <td>1</td>\n",
       "      <td>1.0</td>\n",
       "      <td>0.039650</td>\n",
       "      <td>(-7.121, 813.1]</td>\n",
       "    </tr>\n",
       "    <tr>\n",
       "      <th>44885</th>\n",
       "      <td>WOW! “We Mexicans Need To Kill Donald Trump Be...</td>\n",
       "      <td>And now a message of peace and unity from one ...</td>\n",
       "      <td>politics</td>\n",
       "      <td>Sep 8, 2016</td>\n",
       "      <td>0</td>\n",
       "      <td>158.0</td>\n",
       "      <td>[0.18136603, 0.16673312, -0.04021518, -0.09004...</td>\n",
       "      <td>0</td>\n",
       "      <td>0.0</td>\n",
       "      <td>0.019333</td>\n",
       "      <td>(-7.121, 813.1]</td>\n",
       "    </tr>\n",
       "    <tr>\n",
       "      <th>44891</th>\n",
       "      <td>ITALIANS FURIOUS! Have You Ever Dreamed Of Liv...</td>\n",
       "      <td>One short trip on a boat and this could be all...</td>\n",
       "      <td>politics</td>\n",
       "      <td>Jun 6, 2016</td>\n",
       "      <td>0</td>\n",
       "      <td>372.0</td>\n",
       "      <td>[0.25732937, 0.19754918, -0.03135435, -0.05785...</td>\n",
       "      <td>0</td>\n",
       "      <td>0.0</td>\n",
       "      <td>0.045684</td>\n",
       "      <td>(-7.121, 813.1]</td>\n",
       "    </tr>\n",
       "    <tr>\n",
       "      <th>44894</th>\n",
       "      <td>LIST OF 22 TIMES OBAMA Called Phony Climate Ch...</td>\n",
       "      <td>Oh the irony of a terror attack by Muslims tak...</td>\n",
       "      <td>politics</td>\n",
       "      <td>Dec 3, 2015</td>\n",
       "      <td>0</td>\n",
       "      <td>1423.0</td>\n",
       "      <td>[-0.231034383, 0.370221496, -0.245440081, -0.2...</td>\n",
       "      <td>0</td>\n",
       "      <td>0.0</td>\n",
       "      <td>0.175102</td>\n",
       "      <td>(813.1, 1625.2]</td>\n",
       "    </tr>\n",
       "  </tbody>\n",
       "</table>\n",
       "<p>5619 rows × 11 columns</p>\n",
       "</div>"
      ],
      "text/plain": [
       "                                                   title  \\\n",
       "669    Highlights: The Trump presidency on April 13 a...   \n",
       "1194   EGYPTIAN COURT SENTENCES MUSLIM BROTHERHOOD LE...   \n",
       "1311   Did UPS Secretly Fly “Refugees” Into U.S. From...   \n",
       "1441   Woman Just Rescued from #Harvey Flood Goes Off...   \n",
       "1785   [VIDEO] BLACK TWO-TIME OBAMA VOTER LASHES OUT:...   \n",
       "...                                                  ...   \n",
       "44881  LORETTA LYNCH Makes Disturbing VIDEO Encouragi...   \n",
       "44883  Trump’s Latest Tease Pales Next to Bush and Go...   \n",
       "44885  WOW! “We Mexicans Need To Kill Donald Trump Be...   \n",
       "44891  ITALIANS FURIOUS! Have You Ever Dreamed Of Liv...   \n",
       "44894  LIST OF 22 TIMES OBAMA Called Phony Climate Ch...   \n",
       "\n",
       "                                                    text    subject  \\\n",
       "669    Reuters  Highlights for US President Donald Tr...   politics   \n",
       "1194   But wait wasn t the Muslim Brotherhood s Arab ...   politics   \n",
       "1311   So far this video has over 530000 views Does t...   politics   \n",
       "1441   A clueless CNN reporter trying to interview a ...   politics   \n",
       "1785   The tide is turning and the Democrats are losi...   politics   \n",
       "...                                                  ...        ...   \n",
       "44881  Obama s former AG Loretta Lynch released a vid...   politics   \n",
       "44883   It s teetering on the ridiculous watching the...  worldnews   \n",
       "44885  And now a message of peace and unity from one ...   politics   \n",
       "44891  One short trip on a boat and this could be all...   politics   \n",
       "44894  Oh the irony of a terror attack by Muslims tak...   politics   \n",
       "\n",
       "                   date label  num_of_words  \\\n",
       "669     April 13, 2017      1         391.0   \n",
       "1194       Apr 11, 2015     0         622.0   \n",
       "1311        Feb 7, 2016     0         890.0   \n",
       "1441       Aug 29, 2017     0         121.0   \n",
       "1785        Jan 7, 2016     0         294.0   \n",
       "...                 ...   ...           ...   \n",
       "44881       Mar 4, 2017     0         249.0   \n",
       "44883  October 24, 2016     0         323.0   \n",
       "44885       Sep 8, 2016     0         158.0   \n",
       "44891       Jun 6, 2016     0         372.0   \n",
       "44894       Dec 3, 2015     0        1423.0   \n",
       "\n",
       "                                             text_vector num_subjects  \\\n",
       "669    [-0.28289205, 0.06882348, 0.11385614, -0.19529...            0   \n",
       "1194   [-0.0612965338, 0.380214423, -0.270221978, -0....            0   \n",
       "1311   [-0.0293401219, -0.0632017478, -0.647458017, -...            0   \n",
       "1441   [-0.2928205, -0.22666755, -0.3233505, -0.02258...            0   \n",
       "1785   [-0.0381252728, 0.342000484, 0.0210646987, 0.0...            0   \n",
       "...                                                  ...          ...   \n",
       "44881  [-0.118465193, -0.167938143, -0.568957925, 0.0...            0   \n",
       "44883  [-0.0565587282, -0.396362901, -0.0783270448, -...            1   \n",
       "44885  [0.18136603, 0.16673312, -0.04021518, -0.09004...            0   \n",
       "44891  [0.25732937, 0.19754918, -0.03135435, -0.05785...            0   \n",
       "44894  [-0.231034383, 0.370221496, -0.245440081, -0.2...            0   \n",
       "\n",
       "       subject_norm  num_of_words_norm num_of_words_dist  \n",
       "669             0.0           0.048024   (-7.121, 813.1]  \n",
       "1194            0.0           0.076468   (-7.121, 813.1]  \n",
       "1311            0.0           0.109469   (813.1, 1625.2]  \n",
       "1441            0.0           0.014777   (-7.121, 813.1]  \n",
       "1785            0.0           0.036079   (-7.121, 813.1]  \n",
       "...             ...                ...               ...  \n",
       "44881           0.0           0.030538   (-7.121, 813.1]  \n",
       "44883           1.0           0.039650   (-7.121, 813.1]  \n",
       "44885           0.0           0.019333   (-7.121, 813.1]  \n",
       "44891           0.0           0.045684   (-7.121, 813.1]  \n",
       "44894           0.0           0.175102   (813.1, 1625.2]  \n",
       "\n",
       "[5619 rows x 11 columns]"
      ]
     },
     "execution_count": 75,
     "metadata": {},
     "output_type": "execute_result"
    }
   ],
   "source": [
    "df_without_text_vectors = df.drop(columns=['text_vector'])\n",
    "duplicates = df[df_without_text_vectors.duplicated()]\n",
    "duplicates"
   ]
  },
  {
   "cell_type": "code",
   "execution_count": 76,
   "id": "ac78c2dd-3e0a-42f6-a7f4-8e1d817fffe6",
   "metadata": {
    "jupyter": {
     "is_executing": true
    }
   },
   "outputs": [],
   "source": [
    "duplicates_mask = df_without_text_vectors.duplicated(keep=False)\n",
    "\n",
    "# Drop duplicates from the original DataFrame\n",
    "df = df[~duplicates_mask]"
   ]
  },
  {
   "cell_type": "code",
   "execution_count": 77,
   "id": "30f040ab-e15a-415b-9c51-fbf9e163030e",
   "metadata": {
    "jupyter": {
     "is_executing": true
    }
   },
   "outputs": [
    {
     "name": "stderr",
     "output_type": "stream",
     "text": [
      "C:\\Users\\guiL6\\AppData\\Local\\Temp\\ipykernel_19388\\4099902805.py:1: UserWarning: Boolean Series key will be reindexed to match DataFrame index.\n",
      "  duplicates = df[df_without_text_vectors.duplicated()]\n"
     ]
    },
    {
     "data": {
      "text/html": [
       "<div>\n",
       "<style scoped>\n",
       "    .dataframe tbody tr th:only-of-type {\n",
       "        vertical-align: middle;\n",
       "    }\n",
       "\n",
       "    .dataframe tbody tr th {\n",
       "        vertical-align: top;\n",
       "    }\n",
       "\n",
       "    .dataframe thead th {\n",
       "        text-align: right;\n",
       "    }\n",
       "</style>\n",
       "<table border=\"1\" class=\"dataframe\">\n",
       "  <thead>\n",
       "    <tr style=\"text-align: right;\">\n",
       "      <th></th>\n",
       "      <th>title</th>\n",
       "      <th>text</th>\n",
       "      <th>subject</th>\n",
       "      <th>date</th>\n",
       "      <th>label</th>\n",
       "      <th>num_of_words</th>\n",
       "      <th>text_vector</th>\n",
       "      <th>num_subjects</th>\n",
       "      <th>subject_norm</th>\n",
       "      <th>num_of_words_norm</th>\n",
       "      <th>num_of_words_dist</th>\n",
       "    </tr>\n",
       "  </thead>\n",
       "  <tbody>\n",
       "  </tbody>\n",
       "</table>\n",
       "</div>"
      ],
      "text/plain": [
       "Empty DataFrame\n",
       "Columns: [title, text, subject, date, label, num_of_words, text_vector, num_subjects, subject_norm, num_of_words_norm, num_of_words_dist]\n",
       "Index: []"
      ]
     },
     "execution_count": 77,
     "metadata": {},
     "output_type": "execute_result"
    }
   ],
   "source": [
    "duplicates = df[df_without_text_vectors.duplicated()]\n",
    "duplicates.head()"
   ]
  },
  {
   "cell_type": "code",
   "execution_count": 78,
   "id": "9cbc332c-b3eb-43d0-b7fa-683827e536b3",
   "metadata": {
    "jupyter": {
     "is_executing": true
    }
   },
   "outputs": [
    {
     "data": {
      "text/plain": [
       "<Axes: >"
      ]
     },
     "execution_count": 78,
     "metadata": {},
     "output_type": "execute_result"
    },
    {
     "data": {
      "image/png": "[encoded data removed]",
      "text/plain": [
       "<Figure size 640x480 with 1 Axes>"
      ]
     },
     "metadata": {},
     "output_type": "display_data"
    }
   ],
   "source": [
    "df['num_of_words'].plot.box()"
   ]
  },
  {
   "cell_type": "code",
   "execution_count": 79,
   "id": "4be39d06-9bcf-46a9-bb9f-a9a07d76cffd",
   "metadata": {
    "jupyter": {
     "is_executing": true
    }
   },
   "outputs": [
    {
     "data": {
      "text/plain": [
       "<Axes: ylabel='Frequency'>"
      ]
     },
     "execution_count": 79,
     "metadata": {},
     "output_type": "execute_result"
    },
    {
     "data": {
      "image/png": "[encoded data removed]",
      "text/plain": [
       "<Figure size 640x480 with 1 Axes>"
      ]
     },
     "metadata": {},
     "output_type": "display_data"
    }
   ],
   "source": [
    "df['num_of_words'].plot.hist()"
   ]
  },
  {
   "cell_type": "code",
   "execution_count": 80,
   "id": "88c9a4b6-99ef-488f-b1ab-8d9f32c0dc13",
   "metadata": {
    "jupyter": {
     "is_executing": true
    }
   },
   "outputs": [
    {
     "name": "stderr",
     "output_type": "stream",
     "text": [
      "C:\\Users\\guiL6\\AppData\\Local\\Temp\\ipykernel_19388\\1135887764.py:1: SettingWithCopyWarning: \n",
      "A value is trying to be set on a copy of a slice from a DataFrame.\n",
      "Try using .loc[row_indexer,col_indexer] = value instead\n",
      "\n",
      "See the caveats in the documentation: https://pandas.pydata.org/pandas-docs/stable/user_guide/indexing.html#returning-a-view-versus-a-copy\n",
      "  df['log_num_of_words'] = np.log10(df['num_of_words'])\n"
     ]
    },
    {
     "data": {
      "text/plain": [
       "<Axes: ylabel='Frequency'>"
      ]
     },
     "execution_count": 80,
     "metadata": {},
     "output_type": "execute_result"
    },
    {
     "data": {
      "image/png": "[encoded data removed]",
      "text/plain": [
       "<Figure size 640x480 with 1 Axes>"
      ]
     },
     "metadata": {},
     "output_type": "display_data"
    }
   ],
   "source": [
    "df['log_num_of_words'] = np.log10(df['num_of_words'])\n",
    "df['log_num_of_words'].plot.hist()"
   ]
  },
  {
   "cell_type": "markdown",
   "id": "084572e0-fbbf-4260-a2ff-34bba26d8753",
   "metadata": {},
   "source": [
    "### A coluna é simétrica e univariada, então pode-se utilizar o Z-Score robusto"
   ]
  },
  {
   "cell_type": "code",
   "execution_count": 81,
   "id": "5e741735-80eb-4427-b1fa-38cb5c5e140c",
   "metadata": {
    "jupyter": {
     "is_executing": true
    }
   },
   "outputs": [
    {
     "name": "stdout",
     "output_type": "stream",
     "text": [
      "0.24288117937957474\n"
     ]
    }
   ],
   "source": [
    "mad = np.abs(df['log_num_of_words'] - df['log_num_of_words'].median()).median()*(1/0.6745)\n",
    "print(mad)"
   ]
  },
  {
   "cell_type": "code",
   "execution_count": 82,
   "id": "f28f92a6-4644-4676-b64e-348ccc9924ec",
   "metadata": {
    "jupyter": {
     "is_executing": true
    }
   },
   "outputs": [
    {
     "data": {
      "text/plain": [
       "<Axes: >"
      ]
     },
     "execution_count": 82,
     "metadata": {},
     "output_type": "execute_result"
    },
    {
     "data": {
      "image/png": "[encoded data removed]",
      "text/plain": [
       "<Figure size 640x480 with 1 Axes>"
      ]
     },
     "metadata": {},
     "output_type": "display_data"
    }
   ],
   "source": [
    "(np.abs(df['log_num_of_words']-df['log_num_of_words'].median())/mad).hist()"
   ]
  },
  {
   "cell_type": "code",
   "execution_count": 83,
   "id": "6d6d7049-cf40-4464-a2b0-35c49d324ac5",
   "metadata": {
    "jupyter": {
     "is_executing": true
    }
   },
   "outputs": [
    {
     "data": {
      "text/html": [
       "<div>\n",
       "<style scoped>\n",
       "    .dataframe tbody tr th:only-of-type {\n",
       "        vertical-align: middle;\n",
       "    }\n",
       "\n",
       "    .dataframe tbody tr th {\n",
       "        vertical-align: top;\n",
       "    }\n",
       "\n",
       "    .dataframe thead th {\n",
       "        text-align: right;\n",
       "    }\n",
       "</style>\n",
       "<table border=\"1\" class=\"dataframe\">\n",
       "  <thead>\n",
       "    <tr style=\"text-align: right;\">\n",
       "      <th></th>\n",
       "      <th>title</th>\n",
       "      <th>text</th>\n",
       "      <th>subject</th>\n",
       "      <th>date</th>\n",
       "      <th>label</th>\n",
       "      <th>num_of_words</th>\n",
       "      <th>text_vector</th>\n",
       "      <th>num_subjects</th>\n",
       "      <th>subject_norm</th>\n",
       "      <th>num_of_words_norm</th>\n",
       "      <th>num_of_words_dist</th>\n",
       "      <th>log_num_of_words</th>\n",
       "    </tr>\n",
       "  </thead>\n",
       "  <tbody>\n",
       "    <tr>\n",
       "      <th>12</th>\n",
       "      <td>Russian Defense Minister meets U.S. envoy to M...</td>\n",
       "      <td>MOSCOW Reuters  Russian Defense Minister Serge...</td>\n",
       "      <td>worldnews</td>\n",
       "      <td>November 2, 2017</td>\n",
       "      <td>1</td>\n",
       "      <td>49.0</td>\n",
       "      <td>[-0.14107418, 0.2368452, -0.06714316, 0.371900...</td>\n",
       "      <td>1</td>\n",
       "      <td>1.0</td>\n",
       "      <td>0.005911</td>\n",
       "      <td>(-7.121, 813.1]</td>\n",
       "      <td>1.690196</td>\n",
       "    </tr>\n",
       "    <tr>\n",
       "      <th>38</th>\n",
       "      <td>OBAMA DOUBLES DOWN On The Threat Of Climate Ch...</td>\n",
       "      <td>The political ideology is shocking A Very stub...</td>\n",
       "      <td>politics</td>\n",
       "      <td>Dec 4, 2015</td>\n",
       "      <td>0</td>\n",
       "      <td>46.0</td>\n",
       "      <td>[-0.21024546, -0.0505235158, -0.23369953, 0.01...</td>\n",
       "      <td>0</td>\n",
       "      <td>0.0</td>\n",
       "      <td>0.005541</td>\n",
       "      <td>(-7.121, 813.1]</td>\n",
       "      <td>1.662758</td>\n",
       "    </tr>\n",
       "    <tr>\n",
       "      <th>120</th>\n",
       "      <td>NAILS IT! FRESHMAN SENATOR Schools Liberal Pun...</td>\n",
       "      <td>Nebraska Senator Ben Sasse gives a fantastic a...</td>\n",
       "      <td>politics</td>\n",
       "      <td>Feb 5, 2016</td>\n",
       "      <td>0</td>\n",
       "      <td>35.0</td>\n",
       "      <td>[-0.0849801376, -0.190250278, -0.699679971, -0...</td>\n",
       "      <td>0</td>\n",
       "      <td>0.0</td>\n",
       "      <td>0.004187</td>\n",
       "      <td>(-7.121, 813.1]</td>\n",
       "      <td>1.544068</td>\n",
       "    </tr>\n",
       "    <tr>\n",
       "      <th>152</th>\n",
       "      <td>HOW DOES YOUR STATE’S ECONOMY RANK? Washington...</td>\n",
       "      <td>Thanks to Obama s promise to shut down the coa...</td>\n",
       "      <td>politics</td>\n",
       "      <td>Aug 3, 2015</td>\n",
       "      <td>0</td>\n",
       "      <td>4148.0</td>\n",
       "      <td>[0.106309682, -0.22381942, 0.00234342832, 0.01...</td>\n",
       "      <td>0</td>\n",
       "      <td>0.0</td>\n",
       "      <td>0.510651</td>\n",
       "      <td>(4061.5, 4873.6]</td>\n",
       "      <td>3.617839</td>\n",
       "    </tr>\n",
       "    <tr>\n",
       "      <th>154</th>\n",
       "      <td>WATCH CROOKED HILLARY Make Claim No Lives Lost...</td>\n",
       "      <td>What about Chris Stevens Sean Smith Glen Doher...</td>\n",
       "      <td>politics</td>\n",
       "      <td>Jun 9, 2016</td>\n",
       "      <td>0</td>\n",
       "      <td>11.0</td>\n",
       "      <td>[0.3314974, -0.120397, -0.6078164, -0.20123106...</td>\n",
       "      <td>0</td>\n",
       "      <td>0.0</td>\n",
       "      <td>0.001231</td>\n",
       "      <td>(-7.121, 813.1]</td>\n",
       "      <td>1.041393</td>\n",
       "    </tr>\n",
       "    <tr>\n",
       "      <th>...</th>\n",
       "      <td>...</td>\n",
       "      <td>...</td>\n",
       "      <td>...</td>\n",
       "      <td>...</td>\n",
       "      <td>...</td>\n",
       "      <td>...</td>\n",
       "      <td>...</td>\n",
       "      <td>...</td>\n",
       "      <td>...</td>\n",
       "      <td>...</td>\n",
       "      <td>...</td>\n",
       "      <td>...</td>\n",
       "    </tr>\n",
       "    <tr>\n",
       "      <th>44736</th>\n",
       "      <td>WIKILEAKS: No Stamina? Hillary’s Aide Asked To...</td>\n",
       "      <td>Via Wikileaks</td>\n",
       "      <td>politics</td>\n",
       "      <td>Oct 17, 2016</td>\n",
       "      <td>0</td>\n",
       "      <td>2.0</td>\n",
       "      <td>[-0.527497351, -0.374455482, -0.239364222, 0.0...</td>\n",
       "      <td>0</td>\n",
       "      <td>0.0</td>\n",
       "      <td>0.000123</td>\n",
       "      <td>(-7.121, 813.1]</td>\n",
       "      <td>0.301030</td>\n",
       "    </tr>\n",
       "    <tr>\n",
       "      <th>44801</th>\n",
       "      <td>Wow! Ted Cruz Blasts CNBC Anchor Over Ridiculo...</td>\n",
       "      <td>Ted Cruz takes the CNBC debate hosts to task o...</td>\n",
       "      <td>politics</td>\n",
       "      <td>Oct 28, 2015</td>\n",
       "      <td>0</td>\n",
       "      <td>18.0</td>\n",
       "      <td>[0.04039221, -0.14454122, -0.1376728, 0.214977...</td>\n",
       "      <td>0</td>\n",
       "      <td>0.0</td>\n",
       "      <td>0.002093</td>\n",
       "      <td>(-7.121, 813.1]</td>\n",
       "      <td>1.255273</td>\n",
       "    </tr>\n",
       "    <tr>\n",
       "      <th>44813</th>\n",
       "      <td>LISTEN UP! CHAIRMAN FOR TEENS FOR TRUMP Sends ...</td>\n",
       "      <td>CJ Pierson is such a great kid he s sending me...</td>\n",
       "      <td>politics</td>\n",
       "      <td>Aug 13, 2016</td>\n",
       "      <td>0</td>\n",
       "      <td>30.0</td>\n",
       "      <td>[-0.189118415, 0.18278794, -0.150763407, -0.22...</td>\n",
       "      <td>0</td>\n",
       "      <td>0.0</td>\n",
       "      <td>0.003571</td>\n",
       "      <td>(-7.121, 813.1]</td>\n",
       "      <td>1.477121</td>\n",
       "    </tr>\n",
       "    <tr>\n",
       "      <th>44843</th>\n",
       "      <td>Putin to meet Erdogan in Ankara on Sept 28: Kr...</td>\n",
       "      <td>MOSCOW Reuters  Russia s president Vladimir Pu...</td>\n",
       "      <td>worldnews</td>\n",
       "      <td>September 25, 2017</td>\n",
       "      <td>1</td>\n",
       "      <td>51.0</td>\n",
       "      <td>[0.310425, 0.07456954, -0.2624454, 0.33697048,...</td>\n",
       "      <td>1</td>\n",
       "      <td>1.0</td>\n",
       "      <td>0.006157</td>\n",
       "      <td>(-7.121, 813.1]</td>\n",
       "      <td>1.707570</td>\n",
       "    </tr>\n",
       "    <tr>\n",
       "      <th>44844</th>\n",
       "      <td>GREAT TRUMP VIDEO ON INSTAGRAM: “NOT ON MY WAT...</td>\n",
       "      <td>You can say what you want to about Trump but t...</td>\n",
       "      <td>politics</td>\n",
       "      <td>Aug 14, 2015</td>\n",
       "      <td>0</td>\n",
       "      <td>43.0</td>\n",
       "      <td>[0.01870763, -0.06586158, -0.01650139, -0.0233...</td>\n",
       "      <td>0</td>\n",
       "      <td>0.0</td>\n",
       "      <td>0.005172</td>\n",
       "      <td>(-7.121, 813.1]</td>\n",
       "      <td>1.633468</td>\n",
       "    </tr>\n",
       "  </tbody>\n",
       "</table>\n",
       "<p>1029 rows × 12 columns</p>\n",
       "</div>"
      ],
      "text/plain": [
       "                                                   title  \\\n",
       "12     Russian Defense Minister meets U.S. envoy to M...   \n",
       "38     OBAMA DOUBLES DOWN On The Threat Of Climate Ch...   \n",
       "120    NAILS IT! FRESHMAN SENATOR Schools Liberal Pun...   \n",
       "152    HOW DOES YOUR STATE’S ECONOMY RANK? Washington...   \n",
       "154    WATCH CROOKED HILLARY Make Claim No Lives Lost...   \n",
       "...                                                  ...   \n",
       "44736  WIKILEAKS: No Stamina? Hillary’s Aide Asked To...   \n",
       "44801  Wow! Ted Cruz Blasts CNBC Anchor Over Ridiculo...   \n",
       "44813  LISTEN UP! CHAIRMAN FOR TEENS FOR TRUMP Sends ...   \n",
       "44843  Putin to meet Erdogan in Ankara on Sept 28: Kr...   \n",
       "44844  GREAT TRUMP VIDEO ON INSTAGRAM: “NOT ON MY WAT...   \n",
       "\n",
       "                                                    text    subject  \\\n",
       "12     MOSCOW Reuters  Russian Defense Minister Serge...  worldnews   \n",
       "38     The political ideology is shocking A Very stub...   politics   \n",
       "120    Nebraska Senator Ben Sasse gives a fantastic a...   politics   \n",
       "152    Thanks to Obama s promise to shut down the coa...   politics   \n",
       "154    What about Chris Stevens Sean Smith Glen Doher...   politics   \n",
       "...                                                  ...        ...   \n",
       "44736                                      Via Wikileaks   politics   \n",
       "44801  Ted Cruz takes the CNBC debate hosts to task o...   politics   \n",
       "44813  CJ Pierson is such a great kid he s sending me...   politics   \n",
       "44843  MOSCOW Reuters  Russia s president Vladimir Pu...  worldnews   \n",
       "44844  You can say what you want to about Trump but t...   politics   \n",
       "\n",
       "                      date label  num_of_words  \\\n",
       "12       November 2, 2017      1          49.0   \n",
       "38             Dec 4, 2015     0          46.0   \n",
       "120            Feb 5, 2016     0          35.0   \n",
       "152            Aug 3, 2015     0        4148.0   \n",
       "154            Jun 9, 2016     0          11.0   \n",
       "...                    ...   ...           ...   \n",
       "44736         Oct 17, 2016     0           2.0   \n",
       "44801         Oct 28, 2015     0          18.0   \n",
       "44813         Aug 13, 2016     0          30.0   \n",
       "44843  September 25, 2017      1          51.0   \n",
       "44844         Aug 14, 2015     0          43.0   \n",
       "\n",
       "                                             text_vector num_subjects  \\\n",
       "12     [-0.14107418, 0.2368452, -0.06714316, 0.371900...            1   \n",
       "38     [-0.21024546, -0.0505235158, -0.23369953, 0.01...            0   \n",
       "120    [-0.0849801376, -0.190250278, -0.699679971, -0...            0   \n",
       "152    [0.106309682, -0.22381942, 0.00234342832, 0.01...            0   \n",
       "154    [0.3314974, -0.120397, -0.6078164, -0.20123106...            0   \n",
       "...                                                  ...          ...   \n",
       "44736  [-0.527497351, -0.374455482, -0.239364222, 0.0...            0   \n",
       "44801  [0.04039221, -0.14454122, -0.1376728, 0.214977...            0   \n",
       "44813  [-0.189118415, 0.18278794, -0.150763407, -0.22...            0   \n",
       "44843  [0.310425, 0.07456954, -0.2624454, 0.33697048,...            1   \n",
       "44844  [0.01870763, -0.06586158, -0.01650139, -0.0233...            0   \n",
       "\n",
       "       subject_norm  num_of_words_norm num_of_words_dist  log_num_of_words  \n",
       "12              1.0           0.005911   (-7.121, 813.1]          1.690196  \n",
       "38              0.0           0.005541   (-7.121, 813.1]          1.662758  \n",
       "120             0.0           0.004187   (-7.121, 813.1]          1.544068  \n",
       "152             0.0           0.510651  (4061.5, 4873.6]          3.617839  \n",
       "154             0.0           0.001231   (-7.121, 813.1]          1.041393  \n",
       "...             ...                ...               ...               ...  \n",
       "44736           0.0           0.000123   (-7.121, 813.1]          0.301030  \n",
       "44801           0.0           0.002093   (-7.121, 813.1]          1.255273  \n",
       "44813           0.0           0.003571   (-7.121, 813.1]          1.477121  \n",
       "44843           1.0           0.006157   (-7.121, 813.1]          1.707570  \n",
       "44844           0.0           0.005172   (-7.121, 813.1]          1.633468  \n",
       "\n",
       "[1029 rows x 12 columns]"
      ]
     },
     "execution_count": 83,
     "metadata": {},
     "output_type": "execute_result"
    }
   ],
   "source": [
    "df[np.abs(df['log_num_of_words']-df['log_num_of_words'].median())/mad > 3.5]"
   ]
  },
  {
   "cell_type": "code",
   "execution_count": 84,
   "id": "aafbadcd-372e-4663-ad74-a48396e9f875",
   "metadata": {
    "jupyter": {
     "is_executing": true
    }
   },
   "outputs": [
    {
     "data": {
      "text/plain": [
       "34132"
      ]
     },
     "execution_count": 84,
     "metadata": {},
     "output_type": "execute_result"
    }
   ],
   "source": [
    "len(df)"
   ]
  },
  {
   "cell_type": "code",
   "execution_count": 85,
   "id": "b98bf5c9-c76f-4455-b1ef-e241019449d4",
   "metadata": {
    "jupyter": {
     "is_executing": true
    }
   },
   "outputs": [],
   "source": [
    "df = df[abs(df['log_num_of_words']-df['log_num_of_words'].median())/mad < 3.5]"
   ]
  },
  {
   "cell_type": "code",
   "execution_count": 86,
   "id": "b68b86c9-c01a-4673-9b83-01d86651a9f4",
   "metadata": {
    "jupyter": {
     "is_executing": true
    }
   },
   "outputs": [
    {
     "data": {
      "text/plain": [
       "33103"
      ]
     },
     "execution_count": 86,
     "metadata": {},
     "output_type": "execute_result"
    }
   ],
   "source": [
    "len(df)"
   ]
  },
  {
   "cell_type": "markdown",
   "id": "c68affc2",
   "metadata": {},
   "source": [
    "# Gerando análises de similaridade"
   ]
  },
  {
   "cell_type": "code",
   "execution_count": 40,
   "id": "2ace0d4c",
   "metadata": {
    "jupyter": {
     "is_executing": true
    }
   },
   "outputs": [],
   "source": [
    "from scipy.stats import ttest_ind\n",
    "\n",
    "# Convert the list of vectors to a numpy array\n",
    "vectors = np.vstack(df['text_vector'].to_numpy())\n",
    "\n",
    "# Build the FAISS index\n",
    "dimension = vectors.shape[1]\n",
    "index = faiss.IndexFlatL2(dimension)\n",
    "index.add(vectors)"
   ]
  },
  {
   "cell_type": "code",
   "execution_count": 41,
   "id": "a2292452",
   "metadata": {
    "jupyter": {
     "is_executing": true
    }
   },
   "outputs": [],
   "source": [
    "# Selecionando 1000 notícias falsas e 1000 verdadeiras para cada assunto\n",
    "fake_data = df[df['label'] == 0].groupby('subject').sample(1000)  # Seleciona 1000 notícias falsas para cada assunto\n",
    "true_data = df[df['label'] == 1].groupby('subject').sample(1000)  # Seleciona 1000 notícias verdadeiras para cada assunto\n",
    "\n",
    "# Concatenando os dados selecionados\n",
    "selected_data = pd.concat([fake_data, true_data])  # Combina as notícias falsas e verdadeiras em um único DataFrame\n",
    "\n",
    "# Listas para armazenar as similaridades\n",
    "fake_vs_fake_similarities = []  # Lista para armazenar similaridades entre notícias falsas\n",
    "true_vs_true_similarities = []  # Lista para armazenar similaridades entre notícias verdadeiras\n",
    "true_vs_fake_similarities = []  # Lista para armazenar similaridades entre notícias verdadeiras e falsas\n",
    "\n",
    "for subject in ['politics', 'worldnews']:\n",
    "    # Obter os índices das notícias falsas e verdadeiras para o assunto atual\n",
    "    fake_indices = fake_data[fake_data['subject'] == subject].index  # Índices das notícias falsas do assunto atual\n",
    "    true_indices = true_data[true_data['subject'] == subject].index  # Índices das notícias verdadeiras do assunto atual\n",
    "    \n",
    "    # Loop para calcular similaridades entre notícias falsas\n",
    "    for fake_index in fake_indices:\n",
    "        query_vector = selected_data[selected_data.index == fake_index]['text_vector'].iloc[0]  # Vetor de texto da notícia falsa atual\n",
    "        distances, indices = index.search(np.array([query_vector]), len(selected_data))  # Busca as distâncias e índices das notícias mais similares\n",
    "        \n",
    "        # Encontrar similaridades falsas vs falsas\n",
    "        fake_vs_fake_similarities.extend([distances[0][i] for i in range(len(indices[0])) if indices[0][i] in fake_indices])  # Armazena similaridades entre notícias falsas\n",
    "        \n",
    "        # Encontrar similaridades falsas vs verdadeiras\n",
    "        true_indices_in_results = [i for i in indices[0] if i in true_indices]  # Índices das notícias verdadeiras nos resultados da busca\n",
    "        if true_indices_in_results:\n",
    "            true_vs_fake_similarities.append(distances[0][indices[0].tolist().index(true_indices_in_results[0])])  # Armazena a similaridade entre a notícia falsa e a primeira notícia verdadeira encontrada\n",
    "    \n",
    "    # Loop para calcular similaridades entre notícias verdadeiras\n",
    "    for true_index in true_indices:\n",
    "        query_vector = selected_data[selected_data.index == true_index]['text_vector'].iloc[0]  # Vetor de texto da notícia verdadeira atual\n",
    "        distances, indices = index.search(np.array([query_vector]), len(selected_data))  # Busca as distâncias e índices das notícias mais similares\n",
    "        \n",
    "        # Encontrar similaridades verdadeiras vs verdadeiras\n",
    "        true_vs_true_similarities.extend([distances[0][i] for i in range(len(indices[0])) if indices[0][i] in true_indices])  # Armazena similaridades entre notícias verdadeiras\n",
    "        \n",
    "        # Encontrar similaridades verdadeiras vs falsas\n",
    "        fake_indices_in_results = [i for i in indices[0] if i in fake_indices]  # Índices das notícias falsas nos resultados da busca\n",
    "        if fake_indices_in_results:\n",
    "            true_vs_fake_similarities.append(distances[0][indices[0].tolist().index(fake_indices_in_results[0])])  # Armazena a similaridade entre a notícia verdadeira e a primeira notícia falsa encontrada"
   ]
  },
  {
   "cell_type": "markdown",
   "id": "6bb5d26f9924eb90",
   "metadata": {},
   "source": [
    "# Estatísticas descritivas"
   ]
  },
  {
   "cell_type": "markdown",
   "id": "c909fd7c9e228566",
   "metadata": {},
   "source": [
    "## Histograma de distribuição do número de palavras\n",
    "\n",
    "O histograma ilustra a distribuição do número de palavras após uma transformação logarítmica. A maioria dos textos concentra-se em torno de cerca de 6 palavras, com uma diminuição gradual na frequência à medida que o número de palavras aumenta. Textos muito curtos (menos de 4 palavras) ou muito longos (mais de 7 palavras) são menos comuns. Em suma, a análise revela que a maioria dos textos possui um número moderado de palavras, com uma concentração significativa em torno de 6 palavras, destacando a predominância de textos de comprimento médio."
   ]
  },
  {
   "cell_type": "code",
   "execution_count": 42,
   "id": "a1d4f54295a06a04",
   "metadata": {
    "jupyter": {
     "is_executing": true
    }
   },
   "outputs": [
    {
     "data": {
      "image/png": "[encoded data removed]",
      "text/plain": [
       "<Figure size 1000x600 with 1 Axes>"
      ]
     },
     "metadata": {},
     "output_type": "display_data"
    }
   ],
   "source": [
    "plt.figure(figsize=(10, 6))\n",
    "plt.hist(np.log(df['num_of_words']), bins=10, edgecolor='black', alpha=0.7)\n",
    "plt.title('Distribuição do Número de Palavras')\n",
    "plt.xlabel('Número de Palavras')\n",
    "plt.ylabel('Frequência')\n",
    "plt.grid(axis='y')\n",
    "plt.show()"
   ]
  },
  {
   "cell_type": "markdown",
   "id": "2a9ce6bbcdbbb17f",
   "metadata": {},
   "source": [
    "## Boxplot representando o número de palavras\n",
    "\n",
    "O boxplot mostra a distribuição do número de palavras em textos após uma transformação logarítmica. A mediana é cerca de 6, sugerindo que a maioria dos textos tem em torno de 6 palavras. A caixa do boxplot, entre o primeiro e terceiro quartil, indica que 50% dos textos possuem entre aproximadamente 5 e 6,5 palavras. Os \"whiskers\" indicam a variação esperada dos dados até 1,5 vezes o intervalo interquartil (IQR). Além disso, há outliers representando textos muito curtos (menos de 4 palavras) ou muito longos (mais de 7 palavras). Em síntese, a análise revela que a maioria dos textos tem um número moderado de palavras, com a predominância de textos de comprimento médio, sendo textos extremamente curtos ou longos menos frequentes."
   ]
  },
  {
   "cell_type": "code",
   "execution_count": 43,
   "id": "df19451b320cbc5f",
   "metadata": {
    "jupyter": {
     "is_executing": true
    }
   },
   "outputs": [
    {
     "data": {
      "image/png": "[encoded data removed]",
      "text/plain": [
       "<Figure size 1000x600 with 1 Axes>"
      ]
     },
     "metadata": {},
     "output_type": "display_data"
    }
   ],
   "source": [
    "# Boxplot\n",
    "plt.figure(figsize=(10, 6))\n",
    "plt.boxplot(np.log(df['num_of_words']), vert=False)\n",
    "plt.title('Boxplot do Número de Palavras')\n",
    "plt.xlabel('Número de Palavras')\n",
    "plt.grid(axis='x')\n",
    "plt.show()"
   ]
  },
  {
   "cell_type": "markdown",
   "id": "83316df1",
   "metadata": {},
   "source": [
    "## Gráfico de barras comparando o número de notícias falsas vs verdadeiras por ano\n",
    "\n",
    "O gráfico abaixo compara o número de notícias falsas e verdadeiras publicadas anualmente de 2015 a 2018. \n",
    "As conclusões são:\n",
    "\n",
    "2015: Poucas notícias, com ligeira predominância das falsas.\n",
    "2016: Aumento significativo de notícias, com mais falsas do que verdadeiras.\n",
    "2017: Pico de notícias, com um aumento expressivo em ambas as categorias, sendo as verdadeiras consideravelmente mais numerosas.\n",
    "2018: Poucas notícias, tanto falsas quanto verdadeiras, indicando baixa coleta de dados ou atividade mínima.\n",
    "\n",
    "Em resumo, o período de 2016 a 2017 registrou um aumento acentuado na produção ou coleta de notícias, com destaque para 2017, especialmente para as notícias verdadeiras."
   ]
  },
  {
   "cell_type": "code",
   "execution_count": 44,
   "id": "9d7dc8d9",
   "metadata": {
    "jupyter": {
     "is_executing": true
    }
   },
   "outputs": [],
   "source": [
    "date_formats = ['%B%d,%Y', '%d-%b-%y', '%B%d,%Y', '%b%d,%Y', '%d-%b-%Y', '%d%B%Y', '%d%b%Y', '%Y-%m-%d', '%m-%d-%Y', '%Y/%m/%d', '%B%d,%Y', '%B%d,%Y', '%B%d,%Y', '%B%d,%Y']\n",
    "\n",
    "def is_valid_date(date_str):\n",
    "    for format_str in date_formats:\n",
    "        try:\n",
    "            return pd.to_datetime(re.sub(r'\\s+', '', str(date_str)), format=format_str)\n",
    "        except ValueError:\n",
    "            pass\n",
    "\n",
    "    return pd.NaT\n",
    "\n",
    "valid_dates = df.copy()\n",
    "valid_dates['date'] = valid_dates['date'].map(is_valid_date)\n",
    "valid_dates['year'] = valid_dates['date'].dt.year"
   ]
  },
  {
   "cell_type": "code",
   "execution_count": 45,
   "id": "7656c2ce",
   "metadata": {
    "jupyter": {
     "is_executing": true
    }
   },
   "outputs": [
    {
     "data": {
      "text/plain": [
       "<Figure size 1200x600 with 0 Axes>"
      ]
     },
     "metadata": {},
     "output_type": "display_data"
    },
    {
     "data": {
      "image/png": "[encoded data removed]",
      "text/plain": [
       "<Figure size 640x480 with 1 Axes>"
      ]
     },
     "metadata": {},
     "output_type": "display_data"
    }
   ],
   "source": [
    "# Contar o número de notícias falsas e verdadeiras por ano\n",
    "fake_news_per_year = valid_dates[valid_dates['label'] == 0].groupby('year').size()\n",
    "true_news_per_year = valid_dates[valid_dates['label'] == 1].groupby('year').size()\n",
    "\n",
    "# Criar um DataFrame com esses dados\n",
    "news_counts_per_year = pd.DataFrame({\n",
    "    'Fake News': fake_news_per_year,\n",
    "    'True News': true_news_per_year\n",
    "}).fillna(0)  # Preencher valores ausentes com 0\n",
    "\n",
    "# Plotar o gráfico\n",
    "plt.figure(figsize=(12, 6))\n",
    "news_counts_per_year.plot(kind='bar', stacked=False, alpha=0.75)\n",
    "plt.title('Número de Notícias Falsas vs Verdadeiras por Ano')\n",
    "plt.xlabel('Ano')\n",
    "plt.ylabel('Número de Notícias')\n",
    "plt.xticks(rotation=45)\n",
    "plt.legend(title='Tipo de Notícia')\n",
    "plt.tight_layout()\n",
    "plt.grid(axis='y')\n",
    "plt.show()"
   ]
  },
  {
   "cell_type": "markdown",
   "id": "d8804e84",
   "metadata": {},
   "source": [
    "## Gráfico de Similaridade em Notícias Verdadeiras, Falsas e Mistas\n",
    "\n",
    "### Descrição dos Gráficos de Similaridade em Notícias Verdadeiras, Falsas e Mistas\n",
    "\n",
    "O gráfico compara a similaridade das notícias falsas, verdadeiras e mistas em relação aos subjects \"worldnews\" e \"politics\". A similaridade é representada pela distância média (quanto menor a distância, maior a similaridade).\n",
    "\n",
    "### Análise\n",
    "\n",
    "- Fake vs Fake: Notícias falsas têm uma similaridade moderada, com uma distância média em torno de 20.\n",
    "- True vs True: Notícias verdadeiras têm a menor similaridade, com a maior distância média, ligeiramente acima de 20.\n",
    "- True vs Fake: Notícias mistas têm a maior similaridade, com a menor distância média, aproximadamente 15.\n",
    "\n",
    "### Conclusão\n",
    "\n",
    "As notícias mistas (verdadeiras vs falsas) mostram maior similaridade entre si, indicando que as notícias verdadeiras e falsas compartilham características comuns. As notícias verdadeiras mantêm menor similaridade quando comparadas entre si, enquanto as notícias falsas também têm uma similaridade moderada dentro do seu grupo."
   ]
  },
  {
   "cell_type": "code",
   "execution_count": 46,
   "id": "6efe8598",
   "metadata": {
    "jupyter": {
     "is_executing": true
    }
   },
   "outputs": [
    {
     "data": {
      "image/png": "[encoded data removed]",
      "text/plain": [
       "<Figure size 640x480 with 1 Axes>"
      ]
     },
     "metadata": {},
     "output_type": "display_data"
    }
   ],
   "source": [
    "# Calculando as médias das similaridades\n",
    "labels = ['Fake vs Fake', 'True vs True', 'True vs Fake']\n",
    "similarities = [np.mean(fake_vs_fake_similarities), np.mean(true_vs_true_similarities), np.mean(true_vs_fake_similarities)]\n",
    "\n",
    "# Plotando as similaridades\n",
    "plt.bar(labels, similarities)\n",
    "plt.ylabel('Distância média de Similaridade')\n",
    "plt.title('Comparação de similaridade (quanto menor a distância, mais similar)')\n",
    "plt.show()"
   ]
  },
  {
   "cell_type": "markdown",
   "id": "1d8769d4b2d4b161",
   "metadata": {},
   "source": [
    "# Teste de hipótese"
   ]
  },
  {
   "cell_type": "markdown",
   "id": "b44aae9a",
   "metadata": {},
   "source": [
    "## Teste de Hipótese: Similaridade entre Notícias Verdadeiras, Falsas e Mistas\n",
    "\n",
    "Nesta seção, realizaremos um teste de hipótese para comparar a similaridade entre notícias verdadeiras, falsas e mistas. A similaridade é medida pela distância média (quanto menor a distância, maior a similaridade). O objetivo é determinar se há uma diferença significativa na similaridade entre as diferentes labels de notícias.\n",
    "\n",
    "### Passos do Teste de Hipótese\n",
    "\n",
    "#### Definir Hipóteses:\n",
    "\n",
    "- \\(H_0\\) (Hipótese Nula): Não há diferença significativa na similaridade entre as diferentes labels de notícias.\n",
    "- \\(H_a\\) (Hipótese Alternativa): Há uma diferença significativa na similaridade entre as diferentes labels de notícias.\n",
    "\n",
    "#### Calcular as Distâncias Médias:\n",
    "\n",
    "- Obter as distâncias médias para cada label: Similaridade entre falsas, similaridade entre verdadeiras, e similaridade entre falsas e verdadeiras.\n",
    "\n",
    "#### Realizar Teste de Hipótese:\n",
    "\n",
    "- Usar o teste t de Student para comparar as distâncias médias entre as labels.\n",
    "\n",
    "#### Analisar os Resultados:\n",
    "\n",
    "- Interpretar os valores p para determinar se rejeitamos ou não a hipótese nula.\n",
    "\n",
    "## Resultados dos Testes de Hipótese\n",
    "\n",
    "Os resultados dos testes para comparar as similaridades entre as diferentes categorias de notícias são os seguintes:\n",
    "\n",
    "### Teste entre Similaridade entre falsas e Similaridade entre verdadeiras:\n",
    "\n",
    "- T-statistic: -16.37274849962382\n",
    "- P-value: 1.6354346712162612e-56\n",
    "- Conclusão: Rejeitamos a hipótese nula. Há uma diferença significativa na similaridade entre falsas e a similaridade entre verdadeiras.\n",
    "- Observação: O resultado é altamente significativo (p < 0.01).\n",
    "\n",
    "### Teste entre Similaridade entre falsas e Similaridade entre falsas e verdadeiras:\n",
    "\n",
    "- T-statistic: 25.650055569958536\n",
    "- P-value: 1.199788220568109e-125\n",
    "- Conclusão: Rejeitamos a hipótese nula. Há uma diferença significativa na similaridade entre falsas e a similaridade entre falsas e verdadeiras.\n",
    "- Observação: O resultado é altamente significativo (p < 0.01).\n",
    "\n",
    "### Teste entre Similaridade entre verdadeiras e Similaridade entre falsas e verdadeiras:\n",
    "\n",
    "- T-statistic: 44.84103110401803\n",
    "- P-value: 2.239345677091325e-302\n",
    "- Conclusão: Rejeitamos a hipótese nula. Há uma diferença significativa na similaridade entre verdadeiras e a similaridade entre falsas e verdadeiras.\n",
    "- Observação: O resultado é altamente significativo (p < 0.01)."
   ]
  },
  {
   "cell_type": "code",
   "execution_count": null,
   "id": "9b5ff59c",
   "metadata": {
    "jupyter": {
     "is_executing": true
    }
   },
   "outputs": [],
   "source": [
    "def perform_t_test(sample1, sample2, label1, label2):\n",
    "    t_stat, p_value = ttest_ind(sample1, sample2, equal_var=False)\n",
    "    print(f\"Teste t de Student entre {label1} e {label2}:\")\n",
    "    print(f\"T-statistic: {t_stat}\")\n",
    "    print(f\"P-value: {p_value}\\n\")\n",
    "    \n",
    "    # Interpretação dos resultados\n",
    "    alpha = 0.05  # Nível de significância de 5%\n",
    "    if p_value < alpha:\n",
    "        print(f\"Resultado: Rejeitamos a hipótese nula. Há uma diferença significativa na similaridade entre {label1} e {label2}.\")\n",
    "    else:\n",
    "        print(f\"Resultado: Não rejeitamos a hipótese nula. Não há diferença significativa na similaridade entre {label1} e {label2}.\")\n",
    "\n",
    "    # Detalhes adicionais para interpretação\n",
    "    if p_value < 0.01:\n",
    "        print(\"Observação: O resultado é altamente significativo (p < 0.01).\")\n",
    "    elif p_value < 0.05:\n",
    "        print(\"Observação: O resultado é estatisticamente significativo (p < 0.05).\")\n",
    "    else:\n",
    "        print(\"Observação: O resultado não é estatisticamente significativo (p >= 0.05).\")\n",
    "\n",
    "    print(\"\\n\" + \"-\"*50 + \"\\n\")\n",
    "\n",
    "# Realizando os testes de hipótese\n",
    "cropped_sample_fake_vs_fake = random.sample(fake_vs_fake_similarities, 1000) # Similaridade entre falsas\n",
    "cropped_sample_true_vs_true = random.sample(true_vs_true_similarities, 1000) # Similaridade entre verdadeiras\n",
    "cropped_sample_true_vs_fake = random.sample(true_vs_fake_similarities, 1000) # Similaridade entre verdadeiras e falsas\n",
    "\n",
    "perform_t_test(cropped_sample_fake_vs_fake, cropped_sample_true_vs_true, 'Similaridade entre falsas', 'Similaridade entre verdadeiras')\n",
    "perform_t_test(cropped_sample_fake_vs_fake, cropped_sample_true_vs_fake, 'Similaridade entre falsas', 'Similaridade entre verdadeiras e falsas')\n",
    "perform_t_test(cropped_sample_true_vs_true, cropped_sample_true_vs_fake, 'Similaridade entre verdadeiras', 'Similaridade entre verdadeiras e falsas')"
   ]
  },
  {
   "cell_type": "markdown",
   "id": "5ad609cd",
   "metadata": {},
   "source": [
    "## Teste Qui-Quadrado para Proporção de Notícias Falsas em Textos Curtos e Longos\n",
    "\n",
    "O código abaixo realiza um teste qui-quadrado de contingência para avaliar a proporção de notícias falsas em textos curtos (com menos de 150 palavras) e longos (com 150 palavras ou mais). Após dividir as notícias em categorias com base no comprimento, são calculadas as proporções de notícias falsas e verdadeiras em cada categoria. O teste estatístico é realizado e o resultado é exibido, mostrando a estatística Qui-Quadrado (Chi2) e o valor P associado. No caso específico deste teste, em que o resultado foi: Chi2 statistic: 188.04, P-value: 0.00000, conclui-se que há uma diferença estatisticamente significativa na proporção de notícias falsas entre textos curtos e longos. Isso sugere que a probabilidade de uma notícia ser falsa pode estar associada ao comprimento do texto. As proporções de notícias falsas e verdadeiras são exibidas para ambas as categorias, e é destacado que é mais provável que um texto longo seja uma notícia falsa em comparação a um texto curto, enquanto é mais provável que um texto curto seja uma notícia verdadeira em comparação a um texto longo."
   ]
  },
  {
   "cell_type": "code",
   "execution_count": null,
   "id": "e1808710",
   "metadata": {
    "jupyter": {
     "is_executing": true
    }
   },
   "outputs": [],
   "source": [
    "from scipy.stats import chi2_contingency\n",
    "\n",
    "# Dividir as notícias em curtas e longas\n",
    "short_texts = selected_data[selected_data['num_of_words'] < 150]\n",
    "long_texts = selected_data[selected_data['num_of_words'] >= 150]\n",
    "\n",
    "# Calcular a proporção de notícias falsas e verdadeiras em cada categoria\n",
    "short_fake_count = short_texts[short_texts['label'] == 0].shape[0]\n",
    "short_true_count = short_texts[short_texts['label'] == 1].shape[0]\n",
    "long_fake_count = long_texts[long_texts['label'] == 0].shape[0]\n",
    "long_true_count = long_texts[long_texts['label'] == 1].shape[0]\n",
    "\n",
    "short_fake_proportion = short_fake_count / short_texts.shape[0]\n",
    "short_true_proportion = short_true_count / short_texts.shape[0]\n",
    "long_fake_proportion = long_fake_count / long_texts.shape[0]\n",
    "long_true_proportion = long_true_count / long_texts.shape[0]\n",
    "\n",
    "# Preparar os dados para o teste qui-quadrado de contingência\n",
    "contingency_table = pd.DataFrame({\n",
    "    'Short Texts': [short_fake_count, short_true_count],\n",
    "    'Long Texts': [long_fake_count, long_true_count]\n",
    "}, index=['Fake', 'True'])\n",
    "\n",
    "# Realizar o teste qui-quadrado de contingência\n",
    "chi2, p, dof, expected = chi2_contingency(contingency_table)\n",
    "print(f\"Chi2 statistic: {chi2:.2f}, P-value: {p:.5f}\")\n",
    "\n",
    "if p < 0.05:\n",
    "    print(\"Há uma diferença estatisticamente significativa na proporção de notícias falsas entre textos curtos e longos. \"\n",
    "          \"Isso sugere que a probabilidade de uma notícia ser falsa está associada ao comprimento do texto.\")\n",
    "\n",
    "    print(f\"Proporção de notícias falsas entre textos curtos: {short_fake_proportion:.2%}\")\n",
    "    print(f\"Proporção de notícias verdadeiras entre textos curtos: {short_true_proportion:.2%}\")\n",
    "    print(f\"Proporção de notícias falsas entre textos longos: {long_fake_proportion:.2%}\")\n",
    "    print(f\"Proporção de notícias verdadeiras entre textos longos: {long_true_proportion:.2%}\")\n",
    "\n",
    "    if short_fake_proportion > long_fake_proportion:\n",
    "        print(\"É mais provável que um texto curto seja uma notícia falsa comparado a um texto longo.\")\n",
    "    else:\n",
    "        print(\"É mais provável que um texto longo seja uma notícia falsa comparado a um texto curto.\")\n",
    "\n",
    "    if short_true_proportion > long_true_proportion:\n",
    "        print(\"É mais provável que um texto curto seja uma notícia verdadeira comparado a um texto longo.\")\n",
    "    else:\n",
    "        print(\"É mais provável que um texto longo seja uma notícia verdadeira comparado a um texto curto.\")\n",
    "else:\n",
    "    print(\"Não há uma diferença estatisticamente significativa na proporção de notícias falsas entre textos curtos e longos. \"\n",
    "          \"Isso sugere que a probabilidade de uma notícia ser falsa não está associada ao comprimento do texto.\")"
   ]
  },
  {
   "cell_type": "markdown",
   "id": "e957a4a6-667c-4edf-a362-36152c70ce48",
   "metadata": {},
   "source": [
    "# Classificação - Projeto 2"
   ]
  },
  {
   "cell_type": "code",
   "execution_count": 103,
   "id": "44f1897d-58f8-420a-9730-ab3067b921e4",
   "metadata": {
    "jupyter": {
     "is_executing": true
    }
   },
   "outputs": [
    {
     "data": {
      "text/plain": [
       "title                  object\n",
       "text                   object\n",
       "subject                object\n",
       "date                   object\n",
       "label                   int32\n",
       "num_of_words          float64\n",
       "text_vector            object\n",
       "num_subjects           object\n",
       "subject_norm          float64\n",
       "num_of_words_norm     float64\n",
       "num_of_words_dist    category\n",
       "log_num_of_words      float64\n",
       "dtype: object"
      ]
     },
     "execution_count": 103,
     "metadata": {},
     "output_type": "execute_result"
    }
   ],
   "source": [
    "# setando label para int, para utilizar o modelo\n",
    "df['label'] = df['label'].astype('int')\n",
    "df.dtypes"
   ]
  },
  {
   "cell_type": "code",
   "execution_count": 50,
   "id": "bf4b8483-fa67-41b0-954d-7c3b11570889",
   "metadata": {
    "jupyter": {
     "is_executing": true
    }
   },
   "outputs": [
    {
     "data": {
      "text/html": [
       "<div>\n",
       "<style scoped>\n",
       "    .dataframe tbody tr th:only-of-type {\n",
       "        vertical-align: middle;\n",
       "    }\n",
       "\n",
       "    .dataframe tbody tr th {\n",
       "        vertical-align: top;\n",
       "    }\n",
       "\n",
       "    .dataframe thead th {\n",
       "        text-align: right;\n",
       "    }\n",
       "</style>\n",
       "<table border=\"1\" class=\"dataframe\">\n",
       "  <thead>\n",
       "    <tr style=\"text-align: right;\">\n",
       "      <th></th>\n",
       "      <th>title</th>\n",
       "      <th>text</th>\n",
       "      <th>subject</th>\n",
       "      <th>date</th>\n",
       "      <th>label</th>\n",
       "      <th>num_of_words</th>\n",
       "      <th>text_vector</th>\n",
       "      <th>num_subjects</th>\n",
       "      <th>subject_norm</th>\n",
       "      <th>num_of_words_norm</th>\n",
       "      <th>num_of_words_dist</th>\n",
       "      <th>log_num_of_words</th>\n",
       "    </tr>\n",
       "  </thead>\n",
       "  <tbody>\n",
       "    <tr>\n",
       "      <th>1</th>\n",
       "      <td>Assange says WikiLeaks to release 'significant...</td>\n",
       "      <td>WASHINGTON Reuters  WikiLeaks founder and edit...</td>\n",
       "      <td>politics</td>\n",
       "      <td>August 25, 2016</td>\n",
       "      <td>1</td>\n",
       "      <td>248.0</td>\n",
       "      <td>[-0.08113641, -0.17954591, -0.1766501, 0.03193...</td>\n",
       "      <td>0</td>\n",
       "      <td>0.0</td>\n",
       "      <td>0.030415</td>\n",
       "      <td>(-7.121, 813.1]</td>\n",
       "      <td>2.394452</td>\n",
       "    </tr>\n",
       "    <tr>\n",
       "      <th>2</th>\n",
       "      <td>Lebanon, foreign powers urged to maintain non-...</td>\n",
       "      <td>PARIS Reuters  World powers sent a clear messa...</td>\n",
       "      <td>worldnews</td>\n",
       "      <td>December 8, 2017</td>\n",
       "      <td>1</td>\n",
       "      <td>93.0</td>\n",
       "      <td>[-0.07810178, 0.3529892, -0.05360166, -0.66076...</td>\n",
       "      <td>1</td>\n",
       "      <td>1.0</td>\n",
       "      <td>0.011329</td>\n",
       "      <td>(-7.121, 813.1]</td>\n",
       "      <td>1.968483</td>\n",
       "    </tr>\n",
       "    <tr>\n",
       "      <th>3</th>\n",
       "      <td>Look Out, Big Oil: ‘Job Creation’ No Longer A...</td>\n",
       "      <td>While jobs in the solar energy sector account ...</td>\n",
       "      <td>worldnews</td>\n",
       "      <td>May 3, 2016</td>\n",
       "      <td>0</td>\n",
       "      <td>345.0</td>\n",
       "      <td>[0.0481182225, -0.270775974, 0.150162593, 0.15...</td>\n",
       "      <td>1</td>\n",
       "      <td>1.0</td>\n",
       "      <td>0.042359</td>\n",
       "      <td>(-7.121, 813.1]</td>\n",
       "      <td>2.537819</td>\n",
       "    </tr>\n",
       "    <tr>\n",
       "      <th>4</th>\n",
       "      <td>HARD CORE: Ten GITMO Detainees Released To Oman</td>\n",
       "      <td>Ten more hard core prisoners from GITMO have b...</td>\n",
       "      <td>politics</td>\n",
       "      <td>Jan 14, 2016</td>\n",
       "      <td>0</td>\n",
       "      <td>190.0</td>\n",
       "      <td>[-0.03298226, 0.00543272, -0.30223936, -0.2545...</td>\n",
       "      <td>0</td>\n",
       "      <td>0.0</td>\n",
       "      <td>0.023273</td>\n",
       "      <td>(-7.121, 813.1]</td>\n",
       "      <td>2.278754</td>\n",
       "    </tr>\n",
       "    <tr>\n",
       "      <th>5</th>\n",
       "      <td>Tension grips Nigerian city as separatist lead...</td>\n",
       "      <td>UMUAHIA Nigeria Reuters  A secessionist leader...</td>\n",
       "      <td>worldnews</td>\n",
       "      <td>October 3, 2017</td>\n",
       "      <td>1</td>\n",
       "      <td>1086.0</td>\n",
       "      <td>[-0.13082439, 0.06494011, -0.05707666, -0.0404...</td>\n",
       "      <td>1</td>\n",
       "      <td>1.0</td>\n",
       "      <td>0.133604</td>\n",
       "      <td>(813.1, 1625.2]</td>\n",
       "      <td>3.035830</td>\n",
       "    </tr>\n",
       "  </tbody>\n",
       "</table>\n",
       "</div>"
      ],
      "text/plain": [
       "                                               title  \\\n",
       "1  Assange says WikiLeaks to release 'significant...   \n",
       "2  Lebanon, foreign powers urged to maintain non-...   \n",
       "3   Look Out, Big Oil: ‘Job Creation’ No Longer A...   \n",
       "4    HARD CORE: Ten GITMO Detainees Released To Oman   \n",
       "5  Tension grips Nigerian city as separatist lead...   \n",
       "\n",
       "                                                text    subject  \\\n",
       "1  WASHINGTON Reuters  WikiLeaks founder and edit...   politics   \n",
       "2  PARIS Reuters  World powers sent a clear messa...  worldnews   \n",
       "3  While jobs in the solar energy sector account ...  worldnews   \n",
       "4  Ten more hard core prisoners from GITMO have b...   politics   \n",
       "5  UMUAHIA Nigeria Reuters  A secessionist leader...  worldnews   \n",
       "\n",
       "                date  label  num_of_words  \\\n",
       "1   August 25, 2016       1         248.0   \n",
       "2  December 8, 2017       1          93.0   \n",
       "3        May 3, 2016      0         345.0   \n",
       "4       Jan 14, 2016      0         190.0   \n",
       "5   October 3, 2017       1        1086.0   \n",
       "\n",
       "                                         text_vector num_subjects  \\\n",
       "1  [-0.08113641, -0.17954591, -0.1766501, 0.03193...            0   \n",
       "2  [-0.07810178, 0.3529892, -0.05360166, -0.66076...            1   \n",
       "3  [0.0481182225, -0.270775974, 0.150162593, 0.15...            1   \n",
       "4  [-0.03298226, 0.00543272, -0.30223936, -0.2545...            0   \n",
       "5  [-0.13082439, 0.06494011, -0.05707666, -0.0404...            1   \n",
       "\n",
       "   subject_norm  num_of_words_norm num_of_words_dist  log_num_of_words  \n",
       "1           0.0           0.030415   (-7.121, 813.1]          2.394452  \n",
       "2           1.0           0.011329   (-7.121, 813.1]          1.968483  \n",
       "3           1.0           0.042359   (-7.121, 813.1]          2.537819  \n",
       "4           0.0           0.023273   (-7.121, 813.1]          2.278754  \n",
       "5           1.0           0.133604   (813.1, 1625.2]          3.035830  "
      ]
     },
     "execution_count": 50,
     "metadata": {},
     "output_type": "execute_result"
    }
   ],
   "source": [
    "df.head()"
   ]
  },
  {
   "cell_type": "code",
   "execution_count": 51,
   "id": "dba51ae1-aa64-4fe6-95d6-60a9ac14a683",
   "metadata": {
    "jupyter": {
     "is_executing": true
    }
   },
   "outputs": [],
   "source": [
    "x_df = df[['num_of_words_norm','subject_norm']]\n",
    "y_df = df['label']\n",
    "xtrain, xtest, ytrain, ytest = train_test_split(x_df, y_df, random_state=1)"
   ]
  },
  {
   "cell_type": "code",
   "execution_count": 52,
   "id": "0f75cae8-abc9-42f7-af66-e45e41beab35",
   "metadata": {
    "jupyter": {
     "is_executing": true
    }
   },
   "outputs": [
    {
     "data": {
      "image/png": "[encoded data removed]",
      "text/plain": [
       "<Figure size 640x480 with 1 Axes>"
      ]
     },
     "metadata": {},
     "output_type": "display_data"
    }
   ],
   "source": [
    "plt.scatter(x_df.iloc[:, 0], x_df.iloc[:, 1], c=y_df, s=50, cmap='rainbow')\n",
    "plt.xlabel('num_of_words_norm')\n",
    "plt.ylabel('subject_norm')\n",
    "plt.show()"
   ]
  },
  {
   "cell_type": "code",
   "execution_count": 53,
   "id": "a9e24797",
   "metadata": {},
   "outputs": [
    {
     "name": "stdout",
     "output_type": "stream",
     "text": [
      "label\n",
      "1    0.621338\n",
      "0    0.378662\n",
      "Name: proportion, dtype: float64\n",
      "\n",
      "Devido ao desbalanceamento entre as classes, a medição não poderá ser feita por acurácia, como estamos preocupados prioritariamente com o desempenho geral do modelo e sua capacidade de distinguir entre as classes, vamos utilizar a AUC-ROC.\n"
     ]
    }
   ],
   "source": [
    "print(df['label'].value_counts(normalize=True))\n",
    "print(f'\\nDevido ao desbalanceamento entre as classes, a medição não poderá ser feita por acurácia, como estamos preocupados prioritariamente com o desempenho geral do modelo e sua capacidade de distinguir entre as classes, vamos utilizar a AUC-ROC.')"
   ]
  },
  {
   "cell_type": "markdown",
   "id": "443de6cb-2ce1-45ec-b923-93d7b01cfcdb",
   "metadata": {},
   "source": [
    "### Algoritmos"
   ]
  },
  {
   "cell_type": "code",
   "execution_count": 54,
   "id": "c8d59afc",
   "metadata": {},
   "outputs": [],
   "source": [
    "# Define models and hyperparameters\n",
    "param_grid = {\n",
    "    \"RandomForestClassifier\": {\n",
    "        'n_estimators': [100, 200, 500],\n",
    "        'max_depth': [None, 10, 20]\n",
    "    },\n",
    "    \"KNeighborsClassifier\": {\n",
    "        'n_neighbors': [3, 5, 7]\n",
    "    },\n",
    "    \"SVC\": {\n",
    "        'C': [0.1, 1, 10],\n",
    "        'kernel': ['linear', 'rbf']\n",
    "    },\n",
    "    \"LogisticRegression\": {\n",
    "        'C': [0.1, 1, 10],\n",
    "        'max_iter': [100, 200, 300]\n",
    "    }\n",
    "}\n",
    "\n",
    "models = {\n",
    "    \"RandomForestClassifier\": RandomForestClassifier(random_state=1),\n",
    "    \"KNeighborsClassifier\": KNeighborsClassifier(),\n",
    "    \"SVC\": SVC(probability=True),\n",
    "    \"LogisticRegression\": LogisticRegression()\n",
    "}"
   ]
  },
  {
   "cell_type": "code",
   "execution_count": 55,
   "id": "1aed2f5c",
   "metadata": {},
   "outputs": [],
   "source": [
    "def find_best_hyper_parameters(models, xtrain, ytrain):\n",
    "    best_models = {}\n",
    "    best_auc_roc = 0\n",
    "    best_model_name = None\n",
    "    best_model = None\n",
    "\n",
    "    for model_name, model in models.items():\n",
    "        print(f\"Treinando {model_name}...\")\n",
    "        grid_search = GridSearchCV(model, param_grid[model_name], scoring='roc_auc', cv=5)\n",
    "        grid_search.fit(xtrain, ytrain)\n",
    "\n",
    "        best_models[model_name] = grid_search.best_estimator_\n",
    "        auc_roc = grid_search.best_score_\n",
    "\n",
    "        print(f\"Melhor parâmetro para {model_name}: {grid_search.best_params_}\")\n",
    "        print(f\"Validação AUC-ROC para {model_name}: {auc_roc}\")\n",
    "\n",
    "        # Log the results of each grid search with MLflow\n",
    "        with mlflow.start_run(run_name=f\"{model_name}_GridSearch\"):\n",
    "            mlflow.log_param(\"model_name\", model_name)\n",
    "            mlflow.log_params(grid_search.best_params_)\n",
    "            mlflow.log_metric(\"validation_auc_roc\", auc_roc)\n",
    "\n",
    "        if auc_roc > best_auc_roc:\n",
    "            best_auc_roc = auc_roc\n",
    "            best_model_name = model_name\n",
    "            best_model = grid_search.best_estimator_\n",
    "\n",
    "    return best_models, best_model\n"
   ]
  },
  {
   "cell_type": "code",
   "execution_count": 56,
   "id": "72414f17",
   "metadata": {},
   "outputs": [],
   "source": [
    "def run_models_using_mlflow(models, xtrain, ytrain, xtest, ytest):\n",
    "    test_results = {}\n",
    "    train_results = {} \n",
    "    for model_name, model in models.items():\n",
    "        \n",
    "        # Predict probabilities for class 1 nos dados de teste\n",
    "        y_pred_proba_test = model.predict_proba(xtest)[:, 1]\n",
    "        \n",
    "        # Calcular AUC-ROC nos dados de teste\n",
    "        auc_roc_test = roc_auc_score(ytest, y_pred_proba_test)\n",
    "\n",
    "        # Predict probabilities for class 1 nos dados de treino\n",
    "        y_pred_proba_train = model.predict_proba(xtrain)[:, 1]\n",
    "        \n",
    "        # Calcular AUC-ROC nos dados de treino\n",
    "        auc_roc_train = roc_auc_score(ytrain, y_pred_proba_train)\n",
    "\n",
    "        # Log resultados de teste\n",
    "        test_results[model_name] = auc_roc_test\n",
    "        print(f\"Teste AUC-ROC para {model_name}: {auc_roc_test}\")\n",
    "\n",
    "        # Log resultados de treino\n",
    "        train_results[model_name] = auc_roc_train\n",
    "        print(f\"Treino AUC-ROC para {model_name}: {auc_roc_train}\")\n",
    "\n",
    "        # Gerar e logar a curva ROC\n",
    "        fpr, tpr, _ = roc_curve(ytest, y_pred_proba_test)\n",
    "        plt.figure(figsize=(8, 6))\n",
    "        plt.plot(fpr, tpr, color='b', label=f'ROC Curve (Test AUC = {auc_roc_test:.2f})')\n",
    "        plt.plot([0, 1], [0, 1], color='gray', linestyle='--')\n",
    "        plt.xlabel('False Positive Rate')\n",
    "        plt.ylabel('True Positive Rate')\n",
    "        plt.title(f'ROC Curve for {model_name}')\n",
    "        plt.legend()\n",
    "        plt.show()\n",
    "        \n",
    "        # Salvar curva ROC para arquivo\n",
    "        roc_plot_path = f\"roc_curve_{model_name}.png\"\n",
    "        plt.savefig(roc_plot_path)\n",
    "        plt.close()\n",
    "\n",
    "        # Gerar e logar a matriz de confusão\n",
    "        y_pred_test = model.predict(xtest)\n",
    "        mat = confusion_matrix(ytest, y_pred_test)\n",
    "        plt.figure(figsize=(8, 6))\n",
    "        sns.heatmap(mat.T, square=True, annot=True, fmt='d', cbar=False, cmap='Blues')\n",
    "        plt.xlabel('True Label')\n",
    "        plt.ylabel('Predicted Label')\n",
    "        plt.title(f'Confusion Matrix for {model_name}')\n",
    "        plt.show()\n",
    "        \n",
    "        # Salvar matriz de confusão para arquivo\n",
    "        confusion_matrix_plot_path = f\"confusion_matrix_{model_name}.png\"\n",
    "        plt.savefig(confusion_matrix_plot_path)\n",
    "        plt.close()\n",
    "\n",
    "        # Logar resultados com MLflow\n",
    "        with mlflow.start_run(run_name=model_name):\n",
    "            mlflow.log_param(\"model_name\", model_name)\n",
    "            mlflow.log_metric(\"test_auc_roc\", auc_roc_test)\n",
    "            mlflow.log_metric(\"train_auc_roc\", auc_roc_train)  # Logar AUC-ROC de treino\n",
    "            mlflow.sklearn.log_model(model, model_name)\n",
    "            mlflow.log_artifact(roc_plot_path)\n",
    "            mlflow.log_artifact(confusion_matrix_plot_path)\n",
    "\n",
    "        # Avaliar overfitting ou underfitting\n",
    "        if auc_roc_train > auc_roc_test:\n",
    "            print(f\"Warning: {model_name} is overfitting!\\n\")\n",
    "        elif auc_roc_train < auc_roc_test:\n",
    "            print(f\"Warning: {model_name} may be underfitting!\\n\")\n",
    "\n",
    "    # Determinar o melhor modelo baseado no AUC-ROC de teste\n",
    "    best_model_name = max(test_results, key=test_results.get)\n",
    "    print(f\"Melhor modelo: {best_model_name} com AUC-ROC: {test_results[best_model_name]}\")\n"
   ]
  },
  {
   "cell_type": "code",
   "execution_count": 90,
   "id": "efdc46f1c4160e55",
   "metadata": {
    "jupyter": {
     "is_executing": true
    }
   },
   "outputs": [
    {
     "name": "stdout",
     "output_type": "stream",
     "text": [
      "Treinando RandomForestClassifier...\n",
      "Melhor parâmetro para RandomForestClassifier: {'max_depth': 10, 'n_estimators': 200}\n",
      "Validação AUC-ROC para RandomForestClassifier: 0.8009384108619519\n",
      "Treinando KNeighborsClassifier...\n",
      "Melhor parâmetro para KNeighborsClassifier: {'n_neighbors': 7}\n",
      "Validação AUC-ROC para KNeighborsClassifier: 0.7650116079477582\n",
      "Treinando SVC...\n",
      "Melhor parâmetro para SVC: {'C': 10, 'kernel': 'rbf'}\n",
      "Validação AUC-ROC para SVC: 0.722929744931611\n",
      "Treinando LogisticRegression...\n",
      "Melhor parâmetro para LogisticRegression: {'C': 10, 'max_iter': 100}\n",
      "Validação AUC-ROC para LogisticRegression: 0.673124457184479\n"
     ]
    }
   ],
   "source": [
    "mlflow.set_experiment(\"Multiple Classifier Models\")\n",
    "best_models, best_model = find_best_hyper_parameters(models, xtrain, ytrain)\n"
   ]
  },
  {
   "cell_type": "code",
   "execution_count": 91,
   "id": "e0ded89b",
   "metadata": {},
   "outputs": [
    {
     "name": "stdout",
     "output_type": "stream",
     "text": [
      "Teste AUC-ROC para RandomForestClassifier: 0.8026792260875008\n",
      "Treino AUC-ROC para RandomForestClassifier: 0.8273479502783967\n"
     ]
    },
    {
     "data": {
      "image/png": "[encoded data removed]",
      "text/plain": [
       "<Figure size 800x600 with 1 Axes>"
      ]
     },
     "metadata": {},
     "output_type": "display_data"
    },
    {
     "data": {
      "image/png": "[encoded data removed]",
      "text/plain": [
       "<Figure size 800x600 with 1 Axes>"
      ]
     },
     "metadata": {},
     "output_type": "display_data"
    },
    {
     "name": "stdout",
     "output_type": "stream",
     "text": [
      "Warning: RandomForestClassifier is overfitting!\n",
      "\n",
      "Teste AUC-ROC para KNeighborsClassifier: 0.7702902931699698\n",
      "Treino AUC-ROC para KNeighborsClassifier: 0.8133430970290083\n"
     ]
    },
    {
     "data": {
      "image/png": "[encoded data removed]",
      "text/plain": [
       "<Figure size 800x600 with 1 Axes>"
      ]
     },
     "metadata": {},
     "output_type": "display_data"
    },
    {
     "data": {
      "image/png": "[encoded data removed]",
      "text/plain": [
       "<Figure size 800x600 with 1 Axes>"
      ]
     },
     "metadata": {},
     "output_type": "display_data"
    },
    {
     "name": "stdout",
     "output_type": "stream",
     "text": [
      "Warning: KNeighborsClassifier is overfitting!\n",
      "\n",
      "Teste AUC-ROC para SVC: 0.7383837421484237\n",
      "Treino AUC-ROC para SVC: 0.7282128923272821\n"
     ]
    },
    {
     "data": {
      "image/png": "[encoded data removed]",
      "text/plain": [
       "<Figure size 800x600 with 1 Axes>"
      ]
     },
     "metadata": {},
     "output_type": "display_data"
    },
    {
     "data": {
      "image/png": "[encoded data removed]",
      "text/plain": [
       "<Figure size 800x600 with 1 Axes>"
      ]
     },
     "metadata": {},
     "output_type": "display_data"
    },
    {
     "name": "stdout",
     "output_type": "stream",
     "text": [
      "Warning: SVC may be underfitting!\n",
      "\n",
      "Teste AUC-ROC para LogisticRegression: 0.6777971156453066\n",
      "Treino AUC-ROC para LogisticRegression: 0.6731212978813748\n"
     ]
    },
    {
     "data": {
      "image/png": "[encoded data removed]",
      "text/plain": [
       "<Figure size 800x600 with 1 Axes>"
      ]
     },
     "metadata": {},
     "output_type": "display_data"
    },
    {
     "data": {
      "image/png": "[encoded data removed]",
      "text/plain": [
       "<Figure size 800x600 with 1 Axes>"
      ]
     },
     "metadata": {},
     "output_type": "display_data"
    },
    {
     "name": "stdout",
     "output_type": "stream",
     "text": [
      "Warning: LogisticRegression may be underfitting!\n",
      "\n",
      "Melhor modelo: RandomForestClassifier com AUC-ROC: 0.8026792260875008\n"
     ]
    }
   ],
   "source": [
    "run_models_using_mlflow(best_models, xtrain, ytrain, xtest, ytest)"
   ]
  },
  {
   "cell_type": "markdown",
   "id": "19a84243",
   "metadata": {},
   "source": [
    "# Melhora do modelo\n",
    "Lembrando que o ajuste de hiper parâmetros já foi feito anteriormente, não será necessário o uso dessa técnica. Dado que nosso modelo está tendo overfitting teremos as seguintes técnicas para tentar melhorar o modelo"
   ]
  },
  {
   "cell_type": "markdown",
   "id": "89fea8a1",
   "metadata": {},
   "source": [
    "## Aumento do conjunto de treinamento\n",
    "O valor default utilizado é tamanho do conjunto de teste em 25%, vamos diminuir para 15%, assim aumentando o tamanho do conjunto de treino"
   ]
  },
  {
   "cell_type": "code",
   "execution_count": 114,
   "id": "2693cfaf",
   "metadata": {},
   "outputs": [],
   "source": [
    "x_df = df[['num_of_words_norm','subject_norm']]\n",
    "y_df = df['label']\n",
    "xtrain_modified, xtest_modified, ytrain_modified, ytest_modified = train_test_split(x_df, y_df, random_state=1, test_size=0.15)"
   ]
  },
  {
   "cell_type": "code",
   "execution_count": 115,
   "id": "a862bdbf",
   "metadata": {},
   "outputs": [
    {
     "name": "stdout",
     "output_type": "stream",
     "text": [
      "Teste AUC-ROC : 0.8079906960704282\n",
      "Treino AUC-ROC : 0.8194479450029218\n"
     ]
    }
   ],
   "source": [
    "best_model.fit(xtrain_modified, ytrain_modified)\n",
    "# Predict probabilities for class 1 nos dados de teste\n",
    "y_pred_proba_test = best_model.predict_proba(xtest_modified)[:, 1]\n",
    "\n",
    "# Calcular AUC-ROC nos dados de teste\n",
    "auc_roc_test = roc_auc_score(ytest_modified, y_pred_proba_test)\n",
    "\n",
    "# Predict probabilities for class 1 nos dados de treino\n",
    "y_pred_proba_train = best_model.predict_proba(xtrain_modified)[:, 1]\n",
    "\n",
    "# Calcular AUC-ROC nos dados de treino\n",
    "auc_roc_train = roc_auc_score(ytrain_modified, y_pred_proba_train)\n",
    "\n",
    "# Log resultados de teste\n",
    "print(f\"Teste AUC-ROC : {auc_roc_test}\")\n",
    "\n",
    "# Log resultados de treino\n",
    "print(f\"Treino AUC-ROC : {auc_roc_train}\")"
   ]
  },
  {
   "cell_type": "markdown",
   "id": "e67ac02f",
   "metadata": {},
   "source": [
    "Resultado: Houve uma diminuição pequena no overfitting do modelo, equilibrando um pouco a validação do conjunto de teste e de treinamento"
   ]
  },
  {
   "cell_type": "markdown",
   "id": "ca8161fe",
   "metadata": {},
   "source": [
    "## Bagging\n",
    "Ensemble learning que combina múltiplos modelos de machine learning para melhorar a precisão e robustez geral do modelo final. Funciona treinando vários modelos independentes em diferentes subconjuntos aleatórios dos dados de treinamento e depois combinando suas previsões por meio da votação."
   ]
  },
  {
   "cell_type": "code",
   "execution_count": 116,
   "id": "77427e71",
   "metadata": {},
   "outputs": [
    {
     "name": "stdout",
     "output_type": "stream",
     "text": [
      "Teste AUC-ROC : 0.8024080452145105\n",
      "Treino AUC-ROC : 0.8220149442860333\n"
     ]
    }
   ],
   "source": [
    "from sklearn.ensemble import BaggingClassifier\n",
    "\n",
    "# Exemplo de Bagging com RandomForestClassifier\n",
    "bagging_model = BaggingClassifier(estimator=best_model, n_estimators=10, random_state=1)\n",
    "bagging_model.fit(xtrain, ytrain)\n",
    "# Predict probabilities for class 1 nos dados de teste\n",
    "y_pred_proba_test = bagging_model.predict_proba(xtest)[:, 1]\n",
    "xtrain_modified\n",
    "# Calcular AUC-ROC nos dados de teste\n",
    "auc_roc_test = roc_auc_score(ytest, y_pred_proba_test)\n",
    "\n",
    "# Predict probabilities for class 1 nos dados de treino\n",
    "y_pred_proba_train = bagging_model.predict_proba(xtrain)[:, 1]\n",
    "\n",
    "# Calcular AUC-ROC nos dados de treino\n",
    "auc_roc_train = roc_auc_score(ytrain, y_pred_proba_train)\n",
    "\n",
    "# Log resultados de teste\n",
    "print(f\"Teste AUC-ROC : {auc_roc_test}\")\n",
    "\n",
    "# Log resultados de treino\n",
    "print(f\"Treino AUC-ROC : {auc_roc_train}\")"
   ]
  },
  {
   "cell_type": "markdown",
   "id": "efabbaf5",
   "metadata": {},
   "source": [
    "Resultado: Houve uma diminuição no overfitting do modelo, equilibrando a validação do conjunto de teste e de treinamento"
   ]
  },
  {
   "cell_type": "markdown",
   "id": "c3cd9101",
   "metadata": {},
   "source": [
    "## Balanceamento de Dados\n",
    "Técnica de oversampling da classe minoritária ou undersampling da classe majoritária para melhorar o desempenho do modelo"
   ]
  },
  {
   "cell_type": "code",
   "execution_count": 111,
   "id": "a89d6f53",
   "metadata": {},
   "outputs": [
    {
     "name": "stdout",
     "output_type": "stream",
     "text": [
      "Teste AUC-ROC : 0.7985036795187916\n",
      "Treino AUC-ROC : 0.7975577380774912\n"
     ]
    }
   ],
   "source": [
    "from imblearn.over_sampling import RandomOverSampler\n",
    "\n",
    "ros = RandomOverSampler(random_state=1)\n",
    "X_resampled, y_resampled = ros.fit_resample(x_df, y_df)\n",
    "\n",
    "model = best_model.fit(X_resampled, y_resampled)\n",
    "# Predict probabilities for class 1 nos dados de teste\n",
    "y_pred_proba_test = model.predict_proba(xtest)[:, 1]\n",
    "\n",
    "# Calcular AUC-ROC nos dados de teste\n",
    "auc_roc_test = roc_auc_score(ytest, y_pred_proba_test)\n",
    "\n",
    "# Predict probabilities for class 1 nos dados de treino\n",
    "y_pred_proba_train = model.predict_proba(xtrain)[:, 1]\n",
    "\n",
    "# Calcular AUC-ROC nos dados de treino\n",
    "auc_roc_train = roc_auc_score(ytrain, y_pred_proba_train)\n",
    "\n",
    "# Log resultados de teste\n",
    "print(f\"Teste AUC-ROC : {auc_roc_test}\")\n",
    "\n",
    "# Log resultados de treino\n",
    "print(f\"Treino AUC-ROC : {auc_roc_train}\")\n"
   ]
  },
  {
   "cell_type": "markdown",
   "id": "55ecc979",
   "metadata": {},
   "source": [
    "Resultado: Houve uma melhora do modelo, com a métrica de validação no conjunto de teste maior, significando que  o modelo está generalizando bem para dados não vistos."
   ]
  },
  {
   "cell_type": "markdown",
   "id": "cf114d3e",
   "metadata": {},
   "source": [
    "## Diminuição da complexidade do modelo\n",
    "Aumentar min_samples_split e min_samples_leaf em modelos de árvores de decisão limita sua capacidade de se ajustar excessivamente aos dados de treinamento e melhorando sua capacidade de generalização para novos dados."
   ]
  },
  {
   "cell_type": "code",
   "execution_count": 117,
   "id": "27f0796d",
   "metadata": {},
   "outputs": [
    {
     "name": "stdout",
     "output_type": "stream",
     "text": [
      "Teste AUC-ROC : 0.8027815391821935\n",
      "Treino AUC-ROC : 0.8244637573128715\n"
     ]
    }
   ],
   "source": [
    "new_params = {\n",
    "    'min_samples_split': 10,\n",
    "    'min_samples_leaf': 10\n",
    "}\n",
    "\n",
    "# Adicionando os novos parâmetros ao modelo existente\n",
    "model = best_model.set_params(**new_params)\n",
    "model.fit(xtrain, ytrain)\n",
    "# Predict probabilities for class 1 nos dados de teste\n",
    "y_pred_proba_test = model.predict_proba(xtest)[:, 1]\n",
    "\n",
    "# Calcular AUC-ROC nos dados de teste\n",
    "auc_roc_test = roc_auc_score(ytest, y_pred_proba_test)\n",
    "\n",
    "# Predict probabilities for class 1 nos dados de treino\n",
    "y_pred_proba_train = model.predict_proba(xtrain)[:, 1]\n",
    "\n",
    "# Calcular AUC-ROC nos dados de treino\n",
    "auc_roc_train = roc_auc_score(ytrain, y_pred_proba_train)\n",
    "\n",
    "# Log resultados de teste\n",
    "print(f\"Teste AUC-ROC : {auc_roc_test}\")\n",
    "\n",
    "# Log resultados de treino\n",
    "print(f\"Treino AUC-ROC : {auc_roc_train}\")"
   ]
  },
  {
   "cell_type": "markdown",
   "id": "d0a2c11e",
   "metadata": {},
   "source": [
    "Resultado: Não houve uma melhora do modelo"
   ]
  },
  {
   "cell_type": "markdown",
   "id": "7032d1f7",
   "metadata": {},
   "source": [
    "# Modelo final Junção da técnicas (bagging + balanceamento dos dados + Aumento do conjunto de treinamento)"
   ]
  },
  {
   "cell_type": "code",
   "execution_count": 113,
   "id": "fcb4af77",
   "metadata": {},
   "outputs": [
    {
     "name": "stdout",
     "output_type": "stream",
     "text": [
      "Teste AUC-ROC : 0.8119228853176155\n",
      "Treino AUC-ROC : 0.8188578106504045\n"
     ]
    }
   ],
   "source": [
    "# Balanceamento dos dados\n",
    "ros = RandomOverSampler(random_state=1)\n",
    "x_df_resampled, y_df_resampled = ros.fit_resample(x_df, y_df)\n",
    "\n",
    "# Aumento do conjunto de treinamento\n",
    "xtrain_modified, xtest_modified, ytrain_modified, ytest_modified = train_test_split(x_df_resampled, y_df_resampled, random_state=1, test_size=0.15)\n",
    "\n",
    "# Bagging de RandomForest\n",
    "bagging_model = BaggingClassifier(estimator=best_model, n_estimators=10, random_state=1)\n",
    "bagging_model.fit(xtrain_modified, ytrain_modified)\n",
    "\n",
    "# Predict probabilities for class 1 nos dados de teste\n",
    "y_pred_proba_test = bagging_model.predict_proba(xtest_modified)[:, 1]\n",
    "\n",
    "# Calcular AUC-ROC nos dados de teste\n",
    "auc_roc_test = roc_auc_score(ytest_modified, y_pred_proba_test)\n",
    "\n",
    "# Predict probabilities for class 1 nos dados de treino\n",
    "y_pred_proba_train = bagging_model.predict_proba(xtrain_modified)[:, 1]\n",
    "\n",
    "# Calcular AUC-ROC nos dados de treino\n",
    "auc_roc_train = roc_auc_score(ytrain_modified, y_pred_proba_train)\n",
    "\n",
    "# Log resultados de teste\n",
    "print(f\"Teste AUC-ROC : {auc_roc_test}\")\n",
    "\n",
    "# Log resultados de treino\n",
    "print(f\"Treino AUC-ROC : {auc_roc_train}\")"
   ]
  }
 ],
 "metadata": {
  "colab": {
   "provenance": []
  },
  "kernelspec": {
   "display_name": "Python 3 (ipykernel)",
   "language": "python",
   "name": "python3"
  },
  "language_info": {
   "codemirror_mode": {
    "name": "ipython",
    "version": 3
   },
   "file_extension": ".py",
   "mimetype": "text/x-python",
   "name": "python",
   "nbconvert_exporter": "python",
   "pygments_lexer": "ipython3",
   "version": "3.10.4"
  }
 },
 "nbformat": 4,
 "nbformat_minor": 5
}
