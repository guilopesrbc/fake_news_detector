{
 "cells": [
  {
   "cell_type": "markdown",
   "id": "f4f00f97-64ad-4475-a9cb-b9e0ffb2561a",
   "metadata": {
    "id": "f4f00f97-64ad-4475-a9cb-b9e0ffb2561a"
   },
   "source": [
    "# Pré processamento"
   ]
  },
  {
   "cell_type": "code",
   "execution_count": 101,
   "id": "9352d8e8-1510-45b5-88c1-14c4b4dd7216",
   "metadata": {
    "jupyter": {
     "is_executing": true
    },
    "scrolled": true
   },
   "outputs": [],
   "source": [
    "# Importando as bibliotecas e construindo o dataframe\n",
    "import pandas as pd\n",
    "import matplotlib.pyplot as plt\n",
    "import re\n",
    "import numpy as np\n",
    "import faiss\n",
    "import random\n",
    "from sklearn.impute import KNNImputer\n",
    "from sentence_transformers import SentenceTransformer\n",
    "from statistics import mean\n"
   ]
  },
  {
   "cell_type": "code",
   "execution_count": 102,
   "id": "51c04766-683a-4f4e-8617-c2384dc5fd12",
   "metadata": {},
   "outputs": [
    {
     "data": {
      "text/html": [
       "<div>\n",
       "<style scoped>\n",
       "    .dataframe tbody tr th:only-of-type {\n",
       "        vertical-align: middle;\n",
       "    }\n",
       "\n",
       "    .dataframe tbody tr th {\n",
       "        vertical-align: top;\n",
       "    }\n",
       "\n",
       "    .dataframe thead th {\n",
       "        text-align: right;\n",
       "    }\n",
       "</style>\n",
       "<table border=\"1\" class=\"dataframe\">\n",
       "  <thead>\n",
       "    <tr style=\"text-align: right;\">\n",
       "      <th></th>\n",
       "      <th>title</th>\n",
       "      <th>text</th>\n",
       "      <th>subject</th>\n",
       "      <th>date</th>\n",
       "      <th>label</th>\n",
       "    </tr>\n",
       "  </thead>\n",
       "  <tbody>\n",
       "    <tr>\n",
       "      <th>0</th>\n",
       "      <td>Donald Trump Sends Out Embarrassing New Year’...</td>\n",
       "      <td>Donald Trump just couldn t wish all Americans ...</td>\n",
       "      <td>News</td>\n",
       "      <td>December 31, 2017</td>\n",
       "      <td>0</td>\n",
       "    </tr>\n",
       "    <tr>\n",
       "      <th>1</th>\n",
       "      <td>Drunk Bragging Trump Staffer Started Russian ...</td>\n",
       "      <td>House Intelligence Committee Chairman Devin Nu...</td>\n",
       "      <td>News</td>\n",
       "      <td>December 31, 2017</td>\n",
       "      <td>0</td>\n",
       "    </tr>\n",
       "    <tr>\n",
       "      <th>2</th>\n",
       "      <td>Sheriff David Clarke Becomes An Internet Joke...</td>\n",
       "      <td>On Friday, it was revealed that former Milwauk...</td>\n",
       "      <td>News</td>\n",
       "      <td>December 30, 2017</td>\n",
       "      <td>0</td>\n",
       "    </tr>\n",
       "    <tr>\n",
       "      <th>3</th>\n",
       "      <td>Trump Is So Obsessed He Even Has Obama’s Name...</td>\n",
       "      <td>On Christmas day, Donald Trump announced that ...</td>\n",
       "      <td>News</td>\n",
       "      <td>December 29, 2017</td>\n",
       "      <td>0</td>\n",
       "    </tr>\n",
       "    <tr>\n",
       "      <th>4</th>\n",
       "      <td>Pope Francis Just Called Out Donald Trump Dur...</td>\n",
       "      <td>Pope Francis used his annual Christmas Day mes...</td>\n",
       "      <td>News</td>\n",
       "      <td>December 25, 2017</td>\n",
       "      <td>0</td>\n",
       "    </tr>\n",
       "  </tbody>\n",
       "</table>\n",
       "</div>"
      ],
      "text/plain": [
       "                                               title  \\\n",
       "0   Donald Trump Sends Out Embarrassing New Year’...   \n",
       "1   Drunk Bragging Trump Staffer Started Russian ...   \n",
       "2   Sheriff David Clarke Becomes An Internet Joke...   \n",
       "3   Trump Is So Obsessed He Even Has Obama’s Name...   \n",
       "4   Pope Francis Just Called Out Donald Trump Dur...   \n",
       "\n",
       "                                                text subject  \\\n",
       "0  Donald Trump just couldn t wish all Americans ...    News   \n",
       "1  House Intelligence Committee Chairman Devin Nu...    News   \n",
       "2  On Friday, it was revealed that former Milwauk...    News   \n",
       "3  On Christmas day, Donald Trump announced that ...    News   \n",
       "4  Pope Francis used his annual Christmas Day mes...    News   \n",
       "\n",
       "                date  label  \n",
       "0  December 31, 2017      0  \n",
       "1  December 31, 2017      0  \n",
       "2  December 30, 2017      0  \n",
       "3  December 29, 2017      0  \n",
       "4  December 25, 2017      0  "
      ]
     },
     "execution_count": 102,
     "metadata": {},
     "output_type": "execute_result"
    }
   ],
   "source": [
    "# concatenando dois dataframes (um com fake news e outro com noticias verdadeiras)\n",
    "fake_df = pd.read_csv('https://raw.githubusercontent.com/guilopesrbc/fake_news_detector/main/Fake.csv')\n",
    "true_df = pd.read_csv('https://raw.githubusercontent.com/guilopesrbc/fake_news_detector/main/True.csv')\n",
    "# adicionando coluna label, correspondente a veracidade da noticias (1 para verdadeiro e 0 para falsa)\n",
    "fake_df['label'] = 0\n",
    "true_df['label'] = 1\n",
    "\n",
    "combined_df = pd.concat([fake_df, true_df], ignore_index=True)\n",
    "\n",
    "combined_df.to_csv('Combined.csv', index=False)\n",
    "combined_df.reset_index(drop=True,inplace=True)\n",
    "combined_df.head()"
   ]
  },
  {
   "cell_type": "markdown",
   "id": "576566b5-dcd1-4407-852e-089269d7fd58",
   "metadata": {},
   "source": [
    "# Criando coluna num_of_words correspondente ao número de palavras presentes no texto da noticia"
   ]
  },
  {
   "cell_type": "code",
   "execution_count": 103,
   "id": "f929a7a3-8328-4843-b963-c7f68b0c7884",
   "metadata": {},
   "outputs": [],
   "source": [
    "# criando coluna num_of_words correspondente ao número de palavras presentes no texto da noticia\n",
    "import re\n",
    "# regex para substituir caracteres que não forem letras e números\n",
    "regex = r'[^a-zA-Z0-9\\s]'\n",
    "combined_df['text'] = combined_df['text'].map(lambda x: re.sub(regex, '', x))\n",
    "combined_df['num_of_words'] = combined_df['text'].map(lambda x: len(x.split()))"
   ]
  },
  {
   "cell_type": "markdown",
   "id": "7d37d1709a239daf",
   "metadata": {},
   "source": [
    "# Criando nova coluna com texto vetorizado "
   ]
  },
  {
   "cell_type": "code",
   "execution_count": null,
   "id": "eeb294044ed1277c",
   "metadata": {
    "ExecuteTime": {
     "start_time": "2024-06-04T21:16:53.772504Z"
    },
    "jupyter": {
     "is_executing": true
    }
   },
   "outputs": [],
   "source": [
    "# Initialize the Sentence Transformer model\n",
    "model = SentenceTransformer('paraphrase-MiniLM-L6-v2')\n",
    "\n",
    "# Function to vectorize the text\n",
    "def vectorize_text(text):\n",
    "    return model.encode(text)\n",
    "\n",
    "# Apply the function to create a new column with vectorized text\n",
    "combined_df['text_vector'] = combined_df['text'].map(vectorize_text)\n",
    "combined_df.to_csv('vectorized_texts.csv', index=False)"
   ]
  },
  {
   "cell_type": "markdown",
   "id": "18c714be",
   "metadata": {},
   "source": [
    "# Reading from csv file "
   ]
  },
  {
   "cell_type": "code",
   "execution_count": 104,
   "id": "53a47c31",
   "metadata": {},
   "outputs": [],
   "source": [
    "# Função para converter strings de vetores em numpy arrays de forma segura\n",
    "def str_to_array(vector_str):\n",
    "    try:\n",
    "        # Remover caracteres desnecessários e converter a string para um numpy array\n",
    "        cleaned_str = vector_str.replace('\\n', '').replace('[', '').replace(']', '').replace('  ', ' ')\n",
    "        return np.fromstring(cleaned_str, sep=' ')\n",
    "    except Exception as e:\n",
    "        print(f\"Error converting string to array: {e}\")\n",
    "        return np.nan\n",
    "\n",
    "def convert_text_vectors_from_str_to_np_arr():\n",
    "    # Certifique-se de que os vetores de texto sejam numpy arrays, não strings\n",
    "    df['text_vector'] = df['text_vector'].map(str_to_array) if isinstance(df['text_vector'][0], str) else df['text_vector']\n",
    "\n",
    "    # Verifique se todos os vetores têm o mesmo tamanho\n",
    "    vector_length = len(df['text_vector'][0])\n",
    "    df['text_vector'] = df['text_vector'].map(lambda x: x if len(x) == vector_length else np.nan).dropna()"
   ]
  },
  {
   "cell_type": "code",
   "execution_count": 105,
   "id": "5d6f7505d4f9e3a5",
   "metadata": {
    "scrolled": true
   },
   "outputs": [
    {
     "data": {
      "text/html": [
       "<div>\n",
       "<style scoped>\n",
       "    .dataframe tbody tr th:only-of-type {\n",
       "        vertical-align: middle;\n",
       "    }\n",
       "\n",
       "    .dataframe tbody tr th {\n",
       "        vertical-align: top;\n",
       "    }\n",
       "\n",
       "    .dataframe thead th {\n",
       "        text-align: right;\n",
       "    }\n",
       "</style>\n",
       "<table border=\"1\" class=\"dataframe\">\n",
       "  <thead>\n",
       "    <tr style=\"text-align: right;\">\n",
       "      <th></th>\n",
       "      <th>title</th>\n",
       "      <th>text</th>\n",
       "      <th>subject</th>\n",
       "      <th>date</th>\n",
       "      <th>label</th>\n",
       "      <th>num_of_words</th>\n",
       "      <th>text_vector</th>\n",
       "    </tr>\n",
       "  </thead>\n",
       "  <tbody>\n",
       "    <tr>\n",
       "      <th>0</th>\n",
       "      <td>Donald Trump Sends Out Embarrassing New Year’...</td>\n",
       "      <td>Donald Trump just couldn t wish all Americans ...</td>\n",
       "      <td>News</td>\n",
       "      <td>December 31, 2017</td>\n",
       "      <td>0</td>\n",
       "      <td>492</td>\n",
       "      <td>[-0.08635634, 0.16764247, 0.40040964, -0.36150...</td>\n",
       "    </tr>\n",
       "    <tr>\n",
       "      <th>1</th>\n",
       "      <td>Drunk Bragging Trump Staffer Started Russian ...</td>\n",
       "      <td>House Intelligence Committee Chairman Devin Nu...</td>\n",
       "      <td>News</td>\n",
       "      <td>December 31, 2017</td>\n",
       "      <td>0</td>\n",
       "      <td>305</td>\n",
       "      <td>[0.00671101, 0.0081033, -0.20852128, -0.087897...</td>\n",
       "    </tr>\n",
       "    <tr>\n",
       "      <th>2</th>\n",
       "      <td>Sheriff David Clarke Becomes An Internet Joke...</td>\n",
       "      <td>On Friday it was revealed that former Milwauke...</td>\n",
       "      <td>News</td>\n",
       "      <td>December 30, 2017</td>\n",
       "      <td>0</td>\n",
       "      <td>579</td>\n",
       "      <td>[-0.362045884, -0.123025492, -0.551379442, -0....</td>\n",
       "    </tr>\n",
       "    <tr>\n",
       "      <th>3</th>\n",
       "      <td>Trump Is So Obsessed He Even Has Obama’s Name...</td>\n",
       "      <td>On Christmas day Donald Trump announced that h...</td>\n",
       "      <td>News</td>\n",
       "      <td>December 29, 2017</td>\n",
       "      <td>0</td>\n",
       "      <td>441</td>\n",
       "      <td>[0.0173586905, 0.00204306096, 0.0736115128, 0....</td>\n",
       "    </tr>\n",
       "    <tr>\n",
       "      <th>4</th>\n",
       "      <td>Pope Francis Just Called Out Donald Trump Dur...</td>\n",
       "      <td>Pope Francis used his annual Christmas Day mes...</td>\n",
       "      <td>News</td>\n",
       "      <td>December 25, 2017</td>\n",
       "      <td>0</td>\n",
       "      <td>420</td>\n",
       "      <td>[-0.079019241, 0.473764718, 0.155274183, -0.05...</td>\n",
       "    </tr>\n",
       "  </tbody>\n",
       "</table>\n",
       "</div>"
      ],
      "text/plain": [
       "                                               title  \\\n",
       "0   Donald Trump Sends Out Embarrassing New Year’...   \n",
       "1   Drunk Bragging Trump Staffer Started Russian ...   \n",
       "2   Sheriff David Clarke Becomes An Internet Joke...   \n",
       "3   Trump Is So Obsessed He Even Has Obama’s Name...   \n",
       "4   Pope Francis Just Called Out Donald Trump Dur...   \n",
       "\n",
       "                                                text subject  \\\n",
       "0  Donald Trump just couldn t wish all Americans ...    News   \n",
       "1  House Intelligence Committee Chairman Devin Nu...    News   \n",
       "2  On Friday it was revealed that former Milwauke...    News   \n",
       "3  On Christmas day Donald Trump announced that h...    News   \n",
       "4  Pope Francis used his annual Christmas Day mes...    News   \n",
       "\n",
       "                date  label  num_of_words  \\\n",
       "0  December 31, 2017      0           492   \n",
       "1  December 31, 2017      0           305   \n",
       "2  December 30, 2017      0           579   \n",
       "3  December 29, 2017      0           441   \n",
       "4  December 25, 2017      0           420   \n",
       "\n",
       "                                         text_vector  \n",
       "0  [-0.08635634, 0.16764247, 0.40040964, -0.36150...  \n",
       "1  [0.00671101, 0.0081033, -0.20852128, -0.087897...  \n",
       "2  [-0.362045884, -0.123025492, -0.551379442, -0....  \n",
       "3  [0.0173586905, 0.00204306096, 0.0736115128, 0....  \n",
       "4  [-0.079019241, 0.473764718, 0.155274183, -0.05...  "
      ]
     },
     "execution_count": 105,
     "metadata": {},
     "output_type": "execute_result"
    }
   ],
   "source": [
    "combined_df = pd.read_csv('vectorized.csv')\n",
    "df = combined_df\n",
    "convert_text_vectors_from_str_to_np_arr()\n",
    "combined_df.head()"
   ]
  },
  {
   "cell_type": "markdown",
   "id": "RAGOlajxjeVa",
   "metadata": {
    "id": "RAGOlajxjeVa"
   },
   "source": [
    "# Setando campos como categóricos"
   ]
  },
  {
   "cell_type": "code",
   "execution_count": 106,
   "id": "iQjPIxrDjsVf",
   "metadata": {
    "colab": {
     "base_uri": "https://localhost:8080/"
    },
    "id": "iQjPIxrDjsVf",
    "outputId": "85494ed3-eb18-4fb7-a3a6-a23195653f72",
    "scrolled": true
   },
   "outputs": [
    {
     "data": {
      "text/plain": [
       "title           object\n",
       "text            object\n",
       "subject         object\n",
       "date            object\n",
       "label            int64\n",
       "num_of_words     int64\n",
       "text_vector     object\n",
       "dtype: object"
      ]
     },
     "execution_count": 106,
     "metadata": {},
     "output_type": "execute_result"
    }
   ],
   "source": [
    "combined_df.dtypes"
   ]
  },
  {
   "cell_type": "code",
   "execution_count": 107,
   "id": "_mqkbvISlhIT",
   "metadata": {
    "id": "_mqkbvISlhIT"
   },
   "outputs": [],
   "source": [
    "# modificando a coluna subject\n",
    "combined_df.loc[combined_df['subject'].isin(['politics', 'Government News', 'left-news']), 'subject'] = 'politics'\n",
    "combined_df.loc[combined_df['subject'].isin(['US_News', 'News', 'Middle-east']), 'subject'] = 'worldnews'\n",
    "combined_df.loc[combined_df['subject'] == 'politicsNews', 'subject'] = 'politics'\n",
    "combined_df['subject'] = combined_df['subject'].astype('category')"
   ]
  },
  {
   "cell_type": "code",
   "execution_count": 108,
   "id": "Swg9YjI1lvNm",
   "metadata": {
    "colab": {
     "base_uri": "https://localhost:8080/"
    },
    "id": "Swg9YjI1lvNm",
    "outputId": "35b62efb-a4e9-4817-ef25-8ddc8b453f27"
   },
   "outputs": [
    {
     "data": {
      "text/plain": [
       "title             object\n",
       "text              object\n",
       "subject         category\n",
       "date              object\n",
       "label              int64\n",
       "num_of_words       int64\n",
       "text_vector       object\n",
       "dtype: object"
      ]
     },
     "execution_count": 108,
     "metadata": {},
     "output_type": "execute_result"
    }
   ],
   "source": [
    "combined_df.dtypes"
   ]
  },
  {
   "cell_type": "code",
   "execution_count": 109,
   "id": "67f1Tx1Sl0uK",
   "metadata": {
    "id": "67f1Tx1Sl0uK"
   },
   "outputs": [],
   "source": [
    "combined_df['num_subjects'] = combined_df['subject'].cat.codes"
   ]
  },
  {
   "cell_type": "code",
   "execution_count": 110,
   "id": "xbulBfpsmoxN",
   "metadata": {
    "colab": {
     "base_uri": "https://localhost:8080/"
    },
    "id": "xbulBfpsmoxN",
    "outputId": "41cba873-4ad6-4524-e660-e10047e40180"
   },
   "outputs": [
    {
     "data": {
      "text/plain": [
       "title             object\n",
       "text              object\n",
       "subject         category\n",
       "date              object\n",
       "label              int64\n",
       "num_of_words       int64\n",
       "text_vector       object\n",
       "num_subjects        int8\n",
       "dtype: object"
      ]
     },
     "execution_count": 110,
     "metadata": {},
     "output_type": "execute_result"
    }
   ],
   "source": [
    "combined_df.dtypes"
   ]
  },
  {
   "cell_type": "markdown",
   "id": "e32cf869-2e8d-4713-a981-94b3403b06a2",
   "metadata": {
    "id": "e32cf869-2e8d-4713-a981-94b3403b06a2"
   },
   "source": [
    "# Verificando valores nulos e vazios"
   ]
  },
  {
   "cell_type": "code",
   "execution_count": 111,
   "id": "c6486bd3e3c44c4",
   "metadata": {
    "colab": {
     "base_uri": "https://localhost:8080/"
    },
    "id": "c6486bd3e3c44c4",
    "outputId": "897853a4-d580-4452-cfcd-635f91a1399b"
   },
   "outputs": [
    {
     "data": {
      "text/plain": [
       "title           0\n",
       "text            0\n",
       "subject         0\n",
       "date            0\n",
       "label           0\n",
       "num_of_words    0\n",
       "text_vector     0\n",
       "num_subjects    0\n",
       "dtype: int64"
      ]
     },
     "execution_count": 111,
     "metadata": {},
     "output_type": "execute_result"
    }
   ],
   "source": [
    "# verificando valores nulo\n",
    "combined_df.isnull().sum()"
   ]
  },
  {
   "cell_type": "code",
   "execution_count": 112,
   "id": "f2568eca-2d20-4e75-8cd5-474ad652237d",
   "metadata": {
    "colab": {
     "base_uri": "https://localhost:8080/"
    },
    "id": "f2568eca-2d20-4e75-8cd5-474ad652237d",
    "outputId": "ca0e2d36-5a03-43b3-8acc-ef2e7e44c7b5"
   },
   "outputs": [
    {
     "data": {
      "text/plain": [
       "0"
      ]
     },
     "execution_count": 112,
     "metadata": {},
     "output_type": "execute_result"
    }
   ],
   "source": [
    "# verificando valores vazios de titulo\n",
    "remove_spaces = lambda x: ''.join(x.split()) if type(x) == str else x\n",
    "empty_values = combined_df.map(remove_spaces)\n",
    "empty_values['title'] = empty_values['title'] == ''\n",
    "len(empty_values[empty_values['title'] == True])"
   ]
  },
  {
   "cell_type": "code",
   "execution_count": 113,
   "id": "2f793eb2-1eb3-4f86-a58f-03a3f7ae7469",
   "metadata": {
    "colab": {
     "base_uri": "https://localhost:8080/"
    },
    "id": "2f793eb2-1eb3-4f86-a58f-03a3f7ae7469",
    "outputId": "a35bcefc-8621-4220-f869-b24db713b26f"
   },
   "outputs": [
    {
     "data": {
      "text/plain": [
       "631"
      ]
     },
     "execution_count": 113,
     "metadata": {},
     "output_type": "execute_result"
    }
   ],
   "source": [
    "# verificando valores vazios de texto\n",
    "remove_spaces = lambda x: ''.join(x.split()) if type(x) == str else x\n",
    "empty_values = combined_df.map(remove_spaces)\n",
    "empty_values['text'] = empty_values['text'] == ''\n",
    "len(empty_values[empty_values['text'] == True])"
   ]
  },
  {
   "cell_type": "code",
   "execution_count": 114,
   "id": "nsq1FoSBimsI",
   "metadata": {
    "colab": {
     "base_uri": "https://localhost:8080/"
    },
    "id": "nsq1FoSBimsI",
    "outputId": "ff0f5917-c4fa-4f6a-d193-bf2f13340929"
   },
   "outputs": [
    {
     "data": {
      "text/plain": [
       "0"
      ]
     },
     "execution_count": 114,
     "metadata": {},
     "output_type": "execute_result"
    }
   ],
   "source": [
    "# verificando valores vazios de tipo de conteúdo\n",
    "remove_spaces = lambda x: ''.join(x.split()) if type(x) == str else x\n",
    "empty_values = combined_df.map(remove_spaces)\n",
    "empty_values['subject'] = empty_values['subject'] == ''\n",
    "len(empty_values[empty_values['subject'] == True])"
   ]
  },
  {
   "cell_type": "code",
   "execution_count": 115,
   "id": "usVlyjUTmNZN",
   "metadata": {
    "colab": {
     "base_uri": "https://localhost:8080/"
    },
    "id": "usVlyjUTmNZN",
    "outputId": "fa8b20cd-e869-40d2-d2af-1ce46290e78d"
   },
   "outputs": [
    {
     "data": {
      "text/plain": [
       "631"
      ]
     },
     "execution_count": 115,
     "metadata": {},
     "output_type": "execute_result"
    }
   ],
   "source": [
    "# setando valores num_of_words iguais a 0 para nulo\n",
    "df = combined_df\n",
    "df['num_of_words'] = df['num_of_words'].map(lambda x: np.nan if x == 0 else x)\n",
    "df['num_of_words'].isnull().sum()"
   ]
  },
  {
   "cell_type": "markdown",
   "id": "bbddb4f4-7b74-47c2-97e7-0dd07989b07a",
   "metadata": {},
   "source": [
    "# Dividindo o dataset em batches para otimizar o uso do algoritmo KNN  "
   ]
  },
  {
   "cell_type": "code",
   "execution_count": 116,
   "id": "CSZp00bwgcrD",
   "metadata": {
    "colab": {
     "base_uri": "https://localhost:8080/",
     "height": 180
    },
    "id": "CSZp00bwgcrD",
    "outputId": "ebd21a6b-5769-42cf-f0a5-aa92dc200821"
   },
   "outputs": [
    {
     "name": "stdout",
     "output_type": "stream",
     "text": [
      "title            0\n",
      "text             0\n",
      "subject          0\n",
      "date             0\n",
      "label            0\n",
      "num_of_words    65\n",
      "text_vector      0\n",
      "num_subjects     0\n",
      "dtype: int64\n",
      "title            0\n",
      "text             0\n",
      "subject          0\n",
      "date             0\n",
      "label            0\n",
      "num_of_words    72\n",
      "text_vector      0\n",
      "num_subjects     0\n",
      "dtype: int64\n",
      "title            0\n",
      "text             0\n",
      "subject          0\n",
      "date             0\n",
      "label            0\n",
      "num_of_words    69\n",
      "text_vector      0\n",
      "num_subjects     0\n",
      "dtype: int64\n",
      "title            0\n",
      "text             0\n",
      "subject          0\n",
      "date             0\n",
      "label            0\n",
      "num_of_words    56\n",
      "text_vector      0\n",
      "num_subjects     0\n",
      "dtype: int64\n",
      "title            0\n",
      "text             0\n",
      "subject          0\n",
      "date             0\n",
      "label            0\n",
      "num_of_words    67\n",
      "text_vector      0\n",
      "num_subjects     0\n",
      "dtype: int64\n",
      "title            0\n",
      "text             0\n",
      "subject          0\n",
      "date             0\n",
      "label            0\n",
      "num_of_words    73\n",
      "text_vector      0\n",
      "num_subjects     0\n",
      "dtype: int64\n",
      "title            0\n",
      "text             0\n",
      "subject          0\n",
      "date             0\n",
      "label            0\n",
      "num_of_words    82\n",
      "text_vector      0\n",
      "num_subjects     0\n",
      "dtype: int64\n",
      "title            0\n",
      "text             0\n",
      "subject          0\n",
      "date             0\n",
      "label            0\n",
      "num_of_words    77\n",
      "text_vector      0\n",
      "num_subjects     0\n",
      "dtype: int64\n",
      "title            0\n",
      "text             0\n",
      "subject          0\n",
      "date             0\n",
      "label            0\n",
      "num_of_words    70\n",
      "text_vector      0\n",
      "num_subjects     0\n",
      "dtype: int64\n"
     ]
    }
   ],
   "source": [
    "batch_size = 5000\n",
    "df_numpy = df.to_numpy()\n",
    "\n",
    "# Embaralhar os dados,\n",
    "np.random.shuffle(df_numpy)\n",
    "# Dividir o dataset em batches,\n",
    "n_batches = int(np.ceil(df_numpy.shape[0] / batch_size))  # Número de batches\n",
    "batches = np.array_split(df_numpy, n_batches)\n",
    "batches_df = [pd.DataFrame(batch, columns=df.columns) for batch in batches]\n",
    "df = pd.DataFrame(df_numpy, columns=df.columns)\n",
    "\n",
    "for batch in batches_df:\n",
    "    print(batch.isnull().sum())"
   ]
  },
  {
   "cell_type": "code",
   "execution_count": 117,
   "id": "eZk4ITbHhdl8",
   "metadata": {
    "id": "eZk4ITbHhdl8"
   },
   "outputs": [],
   "source": [
    "imputer = KNNImputer(n_neighbors=3)\n",
    "df_num_of_words_knn = [pd.DataFrame(imputer.fit_transform(batch[['num_subjects', 'num_of_words', 'label']]), columns=df[['num_subjects', 'num_of_words', 'label']].columns) for batch in batches_df]\n"
   ]
  },
  {
   "cell_type": "code",
   "execution_count": 118,
   "id": "48a67031-e013-4628-921a-0451b1a2a970",
   "metadata": {},
   "outputs": [
    {
     "name": "stdout",
     "output_type": "stream",
     "text": [
      "num_subjects    0\n",
      "num_of_words    0\n",
      "label           0\n",
      "dtype: int64\n",
      "num_subjects    0\n",
      "num_of_words    0\n",
      "label           0\n",
      "dtype: int64\n",
      "num_subjects    0\n",
      "num_of_words    0\n",
      "label           0\n",
      "dtype: int64\n",
      "num_subjects    0\n",
      "num_of_words    0\n",
      "label           0\n",
      "dtype: int64\n",
      "num_subjects    0\n",
      "num_of_words    0\n",
      "label           0\n",
      "dtype: int64\n",
      "num_subjects    0\n",
      "num_of_words    0\n",
      "label           0\n",
      "dtype: int64\n",
      "num_subjects    0\n",
      "num_of_words    0\n",
      "label           0\n",
      "dtype: int64\n",
      "num_subjects    0\n",
      "num_of_words    0\n",
      "label           0\n",
      "dtype: int64\n",
      "num_subjects    0\n",
      "num_of_words    0\n",
      "label           0\n",
      "dtype: int64\n"
     ]
    }
   ],
   "source": [
    "df_concatened = pd.DataFrame()\n",
    "for batch in df_num_of_words_knn:\n",
    "    df_concatened = pd.concat([df_concatened, batch], ignore_index=True)\n",
    "    print(batch.isnull().sum())"
   ]
  },
  {
   "cell_type": "code",
   "execution_count": 119,
   "id": "53079576-f596-4b2f-9a34-82c85fe469c6",
   "metadata": {},
   "outputs": [
    {
     "data": {
      "text/plain": [
       "title           0\n",
       "text            0\n",
       "subject         0\n",
       "date            0\n",
       "label           0\n",
       "num_of_words    0\n",
       "text_vector     0\n",
       "num_subjects    0\n",
       "dtype: int64"
      ]
     },
     "execution_count": 119,
     "metadata": {},
     "output_type": "execute_result"
    }
   ],
   "source": [
    "df['num_of_words'] = df_concatened['num_of_words']\n",
    "df.isnull().sum()"
   ]
  },
  {
   "cell_type": "markdown",
   "id": "f7efff11-ef48-4dff-9c89-3f271a903b22",
   "metadata": {
    "id": "f7efff11-ef48-4dff-9c89-3f271a903b22"
   },
   "source": [
    "# Normalização"
   ]
  },
  {
   "cell_type": "code",
   "execution_count": 120,
   "id": "2687ba42-7b89-42a3-9863-c5d04e4d88f7",
   "metadata": {
    "colab": {
     "base_uri": "https://localhost:8080/",
     "height": 162
    },
    "id": "2687ba42-7b89-42a3-9863-c5d04e4d88f7",
    "outputId": "e39ab2be-6a71-49aa-b48d-799ef80f5538"
   },
   "outputs": [
    {
     "data": {
      "text/html": [
       "<div>\n",
       "<style scoped>\n",
       "    .dataframe tbody tr th:only-of-type {\n",
       "        vertical-align: middle;\n",
       "    }\n",
       "\n",
       "    .dataframe tbody tr th {\n",
       "        vertical-align: top;\n",
       "    }\n",
       "\n",
       "    .dataframe thead th {\n",
       "        text-align: right;\n",
       "    }\n",
       "</style>\n",
       "<table border=\"1\" class=\"dataframe\">\n",
       "  <thead>\n",
       "    <tr style=\"text-align: right;\">\n",
       "      <th></th>\n",
       "      <th>title</th>\n",
       "      <th>text</th>\n",
       "      <th>subject</th>\n",
       "      <th>date</th>\n",
       "      <th>label</th>\n",
       "      <th>num_of_words</th>\n",
       "      <th>text_vector</th>\n",
       "      <th>num_subjects</th>\n",
       "    </tr>\n",
       "  </thead>\n",
       "  <tbody>\n",
       "    <tr>\n",
       "      <th>0</th>\n",
       "      <td>Trump administration switches sides, backs Ohi...</td>\n",
       "      <td>Reuters  The Trump administration has reversed...</td>\n",
       "      <td>politics</td>\n",
       "      <td>August 8, 2017</td>\n",
       "      <td>1</td>\n",
       "      <td>471.000000</td>\n",
       "      <td>[-0.140370145, -0.105049334, -0.14454563, -0.0...</td>\n",
       "      <td>0</td>\n",
       "    </tr>\n",
       "    <tr>\n",
       "      <th>1</th>\n",
       "      <td>Mansion where Obama to stay in Havana 'built t...</td>\n",
       "      <td>HAVANA Reuters  The mansion in Havana where US...</td>\n",
       "      <td>politics</td>\n",
       "      <td>March 18, 2016</td>\n",
       "      <td>1</td>\n",
       "      <td>406.000000</td>\n",
       "      <td>[-0.09919216, 0.22871518, 0.09011927, 0.259386...</td>\n",
       "      <td>0</td>\n",
       "    </tr>\n",
       "    <tr>\n",
       "      <th>2</th>\n",
       "      <td>Mexican army hit by execution finding as Senat...</td>\n",
       "      <td>MEXICO CITY Reuters  Mexican soldiers arbitrar...</td>\n",
       "      <td>worldnews</td>\n",
       "      <td>December 6, 2017</td>\n",
       "      <td>1</td>\n",
       "      <td>674.000000</td>\n",
       "      <td>[-0.02632321, 0.31772003, -0.08805364, -0.0658...</td>\n",
       "      <td>1</td>\n",
       "    </tr>\n",
       "    <tr>\n",
       "      <th>3</th>\n",
       "      <td>Republican Senate candidate Moore hit by sexua...</td>\n",
       "      <td>Reuters  A woman has accused Roy Moore the Rep...</td>\n",
       "      <td>politics</td>\n",
       "      <td>November 9, 2017</td>\n",
       "      <td>1</td>\n",
       "      <td>907.000000</td>\n",
       "      <td>[0.0551192, -0.23961988, -0.18442997, -0.05860...</td>\n",
       "      <td>0</td>\n",
       "    </tr>\n",
       "    <tr>\n",
       "      <th>4</th>\n",
       "      <td>(VIDEO) Elitist Media Stoops To New Low Attack...</td>\n",
       "      <td>The elitist media is exposing its bias and dis...</td>\n",
       "      <td>politics</td>\n",
       "      <td>Sep 24, 2015</td>\n",
       "      <td>0</td>\n",
       "      <td>128.000000</td>\n",
       "      <td>[0.2871213, -0.25076506, -0.4020861, -0.167454...</td>\n",
       "      <td>0</td>\n",
       "    </tr>\n",
       "    <tr>\n",
       "      <th>...</th>\n",
       "      <td>...</td>\n",
       "      <td>...</td>\n",
       "      <td>...</td>\n",
       "      <td>...</td>\n",
       "      <td>...</td>\n",
       "      <td>...</td>\n",
       "      <td>...</td>\n",
       "      <td>...</td>\n",
       "    </tr>\n",
       "    <tr>\n",
       "      <th>44893</th>\n",
       "      <td>CREEPY: Trump Promised Teenage Ivanka He’d Ne...</td>\n",
       "      <td>Donald Trump s relationship with his daughter ...</td>\n",
       "      <td>worldnews</td>\n",
       "      <td>September 30, 2016</td>\n",
       "      <td>0</td>\n",
       "      <td>344.000000</td>\n",
       "      <td>[0.255482435, -0.00744335353, -0.0154836169, 0...</td>\n",
       "      <td>1</td>\n",
       "    </tr>\n",
       "    <tr>\n",
       "      <th>44894</th>\n",
       "      <td>BOOM! The Truth About “FAKE NEWS” Websites: “T...</td>\n",
       "      <td></td>\n",
       "      <td>politics</td>\n",
       "      <td>Nov 17, 2016</td>\n",
       "      <td>0</td>\n",
       "      <td>462.666667</td>\n",
       "      <td>[0.154727131, 0.180044174, 0.0589160696, -0.14...</td>\n",
       "      <td>0</td>\n",
       "    </tr>\n",
       "    <tr>\n",
       "      <th>44895</th>\n",
       "      <td>New Poll Has Clinton Beating Trump By Eleven ...</td>\n",
       "      <td>While the media continues to push the narrativ...</td>\n",
       "      <td>worldnews</td>\n",
       "      <td>June 3, 2016</td>\n",
       "      <td>0</td>\n",
       "      <td>358.000000</td>\n",
       "      <td>[0.02721449, -0.30584392, 0.1938189, 0.2384156...</td>\n",
       "      <td>1</td>\n",
       "    </tr>\n",
       "    <tr>\n",
       "      <th>44896</th>\n",
       "      <td>SHAKEDOWN! FEDS USE MAFIA TACTICS To Force Ban...</td>\n",
       "      <td>Our corrupt federal government under the DOJ i...</td>\n",
       "      <td>politics</td>\n",
       "      <td>Jun 3, 2016</td>\n",
       "      <td>0</td>\n",
       "      <td>320.000000</td>\n",
       "      <td>[-0.0539024994, 0.095002085, -0.353646368, -0....</td>\n",
       "      <td>0</td>\n",
       "    </tr>\n",
       "    <tr>\n",
       "      <th>44897</th>\n",
       "      <td>CHEVY CHASE ADMITS To Using Position At SNL To...</td>\n",
       "      <td>Comedian Mark Dice explores the influence soca...</td>\n",
       "      <td>politics</td>\n",
       "      <td>Jul 18, 2017</td>\n",
       "      <td>0</td>\n",
       "      <td>236.000000</td>\n",
       "      <td>[-0.204577357, 0.150347322, -0.126483887, -0.5...</td>\n",
       "      <td>0</td>\n",
       "    </tr>\n",
       "  </tbody>\n",
       "</table>\n",
       "<p>44898 rows × 8 columns</p>\n",
       "</div>"
      ],
      "text/plain": [
       "                                                   title  \\\n",
       "0      Trump administration switches sides, backs Ohi...   \n",
       "1      Mansion where Obama to stay in Havana 'built t...   \n",
       "2      Mexican army hit by execution finding as Senat...   \n",
       "3      Republican Senate candidate Moore hit by sexua...   \n",
       "4      (VIDEO) Elitist Media Stoops To New Low Attack...   \n",
       "...                                                  ...   \n",
       "44893   CREEPY: Trump Promised Teenage Ivanka He’d Ne...   \n",
       "44894  BOOM! The Truth About “FAKE NEWS” Websites: “T...   \n",
       "44895   New Poll Has Clinton Beating Trump By Eleven ...   \n",
       "44896  SHAKEDOWN! FEDS USE MAFIA TACTICS To Force Ban...   \n",
       "44897  CHEVY CHASE ADMITS To Using Position At SNL To...   \n",
       "\n",
       "                                                    text    subject  \\\n",
       "0      Reuters  The Trump administration has reversed...   politics   \n",
       "1      HAVANA Reuters  The mansion in Havana where US...   politics   \n",
       "2      MEXICO CITY Reuters  Mexican soldiers arbitrar...  worldnews   \n",
       "3      Reuters  A woman has accused Roy Moore the Rep...   politics   \n",
       "4      The elitist media is exposing its bias and dis...   politics   \n",
       "...                                                  ...        ...   \n",
       "44893  Donald Trump s relationship with his daughter ...  worldnews   \n",
       "44894                                                      politics   \n",
       "44895  While the media continues to push the narrativ...  worldnews   \n",
       "44896  Our corrupt federal government under the DOJ i...   politics   \n",
       "44897  Comedian Mark Dice explores the influence soca...   politics   \n",
       "\n",
       "                     date label  num_of_words  \\\n",
       "0         August 8, 2017      1    471.000000   \n",
       "1         March 18, 2016      1    406.000000   \n",
       "2       December 6, 2017      1    674.000000   \n",
       "3       November 9, 2017      1    907.000000   \n",
       "4            Sep 24, 2015     0    128.000000   \n",
       "...                   ...   ...           ...   \n",
       "44893  September 30, 2016     0    344.000000   \n",
       "44894        Nov 17, 2016     0    462.666667   \n",
       "44895        June 3, 2016     0    358.000000   \n",
       "44896         Jun 3, 2016     0    320.000000   \n",
       "44897        Jul 18, 2017     0    236.000000   \n",
       "\n",
       "                                             text_vector num_subjects  \n",
       "0      [-0.140370145, -0.105049334, -0.14454563, -0.0...            0  \n",
       "1      [-0.09919216, 0.22871518, 0.09011927, 0.259386...            0  \n",
       "2      [-0.02632321, 0.31772003, -0.08805364, -0.0658...            1  \n",
       "3      [0.0551192, -0.23961988, -0.18442997, -0.05860...            0  \n",
       "4      [0.2871213, -0.25076506, -0.4020861, -0.167454...            0  \n",
       "...                                                  ...          ...  \n",
       "44893  [0.255482435, -0.00744335353, -0.0154836169, 0...            1  \n",
       "44894  [0.154727131, 0.180044174, 0.0589160696, -0.14...            0  \n",
       "44895  [0.02721449, -0.30584392, 0.1938189, 0.2384156...            1  \n",
       "44896  [-0.0539024994, 0.095002085, -0.353646368, -0....            0  \n",
       "44897  [-0.204577357, 0.150347322, -0.126483887, -0.5...            0  \n",
       "\n",
       "[44898 rows x 8 columns]"
      ]
     },
     "execution_count": 120,
     "metadata": {},
     "output_type": "execute_result"
    }
   ],
   "source": [
    "df"
   ]
  },
  {
   "cell_type": "code",
   "execution_count": 121,
   "id": "497986cc-bd8b-4209-944d-e0e09ca17394",
   "metadata": {
    "colab": {
     "base_uri": "https://localhost:8080/",
     "height": 206
    },
    "id": "497986cc-bd8b-4209-944d-e0e09ca17394",
    "outputId": "183a1104-d366-4c6c-b7df-235e81e9e846"
   },
   "outputs": [
    {
     "data": {
      "text/html": [
       "<div>\n",
       "<style scoped>\n",
       "    .dataframe tbody tr th:only-of-type {\n",
       "        vertical-align: middle;\n",
       "    }\n",
       "\n",
       "    .dataframe tbody tr th {\n",
       "        vertical-align: top;\n",
       "    }\n",
       "\n",
       "    .dataframe thead th {\n",
       "        text-align: right;\n",
       "    }\n",
       "</style>\n",
       "<table border=\"1\" class=\"dataframe\">\n",
       "  <thead>\n",
       "    <tr style=\"text-align: right;\">\n",
       "      <th></th>\n",
       "      <th>title</th>\n",
       "      <th>text</th>\n",
       "      <th>subject</th>\n",
       "      <th>date</th>\n",
       "      <th>label</th>\n",
       "      <th>num_of_words</th>\n",
       "      <th>text_vector</th>\n",
       "      <th>num_subjects</th>\n",
       "      <th>subject_norm</th>\n",
       "      <th>num_of_words_norm</th>\n",
       "    </tr>\n",
       "  </thead>\n",
       "  <tbody>\n",
       "    <tr>\n",
       "      <th>0</th>\n",
       "      <td>Trump administration switches sides, backs Ohi...</td>\n",
       "      <td>Reuters  The Trump administration has reversed...</td>\n",
       "      <td>politics</td>\n",
       "      <td>August 8, 2017</td>\n",
       "      <td>1</td>\n",
       "      <td>471.0</td>\n",
       "      <td>[-0.140370145, -0.105049334, -0.14454563, -0.0...</td>\n",
       "      <td>0</td>\n",
       "      <td>0.0</td>\n",
       "      <td>0.057875</td>\n",
       "    </tr>\n",
       "    <tr>\n",
       "      <th>1</th>\n",
       "      <td>Mansion where Obama to stay in Havana 'built t...</td>\n",
       "      <td>HAVANA Reuters  The mansion in Havana where US...</td>\n",
       "      <td>politics</td>\n",
       "      <td>March 18, 2016</td>\n",
       "      <td>1</td>\n",
       "      <td>406.0</td>\n",
       "      <td>[-0.09919216, 0.22871518, 0.09011927, 0.259386...</td>\n",
       "      <td>0</td>\n",
       "      <td>0.0</td>\n",
       "      <td>0.049871</td>\n",
       "    </tr>\n",
       "    <tr>\n",
       "      <th>2</th>\n",
       "      <td>Mexican army hit by execution finding as Senat...</td>\n",
       "      <td>MEXICO CITY Reuters  Mexican soldiers arbitrar...</td>\n",
       "      <td>worldnews</td>\n",
       "      <td>December 6, 2017</td>\n",
       "      <td>1</td>\n",
       "      <td>674.0</td>\n",
       "      <td>[-0.02632321, 0.31772003, -0.08805364, -0.0658...</td>\n",
       "      <td>1</td>\n",
       "      <td>1.0</td>\n",
       "      <td>0.082872</td>\n",
       "    </tr>\n",
       "    <tr>\n",
       "      <th>3</th>\n",
       "      <td>Republican Senate candidate Moore hit by sexua...</td>\n",
       "      <td>Reuters  A woman has accused Roy Moore the Rep...</td>\n",
       "      <td>politics</td>\n",
       "      <td>November 9, 2017</td>\n",
       "      <td>1</td>\n",
       "      <td>907.0</td>\n",
       "      <td>[0.0551192, -0.23961988, -0.18442997, -0.05860...</td>\n",
       "      <td>0</td>\n",
       "      <td>0.0</td>\n",
       "      <td>0.111563</td>\n",
       "    </tr>\n",
       "    <tr>\n",
       "      <th>4</th>\n",
       "      <td>(VIDEO) Elitist Media Stoops To New Low Attack...</td>\n",
       "      <td>The elitist media is exposing its bias and dis...</td>\n",
       "      <td>politics</td>\n",
       "      <td>Sep 24, 2015</td>\n",
       "      <td>0</td>\n",
       "      <td>128.0</td>\n",
       "      <td>[0.2871213, -0.25076506, -0.4020861, -0.167454...</td>\n",
       "      <td>0</td>\n",
       "      <td>0.0</td>\n",
       "      <td>0.015638</td>\n",
       "    </tr>\n",
       "  </tbody>\n",
       "</table>\n",
       "</div>"
      ],
      "text/plain": [
       "                                               title  \\\n",
       "0  Trump administration switches sides, backs Ohi...   \n",
       "1  Mansion where Obama to stay in Havana 'built t...   \n",
       "2  Mexican army hit by execution finding as Senat...   \n",
       "3  Republican Senate candidate Moore hit by sexua...   \n",
       "4  (VIDEO) Elitist Media Stoops To New Low Attack...   \n",
       "\n",
       "                                                text    subject  \\\n",
       "0  Reuters  The Trump administration has reversed...   politics   \n",
       "1  HAVANA Reuters  The mansion in Havana where US...   politics   \n",
       "2  MEXICO CITY Reuters  Mexican soldiers arbitrar...  worldnews   \n",
       "3  Reuters  A woman has accused Roy Moore the Rep...   politics   \n",
       "4  The elitist media is exposing its bias and dis...   politics   \n",
       "\n",
       "                date label  num_of_words  \\\n",
       "0    August 8, 2017      1         471.0   \n",
       "1    March 18, 2016      1         406.0   \n",
       "2  December 6, 2017      1         674.0   \n",
       "3  November 9, 2017      1         907.0   \n",
       "4       Sep 24, 2015     0         128.0   \n",
       "\n",
       "                                         text_vector num_subjects  \\\n",
       "0  [-0.140370145, -0.105049334, -0.14454563, -0.0...            0   \n",
       "1  [-0.09919216, 0.22871518, 0.09011927, 0.259386...            0   \n",
       "2  [-0.02632321, 0.31772003, -0.08805364, -0.0658...            1   \n",
       "3  [0.0551192, -0.23961988, -0.18442997, -0.05860...            0   \n",
       "4  [0.2871213, -0.25076506, -0.4020861, -0.167454...            0   \n",
       "\n",
       "   subject_norm  num_of_words_norm  \n",
       "0           0.0           0.057875  \n",
       "1           0.0           0.049871  \n",
       "2           1.0           0.082872  \n",
       "3           0.0           0.111563  \n",
       "4           0.0           0.015638  "
      ]
     },
     "execution_count": 121,
     "metadata": {},
     "output_type": "execute_result"
    }
   ],
   "source": [
    "# nomarlizando entre 0 e 1 min-max usando scikit\n",
    "from sklearn.preprocessing import StandardScaler, MinMaxScaler\n",
    "scaler = MinMaxScaler()\n",
    "df['subject_norm'] = scaler.fit_transform(df[['num_subjects']])\n",
    "df['num_of_words_norm'] = scaler.fit_transform(df[['num_of_words']])\n",
    "df.head()"
   ]
  },
  {
   "cell_type": "code",
   "execution_count": 122,
   "id": "602cd591-0bb5-4dd9-859e-10a580df4e8b",
   "metadata": {
    "colab": {
     "base_uri": "https://localhost:8080/"
    },
    "id": "602cd591-0bb5-4dd9-859e-10a580df4e8b",
    "outputId": "05a70325-bd44-4a30-8929-ecc31e49d4ce"
   },
   "outputs": [
    {
     "data": {
      "text/plain": [
       "count    44898.000000\n",
       "mean         0.462292\n",
       "std          0.498582\n",
       "min          0.000000\n",
       "25%          0.000000\n",
       "50%          0.000000\n",
       "75%          1.000000\n",
       "max          1.000000\n",
       "Name: subject_norm, dtype: float64"
      ]
     },
     "execution_count": 122,
     "metadata": {},
     "output_type": "execute_result"
    }
   ],
   "source": [
    "df['subject_norm'].describe()"
   ]
  },
  {
   "cell_type": "code",
   "execution_count": 123,
   "id": "adaed56c-08df-4407-8434-8fffa7836253",
   "metadata": {
    "colab": {
     "base_uri": "https://localhost:8080/"
    },
    "id": "adaed56c-08df-4407-8434-8fffa7836253",
    "outputId": "e6abf696-5747-43c0-b7c9-441a351c646d"
   },
   "outputs": [
    {
     "data": {
      "text/plain": [
       "count    44898.000000\n",
       "mean         0.050478\n",
       "std          0.042871\n",
       "min          0.000000\n",
       "25%          0.026228\n",
       "50%          0.044822\n",
       "75%          0.063539\n",
       "max          1.000000\n",
       "Name: num_of_words_norm, dtype: float64"
      ]
     },
     "execution_count": 123,
     "metadata": {},
     "output_type": "execute_result"
    }
   ],
   "source": [
    "df['num_of_words_norm'].describe()"
   ]
  },
  {
   "cell_type": "markdown",
   "id": "e20ec25f-8622-4bba-a972-9b1334dc0cdc",
   "metadata": {
    "id": "e20ec25f-8622-4bba-a972-9b1334dc0cdc"
   },
   "source": [
    "# Discretização"
   ]
  },
  {
   "cell_type": "code",
   "execution_count": 124,
   "id": "08aebc09-5ca0-48db-9f23-cbb011753c6e",
   "metadata": {
    "id": "08aebc09-5ca0-48db-9f23-cbb011753c6e"
   },
   "outputs": [],
   "source": [
    "# discretizando com 10 bins com mesmo intervalo\n",
    "df['num_of_words_dist'] = pd.cut(df['num_of_words'], 10)"
   ]
  },
  {
   "cell_type": "code",
   "execution_count": 125,
   "id": "Wtz6u64K-CUY",
   "metadata": {
    "colab": {
     "base_uri": "https://localhost:8080/"
    },
    "id": "Wtz6u64K-CUY",
    "outputId": "e5aecf80-baea-48f6-fbae-bca70bf0dc0b"
   },
   "outputs": [
    {
     "data": {
      "text/plain": [
       "num_of_words_dist\n",
       "(-7.121, 813.1]     41552\n",
       "(813.1, 1625.2]      2984\n",
       "(1625.2, 2437.3]      201\n",
       "(2437.3, 3249.4]       76\n",
       "(3249.4, 4061.5]       44\n",
       "(4061.5, 4873.6]       13\n",
       "(4873.6, 5685.7]       12\n",
       "(5685.7, 6497.8]        6\n",
       "(6497.8, 7309.9]        6\n",
       "(7309.9, 8122.0]        4\n",
       "Name: count, dtype: int64"
      ]
     },
     "execution_count": 125,
     "metadata": {},
     "output_type": "execute_result"
    }
   ],
   "source": [
    "df['num_of_words_dist'].value_counts()"
   ]
  },
  {
   "cell_type": "code",
   "execution_count": 126,
   "id": "msjQA5XX-MqA",
   "metadata": {
    "colab": {
     "base_uri": "https://localhost:8080/",
     "height": 552
    },
    "id": "msjQA5XX-MqA",
    "outputId": "e8d8fa14-c642-4aac-c4b2-be877e98ac6b"
   },
   "outputs": [
    {
     "data": {
      "image/png": "[encoded data removed]",
      "text/plain": [
       "<Figure size 640x480 with 1 Axes>"
      ]
     },
     "metadata": {},
     "output_type": "display_data"
    }
   ],
   "source": [
    "df['num_of_words_dist'].value_counts().plot(kind=\"bar\")\n",
    "plt.yscale(\"log\")"
   ]
  },
  {
   "cell_type": "markdown",
   "id": "bff1f92e-8394-41bb-af5b-6e722925f8ac",
   "metadata": {
    "id": "18ad8fdf-7952-419b-a958-1ea6dc9a595c"
   },
   "source": [
    "# Detecção de outliers"
   ]
  },
  {
   "cell_type": "code",
   "execution_count": 127,
   "id": "f8276b54-8650-435a-8159-c43d37d7ea20",
   "metadata": {},
   "outputs": [
    {
     "data": {
      "text/html": [
       "<div>\n",
       "<style scoped>\n",
       "    .dataframe tbody tr th:only-of-type {\n",
       "        vertical-align: middle;\n",
       "    }\n",
       "\n",
       "    .dataframe tbody tr th {\n",
       "        vertical-align: top;\n",
       "    }\n",
       "\n",
       "    .dataframe thead th {\n",
       "        text-align: right;\n",
       "    }\n",
       "</style>\n",
       "<table border=\"1\" class=\"dataframe\">\n",
       "  <thead>\n",
       "    <tr style=\"text-align: right;\">\n",
       "      <th></th>\n",
       "      <th>title</th>\n",
       "      <th>text</th>\n",
       "      <th>subject</th>\n",
       "      <th>date</th>\n",
       "      <th>label</th>\n",
       "      <th>num_of_words</th>\n",
       "      <th>text_vector</th>\n",
       "      <th>num_subjects</th>\n",
       "      <th>subject_norm</th>\n",
       "      <th>num_of_words_norm</th>\n",
       "      <th>num_of_words_dist</th>\n",
       "    </tr>\n",
       "  </thead>\n",
       "  <tbody>\n",
       "    <tr>\n",
       "      <th>934</th>\n",
       "      <td>FINALLY! THE 538 ELECTORAL COLLEGE MEMBERS Cas...</td>\n",
       "      <td>WHAT YOU NEED TO KNOWIn all 50 state capitals ...</td>\n",
       "      <td>politics</td>\n",
       "      <td>Dec 19, 2016</td>\n",
       "      <td>0</td>\n",
       "      <td>212.0</td>\n",
       "      <td>[0.22657423, -0.02523838, 0.08157025, -0.02499...</td>\n",
       "      <td>0</td>\n",
       "      <td>0.0</td>\n",
       "      <td>0.025982</td>\n",
       "      <td>(-7.121, 813.1]</td>\n",
       "    </tr>\n",
       "    <tr>\n",
       "      <th>968</th>\n",
       "      <td>COINTEL PRO: Are ‘Anti-Fascist’ Media Personal...</td>\n",
       "      <td>21st Century Wire says In this age of hyperpol...</td>\n",
       "      <td>worldnews</td>\n",
       "      <td>February 15, 2017</td>\n",
       "      <td>0</td>\n",
       "      <td>859.0</td>\n",
       "      <td>[-0.113371015, -0.0934369564, -0.439139187, -0...</td>\n",
       "      <td>1</td>\n",
       "      <td>1.0</td>\n",
       "      <td>0.105652</td>\n",
       "      <td>(813.1, 1625.2]</td>\n",
       "    </tr>\n",
       "    <tr>\n",
       "      <th>1196</th>\n",
       "      <td>BLACK LIVES MATTER ORGANIZER Refuses To Meet W...</td>\n",
       "      <td>Pure gold The ultimate RaceBaiterInChief just ...</td>\n",
       "      <td>politics</td>\n",
       "      <td>Feb 18, 2016</td>\n",
       "      <td>0</td>\n",
       "      <td>629.0</td>\n",
       "      <td>[-0.19057435, 0.32218033, -0.40333083, 0.32286...</td>\n",
       "      <td>0</td>\n",
       "      <td>0.0</td>\n",
       "      <td>0.077330</td>\n",
       "      <td>(-7.121, 813.1]</td>\n",
       "    </tr>\n",
       "    <tr>\n",
       "      <th>1508</th>\n",
       "      <td>TOP DEMOCRAT ACTIVIST WHO LAUNCHED ONLINE CAMP...</td>\n",
       "      <td>CJ Pearson the 12 year old conservative social...</td>\n",
       "      <td>politics</td>\n",
       "      <td>Jul 9, 2015</td>\n",
       "      <td>0</td>\n",
       "      <td>436.0</td>\n",
       "      <td>[-0.2535226, -0.26469833, -0.45374283, -0.2489...</td>\n",
       "      <td>0</td>\n",
       "      <td>0.0</td>\n",
       "      <td>0.053565</td>\n",
       "      <td>(-7.121, 813.1]</td>\n",
       "    </tr>\n",
       "    <tr>\n",
       "      <th>1577</th>\n",
       "      <td>[Video] BLACK CHAMBER OF COMMERCE PRESIDENT SA...</td>\n",
       "      <td>America s  First Black President  continues to...</td>\n",
       "      <td>politics</td>\n",
       "      <td>Jun 26, 2015</td>\n",
       "      <td>0</td>\n",
       "      <td>103.0</td>\n",
       "      <td>[-0.25079003, 0.136780947, -0.0244115405, 0.30...</td>\n",
       "      <td>0</td>\n",
       "      <td>0.0</td>\n",
       "      <td>0.012560</td>\n",
       "      <td>(-7.121, 813.1]</td>\n",
       "    </tr>\n",
       "  </tbody>\n",
       "</table>\n",
       "</div>"
      ],
      "text/plain": [
       "                                                  title  \\\n",
       "934   FINALLY! THE 538 ELECTORAL COLLEGE MEMBERS Cas...   \n",
       "968   COINTEL PRO: Are ‘Anti-Fascist’ Media Personal...   \n",
       "1196  BLACK LIVES MATTER ORGANIZER Refuses To Meet W...   \n",
       "1508  TOP DEMOCRAT ACTIVIST WHO LAUNCHED ONLINE CAMP...   \n",
       "1577  [Video] BLACK CHAMBER OF COMMERCE PRESIDENT SA...   \n",
       "\n",
       "                                                   text    subject  \\\n",
       "934   WHAT YOU NEED TO KNOWIn all 50 state capitals ...   politics   \n",
       "968   21st Century Wire says In this age of hyperpol...  worldnews   \n",
       "1196  Pure gold The ultimate RaceBaiterInChief just ...   politics   \n",
       "1508  CJ Pearson the 12 year old conservative social...   politics   \n",
       "1577  America s  First Black President  continues to...   politics   \n",
       "\n",
       "                   date label  num_of_words  \\\n",
       "934        Dec 19, 2016     0         212.0   \n",
       "968   February 15, 2017     0         859.0   \n",
       "1196       Feb 18, 2016     0         629.0   \n",
       "1508        Jul 9, 2015     0         436.0   \n",
       "1577       Jun 26, 2015     0         103.0   \n",
       "\n",
       "                                            text_vector num_subjects  \\\n",
       "934   [0.22657423, -0.02523838, 0.08157025, -0.02499...            0   \n",
       "968   [-0.113371015, -0.0934369564, -0.439139187, -0...            1   \n",
       "1196  [-0.19057435, 0.32218033, -0.40333083, 0.32286...            0   \n",
       "1508  [-0.2535226, -0.26469833, -0.45374283, -0.2489...            0   \n",
       "1577  [-0.25079003, 0.136780947, -0.0244115405, 0.30...            0   \n",
       "\n",
       "      subject_norm  num_of_words_norm num_of_words_dist  \n",
       "934            0.0           0.025982   (-7.121, 813.1]  \n",
       "968            1.0           0.105652   (813.1, 1625.2]  \n",
       "1196           0.0           0.077330   (-7.121, 813.1]  \n",
       "1508           0.0           0.053565   (-7.121, 813.1]  \n",
       "1577           0.0           0.012560   (-7.121, 813.1]  "
      ]
     },
     "execution_count": 127,
     "metadata": {},
     "output_type": "execute_result"
    }
   ],
   "source": [
    "df_without_text_vectors = df.drop(columns=['text_vector'])\n",
    "duplicates = df[df_without_text_vectors.duplicated()]\n",
    "duplicates.head()"
   ]
  },
  {
   "cell_type": "code",
   "execution_count": 128,
   "id": "ac78c2dd-3e0a-42f6-a7f4-8e1d817fffe6",
   "metadata": {},
   "outputs": [],
   "source": [
    "duplicates_mask = df_without_text_vectors.duplicated(keep=False)\n",
    "\n",
    "# Drop duplicates from the original DataFrame\n",
    "df = df[~duplicates_mask]"
   ]
  },
  {
   "cell_type": "code",
   "execution_count": 129,
   "id": "30f040ab-e15a-415b-9c51-fbf9e163030e",
   "metadata": {},
   "outputs": [
    {
     "name": "stderr",
     "output_type": "stream",
     "text": [
      "C:\\Users\\guiL6\\AppData\\Local\\Temp\\ipykernel_5164\\4099902805.py:1: UserWarning: Boolean Series key will be reindexed to match DataFrame index.\n",
      "  duplicates = df[df_without_text_vectors.duplicated()]\n"
     ]
    },
    {
     "data": {
      "text/html": [
       "<div>\n",
       "<style scoped>\n",
       "    .dataframe tbody tr th:only-of-type {\n",
       "        vertical-align: middle;\n",
       "    }\n",
       "\n",
       "    .dataframe tbody tr th {\n",
       "        vertical-align: top;\n",
       "    }\n",
       "\n",
       "    .dataframe thead th {\n",
       "        text-align: right;\n",
       "    }\n",
       "</style>\n",
       "<table border=\"1\" class=\"dataframe\">\n",
       "  <thead>\n",
       "    <tr style=\"text-align: right;\">\n",
       "      <th></th>\n",
       "      <th>title</th>\n",
       "      <th>text</th>\n",
       "      <th>subject</th>\n",
       "      <th>date</th>\n",
       "      <th>label</th>\n",
       "      <th>num_of_words</th>\n",
       "      <th>text_vector</th>\n",
       "      <th>num_subjects</th>\n",
       "      <th>subject_norm</th>\n",
       "      <th>num_of_words_norm</th>\n",
       "      <th>num_of_words_dist</th>\n",
       "    </tr>\n",
       "  </thead>\n",
       "  <tbody>\n",
       "  </tbody>\n",
       "</table>\n",
       "</div>"
      ],
      "text/plain": [
       "Empty DataFrame\n",
       "Columns: [title, text, subject, date, label, num_of_words, text_vector, num_subjects, subject_norm, num_of_words_norm, num_of_words_dist]\n",
       "Index: []"
      ]
     },
     "execution_count": 129,
     "metadata": {},
     "output_type": "execute_result"
    }
   ],
   "source": [
    "duplicates = df[df_without_text_vectors.duplicated()]\n",
    "duplicates.head()"
   ]
  },
  {
   "cell_type": "code",
   "execution_count": 130,
   "id": "9cbc332c-b3eb-43d0-b7fa-683827e536b3",
   "metadata": {},
   "outputs": [
    {
     "data": {
      "text/plain": [
       "<Axes: >"
      ]
     },
     "execution_count": 130,
     "metadata": {},
     "output_type": "execute_result"
    },
    {
     "data": {
      "image/png": "[encoded data removed]",
      "text/plain": [
       "<Figure size 640x480 with 1 Axes>"
      ]
     },
     "metadata": {},
     "output_type": "display_data"
    }
   ],
   "source": [
    "df['num_of_words'].plot.box()"
   ]
  },
  {
   "cell_type": "code",
   "execution_count": 131,
   "id": "4be39d06-9bcf-46a9-bb9f-a9a07d76cffd",
   "metadata": {},
   "outputs": [
    {
     "data": {
      "text/plain": [
       "<Axes: ylabel='Frequency'>"
      ]
     },
     "execution_count": 131,
     "metadata": {},
     "output_type": "execute_result"
    },
    {
     "data": {
      "image/png": "[encoded data removed]",
      "text/plain": [
       "<Figure size 640x480 with 1 Axes>"
      ]
     },
     "metadata": {},
     "output_type": "display_data"
    }
   ],
   "source": [
    "df['num_of_words'].plot.hist()"
   ]
  },
  {
   "cell_type": "code",
   "execution_count": 132,
   "id": "88c9a4b6-99ef-488f-b1ab-8d9f32c0dc13",
   "metadata": {},
   "outputs": [
    {
     "name": "stderr",
     "output_type": "stream",
     "text": [
      "C:\\Users\\guiL6\\AppData\\Local\\Temp\\ipykernel_5164\\1135887764.py:1: SettingWithCopyWarning: \n",
      "A value is trying to be set on a copy of a slice from a DataFrame.\n",
      "Try using .loc[row_indexer,col_indexer] = value instead\n",
      "\n",
      "See the caveats in the documentation: https://pandas.pydata.org/pandas-docs/stable/user_guide/indexing.html#returning-a-view-versus-a-copy\n",
      "  df['log_num_of_words'] = np.log10(df['num_of_words'])\n"
     ]
    },
    {
     "data": {
      "text/plain": [
       "<Axes: ylabel='Frequency'>"
      ]
     },
     "execution_count": 132,
     "metadata": {},
     "output_type": "execute_result"
    },
    {
     "data": {
      "image/png": "[encoded data removed]",
      "text/plain": [
       "<Figure size 640x480 with 1 Axes>"
      ]
     },
     "metadata": {},
     "output_type": "display_data"
    }
   ],
   "source": [
    "df['log_num_of_words'] = np.log10(df['num_of_words'])\n",
    "df['log_num_of_words'].plot.hist()"
   ]
  },
  {
   "cell_type": "code",
   "execution_count": 133,
   "id": "5e741735-80eb-4427-b1fa-38cb5c5e140c",
   "metadata": {},
   "outputs": [
    {
     "name": "stdout",
     "output_type": "stream",
     "text": [
      "0.23995673823731847\n"
     ]
    }
   ],
   "source": [
    "mad = np.abs(df['log_num_of_words'] - df['log_num_of_words'].median()).median()*(1/0.6745)\n",
    "print(mad)"
   ]
  },
  {
   "cell_type": "code",
   "execution_count": 134,
   "id": "f28f92a6-4644-4676-b64e-348ccc9924ec",
   "metadata": {},
   "outputs": [
    {
     "data": {
      "text/plain": [
       "<Axes: >"
      ]
     },
     "execution_count": 134,
     "metadata": {},
     "output_type": "execute_result"
    },
    {
     "data": {
      "image/png": "[encoded data removed]",
      "text/plain": [
       "<Figure size 640x480 with 1 Axes>"
      ]
     },
     "metadata": {},
     "output_type": "display_data"
    }
   ],
   "source": [
    "(np.abs(df['log_num_of_words']-df['log_num_of_words'].median())/mad).hist()"
   ]
  },
  {
   "cell_type": "code",
   "execution_count": 135,
   "id": "6d6d7049-cf40-4464-a2b0-35c49d324ac5",
   "metadata": {},
   "outputs": [
    {
     "data": {
      "text/html": [
       "<div>\n",
       "<style scoped>\n",
       "    .dataframe tbody tr th:only-of-type {\n",
       "        vertical-align: middle;\n",
       "    }\n",
       "\n",
       "    .dataframe tbody tr th {\n",
       "        vertical-align: top;\n",
       "    }\n",
       "\n",
       "    .dataframe thead th {\n",
       "        text-align: right;\n",
       "    }\n",
       "</style>\n",
       "<table border=\"1\" class=\"dataframe\">\n",
       "  <thead>\n",
       "    <tr style=\"text-align: right;\">\n",
       "      <th></th>\n",
       "      <th>title</th>\n",
       "      <th>text</th>\n",
       "      <th>subject</th>\n",
       "      <th>date</th>\n",
       "      <th>label</th>\n",
       "      <th>num_of_words</th>\n",
       "      <th>text_vector</th>\n",
       "      <th>num_subjects</th>\n",
       "      <th>subject_norm</th>\n",
       "      <th>num_of_words_norm</th>\n",
       "      <th>num_of_words_dist</th>\n",
       "      <th>log_num_of_words</th>\n",
       "    </tr>\n",
       "  </thead>\n",
       "  <tbody>\n",
       "    <tr>\n",
       "      <th>141</th>\n",
       "      <td>SURPRISE! HISPANIC REPORTER Tries To Call Inju...</td>\n",
       "      <td>This video is just one of many examples showin...</td>\n",
       "      <td>politics</td>\n",
       "      <td>Jun 11, 2016</td>\n",
       "      <td>0</td>\n",
       "      <td>31.0</td>\n",
       "      <td>[-0.396636516, 0.0757741109, -0.439957738, 0.0...</td>\n",
       "      <td>0</td>\n",
       "      <td>0.0</td>\n",
       "      <td>0.003694</td>\n",
       "      <td>(-7.121, 813.1]</td>\n",
       "      <td>1.491362</td>\n",
       "    </tr>\n",
       "    <tr>\n",
       "      <th>219</th>\n",
       "      <td>BENGHAZI HERO Slams Hillary In Pro Trump Ad Fu...</td>\n",
       "      <td>Mark  Oz  Geist makes a powerful ad against Hi...</td>\n",
       "      <td>politics</td>\n",
       "      <td>Jun 29, 2016</td>\n",
       "      <td>0</td>\n",
       "      <td>28.0</td>\n",
       "      <td>[-0.43475997, 0.44441986, -0.38001454, 0.21423...</td>\n",
       "      <td>0</td>\n",
       "      <td>0.0</td>\n",
       "      <td>0.003325</td>\n",
       "      <td>(-7.121, 813.1]</td>\n",
       "      <td>1.447158</td>\n",
       "    </tr>\n",
       "    <tr>\n",
       "      <th>221</th>\n",
       "      <td>IRONIC: WHITE SOUTHERNER BILL CLINTON Just Tol...</td>\n",
       "      <td>OOPS IN 2008 BILL CLINTON SAID THE SAME THING ...</td>\n",
       "      <td>politics</td>\n",
       "      <td>Sep 9, 2016</td>\n",
       "      <td>0</td>\n",
       "      <td>13.0</td>\n",
       "      <td>[-0.174756706, 0.164166495, -0.0533468463, -0....</td>\n",
       "      <td>0</td>\n",
       "      <td>0.0</td>\n",
       "      <td>0.001478</td>\n",
       "      <td>(-7.121, 813.1]</td>\n",
       "      <td>1.113943</td>\n",
       "    </tr>\n",
       "    <tr>\n",
       "      <th>227</th>\n",
       "      <td>MAN THREATENS TO KILL TRUMP: Afraid Food Stamp...</td>\n",
       "      <td>The Baton Rouge Louisiana resident  Maine Musi...</td>\n",
       "      <td>politics</td>\n",
       "      <td>May 20, 2016</td>\n",
       "      <td>0</td>\n",
       "      <td>45.0</td>\n",
       "      <td>[0.246041238, 0.323674202, 0.298093081, 0.3309...</td>\n",
       "      <td>0</td>\n",
       "      <td>0.0</td>\n",
       "      <td>0.005418</td>\n",
       "      <td>(-7.121, 813.1]</td>\n",
       "      <td>1.653213</td>\n",
       "    </tr>\n",
       "    <tr>\n",
       "      <th>306</th>\n",
       "      <td>Trump says will renegotiate NAFTA at 'appropri...</td>\n",
       "      <td>WASHINGTON Reuters  President Donald Trump on ...</td>\n",
       "      <td>politics</td>\n",
       "      <td>January 23, 2017</td>\n",
       "      <td>1</td>\n",
       "      <td>50.0</td>\n",
       "      <td>[-0.27951512, -0.11165302, 0.20659702, 0.05565...</td>\n",
       "      <td>0</td>\n",
       "      <td>0.0</td>\n",
       "      <td>0.006034</td>\n",
       "      <td>(-7.121, 813.1]</td>\n",
       "      <td>1.698970</td>\n",
       "    </tr>\n",
       "    <tr>\n",
       "      <th>...</th>\n",
       "      <td>...</td>\n",
       "      <td>...</td>\n",
       "      <td>...</td>\n",
       "      <td>...</td>\n",
       "      <td>...</td>\n",
       "      <td>...</td>\n",
       "      <td>...</td>\n",
       "      <td>...</td>\n",
       "      <td>...</td>\n",
       "      <td>...</td>\n",
       "      <td>...</td>\n",
       "      <td>...</td>\n",
       "    </tr>\n",
       "    <tr>\n",
       "      <th>44726</th>\n",
       "      <td>Text: Ex-FBI Director Comey's prepared testimo...</td>\n",
       "      <td>Reuters  Following is the full text of former ...</td>\n",
       "      <td>politics</td>\n",
       "      <td>June 7, 2017</td>\n",
       "      <td>1</td>\n",
       "      <td>3190.0</td>\n",
       "      <td>[-0.32454476, -0.17206171, -0.16256896, 0.1117...</td>\n",
       "      <td>0</td>\n",
       "      <td>0.0</td>\n",
       "      <td>0.392686</td>\n",
       "      <td>(2437.3, 3249.4]</td>\n",
       "      <td>3.503791</td>\n",
       "    </tr>\n",
       "    <tr>\n",
       "      <th>44792</th>\n",
       "      <td>AUDIENCE MEMBER GETS The Last Word When Michae...</td>\n",
       "      <td>Michael Moore Trump is a  malignant narcissist...</td>\n",
       "      <td>politics</td>\n",
       "      <td>Dec 7, 2016</td>\n",
       "      <td>0</td>\n",
       "      <td>20.0</td>\n",
       "      <td>[0.148010686, -0.61836952, -0.102962993, -0.20...</td>\n",
       "      <td>0</td>\n",
       "      <td>0.0</td>\n",
       "      <td>0.002340</td>\n",
       "      <td>(-7.121, 813.1]</td>\n",
       "      <td>1.301030</td>\n",
       "    </tr>\n",
       "    <tr>\n",
       "      <th>44803</th>\n",
       "      <td>Left Wing Hack George Stephanopoulos Picks A F...</td>\n",
       "      <td>This is fun George Stephanopoulos tries his be...</td>\n",
       "      <td>politics</td>\n",
       "      <td>Dec 20, 2015</td>\n",
       "      <td>0</td>\n",
       "      <td>23.0</td>\n",
       "      <td>[-0.0598408654, 0.263164401, 0.100914851, -0.2...</td>\n",
       "      <td>0</td>\n",
       "      <td>0.0</td>\n",
       "      <td>0.002709</td>\n",
       "      <td>(-7.121, 813.1]</td>\n",
       "      <td>1.361728</td>\n",
       "    </tr>\n",
       "    <tr>\n",
       "      <th>44814</th>\n",
       "      <td>LISTEN UP! CHAIRMAN FOR TEENS FOR TRUMP Sends ...</td>\n",
       "      <td>CJ Pierson is such a great kid he s sending me...</td>\n",
       "      <td>politics</td>\n",
       "      <td>Aug 13, 2016</td>\n",
       "      <td>0</td>\n",
       "      <td>30.0</td>\n",
       "      <td>[-0.189118415, 0.18278794, -0.150763407, -0.22...</td>\n",
       "      <td>0</td>\n",
       "      <td>0.0</td>\n",
       "      <td>0.003571</td>\n",
       "      <td>(-7.121, 813.1]</td>\n",
       "      <td>1.477121</td>\n",
       "    </tr>\n",
       "    <tr>\n",
       "      <th>44842</th>\n",
       "      <td>China says willing to keep playing constructiv...</td>\n",
       "      <td>BEIJING Reuters  Chinese Foreign Minister Wang...</td>\n",
       "      <td>worldnews</td>\n",
       "      <td>November 20, 2017</td>\n",
       "      <td>1</td>\n",
       "      <td>39.0</td>\n",
       "      <td>[-0.138284817, 0.30313924, -0.0407646596, -0.2...</td>\n",
       "      <td>1</td>\n",
       "      <td>1.0</td>\n",
       "      <td>0.004679</td>\n",
       "      <td>(-7.121, 813.1]</td>\n",
       "      <td>1.591065</td>\n",
       "    </tr>\n",
       "  </tbody>\n",
       "</table>\n",
       "<p>1074 rows × 12 columns</p>\n",
       "</div>"
      ],
      "text/plain": [
       "                                                   title  \\\n",
       "141    SURPRISE! HISPANIC REPORTER Tries To Call Inju...   \n",
       "219    BENGHAZI HERO Slams Hillary In Pro Trump Ad Fu...   \n",
       "221    IRONIC: WHITE SOUTHERNER BILL CLINTON Just Tol...   \n",
       "227    MAN THREATENS TO KILL TRUMP: Afraid Food Stamp...   \n",
       "306    Trump says will renegotiate NAFTA at 'appropri...   \n",
       "...                                                  ...   \n",
       "44726  Text: Ex-FBI Director Comey's prepared testimo...   \n",
       "44792  AUDIENCE MEMBER GETS The Last Word When Michae...   \n",
       "44803  Left Wing Hack George Stephanopoulos Picks A F...   \n",
       "44814  LISTEN UP! CHAIRMAN FOR TEENS FOR TRUMP Sends ...   \n",
       "44842  China says willing to keep playing constructiv...   \n",
       "\n",
       "                                                    text    subject  \\\n",
       "141    This video is just one of many examples showin...   politics   \n",
       "219    Mark  Oz  Geist makes a powerful ad against Hi...   politics   \n",
       "221    OOPS IN 2008 BILL CLINTON SAID THE SAME THING ...   politics   \n",
       "227    The Baton Rouge Louisiana resident  Maine Musi...   politics   \n",
       "306    WASHINGTON Reuters  President Donald Trump on ...   politics   \n",
       "...                                                  ...        ...   \n",
       "44726  Reuters  Following is the full text of former ...   politics   \n",
       "44792  Michael Moore Trump is a  malignant narcissist...   politics   \n",
       "44803  This is fun George Stephanopoulos tries his be...   politics   \n",
       "44814  CJ Pierson is such a great kid he s sending me...   politics   \n",
       "44842  BEIJING Reuters  Chinese Foreign Minister Wang...  worldnews   \n",
       "\n",
       "                     date label  num_of_words  \\\n",
       "141          Jun 11, 2016     0          31.0   \n",
       "219          Jun 29, 2016     0          28.0   \n",
       "221           Sep 9, 2016     0          13.0   \n",
       "227          May 20, 2016     0          45.0   \n",
       "306     January 23, 2017      1          50.0   \n",
       "...                   ...   ...           ...   \n",
       "44726       June 7, 2017      1        3190.0   \n",
       "44792         Dec 7, 2016     0          20.0   \n",
       "44803        Dec 20, 2015     0          23.0   \n",
       "44814        Aug 13, 2016     0          30.0   \n",
       "44842  November 20, 2017      1          39.0   \n",
       "\n",
       "                                             text_vector num_subjects  \\\n",
       "141    [-0.396636516, 0.0757741109, -0.439957738, 0.0...            0   \n",
       "219    [-0.43475997, 0.44441986, -0.38001454, 0.21423...            0   \n",
       "221    [-0.174756706, 0.164166495, -0.0533468463, -0....            0   \n",
       "227    [0.246041238, 0.323674202, 0.298093081, 0.3309...            0   \n",
       "306    [-0.27951512, -0.11165302, 0.20659702, 0.05565...            0   \n",
       "...                                                  ...          ...   \n",
       "44726  [-0.32454476, -0.17206171, -0.16256896, 0.1117...            0   \n",
       "44792  [0.148010686, -0.61836952, -0.102962993, -0.20...            0   \n",
       "44803  [-0.0598408654, 0.263164401, 0.100914851, -0.2...            0   \n",
       "44814  [-0.189118415, 0.18278794, -0.150763407, -0.22...            0   \n",
       "44842  [-0.138284817, 0.30313924, -0.0407646596, -0.2...            1   \n",
       "\n",
       "       subject_norm  num_of_words_norm num_of_words_dist  log_num_of_words  \n",
       "141             0.0           0.003694   (-7.121, 813.1]          1.491362  \n",
       "219             0.0           0.003325   (-7.121, 813.1]          1.447158  \n",
       "221             0.0           0.001478   (-7.121, 813.1]          1.113943  \n",
       "227             0.0           0.005418   (-7.121, 813.1]          1.653213  \n",
       "306             0.0           0.006034   (-7.121, 813.1]          1.698970  \n",
       "...             ...                ...               ...               ...  \n",
       "44726           0.0           0.392686  (2437.3, 3249.4]          3.503791  \n",
       "44792           0.0           0.002340   (-7.121, 813.1]          1.301030  \n",
       "44803           0.0           0.002709   (-7.121, 813.1]          1.361728  \n",
       "44814           0.0           0.003571   (-7.121, 813.1]          1.477121  \n",
       "44842           1.0           0.004679   (-7.121, 813.1]          1.591065  \n",
       "\n",
       "[1074 rows x 12 columns]"
      ]
     },
     "execution_count": 135,
     "metadata": {},
     "output_type": "execute_result"
    }
   ],
   "source": [
    "df[np.abs(df['log_num_of_words']-df['log_num_of_words'].median())/mad > 3.5]"
   ]
  },
  {
   "cell_type": "code",
   "execution_count": 136,
   "id": "aafbadcd-372e-4663-ad74-a48396e9f875",
   "metadata": {},
   "outputs": [
    {
     "data": {
      "text/plain": [
       "34147"
      ]
     },
     "execution_count": 136,
     "metadata": {},
     "output_type": "execute_result"
    }
   ],
   "source": [
    "len(df)"
   ]
  },
  {
   "cell_type": "code",
   "execution_count": 137,
   "id": "b98bf5c9-c76f-4455-b1ef-e241019449d4",
   "metadata": {},
   "outputs": [],
   "source": [
    "df = df[abs(df['log_num_of_words']-df['log_num_of_words'].median())/mad < 3.5]"
   ]
  },
  {
   "cell_type": "code",
   "execution_count": 138,
   "id": "b68b86c9-c01a-4673-9b83-01d86651a9f4",
   "metadata": {},
   "outputs": [
    {
     "data": {
      "text/plain": [
       "33073"
      ]
     },
     "execution_count": 138,
     "metadata": {},
     "output_type": "execute_result"
    }
   ],
   "source": [
    "len(df)"
   ]
  },
  {
   "cell_type": "markdown",
   "id": "c68affc2",
   "metadata": {},
   "source": [
    "# Gerando análises de similaridade"
   ]
  },
  {
   "cell_type": "code",
   "execution_count": 139,
   "id": "2ace0d4c",
   "metadata": {},
   "outputs": [],
   "source": [
    "from scipy.stats import ttest_ind\n",
    "\n",
    "# Convert the list of vectors to a numpy array\n",
    "vectors = np.vstack(df['text_vector'].to_numpy())\n",
    "\n",
    "# Build the FAISS index\n",
    "dimension = vectors.shape[1]\n",
    "index = faiss.IndexFlatL2(dimension)\n",
    "index.add(vectors)"
   ]
  },
  {
   "cell_type": "code",
   "execution_count": 140,
   "id": "a2292452",
   "metadata": {},
   "outputs": [],
   "source": [
    "# Selecionando 1000 notícias falsas e 1000 verdadeiras para cada assunto\n",
    "fake_data = df[df['label'] == 0].groupby('subject').sample(1000)\n",
    "true_data = df[df['label'] == 1].groupby('subject').sample(1000)\n",
    "\n",
    "# Concatenando os dados selecionados\n",
    "selected_data = pd.concat([fake_data, true_data])\n",
    "\n",
    "# Listas para armazenar as similaridades\n",
    "fake_vs_fake_similarities = []\n",
    "true_vs_true_similarities = []\n",
    "true_vs_fake_similarities = []\n",
    "\n",
    "for subject in ['politics', 'worldnews']:\n",
    "    fake_indices = fake_data[fake_data['subject'] == subject].index\n",
    "    true_indices = true_data[true_data['subject'] == subject].index\n",
    "    \n",
    "    for fake_index in fake_indices:\n",
    "        query_vector = selected_data[selected_data.index == fake_index]['text_vector'].iloc[0]\n",
    "        distances, indices = index.search(np.array([query_vector]), len(selected_data))\n",
    "        \n",
    "        # Encontrar similaridades falsas vs falsas\n",
    "        fake_vs_fake_similarities.extend([distances[0][i] for i in range(len(indices[0])) if indices[0][i] in fake_indices])\n",
    "        \n",
    "        # Encontrar similaridades falsas vs verdadeiras\n",
    "        true_indices_in_results = [i for i in indices[0] if i in true_indices]\n",
    "        if true_indices_in_results:\n",
    "            true_vs_fake_similarities.append(distances[0][indices[0].tolist().index(true_indices_in_results[0])])\n",
    "    \n",
    "    for true_index in true_indices:\n",
    "        query_vector = selected_data[selected_data.index == true_index]['text_vector'].iloc[0]\n",
    "        distances, indices = index.search(np.array([query_vector]), len(selected_data))\n",
    "        \n",
    "        # Encontrar similaridades verdadeiras vs verdadeiras\n",
    "        true_vs_true_similarities.extend([distances[0][i] for i in range(len(indices[0])) if indices[0][i] in true_indices])\n",
    "        \n",
    "        # Encontrar similaridades verdadeiras vs falsas\n",
    "        fake_indices_in_results = [i for i in indices[0] if i in fake_indices]\n",
    "        if fake_indices_in_results:\n",
    "            true_vs_fake_similarities.append(distances[0][indices[0].tolist().index(fake_indices_in_results[0])])"
   ]
  },
  {
   "cell_type": "markdown",
   "id": "6bb5d26f9924eb90",
   "metadata": {},
   "source": [
    "# Estatísticas descritivas"
   ]
  },
  {
   "cell_type": "markdown",
   "id": "c909fd7c9e228566",
   "metadata": {},
   "source": [
    "## Histograma de distribuição do número de palavras\n",
    "\n",
    "O histograma ilustra a distribuição do número de palavras após uma transformação logarítmica. A maioria dos textos concentra-se em torno de cerca de 6 palavras, com uma diminuição gradual na frequência à medida que o número de palavras aumenta. Textos muito curtos (menos de 4 palavras) ou muito longos (mais de 7 palavras) são menos comuns. Em suma, a análise revela que a maioria dos textos possui um número moderado de palavras, com uma concentração significativa em torno de 6 palavras, destacando a predominância de textos de comprimento médio."
   ]
  },
  {
   "cell_type": "code",
   "execution_count": 141,
   "id": "a1d4f54295a06a04",
   "metadata": {},
   "outputs": [
    {
     "data": {
      "image/png": "[encoded data removed]",
      "text/plain": [
       "<Figure size 1000x600 with 1 Axes>"
      ]
     },
     "metadata": {},
     "output_type": "display_data"
    }
   ],
   "source": [
    "plt.figure(figsize=(10, 6))\n",
    "plt.hist(np.log(df['num_of_words']), bins=10, edgecolor='black', alpha=0.7)\n",
    "plt.title('Distribuição do Número de Palavras')\n",
    "plt.xlabel('Número de Palavras')\n",
    "plt.ylabel('Frequência')\n",
    "plt.grid(axis='y')\n",
    "plt.show()"
   ]
  },
  {
   "cell_type": "markdown",
   "id": "2a9ce6bbcdbbb17f",
   "metadata": {},
   "source": [
    "## Boxplot representando o número de palavras\n",
    "\n",
    "O boxplot mostra a distribuição do número de palavras em textos após uma transformação logarítmica. A mediana é cerca de 6, sugerindo que a maioria dos textos tem em torno de 6 palavras. A caixa do boxplot, entre o primeiro e terceiro quartil, indica que 50% dos textos possuem entre aproximadamente 5 e 6,5 palavras. Os \"whiskers\" indicam a variação esperada dos dados até 1,5 vezes o intervalo interquartil (IQR). Além disso, há outliers representando textos muito curtos (menos de 4 palavras) ou muito longos (mais de 7 palavras). Em síntese, a análise revela que a maioria dos textos tem um número moderado de palavras, com a predominância de textos de comprimento médio, sendo textos extremamente curtos ou longos menos frequentes."
   ]
  },
  {
   "cell_type": "code",
   "execution_count": 142,
   "id": "df19451b320cbc5f",
   "metadata": {},
   "outputs": [
    {
     "data": {
      "image/png": "[encoded data removed]",
      "text/plain": [
       "<Figure size 1000x600 with 1 Axes>"
      ]
     },
     "metadata": {},
     "output_type": "display_data"
    }
   ],
   "source": [
    "# Boxplot\n",
    "plt.figure(figsize=(10, 6))\n",
    "plt.boxplot(np.log(df['num_of_words']), vert=False)\n",
    "plt.title('Boxplot do Número de Palavras')\n",
    "plt.xlabel('Número de Palavras')\n",
    "plt.grid(axis='x')\n",
    "plt.show()"
   ]
  },
  {
   "cell_type": "markdown",
   "id": "83316df1",
   "metadata": {},
   "source": [
    "## Gráfico de barras comparando o número de notícias falsas vs verdadeiras por ano\n",
    "\n",
    "O gráfico abaixo compara o número de notícias falsas e verdadeiras publicadas anualmente de 2015 a 2018. \n",
    "As conclusões são:\n",
    "\n",
    "2015: Poucas notícias, com ligeira predominância das falsas.\n",
    "2016: Aumento significativo de notícias, com mais falsas do que verdadeiras.\n",
    "2017: Pico de notícias, com um aumento expressivo em ambas as categorias, sendo as verdadeiras consideravelmente mais numerosas.\n",
    "2018: Poucas notícias, tanto falsas quanto verdadeiras, indicando baixa coleta de dados ou atividade mínima.\n",
    "\n",
    "Em resumo, o período de 2016 a 2017 registrou um aumento acentuado na produção ou coleta de notícias, com destaque para 2017, especialmente para as notícias verdadeiras."
   ]
  },
  {
   "cell_type": "code",
   "execution_count": 143,
   "id": "9d7dc8d9",
   "metadata": {},
   "outputs": [],
   "source": [
    "date_formats = ['%B%d,%Y', '%d-%b-%y', '%B%d,%Y', '%b%d,%Y', '%d-%b-%Y', '%d%B%Y', '%d%b%Y', '%Y-%m-%d', '%m-%d-%Y', '%Y/%m/%d', '%B%d,%Y', '%B%d,%Y', '%B%d,%Y', '%B%d,%Y']\n",
    "\n",
    "def is_valid_date(date_str):\n",
    "    for format_str in date_formats:\n",
    "        try:\n",
    "            return pd.to_datetime(re.sub(r'\\s+', '', str(date_str)), format=format_str)\n",
    "        except ValueError:\n",
    "            pass\n",
    "\n",
    "    return pd.NaT\n",
    "\n",
    "valid_dates = df.copy()\n",
    "valid_dates['date'] = valid_dates['date'].map(is_valid_date)\n",
    "valid_dates['year'] = valid_dates['date'].dt.year"
   ]
  },
  {
   "cell_type": "code",
   "execution_count": 144,
   "id": "7656c2ce",
   "metadata": {},
   "outputs": [
    {
     "data": {
      "text/plain": [
       "<Figure size 1200x600 with 0 Axes>"
      ]
     },
     "metadata": {},
     "output_type": "display_data"
    },
    {
     "data": {
      "image/png": "[encoded data removed]",
      "text/plain": [
       "<Figure size 640x480 with 1 Axes>"
      ]
     },
     "metadata": {},
     "output_type": "display_data"
    }
   ],
   "source": [
    "# Contar o número de notícias falsas e verdadeiras por ano\n",
    "fake_news_per_year = valid_dates[valid_dates['label'] == 0].groupby('year').size()\n",
    "true_news_per_year = valid_dates[valid_dates['label'] == 1].groupby('year').size()\n",
    "\n",
    "# Criar um DataFrame com esses dados\n",
    "news_counts_per_year = pd.DataFrame({\n",
    "    'Fake News': fake_news_per_year,\n",
    "    'True News': true_news_per_year\n",
    "}).fillna(0)  # Preencher valores ausentes com 0\n",
    "\n",
    "# Plotar o gráfico\n",
    "plt.figure(figsize=(12, 6))\n",
    "news_counts_per_year.plot(kind='bar', stacked=False, alpha=0.75)\n",
    "plt.title('Número de Notícias Falsas vs Verdadeiras por Ano')\n",
    "plt.xlabel('Ano')\n",
    "plt.ylabel('Número de Notícias')\n",
    "plt.xticks(rotation=45)\n",
    "plt.legend(title='Tipo de Notícia')\n",
    "plt.tight_layout()\n",
    "plt.grid(axis='y')\n",
    "plt.show()"
   ]
  },
  {
   "cell_type": "markdown",
   "id": "d8804e84",
   "metadata": {},
   "source": [
    "## Gráfico de Similaridade em Notícias Verdadeiras, Falsas e Mistas\n",
    "\n",
    "### Descrição dos Gráficos de Similaridade em Notícias Verdadeiras, Falsas e Mistas\n",
    "\n",
    "O gráfico compara a similaridade das notícias falsas, verdadeiras e mistas em relação aos subjects \"worldnews\" e \"politics\". A similaridade é representada pela distância média (quanto menor a distância, maior a similaridade).\n",
    "\n",
    "### Análise\n",
    "\n",
    "- Fake vs Fake: Notícias falsas têm uma similaridade moderada, com uma distância média em torno de 20.\n",
    "- True vs True: Notícias verdadeiras têm a menor similaridade, com a maior distância média, ligeiramente acima de 20.\n",
    "- True vs Fake: Notícias mistas têm a maior similaridade, com a menor distância média, aproximadamente 15.\n",
    "\n",
    "### Conclusão\n",
    "\n",
    "As notícias mistas (verdadeiras vs falsas) mostram maior similaridade entre si, indicando que as notícias verdadeiras e falsas compartilham características comuns. As notícias verdadeiras mantêm menor similaridade quando comparadas entre si, enquanto as notícias falsas também têm uma similaridade moderada dentro do seu grupo."
   ]
  },
  {
   "cell_type": "code",
   "execution_count": 145,
   "id": "6efe8598",
   "metadata": {},
   "outputs": [
    {
     "data": {
      "image/png": "[encoded data removed]",
      "text/plain": [
       "<Figure size 640x480 with 1 Axes>"
      ]
     },
     "metadata": {},
     "output_type": "display_data"
    }
   ],
   "source": [
    "# Calculando as médias das similaridades\n",
    "labels = ['Fake vs Fake', 'True vs True', 'True vs Fake']\n",
    "similarities = [np.mean(fake_vs_fake_similarities), np.mean(true_vs_true_similarities), np.mean(true_vs_fake_similarities)]\n",
    "\n",
    "# Plotando as similaridades\n",
    "plt.bar(labels, similarities)\n",
    "plt.ylabel('Distância média de Similaridade')\n",
    "plt.title('Comparação de similaridade (quanto menor a distância, mais similar)')\n",
    "plt.show()"
   ]
  },
  {
   "cell_type": "markdown",
   "id": "1d8769d4b2d4b161",
   "metadata": {},
   "source": [
    "# Teste de hipótese"
   ]
  },
  {
   "cell_type": "markdown",
   "id": "b44aae9a",
   "metadata": {},
   "source": [
    "## Teste de Hipótese: Similaridade entre Notícias Verdadeiras, Falsas e Mistas\n",
    "\n",
    "Neste notebook, realizaremos um teste de hipótese para comparar a similaridade entre notícias verdadeiras, falsas e mistas. A similaridade é medida pela distância média (quanto menor a distância, maior a similaridade). O objetivo é determinar se há uma diferença significativa na similaridade entre as diferentes categorias de notícias.\n",
    "\n",
    "### Passos do Teste de Hipótese\n",
    "\n",
    "#### Definir Hipóteses:\n",
    "\n",
    "- \\(H_0\\) (Hipótese Nula): Não há diferença significativa na similaridade entre as diferentes categorias de notícias.\n",
    "- \\(H_a\\) (Hipótese Alternativa): Há uma diferença significativa na similaridade entre as diferentes categorias de notícias.\n",
    "\n",
    "#### Calcular as Distâncias Médias:\n",
    "\n",
    "- Obter as distâncias médias para cada categoria: Fake vs Fake, True vs True, e True vs Fake.\n",
    "\n",
    "#### Realizar Teste de Hipótese:\n",
    "\n",
    "- Usar o teste t de Student para comparar as distâncias médias entre as categorias.\n",
    "\n",
    "#### Analisar os Resultados:\n",
    "\n",
    "- Interpretar os valores p para determinar se rejeitamos ou não a hipótese nula.\n",
    "\n",
    "## Resultados dos Testes de Hipótese\n",
    "\n",
    "Os resultados dos testes para comparar as similaridades entre as diferentes categorias de notícias são os seguintes:\n",
    "\n",
    "### Teste entre Fake vs Fake e True vs True:\n",
    "\n",
    "- T-statistic: -16.37274849962382\n",
    "- P-value: 1.6354346712162612e-56\n",
    "- Conclusão: Rejeitamos a hipótese nula. Há uma diferença significativa na similaridade entre Fake vs Fake e True vs True.\n",
    "- Observação: O resultado é altamente significativo (p < 0.01).\n",
    "\n",
    "### Teste entre Fake vs Fake e True vs Fake:\n",
    "\n",
    "- T-statistic: 25.650055569958536\n",
    "- P-value: 1.199788220568109e-125\n",
    "- Conclusão: Rejeitamos a hipótese nula. Há uma diferença significativa na similaridade entre Fake vs Fake e True vs Fake.\n",
    "- Observação: O resultado é altamente significativo (p < 0.01).\n",
    "\n",
    "### Teste entre True vs True e True vs Fake:\n",
    "\n",
    "- T-statistic: 44.84103110401803\n",
    "- P-value: 2.239345677091325e-302\n",
    "- Conclusão: Rejeitamos a hipótese nula. Há uma diferença significativa na similaridade entre True vs True e True vs Fake.\n",
    "- Observação: O resultado é altamente significativo (p < 0.01).\n"
   ]
  },
  {
   "cell_type": "code",
   "execution_count": 146,
   "id": "9b5ff59c",
   "metadata": {},
   "outputs": [
    {
     "name": "stdout",
     "output_type": "stream",
     "text": [
      "Teste t de Student entre Fake vs Fake e True vs True:\n",
      "T-statistic: -2.8677409307744113\n",
      "P-value: 0.004195058568284152\n",
      "\n",
      "Resultado: Rejeitamos a hipótese nula. Há uma diferença significativa na similaridade entre Fake vs Fake e True vs True.\n",
      "Observação: O resultado é altamente significativo (p < 0.01).\n",
      "\n",
      "--------------------------------------------------\n",
      "\n",
      "Teste t de Student entre Fake vs Fake e True vs Fake:\n",
      "T-statistic: 26.11694088298905\n",
      "P-value: 2.1212533265081808e-125\n",
      "\n",
      "Resultado: Rejeitamos a hipótese nula. Há uma diferença significativa na similaridade entre Fake vs Fake e True vs Fake.\n",
      "Observação: O resultado é altamente significativo (p < 0.01).\n",
      "\n",
      "--------------------------------------------------\n",
      "\n",
      "Teste t de Student entre True vs True e True vs Fake:\n",
      "T-statistic: 44.847550640554516\n",
      "P-value: 1.6122580352857345e-301\n",
      "\n",
      "Resultado: Rejeitamos a hipótese nula. Há uma diferença significativa na similaridade entre True vs True e True vs Fake.\n",
      "Observação: O resultado é altamente significativo (p < 0.01).\n",
      "\n",
      "--------------------------------------------------\n",
      "\n"
     ]
    }
   ],
   "source": [
    "def perform_t_test(sample1, sample2, label1, label2):\n",
    "    t_stat, p_value = ttest_ind(sample1, sample2, equal_var=False)\n",
    "    print(f\"Teste t de Student entre {label1} e {label2}:\")\n",
    "    print(f\"T-statistic: {t_stat}\")\n",
    "    print(f\"P-value: {p_value}\\n\")\n",
    "    \n",
    "    # Interpretação dos resultados\n",
    "    alpha = 0.05  # Nível de significância de 5%\n",
    "    if p_value < alpha:\n",
    "        print(f\"Resultado: Rejeitamos a hipótese nula. Há uma diferença significativa na similaridade entre {label1} e {label2}.\")\n",
    "    else:\n",
    "        print(f\"Resultado: Não rejeitamos a hipótese nula. Não há diferença significativa na similaridade entre {label1} e {label2}.\")\n",
    "\n",
    "    # Detalhes adicionais para interpretação\n",
    "    if p_value < 0.01:\n",
    "        print(\"Observação: O resultado é altamente significativo (p < 0.01).\")\n",
    "    elif p_value < 0.05:\n",
    "        print(\"Observação: O resultado é estatisticamente significativo (p < 0.05).\")\n",
    "    else:\n",
    "        print(\"Observação: O resultado não é estatisticamente significativo (p >= 0.05).\")\n",
    "\n",
    "    print(\"\\n\" + \"-\"*50 + \"\\n\")\n",
    "\n",
    "# Realizando os testes de hipótese\n",
    "cropped_sample_fake_vs_fake = random.sample(fake_vs_fake_similarities, 1000)\n",
    "cropped_sample_true_vs_true = random.sample(true_vs_true_similarities, 1000)\n",
    "cropped_sample_true_vs_fake = random.sample(true_vs_fake_similarities, 1000)\n",
    "\n",
    "perform_t_test(cropped_sample_fake_vs_fake, cropped_sample_true_vs_true, 'Fake vs Fake', 'True vs True')\n",
    "perform_t_test(cropped_sample_fake_vs_fake, cropped_sample_true_vs_fake, 'Fake vs Fake', 'True vs Fake')\n",
    "perform_t_test(cropped_sample_true_vs_true, cropped_sample_true_vs_fake, 'True vs True', 'True vs Fake')"
   ]
  },
  {
   "cell_type": "markdown",
   "id": "5ad609cd",
   "metadata": {},
   "source": [
    "## Teste Qui-Quadrado para Proporção de Notícias Falsas em Textos Curtos e Longos\n",
    "\n",
    "O código abaixo realiza um teste qui-quadrado de contingência para avaliar a proporção de notícias falsas em textos curtos (com menos de 150 palavras) e longos (com 150 palavras ou mais). Após dividir as notícias em categorias com base no comprimento, são calculadas as proporções de notícias falsas e verdadeiras em cada categoria. O teste estatístico é realizado e o resultado é exibido, mostrando a estatística Qui-Quadrado (Chi2) e o valor P associado. No caso específico deste teste, em que o resultado foi: Chi2 statistic: 2153.80, P-value: 0.00000, conclui-se que há uma diferença estatisticamente significativa na proporção de notícias falsas entre textos curtos e longos. Isso sugere que a probabilidade de uma notícia ser falsa está associada ao comprimento do texto. As proporções de notícias falsas e verdadeiras são exibidas para ambas as categorias, e é destacado que é mais provável que um texto longo seja uma notícia falsa em comparação a um texto curto, enquanto é mais provável que um texto curto seja uma notícia verdadeira em comparação a um texto longo."
   ]
  },
  {
   "cell_type": "code",
   "execution_count": 147,
   "id": "e1808710",
   "metadata": {},
   "outputs": [
    {
     "ename": "NameError",
     "evalue": "name 'new_df' is not defined",
     "output_type": "error",
     "traceback": [
      "\u001b[1;31m---------------------------------------------------------------------------\u001b[0m",
      "\u001b[1;31mNameError\u001b[0m                                 Traceback (most recent call last)",
      "Cell \u001b[1;32mIn[147], line 4\u001b[0m\n\u001b[0;32m      1\u001b[0m \u001b[38;5;28;01mfrom\u001b[39;00m \u001b[38;5;21;01mscipy\u001b[39;00m\u001b[38;5;21;01m.\u001b[39;00m\u001b[38;5;21;01mstats\u001b[39;00m \u001b[38;5;28;01mimport\u001b[39;00m chi2_contingency\n\u001b[0;32m      3\u001b[0m \u001b[38;5;66;03m# Dividir as notícias em curtas e longas\u001b[39;00m\n\u001b[1;32m----> 4\u001b[0m short_texts \u001b[38;5;241m=\u001b[39m \u001b[43mnew_df\u001b[49m[new_df[\u001b[38;5;124m'\u001b[39m\u001b[38;5;124mnum_of_words\u001b[39m\u001b[38;5;124m'\u001b[39m] \u001b[38;5;241m<\u001b[39m \u001b[38;5;241m150\u001b[39m]\n\u001b[0;32m      5\u001b[0m long_texts \u001b[38;5;241m=\u001b[39m new_df[new_df[\u001b[38;5;124m'\u001b[39m\u001b[38;5;124mnum_of_words\u001b[39m\u001b[38;5;124m'\u001b[39m] \u001b[38;5;241m>\u001b[39m\u001b[38;5;241m=\u001b[39m \u001b[38;5;241m150\u001b[39m]\n\u001b[0;32m      7\u001b[0m \u001b[38;5;66;03m# Calcular a proporção de notícias falsas e verdadeiras em cada categoria\u001b[39;00m\n",
      "\u001b[1;31mNameError\u001b[0m: name 'new_df' is not defined"
     ]
    }
   ],
   "source": [
    "from scipy.stats import chi2_contingency\n",
    "\n",
    "# Dividir as notícias em curtas e longas\n",
    "short_texts = new_df[new_df['num_of_words'] < 150]\n",
    "long_texts = new_df[new_df['num_of_words'] >= 150]\n",
    "\n",
    "# Calcular a proporção de notícias falsas e verdadeiras em cada categoria\n",
    "short_fake_count = short_texts[short_texts['label'] == 0].shape[0]\n",
    "short_true_count = short_texts[short_texts['label'] == 1].shape[0]\n",
    "long_fake_count = long_texts[long_texts['label'] == 0].shape[0]\n",
    "long_true_count = long_texts[long_texts['label'] == 1].shape[0]\n",
    "\n",
    "short_fake_proportion = short_fake_count / short_texts.shape[0]\n",
    "short_true_proportion = short_true_count / short_texts.shape[0]\n",
    "long_fake_proportion = long_fake_count / long_texts.shape[0]\n",
    "long_true_proportion = long_true_count / long_texts.shape[0]\n",
    "\n",
    "# Preparar os dados para o teste qui-quadrado de contingência\n",
    "contingency_table = pd.DataFrame({\n",
    "    'Short Texts': [short_fake_count, short_true_count],\n",
    "    'Long Texts': [long_fake_count, long_true_count]\n",
    "}, index=['Fake', 'True'])\n",
    "\n",
    "# Realizar o teste qui-quadrado de contingência\n",
    "chi2, p, dof, expected = chi2_contingency(contingency_table)\n",
    "print(f\"Chi2 statistic: {chi2:.2f}, P-value: {p:.5f}\")\n",
    "\n",
    "if p < 0.05:\n",
    "    print(\"Há uma diferença estatisticamente significativa na proporção de notícias falsas entre textos curtos e longos. \"\n",
    "          \"Isso sugere que a probabilidade de uma notícia ser falsa está associada ao comprimento do texto.\")\n",
    "\n",
    "    print(f\"Proporção de notícias falsas entre textos curtos: {short_fake_proportion:.2%}\")\n",
    "    print(f\"Proporção de notícias verdadeiras entre textos curtos: {short_true_proportion:.2%}\")\n",
    "    print(f\"Proporção de notícias falsas entre textos longos: {long_fake_proportion:.2%}\")\n",
    "    print(f\"Proporção de notícias verdadeiras entre textos longos: {long_true_proportion:.2%}\")\n",
    "\n",
    "    if short_fake_proportion > long_fake_proportion:\n",
    "        print(\"É mais provável que um texto curto seja uma notícia falsa comparado a um texto longo.\")\n",
    "    else:\n",
    "        print(\"É mais provável que um texto longo seja uma notícia falsa comparado a um texto curto.\")\n",
    "\n",
    "    if short_true_proportion > long_true_proportion:\n",
    "        print(\"É mais provável que um texto curto seja uma notícia verdadeira comparado a um texto longo.\")\n",
    "    else:\n",
    "        print(\"É mais provável que um texto longo seja uma notícia verdadeira comparado a um texto curto.\")\n",
    "else:\n",
    "    print(\"Não há uma diferença estatisticamente significativa na proporção de notícias falsas entre textos curtos e longos. \"\n",
    "          \"Isso sugere que a probabilidade de uma notícia ser falsa não está associada ao comprimento do texto.\")"
   ]
  },
  {
   "cell_type": "markdown",
   "id": "e957a4a6-667c-4edf-a362-36152c70ce48",
   "metadata": {},
   "source": [
    "# Classificação"
   ]
  },
  {
   "cell_type": "code",
   "execution_count": 152,
   "id": "44f1897d-58f8-420a-9730-ab3067b921e4",
   "metadata": {},
   "outputs": [
    {
     "data": {
      "text/plain": [
       "title                  object\n",
       "text                   object\n",
       "subject                object\n",
       "date                   object\n",
       "label                   int32\n",
       "num_of_words          float64\n",
       "text_vector            object\n",
       "num_subjects           object\n",
       "subject_norm          float64\n",
       "num_of_words_norm     float64\n",
       "num_of_words_dist    category\n",
       "log_num_of_words      float64\n",
       "dtype: object"
      ]
     },
     "execution_count": 152,
     "metadata": {},
     "output_type": "execute_result"
    }
   ],
   "source": [
    "# setando label para int, para utilizar o modelo\n",
    "df['label'] = df['label'].astype('int')\n",
    "df.dtypes"
   ]
  },
  {
   "cell_type": "code",
   "execution_count": 153,
   "id": "bf4b8483-fa67-41b0-954d-7c3b11570889",
   "metadata": {},
   "outputs": [
    {
     "data": {
      "text/html": [
       "<div>\n",
       "<style scoped>\n",
       "    .dataframe tbody tr th:only-of-type {\n",
       "        vertical-align: middle;\n",
       "    }\n",
       "\n",
       "    .dataframe tbody tr th {\n",
       "        vertical-align: top;\n",
       "    }\n",
       "\n",
       "    .dataframe thead th {\n",
       "        text-align: right;\n",
       "    }\n",
       "</style>\n",
       "<table border=\"1\" class=\"dataframe\">\n",
       "  <thead>\n",
       "    <tr style=\"text-align: right;\">\n",
       "      <th></th>\n",
       "      <th>title</th>\n",
       "      <th>text</th>\n",
       "      <th>subject</th>\n",
       "      <th>date</th>\n",
       "      <th>label</th>\n",
       "      <th>num_of_words</th>\n",
       "      <th>text_vector</th>\n",
       "      <th>num_subjects</th>\n",
       "      <th>subject_norm</th>\n",
       "      <th>num_of_words_norm</th>\n",
       "      <th>num_of_words_dist</th>\n",
       "      <th>log_num_of_words</th>\n",
       "    </tr>\n",
       "  </thead>\n",
       "  <tbody>\n",
       "    <tr>\n",
       "      <th>0</th>\n",
       "      <td>Trump administration switches sides, backs Ohi...</td>\n",
       "      <td>Reuters  The Trump administration has reversed...</td>\n",
       "      <td>politics</td>\n",
       "      <td>August 8, 2017</td>\n",
       "      <td>1</td>\n",
       "      <td>471.0</td>\n",
       "      <td>[-0.140370145, -0.105049334, -0.14454563, -0.0...</td>\n",
       "      <td>0</td>\n",
       "      <td>0.0</td>\n",
       "      <td>0.057875</td>\n",
       "      <td>(-7.121, 813.1]</td>\n",
       "      <td>2.673021</td>\n",
       "    </tr>\n",
       "    <tr>\n",
       "      <th>1</th>\n",
       "      <td>Mansion where Obama to stay in Havana 'built t...</td>\n",
       "      <td>HAVANA Reuters  The mansion in Havana where US...</td>\n",
       "      <td>politics</td>\n",
       "      <td>March 18, 2016</td>\n",
       "      <td>1</td>\n",
       "      <td>406.0</td>\n",
       "      <td>[-0.09919216, 0.22871518, 0.09011927, 0.259386...</td>\n",
       "      <td>0</td>\n",
       "      <td>0.0</td>\n",
       "      <td>0.049871</td>\n",
       "      <td>(-7.121, 813.1]</td>\n",
       "      <td>2.608526</td>\n",
       "    </tr>\n",
       "    <tr>\n",
       "      <th>2</th>\n",
       "      <td>Mexican army hit by execution finding as Senat...</td>\n",
       "      <td>MEXICO CITY Reuters  Mexican soldiers arbitrar...</td>\n",
       "      <td>worldnews</td>\n",
       "      <td>December 6, 2017</td>\n",
       "      <td>1</td>\n",
       "      <td>674.0</td>\n",
       "      <td>[-0.02632321, 0.31772003, -0.08805364, -0.0658...</td>\n",
       "      <td>1</td>\n",
       "      <td>1.0</td>\n",
       "      <td>0.082872</td>\n",
       "      <td>(-7.121, 813.1]</td>\n",
       "      <td>2.828660</td>\n",
       "    </tr>\n",
       "    <tr>\n",
       "      <th>3</th>\n",
       "      <td>Republican Senate candidate Moore hit by sexua...</td>\n",
       "      <td>Reuters  A woman has accused Roy Moore the Rep...</td>\n",
       "      <td>politics</td>\n",
       "      <td>November 9, 2017</td>\n",
       "      <td>1</td>\n",
       "      <td>907.0</td>\n",
       "      <td>[0.0551192, -0.23961988, -0.18442997, -0.05860...</td>\n",
       "      <td>0</td>\n",
       "      <td>0.0</td>\n",
       "      <td>0.111563</td>\n",
       "      <td>(813.1, 1625.2]</td>\n",
       "      <td>2.957607</td>\n",
       "    </tr>\n",
       "    <tr>\n",
       "      <th>4</th>\n",
       "      <td>(VIDEO) Elitist Media Stoops To New Low Attack...</td>\n",
       "      <td>The elitist media is exposing its bias and dis...</td>\n",
       "      <td>politics</td>\n",
       "      <td>Sep 24, 2015</td>\n",
       "      <td>0</td>\n",
       "      <td>128.0</td>\n",
       "      <td>[0.2871213, -0.25076506, -0.4020861, -0.167454...</td>\n",
       "      <td>0</td>\n",
       "      <td>0.0</td>\n",
       "      <td>0.015638</td>\n",
       "      <td>(-7.121, 813.1]</td>\n",
       "      <td>2.107210</td>\n",
       "    </tr>\n",
       "  </tbody>\n",
       "</table>\n",
       "</div>"
      ],
      "text/plain": [
       "                                               title  \\\n",
       "0  Trump administration switches sides, backs Ohi...   \n",
       "1  Mansion where Obama to stay in Havana 'built t...   \n",
       "2  Mexican army hit by execution finding as Senat...   \n",
       "3  Republican Senate candidate Moore hit by sexua...   \n",
       "4  (VIDEO) Elitist Media Stoops To New Low Attack...   \n",
       "\n",
       "                                                text    subject  \\\n",
       "0  Reuters  The Trump administration has reversed...   politics   \n",
       "1  HAVANA Reuters  The mansion in Havana where US...   politics   \n",
       "2  MEXICO CITY Reuters  Mexican soldiers arbitrar...  worldnews   \n",
       "3  Reuters  A woman has accused Roy Moore the Rep...   politics   \n",
       "4  The elitist media is exposing its bias and dis...   politics   \n",
       "\n",
       "                date  label  num_of_words  \\\n",
       "0    August 8, 2017       1         471.0   \n",
       "1    March 18, 2016       1         406.0   \n",
       "2  December 6, 2017       1         674.0   \n",
       "3  November 9, 2017       1         907.0   \n",
       "4       Sep 24, 2015      0         128.0   \n",
       "\n",
       "                                         text_vector num_subjects  \\\n",
       "0  [-0.140370145, -0.105049334, -0.14454563, -0.0...            0   \n",
       "1  [-0.09919216, 0.22871518, 0.09011927, 0.259386...            0   \n",
       "2  [-0.02632321, 0.31772003, -0.08805364, -0.0658...            1   \n",
       "3  [0.0551192, -0.23961988, -0.18442997, -0.05860...            0   \n",
       "4  [0.2871213, -0.25076506, -0.4020861, -0.167454...            0   \n",
       "\n",
       "   subject_norm  num_of_words_norm num_of_words_dist  log_num_of_words  \n",
       "0           0.0           0.057875   (-7.121, 813.1]          2.673021  \n",
       "1           0.0           0.049871   (-7.121, 813.1]          2.608526  \n",
       "2           1.0           0.082872   (-7.121, 813.1]          2.828660  \n",
       "3           0.0           0.111563   (813.1, 1625.2]          2.957607  \n",
       "4           0.0           0.015638   (-7.121, 813.1]          2.107210  "
      ]
     },
     "execution_count": 153,
     "metadata": {},
     "output_type": "execute_result"
    }
   ],
   "source": [
    "df.head()"
   ]
  },
  {
   "cell_type": "code",
   "execution_count": 166,
   "id": "dba51ae1-aa64-4fe6-95d6-60a9ac14a683",
   "metadata": {},
   "outputs": [],
   "source": [
    "from sklearn.model_selection import train_test_split\n",
    "from sklearn.metrics import accuracy_score\n",
    "x_df = df[['num_of_words_norm','subject_norm']]\n",
    "y_df = df['label']\n",
    "xtrain, xtest, ytrain, ytest = train_test_split(x_df, y_df, random_state=1)"
   ]
  },
  {
   "cell_type": "code",
   "execution_count": 180,
   "id": "0f75cae8-abc9-42f7-af66-e45e41beab35",
   "metadata": {},
   "outputs": [
    {
     "data": {
      "image/png": "[encoded data removed]",
      "text/plain": [
       "<Figure size 640x480 with 1 Axes>"
      ]
     },
     "metadata": {},
     "output_type": "display_data"
    }
   ],
   "source": [
    "plt.scatter(x_df.iloc[:, 0], x_df.iloc[:, 1], c=y_df, s=50, cmap='rainbow')\n",
    "plt.xlabel('num_of_words_norm')\n",
    "plt.ylabel('subject_norm')\n",
    "plt.show()"
   ]
  },
  {
   "cell_type": "markdown",
   "id": "443de6cb-2ce1-45ec-b923-93d7b01cfcdb",
   "metadata": {},
   "source": [
    "### Algoritmo 1"
   ]
  },
  {
   "cell_type": "code",
   "execution_count": 168,
   "id": "dba41d86-3acd-4f76-ac24-4a7b8c2f32fe",
   "metadata": {},
   "outputs": [],
   "source": [
    "from sklearn.ensemble import RandomForestClassifier\n",
    "rf = RandomForestClassifier(n_estimators=1000, random_state=1)\n",
    "rf.fit(xtrain, ytrain)\n",
    "y_pred_rf = rf.predict(xtest)      "
   ]
  },
  {
   "cell_type": "code",
   "execution_count": 169,
   "id": "0f55deaa-58a1-42fa-aada-3f1ab7fc9fc2",
   "metadata": {},
   "outputs": [
    {
     "data": {
      "text/plain": [
       "0.7300761881726932"
      ]
     },
     "execution_count": 169,
     "metadata": {},
     "output_type": "execute_result"
    }
   ],
   "source": [
    "accuracy_score(ytest, y_pred_rf)"
   ]
  },
  {
   "cell_type": "code",
   "execution_count": 170,
   "id": "7756d423-0eba-4558-a153-040f098fed70",
   "metadata": {},
   "outputs": [
    {
     "data": {
      "text/plain": [
       "Text(113.9222222222222, 0.5, 'predicted label')"
      ]
     },
     "execution_count": 170,
     "metadata": {},
     "output_type": "execute_result"
    },
    {
     "data": {
      "image/png": "[encoded data removed]",
      "text/plain": [
       "<Figure size 640x480 with 1 Axes>"
      ]
     },
     "metadata": {},
     "output_type": "display_data"
    }
   ],
   "source": [
    "from sklearn.metrics import confusion_matrix\n",
    "import seaborn as sns\n",
    "mat = confusion_matrix(ytest, y_pred_rf)\n",
    "sns.heatmap(mat.T, square=True, annot=True, fmt='d', cbar=False)\n",
    "plt.xlabel('true label')\n",
    "plt.ylabel('predicted label')"
   ]
  },
  {
   "cell_type": "markdown",
   "id": "c366d6ec-fae5-4bb5-9a65-a91824cc5e4d",
   "metadata": {},
   "source": [
    "### Algoritmo 2"
   ]
  },
  {
   "cell_type": "code",
   "execution_count": 171,
   "id": "e7636b1f-c143-4a10-a7ec-48473f47868d",
   "metadata": {},
   "outputs": [],
   "source": [
    "from sklearn.neighbors import KNeighborsClassifier\n",
    "model = KNeighborsClassifier(n_neighbors=3)\n",
    "model.fit(xtrain, ytrain)\n",
    "\n",
    "y_model = model.predict(xtest)"
   ]
  },
  {
   "cell_type": "code",
   "execution_count": 172,
   "id": "46daf351-c601-45a2-8e05-c54372208fd3",
   "metadata": {},
   "outputs": [
    {
     "data": {
      "text/plain": [
       "0.6940379731527392"
      ]
     },
     "execution_count": 172,
     "metadata": {},
     "output_type": "execute_result"
    }
   ],
   "source": [
    "accuracy_score(ytest, y_model)"
   ]
  },
  {
   "cell_type": "code",
   "execution_count": 173,
   "id": "7dcaa472-86a7-44e8-b3eb-4b99a46bd2ca",
   "metadata": {},
   "outputs": [
    {
     "data": {
      "text/plain": [
       "Text(113.9222222222222, 0.5, 'predicted label')"
      ]
     },
     "execution_count": 173,
     "metadata": {},
     "output_type": "execute_result"
    },
    {
     "data": {
      "image/png": "[encoded data removed]",
      "text/plain": [
       "<Figure size 640x480 with 1 Axes>"
      ]
     },
     "metadata": {},
     "output_type": "display_data"
    }
   ],
   "source": [
    "mat = confusion_matrix(ytest, y_model)\n",
    "sns.heatmap(mat.T, square=True, annot=True, fmt='d', cbar=False)\n",
    "plt.xlabel('true label')\n",
    "plt.ylabel('predicted label')"
   ]
  },
  {
   "cell_type": "markdown",
   "id": "b87a5534-f8b6-4e4f-83c8-9e939b6f40a6",
   "metadata": {},
   "source": [
    "### Algoritmo 3"
   ]
  },
  {
   "cell_type": "code",
   "execution_count": 174,
   "id": "c2addda0-d0a8-4657-97bc-ff83eef47680",
   "metadata": {},
   "outputs": [],
   "source": [
    "from sklearn.svm import SVC\n",
    "svm = SVC()\n",
    "svm.fit(xtrain, ytrain)\n",
    "y_pred_svm = svm.predict(xtest)"
   ]
  },
  {
   "cell_type": "code",
   "execution_count": 175,
   "id": "b2c7ea58-edd8-4cd6-9445-1e4024eece8c",
   "metadata": {},
   "outputs": [
    {
     "data": {
      "text/plain": [
       "0.6856935542387229"
      ]
     },
     "execution_count": 175,
     "metadata": {},
     "output_type": "execute_result"
    }
   ],
   "source": [
    "accuracy_score(ytest, y_pred_svm)\n"
   ]
  },
  {
   "cell_type": "code",
   "execution_count": 176,
   "id": "4a2c987f-dc2f-4d6d-9b61-0ac2c1608562",
   "metadata": {},
   "outputs": [
    {
     "data": {
      "text/plain": [
       "Text(113.9222222222222, 0.5, 'predicted label')"
      ]
     },
     "execution_count": 176,
     "metadata": {},
     "output_type": "execute_result"
    },
    {
     "data": {
      "image/png": "[encoded data removed]",
      "text/plain": [
       "<Figure size 640x480 with 1 Axes>"
      ]
     },
     "metadata": {},
     "output_type": "display_data"
    }
   ],
   "source": [
    "mat = confusion_matrix(ytest, y_pred_svm)\n",
    "sns.heatmap(mat.T, square=True, annot=True, fmt='d', cbar=False)\n",
    "plt.xlabel('true label')\n",
    "plt.ylabel('predicted label')"
   ]
  },
  {
   "cell_type": "markdown",
   "id": "d5e927a5-2d6a-42ed-a718-fdd356d14538",
   "metadata": {},
   "source": [
    "### Algoritmo 4"
   ]
  },
  {
   "cell_type": "code",
   "execution_count": 177,
   "id": "f96a0673-3282-452e-a7b0-e641d9d12e51",
   "metadata": {},
   "outputs": [],
   "source": [
    "from sklearn.linear_model import LogisticRegression\n",
    "log_reg = LogisticRegression()\n",
    "log_reg.fit(xtrain, ytrain)\n",
    "y_pred_log_reg = log_reg.predict(xtest)\n"
   ]
  },
  {
   "cell_type": "code",
   "execution_count": 178,
   "id": "98505b85-1c6d-45c2-bb7d-8eb0ce0088d3",
   "metadata": {},
   "outputs": [
    {
     "data": {
      "text/plain": [
       "0.6241383480469223"
      ]
     },
     "execution_count": 178,
     "metadata": {},
     "output_type": "execute_result"
    }
   ],
   "source": [
    "accuracy_score(ytest, y_pred_log_reg)"
   ]
  },
  {
   "cell_type": "code",
   "execution_count": 181,
   "id": "95e220dd-1d50-4184-b8fb-9adcec208e45",
   "metadata": {},
   "outputs": [
    {
     "data": {
      "text/plain": [
       "Text(113.9222222222222, 0.5, 'predicted label')"
      ]
     },
     "execution_count": 181,
     "metadata": {},
     "output_type": "execute_result"
    },
    {
     "data": {
      "image/png": "[encoded data removed]",
      "text/plain": [
       "<Figure size 640x480 with 1 Axes>"
      ]
     },
     "metadata": {},
     "output_type": "display_data"
    }
   ],
   "source": [
    "mat = confusion_matrix(ytest, y_pred_log_reg)\n",
    "sns.heatmap(mat.T, square=True, annot=True, fmt='d', cbar=False)\n",
    "plt.xlabel('label')\n",
    "plt.ylabel('predicted label')"
   ]
  },
  {
   "cell_type": "code",
   "execution_count": null,
   "id": "13d5685c-4398-48f2-9a62-c42b4434f517",
   "metadata": {},
   "outputs": [],
   "source": []
  }
 ],
 "metadata": {
  "colab": {
   "provenance": []
  },
  "kernelspec": {
   "display_name": "Python 3 (ipykernel)",
   "language": "python",
   "name": "python3"
  },
  "language_info": {
   "codemirror_mode": {
    "name": "ipython",
    "version": 3
   },
   "file_extension": ".py",
   "mimetype": "text/x-python",
   "name": "python",
   "nbconvert_exporter": "python",
   "pygments_lexer": "ipython3",
   "version": "3.12.3"
  }
 },
 "nbformat": 4,
 "nbformat_minor": 5
}
