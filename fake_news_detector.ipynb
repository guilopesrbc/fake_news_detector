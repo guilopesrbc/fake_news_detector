{
 "cells": [
  {
   "cell_type": "markdown",
   "id": "f4f00f97-64ad-4475-a9cb-b9e0ffb2561a",
   "metadata": {
    "id": "f4f00f97-64ad-4475-a9cb-b9e0ffb2561a"
   },
   "source": [
    "# Pré processamento"
   ]
  },
  {
   "cell_type": "code",
   "execution_count": 47,
   "id": "9352d8e8-1510-45b5-88c1-14c4b4dd7216",
   "metadata": {
    "ExecuteTime": {
     "end_time": "2024-07-09T14:34:59.205480Z",
     "start_time": "2024-07-09T14:34:56.439569Z"
    },
    "scrolled": true
   },
   "outputs": [],
   "source": [
    "# Importando as bibliotecas e construindo o dataframe\n",
    "import pandas as pd\n",
    "import matplotlib.pyplot as plt\n",
    "import numpy as np\n",
    "import re\n",
    "import faiss\n",
    "import random\n",
    "from sklearn.impute import KNNImputer\n",
    "from sentence_transformers import SentenceTransformer\n",
    "import mlflow\n",
    "from sklearn.ensemble import RandomForestClassifier\n",
    "from sklearn.neighbors import KNeighborsClassifier\n",
    "from sklearn.svm import SVC\n",
    "from sklearn.linear_model import LogisticRegression\n",
    "from sklearn.metrics import accuracy_score\n",
    "from sklearn.metrics import confusion_matrix\n",
    "from sklearn.model_selection import train_test_split, GridSearchCV\n",
    "import seaborn as sns"
   ]
  },
  {
   "cell_type": "code",
   "execution_count": null,
   "id": "51c04766-683a-4f4e-8617-c2384dc5fd12",
   "metadata": {},
   "outputs": [],
   "source": [
    "# concatenando dois dataframes (um com fake news e outro com noticias verdadeiras)\n",
    "fake_df = pd.read_csv('https://raw.githubusercontent.com/guilopesrbc/fake_news_detector/main/Fake.csv')\n",
    "true_df = pd.read_csv('https://raw.githubusercontent.com/guilopesrbc/fake_news_detector/main/True.csv')\n",
    "# adicionando coluna label, correspondente a veracidade da noticias (1 para verdadeiro e 0 para falsa)\n",
    "fake_df['label'] = 0\n",
    "true_df['label'] = 1\n",
    "\n",
    "combined_df = pd.concat([fake_df, true_df], ignore_index=True)\n",
    "\n",
    "combined_df.to_csv('Combined.csv', index=False)\n",
    "combined_df.reset_index(drop=True,inplace=True)\n",
    "combined_df.head()"
   ]
  },
  {
   "cell_type": "markdown",
   "id": "576566b5-dcd1-4407-852e-089269d7fd58",
   "metadata": {},
   "source": [
    "# Criando coluna num_of_words correspondente ao número de palavras presentes no texto da noticia"
   ]
  },
  {
   "cell_type": "code",
   "execution_count": 4,
   "id": "f929a7a3-8328-4843-b963-c7f68b0c7884",
   "metadata": {},
   "outputs": [],
   "source": [
    "# criando coluna num_of_words correspondente ao número de palavras presentes no texto da noticia\n",
    "import re\n",
    "# regex para substituir caracteres que não forem letras e números\n",
    "regex = r'[^a-zA-Z0-9\\s]'\n",
    "combined_df['text'] = combined_df['text'].map(lambda x: re.sub(regex, '', x))\n",
    "combined_df['num_of_words'] = combined_df['text'].map(lambda x: len(x.split()))"
   ]
  },
  {
   "cell_type": "markdown",
   "id": "7d37d1709a239daf",
   "metadata": {},
   "source": [
    "# Criando nova coluna com texto vetorizado "
   ]
  },
  {
   "cell_type": "code",
   "execution_count": null,
   "id": "eeb294044ed1277c",
   "metadata": {
    "ExecuteTime": {
     "start_time": "2024-06-04T21:16:53.772504Z"
    },
    "jupyter": {
     "is_executing": true
    }
   },
   "outputs": [],
   "source": [
    "# Initialize the Sentence Transformer model\n",
    "model = SentenceTransformer('paraphrase-MiniLM-L6-v2')\n",
    "\n",
    "# Function to vectorize the text\n",
    "def vectorize_text(text):\n",
    "    return model.encode(text)\n",
    "\n",
    "# Apply the function to create a new column with vectorized text\n",
    "combined_df['text_vector'] = combined_df['text'].map(vectorize_text)\n",
    "combined_df.to_csv('vectorized_texts.csv', index=False)"
   ]
  },
  {
   "cell_type": "markdown",
   "id": "18c714be",
   "metadata": {},
   "source": [
    "# Reading from csv file "
   ]
  },
  {
   "cell_type": "code",
   "execution_count": 3,
   "id": "53a47c31",
   "metadata": {
    "ExecuteTime": {
     "end_time": "2024-07-08T04:02:27.770085Z",
     "start_time": "2024-07-08T04:02:27.095471Z"
    }
   },
   "outputs": [],
   "source": [
    "# Função para converter strings de vetores em numpy arrays de forma segura\n",
    "def str_to_array(vector_str):\n",
    "    try:\n",
    "        # Remover caracteres desnecessários e converter a string para um numpy array\n",
    "        cleaned_str = vector_str.replace('\\n', '').replace('[', '').replace(']', '').replace('  ', ' ')\n",
    "        return np.fromstring(cleaned_str, sep=' ')\n",
    "    except Exception as e:\n",
    "        print(f\"Error converting string to array: {e}\")\n",
    "        return np.nan\n",
    "\n",
    "def convert_text_vectors_from_str_to_np_arr():\n",
    "    # Certifique-se de que os vetores de texto sejam numpy arrays, não strings\n",
    "    df['text_vector'] = df['text_vector'].map(str_to_array) if isinstance(df['text_vector'][0], str) else df['text_vector']\n",
    "\n",
    "    # Verifique se todos os vetores têm o mesmo tamanho\n",
    "    vector_length = len(df['text_vector'][0])\n",
    "    df['text_vector'] = df['text_vector'].map(lambda x: x if len(x) == vector_length else np.nan).dropna()"
   ]
  },
  {
   "cell_type": "code",
   "execution_count": 4,
   "id": "5d6f7505d4f9e3a5",
   "metadata": {
    "ExecuteTime": {
     "end_time": "2024-07-08T04:02:43.284715Z",
     "start_time": "2024-07-08T04:02:29.923971Z"
    },
    "scrolled": true
   },
   "outputs": [
    {
     "data": {
      "text/html": [
       "<div>\n",
       "<style scoped>\n",
       "    .dataframe tbody tr th:only-of-type {\n",
       "        vertical-align: middle;\n",
       "    }\n",
       "\n",
       "    .dataframe tbody tr th {\n",
       "        vertical-align: top;\n",
       "    }\n",
       "\n",
       "    .dataframe thead th {\n",
       "        text-align: right;\n",
       "    }\n",
       "</style>\n",
       "<table border=\"1\" class=\"dataframe\">\n",
       "  <thead>\n",
       "    <tr style=\"text-align: right;\">\n",
       "      <th></th>\n",
       "      <th>title</th>\n",
       "      <th>text</th>\n",
       "      <th>subject</th>\n",
       "      <th>date</th>\n",
       "      <th>label</th>\n",
       "      <th>num_of_words</th>\n",
       "      <th>text_vector</th>\n",
       "    </tr>\n",
       "  </thead>\n",
       "  <tbody>\n",
       "    <tr>\n",
       "      <th>0</th>\n",
       "      <td>Donald Trump Sends Out Embarrassing New Year’...</td>\n",
       "      <td>Donald Trump just couldn t wish all Americans ...</td>\n",
       "      <td>News</td>\n",
       "      <td>December 31, 2017</td>\n",
       "      <td>0</td>\n",
       "      <td>492</td>\n",
       "      <td>[-0.08635634, 0.16764247, 0.40040964, -0.36150...</td>\n",
       "    </tr>\n",
       "    <tr>\n",
       "      <th>1</th>\n",
       "      <td>Drunk Bragging Trump Staffer Started Russian ...</td>\n",
       "      <td>House Intelligence Committee Chairman Devin Nu...</td>\n",
       "      <td>News</td>\n",
       "      <td>December 31, 2017</td>\n",
       "      <td>0</td>\n",
       "      <td>305</td>\n",
       "      <td>[0.00671101, 0.0081033, -0.20852128, -0.087897...</td>\n",
       "    </tr>\n",
       "    <tr>\n",
       "      <th>2</th>\n",
       "      <td>Sheriff David Clarke Becomes An Internet Joke...</td>\n",
       "      <td>On Friday it was revealed that former Milwauke...</td>\n",
       "      <td>News</td>\n",
       "      <td>December 30, 2017</td>\n",
       "      <td>0</td>\n",
       "      <td>579</td>\n",
       "      <td>[-0.362045884, -0.123025492, -0.551379442, -0....</td>\n",
       "    </tr>\n",
       "    <tr>\n",
       "      <th>3</th>\n",
       "      <td>Trump Is So Obsessed He Even Has Obama’s Name...</td>\n",
       "      <td>On Christmas day Donald Trump announced that h...</td>\n",
       "      <td>News</td>\n",
       "      <td>December 29, 2017</td>\n",
       "      <td>0</td>\n",
       "      <td>441</td>\n",
       "      <td>[0.0173586905, 0.00204306096, 0.0736115128, 0....</td>\n",
       "    </tr>\n",
       "    <tr>\n",
       "      <th>4</th>\n",
       "      <td>Pope Francis Just Called Out Donald Trump Dur...</td>\n",
       "      <td>Pope Francis used his annual Christmas Day mes...</td>\n",
       "      <td>News</td>\n",
       "      <td>December 25, 2017</td>\n",
       "      <td>0</td>\n",
       "      <td>420</td>\n",
       "      <td>[-0.079019241, 0.473764718, 0.155274183, -0.05...</td>\n",
       "    </tr>\n",
       "  </tbody>\n",
       "</table>\n",
       "</div>"
      ],
      "text/plain": [
       "                                               title  \\\n",
       "0   Donald Trump Sends Out Embarrassing New Year’...   \n",
       "1   Drunk Bragging Trump Staffer Started Russian ...   \n",
       "2   Sheriff David Clarke Becomes An Internet Joke...   \n",
       "3   Trump Is So Obsessed He Even Has Obama’s Name...   \n",
       "4   Pope Francis Just Called Out Donald Trump Dur...   \n",
       "\n",
       "                                                text subject  \\\n",
       "0  Donald Trump just couldn t wish all Americans ...    News   \n",
       "1  House Intelligence Committee Chairman Devin Nu...    News   \n",
       "2  On Friday it was revealed that former Milwauke...    News   \n",
       "3  On Christmas day Donald Trump announced that h...    News   \n",
       "4  Pope Francis used his annual Christmas Day mes...    News   \n",
       "\n",
       "                date  label  num_of_words  \\\n",
       "0  December 31, 2017      0           492   \n",
       "1  December 31, 2017      0           305   \n",
       "2  December 30, 2017      0           579   \n",
       "3  December 29, 2017      0           441   \n",
       "4  December 25, 2017      0           420   \n",
       "\n",
       "                                         text_vector  \n",
       "0  [-0.08635634, 0.16764247, 0.40040964, -0.36150...  \n",
       "1  [0.00671101, 0.0081033, -0.20852128, -0.087897...  \n",
       "2  [-0.362045884, -0.123025492, -0.551379442, -0....  \n",
       "3  [0.0173586905, 0.00204306096, 0.0736115128, 0....  \n",
       "4  [-0.079019241, 0.473764718, 0.155274183, -0.05...  "
      ]
     },
     "execution_count": 4,
     "metadata": {},
     "output_type": "execute_result"
    }
   ],
   "source": [
    "combined_df = pd.read_csv('vectorized.csv')\n",
    "df = combined_df\n",
    "convert_text_vectors_from_str_to_np_arr()\n",
    "combined_df.head()"
   ]
  },
  {
   "cell_type": "markdown",
   "id": "RAGOlajxjeVa",
   "metadata": {
    "id": "RAGOlajxjeVa"
   },
   "source": [
    "# Setando campos como categóricos"
   ]
  },
  {
   "cell_type": "code",
   "execution_count": 5,
   "id": "iQjPIxrDjsVf",
   "metadata": {
    "ExecuteTime": {
     "end_time": "2024-07-08T04:02:45.589654Z",
     "start_time": "2024-07-08T04:02:45.335147Z"
    },
    "colab": {
     "base_uri": "https://localhost:8080/"
    },
    "id": "iQjPIxrDjsVf",
    "outputId": "85494ed3-eb18-4fb7-a3a6-a23195653f72",
    "scrolled": true
   },
   "outputs": [
    {
     "data": {
      "text/plain": [
       "title           object\n",
       "text            object\n",
       "subject         object\n",
       "date            object\n",
       "label            int64\n",
       "num_of_words     int64\n",
       "text_vector     object\n",
       "dtype: object"
      ]
     },
     "execution_count": 5,
     "metadata": {},
     "output_type": "execute_result"
    }
   ],
   "source": [
    "combined_df.dtypes"
   ]
  },
  {
   "cell_type": "code",
   "execution_count": 6,
   "id": "_mqkbvISlhIT",
   "metadata": {
    "ExecuteTime": {
     "end_time": "2024-07-08T04:02:47.067383Z",
     "start_time": "2024-07-08T04:02:46.870422Z"
    },
    "id": "_mqkbvISlhIT"
   },
   "outputs": [],
   "source": [
    "# modificando a coluna subject\n",
    "combined_df.loc[combined_df['subject'].isin(['politics', 'Government News', 'left-news']), 'subject'] = 'politics'\n",
    "combined_df.loc[combined_df['subject'].isin(['US_News', 'News', 'Middle-east']), 'subject'] = 'worldnews'\n",
    "combined_df.loc[combined_df['subject'] == 'politicsNews', 'subject'] = 'politics'\n",
    "combined_df['subject'] = combined_df['subject'].astype('category')"
   ]
  },
  {
   "cell_type": "code",
   "execution_count": 7,
   "id": "Swg9YjI1lvNm",
   "metadata": {
    "ExecuteTime": {
     "end_time": "2024-07-08T04:02:48.274101Z",
     "start_time": "2024-07-08T04:02:48.058733Z"
    },
    "colab": {
     "base_uri": "https://localhost:8080/"
    },
    "id": "Swg9YjI1lvNm",
    "outputId": "35b62efb-a4e9-4817-ef25-8ddc8b453f27"
   },
   "outputs": [
    {
     "data": {
      "text/plain": [
       "title             object\n",
       "text              object\n",
       "subject         category\n",
       "date              object\n",
       "label              int64\n",
       "num_of_words       int64\n",
       "text_vector       object\n",
       "dtype: object"
      ]
     },
     "execution_count": 7,
     "metadata": {},
     "output_type": "execute_result"
    }
   ],
   "source": [
    "combined_df.dtypes"
   ]
  },
  {
   "cell_type": "code",
   "execution_count": 8,
   "id": "67f1Tx1Sl0uK",
   "metadata": {
    "ExecuteTime": {
     "end_time": "2024-07-08T04:02:49.669199Z",
     "start_time": "2024-07-08T04:02:49.565681Z"
    },
    "id": "67f1Tx1Sl0uK"
   },
   "outputs": [],
   "source": [
    "combined_df['num_subjects'] = combined_df['subject'].cat.codes"
   ]
  },
  {
   "cell_type": "code",
   "execution_count": 9,
   "id": "xbulBfpsmoxN",
   "metadata": {
    "ExecuteTime": {
     "end_time": "2024-07-08T04:02:50.701547Z",
     "start_time": "2024-07-08T04:02:50.609384Z"
    },
    "colab": {
     "base_uri": "https://localhost:8080/"
    },
    "id": "xbulBfpsmoxN",
    "outputId": "41cba873-4ad6-4524-e660-e10047e40180"
   },
   "outputs": [
    {
     "data": {
      "text/plain": [
       "title             object\n",
       "text              object\n",
       "subject         category\n",
       "date              object\n",
       "label              int64\n",
       "num_of_words       int64\n",
       "text_vector       object\n",
       "num_subjects        int8\n",
       "dtype: object"
      ]
     },
     "execution_count": 9,
     "metadata": {},
     "output_type": "execute_result"
    }
   ],
   "source": [
    "combined_df.dtypes"
   ]
  },
  {
   "cell_type": "markdown",
   "id": "e32cf869-2e8d-4713-a981-94b3403b06a2",
   "metadata": {
    "id": "e32cf869-2e8d-4713-a981-94b3403b06a2"
   },
   "source": [
    "# Verificando valores nulos e vazios"
   ]
  },
  {
   "cell_type": "code",
   "execution_count": 10,
   "id": "c6486bd3e3c44c4",
   "metadata": {
    "ExecuteTime": {
     "end_time": "2024-07-08T04:02:53.158547Z",
     "start_time": "2024-07-08T04:02:52.953427Z"
    },
    "colab": {
     "base_uri": "https://localhost:8080/"
    },
    "id": "c6486bd3e3c44c4",
    "outputId": "897853a4-d580-4452-cfcd-635f91a1399b"
   },
   "outputs": [
    {
     "data": {
      "text/plain": [
       "title           0\n",
       "text            0\n",
       "subject         0\n",
       "date            0\n",
       "label           0\n",
       "num_of_words    0\n",
       "text_vector     0\n",
       "num_subjects    0\n",
       "dtype: int64"
      ]
     },
     "execution_count": 10,
     "metadata": {},
     "output_type": "execute_result"
    }
   ],
   "source": [
    "# verificando valores nulo\n",
    "combined_df.isnull().sum()"
   ]
  },
  {
   "cell_type": "code",
   "execution_count": 11,
   "id": "f2568eca-2d20-4e75-8cd5-474ad652237d",
   "metadata": {
    "ExecuteTime": {
     "end_time": "2024-07-08T04:02:57.836770Z",
     "start_time": "2024-07-08T04:02:54.276970Z"
    },
    "colab": {
     "base_uri": "https://localhost:8080/"
    },
    "id": "f2568eca-2d20-4e75-8cd5-474ad652237d",
    "outputId": "ca0e2d36-5a03-43b3-8acc-ef2e7e44c7b5"
   },
   "outputs": [
    {
     "data": {
      "text/plain": [
       "0"
      ]
     },
     "execution_count": 11,
     "metadata": {},
     "output_type": "execute_result"
    }
   ],
   "source": [
    "# verificando valores vazios de titulo\n",
    "remove_spaces = lambda x: ''.join(x.split()) if type(x) == str else x\n",
    "empty_values = combined_df.map(remove_spaces)\n",
    "empty_values['title'] = empty_values['title'] == ''\n",
    "len(empty_values[empty_values['title'] == True])"
   ]
  },
  {
   "cell_type": "code",
   "execution_count": 12,
   "id": "2f793eb2-1eb3-4f86-a58f-03a3f7ae7469",
   "metadata": {
    "ExecuteTime": {
     "end_time": "2024-07-08T04:03:01.958144Z",
     "start_time": "2024-07-08T04:02:57.848696Z"
    },
    "colab": {
     "base_uri": "https://localhost:8080/"
    },
    "id": "2f793eb2-1eb3-4f86-a58f-03a3f7ae7469",
    "outputId": "a35bcefc-8621-4220-f869-b24db713b26f"
   },
   "outputs": [
    {
     "data": {
      "text/plain": [
       "631"
      ]
     },
     "execution_count": 12,
     "metadata": {},
     "output_type": "execute_result"
    }
   ],
   "source": [
    "# verificando valores vazios de texto\n",
    "remove_spaces = lambda x: ''.join(x.split()) if type(x) == str else x\n",
    "empty_values = combined_df.map(remove_spaces)\n",
    "empty_values['text'] = empty_values['text'] == ''\n",
    "len(empty_values[empty_values['text'] == True])"
   ]
  },
  {
   "cell_type": "code",
   "execution_count": 13,
   "id": "nsq1FoSBimsI",
   "metadata": {
    "ExecuteTime": {
     "end_time": "2024-07-08T04:03:05.515172Z",
     "start_time": "2024-07-08T04:03:01.971612Z"
    },
    "colab": {
     "base_uri": "https://localhost:8080/"
    },
    "id": "nsq1FoSBimsI",
    "outputId": "ff0f5917-c4fa-4f6a-d193-bf2f13340929"
   },
   "outputs": [
    {
     "data": {
      "text/plain": [
       "0"
      ]
     },
     "execution_count": 13,
     "metadata": {},
     "output_type": "execute_result"
    }
   ],
   "source": [
    "# verificando valores vazios de tipo de conteúdo\n",
    "remove_spaces = lambda x: ''.join(x.split()) if type(x) == str else x\n",
    "empty_values = combined_df.map(remove_spaces)\n",
    "empty_values['subject'] = empty_values['subject'] == ''\n",
    "len(empty_values[empty_values['subject'] == True])"
   ]
  },
  {
   "cell_type": "code",
   "execution_count": 14,
   "id": "usVlyjUTmNZN",
   "metadata": {
    "ExecuteTime": {
     "end_time": "2024-07-08T04:03:05.704638Z",
     "start_time": "2024-07-08T04:03:05.531997Z"
    },
    "colab": {
     "base_uri": "https://localhost:8080/"
    },
    "id": "usVlyjUTmNZN",
    "outputId": "fa8b20cd-e869-40d2-d2af-1ce46290e78d"
   },
   "outputs": [
    {
     "data": {
      "text/plain": [
       "631"
      ]
     },
     "execution_count": 14,
     "metadata": {},
     "output_type": "execute_result"
    }
   ],
   "source": [
    "# setando valores num_of_words iguais a 0 para nulo\n",
    "df = combined_df\n",
    "df['num_of_words'] = df['num_of_words'].map(lambda x: np.nan if x == 0 else x)\n",
    "df['num_of_words'].isnull().sum()"
   ]
  },
  {
   "cell_type": "markdown",
   "id": "bbddb4f4-7b74-47c2-97e7-0dd07989b07a",
   "metadata": {},
   "source": [
    "# Dividindo o dataset em batches para otimizar o uso do algoritmo KNN  "
   ]
  },
  {
   "cell_type": "code",
   "execution_count": 15,
   "id": "CSZp00bwgcrD",
   "metadata": {
    "ExecuteTime": {
     "end_time": "2024-07-08T04:03:05.971223Z",
     "start_time": "2024-07-08T04:03:05.707814Z"
    },
    "colab": {
     "base_uri": "https://localhost:8080/",
     "height": 180
    },
    "id": "CSZp00bwgcrD",
    "outputId": "ebd21a6b-5769-42cf-f0a5-aa92dc200821"
   },
   "outputs": [
    {
     "name": "stdout",
     "output_type": "stream",
     "text": [
      "title            0\n",
      "text             0\n",
      "subject          0\n",
      "date             0\n",
      "label            0\n",
      "num_of_words    56\n",
      "text_vector      0\n",
      "num_subjects     0\n",
      "dtype: int64\n",
      "title            0\n",
      "text             0\n",
      "subject          0\n",
      "date             0\n",
      "label            0\n",
      "num_of_words    73\n",
      "text_vector      0\n",
      "num_subjects     0\n",
      "dtype: int64\n",
      "title            0\n",
      "text             0\n",
      "subject          0\n",
      "date             0\n",
      "label            0\n",
      "num_of_words    67\n",
      "text_vector      0\n",
      "num_subjects     0\n",
      "dtype: int64\n",
      "title            0\n",
      "text             0\n",
      "subject          0\n",
      "date             0\n",
      "label            0\n",
      "num_of_words    69\n",
      "text_vector      0\n",
      "num_subjects     0\n",
      "dtype: int64\n",
      "title            0\n",
      "text             0\n",
      "subject          0\n",
      "date             0\n",
      "label            0\n",
      "num_of_words    69\n",
      "text_vector      0\n",
      "num_subjects     0\n",
      "dtype: int64\n",
      "title            0\n",
      "text             0\n",
      "subject          0\n",
      "date             0\n",
      "label            0\n",
      "num_of_words    83\n",
      "text_vector      0\n",
      "num_subjects     0\n",
      "dtype: int64\n",
      "title            0\n",
      "text             0\n",
      "subject          0\n",
      "date             0\n",
      "label            0\n",
      "num_of_words    74\n",
      "text_vector      0\n",
      "num_subjects     0\n",
      "dtype: int64\n",
      "title            0\n",
      "text             0\n",
      "subject          0\n",
      "date             0\n",
      "label            0\n",
      "num_of_words    81\n",
      "text_vector      0\n",
      "num_subjects     0\n",
      "dtype: int64\n",
      "title            0\n",
      "text             0\n",
      "subject          0\n",
      "date             0\n",
      "label            0\n",
      "num_of_words    59\n",
      "text_vector      0\n",
      "num_subjects     0\n",
      "dtype: int64\n"
     ]
    }
   ],
   "source": [
    "batch_size = 5000\n",
    "df_numpy = df.to_numpy()\n",
    "\n",
    "# Embaralhar os dados,\n",
    "np.random.shuffle(df_numpy)\n",
    "# Dividir o dataset em batches,\n",
    "n_batches = int(np.ceil(df_numpy.shape[0] / batch_size))  # Número de batches\n",
    "batches = np.array_split(df_numpy, n_batches)\n",
    "batches_df = [pd.DataFrame(batch, columns=df.columns) for batch in batches]\n",
    "df = pd.DataFrame(df_numpy, columns=df.columns)\n",
    "\n",
    "for batch in batches_df:\n",
    "    print(batch.isnull().sum())"
   ]
  },
  {
   "cell_type": "code",
   "execution_count": 16,
   "id": "eZk4ITbHhdl8",
   "metadata": {
    "ExecuteTime": {
     "end_time": "2024-07-08T04:03:07.721779Z",
     "start_time": "2024-07-08T04:03:05.974247Z"
    },
    "id": "eZk4ITbHhdl8"
   },
   "outputs": [],
   "source": [
    "imputer = KNNImputer(n_neighbors=3)\n",
    "df_num_of_words_knn = [pd.DataFrame(imputer.fit_transform(batch[['num_subjects', 'num_of_words', 'label']]), columns=df[['num_subjects', 'num_of_words', 'label']].columns) for batch in batches_df]\n"
   ]
  },
  {
   "cell_type": "code",
   "execution_count": 17,
   "id": "48a67031-e013-4628-921a-0451b1a2a970",
   "metadata": {
    "ExecuteTime": {
     "end_time": "2024-07-08T04:03:07.933256Z",
     "start_time": "2024-07-08T04:03:07.726797Z"
    }
   },
   "outputs": [
    {
     "name": "stdout",
     "output_type": "stream",
     "text": [
      "num_subjects    0\n",
      "num_of_words    0\n",
      "label           0\n",
      "dtype: int64\n",
      "num_subjects    0\n",
      "num_of_words    0\n",
      "label           0\n",
      "dtype: int64\n",
      "num_subjects    0\n",
      "num_of_words    0\n",
      "label           0\n",
      "dtype: int64\n",
      "num_subjects    0\n",
      "num_of_words    0\n",
      "label           0\n",
      "dtype: int64\n",
      "num_subjects    0\n",
      "num_of_words    0\n",
      "label           0\n",
      "dtype: int64\n",
      "num_subjects    0\n",
      "num_of_words    0\n",
      "label           0\n",
      "dtype: int64\n",
      "num_subjects    0\n",
      "num_of_words    0\n",
      "label           0\n",
      "dtype: int64\n",
      "num_subjects    0\n",
      "num_of_words    0\n",
      "label           0\n",
      "dtype: int64\n",
      "num_subjects    0\n",
      "num_of_words    0\n",
      "label           0\n",
      "dtype: int64\n"
     ]
    }
   ],
   "source": [
    "df_concatened = pd.DataFrame()\n",
    "for batch in df_num_of_words_knn:\n",
    "    df_concatened = pd.concat([df_concatened, batch], ignore_index=True)\n",
    "    print(batch.isnull().sum())"
   ]
  },
  {
   "cell_type": "code",
   "execution_count": 18,
   "id": "53079576-f596-4b2f-9a34-82c85fe469c6",
   "metadata": {
    "ExecuteTime": {
     "end_time": "2024-07-08T04:03:08.146591Z",
     "start_time": "2024-07-08T04:03:07.939060Z"
    }
   },
   "outputs": [
    {
     "data": {
      "text/plain": [
       "title           0\n",
       "text            0\n",
       "subject         0\n",
       "date            0\n",
       "label           0\n",
       "num_of_words    0\n",
       "text_vector     0\n",
       "num_subjects    0\n",
       "dtype: int64"
      ]
     },
     "execution_count": 18,
     "metadata": {},
     "output_type": "execute_result"
    }
   ],
   "source": [
    "df['num_of_words'] = df_concatened['num_of_words']\n",
    "df.isnull().sum()"
   ]
  },
  {
   "cell_type": "markdown",
   "id": "f7efff11-ef48-4dff-9c89-3f271a903b22",
   "metadata": {
    "id": "f7efff11-ef48-4dff-9c89-3f271a903b22"
   },
   "source": [
    "# Normalização"
   ]
  },
  {
   "cell_type": "code",
   "execution_count": 19,
   "id": "2687ba42-7b89-42a3-9863-c5d04e4d88f7",
   "metadata": {
    "ExecuteTime": {
     "end_time": "2024-07-08T04:03:08.224342Z",
     "start_time": "2024-07-08T04:03:08.156139Z"
    },
    "colab": {
     "base_uri": "https://localhost:8080/",
     "height": 162
    },
    "id": "2687ba42-7b89-42a3-9863-c5d04e4d88f7",
    "outputId": "e39ab2be-6a71-49aa-b48d-799ef80f5538"
   },
   "outputs": [
    {
     "data": {
      "text/html": [
       "<div>\n",
       "<style scoped>\n",
       "    .dataframe tbody tr th:only-of-type {\n",
       "        vertical-align: middle;\n",
       "    }\n",
       "\n",
       "    .dataframe tbody tr th {\n",
       "        vertical-align: top;\n",
       "    }\n",
       "\n",
       "    .dataframe thead th {\n",
       "        text-align: right;\n",
       "    }\n",
       "</style>\n",
       "<table border=\"1\" class=\"dataframe\">\n",
       "  <thead>\n",
       "    <tr style=\"text-align: right;\">\n",
       "      <th></th>\n",
       "      <th>title</th>\n",
       "      <th>text</th>\n",
       "      <th>subject</th>\n",
       "      <th>date</th>\n",
       "      <th>label</th>\n",
       "      <th>num_of_words</th>\n",
       "      <th>text_vector</th>\n",
       "      <th>num_subjects</th>\n",
       "    </tr>\n",
       "  </thead>\n",
       "  <tbody>\n",
       "    <tr>\n",
       "      <th>0</th>\n",
       "      <td>Italy adopts living wills allowing patients to...</td>\n",
       "      <td>ROME Reuters  Italy s Senate passed into law o...</td>\n",
       "      <td>worldnews</td>\n",
       "      <td>December 14, 2017</td>\n",
       "      <td>1</td>\n",
       "      <td>406.0</td>\n",
       "      <td>[-0.00262323, 0.19649883, -0.34882462, -0.0781...</td>\n",
       "      <td>1</td>\n",
       "    </tr>\n",
       "    <tr>\n",
       "      <th>1</th>\n",
       "      <td>Trump's Strategic and Policy Forum to disband:...</td>\n",
       "      <td>Reuters  Members of US President Donald Trumps...</td>\n",
       "      <td>politics</td>\n",
       "      <td>August 16, 2017</td>\n",
       "      <td>1</td>\n",
       "      <td>27.0</td>\n",
       "      <td>[0.407222509, -0.156554639, 0.0765338168, 0.04...</td>\n",
       "      <td>0</td>\n",
       "    </tr>\n",
       "    <tr>\n",
       "      <th>2</th>\n",
       "      <td>When The View’s WHOOPI GOLDBERG Told Hillary W...</td>\n",
       "      <td>The sympathetic and borderline communist women...</td>\n",
       "      <td>politics</td>\n",
       "      <td>Sep 14, 2017</td>\n",
       "      <td>0</td>\n",
       "      <td>167.0</td>\n",
       "      <td>[0.116695888, -0.0540213361, 0.135192841, 0.18...</td>\n",
       "      <td>0</td>\n",
       "    </tr>\n",
       "    <tr>\n",
       "      <th>3</th>\n",
       "      <td>BREAKING: D.C. Driver Plows Into Capitol Polic...</td>\n",
       "      <td>It happened around 930 am at the 100 block of ...</td>\n",
       "      <td>politics</td>\n",
       "      <td>Mar 29, 2017</td>\n",
       "      <td>0</td>\n",
       "      <td>59.0</td>\n",
       "      <td>[0.06764822, 0.02382677, -0.13299377, 0.187047...</td>\n",
       "      <td>0</td>\n",
       "    </tr>\n",
       "    <tr>\n",
       "      <th>4</th>\n",
       "      <td>Scottish government recommends rejection of EU...</td>\n",
       "      <td>EDINBURGH Reuters  Scotland s devolved governm...</td>\n",
       "      <td>worldnews</td>\n",
       "      <td>September 12, 2017</td>\n",
       "      <td>1</td>\n",
       "      <td>405.0</td>\n",
       "      <td>[0.187226713, 0.187935397, 0.12457943, -0.3222...</td>\n",
       "      <td>1</td>\n",
       "    </tr>\n",
       "    <tr>\n",
       "      <th>...</th>\n",
       "      <td>...</td>\n",
       "      <td>...</td>\n",
       "      <td>...</td>\n",
       "      <td>...</td>\n",
       "      <td>...</td>\n",
       "      <td>...</td>\n",
       "      <td>...</td>\n",
       "      <td>...</td>\n",
       "    </tr>\n",
       "    <tr>\n",
       "      <th>44893</th>\n",
       "      <td>Trump puts Goldman Sachs in spotlight, for bet...</td>\n",
       "      <td>Reuters  No Wall Street firm is set to do bett...</td>\n",
       "      <td>politics</td>\n",
       "      <td>December 12, 2016</td>\n",
       "      <td>1</td>\n",
       "      <td>745.0</td>\n",
       "      <td>[0.0996656418, -0.459116071, 0.103279904, 0.09...</td>\n",
       "      <td>0</td>\n",
       "    </tr>\n",
       "    <tr>\n",
       "      <th>44894</th>\n",
       "      <td>WATCH: Ethics Expert BUSTS Kellyanne Conway F...</td>\n",
       "      <td>Kellyanne Conway advertised Ivanka Trump s clo...</td>\n",
       "      <td>worldnews</td>\n",
       "      <td>February 9, 2017</td>\n",
       "      <td>0</td>\n",
       "      <td>478.0</td>\n",
       "      <td>[-0.0206188597, -0.161465749, -0.0739820376, 0...</td>\n",
       "      <td>1</td>\n",
       "    </tr>\n",
       "    <tr>\n",
       "      <th>44895</th>\n",
       "      <td>Trump Posts Fox News Story Using Anonymous So...</td>\n",
       "      <td>Donald Trump has been on Twitter for nearly 48...</td>\n",
       "      <td>worldnews</td>\n",
       "      <td>May 30, 2017</td>\n",
       "      <td>0</td>\n",
       "      <td>553.0</td>\n",
       "      <td>[-0.270182192, -0.340853989, -0.0663293302, -0...</td>\n",
       "      <td>1</td>\n",
       "    </tr>\n",
       "    <tr>\n",
       "      <th>44896</th>\n",
       "      <td>Fiore: Bundy Ranch Case Drags on Because ‘FBI ...</td>\n",
       "      <td>21st Century Wire says Nevada Assemblywoman Mi...</td>\n",
       "      <td>worldnews</td>\n",
       "      <td>August 8, 2017</td>\n",
       "      <td>0</td>\n",
       "      <td>170.0</td>\n",
       "      <td>[-0.494035572, -0.563298583, -0.0322932005, -0...</td>\n",
       "      <td>1</td>\n",
       "    </tr>\n",
       "    <tr>\n",
       "      <th>44897</th>\n",
       "      <td>UNBELIEVABLE: OBAMA Stands Firm On Taking Rand...</td>\n",
       "      <td>This isn t the first time Obama left an import...</td>\n",
       "      <td>politics</td>\n",
       "      <td>Nov 24, 2015</td>\n",
       "      <td>0</td>\n",
       "      <td>671.0</td>\n",
       "      <td>[0.0353199616, 0.167871162, -0.100282013, 0.02...</td>\n",
       "      <td>0</td>\n",
       "    </tr>\n",
       "  </tbody>\n",
       "</table>\n",
       "<p>44898 rows × 8 columns</p>\n",
       "</div>"
      ],
      "text/plain": [
       "                                                   title  \\\n",
       "0      Italy adopts living wills allowing patients to...   \n",
       "1      Trump's Strategic and Policy Forum to disband:...   \n",
       "2      When The View’s WHOOPI GOLDBERG Told Hillary W...   \n",
       "3      BREAKING: D.C. Driver Plows Into Capitol Polic...   \n",
       "4      Scottish government recommends rejection of EU...   \n",
       "...                                                  ...   \n",
       "44893  Trump puts Goldman Sachs in spotlight, for bet...   \n",
       "44894   WATCH: Ethics Expert BUSTS Kellyanne Conway F...   \n",
       "44895   Trump Posts Fox News Story Using Anonymous So...   \n",
       "44896  Fiore: Bundy Ranch Case Drags on Because ‘FBI ...   \n",
       "44897  UNBELIEVABLE: OBAMA Stands Firm On Taking Rand...   \n",
       "\n",
       "                                                    text    subject  \\\n",
       "0      ROME Reuters  Italy s Senate passed into law o...  worldnews   \n",
       "1      Reuters  Members of US President Donald Trumps...   politics   \n",
       "2      The sympathetic and borderline communist women...   politics   \n",
       "3      It happened around 930 am at the 100 block of ...   politics   \n",
       "4      EDINBURGH Reuters  Scotland s devolved governm...  worldnews   \n",
       "...                                                  ...        ...   \n",
       "44893  Reuters  No Wall Street firm is set to do bett...   politics   \n",
       "44894  Kellyanne Conway advertised Ivanka Trump s clo...  worldnews   \n",
       "44895  Donald Trump has been on Twitter for nearly 48...  worldnews   \n",
       "44896  21st Century Wire says Nevada Assemblywoman Mi...  worldnews   \n",
       "44897  This isn t the first time Obama left an import...   politics   \n",
       "\n",
       "                      date label  num_of_words  \\\n",
       "0       December 14, 2017      1         406.0   \n",
       "1         August 16, 2017      1          27.0   \n",
       "2             Sep 14, 2017     0         167.0   \n",
       "3             Mar 29, 2017     0          59.0   \n",
       "4      September 12, 2017      1         405.0   \n",
       "...                    ...   ...           ...   \n",
       "44893   December 12, 2016      1         745.0   \n",
       "44894     February 9, 2017     0         478.0   \n",
       "44895         May 30, 2017     0         553.0   \n",
       "44896       August 8, 2017     0         170.0   \n",
       "44897         Nov 24, 2015     0         671.0   \n",
       "\n",
       "                                             text_vector num_subjects  \n",
       "0      [-0.00262323, 0.19649883, -0.34882462, -0.0781...            1  \n",
       "1      [0.407222509, -0.156554639, 0.0765338168, 0.04...            0  \n",
       "2      [0.116695888, -0.0540213361, 0.135192841, 0.18...            0  \n",
       "3      [0.06764822, 0.02382677, -0.13299377, 0.187047...            0  \n",
       "4      [0.187226713, 0.187935397, 0.12457943, -0.3222...            1  \n",
       "...                                                  ...          ...  \n",
       "44893  [0.0996656418, -0.459116071, 0.103279904, 0.09...            0  \n",
       "44894  [-0.0206188597, -0.161465749, -0.0739820376, 0...            1  \n",
       "44895  [-0.270182192, -0.340853989, -0.0663293302, -0...            1  \n",
       "44896  [-0.494035572, -0.563298583, -0.0322932005, -0...            1  \n",
       "44897  [0.0353199616, 0.167871162, -0.100282013, 0.02...            0  \n",
       "\n",
       "[44898 rows x 8 columns]"
      ]
     },
     "execution_count": 19,
     "metadata": {},
     "output_type": "execute_result"
    }
   ],
   "source": [
    "df"
   ]
  },
  {
   "cell_type": "code",
   "execution_count": 20,
   "id": "497986cc-bd8b-4209-944d-e0e09ca17394",
   "metadata": {
    "ExecuteTime": {
     "end_time": "2024-07-08T04:03:08.314435Z",
     "start_time": "2024-07-08T04:03:08.227099Z"
    },
    "colab": {
     "base_uri": "https://localhost:8080/",
     "height": 206
    },
    "id": "497986cc-bd8b-4209-944d-e0e09ca17394",
    "outputId": "183a1104-d366-4c6c-b7df-235e81e9e846"
   },
   "outputs": [
    {
     "data": {
      "text/html": [
       "<div>\n",
       "<style scoped>\n",
       "    .dataframe tbody tr th:only-of-type {\n",
       "        vertical-align: middle;\n",
       "    }\n",
       "\n",
       "    .dataframe tbody tr th {\n",
       "        vertical-align: top;\n",
       "    }\n",
       "\n",
       "    .dataframe thead th {\n",
       "        text-align: right;\n",
       "    }\n",
       "</style>\n",
       "<table border=\"1\" class=\"dataframe\">\n",
       "  <thead>\n",
       "    <tr style=\"text-align: right;\">\n",
       "      <th></th>\n",
       "      <th>title</th>\n",
       "      <th>text</th>\n",
       "      <th>subject</th>\n",
       "      <th>date</th>\n",
       "      <th>label</th>\n",
       "      <th>num_of_words</th>\n",
       "      <th>text_vector</th>\n",
       "      <th>num_subjects</th>\n",
       "      <th>subject_norm</th>\n",
       "      <th>num_of_words_norm</th>\n",
       "    </tr>\n",
       "  </thead>\n",
       "  <tbody>\n",
       "    <tr>\n",
       "      <th>0</th>\n",
       "      <td>Italy adopts living wills allowing patients to...</td>\n",
       "      <td>ROME Reuters  Italy s Senate passed into law o...</td>\n",
       "      <td>worldnews</td>\n",
       "      <td>December 14, 2017</td>\n",
       "      <td>1</td>\n",
       "      <td>406.0</td>\n",
       "      <td>[-0.00262323, 0.19649883, -0.34882462, -0.0781...</td>\n",
       "      <td>1</td>\n",
       "      <td>1.0</td>\n",
       "      <td>0.049871</td>\n",
       "    </tr>\n",
       "    <tr>\n",
       "      <th>1</th>\n",
       "      <td>Trump's Strategic and Policy Forum to disband:...</td>\n",
       "      <td>Reuters  Members of US President Donald Trumps...</td>\n",
       "      <td>politics</td>\n",
       "      <td>August 16, 2017</td>\n",
       "      <td>1</td>\n",
       "      <td>27.0</td>\n",
       "      <td>[0.407222509, -0.156554639, 0.0765338168, 0.04...</td>\n",
       "      <td>0</td>\n",
       "      <td>0.0</td>\n",
       "      <td>0.003202</td>\n",
       "    </tr>\n",
       "    <tr>\n",
       "      <th>2</th>\n",
       "      <td>When The View’s WHOOPI GOLDBERG Told Hillary W...</td>\n",
       "      <td>The sympathetic and borderline communist women...</td>\n",
       "      <td>politics</td>\n",
       "      <td>Sep 14, 2017</td>\n",
       "      <td>0</td>\n",
       "      <td>167.0</td>\n",
       "      <td>[0.116695888, -0.0540213361, 0.135192841, 0.18...</td>\n",
       "      <td>0</td>\n",
       "      <td>0.0</td>\n",
       "      <td>0.020441</td>\n",
       "    </tr>\n",
       "    <tr>\n",
       "      <th>3</th>\n",
       "      <td>BREAKING: D.C. Driver Plows Into Capitol Polic...</td>\n",
       "      <td>It happened around 930 am at the 100 block of ...</td>\n",
       "      <td>politics</td>\n",
       "      <td>Mar 29, 2017</td>\n",
       "      <td>0</td>\n",
       "      <td>59.0</td>\n",
       "      <td>[0.06764822, 0.02382677, -0.13299377, 0.187047...</td>\n",
       "      <td>0</td>\n",
       "      <td>0.0</td>\n",
       "      <td>0.007142</td>\n",
       "    </tr>\n",
       "    <tr>\n",
       "      <th>4</th>\n",
       "      <td>Scottish government recommends rejection of EU...</td>\n",
       "      <td>EDINBURGH Reuters  Scotland s devolved governm...</td>\n",
       "      <td>worldnews</td>\n",
       "      <td>September 12, 2017</td>\n",
       "      <td>1</td>\n",
       "      <td>405.0</td>\n",
       "      <td>[0.187226713, 0.187935397, 0.12457943, -0.3222...</td>\n",
       "      <td>1</td>\n",
       "      <td>1.0</td>\n",
       "      <td>0.049748</td>\n",
       "    </tr>\n",
       "  </tbody>\n",
       "</table>\n",
       "</div>"
      ],
      "text/plain": [
       "                                               title  \\\n",
       "0  Italy adopts living wills allowing patients to...   \n",
       "1  Trump's Strategic and Policy Forum to disband:...   \n",
       "2  When The View’s WHOOPI GOLDBERG Told Hillary W...   \n",
       "3  BREAKING: D.C. Driver Plows Into Capitol Polic...   \n",
       "4  Scottish government recommends rejection of EU...   \n",
       "\n",
       "                                                text    subject  \\\n",
       "0  ROME Reuters  Italy s Senate passed into law o...  worldnews   \n",
       "1  Reuters  Members of US President Donald Trumps...   politics   \n",
       "2  The sympathetic and borderline communist women...   politics   \n",
       "3  It happened around 930 am at the 100 block of ...   politics   \n",
       "4  EDINBURGH Reuters  Scotland s devolved governm...  worldnews   \n",
       "\n",
       "                  date label  num_of_words  \\\n",
       "0   December 14, 2017      1         406.0   \n",
       "1     August 16, 2017      1          27.0   \n",
       "2         Sep 14, 2017     0         167.0   \n",
       "3         Mar 29, 2017     0          59.0   \n",
       "4  September 12, 2017      1         405.0   \n",
       "\n",
       "                                         text_vector num_subjects  \\\n",
       "0  [-0.00262323, 0.19649883, -0.34882462, -0.0781...            1   \n",
       "1  [0.407222509, -0.156554639, 0.0765338168, 0.04...            0   \n",
       "2  [0.116695888, -0.0540213361, 0.135192841, 0.18...            0   \n",
       "3  [0.06764822, 0.02382677, -0.13299377, 0.187047...            0   \n",
       "4  [0.187226713, 0.187935397, 0.12457943, -0.3222...            1   \n",
       "\n",
       "   subject_norm  num_of_words_norm  \n",
       "0           1.0           0.049871  \n",
       "1           0.0           0.003202  \n",
       "2           0.0           0.020441  \n",
       "3           0.0           0.007142  \n",
       "4           1.0           0.049748  "
      ]
     },
     "execution_count": 20,
     "metadata": {},
     "output_type": "execute_result"
    }
   ],
   "source": [
    "# nomarlizando entre 0 e 1 min-max usando scikit\n",
    "from sklearn.preprocessing import StandardScaler, MinMaxScaler\n",
    "scaler = MinMaxScaler()\n",
    "df['subject_norm'] = scaler.fit_transform(df[['num_subjects']])\n",
    "df['num_of_words_norm'] = scaler.fit_transform(df[['num_of_words']])\n",
    "df.head()"
   ]
  },
  {
   "cell_type": "code",
   "execution_count": 21,
   "id": "602cd591-0bb5-4dd9-859e-10a580df4e8b",
   "metadata": {
    "ExecuteTime": {
     "end_time": "2024-07-08T04:03:08.981212Z",
     "start_time": "2024-07-08T04:03:08.811237Z"
    },
    "colab": {
     "base_uri": "https://localhost:8080/"
    },
    "id": "602cd591-0bb5-4dd9-859e-10a580df4e8b",
    "outputId": "05a70325-bd44-4a30-8929-ecc31e49d4ce"
   },
   "outputs": [
    {
     "data": {
      "text/plain": [
       "count    44898.000000\n",
       "mean         0.462292\n",
       "std          0.498582\n",
       "min          0.000000\n",
       "25%          0.000000\n",
       "50%          0.000000\n",
       "75%          1.000000\n",
       "max          1.000000\n",
       "Name: subject_norm, dtype: float64"
      ]
     },
     "execution_count": 21,
     "metadata": {},
     "output_type": "execute_result"
    }
   ],
   "source": [
    "df['subject_norm'].describe()"
   ]
  },
  {
   "cell_type": "code",
   "execution_count": 22,
   "id": "adaed56c-08df-4407-8434-8fffa7836253",
   "metadata": {
    "ExecuteTime": {
     "end_time": "2024-07-08T04:03:09.764544Z",
     "start_time": "2024-07-08T04:03:09.653337Z"
    },
    "colab": {
     "base_uri": "https://localhost:8080/"
    },
    "id": "adaed56c-08df-4407-8434-8fffa7836253",
    "outputId": "e6abf696-5747-43c0-b7c9-441a351c646d"
   },
   "outputs": [
    {
     "data": {
      "text/plain": [
       "count    44898.000000\n",
       "mean         0.050197\n",
       "std          0.042817\n",
       "min          0.000000\n",
       "25%          0.025982\n",
       "50%          0.044576\n",
       "75%          0.063046\n",
       "max          1.000000\n",
       "Name: num_of_words_norm, dtype: float64"
      ]
     },
     "execution_count": 22,
     "metadata": {},
     "output_type": "execute_result"
    }
   ],
   "source": [
    "df['num_of_words_norm'].describe()"
   ]
  },
  {
   "cell_type": "markdown",
   "id": "e20ec25f-8622-4bba-a972-9b1334dc0cdc",
   "metadata": {
    "id": "e20ec25f-8622-4bba-a972-9b1334dc0cdc"
   },
   "source": [
    "# Discretização"
   ]
  },
  {
   "cell_type": "code",
   "execution_count": 23,
   "id": "08aebc09-5ca0-48db-9f23-cbb011753c6e",
   "metadata": {
    "ExecuteTime": {
     "end_time": "2024-07-08T04:03:10.729282Z",
     "start_time": "2024-07-08T04:03:10.617945Z"
    },
    "id": "08aebc09-5ca0-48db-9f23-cbb011753c6e"
   },
   "outputs": [],
   "source": [
    "# discretizando com 10 bins com mesmo intervalo\n",
    "df['num_of_words_dist'] = pd.cut(df['num_of_words'], 10)"
   ]
  },
  {
   "cell_type": "code",
   "execution_count": 24,
   "id": "Wtz6u64K-CUY",
   "metadata": {
    "colab": {
     "base_uri": "https://localhost:8080/"
    },
    "id": "Wtz6u64K-CUY",
    "jupyter": {
     "is_executing": true
    },
    "outputId": "e5aecf80-baea-48f6-fbae-bca70bf0dc0b"
   },
   "outputs": [
    {
     "data": {
      "text/plain": [
       "num_of_words_dist\n",
       "(-7.121, 813.1]     41552\n",
       "(813.1, 1625.2]      2984\n",
       "(1625.2, 2437.3]      201\n",
       "(2437.3, 3249.4]       76\n",
       "(3249.4, 4061.5]       44\n",
       "(4061.5, 4873.6]       13\n",
       "(4873.6, 5685.7]       12\n",
       "(5685.7, 6497.8]        6\n",
       "(6497.8, 7309.9]        6\n",
       "(7309.9, 8122.0]        4\n",
       "Name: count, dtype: int64"
      ]
     },
     "execution_count": 24,
     "metadata": {},
     "output_type": "execute_result"
    }
   ],
   "source": [
    "df['num_of_words_dist'].value_counts()"
   ]
  },
  {
   "cell_type": "code",
   "execution_count": 25,
   "id": "msjQA5XX-MqA",
   "metadata": {
    "colab": {
     "base_uri": "https://localhost:8080/",
     "height": 552
    },
    "id": "msjQA5XX-MqA",
    "jupyter": {
     "is_executing": true
    },
    "outputId": "e8d8fa14-c642-4aac-c4b2-be877e98ac6b"
   },
   "outputs": [
    {
     "data": {
      "image/png": "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",
      "text/plain": [
       "<Figure size 640x480 with 1 Axes>"
      ]
     },
     "metadata": {},
     "output_type": "display_data"
    }
   ],
   "source": [
    "df['num_of_words_dist'].value_counts().plot(kind=\"bar\")\n",
    "plt.yscale(\"log\")"
   ]
  },
  {
   "cell_type": "markdown",
   "id": "bff1f92e-8394-41bb-af5b-6e722925f8ac",
   "metadata": {
    "id": "18ad8fdf-7952-419b-a958-1ea6dc9a595c"
   },
   "source": [
    "# Detecção de outliers"
   ]
  },
  {
   "cell_type": "code",
   "execution_count": 26,
   "id": "f8276b54-8650-435a-8159-c43d37d7ea20",
   "metadata": {
    "jupyter": {
     "is_executing": true
    }
   },
   "outputs": [
    {
     "data": {
      "text/html": [
       "<div>\n",
       "<style scoped>\n",
       "    .dataframe tbody tr th:only-of-type {\n",
       "        vertical-align: middle;\n",
       "    }\n",
       "\n",
       "    .dataframe tbody tr th {\n",
       "        vertical-align: top;\n",
       "    }\n",
       "\n",
       "    .dataframe thead th {\n",
       "        text-align: right;\n",
       "    }\n",
       "</style>\n",
       "<table border=\"1\" class=\"dataframe\">\n",
       "  <thead>\n",
       "    <tr style=\"text-align: right;\">\n",
       "      <th></th>\n",
       "      <th>title</th>\n",
       "      <th>text</th>\n",
       "      <th>subject</th>\n",
       "      <th>date</th>\n",
       "      <th>label</th>\n",
       "      <th>num_of_words</th>\n",
       "      <th>text_vector</th>\n",
       "      <th>num_subjects</th>\n",
       "      <th>subject_norm</th>\n",
       "      <th>num_of_words_norm</th>\n",
       "      <th>num_of_words_dist</th>\n",
       "    </tr>\n",
       "  </thead>\n",
       "  <tbody>\n",
       "    <tr>\n",
       "      <th>553</th>\n",
       "      <td>YOUNG MAN DELIVERS POWERFUL Message To Liberal...</td>\n",
       "      <td>Wow This young Asian student nails it He speak...</td>\n",
       "      <td>politics</td>\n",
       "      <td>Feb 16, 2017</td>\n",
       "      <td>0</td>\n",
       "      <td>330.0</td>\n",
       "      <td>[-0.22489738, 0.37776896, -0.18878216, -0.2213...</td>\n",
       "      <td>0</td>\n",
       "      <td>0.0</td>\n",
       "      <td>0.040512</td>\n",
       "      <td>(-7.121, 813.1]</td>\n",
       "    </tr>\n",
       "    <tr>\n",
       "      <th>986</th>\n",
       "      <td>US-Saudi Plan: Let 9,000 ISIS Fighters Walk Fr...</td>\n",
       "      <td>Patrick Henningsen 21st Century WireJudging b...</td>\n",
       "      <td>worldnews</td>\n",
       "      <td>October 13, 2016</td>\n",
       "      <td>0</td>\n",
       "      <td>1921.0</td>\n",
       "      <td>[-0.450943738, -0.0269453004, -0.203219116, -0...</td>\n",
       "      <td>1</td>\n",
       "      <td>1.0</td>\n",
       "      <td>0.236424</td>\n",
       "      <td>(1625.2, 2437.3]</td>\n",
       "    </tr>\n",
       "    <tr>\n",
       "      <th>1114</th>\n",
       "      <td>TUCKER CARLSON: Why Brutal MS-13 Gang (Obama’s...</td>\n",
       "      <td>The notoriously violent MS13 street gang known...</td>\n",
       "      <td>politics</td>\n",
       "      <td>Apr 14, 2017</td>\n",
       "      <td>0</td>\n",
       "      <td>335.0</td>\n",
       "      <td>[-0.15788637, -0.09391569, -0.26010293, -0.022...</td>\n",
       "      <td>0</td>\n",
       "      <td>0.0</td>\n",
       "      <td>0.041128</td>\n",
       "      <td>(-7.121, 813.1]</td>\n",
       "    </tr>\n",
       "    <tr>\n",
       "      <th>1147</th>\n",
       "      <td>BORDER PATROL AGENTS RAT OUT DHS: Government S...</td>\n",
       "      <td>It s really a pretty simple scheme Obama is pl...</td>\n",
       "      <td>politics</td>\n",
       "      <td>Jun 5, 2016</td>\n",
       "      <td>0</td>\n",
       "      <td>988.0</td>\n",
       "      <td>[-0.0729608387, 0.00880109146, -0.258680761, -...</td>\n",
       "      <td>0</td>\n",
       "      <td>0.0</td>\n",
       "      <td>0.121537</td>\n",
       "      <td>(813.1, 1625.2]</td>\n",
       "    </tr>\n",
       "    <tr>\n",
       "      <th>1237</th>\n",
       "      <td>WATCH: MI DEMOCRAT Candidate For AG Makes Ad P...</td>\n",
       "      <td>Who can you trust most not to show you their ...</td>\n",
       "      <td>politics</td>\n",
       "      <td>Nov 30, 2017</td>\n",
       "      <td>0</td>\n",
       "      <td>188.0</td>\n",
       "      <td>[-0.02886526, 0.08861548, -0.13354057, -0.2127...</td>\n",
       "      <td>0</td>\n",
       "      <td>0.0</td>\n",
       "      <td>0.023027</td>\n",
       "      <td>(-7.121, 813.1]</td>\n",
       "    </tr>\n",
       "  </tbody>\n",
       "</table>\n",
       "</div>"
      ],
      "text/plain": [
       "                                                  title  \\\n",
       "553   YOUNG MAN DELIVERS POWERFUL Message To Liberal...   \n",
       "986   US-Saudi Plan: Let 9,000 ISIS Fighters Walk Fr...   \n",
       "1114  TUCKER CARLSON: Why Brutal MS-13 Gang (Obama’s...   \n",
       "1147  BORDER PATROL AGENTS RAT OUT DHS: Government S...   \n",
       "1237  WATCH: MI DEMOCRAT Candidate For AG Makes Ad P...   \n",
       "\n",
       "                                                   text    subject  \\\n",
       "553   Wow This young Asian student nails it He speak...   politics   \n",
       "986    Patrick Henningsen 21st Century WireJudging b...  worldnews   \n",
       "1114  The notoriously violent MS13 street gang known...   politics   \n",
       "1147  It s really a pretty simple scheme Obama is pl...   politics   \n",
       "1237   Who can you trust most not to show you their ...   politics   \n",
       "\n",
       "                  date label  num_of_words  \\\n",
       "553       Feb 16, 2017     0         330.0   \n",
       "986   October 13, 2016     0        1921.0   \n",
       "1114      Apr 14, 2017     0         335.0   \n",
       "1147       Jun 5, 2016     0         988.0   \n",
       "1237      Nov 30, 2017     0         188.0   \n",
       "\n",
       "                                            text_vector num_subjects  \\\n",
       "553   [-0.22489738, 0.37776896, -0.18878216, -0.2213...            0   \n",
       "986   [-0.450943738, -0.0269453004, -0.203219116, -0...            1   \n",
       "1114  [-0.15788637, -0.09391569, -0.26010293, -0.022...            0   \n",
       "1147  [-0.0729608387, 0.00880109146, -0.258680761, -...            0   \n",
       "1237  [-0.02886526, 0.08861548, -0.13354057, -0.2127...            0   \n",
       "\n",
       "      subject_norm  num_of_words_norm num_of_words_dist  \n",
       "553            0.0           0.040512   (-7.121, 813.1]  \n",
       "986            1.0           0.236424  (1625.2, 2437.3]  \n",
       "1114           0.0           0.041128   (-7.121, 813.1]  \n",
       "1147           0.0           0.121537   (813.1, 1625.2]  \n",
       "1237           0.0           0.023027   (-7.121, 813.1]  "
      ]
     },
     "execution_count": 26,
     "metadata": {},
     "output_type": "execute_result"
    }
   ],
   "source": [
    "df_without_text_vectors = df.drop(columns=['text_vector'])\n",
    "duplicates = df[df_without_text_vectors.duplicated()]\n",
    "duplicates.head()"
   ]
  },
  {
   "cell_type": "code",
   "execution_count": 27,
   "id": "ac78c2dd-3e0a-42f6-a7f4-8e1d817fffe6",
   "metadata": {
    "jupyter": {
     "is_executing": true
    }
   },
   "outputs": [],
   "source": [
    "duplicates_mask = df_without_text_vectors.duplicated(keep=False)\n",
    "\n",
    "# Drop duplicates from the original DataFrame\n",
    "df = df[~duplicates_mask]"
   ]
  },
  {
   "cell_type": "code",
   "execution_count": 28,
   "id": "30f040ab-e15a-415b-9c51-fbf9e163030e",
   "metadata": {
    "jupyter": {
     "is_executing": true
    }
   },
   "outputs": [
    {
     "name": "stderr",
     "output_type": "stream",
     "text": [
      "/var/folders/wz/qw2ddg4n5xxgzdh4w5yt3ztr0000gn/T/ipykernel_16684/4099902805.py:1: UserWarning: Boolean Series key will be reindexed to match DataFrame index.\n",
      "  duplicates = df[df_without_text_vectors.duplicated()]\n"
     ]
    },
    {
     "data": {
      "text/html": [
       "<div>\n",
       "<style scoped>\n",
       "    .dataframe tbody tr th:only-of-type {\n",
       "        vertical-align: middle;\n",
       "    }\n",
       "\n",
       "    .dataframe tbody tr th {\n",
       "        vertical-align: top;\n",
       "    }\n",
       "\n",
       "    .dataframe thead th {\n",
       "        text-align: right;\n",
       "    }\n",
       "</style>\n",
       "<table border=\"1\" class=\"dataframe\">\n",
       "  <thead>\n",
       "    <tr style=\"text-align: right;\">\n",
       "      <th></th>\n",
       "      <th>title</th>\n",
       "      <th>text</th>\n",
       "      <th>subject</th>\n",
       "      <th>date</th>\n",
       "      <th>label</th>\n",
       "      <th>num_of_words</th>\n",
       "      <th>text_vector</th>\n",
       "      <th>num_subjects</th>\n",
       "      <th>subject_norm</th>\n",
       "      <th>num_of_words_norm</th>\n",
       "      <th>num_of_words_dist</th>\n",
       "    </tr>\n",
       "  </thead>\n",
       "  <tbody>\n",
       "  </tbody>\n",
       "</table>\n",
       "</div>"
      ],
      "text/plain": [
       "Empty DataFrame\n",
       "Columns: [title, text, subject, date, label, num_of_words, text_vector, num_subjects, subject_norm, num_of_words_norm, num_of_words_dist]\n",
       "Index: []"
      ]
     },
     "execution_count": 28,
     "metadata": {},
     "output_type": "execute_result"
    }
   ],
   "source": [
    "duplicates = df[df_without_text_vectors.duplicated()]\n",
    "duplicates.head()"
   ]
  },
  {
   "cell_type": "code",
   "execution_count": 29,
   "id": "9cbc332c-b3eb-43d0-b7fa-683827e536b3",
   "metadata": {
    "jupyter": {
     "is_executing": true
    }
   },
   "outputs": [
    {
     "data": {
      "text/plain": [
       "<Axes: >"
      ]
     },
     "execution_count": 29,
     "metadata": {},
     "output_type": "execute_result"
    },
    {
     "data": {
      "image/png": "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",
      "text/plain": [
       "<Figure size 640x480 with 1 Axes>"
      ]
     },
     "metadata": {},
     "output_type": "display_data"
    }
   ],
   "source": [
    "df['num_of_words'].plot.box()"
   ]
  },
  {
   "cell_type": "code",
   "execution_count": 30,
   "id": "4be39d06-9bcf-46a9-bb9f-a9a07d76cffd",
   "metadata": {
    "jupyter": {
     "is_executing": true
    }
   },
   "outputs": [
    {
     "data": {
      "text/plain": [
       "<Axes: ylabel='Frequency'>"
      ]
     },
     "execution_count": 30,
     "metadata": {},
     "output_type": "execute_result"
    },
    {
     "data": {
      "image/png": "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",
      "text/plain": [
       "<Figure size 640x480 with 1 Axes>"
      ]
     },
     "metadata": {},
     "output_type": "display_data"
    }
   ],
   "source": [
    "df['num_of_words'].plot.hist()"
   ]
  },
  {
   "cell_type": "code",
   "execution_count": 31,
   "id": "88c9a4b6-99ef-488f-b1ab-8d9f32c0dc13",
   "metadata": {
    "jupyter": {
     "is_executing": true
    }
   },
   "outputs": [
    {
     "name": "stderr",
     "output_type": "stream",
     "text": [
      "/var/folders/wz/qw2ddg4n5xxgzdh4w5yt3ztr0000gn/T/ipykernel_16684/1135887764.py:1: SettingWithCopyWarning: \n",
      "A value is trying to be set on a copy of a slice from a DataFrame.\n",
      "Try using .loc[row_indexer,col_indexer] = value instead\n",
      "\n",
      "See the caveats in the documentation: https://pandas.pydata.org/pandas-docs/stable/user_guide/indexing.html#returning-a-view-versus-a-copy\n",
      "  df['log_num_of_words'] = np.log10(df['num_of_words'])\n"
     ]
    },
    {
     "data": {
      "text/plain": [
       "<Axes: ylabel='Frequency'>"
      ]
     },
     "execution_count": 31,
     "metadata": {},
     "output_type": "execute_result"
    },
    {
     "data": {
      "image/png": "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",
      "text/plain": [
       "<Figure size 640x480 with 1 Axes>"
      ]
     },
     "metadata": {},
     "output_type": "display_data"
    }
   ],
   "source": [
    "df['log_num_of_words'] = np.log10(df['num_of_words'])\n",
    "df['log_num_of_words'].plot.hist()"
   ]
  },
  {
   "cell_type": "code",
   "execution_count": 32,
   "id": "5e741735-80eb-4427-b1fa-38cb5c5e140c",
   "metadata": {
    "jupyter": {
     "is_executing": true
    }
   },
   "outputs": [
    {
     "name": "stdout",
     "output_type": "stream",
     "text": [
      "0.2410386235721191\n"
     ]
    }
   ],
   "source": [
    "mad = np.abs(df['log_num_of_words'] - df['log_num_of_words'].median()).median()*(1/0.6745)\n",
    "print(mad)"
   ]
  },
  {
   "cell_type": "code",
   "execution_count": 33,
   "id": "f28f92a6-4644-4676-b64e-348ccc9924ec",
   "metadata": {
    "jupyter": {
     "is_executing": true
    }
   },
   "outputs": [
    {
     "data": {
      "text/plain": [
       "<Axes: >"
      ]
     },
     "execution_count": 33,
     "metadata": {},
     "output_type": "execute_result"
    },
    {
     "data": {
      "image/png": "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",
      "text/plain": [
       "<Figure size 640x480 with 1 Axes>"
      ]
     },
     "metadata": {},
     "output_type": "display_data"
    }
   ],
   "source": [
    "(np.abs(df['log_num_of_words']-df['log_num_of_words'].median())/mad).hist()"
   ]
  },
  {
   "cell_type": "code",
   "execution_count": 34,
   "id": "6d6d7049-cf40-4464-a2b0-35c49d324ac5",
   "metadata": {
    "jupyter": {
     "is_executing": true
    }
   },
   "outputs": [
    {
     "data": {
      "text/html": [
       "<div>\n",
       "<style scoped>\n",
       "    .dataframe tbody tr th:only-of-type {\n",
       "        vertical-align: middle;\n",
       "    }\n",
       "\n",
       "    .dataframe tbody tr th {\n",
       "        vertical-align: top;\n",
       "    }\n",
       "\n",
       "    .dataframe thead th {\n",
       "        text-align: right;\n",
       "    }\n",
       "</style>\n",
       "<table border=\"1\" class=\"dataframe\">\n",
       "  <thead>\n",
       "    <tr style=\"text-align: right;\">\n",
       "      <th></th>\n",
       "      <th>title</th>\n",
       "      <th>text</th>\n",
       "      <th>subject</th>\n",
       "      <th>date</th>\n",
       "      <th>label</th>\n",
       "      <th>num_of_words</th>\n",
       "      <th>text_vector</th>\n",
       "      <th>num_subjects</th>\n",
       "      <th>subject_norm</th>\n",
       "      <th>num_of_words_norm</th>\n",
       "      <th>num_of_words_dist</th>\n",
       "      <th>log_num_of_words</th>\n",
       "    </tr>\n",
       "  </thead>\n",
       "  <tbody>\n",
       "    <tr>\n",
       "      <th>1</th>\n",
       "      <td>Trump's Strategic and Policy Forum to disband:...</td>\n",
       "      <td>Reuters  Members of US President Donald Trumps...</td>\n",
       "      <td>politics</td>\n",
       "      <td>August 16, 2017</td>\n",
       "      <td>1</td>\n",
       "      <td>27.0</td>\n",
       "      <td>[0.407222509, -0.156554639, 0.0765338168, 0.04...</td>\n",
       "      <td>0</td>\n",
       "      <td>0.0</td>\n",
       "      <td>0.003202</td>\n",
       "      <td>(-7.121, 813.1]</td>\n",
       "      <td>1.431364</td>\n",
       "    </tr>\n",
       "    <tr>\n",
       "      <th>7</th>\n",
       "      <td>Trump and Putin speak for an hour about Syria,...</td>\n",
       "      <td>WASHINGTON Reuters  US President Donald Trump ...</td>\n",
       "      <td>politics</td>\n",
       "      <td>November 21, 2017</td>\n",
       "      <td>1</td>\n",
       "      <td>37.0</td>\n",
       "      <td>[-0.11052298, 0.1914613, -0.00723672, 0.102292...</td>\n",
       "      <td>0</td>\n",
       "      <td>0.0</td>\n",
       "      <td>0.004433</td>\n",
       "      <td>(-7.121, 813.1]</td>\n",
       "      <td>1.568202</td>\n",
       "    </tr>\n",
       "    <tr>\n",
       "      <th>26</th>\n",
       "      <td>WATCH: NY TOWN REJECTS Pledge Of Allegiance…”T...</td>\n",
       "      <td>Remember when it wasn t acceptable to be an an...</td>\n",
       "      <td>politics</td>\n",
       "      <td>Mar 21, 2016</td>\n",
       "      <td>0</td>\n",
       "      <td>44.0</td>\n",
       "      <td>[0.363043904, -0.0701464638, -0.232780084, 0.2...</td>\n",
       "      <td>0</td>\n",
       "      <td>0.0</td>\n",
       "      <td>0.005295</td>\n",
       "      <td>(-7.121, 813.1]</td>\n",
       "      <td>1.643453</td>\n",
       "    </tr>\n",
       "    <tr>\n",
       "      <th>74</th>\n",
       "      <td>EPIC SPEECH WELL WORTH WATCHING! Trump’s Remar...</td>\n",
       "      <td>What s better than a president who s a builder...</td>\n",
       "      <td>politics</td>\n",
       "      <td>Apr 5, 2017</td>\n",
       "      <td>0</td>\n",
       "      <td>3077.0</td>\n",
       "      <td>[0.17402129, 0.10931098, 0.07538177, -0.114623...</td>\n",
       "      <td>0</td>\n",
       "      <td>0.0</td>\n",
       "      <td>0.378771</td>\n",
       "      <td>(2437.3, 3249.4]</td>\n",
       "      <td>3.488127</td>\n",
       "    </tr>\n",
       "    <tr>\n",
       "      <th>79</th>\n",
       "      <td>AWESOME COMEBACK After Obama Says The Presiden...</td>\n",
       "      <td>No it s not a reality show but Obama s made it...</td>\n",
       "      <td>politics</td>\n",
       "      <td>Mar 18, 2016</td>\n",
       "      <td>0</td>\n",
       "      <td>21.0</td>\n",
       "      <td>[0.0656302944, -0.576218605, -0.207515135, -0....</td>\n",
       "      <td>0</td>\n",
       "      <td>0.0</td>\n",
       "      <td>0.002463</td>\n",
       "      <td>(-7.121, 813.1]</td>\n",
       "      <td>1.322219</td>\n",
       "    </tr>\n",
       "    <tr>\n",
       "      <th>...</th>\n",
       "      <td>...</td>\n",
       "      <td>...</td>\n",
       "      <td>...</td>\n",
       "      <td>...</td>\n",
       "      <td>...</td>\n",
       "      <td>...</td>\n",
       "      <td>...</td>\n",
       "      <td>...</td>\n",
       "      <td>...</td>\n",
       "      <td>...</td>\n",
       "      <td>...</td>\n",
       "      <td>...</td>\n",
       "    </tr>\n",
       "    <tr>\n",
       "      <th>44606</th>\n",
       "      <td>SERIAL LIAR HILLARY CLINTON: ‘I think I have b...</td>\n",
       "      <td>Wow She s really good at deflecting and lying ...</td>\n",
       "      <td>politics</td>\n",
       "      <td>Feb 26, 2016</td>\n",
       "      <td>0</td>\n",
       "      <td>15.0</td>\n",
       "      <td>[0.20943509, -0.3752013, -0.00497639, -0.04211...</td>\n",
       "      <td>0</td>\n",
       "      <td>0.0</td>\n",
       "      <td>0.001724</td>\n",
       "      <td>(-7.121, 813.1]</td>\n",
       "      <td>1.176091</td>\n",
       "    </tr>\n",
       "    <tr>\n",
       "      <th>44671</th>\n",
       "      <td>Seattle judge grants nationwide temporary rest...</td>\n",
       "      <td>Reuters  A US federal judge in Seattle on Frid...</td>\n",
       "      <td>politics</td>\n",
       "      <td>February 4, 2017</td>\n",
       "      <td>1</td>\n",
       "      <td>48.0</td>\n",
       "      <td>[-0.0431605354, 0.359701902, 0.0499028638, 0.1...</td>\n",
       "      <td>0</td>\n",
       "      <td>0.0</td>\n",
       "      <td>0.005787</td>\n",
       "      <td>(-7.121, 813.1]</td>\n",
       "      <td>1.681241</td>\n",
       "    </tr>\n",
       "    <tr>\n",
       "      <th>44684</th>\n",
       "      <td>Tillerson to visit Pakistan as well as India: ...</td>\n",
       "      <td>WASHINGTON Reuters  US Secretary of State Rex ...</td>\n",
       "      <td>worldnews</td>\n",
       "      <td>October 18, 2017</td>\n",
       "      <td>1</td>\n",
       "      <td>38.0</td>\n",
       "      <td>[0.05643896, -0.26421645, 0.22967966, -0.29872...</td>\n",
       "      <td>1</td>\n",
       "      <td>1.0</td>\n",
       "      <td>0.004556</td>\n",
       "      <td>(-7.121, 813.1]</td>\n",
       "      <td>1.579784</td>\n",
       "    </tr>\n",
       "    <tr>\n",
       "      <th>44772</th>\n",
       "      <td>Russia's Lavrov, Tillerson to meet at U.N. Gen...</td>\n",
       "      <td>MOSCOW Reuters  Russian Foreign Minister Serge...</td>\n",
       "      <td>worldnews</td>\n",
       "      <td>September 12, 2017</td>\n",
       "      <td>1</td>\n",
       "      <td>39.0</td>\n",
       "      <td>[0.317774028, -0.020503236, -0.453437179, 0.03...</td>\n",
       "      <td>1</td>\n",
       "      <td>1.0</td>\n",
       "      <td>0.004679</td>\n",
       "      <td>(-7.121, 813.1]</td>\n",
       "      <td>1.591065</td>\n",
       "    </tr>\n",
       "    <tr>\n",
       "      <th>44794</th>\n",
       "      <td>Russia says continues dialogue with Washington...</td>\n",
       "      <td>MOSCOW Reuters  Moscow and Washington are cont...</td>\n",
       "      <td>worldnews</td>\n",
       "      <td>October 20, 2017</td>\n",
       "      <td>1</td>\n",
       "      <td>38.0</td>\n",
       "      <td>[-0.408756644, -0.0865730345, -0.195042565, -0...</td>\n",
       "      <td>1</td>\n",
       "      <td>1.0</td>\n",
       "      <td>0.004556</td>\n",
       "      <td>(-7.121, 813.1]</td>\n",
       "      <td>1.579784</td>\n",
       "    </tr>\n",
       "  </tbody>\n",
       "</table>\n",
       "<p>1074 rows × 12 columns</p>\n",
       "</div>"
      ],
      "text/plain": [
       "                                                   title  \\\n",
       "1      Trump's Strategic and Policy Forum to disband:...   \n",
       "7      Trump and Putin speak for an hour about Syria,...   \n",
       "26     WATCH: NY TOWN REJECTS Pledge Of Allegiance…”T...   \n",
       "74     EPIC SPEECH WELL WORTH WATCHING! Trump’s Remar...   \n",
       "79     AWESOME COMEBACK After Obama Says The Presiden...   \n",
       "...                                                  ...   \n",
       "44606  SERIAL LIAR HILLARY CLINTON: ‘I think I have b...   \n",
       "44671  Seattle judge grants nationwide temporary rest...   \n",
       "44684  Tillerson to visit Pakistan as well as India: ...   \n",
       "44772  Russia's Lavrov, Tillerson to meet at U.N. Gen...   \n",
       "44794  Russia says continues dialogue with Washington...   \n",
       "\n",
       "                                                    text    subject  \\\n",
       "1      Reuters  Members of US President Donald Trumps...   politics   \n",
       "7      WASHINGTON Reuters  US President Donald Trump ...   politics   \n",
       "26     Remember when it wasn t acceptable to be an an...   politics   \n",
       "74     What s better than a president who s a builder...   politics   \n",
       "79     No it s not a reality show but Obama s made it...   politics   \n",
       "...                                                  ...        ...   \n",
       "44606  Wow She s really good at deflecting and lying ...   politics   \n",
       "44671  Reuters  A US federal judge in Seattle on Frid...   politics   \n",
       "44684  WASHINGTON Reuters  US Secretary of State Rex ...  worldnews   \n",
       "44772  MOSCOW Reuters  Russian Foreign Minister Serge...  worldnews   \n",
       "44794  MOSCOW Reuters  Moscow and Washington are cont...  worldnews   \n",
       "\n",
       "                      date label  num_of_words  \\\n",
       "1         August 16, 2017      1          27.0   \n",
       "7       November 21, 2017      1          37.0   \n",
       "26            Mar 21, 2016     0          44.0   \n",
       "74             Apr 5, 2017     0        3077.0   \n",
       "79            Mar 18, 2016     0          21.0   \n",
       "...                    ...   ...           ...   \n",
       "44606         Feb 26, 2016     0          15.0   \n",
       "44671    February 4, 2017      1          48.0   \n",
       "44684    October 18, 2017      1          38.0   \n",
       "44772  September 12, 2017      1          39.0   \n",
       "44794    October 20, 2017      1          38.0   \n",
       "\n",
       "                                             text_vector num_subjects  \\\n",
       "1      [0.407222509, -0.156554639, 0.0765338168, 0.04...            0   \n",
       "7      [-0.11052298, 0.1914613, -0.00723672, 0.102292...            0   \n",
       "26     [0.363043904, -0.0701464638, -0.232780084, 0.2...            0   \n",
       "74     [0.17402129, 0.10931098, 0.07538177, -0.114623...            0   \n",
       "79     [0.0656302944, -0.576218605, -0.207515135, -0....            0   \n",
       "...                                                  ...          ...   \n",
       "44606  [0.20943509, -0.3752013, -0.00497639, -0.04211...            0   \n",
       "44671  [-0.0431605354, 0.359701902, 0.0499028638, 0.1...            0   \n",
       "44684  [0.05643896, -0.26421645, 0.22967966, -0.29872...            1   \n",
       "44772  [0.317774028, -0.020503236, -0.453437179, 0.03...            1   \n",
       "44794  [-0.408756644, -0.0865730345, -0.195042565, -0...            1   \n",
       "\n",
       "       subject_norm  num_of_words_norm num_of_words_dist  log_num_of_words  \n",
       "1               0.0           0.003202   (-7.121, 813.1]          1.431364  \n",
       "7               0.0           0.004433   (-7.121, 813.1]          1.568202  \n",
       "26              0.0           0.005295   (-7.121, 813.1]          1.643453  \n",
       "74              0.0           0.378771  (2437.3, 3249.4]          3.488127  \n",
       "79              0.0           0.002463   (-7.121, 813.1]          1.322219  \n",
       "...             ...                ...               ...               ...  \n",
       "44606           0.0           0.001724   (-7.121, 813.1]          1.176091  \n",
       "44671           0.0           0.005787   (-7.121, 813.1]          1.681241  \n",
       "44684           1.0           0.004556   (-7.121, 813.1]          1.579784  \n",
       "44772           1.0           0.004679   (-7.121, 813.1]          1.591065  \n",
       "44794           1.0           0.004556   (-7.121, 813.1]          1.579784  \n",
       "\n",
       "[1074 rows x 12 columns]"
      ]
     },
     "execution_count": 34,
     "metadata": {},
     "output_type": "execute_result"
    }
   ],
   "source": [
    "df[np.abs(df['log_num_of_words']-df['log_num_of_words'].median())/mad > 3.5]"
   ]
  },
  {
   "cell_type": "code",
   "execution_count": 35,
   "id": "aafbadcd-372e-4663-ad74-a48396e9f875",
   "metadata": {
    "jupyter": {
     "is_executing": true
    }
   },
   "outputs": [
    {
     "data": {
      "text/plain": [
       "34143"
      ]
     },
     "execution_count": 35,
     "metadata": {},
     "output_type": "execute_result"
    }
   ],
   "source": [
    "len(df)"
   ]
  },
  {
   "cell_type": "code",
   "execution_count": 36,
   "id": "b98bf5c9-c76f-4455-b1ef-e241019449d4",
   "metadata": {
    "jupyter": {
     "is_executing": true
    }
   },
   "outputs": [],
   "source": [
    "df = df[abs(df['log_num_of_words']-df['log_num_of_words'].median())/mad < 3.5]"
   ]
  },
  {
   "cell_type": "code",
   "execution_count": 37,
   "id": "b68b86c9-c01a-4673-9b83-01d86651a9f4",
   "metadata": {
    "jupyter": {
     "is_executing": true
    }
   },
   "outputs": [
    {
     "data": {
      "text/plain": [
       "33069"
      ]
     },
     "execution_count": 37,
     "metadata": {},
     "output_type": "execute_result"
    }
   ],
   "source": [
    "len(df)"
   ]
  },
  {
   "cell_type": "markdown",
   "id": "c68affc2",
   "metadata": {},
   "source": [
    "# Gerando análises de similaridade"
   ]
  },
  {
   "cell_type": "code",
   "execution_count": 41,
   "id": "2ace0d4c",
   "metadata": {
    "jupyter": {
     "is_executing": true
    }
   },
   "outputs": [],
   "source": [
    "from scipy.stats import ttest_ind\n",
    "\n",
    "# Convert the list of vectors to a numpy array\n",
    "vectors = np.vstack(df['text_vector'].to_numpy())\n",
    "\n",
    "# Build the FAISS index\n",
    "dimension = vectors.shape[1]\n",
    "index = faiss.IndexFlatL2(dimension)\n",
    "index.add(vectors)"
   ]
  },
  {
   "cell_type": "code",
   "execution_count": 55,
   "id": "a2292452",
   "metadata": {
    "jupyter": {
     "is_executing": true
    }
   },
   "outputs": [],
   "source": [
    "# Selecionando 1000 notícias falsas e 1000 verdadeiras para cada assunto\n",
    "fake_data = df[df['label'] == 0].groupby('subject').sample(1000)\n",
    "true_data = df[df['label'] == 1].groupby('subject').sample(1000)\n",
    "\n",
    "# Concatenando os dados selecionados\n",
    "selected_data = pd.concat([fake_data, true_data])\n",
    "\n",
    "# Listas para armazenar as similaridades\n",
    "fake_vs_fake_similarities = []\n",
    "true_vs_true_similarities = []\n",
    "true_vs_fake_similarities = []\n",
    "\n",
    "for subject in ['politics', 'worldnews']:\n",
    "    fake_indices = fake_data[fake_data['subject'] == subject].index\n",
    "    true_indices = true_data[true_data['subject'] == subject].index\n",
    "    \n",
    "    for fake_index in fake_indices:\n",
    "        query_vector = selected_data[selected_data.index == fake_index]['text_vector'].iloc[0]\n",
    "        distances, indices = index.search(np.array([query_vector]), len(selected_data))\n",
    "        \n",
    "        # Encontrar similaridades falsas vs falsas\n",
    "        fake_vs_fake_similarities.extend([distances[0][i] for i in range(len(indices[0])) if indices[0][i] in fake_indices])\n",
    "        \n",
    "        # Encontrar similaridades falsas vs verdadeiras\n",
    "        true_indices_in_results = [i for i in indices[0] if i in true_indices]\n",
    "        if true_indices_in_results:\n",
    "            true_vs_fake_similarities.append(distances[0][indices[0].tolist().index(true_indices_in_results[0])])\n",
    "    \n",
    "    for true_index in true_indices:\n",
    "        query_vector = selected_data[selected_data.index == true_index]['text_vector'].iloc[0]\n",
    "        distances, indices = index.search(np.array([query_vector]), len(selected_data))\n",
    "        \n",
    "        # Encontrar similaridades verdadeiras vs verdadeiras\n",
    "        true_vs_true_similarities.extend([distances[0][i] for i in range(len(indices[0])) if indices[0][i] in true_indices])\n",
    "        \n",
    "        # Encontrar similaridades verdadeiras vs falsas\n",
    "        fake_indices_in_results = [i for i in indices[0] if i in fake_indices]\n",
    "        if fake_indices_in_results:\n",
    "            true_vs_fake_similarities.append(distances[0][indices[0].tolist().index(fake_indices_in_results[0])])"
   ]
  },
  {
   "cell_type": "markdown",
   "id": "6bb5d26f9924eb90",
   "metadata": {},
   "source": [
    "# Estatísticas descritivas"
   ]
  },
  {
   "cell_type": "markdown",
   "id": "c909fd7c9e228566",
   "metadata": {},
   "source": [
    "## Histograma de distribuição do número de palavras\n",
    "\n",
    "O histograma ilustra a distribuição do número de palavras após uma transformação logarítmica. A maioria dos textos concentra-se em torno de cerca de 6 palavras, com uma diminuição gradual na frequência à medida que o número de palavras aumenta. Textos muito curtos (menos de 4 palavras) ou muito longos (mais de 7 palavras) são menos comuns. Em suma, a análise revela que a maioria dos textos possui um número moderado de palavras, com uma concentração significativa em torno de 6 palavras, destacando a predominância de textos de comprimento médio."
   ]
  },
  {
   "cell_type": "code",
   "execution_count": 43,
   "id": "a1d4f54295a06a04",
   "metadata": {
    "jupyter": {
     "is_executing": true
    }
   },
   "outputs": [
    {
     "data": {
      "image/png": "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",
      "text/plain": [
       "<Figure size 1000x600 with 1 Axes>"
      ]
     },
     "metadata": {},
     "output_type": "display_data"
    }
   ],
   "source": [
    "plt.figure(figsize=(10, 6))\n",
    "plt.hist(np.log(df['num_of_words']), bins=10, edgecolor='black', alpha=0.7)\n",
    "plt.title('Distribuição do Número de Palavras')\n",
    "plt.xlabel('Número de Palavras')\n",
    "plt.ylabel('Frequência')\n",
    "plt.grid(axis='y')\n",
    "plt.show()"
   ]
  },
  {
   "cell_type": "markdown",
   "id": "2a9ce6bbcdbbb17f",
   "metadata": {},
   "source": [
    "## Boxplot representando o número de palavras\n",
    "\n",
    "O boxplot mostra a distribuição do número de palavras em textos após uma transformação logarítmica. A mediana é cerca de 6, sugerindo que a maioria dos textos tem em torno de 6 palavras. A caixa do boxplot, entre o primeiro e terceiro quartil, indica que 50% dos textos possuem entre aproximadamente 5 e 6,5 palavras. Os \"whiskers\" indicam a variação esperada dos dados até 1,5 vezes o intervalo interquartil (IQR). Além disso, há outliers representando textos muito curtos (menos de 4 palavras) ou muito longos (mais de 7 palavras). Em síntese, a análise revela que a maioria dos textos tem um número moderado de palavras, com a predominância de textos de comprimento médio, sendo textos extremamente curtos ou longos menos frequentes."
   ]
  },
  {
   "cell_type": "code",
   "execution_count": 44,
   "id": "df19451b320cbc5f",
   "metadata": {
    "jupyter": {
     "is_executing": true
    }
   },
   "outputs": [
    {
     "data": {
      "image/png": "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",
      "text/plain": [
       "<Figure size 1000x600 with 1 Axes>"
      ]
     },
     "metadata": {},
     "output_type": "display_data"
    }
   ],
   "source": [
    "# Boxplot\n",
    "plt.figure(figsize=(10, 6))\n",
    "plt.boxplot(np.log(df['num_of_words']), vert=False)\n",
    "plt.title('Boxplot do Número de Palavras')\n",
    "plt.xlabel('Número de Palavras')\n",
    "plt.grid(axis='x')\n",
    "plt.show()"
   ]
  },
  {
   "cell_type": "markdown",
   "id": "83316df1",
   "metadata": {},
   "source": [
    "## Gráfico de barras comparando o número de notícias falsas vs verdadeiras por ano\n",
    "\n",
    "O gráfico abaixo compara o número de notícias falsas e verdadeiras publicadas anualmente de 2015 a 2018. \n",
    "As conclusões são:\n",
    "\n",
    "2015: Poucas notícias, com ligeira predominância das falsas.\n",
    "2016: Aumento significativo de notícias, com mais falsas do que verdadeiras.\n",
    "2017: Pico de notícias, com um aumento expressivo em ambas as categorias, sendo as verdadeiras consideravelmente mais numerosas.\n",
    "2018: Poucas notícias, tanto falsas quanto verdadeiras, indicando baixa coleta de dados ou atividade mínima.\n",
    "\n",
    "Em resumo, o período de 2016 a 2017 registrou um aumento acentuado na produção ou coleta de notícias, com destaque para 2017, especialmente para as notícias verdadeiras."
   ]
  },
  {
   "cell_type": "code",
   "execution_count": 48,
   "id": "9d7dc8d9",
   "metadata": {
    "jupyter": {
     "is_executing": true
    }
   },
   "outputs": [],
   "source": [
    "date_formats = ['%B%d,%Y', '%d-%b-%y', '%B%d,%Y', '%b%d,%Y', '%d-%b-%Y', '%d%B%Y', '%d%b%Y', '%Y-%m-%d', '%m-%d-%Y', '%Y/%m/%d', '%B%d,%Y', '%B%d,%Y', '%B%d,%Y', '%B%d,%Y']\n",
    "\n",
    "def is_valid_date(date_str):\n",
    "    for format_str in date_formats:\n",
    "        try:\n",
    "            return pd.to_datetime(re.sub(r'\\s+', '', str(date_str)), format=format_str)\n",
    "        except ValueError:\n",
    "            pass\n",
    "\n",
    "    return pd.NaT\n",
    "\n",
    "valid_dates = df.copy()\n",
    "valid_dates['date'] = valid_dates['date'].map(is_valid_date)\n",
    "valid_dates['year'] = valid_dates['date'].dt.year"
   ]
  },
  {
   "cell_type": "code",
   "execution_count": 49,
   "id": "7656c2ce",
   "metadata": {
    "jupyter": {
     "is_executing": true
    }
   },
   "outputs": [
    {
     "data": {
      "text/plain": [
       "<Figure size 1200x600 with 0 Axes>"
      ]
     },
     "metadata": {},
     "output_type": "display_data"
    },
    {
     "data": {
      "image/png": "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",
      "text/plain": [
       "<Figure size 640x480 with 1 Axes>"
      ]
     },
     "metadata": {},
     "output_type": "display_data"
    }
   ],
   "source": [
    "# Contar o número de notícias falsas e verdadeiras por ano\n",
    "fake_news_per_year = valid_dates[valid_dates['label'] == 0].groupby('year').size()\n",
    "true_news_per_year = valid_dates[valid_dates['label'] == 1].groupby('year').size()\n",
    "\n",
    "# Criar um DataFrame com esses dados\n",
    "news_counts_per_year = pd.DataFrame({\n",
    "    'Fake News': fake_news_per_year,\n",
    "    'True News': true_news_per_year\n",
    "}).fillna(0)  # Preencher valores ausentes com 0\n",
    "\n",
    "# Plotar o gráfico\n",
    "plt.figure(figsize=(12, 6))\n",
    "news_counts_per_year.plot(kind='bar', stacked=False, alpha=0.75)\n",
    "plt.title('Número de Notícias Falsas vs Verdadeiras por Ano')\n",
    "plt.xlabel('Ano')\n",
    "plt.ylabel('Número de Notícias')\n",
    "plt.xticks(rotation=45)\n",
    "plt.legend(title='Tipo de Notícia')\n",
    "plt.tight_layout()\n",
    "plt.grid(axis='y')\n",
    "plt.show()"
   ]
  },
  {
   "cell_type": "markdown",
   "id": "d8804e84",
   "metadata": {},
   "source": [
    "## Gráfico de Similaridade em Notícias Verdadeiras, Falsas e Mistas\n",
    "\n",
    "### Descrição dos Gráficos de Similaridade em Notícias Verdadeiras, Falsas e Mistas\n",
    "\n",
    "O gráfico compara a similaridade das notícias falsas, verdadeiras e mistas em relação aos subjects \"worldnews\" e \"politics\". A similaridade é representada pela distância média (quanto menor a distância, maior a similaridade).\n",
    "\n",
    "### Análise\n",
    "\n",
    "- Fake vs Fake: Notícias falsas têm uma similaridade moderada, com uma distância média em torno de 20.\n",
    "- True vs True: Notícias verdadeiras têm a menor similaridade, com a maior distância média, ligeiramente acima de 20.\n",
    "- True vs Fake: Notícias mistas têm a maior similaridade, com a menor distância média, aproximadamente 15.\n",
    "\n",
    "### Conclusão\n",
    "\n",
    "As notícias mistas (verdadeiras vs falsas) mostram maior similaridade entre si, indicando que as notícias verdadeiras e falsas compartilham características comuns. As notícias verdadeiras mantêm menor similaridade quando comparadas entre si, enquanto as notícias falsas também têm uma similaridade moderada dentro do seu grupo."
   ]
  },
  {
   "cell_type": "code",
   "execution_count": 50,
   "id": "6efe8598",
   "metadata": {
    "jupyter": {
     "is_executing": true
    }
   },
   "outputs": [
    {
     "data": {
      "image/png": "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",
      "text/plain": [
       "<Figure size 640x480 with 1 Axes>"
      ]
     },
     "metadata": {},
     "output_type": "display_data"
    }
   ],
   "source": [
    "# Calculando as médias das similaridades\n",
    "labels = ['Fake vs Fake', 'True vs True', 'True vs Fake']\n",
    "similarities = [np.mean(fake_vs_fake_similarities), np.mean(true_vs_true_similarities), np.mean(true_vs_fake_similarities)]\n",
    "\n",
    "# Plotando as similaridades\n",
    "plt.bar(labels, similarities)\n",
    "plt.ylabel('Distância média de Similaridade')\n",
    "plt.title('Comparação de similaridade (quanto menor a distância, mais similar)')\n",
    "plt.show()"
   ]
  },
  {
   "cell_type": "markdown",
   "id": "1d8769d4b2d4b161",
   "metadata": {},
   "source": [
    "# Teste de hipótese"
   ]
  },
  {
   "cell_type": "markdown",
   "id": "b44aae9a",
   "metadata": {},
   "source": [
    "## Teste de Hipótese: Similaridade entre Notícias Verdadeiras, Falsas e Mistas\n",
    "\n",
    "Neste notebook, realizaremos um teste de hipótese para comparar a similaridade entre notícias verdadeiras, falsas e mistas. A similaridade é medida pela distância média (quanto menor a distância, maior a similaridade). O objetivo é determinar se há uma diferença significativa na similaridade entre as diferentes categorias de notícias.\n",
    "\n",
    "### Passos do Teste de Hipótese\n",
    "\n",
    "#### Definir Hipóteses:\n",
    "\n",
    "- \\(H_0\\) (Hipótese Nula): Não há diferença significativa na similaridade entre as diferentes categorias de notícias.\n",
    "- \\(H_a\\) (Hipótese Alternativa): Há uma diferença significativa na similaridade entre as diferentes categorias de notícias.\n",
    "\n",
    "#### Calcular as Distâncias Médias:\n",
    "\n",
    "- Obter as distâncias médias para cada categoria: Fake vs Fake, True vs True, e True vs Fake.\n",
    "\n",
    "#### Realizar Teste de Hipótese:\n",
    "\n",
    "- Usar o teste t de Student para comparar as distâncias médias entre as categorias.\n",
    "\n",
    "#### Analisar os Resultados:\n",
    "\n",
    "- Interpretar os valores p para determinar se rejeitamos ou não a hipótese nula.\n",
    "\n",
    "## Resultados dos Testes de Hipótese\n",
    "\n",
    "Os resultados dos testes para comparar as similaridades entre as diferentes categorias de notícias são os seguintes:\n",
    "\n",
    "### Teste entre Fake vs Fake e True vs True:\n",
    "\n",
    "- T-statistic: -16.37274849962382\n",
    "- P-value: 1.6354346712162612e-56\n",
    "- Conclusão: Rejeitamos a hipótese nula. Há uma diferença significativa na similaridade entre Fake vs Fake e True vs True.\n",
    "- Observação: O resultado é altamente significativo (p < 0.01).\n",
    "\n",
    "### Teste entre Fake vs Fake e True vs Fake:\n",
    "\n",
    "- T-statistic: 25.650055569958536\n",
    "- P-value: 1.199788220568109e-125\n",
    "- Conclusão: Rejeitamos a hipótese nula. Há uma diferença significativa na similaridade entre Fake vs Fake e True vs Fake.\n",
    "- Observação: O resultado é altamente significativo (p < 0.01).\n",
    "\n",
    "### Teste entre True vs True e True vs Fake:\n",
    "\n",
    "- T-statistic: 44.84103110401803\n",
    "- P-value: 2.239345677091325e-302\n",
    "- Conclusão: Rejeitamos a hipótese nula. Há uma diferença significativa na similaridade entre True vs True e True vs Fake.\n",
    "- Observação: O resultado é altamente significativo (p < 0.01).\n"
   ]
  },
  {
   "cell_type": "code",
   "execution_count": 51,
   "id": "9b5ff59c",
   "metadata": {
    "jupyter": {
     "is_executing": true
    }
   },
   "outputs": [
    {
     "name": "stdout",
     "output_type": "stream",
     "text": [
      "Teste t de Student entre Fake vs Fake e True vs True:\n",
      "T-statistic: -7.083309578945615\n",
      "P-value: 2.143246468998384e-12\n",
      "\n",
      "Resultado: Rejeitamos a hipótese nula. Há uma diferença significativa na similaridade entre Fake vs Fake e True vs True.\n",
      "Observação: O resultado é altamente significativo (p < 0.01).\n",
      "\n",
      "--------------------------------------------------\n",
      "\n",
      "Teste t de Student entre Fake vs Fake e True vs Fake:\n",
      "T-statistic: 26.483285739481822\n",
      "P-value: 2.7628656501380063e-130\n",
      "\n",
      "Resultado: Rejeitamos a hipótese nula. Há uma diferença significativa na similaridade entre Fake vs Fake e True vs Fake.\n",
      "Observação: O resultado é altamente significativo (p < 0.01).\n",
      "\n",
      "--------------------------------------------------\n",
      "\n",
      "Teste t de Student entre True vs True e True vs Fake:\n",
      "T-statistic: 46.50097969140549\n",
      "P-value: 1.43140936e-315\n",
      "\n",
      "Resultado: Rejeitamos a hipótese nula. Há uma diferença significativa na similaridade entre True vs True e True vs Fake.\n",
      "Observação: O resultado é altamente significativo (p < 0.01).\n",
      "\n",
      "--------------------------------------------------\n",
      "\n"
     ]
    }
   ],
   "source": [
    "def perform_t_test(sample1, sample2, label1, label2):\n",
    "    t_stat, p_value = ttest_ind(sample1, sample2, equal_var=False)\n",
    "    print(f\"Teste t de Student entre {label1} e {label2}:\")\n",
    "    print(f\"T-statistic: {t_stat}\")\n",
    "    print(f\"P-value: {p_value}\\n\")\n",
    "    \n",
    "    # Interpretação dos resultados\n",
    "    alpha = 0.05  # Nível de significância de 5%\n",
    "    if p_value < alpha:\n",
    "        print(f\"Resultado: Rejeitamos a hipótese nula. Há uma diferença significativa na similaridade entre {label1} e {label2}.\")\n",
    "    else:\n",
    "        print(f\"Resultado: Não rejeitamos a hipótese nula. Não há diferença significativa na similaridade entre {label1} e {label2}.\")\n",
    "\n",
    "    # Detalhes adicionais para interpretação\n",
    "    if p_value < 0.01:\n",
    "        print(\"Observação: O resultado é altamente significativo (p < 0.01).\")\n",
    "    elif p_value < 0.05:\n",
    "        print(\"Observação: O resultado é estatisticamente significativo (p < 0.05).\")\n",
    "    else:\n",
    "        print(\"Observação: O resultado não é estatisticamente significativo (p >= 0.05).\")\n",
    "\n",
    "    print(\"\\n\" + \"-\"*50 + \"\\n\")\n",
    "\n",
    "# Realizando os testes de hipótese\n",
    "cropped_sample_fake_vs_fake = random.sample(fake_vs_fake_similarities, 1000)\n",
    "cropped_sample_true_vs_true = random.sample(true_vs_true_similarities, 1000)\n",
    "cropped_sample_true_vs_fake = random.sample(true_vs_fake_similarities, 1000)\n",
    "\n",
    "perform_t_test(cropped_sample_fake_vs_fake, cropped_sample_true_vs_true, 'Fake vs Fake', 'True vs True')\n",
    "perform_t_test(cropped_sample_fake_vs_fake, cropped_sample_true_vs_fake, 'Fake vs Fake', 'True vs Fake')\n",
    "perform_t_test(cropped_sample_true_vs_true, cropped_sample_true_vs_fake, 'True vs True', 'True vs Fake')"
   ]
  },
  {
   "cell_type": "markdown",
   "id": "5ad609cd",
   "metadata": {},
   "source": [
    "## Teste Qui-Quadrado para Proporção de Notícias Falsas em Textos Curtos e Longos\n",
    "\n",
    "O código abaixo realiza um teste qui-quadrado de contingência para avaliar a proporção de notícias falsas em textos curtos (com menos de 150 palavras) e longos (com 150 palavras ou mais). Após dividir as notícias em categorias com base no comprimento, são calculadas as proporções de notícias falsas e verdadeiras em cada categoria. O teste estatístico é realizado e o resultado é exibido, mostrando a estatística Qui-Quadrado (Chi2) e o valor P associado. No caso específico deste teste, em que o resultado foi: Chi2 statistic: 188.04, P-value: 0.00000, conclui-se que há uma diferença estatisticamente significativa na proporção de notícias falsas entre textos curtos e longos. Isso sugere que a probabilidade de uma notícia ser falsa está associada ao comprimento do texto. As proporções de notícias falsas e verdadeiras são exibidas para ambas as categorias, e é destacado que é mais provável que um texto longo seja uma notícia falsa em comparação a um texto curto, enquanto é mais provável que um texto curto seja uma notícia verdadeira em comparação a um texto longo."
   ]
  },
  {
   "cell_type": "code",
   "execution_count": 57,
   "id": "e1808710",
   "metadata": {
    "jupyter": {
     "is_executing": true
    }
   },
   "outputs": [
    {
     "name": "stdout",
     "output_type": "stream",
     "text": [
      "Chi2 statistic: 213.08, P-value: 0.00000\n",
      "Há uma diferença estatisticamente significativa na proporção de notícias falsas entre textos curtos e longos. Isso sugere que a probabilidade de uma notícia ser falsa está associada ao comprimento do texto.\n",
      "Proporção de notícias falsas entre textos curtos: 23.77%\n",
      "Proporção de notícias verdadeiras entre textos curtos: 76.23%\n",
      "Proporção de notícias falsas entre textos longos: 55.11%\n",
      "Proporção de notícias verdadeiras entre textos longos: 44.89%\n",
      "É mais provável que um texto longo seja uma notícia falsa comparado a um texto curto.\n",
      "É mais provável que um texto curto seja uma notícia verdadeira comparado a um texto longo.\n"
     ]
    }
   ],
   "source": [
    "from scipy.stats import chi2_contingency\n",
    "\n",
    "# Dividir as notícias em curtas e longas\n",
    "short_texts = selected_data[selected_data['num_of_words'] < 150]\n",
    "long_texts = selected_data[selected_data['num_of_words'] >= 150]\n",
    "\n",
    "# Calcular a proporção de notícias falsas e verdadeiras em cada categoria\n",
    "short_fake_count = short_texts[short_texts['label'] == 0].shape[0]\n",
    "short_true_count = short_texts[short_texts['label'] == 1].shape[0]\n",
    "long_fake_count = long_texts[long_texts['label'] == 0].shape[0]\n",
    "long_true_count = long_texts[long_texts['label'] == 1].shape[0]\n",
    "\n",
    "short_fake_proportion = short_fake_count / short_texts.shape[0]\n",
    "short_true_proportion = short_true_count / short_texts.shape[0]\n",
    "long_fake_proportion = long_fake_count / long_texts.shape[0]\n",
    "long_true_proportion = long_true_count / long_texts.shape[0]\n",
    "\n",
    "# Preparar os dados para o teste qui-quadrado de contingência\n",
    "contingency_table = pd.DataFrame({\n",
    "    'Short Texts': [short_fake_count, short_true_count],\n",
    "    'Long Texts': [long_fake_count, long_true_count]\n",
    "}, index=['Fake', 'True'])\n",
    "\n",
    "# Realizar o teste qui-quadrado de contingência\n",
    "chi2, p, dof, expected = chi2_contingency(contingency_table)\n",
    "print(f\"Chi2 statistic: {chi2:.2f}, P-value: {p:.5f}\")\n",
    "\n",
    "if p < 0.05:\n",
    "    print(\"Há uma diferença estatisticamente significativa na proporção de notícias falsas entre textos curtos e longos. \"\n",
    "          \"Isso sugere que a probabilidade de uma notícia ser falsa está associada ao comprimento do texto.\")\n",
    "\n",
    "    print(f\"Proporção de notícias falsas entre textos curtos: {short_fake_proportion:.2%}\")\n",
    "    print(f\"Proporção de notícias verdadeiras entre textos curtos: {short_true_proportion:.2%}\")\n",
    "    print(f\"Proporção de notícias falsas entre textos longos: {long_fake_proportion:.2%}\")\n",
    "    print(f\"Proporção de notícias verdadeiras entre textos longos: {long_true_proportion:.2%}\")\n",
    "\n",
    "    if short_fake_proportion > long_fake_proportion:\n",
    "        print(\"É mais provável que um texto curto seja uma notícia falsa comparado a um texto longo.\")\n",
    "    else:\n",
    "        print(\"É mais provável que um texto longo seja uma notícia falsa comparado a um texto curto.\")\n",
    "\n",
    "    if short_true_proportion > long_true_proportion:\n",
    "        print(\"É mais provável que um texto curto seja uma notícia verdadeira comparado a um texto longo.\")\n",
    "    else:\n",
    "        print(\"É mais provável que um texto longo seja uma notícia verdadeira comparado a um texto curto.\")\n",
    "else:\n",
    "    print(\"Não há uma diferença estatisticamente significativa na proporção de notícias falsas entre textos curtos e longos. \"\n",
    "          \"Isso sugere que a probabilidade de uma notícia ser falsa não está associada ao comprimento do texto.\")"
   ]
  },
  {
   "cell_type": "markdown",
   "id": "e957a4a6-667c-4edf-a362-36152c70ce48",
   "metadata": {},
   "source": [
    "# Classificação"
   ]
  },
  {
   "cell_type": "code",
   "execution_count": 62,
   "id": "44f1897d-58f8-420a-9730-ab3067b921e4",
   "metadata": {
    "jupyter": {
     "is_executing": true
    }
   },
   "outputs": [
    {
     "data": {
      "text/plain": [
       "title                  object\n",
       "text                   object\n",
       "subject                object\n",
       "date                   object\n",
       "label                   int64\n",
       "num_of_words          float64\n",
       "text_vector            object\n",
       "num_subjects           object\n",
       "subject_norm          float64\n",
       "num_of_words_norm     float64\n",
       "num_of_words_dist    category\n",
       "log_num_of_words      float64\n",
       "dtype: object"
      ]
     },
     "execution_count": 62,
     "metadata": {},
     "output_type": "execute_result"
    }
   ],
   "source": [
    "# setando label para int, para utilizar o modelo\n",
    "df['label'] = df['label'].astype('int')\n",
    "df.dtypes"
   ]
  },
  {
   "cell_type": "code",
   "execution_count": 63,
   "id": "bf4b8483-fa67-41b0-954d-7c3b11570889",
   "metadata": {
    "jupyter": {
     "is_executing": true
    }
   },
   "outputs": [
    {
     "data": {
      "text/html": [
       "<div>\n",
       "<style scoped>\n",
       "    .dataframe tbody tr th:only-of-type {\n",
       "        vertical-align: middle;\n",
       "    }\n",
       "\n",
       "    .dataframe tbody tr th {\n",
       "        vertical-align: top;\n",
       "    }\n",
       "\n",
       "    .dataframe thead th {\n",
       "        text-align: right;\n",
       "    }\n",
       "</style>\n",
       "<table border=\"1\" class=\"dataframe\">\n",
       "  <thead>\n",
       "    <tr style=\"text-align: right;\">\n",
       "      <th></th>\n",
       "      <th>title</th>\n",
       "      <th>text</th>\n",
       "      <th>subject</th>\n",
       "      <th>date</th>\n",
       "      <th>label</th>\n",
       "      <th>num_of_words</th>\n",
       "      <th>text_vector</th>\n",
       "      <th>num_subjects</th>\n",
       "      <th>subject_norm</th>\n",
       "      <th>num_of_words_norm</th>\n",
       "      <th>num_of_words_dist</th>\n",
       "      <th>log_num_of_words</th>\n",
       "    </tr>\n",
       "  </thead>\n",
       "  <tbody>\n",
       "    <tr>\n",
       "      <th>0</th>\n",
       "      <td>Italy adopts living wills allowing patients to...</td>\n",
       "      <td>ROME Reuters  Italy s Senate passed into law o...</td>\n",
       "      <td>worldnews</td>\n",
       "      <td>December 14, 2017</td>\n",
       "      <td>1</td>\n",
       "      <td>406.0</td>\n",
       "      <td>[-0.00262323, 0.19649883, -0.34882462, -0.0781...</td>\n",
       "      <td>1</td>\n",
       "      <td>1.0</td>\n",
       "      <td>0.049871</td>\n",
       "      <td>(-7.121, 813.1]</td>\n",
       "      <td>2.608526</td>\n",
       "    </tr>\n",
       "    <tr>\n",
       "      <th>4</th>\n",
       "      <td>Scottish government recommends rejection of EU...</td>\n",
       "      <td>EDINBURGH Reuters  Scotland s devolved governm...</td>\n",
       "      <td>worldnews</td>\n",
       "      <td>September 12, 2017</td>\n",
       "      <td>1</td>\n",
       "      <td>405.0</td>\n",
       "      <td>[0.187226713, 0.187935397, 0.12457943, -0.3222...</td>\n",
       "      <td>1</td>\n",
       "      <td>1.0</td>\n",
       "      <td>0.049748</td>\n",
       "      <td>(-7.121, 813.1]</td>\n",
       "      <td>2.607455</td>\n",
       "    </tr>\n",
       "    <tr>\n",
       "      <th>6</th>\n",
       "      <td>Lawmaker says he misspoke about Republican Par...</td>\n",
       "      <td>WASHINGTON Reuters  Republican congressman Mic...</td>\n",
       "      <td>politics</td>\n",
       "      <td>September 14, 2016</td>\n",
       "      <td>1</td>\n",
       "      <td>236.0</td>\n",
       "      <td>[-0.57206893, -0.37807405, -0.733300567, 0.047...</td>\n",
       "      <td>0</td>\n",
       "      <td>0.0</td>\n",
       "      <td>0.028937</td>\n",
       "      <td>(-7.121, 813.1]</td>\n",
       "      <td>2.372912</td>\n",
       "    </tr>\n",
       "    <tr>\n",
       "      <th>8</th>\n",
       "      <td>Treasury watchdog reviewing Mnuchin's solar ec...</td>\n",
       "      <td>WASHINGTON Reuters  A federal watchdog said on...</td>\n",
       "      <td>politics</td>\n",
       "      <td>September 1, 2017</td>\n",
       "      <td>1</td>\n",
       "      <td>342.0</td>\n",
       "      <td>[-0.0251845941, -0.288073927, 0.0620639287, -0...</td>\n",
       "      <td>0</td>\n",
       "      <td>0.0</td>\n",
       "      <td>0.041990</td>\n",
       "      <td>(-7.121, 813.1]</td>\n",
       "      <td>2.534026</td>\n",
       "    </tr>\n",
       "    <tr>\n",
       "      <th>10</th>\n",
       "      <td>Illinois governor vetoes Chicago pension fix, ...</td>\n",
       "      <td>CHICAGO Reuters  Illinois Governor Bruce Raune...</td>\n",
       "      <td>politics</td>\n",
       "      <td>March 24, 2017</td>\n",
       "      <td>1</td>\n",
       "      <td>397.0</td>\n",
       "      <td>[-0.505661368, 0.178269655, 0.321647137, -0.04...</td>\n",
       "      <td>0</td>\n",
       "      <td>0.0</td>\n",
       "      <td>0.048762</td>\n",
       "      <td>(-7.121, 813.1]</td>\n",
       "      <td>2.598791</td>\n",
       "    </tr>\n",
       "  </tbody>\n",
       "</table>\n",
       "</div>"
      ],
      "text/plain": [
       "                                                title  \\\n",
       "0   Italy adopts living wills allowing patients to...   \n",
       "4   Scottish government recommends rejection of EU...   \n",
       "6   Lawmaker says he misspoke about Republican Par...   \n",
       "8   Treasury watchdog reviewing Mnuchin's solar ec...   \n",
       "10  Illinois governor vetoes Chicago pension fix, ...   \n",
       "\n",
       "                                                 text    subject  \\\n",
       "0   ROME Reuters  Italy s Senate passed into law o...  worldnews   \n",
       "4   EDINBURGH Reuters  Scotland s devolved governm...  worldnews   \n",
       "6   WASHINGTON Reuters  Republican congressman Mic...   politics   \n",
       "8   WASHINGTON Reuters  A federal watchdog said on...   politics   \n",
       "10  CHICAGO Reuters  Illinois Governor Bruce Raune...   politics   \n",
       "\n",
       "                   date  label  num_of_words  \\\n",
       "0    December 14, 2017       1         406.0   \n",
       "4   September 12, 2017       1         405.0   \n",
       "6   September 14, 2016       1         236.0   \n",
       "8    September 1, 2017       1         342.0   \n",
       "10      March 24, 2017       1         397.0   \n",
       "\n",
       "                                          text_vector num_subjects  \\\n",
       "0   [-0.00262323, 0.19649883, -0.34882462, -0.0781...            1   \n",
       "4   [0.187226713, 0.187935397, 0.12457943, -0.3222...            1   \n",
       "6   [-0.57206893, -0.37807405, -0.733300567, 0.047...            0   \n",
       "8   [-0.0251845941, -0.288073927, 0.0620639287, -0...            0   \n",
       "10  [-0.505661368, 0.178269655, 0.321647137, -0.04...            0   \n",
       "\n",
       "    subject_norm  num_of_words_norm num_of_words_dist  log_num_of_words  \n",
       "0            1.0           0.049871   (-7.121, 813.1]          2.608526  \n",
       "4            1.0           0.049748   (-7.121, 813.1]          2.607455  \n",
       "6            0.0           0.028937   (-7.121, 813.1]          2.372912  \n",
       "8            0.0           0.041990   (-7.121, 813.1]          2.534026  \n",
       "10           0.0           0.048762   (-7.121, 813.1]          2.598791  "
      ]
     },
     "execution_count": 63,
     "metadata": {},
     "output_type": "execute_result"
    }
   ],
   "source": [
    "df.head()"
   ]
  },
  {
   "cell_type": "code",
   "execution_count": 64,
   "id": "dba51ae1-aa64-4fe6-95d6-60a9ac14a683",
   "metadata": {
    "jupyter": {
     "is_executing": true
    }
   },
   "outputs": [],
   "source": [
    "x_df = df[['num_of_words_norm','subject_norm']]\n",
    "y_df = df['label']\n",
    "xtrain, xtest, ytrain, ytest = train_test_split(x_df, y_df, random_state=1)"
   ]
  },
  {
   "cell_type": "code",
   "execution_count": 65,
   "id": "0f75cae8-abc9-42f7-af66-e45e41beab35",
   "metadata": {
    "jupyter": {
     "is_executing": true
    }
   },
   "outputs": [
    {
     "data": {
      "image/png": "iVBORw0KGgoAAAANSUhEUgAAAjQAAAGxCAYAAAB1Hiz1AAAAOXRFWHRTb2Z0d2FyZQBNYXRwbG90bGliIHZlcnNpb24zLjkuMCwgaHR0cHM6Ly9tYXRwbG90bGliLm9yZy80BEi2AAAACXBIWXMAAA9hAAAPYQGoP6dpAABZ0UlEQVR4nO3dd3hUZf7+8feZmSSTQiAFQi+iQEQIJaICLoqCoKKIuquoYNddy7q6u4quKywiov7c77qoYEFBESxgWQUFewekhC69t4QaUiaZmef3xyRDhpSZhAAeuF/X5SVzynOe85knM3dOi2WMMYiIiIjYmON4d0BERETkSCnQiIiIiO0p0IiIiIjtKdCIiIiI7SnQiIiIiO0p0IiIiIjtKdCIiIiI7SnQiIiIiO0p0IiIiIjtKdCIiIiI7bmOdweOtd27c4n0jz1YFqSk1KnWOicb1SgyqlN4qlFkVKfIqE7h2aVGpf0M56QLNMZQ7TeuJuucbFSjyKhO4alGkVGdIqM6hXei1EinnERERMT2FGhERETE9hRoRERExPYUaERERMT2FGhERETE9hRoRERExPYUaERERMT2FGhERETE9n4TD9YrKipi0KBBPProo5x11lkVLrN8+XIee+wxVq1axamnnsqIESM444wzjnFPD4ltUJc4DNZx2LYBDA5W059cmtOYebjZSyH12EEGKayiHpvw4qaAeqSyghgO4sfJr1xGDAdJZCuFJLKY68liKF5iAYOFoQFLyORFmvM9LjzsoSVLGUw+DejIZJrzHdHkYnBSSF1W0pEF3MZq+hLIyBYWYOEvadF52B4EquagiHTepRMTqMt2iollC2djgCb8QjR57KM587ibvZyCnyhc5JPADnbRnjwah1QlioO42Y0XNx6S8BMTMt9FPtHkUYybYuJw4Kch8+nM6zTjJxwUs5/m+IiiHhtw4SGfFFZzKfO5jSISqcNWOvMKxUSznKs5g3foygRi2Y0BikmgiAR8RFNIXdzsYQcZfM1IDtKQ5nxPD56iEQtxUlRSI1jCdXzHP9hHS/y4sPCRwA6a8CMt+JbT+YAEdoQdF1vpxq9cRhN+oTnfE01uSb29uPBWub6PaLbSlXh2UYcd7KcZP/I31tEHJx5OZxqZjKMum7HwBbcZ7megiFiceHFSDIAfJx4ScVAcrEFgNCSQSxTJ7MLC4CWaApIxuIgijxgO4CjZbqC/Fl7iiCYfC1My1iws/BygKQu4jTX0x4ubZGstnRt+RJOBdVnX5lYWzW7D/nUOXLHQoo+X068tJGnpZ7hfexnX0sVYB/PwEk2RNw6f34XlsIiK8xNVx4FJrkfRBX0ovOEm/E2alt/hwkJiPpyO+92pOHbuxOOJZv+uBJwF+7GMD2O5qOPciTu+CO8ZHSj4490UXdAXnIf/nJSXu9VixRtRbPsWCg/GUe80P6dfX0yz33mJWjCX2IkTcC1dgnE4KO7eg8Ibb8V36mlh2y3X/4/ex/3OFBw7d+KvVw/PwEF4rr4Gk1g34mZ2ZTlY9noUuxY6sRzQ8Ewf7W8sJiXdX/WKRUXEzPyYmClv4ty6FZOYiOeSyyi89jpMUnL19kWCXFkLcb/+KlELF2AcDrxndqPwplvh3Iq/cyOVt8Ni+RtRbPzchbcA6p4SGJPNe/uwjvEhE8uY4/t8QI/HwwMPPMDs2bOZNGlShYEmPz+fvn37MmDAAK666iqmTJnCzJkzmT17NnFxcdXaXk5O9f70QWpqnXLrJDdILPnaPvYMUEASs3maC3mIuJIvUgcGPw4s/HhxE0UhgS5bgOEATfARTTLr8ePEgY+VXMo03sZHDKbkYF0f/k53nsGHC2fJF6APJ86SLxI/DhyEfiD5sXBg2EAvpvIhHiL70LPwYnDRmpn8nquIIj9kfj6pTOYTttMNi2IMURz6Co3kq7Qqht8xkvN5LGT/Dm+9dH8P0Jg3+Yxs2gMWceziWi6lKfNCelL236U1/JUBTON1LuRRuvFCSG1Ll/+FO5jBWEzwd4zAnGRWcTtdiCavyr0tbWcvLUhi4xHUJdDWXk7hFX6mgBRiyWEwA2jK3JBaHanK6lbZvyNtbwG38DHjSqYF6umgGD9RNOV7ruUyfrQe5AfzIADx1k4Gm4tpzIJy73+l/XIEfl4OjnmWwqE3B/vgXPUrdX8/EOe2rRjLwir54Ai3f8UZndg/ZTomNbXS/Vv6ehTfPRQDFhhfoAXLaXD4irg2+Xpa73kP43JheUvGltOJ5fORd//fyH/wH4EPtDCcq1cF+r91C8bhwPL7MSXrmTp1OPDG2xSf06PKNvxe+PqBGFZOicZyGYz3UF+Nz6LjHUX0GOGp8MvOsWkjdX8/ENe6tRiHE8vvC3yOWRa43RyY8EYg/EWgss/vk47XS8ID9xI75U2M04XlKx0fJf++7z5yhg3H1CB9rJzq4qu/uMGA8Ye+zw26+Lj0rXzctZBBS9/LcI7rKac1a9bw+9//nk2bNlW53IwZM4iJieHvf/87rVu35pFHHiE+Pp5PP/30GPX0kKTjGGYgcGTmf7zMRdxPLHuxMDhKoosDPxbgpBgfUSVHSQweEgAHddlcspyPzZzDu0zHi7vkCIrF73ic7jwDEPzCDfz70BfY4WEmMC2w/eZ8zx8YCET26VH6ZbOOPkxjSkl/S79InExmJjvoXLJsVMla1mH/r5lu/JfzeQwI3b/DWy/d33h2MpTziWcnAAUkM5X/kUf9kJ6U/XdpDU/jE27nHM7kxZDpZZfvyktcyLByLe2hDa/xXdj9KW2n3hGGmVL12EBDsrDwcx2X0Ij5ALUWZoBK61bZvyNpbwVX8D9eweAsEw7BXzJ+tnI2U/mIC8wwuvAyDoq5zlxEQ7JCtlfRKAv5t9+P5fdT52/3Ef3R+4FpOTnUu+ISHDsDR9KsMt+i4fbPtTiLun+4AoqLK9y3NR+5+PbvbozfCoYZCASbS7mdVnumB9rzlhlbvsB7Ff/s08S+OLbCdsuydu+m3sCLcezYHtzH0v2wjME6eJC61wzC+evKKtv5/h8xrJwaqHdpmCntK8Di8VHMeya6/PYP5lJv0KU4N24o2X6g/1ZJHygsJHHItbgWzg+7L3JIwj8ewj11MkAwzIT8+//+j7inR1e73Q2fOfnyz26M71CYgUPvc3aWg4+vjcNfex8ZYR3XQDN37lzOOuss3n777SqXy8rKomvXrlglvylYlkWXLl1YtGjRMehlqMBX//Gzhn605FuiyA85/F6WA1/wVAbADrqQyJaQL9KvGV5ywiwwBGLYT0+eOKK+OfDRiq9pydfVWs/gYhWXsZXM4LRfuYztZJYJMrXHSSHnlYSZyNfxEctezuQFoPQEVgq/cHvYdR34SWUVVhVBz8JwFv9HHLvKzdtJZ7YQ2WHh2hibpW30YgRt+Jgm/FKrQeZoMcAXjAb8VFYJg4vN9GQtfTiff5DOezQiq9KfpbDbtCwSHh8OxhD7+itYu3OCQaI6LGOIWpJF9Gczy2/DwM8jY8AqP35S+JVOTKrwF42y4p4ZDfn5VS4TO/HVKvtv+f1QVETc2P+rtI2D2yyWvhYFpqqRaLHguWg8+0Onxrw9BcfmTZVv3xjw+4n7f2Oq3A85xLFtK+7XXg4J1xWJfe7fWPv3RdyuMfDzqNJT+pX8rPksdi10sunz8KdSa8txDTSDBw/m4YcfJjY2tsrlsrOzadCgQci0lJQUduyo+pqC2lbntBbHNcwALORmOjEhJJxUxIEveO1KHbaFfJXupxnr6BvyG2x73saF54j758NFF16q9noOilnArcHX87kdK8w+1lQ7PiSWfdVez4GPTF6k9AiUwcU+WkW0biTHrCz8ZDCpguk+FnBbNXp65Bz4acH3nM2/8Ze7Buq3aQtns5u2hPtYc1DMfG4ngV304Mkj2j/LGJwb1hM15yfcE18NHtWoCWNZxE6cUG769jlODmx0VBgSOjMBXwT9tw4eJOaTj6pcxv36qxCm/5bPR8z0d7FyD1Q4f+XUqEjObOEvhtXTQ39ZiZ34atj1LJ+P6NmfBY+CSdXcUyeDI4Kv+eJiYqa9G3G72Ysd7FnpDBNcA6eflk0sfzTuaPlNXBQcTkFBAdHRoUWJjo6mqKio2m1F8sN2+LKl/4/av7fa26ttedQnhoMRLVv6W2ddNgdPC0Hg+ojDJbMGP67ghZs15cRLKr9Wez0/Uezh0MWLObQNCVy1KZk1IdexVEc8ObgowEvg2q049kR0nUckw87gJJm1FU7fTZtq97U2pLC6xkcvjrU9nBrRcn6i2E1b/Dipx6Za2T/nmtU4d+48ojYsY3CuW1PuM+rA+spHTxJrSi6qDsMVhXPj+so//7xenCWnmsL2s7gY584d+BITy807sN4RyJNhuuRwwYGNjpD+ODdsCHskAUrqtHkjpmHDqpc77PP7ZOTcsD6yArhcuKoaH4c5sD6yYyHGZ7FvrXXE70Gk69si0MTExJQLL0VFRbjd7mq3lZIS/sKi2ljn6Kn+1W0+okOOvrgoLLeMF3eN2j5c4E6fqo+4Vcwf0q+oCvpYW7y4I/sSqIS/zGkwX4SnxCK9uNUbcmfWobWjKIhoO7XNy7H77epIVTSuK1+2AAt/xO9fOHXSkgO/CR/BERoAZ1xsuYsf69WvfPnAz60DwoQyy/iJT0okvrILK40J3GUV4emypIbJUEFb8fUOXUxdJWORUC+a1NQy48sdA4WRjfN6DVMq3H5Ffluf38dY3YSIFrOMITYpkdgIa5rTIPwypWISnBFd0FsbbBFo0tLSyMnJCZmWk5NT7jRUJHbvrt5dTikpdQ6t868nSPnnw8f1tFMLfmAHHWnA0irPm/txYLBw4mMHHWnKnOARiYYsIoa9eEgKLr+OPvRi5BH3z+BgLf1qtG5rZgX/fSoz2M2pR+UamnVcGPaag4r4cbKJHsFAY+GlkMSIxkMkyzgpZh19KpxXtjbHShHx/MrldON5WxylacG3wbuZqmLh5VQ+xcKwln6cwZQaHa0rZZxO9nQ8kzo9f0fUD9/V6BoaCNw5VXj+heTl5IZMT+xgYTnjQy4GLrWOPnTkrfCN+3zsyzwH72Fth2zn3F5EffdNlf03loW/aTP2xidDBW3VP8uFf3z4X2j8Xkg5M5+cnEPbqnNeb6L/91HIhasVrpucwp605hVuv6xyn98noeizepI4fnz4Bb1e9p/ZneIwNS2VkA6OqAT8xeFPOTU5r4icnOqfTQlpx4osmNriwXoZGRksXLiQ0jvMjTEsWLCAjIyMardlTPX+C1nnzrtrc7dqpAvjmcO9YY8wOPAHL+SMITfkA9uFh0zGh1yjsomeZJN+RNcTlD4fp+y1MJHx48JDBhODUzIZV8Hza2rHTjLYzDkRXXtQlgMfc7kn+Nrgoh1VX5cAgaPvBqvK2vpxsp9mrCkXBgNrduK1iPpYW5/bfpws5Bbmcm8ttnp0JbCLdN7DCnva1KITr7KO3nzHw0cU1ozTiefiAfjTGlJw6501DjOBxgwFQ28u9xkUl2Y45WIvlrP8+7CMP1BAvZL7GyvvY3HHDIozulT5WVdw6x0R9b/g1jsxlqPCNlpc5CW2vh/LUcUF8E5D3dY+Gnf3haybf/MdYcOMcTgouPEWTFR09T+/T8L/PBddjL9+g+BjBirkdOJtfSpF3c+NuN2YJDjtiorHZMj75YfTbyiulX2JxG820GRnZ1NYGDiE3K9fPw4cOMCoUaNYs2YNo0aNoqCggP79+x/zfuVcfsVx/XhPYhONmctKrqj0sX4GK+RUQRqLWcuFJfMCfsfjpJFVJtRYTOMtvLgr/OI1ZdateJuBoxAf8xIHaVSNPQp8gA5kaMiFuims4SLuL3l1ZIfxK/Ihr1FEYsShxgCLGMIKrgxO6cQE2vBhlev5S+4k+5wn8BFdYW39OPARxXu8fViIC1S8P/cQx56wfSyt0pGOTwPk0pivGM5eWvMZ/65xu8f6Z6Uf95HI1kpCTaBC/bmbGPL4H6+wm3bM5mmg+n01Tif+ho3Ie+IpAIou6k/BdUOq307J//NGjMLXuuKH4PV8wkN8Q1PuC8RLLNOZHLhNvYLniBinExMXT+4Lr4TtR1GffhTccGOl/TcOB8U9e1FwS+V39jmjoO/LhVhOKgw1ltPgjIa+4wvLXRfhPfsc8u++L7CtCrfvxJvRmfx7769grlQoKooDL78OThfGUcHnutMJMTHkjp9Q7YuNug/3UKdp+TFZ0jIA5z7hoW7LY/cp8JsNND179mTGjBkAJCQkMH78eObPn8+gQYPIysripZdeqvZD9WrFyxPZc36fsF/wR1MmL+HHYh5/ovCwh9gVEUcxsbgIHOIzJU/tPYXPWU0/DpIGQDR53Mh5dOI1HCUf/jvpxCv8zAZ6ldvmTjqynS6V9mk3bZnK+yzipmrtSwqruY6LaU/gCns/zuCX/tn8h0EMpm65Z6scecDZTVteZg5ruahcMPQf9mORTzJfMooPeQ2wcJHPuYykJV8c9jTi8vZwGu8ziR95iAl8zybKP5Qsn1Te4DO2cE65ee2YFnLkqipe4vmev7OtzO3v1VUaTBPYRjfGEsM+5nIv03irwovJwznap2cP/xlMYBe3chan815wXJdKZg1XcTVJsdt4mXnBO9TmuO7npzNfw9eoWeTbdTrxXHoZ+z79En9aycWplsXB//ccef8YgT858qeJ+Rs24sALL1NQxRHg+DTDlZ/mc8ol5X8rzm59ESsf/ARvx4zQPloWRb3OZ99nX+Fr0zZ8RyyLg0//H3mP/qtc/01cHAV33s3+t96F6Kqvq2rS3cfAD/NJ61r+aE/jc3wMmpFP/Y4V/wznPTqC3NHP4E9LC92+203h0JvYN/1jOB6f+zZW3L0n+z6cgbdr+c+F4nN6wE8/4cvoVO12Y1MNV87MDxypcYWOycSWhj4vFdDhliO7yaS6jvuTgo+12nhScKnoDm1I2LnjiD+0S79EIl3WSxQWFgUk8SuXUUQdDE720IpddORUZtGQhTjwsI4LaMQCmvILMRxgH01YzBAgigKS2EgP8kghlgPEsodYdhNDLsmsIYn1eIllH405SCPi2UMiW0jiVxqyhDwakktj9tOM3ZzGAVrgoQ4+XDgweIkil8YUkUgse4hjK7m0wE8MLjwksoF6rCWZdRSSgpNicmlENHtxk48fiyLi2UlHLCzqsgmDEx8W28jERywGF16iiaKAxswhnt0UE802uuIlHj8xOCmiLhtoybd4iWYPp3GQBhRSl2ISac7XtOAH6rERL9EksRoXXjwkUkwsO2nPRs7HgaEFX9KMr1jDpRSRgouDNGIBToqJYzd+nBQTDxjqsY56bCGbU/mOh8mlJXXYSjrTSGItFoYEthPPbnw4WcbVLOf3FJJMEqupz1LcHMDg5FRmkEB2yR1WMfhwBy9ojWV3yUP/A7bTid2chg83CezEophGzCeWQ7fa+oA80ojlAA68JX82oxPb6EQLvsVHHF5i2MOp7KYtbvaQxLrgn4iIohALHxaGOHZjRTnxu2Io8rpweH24TCHGclBAPRymmCLiSq7oisHriMXhtqiXshfvrjxyPKdSRDxFJNA0Lgu3uzBwLUxULHsLGpLnSQbLieUqJsWzgujiXHxEsTu2I5zSkOT4XURFe/HmHCRvjxvL4yHGvw9PcQzrHX3xNGhF/Z6xNOrhwHv2OfgaNw3cCr3BwhULTXr4iE014PcT9fOPOFetxLF+Pd5Gzdm9rS5FB51ExRmS2npxRQMxMRSf0+NQkKlIURHR332NlZ2NqVuPnbubse/DNZjcPBIaFdOy4QpMw4Z4u51N8VnnRHZrbYn8nRa5yxLYl1NAYks/Dc/0B3+5di5ZjGvFMnA6Ke56Jv6WkT1WoKL+R33/DY5duzCJdSnqdT7Ex1e7md0rHOQsDdzN1KCzj3qtI/zw9XqJ+uE7HNu3YRLqUPy7XtX6swugJwVXxLliOa6li8Gy8Hbugv/U02qlRvnZFtt+dOIthMQWhkZn+Wr17rJInxSsQFMF/UCEpxpFRnUKTzWKjOoUGdUpPLvUyBZ/+kBERESkNijQiIiIiO0p0IiIiIjtKdCIiIiI7SnQiIiIiO0p0IiIiIjtKdCIiIiI7SnQiIiIiO0p0IiIiIjtKdCIiIiI7SnQiIiIiO0p0IiIiIjtKdCIiIiI7SnQiIiIiO0p0IiIiIjtKdCIiIiI7SnQiIiIiO0p0IiIiIjtKdCIiIiI7SnQiIiIiO0p0IiIiIjtKdCIiIiI7SnQiIiIiO0p0IiIiIjtKdCIiIiI7SnQiIiIiO0p0IiIiIjtKdCIiIiI7SnQiIiIiO0p0IiIiIjtKdCIiIiI7SnQiIiIiO0p0IiIiIjtKdCIiIiI7SnQiIiIiO0p0IiIiIjtKdCIiIiI7SnQiIiIiO0p0IiIiIjtKdCIiIiI7SnQiIiIiO0p0IiIiIjtKdCIiIiI7SnQiIiIiO0p0IiIiIjtKdCIiIiI7SnQiIiIiO0p0IiIiIjtKdCIiIiI7SnQiIiIiO0p0IiIiIjtKdCIiIiI7SnQiIiIiO0p0IiIiIjtKdCIiIiI7R3XQOPxeHj44YfJzMykZ8+eTJgwodJlZ8+eTf/+/encuTPXXnsty5YtO4Y9FRERkd+y4xponnrqKZYuXcrEiRN57LHHGDt2LJ9++mm55VavXs0DDzzAHXfcwYcffkh6ejp33HEHBQUFx6HXIiIi8ltz3AJNfn4+7777Lo888gjt27enT58+3HrrrUyePLncsj/88AOnnnoqAwcOpHnz5tx///1kZ2ezZs2a49BzERER+a05boFm5cqVeL1eOnfuHJzWtWtXsrKy8Pv9IcvWq1ePNWvWMH/+fPx+P9OnTychIYHmzZsf626LiIjIb5DreG04OzubpKQkoqOjg9NSU1PxeDzs27eP5OTk4PSLL76YL7/8ksGDB+N0OnE4HIwfP566detWe7uWVf1lq7POyUY1iozqFJ5qFBnVKTKqU3h2qVGk/TtugaagoCAkzADB10VFRSHT9+7dS3Z2Nv/85z/JyMhgypQpDBs2jPfff5+UlJRqbTclpU61+1qTdU42qlFkVKfwVKPIqE6RUZ3CO1FqdNwCTUxMTLngUvra7XaHTH/mmWdo06YN1113HQAjR46kf//+TJs2jdtvv71a2929OxdjIlvWsgJvdHXWOdmoRpFRncJTjSKjOkVGdQrPLjUq7Wc4xy3QpKWlsXfvXrxeLy5XoBvZ2dm43W4SExNDll22bBk33HBD8LXD4aBdu3Zs27at2ts1hmq/cTVZ52SjGkVGdQpPNYqM6hQZ1Sm8E6VGx+2i4PT0dFwuF4sWLQpOmz9/Ph06dMDhCO1WgwYNWLt2bci09evX07Rp02PRVREREfmNO26BJjY2loEDBzJ8+HAWL17M559/zoQJExgyZAgQOFpTWFgIwO9//3veeecdPvjgAzZu3MgzzzzDtm3buOKKK45X90VEROQ35LidcgIYNmwYw4cPZ+jQoSQkJHDPPffQt29fAHr27Mno0aMZNGgQF198MXl5eYwfP54dO3aQnp7OxIkTq31BsIiIiJyYLGNOhDNnkcvJqd5Fwampdaq1zslGNYqM6hSeahQZ1SkyqlN4dqlRaT/D0R+nFBEREdtToBERERHbU6ARERER21OgEREREdtToBERERHbU6ARERER21OgEREREdtToBERERHbU6ARERER21OgEREREdtToBERERHbU6ARERER21OgEREREdtToBERERHbU6ARERER21OgEREREdtToBERERHbU6ARERER21OgEREREdtToBERERHbU6ARERER21OgEREREdtToBERERHbU6ARERER21OgEREREdtToBERERHbU6ARERER21OgEREREdtToBERERHbU6ARERER21OgEREREdtToBERERHbU6ARERER21OgEREREdtToBERERHbU6ARERER21OgEREREdtToBERERHbU6ARERER21OgEREREdtToBERERHbU6ARERER21OgEREREdtToBERERHbU6ARERER21OgEREREdtToBERERHbU6ARERER21OgEREREdtToBERERHbU6ARERER21OgEREREdtToBERERHbU6ARERER23PVdMXPP/+cdevWUVRUVG7e3XfffUSdEhEREamOGgWaBx98kBkzZpCenk5MTEzIPMuyIm7H4/EwYsQIZs2ahdvt5uabb+bmm2+ucNlff/2V4cOHs2zZMlq0aMEjjzzC2WefXZPui4iIyAmmRoFm9uzZjB07ll69eh3Rxp966imWLl3KxIkT2bZtGw8++CCNGzemX79+Icvl5uZy880307t3b5588kk+/PBD7r77bj777DNSUlKOqA8iIiJifzW6hiYtLY2kpKQj2nB+fj7vvvsujzzyCO3bt6dPnz7ceuutTJ48udyy77//PnFxcQwfPpwWLVpw77330qJFC5YuXXpEfRAREZETQ42O0IwcOZLhw4dzww030LhxYxyO0Fx05plnhm1j5cqVeL1eOnfuHJzWtWtXxo0bh9/vD2lz7ty5XHDBBTidzuC0adOm1aTrIiIicgKqUaBZtGgRK1euZNiwYeXmWZbFihUrwraRnZ1NUlIS0dHRwWmpqal4PB727dtHcnJycPrmzZvp2LEjjz76KF9++SVNmjThwQcfpGvXrtXuezUu8QkuW511TjaqUWRUp/BUo8ioTpFRncKzS40i7V+NAs1LL73E3/72NwYPHlzuouBIFRQUhIQZIPj68Dun8vPzeemllxgyZAgvv/wyn3zyCbfccgszZ86kUaNG1dpuSkqdave1JuucbFSjyKhO4alGkVGdIqM6hXei1KhGgSY6Oprzzz+/xmEGICYmplxwKX3tdrtDpjudTtLT07n33nsBOP300/nhhx/48MMPufPOO6u13d27czEmsmUtK/BGV2edk41qFBnVKTzVKDKqU2RUp/DsUqPSfoZTo0Dzl7/8hTFjxjBs2DCaNm1a7hqaSKSlpbF37168Xi8uV6Ab2dnZuN1uEhMTQ5atX78+p5xySsi0li1bsn379mpv1xiq/cbVZJ2TjWoUGdUpPNUoMqpTZFSn8E6UGtUo0Dz//PPs2rWLr7/+usL5kVxDk56ejsvlYtGiRWRmZgIwf/58OnToUC4gderUiXnz5oVMW7duHZdeemlNui8iIiInmBoFmtGjR1frAXoViY2NZeDAgQwfPpwnnniCXbt2MWHCBEaPHg0EjtbUqVMHt9vNNddcw5tvvsl///tfLrvsMj744AM2b97M5ZdffkR9EBERkRNDjQLNmDFjGD16NG3btj2ijQ8bNozhw4czdOhQEhISuOeee+jbty8APXv2ZPTo0QwaNIgmTZrwyiuvMGrUKF566SVat27NSy+9RFpa2hFtX0RERE4MNQo0u3btCnkmTE3FxsYyZswYxowZU27er7/+GvK6a9euTJ8+/Yi3KSIiIieeGgWagQMHcuutt3LZZZfRpEmTcnc7DRw4sDb6JiIiIhKRGgWaGTNm4HA4+Pjjj8vNsyxLgUZERESOqRoFmi+//LK2+yEiIiJSYzUKNBC4jmby5MmsXbsWn8/HKaecwtVXX03Lli1rsXsiIiIi4dXor23/8ssvXHTRRcyZM4emTZvStGlT5s2bx+WXX878+fNru48iIiIiVarREZonn3yS66+/ngceeCBk+jPPPMPTTz/N1KlTa6VzIiIiIpGo0RGa1atXc+WVV5abftVVV0X0lGARERGR2lSjQNOkSRMWL15cbnpWVhapqalH3CkRERGR6qjRKadbb72Vxx57jHXr1tGxY0cgEGbeeOMN7r///lrtoIiIiEg4NQo0gwYNAuDNN9/ktddeIyYmhlatWjFq1Cj69+9fqx0UERERCafGt20PGjQoGGxEREREjqcaB5qffvqJJUuWUFxcjDEmZN7dd999xB0TERERiVSNb9ueNGkS7dq1Iz4+PmSeZVm10jERERGRSNUo0EybNo0nn3ySyy67rLb7IyIiIlJtNbpt2+l0Bu9uEhERETneahRorrvuOv773/+Sn59f2/0RERERqbYanXKaO3cuCxcu5NNPPyUlJYWoqKiQ+V988UWtdE5EREQkEjV+Do1u2RYREZHfihoFmiuuuCKi5QYMGMBLL71Eo0aNarIZERERkYjU6BqaSG3ZsgWv13s0NyEiIiJydAONiIiIyLGgQCMiIiK2p0AjIiIitqdAIyIiIrZ3VAON/q6TiIiIHAtHNdAc/le4RURERI6GGgWaIUOGcODAgXLT9+zZE/LAvUmTJtGwYcOa905EREQkAhE/WO/bb79l8eLFAMybN49x48YRFxcXsszGjRvZunVr8HWHDh1qqZsiIiIilYs40LRq1YpXXnkFYwzGGBYsWBDyN5wsyyIuLo5Ro0YdlY6KiIiIVCbiQNOsWTMmTZoEwLBhw3jkkUdISEg4ah0TERERiVSNrqEZMWIEL7zwApMnTw5OGzRoEM888wzFxcW11jkRERGRSNQo0Dz++ON88803tGvXLjjtT3/6E19//TVjxoyptc6JiIiIRKJGgWbWrFk888wzdO3aNTjtwgsvZPTo0cyYMaPWOiciIiISiRoFGmMMHo+nwuk65SQiIiLHWo0CzUUXXcSjjz7KL7/8Qn5+Pvn5+SxYsIDhw4fTp0+f2u6jiIiISJUivsuprNK7nIYOHYrf7wfA4XAwcOBAHn744VrtoIiIiEg4NQo0sbGxPPvssxw4cICNGzcSFRVF06ZNdRu3iIiIHBc1/ltOubm5/O9//+PDDz+kQYMGzJs3j02bNtVm30REREQiUqNAs2rVKvr27cu0adOYOnUqeXl5zJo1i8svv5y5c+fWdh9FREREqlTj59Bce+21TJ8+PfjnD0aPHs3gwYN56qmnarWDIiIiIuHUKNAsWbKEgQMHlpt+zTXXsGbNmiPtk4iIiEi11CjQJCcns379+nLTFyxYQEpKyhF3SkRERKQ6anSX02233cY//vEP7rzzTowx/Pzzz7z//vtMnDiRv/zlL7XdRxEREZEq1SjQXHPNNTRo0IBXX30Vt9vNU089RatWrRg5ciQXX3xxbfdRREREpEo1CjQAvXv3pnfv3rXZFxEREZEaiTjQjB07lltuuYXY2FjGjh1b5bLR0dE0aNCACy+8UA/bExERkaMu4kAzZ84chgwZQmxsLHPmzKlyWZ/Px4YNG5g2bRpvvPHGEXdSREREpCoRB5qywSSSkLJ48WKGDh1as16JiIiIVEONr6HZvHkz7777LmvXriUqKorWrVtzzTXXUL9+fQDS09OZMmVKrXVUREREpDI1eg7NzJkz6devH4sWLaJ58+akpaXx448/0qdPH3766ScAoqKiaNeuXa12VkRERKQiNTpC8+9//5sHHniAm2++OWT6888/z+OPP84nn3xSK50TERERiUSNjtDs2rWL888/v9z0fv36sWXLliPulIiIiEh11CjQXHrppbz22mv4fL6Q6VOmTKFPnz610jERERGRSEV8yumGG27AsiwAiouLWbhwId988w3p6ek4HA5Wr17N1q1b6dWr11HrrIiIiEhFIg40Z511VsjrHj16hLw+/fTTa6dHIiIiItUUcaC5++67a33jHo+HESNGMGvWLNxuNzfffHO5C40Pt2XLFgYMGMC4cePKhSwRERE5OdXoLqdhw4ZVOX/06NERtfPUU0+xdOlSJk6cyLZt23jwwQdp3Lgx/fr1q3Sd4cOHk5+fX63+ioiIyImtxg/WK8vr9bJ582ZWrFjB9ddfH9E6+fn5vPvuu7z88su0b9+e9u3bs3r1aiZPnlxpoPnoo4/Iy8urjS6LiIjICaRGgaayIzCvvPIKq1atiqiNlStX4vV66dy5c3Ba165dGTduHH6/H4cj9AasvXv38vTTTzNhwgQuvfTSmnRbRERETlC1coSmVL9+/Xj++ecjWjY7O5ukpCSio6OD01JTU/F4POzbt4/k5OSQ5Z988kmuuOIKTjvttCPqY8mNWtVatjrrnGxUo8ioTuGpRpFRnSKjOoVnlxpF2r9aCzT5+fm8/fbbJCUlRbR8QUFBSJgBgq+LiopCpv/444/Mnz+fjz/++Ij7mZJS55isc7JRjSKjOoWnGkVGdYqM6hTeiVKjGgWadu3aBZ9JU1ZMTAyPP/54RG3ExMSUCy6lr91ud3BaYWEh//znP3nsscdCptfU7t25GBPZspYVeKOrs87JRjWKjOoUnmoUGdUpMqpTeHapUWk/w6lRoJk0aRJ+vx9jDE6nE8uymDNnDn369KFt27YRtZGWlsbevXvxer24XIFuZGdn43a7SUxMDC63ePFiNm/ezL333huy/m233cbAgQP517/+Va2+G0O137iarHOyUY0iozqFpxpFRnWKjOoU3olSoxoFGqfTyQMPPMDTTz9Ny5YtGTRoEB6Ph3HjxvH000/Tv3//sG2kp6fjcrlYtGgRmZmZAMyfP58OHTqEXBDcsWNHZs2aFbJu3759efzxx8s93E9EREROTjX6W06jR4/mkksuISMjg3feeYeYmBh++OEHRo4cyXPPPRdRG7GxsQwcOJDhw4ezePFiPv/8cyZMmMCQIUOAwNGawsJC3G43LVq0CPkPAkd4UlJSatJ9EREROcHUKNCsWrWKIUOGEBsby5dffknfvn2Jjo6mW7dubNu2LeJ2hg0bRvv27Rk6dCgjRozgnnvuoW/fvgD07NmTGTNm1KR7IiIicpKp0Smn1NRU1qxZQ35+PsuXL+ehhx4CAncjNWrUKOJ2YmNjGTNmDGPGjCk379dff610varmiYiIyMmnRoHmxhtv5K677sLhcNChQwe6devGuHHjGDt2bMR/9kBERESkttQo0AwZMoQzzzyTrVu30rNnTwDOPvtszjvvPNq1a1erHRQREREJp8YP1ktPTyc9PT34ulOnTrXRHxEREZFqq9FFwSIiIiK/JQo0IiIiYnsKNCIiImJ7CjQiIiJiewo0IiIiYnsKNCIiImJ7CjQiIiJiewo0IiIiYnsKNCIiImJ7CjQiIiJiewo0IiIiYnsKNCIiImJ7CjQiIiJiewo0IiIiYnsKNCIiImJ7CjQiIiJiewo0IiIiYnsKNCIiImJ7CjQiIiJiewo0IiIiYnsKNCIiImJ7CjQiIiJiewo0IiIiYnsKNCIiImJ7CjQiIiJiewo0IiIiYnsKNCIiImJ7CjQiIiJiewo0IiIiYnsKNCIiImJ7CjQiIiJiewo0IiIiYnsKNCIiImJ7CjQiIiJiewo0IiIiYnsKNCIiImJ7CjQiIiJiewo0IiIiYnsKNCIiImJ7CjQiIiJiewo0IiIiYnsKNCIiImJ7CjQiIiJiewo0IiIiYnsKNCIiImJ7CjQiIiJiewo0IiIiYnsKNCIiImJ7CjQiIiJiewo0IiIiYnsKNCIiImJ7CjQiIiJie8c10Hg8Hh5++GEyMzPp2bMnEyZMqHTZr7/+mssvv5zOnTszYMAAvvjii2PYUxEREfktO66B5qmnnmLp0qVMnDiRxx57jLFjx/Lpp5+WW27lypXcfffdXHnllXzwwQdcc801/PnPf2blypXHodciIiLyW+M6XhvOz8/n3Xff5eWXX6Z9+/a0b9+e1atXM3nyZPr16xey7Mcff8zZZ5/NkCFDAGjRogVffvklM2fOpF27dsej+yIiIvIbctwCzcqVK/F6vXTu3Dk4rWvXrowbNw6/34/Dcejg0RVXXEFxcXG5NnJzc49JX0VEROS37bidcsrOziYpKYno6OjgtNTUVDweD/v27QtZtnXr1iFHYlavXs1PP/3EOeecc6y6KyIiIr9hx+0ITUFBQUiYAYKvi4qKKl1vz5493HPPPXTp0oULLrig2tu1rOovW511TjaqUWRUp/BUo8ioTpFRncKzS40i7d9xCzQxMTHlgkvpa7fbXeE6OTk53HTTTRhjeO6550JOS0UqJaXOMVnnZKMaRUZ1Ck81iozqFBnVKbwTpUbHLdCkpaWxd+9evF4vLlegG9nZ2bjdbhITE8stv3PnzuBFwZMmTSI5OblG2929OxdjIlvWsgJvdHXWOdmoRpFRncJTjSKjOkVGdQrPLjUq7Wc4xy3QpKen43K5WLRoEZmZmQDMnz+fDh06lDvykp+fz6233orD4WDSpEnUr1+/xts1hmq/cTVZ52SjGkVGdQpPNYqM6hQZ1Sm8E6VGx+2i4NjYWAYOHMjw4cNZvHgxn3/+ORMmTAgehcnOzqawsBCA8ePHs2nTJsaMGROcl52drbucREREBDiOR2gAhg0bxvDhwxk6dCgJCQncc8899O3bF4CePXsyevRoBg0axGeffUZhYSFXX311yPpXXHEFTz755PHouoiIiPyGWMacCAeaIpeTU71raFJT61RrnZONahQZ1Sk81SgyqlNkVKfw7FKj0n6Goz9OKSIiIranQCMiIiK2p0AjIiIitqdAIyIiIranQCMiIiK2p0AjIiIitqdAIyIiIranQCMiIiK2p0AjIiIitqdAIyIiIranQCMiIiK2p0AjIiIitqdAIyIiIranQCMiIiK2p0AjIiIitqdAIyIiIranQCMiIiK2p0AjIiIitqdAIyIiIranQCMiIiK2p0AjIiIitqdAIyIiIranQCMiIiK2p0AjIiIitqdAIyIiIranQCMiIiK2p0AjIiIitqdAIyIiIranQCMiIiK2p0AjIiIitqdAIyIiIranQCMiIiK2p0AjIiIitqdAIyIiIranQCMiIiK2p0AjIiIitqdAIyIiIranQCMiIiK2p0AjIiIitqdAIyIiIranQCMiIiK2p0AjIiIitqdAIyIiIranQCMiIiK2p0AjIiIitqdAIyIiIranQCMiIiK2p0AjIiIitqdAIyIiIranQCMiIiK2p0AjIiIitqdAIyIiIranQCMiIiK2p0AjIiIitqdAIyIiIrbnOp4b93g8jBgxglmzZuF2u7n55pu5+eabK1x2+fLlPPbYY6xatYpTTz2VESNGcMYZZxzjHpfRIJl6eHECVgWzDRYWJmwzHuqQR31i2E8MuTjw48fFJrrzM3+mMQtpyZds4nesZCAeEolnJ235kELqsoe2nM57NGI+sezBhQcnHix8+HHiJQ4Lg4Ni/ESxnc4sZCidmEhzfsLCB4C/ZE8cFGMBedQniyEs4Toc+GjHe3ThVeLJKbOPDrzEsIPW/MxfWE9vmvIz5/D/aMwvWCXt+ojmAE1YyC1soieZvICbA0STRx22AhaF1COJNcSxJ9j+ai5kDvezhzYAJLCDFnxNY36mPqtwsx8LH272cJDGGFz4iCaXhiSymSTWl/TBRS4N8RGDhSGP+niII41lxHCAjZzHavrSgbdJY3FJ/Uzw/TtIQ5ZxFcXEksAuGrAcN3vwEY0DL8msrnAMlB8TkBLBchXxExhnh2/HYJFLQxz4Suph8BJDFLnB31ZMyQjwkMh2uhBNLk2YG1GfI7WPFvzAX9nI+fhx4qSIFFZyNv9HU36q8jcnP06KcVNEHbbSlFUMIIc21GcpLgrZTys20x0vbuqxjnTeoy0fsJzBbOEs2vIRLfmaGA7gI4Y8UlnFxWymB5m8QhK/ksWNrOAqPCQSw36a8RN+HKznQnwONw6noVHxXDJ4nVZ8xUEaMJ87WM+FeImhPsvo5nieZlG/YBUVAYaDViM+Zhyr/P0BBw6HjxYpi7k05s/UK1iJ31hsievNfHM7Ow+cglVUSGLUToriG5BrGlGc68dZlMfpvil0tKYQbXLJpTGruYQCK4XWyXOIvfk8kjrG4J7yBv4la8nbF8cSzxVsKO5JnmmAwSKNLM5wvkPzhEVEJznYF9OWBf5bWG1dTGxDB9Hxhh2/OPHst8CCqFhDdF1DfJqh9QAvp3deStL0l3D8PI8fd93C/IODKfDWxeDAGQNxDQwNu/poP6SYhmf52L3UwdKJUeyc7wQg6TQfzhjY9pOT/G0G4zXEsJ9UlnO6NZ2kOrvYkH4L67y/I3+XA2+BhTMK3MmGZr2K6XzaV6TNfoF9y4pZsPsqNhZ0w/gdpDmy6JI6jQbnxeHIO4hr7RqM00lxj57kXnMrKxels+o9FwU5FrEphtMGeWkzqJiohJqN4QMbLZZNjGLdDBf52Q7AENcgUKP2Q4qp0/Swz/ODB3FPf5eY6e/i2J2DP7U+nqv+QOEVV0FcXNjt+Ypg3ccuVr4dxcFtFjF1A9tq+4di3PXA+GHTV05WvBnFvrUOXLHQ/AIvp99QTEKj8N8tIdvywNr/OVn1Uj75awtwe7Npl/Q56f13w0O3Qb20arVn7dmNe8pkYj75CCs3F1/TphQOvoGifpdAVFS12qpNljGmepWpRSNHjmTevHmMHj2abdu28eCDD/LEE0/Qr1+/kOXy8/Pp27cvAwYM4KqrrmLKlCnMnDmT2bNnExfBwCkrJyeXSPfYsiA1tU65deo1qIcLf2CZam29YqaSdgwW2+nEW8wkjwZY+DE4AT9R5HMVf6ANM/Bj4TgsPJVts6L2TUnvS7+0S5cp+3+AfFL5kfs5n+E4KSpZq+I299Kcb3mU/vyZKApK9iB0m8XEsJNONGMOPlw48QKBLzULP7s4nTSW8SP38QVPlQQtAAcWXgwu6rKBwVxCA5aX6W9kARLAhxMnPvJI5WNe4DQ+owuvVlqz0rYDffRhcJQETwsLKCIBB0VE4Ylo+0fb4e9lRfNqm5/AF8As/s0c/lzyXjmw8HE673EFQ3FSHEE7gVoXUpdfGcj/eAmDE4ODwHgtxhCFizx68S968lSl+1SEmwl8zwGaU0D94PgJvKN+nBTRj3v5gQfpxER+x+MY4GfuYzbPAKZkeejMK1zCH7Hw48BPAUm8xcdsoXuZdksZLuCv7CCTZVwb/GWivEA/LHxczk105C38JWNrP015k1l0YDLnMgpTMva+4xG+4vHgNtszlSsYgoWvpK1D43sTZzOJr/DhpuJPhMDPSxR59OduPuU5ikikwlFiGTAWdZr5yd3swHIajK+yT5jS137AQQoruIbLeZ832Ua3kOVLx0krvmA9fUJqWVq3dN7jCq4P/nxtd3Rhsn8GeTQInGPwWyX9C4SkS6YUkNbZX+nnd0WyxkXxw2MxJSWp4KfGgt896eGMmwJj2LVoAXWvGYS1Zw9YFpYxGIcD/H5M/frsm/o+vg4dK93e/vUWH10dR+4mB5bDYPxWcDuuWLhgbAGLXohm5y+ukFpbjsAy5/2/QtIHe6veqdJtrbP46Go3uZtdZeob+P6KJo8/cAVpj/Qk/88PRNRe9KyZJN46FDweMIHPeONwYvl9eE89jf3vfIC/abOI2opU6XsZdrnjFWjy8/M5++yzefnllznrrLMAeOGFF/jpp5944403QpZ97733ePHFF/n888+xLAtjDBdddBF33nkngwYNqtZ2jzTQJDVIrPSoTG3bTxPGsRgPiYd9YMIfuJw2fIKj5AjL0VL6BQPh99mU+X9lv5GXLlNVW9vpxEvMx8KUBLhQFsUksIs76Eh8mSM61eXHSS6NqMuWiJav7IuzNHQFvlTkfSaxmBvKTPHTm4c5lzERt7GavrzFzJJX5UdTT0ZxAf+osg0D7KMlL7KIYupWsEQgTNxBF9JYCsAihvAhE0OWasNHXMvlZb6mHbzGd2ylW7mfy0NbDkQLKhi/FfUD4Hr60ZrZQCCUFJDKiyyhFyPoxvPM5S5mMja41inM5nou4vBfHEq9yxRWcHWFP0OhfByqcSQ/5dUb5Q6KceLBS2wEfSnPwkd7pnIl15NHCmNZVeFnIgS+8F3x8Icv86jb0kQUaFZOdfHlvbER9aXPSwW07bKWpPO7Y+XnY/nKf/4apxNTpw57v/4Jf+Mm5eZ79sPb58WTt8MqEwrLcJgymbDiX3XBov/EAlr1rzrUFO4LbCt/u8GYij5LfTgo5lbOIn7MjRTedGuV7bl+mUu9y/qBz4dVQVGN04m/WXP2fPUjxMdX2VZ1RBpojts1NCtXrsTr9dK5c+fgtK5du5KVlYXf7w9ZNisri65du2JZJSnVsujSpQuLFi06ll0GIvt4qi1z+HOFP7iNmUc7PjrqYQYIHvmJ5COsdJmqBlVFp00OV5dNOPFU+uFniOIgDVlI1T984TjwRRxmoPJ+O/DhUJgBAh+1vXk4eCozcGLSR1PmRHj8LCBwFKLiaBxNLufyRNg2LKAeGziD9ypZwoGLApJZCwSCyheMhpCeGi7koeDROIC1XMQWulcSZkq3DJF/WjiwMHzJ48EpTnzEkU0m4/iKf1FIAl/xr5C1zucfJUcPy9vF6SznmggDROmvaNX5KY+cnyiKSahRmAEwOFnKdWTTDi/uSsMMgPFbePMha3x0ZH3zwc+jYiCi0Wn4+fEYYl8cW2mYAbB8PqzcXGJfHlfh/BWTA6eYKgwzEAgxxqokzAAEjkj9PCo67C/nKyZHkbfdqjDMBPbIicHJdzxM/JjHoaioyvbinnkycFSmkg1bPh+ODetxv/d21R07So5boMnOziYpKYno6EMDLzU1FY/Hw759+8ot26BBg5BpKSkp7Nix41h0NahOg6SIf+yPlB8HC7itwh/czryK7xhe/lSd/a2N2sSxh9P4tMplDBa/cGctbE1qkwXUZQut+CI4JXC6peIv3orsoj3bObPSL8DTeZco8iPuUyYvVjqvHR/hogCAdfThII0pO4obM4/6rAg5pTuf27EiOH1WHQYn2+jGLtoHp1n4yeRFCknmG4ZTSHJwXirLacpcHPgrao6F3IKjlvt4ZI7sRICDYhZwK3XZSn2WV70ln8WKt6LwVf3dDMCWb5zk7wyczgzPIm+Tl5g336w0zASX9Plwv/E6VLDcsonRR1oOMBZ7VznZtbDqr/BItuUnihVciWePIXr2Z5Uu59i+jeivvgi771gW7tdfqXqZo+S4BZqCgoKQMAMEXxcdlhIrW/bw5SJhWdX7r+w6UcfgiEipQurhoV6F81JYFbz25ETkx0lSyW/NlXOwnxZH/Lkgtc9gBY96lE7ZQ+uI19/DqVXOT2YN/ggDvQVVjqVAW1Fltus/bH75dXfTFlPhNTFHrmydLKAO23GRxy7ahwSUZNaEaefUiGt0bBzZrzp+nOwtqU1F78nhvPkWnr2lR/Qr/2//ekfg+psIxZGD05MX0bKOA/tx5O4vt80Dm2rv1+IDGx1V7l9uhNsyuNjnaIVr4/pK23Ju3FDpkZmyLGNwbthQ7e/aSL6LwzluIz4mJqZcICl97Xa7I1r28OUikZIS/jxcZescywjhquIC02Jij9rFnb8FFn68hH9vnSV3ZMlvS+BOK3fIlKrG8+FcFFY534s74gvAAXzEVDnPKgkxge2GjihvBeuWHtE5Gg7fdz8OfEQTRUHJhdGl/ar658OFp8xNBPZnYYK1ieSzAaB+o8DtTlV95tdLpVpHSyLddqmUxqnlriVxRoO3loZQUv1YUlMrn++MBm/VP05BUf584pMTia/sWpWGyRVPr4DDHRPRNS+17bgFmrS0NPbu3YvX68XlCnQjOzsbt9tNYmJiuWVzcnJCpuXk5JQ7DRWJ3burd1FwSkqd4DreG24j7Y2XA/OqveXqiSaPxsxlO13LfSitow+nMZMjP27522RhWE/vMMsUcwqfH6MehXciB8zqMlis5/yQKY2ZE/H6TfkJJwX4qPhCzXX04Xwei6gtPw5W07/S+WvpwwU8DFBymiz0ndzEuSF34wGcykx20rGKa2hqxkUBTfm5TN+drOd8DFFkMIlfuSI4bwtnU4ybqErC3ynMZjlXVmPrR3sEH1n7Bgen8Dk+othCt6oXdhhS2vnJ8+cTS50qP/PrdbbAig9csxIBj1WPotPOIGrNcix/xaf7AIzDgTejM/sL/FCQGzKv2XluNsxyVX4NTaAFwtXL4TIkpOeRk1P590DTXm42znZg/FUFW0MdtpHMKvZ2PQdfTm7FizVuRXK9ejgOuySkXGsuF57zL+BgZe3UQOl3cTjH7ZRTeno6Lpcr5MLe+fPn06FDBxyO0G5lZGSwcOFCSm/IMsawYMECMjIyqr1dY6r3X9l1nP/v/x3TL66zeK7C37CyGIqXmGMWZ2p7O1W1Z7DYSQdyaBemjSi68d9a6Utt7d+JGS+rx4eL1VzMfloCYOEFfKznwojr4+YAGUwqWbe8LZzNTjpUcm9PKAd+5nFXpfN30IkDNMEASWzgVD4NuT4mn/os5Zoyjw+ATMYT2d1AlX/hHc7CS0cm4eZAmb77mMefaMb3pPMBzfg+WJMiEsnixpB+ldWBt4gmr1p9iExNR3ng/rCatRt4ulQH3mIfzSkM9zQnP3S47dB7WNXne53mhubn+7CcEeyXw9DqEh+eP/0RqggzAJbfT8Gtd1S4zQ63FIcJM+FZTsOpA724U0yV+9fhluIwYSZwRPxM6wW855yD97S2lbcXHUPh0FsCt6dX1Z7XS8HNt1f7uzaS7+JwjlugiY2NZeDAgQwfPpzFixfz+eefM2HCBIYMGQIEjtYUFgZ+++jXrx8HDhxg1KhRrFmzhlGjRlFQUED//pX/5nW07E4/s1a/BKvSgbdoz1QO/yAoJIkPmATBg+UVq6yP1em/IfDwP3+EQ+UgaZV+yJbtk7+CLwQfTjzUIZH1uNlX5k6Z8jJ5nlP4LKTN6ij9Mvyaf+DHFbaNcCGsgKTf1BGaqvt7dPhwkU8qn5RchGtRjAMvFoYUVlarPhcwjGTWVhJqDNOZTBHxVY5xgEXcwHYyqWivLbyksZjV9KWIOhjgUu4kjt0hoWYWz7Kf5vhKxnVdNtOfu0vmVvwT6CK/5Db+8NfdWXhJZi0X8lBI/xdwExs5l8u5CYDLuYkY9gf79gVPsJvTKvx5iyKPQQwOu+3A9n3EBh+YWcXoKL3WxFGdERRYth3TKm0/8B4bqOAi5kANDVcymKiSO9Iq+kws28eW/by0uybyC6J7PVOIO9kEnvFSGcsQ39Bw7hMeCv8wmKL+l2IqubDDWBaFlw/Cc+XvK5zf5FwfHW6r/PpPy2FIbGGC2y0332lIaGLoPiL8adymvXx0uKWKbeGjGT9wVr0J5P7f82Hby7vvr3g7ZGCc5cecKbtMZpijaEfJcf3TB8OGDaN9+/YMHTqUESNGcM8999C3b18AevbsyYwZMwBISEhg/PjxzJ8/n0GDBpGVlcVLL71U7Yfq1YpvvmBPqw74ObqhppA6bKI7l3EzvRhBDHtD5v/KZUzmf2RT+dOSrUr6eIAmbKdL2P4Xksh3/IP/sI7FXF9lqCkkkZn8h+dYzQoGVRJYokqepfGfckdgDBbZtMfCTywH+RNtaMgCnIddexHHLi7gIfpzd5kn4Vb/OoE86lNELE1YwDu8x15OqbIexcSyhUwKDrtQ20MCe2lF3GHvz29VIKAm1PrY9ePgVy7jFeZygGYlX5J7SWUFQ7mA1nwZcVsF1OMX/kh3xtCBt3AQ+oFcl40ksoGJfMmGkFNbhxQTSxbX8SP3cxb/Lnki9SFOCunAZJryEx/zKi8zjw30IpHN3EY32vK/YBjJpz6v8DNruSgYhM9kHFdxNXXZdNiWDWks4j5aMZQLaMT8cvPLsvDSnre5hXOIZV/J9lL4gtGsZCA3WBeRmBiYnsIabqMbp/IZ4KeQJCbwA1lcX+6ux320ZDm/h5IHHlbGFeOja+P3+QstOIt/V3lnVGp7P797qpBGZ1UU0ireRh22cgl30IvhJbU47HPBMpwW+xVD6M2pzObwoNKQRVxPH9rwSWBx4Aqup2erN4mpExp2o+sYuv6liIteLcRRjY+EOk0NV32WT8t+3oovEHYYWl/q5apP84lvaMDp5MArE8n/y1/x1wm9PMJfty75f32I3HGvQiVHMiwLej7uocfIQmJTQ/fX5TaccUsxf/gmj74vFxwKNqXrOg2nXu7lypn5xNUP/1NsWdDziZJtJYaenowij26M5fr+/+HgrM/wtzolbHvEx7Pv/U8ovOFGTEzo9WX+hg3JHfMs+cMeDd/OUXJcnxR8PNTGk4JLmcatSfTuxYU3+OXqx0keqRykPimsJ5o8fDhKLiYzOEuikIc67KU1e2nJbtriZi/NSs6f59KYYmIpoB47yCSebJwUsI+WxHCAVH4ljcX4iGU95+ChPnXZTB22EMM+oskjlj0Uk4BFEQ78eInjAE1ZyaUkso0zeREnhRiiKaAexcRRSCJpLCOagxQTxWa6k02n4KPfU1lGHHuJYR8xHMQi8Mj7zZzDJnqSzGqaModm/IwPBwdoArg4SBrZtGMFV5FLI9rxEaksw0MSLgqoy2aSWUk0HjzUwUEBDsCJh2VczgLuwc0BLLw043NiOUgTFpDKSraRgZuDJLKFfFLIJw0PicSxnRRWE4UHg8UOMigmrqQ2OeygMzHkEs8uDLCdM3Gzh4YsIZEtuMgvCXAW4GANfdhLa+qyGTf7ceEhjuxyf/ag9L12UYCzkg/50iNkVf02UXpq008UB0nhAA2JoQAXHlx4SrayBy+xHKAxOaRTn1+J4QDxbCtpw4EFeEjkII3JpVHJH6H4BS/RGFwYLFwUlmzP4CO65E8nFOKkkMBJGydOikvqEXhmyuHPQPIDq7mEHE7nIGkksJMGLCGeHFL4lRgOnU8vIo7i6HrEFO/BMoa9NCfX0Qqvy43HW4ds0w53TAFxCXnkF8QTm7+V/eYUoqw8rFgHjZyLSSjYRKx3B5vpiYd6uDiIAy8+K47iumnkte5C05RfaRi9jKIDsGple5YVDiTRv4kmTTZQp4GHfJMCPvC3aE7+qV1wr5iHa/tW4rYvpeGeb/AVwTbnWfhj65DUrIDUPsmYxo2J/vgjrMICvJ06s9F9AQs/S6egOIF6mXU4++KFJO5ehmP37sAD1pKS2O4+h90b43Ft3kBai10cSMlgn2kBGzfj2L4dlzeXRrnfEe0/yK6CU9lhdSI1aQdJZ9chfkhPLKcD19w5ODesY+/mODY5z+XAhrqwdjns2Uti0n5SOkfR5LRdWDEuClNasK7gdxTnO4hvZGiY6WP5ZBd7VjqJijcktfHjjILoOtC0l5foBHCuW4NrwXz8PsOiNReya3cTjA/qneYnvoEhuZ2f+h0PffnuWeUgZ3FgBKd29BOdYNj2s5PsLIv8rD3EezaQYlaRcko+3nYdSLg6g5wlLgp2W3j2WUQnGqJioeFZPuo09hM15yccG9azf09dtq+tDzt2Ub/uJpIvqE9xr944t2/FuWI5OJ0UZ3bD36Il3kLY8p2Twt0W7iRD09/5cJW57Ko6TwoudXCbxbafnexd5cCyDPXaGJp09xGfVkkDBQVEf/s11t49mJQUis49D6pxs4qvGLZ+7yR/pxXyfpQyBnbMcbJ/o4XLDY27+yIKMpVu6zsHnvlbcO/bSPP2O3D0yiS50+nVqlEpa/8+or79BivvIP7GTSjucS5UcOSmNvzmnxR8vNRmoBHVKFKqU3iqUWRUp8ioTuHZpUa/+ScFi4iIiNQWBRoRERGxPQUaERERsT0FGhEREbE9BRoRERGxPQUaERERsT0FGhEREbE9BRoRERGxPQUaERERsT1X+EVOLJX8PbEql63OOicb1SgyqlN4qlFkVKfIqE7h2aVGkfbvpPvTByIiInLi0SknERERsT0FGhEREbE9BRoRERGxPQUaERERsT0FGhEREbE9BRoRERGxPQUaERERsT0FGhEREbG9ky7QeDweHn74YTIzM+nZsycTJkyodNnly5dz9dVXk5GRwZVXXsnSpUtD5n/88cdceOGFZGRkcNddd7Fnz56j3f1jojZrlJmZSdu2bUP+y8vLO9q7cExUp06lfvnlFy644IJy00/UsQS1W6cTdTxVp0Zff/01l19+OZ07d2bAgAF88cUXIfM1lgLC1UljCT766CMuuugiOnbsyDXXXMPixYtD5ttuLJmTzL/+9S8zYMAAs3TpUjNr1izTuXNnM3PmzHLL5eXlmR49epgnn3zSrFmzxowcOdJ0797d5OXlGWOMycrKMh07djTvv/++WbFihbn++uvN7bfffqx356iorRrt2LHDtGnTxmzatMns2rUr+J/f7z/Wu3RURFqnUitXrjTdu3c3559/fsj0E3ksGVN7dTqRx1OkNVqxYoVp3769mThxotmwYYN58803Tfv27c2KFSuMMRpLpcLVSWPJmHnz5pkzzjjDfPDBB2bTpk3mySefNN26dTMHDx40xthzLJ1UgSYvL8906NDB/Pzzz8Fpzz//vLn++uvLLfvuu++a3r17Bwe43+83ffr0MdOmTTPGGPO3v/3NPPjgg8Hlt23bZtq2bWs2bdp0lPfi6KrNGv3www+mR48ex6bjx1h16mSMMVOmTDGdOnUyAwYMKPdFfaKOJWNqt04n6niqTo2efvppc8stt4RMu/nmm82zzz5rjNFYKhWuThpLxsyYMcO88MILwde5ubmmTZs2Jisryxhjz7F0Up1yWrlyJV6vl86dOwende3alaysLPx+f8iyWVlZdO3aFavkr2JZlkWXLl1YtGhRcH5mZmZw+UaNGtG4cWOysrKO/o4cRbVZozVr1tCqVatj1vdjqTp1Avj2228ZM2YMN954Y7l5J+pYgtqt04k6nqpToyuuuIK//vWv5drIzc0FNJZKhauTxhL079+fP/7xjwAUFhby+uuvk5KSQuvWrQF7jqWTKtBkZ2eTlJREdHR0cFpqaioej4d9+/aVW7ZBgwYh01JSUtixYwcAu3btqnK+XdVmjdauXUtBQQE33HADPXv25LbbbmP9+vVHfR+OherUCeCFF16gb9++FbZ1oo4lqN06najjqTo1at26Ne3atQu+Xr16NT/99BPnnHMOoLFUKlydNJYO+emnn+jcuTNjx47l4YcfJj4+HrDnWDqpAk1BQUHIGw0EXxcVFUW0bOlyhYWFVc63q9qs0bp169i/fz9//OMfeeGFF3C73dx4440cPHjwKO7BsVGdOoVzoo4lqN06najjqaY12rNnD/fccw9dunQJXkCtsVReRXXSWDrktNNOY/r06dx777089NBDwSPsdhxLruPdgWMpJiam3JtR+trtdke0bOlylc2PjY2t7W4fU7VZo1dffZXi4uJg4n/mmWfo1asXX331FQMGDDhau3BMVKdONW3L7mMJardOJ+p4qkmNcnJyuOmmmzDG8Nxzz+FwOKps62QdS5XVSWPpkNTUVFJTU0lPTycrK4upU6fSqVMnW46lk+oITVpaGnv37sXr9QanZWdn43a7SUxMLLdsTk5OyLScnJzgIbjK5tevX/8o9f7YqM0aRUdHBz8wIPDD1rRpU3bu3HkU9+DYqE6dImnrRBxLULt1OlHHU3VrtHPnTq677jqKioqYNGkSycnJIW1pLAVUVSeNJVi8eDHLli0Lmda6dWv27t0bbMtuY+mkCjTp6em4XK7gITWA+fPn06FDh2ByL5WRkcHChQsxxgBgjGHBggVkZGQE58+fPz+4/Pbt29m+fXtwvl3VVo2MMVx44YVMnz49uHx+fj4bN27klFNOOSb7cjRVp07hnKhjCWqvTifyeKpOjfLz87n11ltxOBy8+eabpKWlhczXWAqoqk4aSwHvvfcezz77bMi0ZcuWBWtgy7F03O6vOk4effRRc8kll5isrCwze/Zs06VLF/PZZ58ZY4zZtWuXKSgoMMYEbmE7++yzzciRI83q1avNyJEjTY8ePYLPWFmwYIFp3769eeedd4L36N9xxx3Hbb9qU23VaOTIkea8884zP//8s1m1apW56667zKWXXmq8Xu9x27faFGmdypo2bVq525FP5LFkTO3V6UQeT5HW6NlnnzUdO3Y0WVlZIc9POXDggDFGYynSOmksGbN06VJz+umnm9dff92sX7/e/Oc//zGdOnUyO3bsMMbYcyyddIEmPz/f/P3vfzedOnUyPXv2NK+99lpwXps2bYLPUDEm8GChgQMHmg4dOpirrrrKLFu2LKStadOmmV69eplOnTqZu+66y+zZs+dY7cZRVVs1KiwsNKNHjzY9evQwGRkZ5o477jDbtm07lrtyVFWnTqUq+qIunX4ijiVjaq9OJ/J4irRGF110kWnTpk25/8o+L0RjKXydNJYCvvzyS3PppZeaDh06mEGDBpn58+eHtGW3sWQZU3K+QERERMSmTqpraEREROTEpEAjIiIitqdAIyIiIranQCMiIiK2p0AjIiIitqdAIyIiIranQCMiIiK2p0AjIiIitqdAIyLHjMfj4U9/+hMdO3bkhhtuON7dCdG7d++Qv+8jIvbiOt4dEJGTx3fffcd3333HlClTgn+VXUSkNijQiMgxk5ubS2pqKmecccbx7oqInGB0yknkBLBlyxbatm3LrFmzuPDCC+nQoQN33HEH+/btY/r06fTu3Ttk+RtuuIH//ve/ADz00EM8/fTT3HfffWRkZHDxxRezfPly/v3vf5OZmcnvfvc7Zs6cGXFfFi5cyLXXXkunTp3o3bs3U6ZMAWD69Ok89NBDbNu2jbZt24Y9vfP4449z7733Bl+/+OKLnHHGGXg8HgDWr19Phw4dyM/Px+Px8PTTT9OrVy86derEnXfeyfbt20Nq8/zzz3PmmWfyr3/9C4CpU6dy3nnn0aVLF1544YWQba9cuZJrrrmGjIwMzj33XMaOHRvRvlf1PoSrDwTei4ceeojLLruMc845hw0bNtC2bVtmzpxJ//79ycjI4P7772fz5s0MGTKEjIwMBg8ezM6dOyPqn8iJTIFG5AQybtw4nn32Wd58802WLFnCa6+9FtF6EydOpFu3bnz00UfUq1ePoUOHsnv3bt5++2169+7NY489ht/vD9vO2rVrGTp0KGeeeSbTp0/nnnvuYcyYMcyePZuLL76Yhx9+mIYNG/L9999z8cUXV9nWueeey7x58yj9+7nz5s3D6/WyZMkSAH788Ue6du1KXFwcjz32GLNnz2bMmDFMnToVr9fLn/70p5A+L1iwgGnTpjFkyBC+++47Ro0axX333cfbb7/NkiVL2Lp1a3DZv//976Snp/Pxxx8zatQoXnnlFb755puIagmVvw9V1afUhx9+yH333cf48eNp2bIlAM899xxPPvkk48ePZ9asWVx77bVce+21TJ06lezsbF5++eWI+yZyotIpJ5ETyL333kvHjh0BGDBgAEuWLKFFixZh1zvjjDMYPHgwAJdeeilPPPEE//jHP3C73dxwww1MmTKFnJycsNe9vPPOO5x++uncf//9AJxyyimsXbuWV155hT59+lCnTh2cTif169cP26du3bqRm5vL6tWrOeWUU1i0aBE9e/ZkwYIFZGZm8uOPP3Luueeyf/9+PvzwQ15++WXOPvtsAJ555hnOO+88fvjhB1q1agXA0KFDad68OQDPPvssAwYMYODAgQA88cQT9OrVK7jtrVu3csEFF9CkSROaNWvGa6+9RtOmTcP2uVRF70Mk9QHo0KFDuSNqN954IxkZGQCkp6fTqlUr+vfvD0Dfvn1ZuXJlxH0TOVHpCI3ICaRseElISKC4uDii9cp+WbvdblJTU3G73QDExMQAUFRUFLadtWvXBr/IS3Xu3Jm1a9dG1I+yYmNj6dq1K3PnzmX58uU0adKEXr16sWDBAnw+H3PnzuXcc89lw4YN+P3+4Bc+QL169WjVqlXIdps0aRLSz/T09ODrpKQkmjVrFnx9xx138OKLL9KzZ08efvhhioqKIgphpSp7HyKpT9l+lirbN7fbHbKM2+2O6L0ROdEp0IicQKKiospNsyyr3DSv1xvy2uUKPVjrcNTso6E0/JTl9/vx+Xw1aq9Hjx7MnTuXefPm0aVLF7p27crChQtZsmQJcXFxtGnTpsJtAvh8vpBTTocvV3oqq1TZ2t1+++3Mnj2b2267jc2bNzN06FDefffdiPtd0ftQUR+gfH0qWsbpdIa8run7I3Ii00+FyAkuKiqKvLy84GtjDFu2bDkq22rVqhVZWVkh0xYuXBg87VNdpdfRzJ8/n8zMTNq1a4fX62XSpEn07NkTCBy9cLlcLFq0KLje3r172bhxY6XbPe2004KngQAOHjzIxo0bgcCzch5//HGio6O56aabeOONN/j973/PZ599VqN9KKu26yMihyjQiJzgzjjjDPbt28cbb7zB5s2bGT16NPv37z8q2xo8eDArVqzg2WefZf369bz//vu89dZbXHfddTVqr127djgcDr799lu6du2Kw+Ggc+fOzJgxg3PPPReA+Ph4rr76akaOHMmcOXNYuXIlf/vb32jYsCE9evSosN3rr7+emTNn8s4777B27Vr++c9/UlhYCASOkCxYsICRI0eybt06lixZwi+//MLpp59es6KUUdv1EZFDFGhETnAtW7bkwQcf5MUXX2TgwIEYY7jooouOyrYaN27M+PHj+e677xgwYAAvvvgiDz30EFdeeWWN2rMsi+7du5Oamkrjxo0ByMzMxOFw0L179+ByDz74IN27d+fee+/l2muvJSYmhtdff53o6OgK283MzGT06NGMHz+eq666iuTk5JBrav79739TUFDAVVddxS233EJmZiZ/+tOfarQPZdV2fUTkEMscfiJZRERExGZ0hEZERERsT8+hEZGILF68mKFDh1Y6v3HjxnzyyScRt3fXXXfx448/Vjp/xIgRXHbZZdXq49F21llnVXmL9CeffBI8NSYix5ZOOYlIRIqKioJ/TqAiLperwmeoVGbXrl0UFBRUOj8lJYWEhIRq9fFo27x5c5VPTG7SpEm5W+BF5NhQoBERERHb0zU0IiIiYnsKNCIiImJ7CjQiIiJiewo0IiIiYnsKNCIiImJ7CjQiIiJiewo0IiIiYnsKNCIiImJ7/x+65rXK4ZgnKQAAAABJRU5ErkJggg==",
      "text/plain": [
       "<Figure size 640x480 with 1 Axes>"
      ]
     },
     "metadata": {},
     "output_type": "display_data"
    }
   ],
   "source": [
    "plt.scatter(x_df.iloc[:, 0], x_df.iloc[:, 1], c=y_df, s=50, cmap='rainbow')\n",
    "plt.xlabel('num_of_words_norm')\n",
    "plt.ylabel('subject_norm')\n",
    "plt.show()"
   ]
  },
  {
<<<<<<< HEAD
   "cell_type": "code",
   "execution_count": 266,
   "id": "9603a039",
   "metadata": {},
   "outputs": [
    {
     "name": "stdout",
     "output_type": "stream",
     "text": [
      "label\n",
      "1    0.621658\n",
      "0    0.378342\n",
      "Name: proportion, dtype: float64\n",
      "\n",
      "Devido ao desbalanceamento entre as classes, a medição não poderá ser feita por acurácia, como estamos preocupados prioritariamente com o desempenho geral do modelo e sua capacidade de distinguir entre as classes, vamos utilizar a AUC-ROC.\n"
     ]
    }
   ],
   "source": [
    "print(df['label'].value_counts(normalize=True))\n",
    "print(f'\\nDevido ao desbalanceamento entre as classes, a medição não poderá ser feita por acurácia, como estamos preocupados prioritariamente com o desempenho geral do modelo e sua capacidade de distinguir entre as classes, vamos utilizar a AUC-ROC.')"
   ]
  },
  {
=======
>>>>>>> parent of d5aba62 (Melhora de modelo)
   "cell_type": "markdown",
   "id": "443de6cb-2ce1-45ec-b923-93d7b01cfcdb",
   "metadata": {},
   "source": [
    "### Algoritmos"
   ]
  },
  {
   "cell_type": "code",
   "execution_count": 66,
   "id": "c8d59afc",
   "metadata": {},
   "outputs": [],
   "source": [
    "# Define models and hyperparameters\n",
    "param_grid = {\n",
    "    \"RandomForestClassifier\": {\n",
    "        'n_estimators': [100, 200, 500],\n",
    "        'max_depth': [None, 10, 20]\n",
    "    },\n",
    "    \"KNeighborsClassifier\": {\n",
    "        'n_neighbors': [3, 5, 7]\n",
    "    },\n",
    "    \"SVC\": {\n",
    "        'C': [0.1, 1, 10],\n",
    "        'kernel': ['linear', 'rbf']\n",
    "    },\n",
    "    \"LogisticRegression\": {\n",
    "        'C': [0.1, 1, 10],\n",
    "        'max_iter': [100, 200, 300]\n",
    "    }\n",
    "}\n",
    "\n",
    "models = {\n",
    "    \"RandomForestClassifier\": RandomForestClassifier(random_state=1),\n",
    "    \"KNeighborsClassifier\": KNeighborsClassifier(),\n",
    "    \"SVC\": SVC(),\n",
    "    \"LogisticRegression\": LogisticRegression()\n",
    "}"
   ]
  },
  {
   "cell_type": "code",
   "execution_count": 67,
   "id": "1aed2f5c",
   "metadata": {},
   "outputs": [],
   "source": [
    "def find_best_hyper_parameters(models):\n",
    "    best_models = {}\n",
    "    best_accuracy = 0\n",
    "    best_model_name = None\n",
    "    best_model = None\n",
    "\n",
    "    for model_name, model in models.items():\n",
    "        print(f\"Training {model_name}...\")\n",
    "        grid_search = GridSearchCV(model, param_grid[model_name], scoring='accuracy', cv=5)\n",
    "        grid_search.fit(xtrain, ytrain)\n",
    "\n",
    "        best_models[model_name] = grid_search.best_estimator_\n",
    "        accuracy = grid_search.best_score_\n",
    "\n",
    "        print(f\"Best parameters for {model_name}: {grid_search.best_params_}\")\n",
    "        print(f\"Validation accuracy for {model_name}: {accuracy}\")\n",
    "\n",
    "        # Log the results of each grid search with MLflow\n",
    "        with mlflow.start_run(run_name=f\"{model_name}_GridSearch\"):\n",
    "            mlflow.log_param(\"model_name\", model_name)\n",
    "            mlflow.log_params(grid_search.best_params_)\n",
    "            mlflow.log_metric(\"validation_accuracy\", accuracy)\n",
    "\n",
    "        if accuracy > best_accuracy:\n",
    "            best_accuracy = accuracy\n",
    "            best_model_name = model_name\n",
    "            best_model = grid_search.best_estimator_\n",
    "\n",
    "    return best_models"
   ]
  },
  {
   "cell_type": "code",
   "execution_count": 68,
   "id": "72414f17",
   "metadata": {},
   "outputs": [],
   "source": [
    "def run_models_using_mlflow(models):\n",
    "    test_results = {}\n",
    "    for model_name, model in models.items():\n",
    "        model.fit(xtrain, ytrain)\n",
    "        y_pred = model.predict(xtest)\n",
    "        accuracy = accuracy_score(ytest, y_pred)\n",
    "        test_results[model_name] = accuracy\n",
    "\n",
    "        print(f\"Test accuracy for {model_name}: {accuracy}\")\n",
    "\n",
    "        # Generate and log confusion matrix\n",
    "        mat = confusion_matrix(ytest, y_pred)\n",
    "        plt.figure(figsize=(8, 6))\n",
    "        sns.heatmap(mat.T, square=True, annot=True, fmt='d', cbar=False, cmap='Blues')\n",
    "        plt.xlabel('True Label')\n",
    "        plt.ylabel('Predicted Label')\n",
    "        plt.title(f'Confusion Matrix for {model_name}')\n",
    "\n",
    "        # Save the plot to a file\n",
    "        plot_path = f\"confusion_matrix_{model_name}.png\"\n",
    "        plt.savefig(plot_path)\n",
    "        plt.close()\n",
    "\n",
    "        # Log the confusion matrix plot\n",
    "        with mlflow.start_run(run_name=model_name):\n",
    "            mlflow.log_param(\"model_name\", model_name)\n",
    "            mlflow.log_metric(\"test_accuracy\", accuracy)\n",
    "            mlflow.sklearn.log_model(model, model_name)\n",
    "            mlflow.log_artifact(plot_path)\n",
    "\n",
    "    best_model_name = max(test_results, key=test_results.get)\n",
    "    print(f\"Best overall model: {best_model_name} with test accuracy: {test_results[best_model_name]}\")"
   ]
  },
  {
   "cell_type": "code",
   "execution_count": 69,
   "id": "efdc46f1c4160e55",
   "metadata": {
    "jupyter": {
     "is_executing": true
    }
   },
   "outputs": [
    {
     "name": "stdout",
     "output_type": "stream",
     "text": [
      "Training RandomForestClassifier...\n",
      "Best parameters for RandomForestClassifier: {'max_depth': 10, 'n_estimators': 500}\n",
      "Validation accuracy for RandomForestClassifier: 0.7458972485386012\n",
      "Training KNeighborsClassifier...\n",
      "Best parameters for KNeighborsClassifier: {'n_neighbors': 7}\n",
      "Validation accuracy for KNeighborsClassifier: 0.7218256594989303\n",
      "Training SVC...\n",
      "Best parameters for SVC: {'C': 10, 'kernel': 'rbf'}\n",
      "Validation accuracy for SVC: 0.7123099612461067\n",
      "Training LogisticRegression...\n",
      "Best parameters for LogisticRegression: {'C': 10, 'max_iter': 100}\n",
      "Validation accuracy for LogisticRegression: 0.6213054486283334\n",
      "Test accuracy for RandomForestClassifier: 0.7477019835510401\n",
      "Test accuracy for KNeighborsClassifier: 0.7197629414610547\n",
      "Test accuracy for SVC: 0.7143202709240445\n",
      "Test accuracy for LogisticRegression: 0.6118771165940977\n",
      "Best overall model: RandomForestClassifier with test accuracy: 0.7477019835510401\n"
     ]
    }
   ],
   "source": [
    "mlflow.set_experiment(\"Multiple Classifier Models\")\n",
    "best_models = find_best_hyper_parameters(models)\n",
    "run_models_using_mlflow(best_models)"
   ]
  },
  {
   "cell_type": "code",
<<<<<<< HEAD
   "execution_count": 271,
   "id": "00be4688",
   "metadata": {
    "scrolled": false
   },
   "outputs": [
    {
     "name": "stdout",
     "output_type": "stream",
     "text": [
      "Teste AUC-ROC para RandomForestClassifier: 0.7966316881865511\n",
      "Treino AUC-ROC para RandomForestClassifier: 0.8222709644798731\n"
     ]
    },
    {
     "data": {
      "image/png": "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\n",
      "text/plain": [
       "<Figure size 800x600 with 1 Axes>"
      ]
     },
     "metadata": {},
     "output_type": "display_data"
    },
    {
     "data": {
      "image/png": "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\n",
      "text/plain": [
       "<Figure size 800x600 with 1 Axes>"
      ]
     },
     "metadata": {},
     "output_type": "display_data"
    },
    {
     "name": "stdout",
     "output_type": "stream",
     "text": [
      "Warning: RandomForestClassifier is overfitting!\n",
      "\n",
      "Teste AUC-ROC para KNeighborsClassifier: 0.7637423920962386\n",
      "Treino AUC-ROC para KNeighborsClassifier: 0.8081574273076755\n"
     ]
    },
    {
     "data": {
      "image/png": "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\n",
      "text/plain": [
       "<Figure size 800x600 with 1 Axes>"
      ]
     },
     "metadata": {},
     "output_type": "display_data"
    },
    {
     "data": {
      "image/png": "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\n",
      "text/plain": [
       "<Figure size 800x600 with 1 Axes>"
      ]
     },
     "metadata": {},
     "output_type": "display_data"
    },
    {
     "name": "stdout",
     "output_type": "stream",
     "text": [
      "Warning: KNeighborsClassifier is overfitting!\n",
      "\n",
      "Teste AUC-ROC para SVC: 0.7319323179091425\n",
      "Treino AUC-ROC para SVC: 0.7331717652861017\n"
     ]
    },
    {
     "data": {
      "image/png": "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\n",
      "text/plain": [
       "<Figure size 800x600 with 1 Axes>"
      ]
     },
     "metadata": {},
     "output_type": "display_data"
    },
    {
     "data": {
      "image/png": "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\n",
      "text/plain": [
       "<Figure size 800x600 with 1 Axes>"
      ]
     },
     "metadata": {},
     "output_type": "display_data"
    },
    {
     "name": "stdout",
     "output_type": "stream",
     "text": [
      "Warning: SVC is overfitting!\n",
      "\n",
      "Teste AUC-ROC para LogisticRegression: 0.6670166097282962\n",
      "Treino AUC-ROC para LogisticRegression: 0.6732305850164585\n"
     ]
    },
    {
     "data": {
      "image/png": "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\n",
      "text/plain": [
       "<Figure size 800x600 with 1 Axes>"
      ]
     },
     "metadata": {},
     "output_type": "display_data"
    },
    {
     "data": {
      "image/png": "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\n",
      "text/plain": [
       "<Figure size 800x600 with 1 Axes>"
      ]
     },
     "metadata": {},
     "output_type": "display_data"
    },
    {
     "name": "stdout",
     "output_type": "stream",
     "text": [
      "Warning: LogisticRegression is overfitting!\n",
      "\n",
      "Melhor modelo: RandomForestClassifier com AUC-ROC: 0.7966316881865511\n"
     ]
    }
   ],
   "source": [
    "run_models_using_mlflow(best_models, xtrain, ytrain, xtest, ytest)"
   ]
  },
  {
   "cell_type": "markdown",
   "id": "2d465d91",
   "metadata": {},
   "source": [
    "# Melhora do modelo\n",
    "Lembrando que o ajuste de hiper parâmetros já foi feito anteriormente, não será necessário o uso dessa técnica."
   ]
  },
  {
   "cell_type": "markdown",
   "id": "43a2e85f",
   "metadata": {},
   "source": [
    "## Aumento do conjunto de treinamento\n",
    "O valor default utilizado é tamanho do conjunto de teste em 25%, vamos diminuir para 15%, assim aumentando o tamanho do conjunto de treino"
   ]
  },
  {
   "cell_type": "code",
   "execution_count": 301,
   "id": "ca21e8a1",
   "metadata": {},
   "outputs": [],
   "source": [
    "x_df = df[['num_of_words_norm','subject_norm']]\n",
    "y_df = df['label']\n",
    "xtrain_modified, xtest_modified, ytrain_modified, ytest_modified = train_test_split(x_df, y_df, random_state=1, test_size=0.15)"
   ]
  },
  {
   "cell_type": "code",
   "execution_count": 302,
   "id": "062a7d62",
   "metadata": {},
   "outputs": [
    {
     "name": "stdout",
     "output_type": "stream",
     "text": [
      "Teste AUC-ROC : 0.7993193888800294\n",
      "Treino AUC-ROC : 0.8173356955449905\n"
     ]
    }
   ],
   "source": [
    "best_model.fit(xtrain_modified, ytrain_modified)\n",
    "# Predict probabilities for class 1 nos dados de teste\n",
    "y_pred_proba_test = best_model.predict_proba(xtest_modified)[:, 1]\n",
    "\n",
    "# Calcular AUC-ROC nos dados de teste\n",
    "auc_roc_test = roc_auc_score(ytest_modified, y_pred_proba_test)\n",
    "\n",
    "# Predict probabilities for class 1 nos dados de treino\n",
    "y_pred_proba_train = model.predict_proba(xtrain_modified)[:, 1]\n",
    "\n",
    "# Calcular AUC-ROC nos dados de treino\n",
    "auc_roc_train = roc_auc_score(ytrain_modified, y_pred_proba_train)\n",
    "\n",
    "# Log resultados de teste\n",
    "print(f\"Teste AUC-ROC : {auc_roc_test}\")\n",
    "\n",
    "# Log resultados de treino\n",
    "print(f\"Treino AUC-ROC : {auc_roc_train}\")"
   ]
  },
  {
   "cell_type": "markdown",
   "id": "d3c9227f",
   "metadata": {},
   "source": [
    "Resultado: Houve uma diminuição no overfitting do modelo, equilibrando a validação do conjunto de teste e de treinamento"
   ]
  },
  {
   "cell_type": "markdown",
   "id": "6aaa0c6e",
   "metadata": {},
   "source": [
    "## Bagging\n",
    "Ensemble learning que combina múltiplos modelos de machine learning para melhorar a precisão e robustez geral do modelo final. Funciona treinando vários modelos independentes em diferentes subconjuntos aleatórios dos dados de treinamento e depois combinando suas previsões por meio da votação."
   ]
  },
  {
   "cell_type": "code",
   "execution_count": 280,
   "id": "0bd21ca8",
   "metadata": {},
   "outputs": [
    {
     "name": "stdout",
     "output_type": "stream",
     "text": [
      "Teste AUC-ROC : 0.7940609654330388\n",
      "Treino AUC-ROC : 0.7959237142875891\n"
     ]
    }
   ],
   "source": [
    "from sklearn.ensemble import BaggingClassifier\n",
    "\n",
    "# Exemplo de Bagging com RandomForestClassifier\n",
    "bagging_model = BaggingClassifier(estimator=best_model, n_estimators=10, random_state=1)\n",
    "bagging_model.fit(xtrain, ytrain)\n",
    "# Predict probabilities for class 1 nos dados de teste\n",
    "y_pred_proba_test = model.predict_proba(xtest)[:, 1]\n",
    "xtrain_modified\n",
    "# Calcular AUC-ROC nos dados de teste\n",
    "auc_roc_test = roc_auc_score(ytest, y_pred_proba_test)\n",
    "\n",
    "# Predict probabilities for class 1 nos dados de treino\n",
    "y_pred_proba_train = model.predict_proba(xtrain)[:, 1]\n",
    "\n",
    "# Calcular AUC-ROC nos dados de treino\n",
    "auc_roc_train = roc_auc_score(ytrain, y_pred_proba_train)\n",
    "\n",
    "# Log resultados de teste\n",
    "print(f\"Teste AUC-ROC : {auc_roc_test}\")\n",
    "\n",
    "# Log resultados de treino\n",
    "print(f\"Treino AUC-ROC : {auc_roc_train}\")\n",
    "Resultado: Houve uma diminuição no overfitting do modelo, equilibrando a validação do conjunto de teste e de treinamento"
   ]
  },
  {
   "cell_type": "markdown",
   "id": "f9b72a63",
   "metadata": {},
   "source": [
    "Resultado: Houve uma diminuição no overfitting do modelo, equilibrando a validação do conjunto de teste e de treinamento"
   ]
  },
  {
   "cell_type": "markdown",
   "id": "6ea59a4d",
   "metadata": {},
   "source": [
    "## Balanceamento de Dados\n",
    "Técnica de oversampling da classe minoritária ou undersampling da classe majoritária para melhorar o desempenho do modelo"
   ]
  },
  {
   "cell_type": "code",
   "execution_count": 283,
   "id": "4272772a",
   "metadata": {},
   "outputs": [
    {
     "name": "stdout",
     "output_type": "stream",
     "text": [
      "Teste AUC-ROC : 0.8148981537624616\n",
      "Treino AUC-ROC : 0.7959237142875891\n"
     ]
    }
   ],
   "source": [
    "from imblearn.over_sampling import RandomOverSampler\n",
    "\n",
    "ros = RandomOverSampler(random_state=1)\n",
    "X_resampled, y_resampled = ros.fit_resample(x_df, y_df)\n",
    "\n",
    "model = best_model.fit(X_resampled, y_resampled)\n",
    "# Predict probabilities for class 1 nos dados de teste\n",
    "y_pred_proba_test = model.predict_proba(xtest)[:, 1]\n",
    "\n",
    "# Calcular AUC-ROC nos dados de teste\n",
    "auc_roc_test = roc_auc_score(ytest, y_pred_proba_test)\n",
    "\n",
    "# Predict probabilities for class 1 nos dados de treino\n",
    "y_pred_proba_train = model.predict_proba(xtrain)[:, 1]\n",
    "\n",
    "# Calcular AUC-ROC nos dados de treino\n",
    "auc_roc_train = roc_auc_score(ytrain, y_pred_proba_train)\n",
    "\n",
    "# Log resultados de teste\n",
    "print(f\"Teste AUC-ROC : {auc_roc_test}\")\n",
    "\n",
    "# Log resultados de treino\n",
    "print(f\"Treino AUC-ROC : {auc_roc_train}\")\n"
   ]
  },
  {
   "cell_type": "markdown",
   "id": "0d4b0fc5",
   "metadata": {},
   "source": [
    "Resultado: Houve uma melhora do modelo, com a métrica de validação no conjunto de teste maior, significando que  o modelo está generalizando bem para dados não vistos."
   ]
  },
  {
   "cell_type": "markdown",
   "id": "84de1db5",
   "metadata": {},
   "source": [
    "## Diminuição da complexidade do modelo\n",
    "Aumentar min_samples_split e min_samples_leaf em modelos de árvores de decisão limita sua capacidade de se ajustar excessivamente aos dados de treinamento e melhorando sua capacidade de generalização para novos dados."
   ]
  },
  {
   "cell_type": "code",
   "execution_count": 289,
   "id": "79d38f5c",
   "metadata": {},
   "outputs": [
    {
     "name": "stdout",
     "output_type": "stream",
     "text": [
      "Teste AUC-ROC : 0.7968178837167837\n",
      "Treino AUC-ROC : 0.8193587298999778\n"
     ]
    }
   ],
   "source": [
    "new_params = {\n",
    "    'min_samples_split': 10,\n",
    "    'min_samples_leaf': 10\n",
    "}\n",
    "\n",
    "# Adicionando os novos parâmetros ao modelo existente\n",
    "model = best_model.set_params(**new_params)\n",
    "model.fit(xtrain, ytrain)\n",
    "# Predict probabilities for class 1 nos dados de teste\n",
    "y_pred_proba_test = model.predict_proba(xtest)[:, 1]\n",
    "\n",
    "# Calcular AUC-ROC nos dados de teste\n",
    "auc_roc_test = roc_auc_score(ytest, y_pred_proba_test)\n",
    "\n",
    "# Predict probabilities for class 1 nos dados de treino\n",
    "y_pred_proba_train = model.predict_proba(xtrain)[:, 1]\n",
    "\n",
    "# Calcular AUC-ROC nos dados de treino\n",
    "auc_roc_train = roc_auc_score(ytrain, y_pred_proba_train)\n",
    "\n",
    "# Log resultados de teste\n",
    "print(f\"Teste AUC-ROC : {auc_roc_test}\")\n",
    "\n",
    "# Log resultados de treino\n",
    "print(f\"Treino AUC-ROC : {auc_roc_train}\")"
   ]
  },
  {
   "cell_type": "markdown",
   "id": "bb6075bf",
   "metadata": {},
   "source": [
    "Resultado: Não houve uma melhora do modelo"
   ]
  },
  {
   "cell_type": "markdown",
   "id": "0aba73d6",
   "metadata": {},
   "source": [
    "# Modelo final Junção da técnicas (bagging + balanceamento dos dados + Aumento do conjunto de treinamento)"
   ]
  },
  {
   "cell_type": "code",
   "execution_count": 315,
   "id": "491683f1",
   "metadata": {},
   "outputs": [
    {
     "name": "stdout",
     "output_type": "stream",
     "text": [
      "Teste AUC-ROC : 0.8129466177513452\n",
      "Treino AUC-ROC : 0.813840723853344\n"
     ]
    }
   ],
   "source": [
    "# Balanceamento dos dados\n",
    "ros = RandomOverSampler(random_state=1)\n",
    "x_df_resampled, y_df_resampled = ros.fit_resample(x_df, y_df)\n",
    "\n",
    "# Aumento do conjunto de treinamento\n",
    "xtrain_modified, xtest_modified, ytrain_modified, ytest_modified = train_test_split(x_df_resampled, y_df_resampled, random_state=1, test_size=0.15)\n",
    "\n",
    "# Bagging de RandomForest\n",
    "bagging_model = BaggingClassifier(estimator=best_model, n_estimators=10, random_state=1)\n",
    "bagging_model.fit(xtrain_modified, ytrain_modified)\n",
    "\n",
    "# Predict probabilities for class 1 nos dados de teste\n",
    "y_pred_proba_test = bagging_model.predict_proba(xtest_modified)[:, 1]\n",
    "\n",
    "# Calcular AUC-ROC nos dados de teste\n",
    "auc_roc_test = roc_auc_score(ytest_modified, y_pred_proba_test)\n",
    "\n",
    "# Predict probabilities for class 1 nos dados de treino\n",
    "y_pred_proba_train = model.predict_proba(xtrain_modified)[:, 1]\n",
    "\n",
    "# Calcular AUC-ROC nos dados de treino\n",
    "auc_roc_train = roc_auc_score(ytrain_modified, y_pred_proba_train)\n",
    "\n",
    "# Log resultados de teste\n",
    "print(f\"Teste AUC-ROC : {auc_roc_test}\")\n",
    "\n",
    "# Log resultados de treino\n",
    "print(f\"Treino AUC-ROC : {auc_roc_train}\")"
   ]
=======
   "execution_count": null,
   "id": "17dd8ee9",
   "metadata": {},
   "outputs": [],
   "source": []
>>>>>>> parent of d5aba62 (Melhora de modelo)
  }
 ],
 "metadata": {
  "colab": {
   "provenance": []
  },
  "kernelspec": {
   "display_name": "Python 3 (ipykernel)",
   "language": "python",
   "name": "python3"
  },
  "language_info": {
   "codemirror_mode": {
    "name": "ipython",
    "version": 3
   },
   "file_extension": ".py",
   "mimetype": "text/x-python",
   "name": "python",
   "nbconvert_exporter": "python",
   "pygments_lexer": "ipython3",
   "version": "3.10.4"
  }
 },
 "nbformat": 4,
 "nbformat_minor": 5
}
