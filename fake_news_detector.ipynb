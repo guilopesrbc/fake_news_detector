{
  "cells": [
    {
      "cell_type": "markdown",
      "id": "f4f00f97-64ad-4475-a9cb-b9e0ffb2561a",
      "metadata": {
        "id": "f4f00f97-64ad-4475-a9cb-b9e0ffb2561a"
      },
      "source": [
        "# Pré processamento"
      ]
    },
    {
      "cell_type": "code",
      "execution_count": 1,
      "id": "efa12dfa6a5e2ac2",
      "metadata": {
        "id": "efa12dfa6a5e2ac2"
      },
      "outputs": [],
      "source": [
        "# Importando as bibliotecas e construindo o dataframe\n",
        "import pandas as pd"
      ]
    },
    {
      "cell_type": "code",
      "execution_count": 2,
      "id": "190355b6c13c5ab6",
      "metadata": {
        "ExecuteTime": {
          "end_time": "2024-05-21T19:35:57.603240Z",
          "start_time": "2024-05-21T19:35:55.007387Z"
        },
        "id": "190355b6c13c5ab6"
      },
      "outputs": [],
      "source": [
        "# concatenando dois dataframes (um com fake news e outro com noticias verdadeiras)\n",
        "fake_df = pd.read_csv('https://raw.githubusercontent.com/guilopesrbc/fake_news_detector/main/Fake.csv')\n",
        "true_df = pd.read_csv('https://raw.githubusercontent.com/guilopesrbc/fake_news_detector/main/True.csv')\n",
        "\n",
        "# adicionando coluna label, correspondente a veracidade da noticias (1 para verdadeiro e 0 para falsa)\n",
        "fake_df['label'] = 0\n",
        "true_df['label'] = 1\n",
        "\n",
        "combined_df = pd.concat([fake_df, true_df], ignore_index=True)\n",
        "\n",
        "combined_df.to_csv('Combined.csv', index=False)\n",
        "combined_df.reset_index(drop=True,inplace=True)"
      ]
    },
    {
      "cell_type": "code",
      "execution_count": 3,
      "id": "e8cb7b79-02db-4777-9a63-3bf2aec7e423",
      "metadata": {
        "ExecuteTime": {
          "end_time": "2024-05-21T19:45:11.651311Z",
          "start_time": "2024-05-21T19:45:11.246788Z"
        },
        "id": "e8cb7b79-02db-4777-9a63-3bf2aec7e423",
        "outputId": "a05be6d3-14b3-4c42-b3cc-126d360b6687",
        "colab": {
          "base_uri": "https://localhost:8080/",
          "height": 423
        }
      },
      "outputs": [
        {
          "output_type": "execute_result",
          "data": {
            "text/plain": [
              "                                                   title  \\\n",
              "0       Donald Trump Sends Out Embarrassing New Year’...   \n",
              "1       Drunk Bragging Trump Staffer Started Russian ...   \n",
              "2       Sheriff David Clarke Becomes An Internet Joke...   \n",
              "3       Trump Is So Obsessed He Even Has Obama’s Name...   \n",
              "4       Pope Francis Just Called Out Donald Trump Dur...   \n",
              "...                                                  ...   \n",
              "44893  'Fully committed' NATO backs new U.S. approach...   \n",
              "44894  LexisNexis withdrew two products from Chinese ...   \n",
              "44895  Minsk cultural hub becomes haven from authorities   \n",
              "44896  Vatican upbeat on possibility of Pope Francis ...   \n",
              "44897  Indonesia to buy $1.14 billion worth of Russia...   \n",
              "\n",
              "                                                    text    subject  \\\n",
              "0      Donald Trump just couldn t wish all Americans ...       News   \n",
              "1      House Intelligence Committee Chairman Devin Nu...       News   \n",
              "2      On Friday, it was revealed that former Milwauk...       News   \n",
              "3      On Christmas day, Donald Trump announced that ...       News   \n",
              "4      Pope Francis used his annual Christmas Day mes...       News   \n",
              "...                                                  ...        ...   \n",
              "44893  BRUSSELS (Reuters) - NATO allies on Tuesday we...  worldnews   \n",
              "44894  LONDON (Reuters) - LexisNexis, a provider of l...  worldnews   \n",
              "44895  MINSK (Reuters) - In the shadow of disused Sov...  worldnews   \n",
              "44896  MOSCOW (Reuters) - Vatican Secretary of State ...  worldnews   \n",
              "44897  JAKARTA (Reuters) - Indonesia will buy 11 Sukh...  worldnews   \n",
              "\n",
              "                    date  label  \n",
              "0      December 31, 2017      0  \n",
              "1      December 31, 2017      0  \n",
              "2      December 30, 2017      0  \n",
              "3      December 29, 2017      0  \n",
              "4      December 25, 2017      0  \n",
              "...                  ...    ...  \n",
              "44893   August 22, 2017       1  \n",
              "44894   August 22, 2017       1  \n",
              "44895   August 22, 2017       1  \n",
              "44896   August 22, 2017       1  \n",
              "44897   August 22, 2017       1  \n",
              "\n",
              "[44898 rows x 5 columns]"
            ],
            "text/html": [
              "\n",
              "  <div id=\"df-5a22fedf-dc9d-4f75-a3b8-5bf45958bc3d\" class=\"colab-df-container\">\n",
              "    <div>\n",
              "<style scoped>\n",
              "    .dataframe tbody tr th:only-of-type {\n",
              "        vertical-align: middle;\n",
              "    }\n",
              "\n",
              "    .dataframe tbody tr th {\n",
              "        vertical-align: top;\n",
              "    }\n",
              "\n",
              "    .dataframe thead th {\n",
              "        text-align: right;\n",
              "    }\n",
              "</style>\n",
              "<table border=\"1\" class=\"dataframe\">\n",
              "  <thead>\n",
              "    <tr style=\"text-align: right;\">\n",
              "      <th></th>\n",
              "      <th>title</th>\n",
              "      <th>text</th>\n",
              "      <th>subject</th>\n",
              "      <th>date</th>\n",
              "      <th>label</th>\n",
              "    </tr>\n",
              "  </thead>\n",
              "  <tbody>\n",
              "    <tr>\n",
              "      <th>0</th>\n",
              "      <td>Donald Trump Sends Out Embarrassing New Year’...</td>\n",
              "      <td>Donald Trump just couldn t wish all Americans ...</td>\n",
              "      <td>News</td>\n",
              "      <td>December 31, 2017</td>\n",
              "      <td>0</td>\n",
              "    </tr>\n",
              "    <tr>\n",
              "      <th>1</th>\n",
              "      <td>Drunk Bragging Trump Staffer Started Russian ...</td>\n",
              "      <td>House Intelligence Committee Chairman Devin Nu...</td>\n",
              "      <td>News</td>\n",
              "      <td>December 31, 2017</td>\n",
              "      <td>0</td>\n",
              "    </tr>\n",
              "    <tr>\n",
              "      <th>2</th>\n",
              "      <td>Sheriff David Clarke Becomes An Internet Joke...</td>\n",
              "      <td>On Friday, it was revealed that former Milwauk...</td>\n",
              "      <td>News</td>\n",
              "      <td>December 30, 2017</td>\n",
              "      <td>0</td>\n",
              "    </tr>\n",
              "    <tr>\n",
              "      <th>3</th>\n",
              "      <td>Trump Is So Obsessed He Even Has Obama’s Name...</td>\n",
              "      <td>On Christmas day, Donald Trump announced that ...</td>\n",
              "      <td>News</td>\n",
              "      <td>December 29, 2017</td>\n",
              "      <td>0</td>\n",
              "    </tr>\n",
              "    <tr>\n",
              "      <th>4</th>\n",
              "      <td>Pope Francis Just Called Out Donald Trump Dur...</td>\n",
              "      <td>Pope Francis used his annual Christmas Day mes...</td>\n",
              "      <td>News</td>\n",
              "      <td>December 25, 2017</td>\n",
              "      <td>0</td>\n",
              "    </tr>\n",
              "    <tr>\n",
              "      <th>...</th>\n",
              "      <td>...</td>\n",
              "      <td>...</td>\n",
              "      <td>...</td>\n",
              "      <td>...</td>\n",
              "      <td>...</td>\n",
              "    </tr>\n",
              "    <tr>\n",
              "      <th>44893</th>\n",
              "      <td>'Fully committed' NATO backs new U.S. approach...</td>\n",
              "      <td>BRUSSELS (Reuters) - NATO allies on Tuesday we...</td>\n",
              "      <td>worldnews</td>\n",
              "      <td>August 22, 2017</td>\n",
              "      <td>1</td>\n",
              "    </tr>\n",
              "    <tr>\n",
              "      <th>44894</th>\n",
              "      <td>LexisNexis withdrew two products from Chinese ...</td>\n",
              "      <td>LONDON (Reuters) - LexisNexis, a provider of l...</td>\n",
              "      <td>worldnews</td>\n",
              "      <td>August 22, 2017</td>\n",
              "      <td>1</td>\n",
              "    </tr>\n",
              "    <tr>\n",
              "      <th>44895</th>\n",
              "      <td>Minsk cultural hub becomes haven from authorities</td>\n",
              "      <td>MINSK (Reuters) - In the shadow of disused Sov...</td>\n",
              "      <td>worldnews</td>\n",
              "      <td>August 22, 2017</td>\n",
              "      <td>1</td>\n",
              "    </tr>\n",
              "    <tr>\n",
              "      <th>44896</th>\n",
              "      <td>Vatican upbeat on possibility of Pope Francis ...</td>\n",
              "      <td>MOSCOW (Reuters) - Vatican Secretary of State ...</td>\n",
              "      <td>worldnews</td>\n",
              "      <td>August 22, 2017</td>\n",
              "      <td>1</td>\n",
              "    </tr>\n",
              "    <tr>\n",
              "      <th>44897</th>\n",
              "      <td>Indonesia to buy $1.14 billion worth of Russia...</td>\n",
              "      <td>JAKARTA (Reuters) - Indonesia will buy 11 Sukh...</td>\n",
              "      <td>worldnews</td>\n",
              "      <td>August 22, 2017</td>\n",
              "      <td>1</td>\n",
              "    </tr>\n",
              "  </tbody>\n",
              "</table>\n",
              "<p>44898 rows × 5 columns</p>\n",
              "</div>\n",
              "    <div class=\"colab-df-buttons\">\n",
              "\n",
              "  <div class=\"colab-df-container\">\n",
              "    <button class=\"colab-df-convert\" onclick=\"convertToInteractive('df-5a22fedf-dc9d-4f75-a3b8-5bf45958bc3d')\"\n",
              "            title=\"Convert this dataframe to an interactive table.\"\n",
              "            style=\"display:none;\">\n",
              "\n",
              "  <svg xmlns=\"http://www.w3.org/2000/svg\" height=\"24px\" viewBox=\"0 -960 960 960\">\n",
              "    <path d=\"M120-120v-720h720v720H120Zm60-500h600v-160H180v160Zm220 220h160v-160H400v160Zm0 220h160v-160H400v160ZM180-400h160v-160H180v160Zm440 0h160v-160H620v160ZM180-180h160v-160H180v160Zm440 0h160v-160H620v160Z\"/>\n",
              "  </svg>\n",
              "    </button>\n",
              "\n",
              "  <style>\n",
              "    .colab-df-container {\n",
              "      display:flex;\n",
              "      gap: 12px;\n",
              "    }\n",
              "\n",
              "    .colab-df-convert {\n",
              "      background-color: #E8F0FE;\n",
              "      border: none;\n",
              "      border-radius: 50%;\n",
              "      cursor: pointer;\n",
              "      display: none;\n",
              "      fill: #1967D2;\n",
              "      height: 32px;\n",
              "      padding: 0 0 0 0;\n",
              "      width: 32px;\n",
              "    }\n",
              "\n",
              "    .colab-df-convert:hover {\n",
              "      background-color: #E2EBFA;\n",
              "      box-shadow: 0px 1px 2px rgba(60, 64, 67, 0.3), 0px 1px 3px 1px rgba(60, 64, 67, 0.15);\n",
              "      fill: #174EA6;\n",
              "    }\n",
              "\n",
              "    .colab-df-buttons div {\n",
              "      margin-bottom: 4px;\n",
              "    }\n",
              "\n",
              "    [theme=dark] .colab-df-convert {\n",
              "      background-color: #3B4455;\n",
              "      fill: #D2E3FC;\n",
              "    }\n",
              "\n",
              "    [theme=dark] .colab-df-convert:hover {\n",
              "      background-color: #434B5C;\n",
              "      box-shadow: 0px 1px 3px 1px rgba(0, 0, 0, 0.15);\n",
              "      filter: drop-shadow(0px 1px 2px rgba(0, 0, 0, 0.3));\n",
              "      fill: #FFFFFF;\n",
              "    }\n",
              "  </style>\n",
              "\n",
              "    <script>\n",
              "      const buttonEl =\n",
              "        document.querySelector('#df-5a22fedf-dc9d-4f75-a3b8-5bf45958bc3d button.colab-df-convert');\n",
              "      buttonEl.style.display =\n",
              "        google.colab.kernel.accessAllowed ? 'block' : 'none';\n",
              "\n",
              "      async function convertToInteractive(key) {\n",
              "        const element = document.querySelector('#df-5a22fedf-dc9d-4f75-a3b8-5bf45958bc3d');\n",
              "        const dataTable =\n",
              "          await google.colab.kernel.invokeFunction('convertToInteractive',\n",
              "                                                    [key], {});\n",
              "        if (!dataTable) return;\n",
              "\n",
              "        const docLinkHtml = 'Like what you see? Visit the ' +\n",
              "          '<a target=\"_blank\" href=https://colab.research.google.com/notebooks/data_table.ipynb>data table notebook</a>'\n",
              "          + ' to learn more about interactive tables.';\n",
              "        element.innerHTML = '';\n",
              "        dataTable['output_type'] = 'display_data';\n",
              "        await google.colab.output.renderOutput(dataTable, element);\n",
              "        const docLink = document.createElement('div');\n",
              "        docLink.innerHTML = docLinkHtml;\n",
              "        element.appendChild(docLink);\n",
              "      }\n",
              "    </script>\n",
              "  </div>\n",
              "\n",
              "\n",
              "<div id=\"df-7c3b52d0-8d7a-4864-ab32-a8ecd7ddee3b\">\n",
              "  <button class=\"colab-df-quickchart\" onclick=\"quickchart('df-7c3b52d0-8d7a-4864-ab32-a8ecd7ddee3b')\"\n",
              "            title=\"Suggest charts\"\n",
              "            style=\"display:none;\">\n",
              "\n",
              "<svg xmlns=\"http://www.w3.org/2000/svg\" height=\"24px\"viewBox=\"0 0 24 24\"\n",
              "     width=\"24px\">\n",
              "    <g>\n",
              "        <path d=\"M19 3H5c-1.1 0-2 .9-2 2v14c0 1.1.9 2 2 2h14c1.1 0 2-.9 2-2V5c0-1.1-.9-2-2-2zM9 17H7v-7h2v7zm4 0h-2V7h2v10zm4 0h-2v-4h2v4z\"/>\n",
              "    </g>\n",
              "</svg>\n",
              "  </button>\n",
              "\n",
              "<style>\n",
              "  .colab-df-quickchart {\n",
              "      --bg-color: #E8F0FE;\n",
              "      --fill-color: #1967D2;\n",
              "      --hover-bg-color: #E2EBFA;\n",
              "      --hover-fill-color: #174EA6;\n",
              "      --disabled-fill-color: #AAA;\n",
              "      --disabled-bg-color: #DDD;\n",
              "  }\n",
              "\n",
              "  [theme=dark] .colab-df-quickchart {\n",
              "      --bg-color: #3B4455;\n",
              "      --fill-color: #D2E3FC;\n",
              "      --hover-bg-color: #434B5C;\n",
              "      --hover-fill-color: #FFFFFF;\n",
              "      --disabled-bg-color: #3B4455;\n",
              "      --disabled-fill-color: #666;\n",
              "  }\n",
              "\n",
              "  .colab-df-quickchart {\n",
              "    background-color: var(--bg-color);\n",
              "    border: none;\n",
              "    border-radius: 50%;\n",
              "    cursor: pointer;\n",
              "    display: none;\n",
              "    fill: var(--fill-color);\n",
              "    height: 32px;\n",
              "    padding: 0;\n",
              "    width: 32px;\n",
              "  }\n",
              "\n",
              "  .colab-df-quickchart:hover {\n",
              "    background-color: var(--hover-bg-color);\n",
              "    box-shadow: 0 1px 2px rgba(60, 64, 67, 0.3), 0 1px 3px 1px rgba(60, 64, 67, 0.15);\n",
              "    fill: var(--button-hover-fill-color);\n",
              "  }\n",
              "\n",
              "  .colab-df-quickchart-complete:disabled,\n",
              "  .colab-df-quickchart-complete:disabled:hover {\n",
              "    background-color: var(--disabled-bg-color);\n",
              "    fill: var(--disabled-fill-color);\n",
              "    box-shadow: none;\n",
              "  }\n",
              "\n",
              "  .colab-df-spinner {\n",
              "    border: 2px solid var(--fill-color);\n",
              "    border-color: transparent;\n",
              "    border-bottom-color: var(--fill-color);\n",
              "    animation:\n",
              "      spin 1s steps(1) infinite;\n",
              "  }\n",
              "\n",
              "  @keyframes spin {\n",
              "    0% {\n",
              "      border-color: transparent;\n",
              "      border-bottom-color: var(--fill-color);\n",
              "      border-left-color: var(--fill-color);\n",
              "    }\n",
              "    20% {\n",
              "      border-color: transparent;\n",
              "      border-left-color: var(--fill-color);\n",
              "      border-top-color: var(--fill-color);\n",
              "    }\n",
              "    30% {\n",
              "      border-color: transparent;\n",
              "      border-left-color: var(--fill-color);\n",
              "      border-top-color: var(--fill-color);\n",
              "      border-right-color: var(--fill-color);\n",
              "    }\n",
              "    40% {\n",
              "      border-color: transparent;\n",
              "      border-right-color: var(--fill-color);\n",
              "      border-top-color: var(--fill-color);\n",
              "    }\n",
              "    60% {\n",
              "      border-color: transparent;\n",
              "      border-right-color: var(--fill-color);\n",
              "    }\n",
              "    80% {\n",
              "      border-color: transparent;\n",
              "      border-right-color: var(--fill-color);\n",
              "      border-bottom-color: var(--fill-color);\n",
              "    }\n",
              "    90% {\n",
              "      border-color: transparent;\n",
              "      border-bottom-color: var(--fill-color);\n",
              "    }\n",
              "  }\n",
              "</style>\n",
              "\n",
              "  <script>\n",
              "    async function quickchart(key) {\n",
              "      const quickchartButtonEl =\n",
              "        document.querySelector('#' + key + ' button');\n",
              "      quickchartButtonEl.disabled = true;  // To prevent multiple clicks.\n",
              "      quickchartButtonEl.classList.add('colab-df-spinner');\n",
              "      try {\n",
              "        const charts = await google.colab.kernel.invokeFunction(\n",
              "            'suggestCharts', [key], {});\n",
              "      } catch (error) {\n",
              "        console.error('Error during call to suggestCharts:', error);\n",
              "      }\n",
              "      quickchartButtonEl.classList.remove('colab-df-spinner');\n",
              "      quickchartButtonEl.classList.add('colab-df-quickchart-complete');\n",
              "    }\n",
              "    (() => {\n",
              "      let quickchartButtonEl =\n",
              "        document.querySelector('#df-7c3b52d0-8d7a-4864-ab32-a8ecd7ddee3b button');\n",
              "      quickchartButtonEl.style.display =\n",
              "        google.colab.kernel.accessAllowed ? 'block' : 'none';\n",
              "    })();\n",
              "  </script>\n",
              "</div>\n",
              "\n",
              "  <div id=\"id_f16e6def-4fe2-4ccc-a1e3-07b6b455779d\">\n",
              "    <style>\n",
              "      .colab-df-generate {\n",
              "        background-color: #E8F0FE;\n",
              "        border: none;\n",
              "        border-radius: 50%;\n",
              "        cursor: pointer;\n",
              "        display: none;\n",
              "        fill: #1967D2;\n",
              "        height: 32px;\n",
              "        padding: 0 0 0 0;\n",
              "        width: 32px;\n",
              "      }\n",
              "\n",
              "      .colab-df-generate:hover {\n",
              "        background-color: #E2EBFA;\n",
              "        box-shadow: 0px 1px 2px rgba(60, 64, 67, 0.3), 0px 1px 3px 1px rgba(60, 64, 67, 0.15);\n",
              "        fill: #174EA6;\n",
              "      }\n",
              "\n",
              "      [theme=dark] .colab-df-generate {\n",
              "        background-color: #3B4455;\n",
              "        fill: #D2E3FC;\n",
              "      }\n",
              "\n",
              "      [theme=dark] .colab-df-generate:hover {\n",
              "        background-color: #434B5C;\n",
              "        box-shadow: 0px 1px 3px 1px rgba(0, 0, 0, 0.15);\n",
              "        filter: drop-shadow(0px 1px 2px rgba(0, 0, 0, 0.3));\n",
              "        fill: #FFFFFF;\n",
              "      }\n",
              "    </style>\n",
              "    <button class=\"colab-df-generate\" onclick=\"generateWithVariable('combined_df')\"\n",
              "            title=\"Generate code using this dataframe.\"\n",
              "            style=\"display:none;\">\n",
              "\n",
              "  <svg xmlns=\"http://www.w3.org/2000/svg\" height=\"24px\"viewBox=\"0 0 24 24\"\n",
              "       width=\"24px\">\n",
              "    <path d=\"M7,19H8.4L18.45,9,17,7.55,7,17.6ZM5,21V16.75L18.45,3.32a2,2,0,0,1,2.83,0l1.4,1.43a1.91,1.91,0,0,1,.58,1.4,1.91,1.91,0,0,1-.58,1.4L9.25,21ZM18.45,9,17,7.55Zm-12,3A5.31,5.31,0,0,0,4.9,8.1,5.31,5.31,0,0,0,1,6.5,5.31,5.31,0,0,0,4.9,4.9,5.31,5.31,0,0,0,6.5,1,5.31,5.31,0,0,0,8.1,4.9,5.31,5.31,0,0,0,12,6.5,5.46,5.46,0,0,0,6.5,12Z\"/>\n",
              "  </svg>\n",
              "    </button>\n",
              "    <script>\n",
              "      (() => {\n",
              "      const buttonEl =\n",
              "        document.querySelector('#id_f16e6def-4fe2-4ccc-a1e3-07b6b455779d button.colab-df-generate');\n",
              "      buttonEl.style.display =\n",
              "        google.colab.kernel.accessAllowed ? 'block' : 'none';\n",
              "\n",
              "      buttonEl.onclick = () => {\n",
              "        google.colab.notebook.generateWithVariable('combined_df');\n",
              "      }\n",
              "      })();\n",
              "    </script>\n",
              "  </div>\n",
              "\n",
              "    </div>\n",
              "  </div>\n"
            ],
            "application/vnd.google.colaboratory.intrinsic+json": {
              "type": "dataframe",
              "variable_name": "combined_df",
              "summary": "{\n  \"name\": \"combined_df\",\n  \"rows\": 44898,\n  \"fields\": [\n    {\n      \"column\": \"title\",\n      \"properties\": {\n        \"dtype\": \"string\",\n        \"num_unique_values\": 38729,\n        \"samples\": [\n          \"Supreme Court Justice Ginsburg 'regrets' Trump criticisms\",\n          \" DOZENS Of GOP Foreign Policy Experts Pledge To Stop Trump From Winning Nomination\",\n          \" REPORT: Trump Laughed After Woman Was Grabbed \\u2018By The P*ssy\\u2019 On Apprentice Set\"\n        ],\n        \"semantic_type\": \"\",\n        \"description\": \"\"\n      }\n    },\n    {\n      \"column\": \"text\",\n      \"properties\": {\n        \"dtype\": \"string\",\n        \"num_unique_values\": 38646,\n        \"samples\": [\n          \" (This September 29 has been corrected to fix date of election in paragraph 3) NAIROBI (Reuters) - A Kenyan government watchdog said on Friday it was investigating whether police had assaulted students during protests this week at the University of Nairobi over the detention of an opposition lawmaker.   Police fired tear gas on Thursday at the protesting students. Video footage posted on social media later in the day showed uniformed officers outside dormitories and inside classrooms using batons to hit people who did not appear to be involved in the campus protests.  It was the latest crackdown by police on protests since an Aug. 8 presidential election that was later annulled by the Supreme Court. A re-run of the vote has been set for Oct. 26. The Independent Police Oversight Authority (IPOA)  this morning noted from social media reports of an incident in which members of the National Police Service allegedly stormed the University of Nairobi and assaulted students at the institution,  the authority said on its Twitter feed.  It requested that any member of the public come forward to provide information to aid the investigation.  The students had been protesting against the re-arrest of a lawmaker, Paul Ongili Owino, on Wednesday, shortly after he was released on bail on charges of subversion for calling President Uhuru Kenyatta a  son of a dog  at a campaign rally. Kenya is a key Western ally in a region often roiled by violence. Preparations for the re-run of the election are being closely monitored for signs of instability, after at least 28 people were killed in unrest following the Aug. 8 vote. The IPOA watchdog was created in 2011, after police came under severe criticism for the number of protesters killed during demonstrations against disputed elections in 2007. The violence then killed around 1,2000 people. But local and international rights groups say the institution is struggling to fulfill its mandate to investigate allegations of police brutality in a country rife with reports from civilians of extrajudicial killings by security forces.  The IPOA has secured two convictions of police officers in the four years it has been operational. The watchdog pledged last month to fast-track investigations into high-profile deaths such as that of a baby allegedly killed by police in the violence after the election. [L4N1L34FC] But people familiar with the status of these investigations say the police are not cooperating with them, and that senior officials in the police force and the interior ministry insist officers killed only thieves and thugs. \",\n          \"WASHINGTON/CAIRO (Reuters) - Five Iraqi passengers and one Yemeni were barred from boarding an EgyptAir flight from Cairo to New York on Saturday after President Donald Trump halted the entry of citizens from seven Muslim-majority countries, sources at Cairo airport said. The passengers, arriving in transit to Cairo airport, were stopped and re-directed to flights headed for their home countries despite holding valid visas, the sources said.  Trump on Friday put a four-month hold on allowing refugees into the United States and temporarily barred travelers from Syria and six other Muslim-majority countries, saying the moves would help protect Americans from terrorist attacks. He said his most sweeping use of his presidential powers since taking office a week ago, barring travelers from the seven nations for at least 90 days, would give his administration time to develop more stringent screening procedures for refugees, immigrants and visitors. \\u201cI\\u2019m establishing new vetting measures to keep radical Islamic terrorists out of the United States of America. Don\\u2019t want them here,\\u201d Trump said earlier on Friday at the Pentagon. \\u201cWe only want to admit those into our country who will support our country and love deeply our people,\\u201d he said. The bans, though temporary, took effect immediately, causing havoc and confusion for would-be travelers with passports from Iran, Iraq, Libya, Somalia, Sudan, Syria and Yemen. Besides Cairo it was not immediately clear whether other  airports of countries listed by Trump had swiftly implemented the ban. Arab officials of the listed countries would not comment on the matter. The order seeks to prioritize refugees fleeing religious persecution, a move Trump separately said was aimed at helping Christians in Syria. That led some legal experts to question whether the order was constitutional. One group said it would announce a court challenge on Monday. The Council on American-Islamic Relations said the order targets Muslims because of their faith, contravening the U.S. Constitutional right to freedom of religion. \\u201cPresident Trump has cloaked what is a discriminatory ban against nationals of Muslim countries under the banner of national security,\\u201d said Greg Chen of the American Immigration Lawyers Association.  Trump has long pledged to take this kind of action, making it a prominent feature of his campaign for the Nov. 8 election. But people who work with Muslim immigrants and refugees were scrambling to determine the scope of the order. Even legal permanent residents - people with \\u201cgreen cards\\u201d allowing them to live and work in the United States - were being advised to consult immigration lawyers before traveling outside the country, or trying to return, according to Muslim Advocates, a civil rights group in Washington.  On Friday evening, Abed Ayoub of the American-Arab Anti-Discrimination Committee said he had fielded about 100 queries from people anxious about the order, which he said he believed could affect traveling green card holders, students, people coming to the United States for medical care and others. \\u201cIt\\u2019s chaos,\\u201d Ayoub said. During his campaign, Trump tapped into American fears about Islamic State militants and the flood of migrants into Europe from Syria\\u2019s civil war, saying refugees could be a \\u201cTrojan horse\\u201d that allowed attackers to enter the United States. In December 2015, he called for a ban on all Muslims entering the United States, drawing fire for suggesting a religious test for immigrants that critics said would violate the U.S. Constitution. His idea later evolved into a proposal for \\u201cextreme vetting.\\u201d  Trump\\u2019s order also suspends the Syrian refugee program until further notice, and will eventually give priority to minority religious groups fleeing persecution.  Trump said in an interview with the Christian Broadcasting Network that the exception would help Syrian Christians fleeing the civil war there. Legal experts were divided on whether this order would be constitutional. \\u201cIf they are thinking about an exception for Christians, in almost any other legal context discriminating in favor of one religion and against another religion could violate the constitution,\\u201d said Stephen Legomsky, a former chief counsel at U.S. Citizenship and Immigration Services in the Obama administration. But Peter Spiro, a professor at Temple University Beasley School of Law, said Trump\\u2019s action would likely be constitutional because the president and Congress are allowed considerable deference when it comes to asylum decisions. \\u201cIt\\u2019s a completely plausible prioritization, to the extent this group is actually being persecuted,\\u201d Spiro said. The order may also affect special refugee programs for Iraqis who worked for the U.S. government as translators after the 2003 invasion of Iraq. It is already affecting refugees and their families, said Jen Smyers of the Church World Service, a Protestant faith-based group that works with migrants. Smyers said she spoke to an Iraqi mother whose twin daughters remain in Iraq due to processing delays. \\u201cThose two 18-year-old daughters won\\u2019t be able to join their mother in the U.S.,\\u201d she said. Democrats on Friday were quick to condemn Trump\\u2019s order as un-American, saying it would tarnish the reputation of the United States as a land that welcomes immigrants. \\u201cToday\\u2019s executive order from President Trump is more about extreme xenophobia than extreme vetting,\\u201d said Democratic Senator Edward Markey in a statement. Some Republicans praised the move. Representative Bob Goodlatte, chairman of the House of Representatives Judiciary Committee, said Islamic State has threatened to use the U.S. immigration system, making it important to do more screening. \\u201cI am pleased that President Trump is using the tools granted to him by Congress and the power granted by the Constitution to help keep America safe and ensure we know who is entering the United States,\\u201d Goodlatte said in a statement. Without naming Trump, Iranian President Hassan Rouhani said on Saturday it was no time to build walls between nations and criticized steps towards cancelling world trade agreements. Trump on Wednesday ordered the construction of a U.S.-Mexican border wall, a major promise during his election campaign, as part of a package of measures to curb illegal immigration. \\u201cToday is not the time to erect walls between nations. They have forgotten that the Berlin wall fell years ago,\\u201d Rouhani said in a speech carried live on Iranian state television. He made no direct reference to Trump\\u2019s order regarding refugees and travelers from the seven mainly Muslim states. Rouhani, a pragmatist elected in 2013, thawed Iran\\u2019s relations with world powers after years of confrontation and engineered its 2015 deal with them under which it curbed its nuclear program in exchange for relief from sanctions. Rouhani said earlier this month that Trump could not unilaterally cancel the nuclear deal and that talk of renegotiating it was \\u201cmeaningless\\u201d. France and Germany voiced disquiet on Saturday over Trump\\u2019s new restrictions on immigration. \\u201cWelcoming refugees who flee war and oppression is part of our duty,\\u201d French Foreign Minister Jean-Marc Ayrault said at a joint news conference with German counterpart Sigmar Gabriel. \\u201cThe United States is a country where Christian traditions have an important meaning. Loving your neighbor is a major Christian value, and that includes helping people,\\u201d said  Gabriel. \\u201cI think that is what unites us in the West, and I think that is what we want to make clear to the Americans.\\u201d \",\n          \"PRISTINA (Reuters) - Kosovo s center-right coalition led by the Democratic Party of Kosovo signed a deal on Monday with the small New Alliance for Kosovo party to form a government, ending nearly three months of political deadlock after an election on June 11.      Finally Kosovo has started to move ... we had some big delays and our institutions now will be formed,  said Ramush Haradinaj, from the center-right coalition of parties made up of former guerrillas who fought the 1998-99 war against Serb forces. Under the deal, the parties along with ethnic minorities will secure 63 seats in the 120-seat parliament.  President Hashim Thaci is expected to give Haradinaj a mandate to form the government within days. A source who asked not to be named told Reuters the parliament session to elect the parliament speaker would be held this week. Haradinaj, who twice stood trial before the United Nations war crimes court for war crimes and was acquitted, briefly held the post of prime minister in 2005.  The smaller New Alliance for Kosovo party is led by Behgjet Pacolli, who is dubbed by media the richest Kosovar.  Pacolli, who also holds a Swiss passport, won many contracts from the Russian government to rebuild state buildings in Moscow in the  90s but a decade ago he moved his business from Moscow to Kazakhstan.  It is unclear what post Pacolli will hold in the new government.  The new government will have to tackle unemployment running at 30 percent and improve relations with Kosovo s neighbors, especially Serbia, a precondition for both countries to move forward in the European Union accession process. It must also reform health and education and the tax administration system as well as include representatives of some 120,000 Kosovo Serbs who do not recognize independence. Kosovo declared independence from Serbia in 2008, almost a decade after NATO air strikes drove out Serbian forces accused of expelling and killing ethnic Albanian civilians in a two-year counter-insurgency.  \"\n        ],\n        \"semantic_type\": \"\",\n        \"description\": \"\"\n      }\n    },\n    {\n      \"column\": \"subject\",\n      \"properties\": {\n        \"dtype\": \"category\",\n        \"num_unique_values\": 8,\n        \"samples\": [\n          \"politics\",\n          \"Middle-east\",\n          \"News\"\n        ],\n        \"semantic_type\": \"\",\n        \"description\": \"\"\n      }\n    },\n    {\n      \"column\": \"date\",\n      \"properties\": {\n        \"dtype\": \"category\",\n        \"num_unique_values\": 2397,\n        \"samples\": [\n          \"October 6, 2016\",\n          \"June 10, 2017\",\n          \"Sep 13, 2015\"\n        ],\n        \"semantic_type\": \"\",\n        \"description\": \"\"\n      }\n    },\n    {\n      \"column\": \"label\",\n      \"properties\": {\n        \"dtype\": \"number\",\n        \"std\": 0,\n        \"min\": 0,\n        \"max\": 1,\n        \"num_unique_values\": 2,\n        \"samples\": [\n          1,\n          0\n        ],\n        \"semantic_type\": \"\",\n        \"description\": \"\"\n      }\n    }\n  ]\n}"
            }
          },
          "metadata": {},
          "execution_count": 3
        }
      ],
      "source": [
        "combined_df"
      ]
    },
    {
      "cell_type": "markdown",
      "source": [
        "# Setando campos como categóricos"
      ],
      "metadata": {
        "id": "RAGOlajxjeVa"
      },
      "id": "RAGOlajxjeVa"
    },
    {
      "cell_type": "code",
      "source": [
        "combined_df.dtypes"
      ],
      "metadata": {
        "id": "iQjPIxrDjsVf",
        "outputId": "b11f6653-168b-45fc-8fe6-37962bf0e2a9",
        "colab": {
          "base_uri": "https://localhost:8080/"
        }
      },
      "id": "iQjPIxrDjsVf",
      "execution_count": 18,
      "outputs": [
        {
          "output_type": "execute_result",
          "data": {
            "text/plain": [
              "title      object\n",
              "text       object\n",
              "subject    object\n",
              "date       object\n",
              "label       int64\n",
              "dtype: object"
            ]
          },
          "metadata": {},
          "execution_count": 18
        }
      ]
    },
    {
      "cell_type": "code",
      "source": [
        "combined_df['subject'] = combined_df['subject'].astype('category')"
      ],
      "metadata": {
        "id": "_mqkbvISlhIT"
      },
      "id": "_mqkbvISlhIT",
      "execution_count": 19,
      "outputs": []
    },
    {
      "cell_type": "code",
      "source": [
        "combined_df.dtypes"
      ],
      "metadata": {
        "id": "Swg9YjI1lvNm",
        "outputId": "18ba9f08-f98e-4bd3-bc34-1baa2717a40b",
        "colab": {
          "base_uri": "https://localhost:8080/"
        }
      },
      "id": "Swg9YjI1lvNm",
      "execution_count": 20,
      "outputs": [
        {
          "output_type": "execute_result",
          "data": {
            "text/plain": [
              "title        object\n",
              "text         object\n",
              "subject    category\n",
              "date         object\n",
              "label         int64\n",
              "dtype: object"
            ]
          },
          "metadata": {},
          "execution_count": 20
        }
      ]
    },
    {
      "cell_type": "code",
      "source": [
        "combined_df['subject'] = combined_df['subject'].cat.codes"
      ],
      "metadata": {
        "id": "67f1Tx1Sl0uK"
      },
      "id": "67f1Tx1Sl0uK",
      "execution_count": 23,
      "outputs": []
    },
    {
      "cell_type": "code",
      "source": [
        "combined_df['subject'].unique()"
      ],
      "metadata": {
        "id": "zYtOuLH8mhiU",
        "outputId": "67ba7be7-3860-463f-f4a0-324284a4eb6e",
        "colab": {
          "base_uri": "https://localhost:8080/"
        }
      },
      "id": "zYtOuLH8mhiU",
      "execution_count": 25,
      "outputs": [
        {
          "output_type": "execute_result",
          "data": {
            "text/plain": [
              "array([2, 5, 0, 4, 3, 1, 6, 7], dtype=int8)"
            ]
          },
          "metadata": {},
          "execution_count": 25
        }
      ]
    },
    {
      "cell_type": "code",
      "source": [
        "combined_df.dtypes"
      ],
      "metadata": {
        "id": "xbulBfpsmoxN",
        "outputId": "575013a4-e098-4924-a9ee-def6b9ee30a7",
        "colab": {
          "base_uri": "https://localhost:8080/"
        }
      },
      "id": "xbulBfpsmoxN",
      "execution_count": 26,
      "outputs": [
        {
          "output_type": "execute_result",
          "data": {
            "text/plain": [
              "title      object\n",
              "text       object\n",
              "subject      int8\n",
              "date       object\n",
              "label       int64\n",
              "dtype: object"
            ]
          },
          "metadata": {},
          "execution_count": 26
        }
      ]
    },
    {
      "cell_type": "markdown",
      "id": "e32cf869-2e8d-4713-a981-94b3403b06a2",
      "metadata": {
        "id": "e32cf869-2e8d-4713-a981-94b3403b06a2"
      },
      "source": [
        "# Verificando valores nulos e vazios"
      ]
    },
    {
      "cell_type": "code",
      "execution_count": 27,
      "id": "c6486bd3e3c44c4",
      "metadata": {
        "id": "c6486bd3e3c44c4",
        "outputId": "3cfab718-e595-461e-8663-af8229d2cd3e",
        "colab": {
          "base_uri": "https://localhost:8080/"
        }
      },
      "outputs": [
        {
          "output_type": "execute_result",
          "data": {
            "text/plain": [
              "title      0\n",
              "text       0\n",
              "subject    0\n",
              "date       0\n",
              "label      0\n",
              "dtype: int64"
            ]
          },
          "metadata": {},
          "execution_count": 27
        }
      ],
      "source": [
        "# verificando valores nulo\n",
        "combined_df.isnull().sum()"
      ]
    },
    {
      "cell_type": "code",
      "execution_count": 28,
      "id": "f2568eca-2d20-4e75-8cd5-474ad652237d",
      "metadata": {
        "id": "f2568eca-2d20-4e75-8cd5-474ad652237d",
        "outputId": "02c8ad47-7578-4eaa-b8ff-7b441bddfbef",
        "colab": {
          "base_uri": "https://localhost:8080/"
        }
      },
      "outputs": [
        {
          "output_type": "execute_result",
          "data": {
            "text/plain": [
              "0"
            ]
          },
          "metadata": {},
          "execution_count": 28
        }
      ],
      "source": [
        "# verificando valores vazios de titulo\n",
        "remove_spaces = lambda x: ''.join(x.split()) if type(x) == str else x\n",
        "empty_values = combined_df.applymap(remove_spaces)\n",
        "empty_values['title'] = empty_values['title'] == ''\n",
        "len(empty_values[empty_values['title'] == True])"
      ]
    },
    {
      "cell_type": "code",
      "execution_count": 29,
      "id": "2f793eb2-1eb3-4f86-a58f-03a3f7ae7469",
      "metadata": {
        "id": "2f793eb2-1eb3-4f86-a58f-03a3f7ae7469",
        "outputId": "97c27482-99ae-4a0a-a03b-1e913cd62196",
        "colab": {
          "base_uri": "https://localhost:8080/"
        }
      },
      "outputs": [
        {
          "output_type": "execute_result",
          "data": {
            "text/plain": [
              "631"
            ]
          },
          "metadata": {},
          "execution_count": 29
        }
      ],
      "source": [
        "# verificando valores vazios de texto\n",
        "remove_spaces = lambda x: ''.join(x.split()) if type(x) == str else x\n",
        "empty_values = combined_df.applymap(remove_spaces)\n",
        "empty_values['text'] = empty_values['text'] == ''\n",
        "len(empty_values[empty_values['text'] == True])"
      ]
    },
    {
      "cell_type": "code",
      "source": [
        "# verificando valores vazios de tipo de conteúdo\n",
        "remove_spaces = lambda x: ''.join(x.split()) if type(x) == str else x\n",
        "empty_values = combined_df.applymap(remove_spaces)\n",
        "empty_values['subject'] = empty_values['subject'] == ''\n",
        "len(empty_values[empty_values['subject'] == True])"
      ],
      "metadata": {
        "id": "nsq1FoSBimsI",
        "outputId": "c1861251-b54a-452b-d2f4-bdc510691ef0",
        "colab": {
          "base_uri": "https://localhost:8080/"
        }
      },
      "id": "nsq1FoSBimsI",
      "execution_count": 30,
      "outputs": [
        {
          "output_type": "execute_result",
          "data": {
            "text/plain": [
              "0"
            ]
          },
          "metadata": {},
          "execution_count": 30
        }
      ]
    },
    {
      "cell_type": "markdown",
      "id": "be4b4619-7afd-4038-8dbe-1a9097694ebf",
      "metadata": {
        "id": "be4b4619-7afd-4038-8dbe-1a9097694ebf"
      },
      "source": [
        "# Removendo valores vazios"
      ]
    },
    {
      "cell_type": "code",
      "execution_count": 31,
      "id": "f2639eda-c1a5-4f82-880c-a7ec73494d49",
      "metadata": {
        "id": "f2639eda-c1a5-4f82-880c-a7ec73494d49",
        "outputId": "766b3b80-eab7-4a18-e3ce-00dfcf84e8b7",
        "colab": {
          "base_uri": "https://localhost:8080/"
        }
      },
      "outputs": [
        {
          "output_type": "stream",
          "name": "stdout",
          "text": [
            "total de linhas  44898\n",
            "total de linhas após remoção 44267\n",
            "total de linhas removidas  631\n"
          ]
        }
      ],
      "source": [
        "print('total de linhas ', len(combined_df))\n",
        "dt = combined_df.applymap(remove_spaces)\n",
        "dt = dt[dt['text'] != '']\n",
        "\n",
        "print('total de linhas após remoção', len(dt))\n",
        "print('total de linhas removidas ', len(combined_df) - len(dt))"
      ]
    },
    {
      "cell_type": "code",
      "execution_count": 31,
      "id": "da7106e4-2ba1-4c4b-bba6-f370abcff4dd",
      "metadata": {
        "id": "da7106e4-2ba1-4c4b-bba6-f370abcff4dd"
      },
      "outputs": [],
      "source": []
    }
  ],
  "metadata": {
    "kernelspec": {
      "display_name": "Python 3 (ipykernel)",
      "language": "python",
      "name": "python3"
    },
    "language_info": {
      "codemirror_mode": {
        "name": "ipython",
        "version": 3
      },
      "file_extension": ".py",
      "mimetype": "text/x-python",
      "name": "python",
      "nbconvert_exporter": "python",
      "pygments_lexer": "ipython3",
      "version": "3.12.3"
    },
    "colab": {
      "provenance": []
    }
  },
  "nbformat": 4,
  "nbformat_minor": 5
}